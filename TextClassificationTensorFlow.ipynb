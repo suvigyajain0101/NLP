{
  "nbformat": 4,
  "nbformat_minor": 0,
  "metadata": {
    "colab": {
      "name": "TextClassificationTensorFlow.ipynb",
      "provenance": [],
      "authorship_tag": "ABX9TyPQa0OYIQ7olOuW4KtX5UKd"
    },
    "kernelspec": {
      "name": "python3",
      "display_name": "Python 3"
    },
    "language_info": {
      "name": "python"
    }
  },
  "cells": [
    {
      "cell_type": "code",
      "execution_count": 1,
      "metadata": {
        "id": "paGFo3kOLw4e"
      },
      "outputs": [],
      "source": [
        "import os\n",
        "import numpy as np\n",
        "\n",
        "import tensorflow as tf\n",
        "import tensorflow_hub as hub\n",
        "import tensorflow_datasets as tfds\n",
        "\n",
        "print(\"Version: \", tf.__version__)\n",
        "print(\"Eager mode: \", tf.executing_eagerly())\n",
        "print(\"Hub version: \", hub.__version__)\n",
        "print(\"GPU is\", \"available\" if tf.config.list_physical_devices(\"GPU\") else \"NOT AVAILABLE\")"
      ]
    },
    {
      "cell_type": "code",
      "source": [
        "(train_data, validation_data, test_data), ds_info  = tfds.load('ag_news_subset', \n",
        "                      split=('train[:60%]', 'train[60%:]', 'test'),\n",
        "                      as_supervised=True,\n",
        "                      with_info=True)"
      ],
      "metadata": {
        "id": "ODok7k12QD3N"
      },
      "execution_count": 14,
      "outputs": []
    },
    {
      "cell_type": "markdown",
      "source": [
        "## EDA"
      ],
      "metadata": {
        "id": "_uae1cASQqIL"
      }
    },
    {
      "cell_type": "code",
      "source": [
        "# Firstly, let's print dataset info by tensorflow\n",
        "# This is returned by tfds.load constructor. That's pretty cool, btw!"
      ],
      "metadata": {
        "id": "6R8oVbwdVail"
      },
      "execution_count": 23,
      "outputs": []
    },
    {
      "cell_type": "code",
      "source": [
        "ds_info"
      ],
      "metadata": {
        "colab": {
          "base_uri": "https://localhost:8080/"
        },
        "id": "oQp2CqFhVfoK",
        "outputId": "81125de5-8fa4-4093-c516-91517c7f00fb"
      },
      "execution_count": 24,
      "outputs": [
        {
          "output_type": "execute_result",
          "data": {
            "text/plain": [
              "tfds.core.DatasetInfo(\n",
              "    name='ag_news_subset',\n",
              "    version=1.0.0,\n",
              "    description='AG is a collection of more than 1 million news articles.\n",
              "News articles have been gathered from more than 2000  news sources by ComeToMyHead in more than 1 year of activity.\n",
              "ComeToMyHead is an academic news search engine which has been running since July, 2004.\n",
              "The dataset is provided by the academic comunity for research purposes in data mining (clustering, classification, etc),\n",
              "information retrieval (ranking, search, etc), xml, data compression, data streaming,\n",
              "and any other non-commercial activity.\n",
              "For more information, please refer to the link http://www.di.unipi.it/~gulli/AG_corpus_of_news_articles.html .\n",
              "\n",
              "The AG's news topic classification dataset is constructed by Xiang Zhang (xiang.zhang@nyu.edu) from the dataset above.\n",
              "It is used as a text classification benchmark in the following paper:\n",
              "Xiang Zhang, Junbo Zhao, Yann LeCun. Character-level Convolutional Networks for Text Classification. Advances in Neural Information Processing Systems 28 (NIPS 2015).\n",
              "\n",
              "The AG's news topic classification dataset is constructed by choosing 4 largest classes from the original corpus.\n",
              "Each class contains 30,000 training samples and 1,900 testing samples.\n",
              "The total number of training samples is 120,000 and testing 7,600.',\n",
              "    homepage='https://arxiv.org/abs/1509.01626',\n",
              "    features=FeaturesDict({\n",
              "        'description': Text(shape=(), dtype=tf.string),\n",
              "        'label': ClassLabel(shape=(), dtype=tf.int64, num_classes=4),\n",
              "        'title': Text(shape=(), dtype=tf.string),\n",
              "    }),\n",
              "    total_num_examples=127600,\n",
              "    splits={\n",
              "        'test': 7600,\n",
              "        'train': 120000,\n",
              "    },\n",
              "    supervised_keys=('description', 'label'),\n",
              "    citation=\"\"\"@misc{zhang2015characterlevel,\n",
              "        title={Character-level Convolutional Networks for Text Classification},\n",
              "        author={Xiang Zhang and Junbo Zhao and Yann LeCun},\n",
              "        year={2015},\n",
              "        eprint={1509.01626},\n",
              "        archivePrefix={arXiv},\n",
              "        primaryClass={cs.LG}\n",
              "    }\"\"\",\n",
              "    redistribution_info=,\n",
              ")"
            ]
          },
          "metadata": {},
          "execution_count": 24
        }
      ]
    },
    {
      "cell_type": "code",
      "source": [
        "# We have 120000 records for training, and 7600 for testing\n",
        "# Total unique classes are 4 - 0,1,2,3\n",
        "# Let's print first few examples"
      ],
      "metadata": {
        "id": "lW1jeOraV7bU"
      },
      "execution_count": null,
      "outputs": []
    },
    {
      "cell_type": "code",
      "source": [
        "train_examples_batch, train_labels_batch = next(iter(train_data.batch(4)))\n",
        "train_examples_batch, train_labels_batch"
      ],
      "metadata": {
        "colab": {
          "base_uri": "https://localhost:8080/"
        },
        "id": "kmG8oaAoS89_",
        "outputId": "edf824ab-3138-405f-cd7a-7c9d54ca5581"
      },
      "execution_count": 27,
      "outputs": [
        {
          "output_type": "execute_result",
          "data": {
            "text/plain": [
              "(<tf.Tensor: shape=(4,), dtype=string, numpy=\n",
              " array([b'AMD #39;s new dual-core Opteron chip is designed mainly for corporate computing applications, including databases, Web services, and financial transactions.',\n",
              "        b'Reuters - Major League Baseball\\\\Monday announced a decision on the appeal filed by Chicago Cubs\\\\pitcher Kerry Wood regarding a suspension stemming from an\\\\incident earlier this season.',\n",
              "        b'President Bush #39;s  quot;revenue-neutral quot; tax reform needs losers to balance its winners, and people claiming the federal deduction for state and local taxes may be in administration planners #39; sights, news reports say.',\n",
              "        b'Britain will run out of leading scientists unless science education is improved, says Professor Colin Pillinger.'],\n",
              "       dtype=object)>,\n",
              " <tf.Tensor: shape=(4,), dtype=int64, numpy=array([3, 1, 2, 3])>)"
            ]
          },
          "metadata": {},
          "execution_count": 27
        }
      ]
    },
    {
      "cell_type": "code",
      "source": [
        "# Let's check total examples for train, validation and test"
      ],
      "metadata": {
        "id": "IZFZ2cBLW2LJ"
      },
      "execution_count": null,
      "outputs": []
    },
    {
      "cell_type": "code",
      "source": [
        "print(f'Total size of the Training dataset : {tf.data.experimental.cardinality(train_data)}')\n",
        "print(f'Total size of the Training dataset : {tf.data.experimental.cardinality(validation_data)}')\n",
        "print(f'Total size of the Training dataset : {tf.data.experimental.cardinality(test_data)}')"
      ],
      "metadata": {
        "colab": {
          "base_uri": "https://localhost:8080/"
        },
        "id": "qgLb_n9sW6DL",
        "outputId": "8429ad81-9ab8-4c8f-e046-7444ae1c5547"
      },
      "execution_count": 33,
      "outputs": [
        {
          "output_type": "stream",
          "name": "stdout",
          "text": [
            "Total size of the Training dataset : 72000\n",
            "Total size of the Training dataset : 48000\n",
            "Total size of the Training dataset : 7600\n"
          ]
        }
      ]
    },
    {
      "cell_type": "code",
      "source": [
        "# Next, unique labels. Although this is available in the desc, but still good to know the method!\n",
        "# Since TF datasets are lazily evaluated, the next code block might be slow"
      ],
      "metadata": {
        "id": "MU-u0NmSXsA5"
      },
      "execution_count": null,
      "outputs": []
    },
    {
      "cell_type": "code",
      "source": [
        "text, labels = tuple(zip(*train_data))\n",
        "\n",
        "np_text = np.array(text)\n",
        "np_labels = np.array(labels)\n",
        "\n",
        "print('Unique Labels for training : ', list(set(np_labels)))"
      ],
      "metadata": {
        "colab": {
          "base_uri": "https://localhost:8080/"
        },
        "id": "SjCst1sOTiPb",
        "outputId": "f9f01926-ffd3-44c9-b627-c69737b101ee"
      },
      "execution_count": 35,
      "outputs": [
        {
          "output_type": "stream",
          "name": "stdout",
          "text": [
            "Unique Labels for training :  [0, 1, 2, 3]\n"
          ]
        }
      ]
    },
    {
      "cell_type": "code",
      "source": [
        "# Next, few useful TF functions "
      ],
      "metadata": {
        "id": "p8v6YkjYYSWp"
      },
      "execution_count": null,
      "outputs": []
    },
    {
      "cell_type": "code",
      "source": [
        "# Get number of unique classes\n",
        "print(f\"No of unique classes : {ds_info.features['label'].num_classes}\")\n",
        "\n",
        "\n",
        "# Get num of examples by the split\n",
        "print(f\"Total training examples : {ds_info.splits['train'].num_examples}\")\n"
      ],
      "metadata": {
        "colab": {
          "base_uri": "https://localhost:8080/"
        },
        "id": "URtmZf1LUUDG",
        "outputId": "beb7c109-9592-445a-fab6-930746d3905e"
      },
      "execution_count": 53,
      "outputs": [
        {
          "output_type": "stream",
          "name": "stdout",
          "text": [
            "No of unique classes : 4\n"
          ]
        }
      ]
    }
  ]
}