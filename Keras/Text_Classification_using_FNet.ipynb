{
  "cells": [
    {
      "cell_type": "markdown",
      "metadata": {
        "id": "CIRpwKYjUZwo"
      },
      "source": [
        "# Introduction\n",
        "\n",
        "In this example, we will demonstrate the ability of FNet to achieve comparable results with a vanilla Transformer model on the text classification task. We will be using the IMDb dataset, which is a collection of movie reviews labelled either positive or negative (sentiment analysis).\n",
        "\n",
        "To build the tokenizer, model, etc., we will use components from KerasNLP. KerasNLP makes life easier for people who want to build NLP pipelines! :)\n",
        "\n",
        "# Model\n",
        "Transformer-based language models (LMs) such as BERT, RoBERTa, XLNet, etc. have demonstrated the effectiveness of the self-attention mechanism for computing rich embeddings for input text. However, the self-attention mechanism is an expensive operation, with a time complexity of O(n^2), where n is the number of tokens in the input. Hence, there has been an effort to reduce the time complexity of the self-attention mechanism and improve performance without sacrificing the quality of results.\n",
        "\n",
        "In 2020, a paper titled FNet: Mixing Tokens with Fourier Transforms replaced the self-attention layer in BERT with a simple Fourier Transform layer for \"token mixing\". This resulted in comparable accuracy and a speed-up during training. In particular, a couple of points from the paper stand out:\n",
        "\n",
        "* The authors claim that FNet is 80% faster than BERT on GPUs and 70% faster on TPUs. The reason for this speed-up is two-fold: a) the Fourier Transform layer is unparametrized, it does not have any parameters, and b) the authors use Fast Fourier Transform (FFT); this reduces the time complexity from O(n^2) (in the case of self-attention) to O(n log n).\n",
        "* FNet manages to achieve 92-97% of the accuracy of BERT on the GLUE benchmark."
      ]
    },
    {
      "cell_type": "markdown",
      "metadata": {
        "id": "kycNcdaqU-w7"
      },
      "source": [
        "### Setup"
      ]
    },
    {
      "cell_type": "code",
      "execution_count": 18,
      "metadata": {
        "id": "7QJr5YDFVKBh",
        "colab": {
          "base_uri": "https://localhost:8080/"
        },
        "outputId": "6aaad596-7ecc-48dd-8dbe-94679f8372e0"
      },
      "outputs": [
        {
          "output_type": "stream",
          "name": "stdout",
          "text": [
            "Looking in indexes: https://pypi.org/simple, https://us-python.pkg.dev/colab-wheels/public/simple/\n",
            "Requirement already satisfied: keras-nlp in /usr/local/lib/python3.7/dist-packages (0.3.0)\n",
            "Requirement already satisfied: tensorflow in /usr/local/lib/python3.7/dist-packages (from keras-nlp) (2.8.2+zzzcolab20220719082949)\n",
            "Requirement already satisfied: numpy in /usr/local/lib/python3.7/dist-packages (from keras-nlp) (1.21.6)\n",
            "Requirement already satisfied: tensorflow-text in /usr/local/lib/python3.7/dist-packages (from keras-nlp) (2.8.2)\n",
            "Requirement already satisfied: packaging in /usr/local/lib/python3.7/dist-packages (from keras-nlp) (21.3)\n",
            "Requirement already satisfied: absl-py in /usr/local/lib/python3.7/dist-packages (from keras-nlp) (1.2.0)\n",
            "Requirement already satisfied: pyparsing!=3.0.5,>=2.0.2 in /usr/local/lib/python3.7/dist-packages (from packaging->keras-nlp) (3.0.9)\n",
            "Requirement already satisfied: gast>=0.2.1 in /usr/local/lib/python3.7/dist-packages (from tensorflow->keras-nlp) (0.5.3)\n",
            "Requirement already satisfied: tensorflow-io-gcs-filesystem>=0.23.1 in /usr/local/lib/python3.7/dist-packages (from tensorflow->keras-nlp) (0.26.0)\n",
            "Requirement already satisfied: protobuf<3.20,>=3.9.2 in /usr/local/lib/python3.7/dist-packages (from tensorflow->keras-nlp) (3.17.3)\n",
            "Requirement already satisfied: tensorboard<2.9,>=2.8 in /usr/local/lib/python3.7/dist-packages (from tensorflow->keras-nlp) (2.8.0)\n",
            "Requirement already satisfied: opt-einsum>=2.3.2 in /usr/local/lib/python3.7/dist-packages (from tensorflow->keras-nlp) (3.3.0)\n",
            "Requirement already satisfied: wrapt>=1.11.0 in /usr/local/lib/python3.7/dist-packages (from tensorflow->keras-nlp) (1.14.1)\n",
            "Requirement already satisfied: typing-extensions>=3.6.6 in /usr/local/lib/python3.7/dist-packages (from tensorflow->keras-nlp) (4.1.1)\n",
            "Requirement already satisfied: libclang>=9.0.1 in /usr/local/lib/python3.7/dist-packages (from tensorflow->keras-nlp) (14.0.6)\n",
            "Requirement already satisfied: google-pasta>=0.1.1 in /usr/local/lib/python3.7/dist-packages (from tensorflow->keras-nlp) (0.2.0)\n",
            "Requirement already satisfied: setuptools in /usr/local/lib/python3.7/dist-packages (from tensorflow->keras-nlp) (57.4.0)\n",
            "Requirement already satisfied: flatbuffers>=1.12 in /usr/local/lib/python3.7/dist-packages (from tensorflow->keras-nlp) (2.0)\n",
            "Requirement already satisfied: keras<2.9,>=2.8.0rc0 in /usr/local/lib/python3.7/dist-packages (from tensorflow->keras-nlp) (2.8.0)\n",
            "Requirement already satisfied: grpcio<2.0,>=1.24.3 in /usr/local/lib/python3.7/dist-packages (from tensorflow->keras-nlp) (1.47.0)\n",
            "Requirement already satisfied: six>=1.12.0 in /usr/local/lib/python3.7/dist-packages (from tensorflow->keras-nlp) (1.15.0)\n",
            "Requirement already satisfied: tensorflow-estimator<2.9,>=2.8 in /usr/local/lib/python3.7/dist-packages (from tensorflow->keras-nlp) (2.8.0)\n",
            "Requirement already satisfied: keras-preprocessing>=1.1.1 in /usr/local/lib/python3.7/dist-packages (from tensorflow->keras-nlp) (1.1.2)\n",
            "Requirement already satisfied: astunparse>=1.6.0 in /usr/local/lib/python3.7/dist-packages (from tensorflow->keras-nlp) (1.6.3)\n",
            "Requirement already satisfied: termcolor>=1.1.0 in /usr/local/lib/python3.7/dist-packages (from tensorflow->keras-nlp) (1.1.0)\n",
            "Requirement already satisfied: h5py>=2.9.0 in /usr/local/lib/python3.7/dist-packages (from tensorflow->keras-nlp) (3.1.0)\n",
            "Requirement already satisfied: wheel<1.0,>=0.23.0 in /usr/local/lib/python3.7/dist-packages (from astunparse>=1.6.0->tensorflow->keras-nlp) (0.37.1)\n",
            "Requirement already satisfied: cached-property in /usr/local/lib/python3.7/dist-packages (from h5py>=2.9.0->tensorflow->keras-nlp) (1.5.2)\n",
            "Requirement already satisfied: google-auth<3,>=1.6.3 in /usr/local/lib/python3.7/dist-packages (from tensorboard<2.9,>=2.8->tensorflow->keras-nlp) (1.35.0)\n",
            "Requirement already satisfied: requests<3,>=2.21.0 in /usr/local/lib/python3.7/dist-packages (from tensorboard<2.9,>=2.8->tensorflow->keras-nlp) (2.23.0)\n",
            "Requirement already satisfied: markdown>=2.6.8 in /usr/local/lib/python3.7/dist-packages (from tensorboard<2.9,>=2.8->tensorflow->keras-nlp) (3.4.1)\n",
            "Requirement already satisfied: tensorboard-data-server<0.7.0,>=0.6.0 in /usr/local/lib/python3.7/dist-packages (from tensorboard<2.9,>=2.8->tensorflow->keras-nlp) (0.6.1)\n",
            "Requirement already satisfied: google-auth-oauthlib<0.5,>=0.4.1 in /usr/local/lib/python3.7/dist-packages (from tensorboard<2.9,>=2.8->tensorflow->keras-nlp) (0.4.6)\n",
            "Requirement already satisfied: tensorboard-plugin-wit>=1.6.0 in /usr/local/lib/python3.7/dist-packages (from tensorboard<2.9,>=2.8->tensorflow->keras-nlp) (1.8.1)\n",
            "Requirement already satisfied: werkzeug>=0.11.15 in /usr/local/lib/python3.7/dist-packages (from tensorboard<2.9,>=2.8->tensorflow->keras-nlp) (1.0.1)\n",
            "Requirement already satisfied: rsa<5,>=3.1.4 in /usr/local/lib/python3.7/dist-packages (from google-auth<3,>=1.6.3->tensorboard<2.9,>=2.8->tensorflow->keras-nlp) (4.9)\n",
            "Requirement already satisfied: cachetools<5.0,>=2.0.0 in /usr/local/lib/python3.7/dist-packages (from google-auth<3,>=1.6.3->tensorboard<2.9,>=2.8->tensorflow->keras-nlp) (4.2.4)\n",
            "Requirement already satisfied: pyasn1-modules>=0.2.1 in /usr/local/lib/python3.7/dist-packages (from google-auth<3,>=1.6.3->tensorboard<2.9,>=2.8->tensorflow->keras-nlp) (0.2.8)\n",
            "Requirement already satisfied: requests-oauthlib>=0.7.0 in /usr/local/lib/python3.7/dist-packages (from google-auth-oauthlib<0.5,>=0.4.1->tensorboard<2.9,>=2.8->tensorflow->keras-nlp) (1.3.1)\n",
            "Requirement already satisfied: importlib-metadata>=4.4 in /usr/local/lib/python3.7/dist-packages (from markdown>=2.6.8->tensorboard<2.9,>=2.8->tensorflow->keras-nlp) (4.12.0)\n",
            "Requirement already satisfied: zipp>=0.5 in /usr/local/lib/python3.7/dist-packages (from importlib-metadata>=4.4->markdown>=2.6.8->tensorboard<2.9,>=2.8->tensorflow->keras-nlp) (3.8.1)\n",
            "Requirement already satisfied: pyasn1<0.5.0,>=0.4.6 in /usr/local/lib/python3.7/dist-packages (from pyasn1-modules>=0.2.1->google-auth<3,>=1.6.3->tensorboard<2.9,>=2.8->tensorflow->keras-nlp) (0.4.8)\n",
            "Requirement already satisfied: chardet<4,>=3.0.2 in /usr/local/lib/python3.7/dist-packages (from requests<3,>=2.21.0->tensorboard<2.9,>=2.8->tensorflow->keras-nlp) (3.0.4)\n",
            "Requirement already satisfied: idna<3,>=2.5 in /usr/local/lib/python3.7/dist-packages (from requests<3,>=2.21.0->tensorboard<2.9,>=2.8->tensorflow->keras-nlp) (2.10)\n",
            "Requirement already satisfied: certifi>=2017.4.17 in /usr/local/lib/python3.7/dist-packages (from requests<3,>=2.21.0->tensorboard<2.9,>=2.8->tensorflow->keras-nlp) (2022.6.15)\n",
            "Requirement already satisfied: urllib3!=1.25.0,!=1.25.1,<1.26,>=1.21.1 in /usr/local/lib/python3.7/dist-packages (from requests<3,>=2.21.0->tensorboard<2.9,>=2.8->tensorflow->keras-nlp) (1.24.3)\n",
            "Requirement already satisfied: oauthlib>=3.0.0 in /usr/local/lib/python3.7/dist-packages (from requests-oauthlib>=0.7.0->google-auth-oauthlib<0.5,>=0.4.1->tensorboard<2.9,>=2.8->tensorflow->keras-nlp) (3.2.0)\n",
            "Requirement already satisfied: tensorflow-hub>=0.8.0 in /usr/local/lib/python3.7/dist-packages (from tensorflow-text->keras-nlp) (0.12.0)\n"
          ]
        }
      ],
      "source": [
        "pip install keras-nlp"
      ]
    },
    {
      "cell_type": "code",
      "execution_count": 19,
      "metadata": {
        "id": "Bf2JEfmKVBMO"
      },
      "outputs": [],
      "source": [
        "import keras_nlp\n",
        "import random\n",
        "import tensorflow as tf\n",
        "import os\n",
        "\n",
        "from tensorflow import keras\n",
        "from tensorflow_text.tools.wordpiece_vocab import bert_vocab_from_dataset as bert_vocab\n",
        "\n",
        "keras.utils.set_random_seed(42)"
      ]
    },
    {
      "cell_type": "markdown",
      "metadata": {
        "id": "RP0-ZuDgVDCe"
      },
      "source": [
        "### Hyperparams"
      ]
    },
    {
      "cell_type": "code",
      "execution_count": 20,
      "metadata": {
        "id": "9ZtQHzm0VEjk"
      },
      "outputs": [],
      "source": [
        "BATCH_SIZE = 64\n",
        "EPOCHS = 3\n",
        "MAX_SEQUENCE_LENGTH = 512\n",
        "VOCAB_SIZE = 15000\n",
        "\n",
        "EMBED_DIM = 128\n",
        "INTERMEDIATE_DIM = 512"
      ]
    },
    {
      "cell_type": "markdown",
      "metadata": {
        "id": "tWAFOOGYVwiE"
      },
      "source": [
        "### Loading the dataset\n",
        "First, let's download the IMDB dataset and extract it."
      ]
    },
    {
      "cell_type": "code",
      "execution_count": 21,
      "metadata": {
        "colab": {
          "base_uri": "https://localhost:8080/"
        },
        "id": "DpIaCxeQWCdt",
        "outputId": "2471a38c-5b37-49ad-96ae-4b577513f11e"
      },
      "outputs": [
        {
          "output_type": "stream",
          "name": "stdout",
          "text": [
            "--2022-08-18 20:55:56--  http://ai.stanford.edu/~amaas/data/sentiment/aclImdb_v1.tar.gz\n",
            "Resolving ai.stanford.edu (ai.stanford.edu)... 171.64.68.10\n",
            "Connecting to ai.stanford.edu (ai.stanford.edu)|171.64.68.10|:80... connected.\n",
            "HTTP request sent, awaiting response... 200 OK\n",
            "Length: 84125825 (80M) [application/x-gzip]\n",
            "Saving to: ‘aclImdb_v1.tar.gz.1’\n",
            "\n",
            "aclImdb_v1.tar.gz.1 100%[===================>]  80.23M  15.7MB/s    in 8.6s    \n",
            "\n",
            "2022-08-18 20:56:05 (9.33 MB/s) - ‘aclImdb_v1.tar.gz.1’ saved [84125825/84125825]\n",
            "\n"
          ]
        }
      ],
      "source": [
        "!wget http://ai.stanford.edu/~amaas/data/sentiment/aclImdb_v1.tar.gz\n",
        "!tar -xzf aclImdb_v1.tar.gz"
      ]
    },
    {
      "cell_type": "markdown",
      "metadata": {
        "id": "J_apj0JHWEL7"
      },
      "source": [
        "Please refer to [Text Classification from Scratch](https://github.com/suvigyajain0101/NLP/blob/main/Keras/Text_classification_from_scratch.ipynb) for data exploration on the IMDB dataset"
      ]
    },
    {
      "cell_type": "markdown",
      "metadata": {
        "id": "Q4VX3CuBX6YU"
      },
      "source": [
        "We'll use the keras.utils.text_dataset_from_directory utility to generate our labelled tf.data.Dataset dataset from text files."
      ]
    },
    {
      "cell_type": "code",
      "execution_count": 22,
      "metadata": {
        "colab": {
          "base_uri": "https://localhost:8080/"
        },
        "id": "rH5sxb9PXJxg",
        "outputId": "0276e9cc-bf90-4aae-98b8-5390bc7b3c89"
      },
      "outputs": [
        {
          "output_type": "stream",
          "name": "stdout",
          "text": [
            "Found 75000 files belonging to 3 classes.\n",
            "Using 60000 files for training.\n",
            "Found 75000 files belonging to 3 classes.\n",
            "Using 15000 files for validation.\n",
            "Found 25000 files belonging to 2 classes.\n"
          ]
        }
      ],
      "source": [
        "train_ds = keras.utils.text_dataset_from_directory(\n",
        "    \"aclImdb/train\",\n",
        "    batch_size=BATCH_SIZE,\n",
        "    validation_split=0.2,\n",
        "    subset=\"training\",\n",
        "    seed=42,\n",
        ")\n",
        "val_ds = keras.utils.text_dataset_from_directory(\n",
        "    \"aclImdb/train\",\n",
        "    batch_size=BATCH_SIZE,\n",
        "    validation_split=0.2,\n",
        "    subset=\"validation\",\n",
        "    seed=42,\n",
        ")\n",
        "test_ds = keras.utils.text_dataset_from_directory(\"aclImdb/test\", batch_size=BATCH_SIZE)"
      ]
    },
    {
      "cell_type": "markdown",
      "metadata": {
        "id": "MqbQoyt8XnRa"
      },
      "source": [
        "We will now convert the text to lowercase."
      ]
    },
    {
      "cell_type": "code",
      "execution_count": 23,
      "metadata": {
        "id": "lXuPwcUPX-M3"
      },
      "outputs": [],
      "source": [
        "train_ds = train_ds.map(lambda x, y: (tf.strings.lower(x), y))\n",
        "val_ds = val_ds.map(lambda x, y: (tf.strings.lower(x), y))\n",
        "test_ds = test_ds.map(lambda x, y: (tf.strings.lower(x), y))"
      ]
    },
    {
      "cell_type": "markdown",
      "metadata": {
        "id": "iRAaDZkqX-nf"
      },
      "source": [
        "Let's print a few samples."
      ]
    },
    {
      "cell_type": "code",
      "execution_count": 24,
      "metadata": {
        "colab": {
          "base_uri": "https://localhost:8080/"
        },
        "id": "yp6hQhXaYCjI",
        "outputId": "02464584-1de0-4771-911b-9ac318ff9ab3"
      },
      "outputs": [
        {
          "output_type": "stream",
          "name": "stdout",
          "text": [
            "b'i found this dvd at big lots for $2. with badly photoshopped images of dennis hopper and michael madsen (obviously from a reservoir dogs promo) on the cover, i had very low expectations. but i\\'ll give this movie credit. at least the director has some idea of what he was doing. unlike other crap films like \"cheerleader ninjas\" and \"tha sistahood\", this one could actually direct the camera in a way that didn\\'t make you want to blow your brains out. but when saying the director wasn\\'t doing hits off of a crack pipe while working is the best compliment to give a movie, that\\'s still pretty bad.<br /><br />the story is basically about how corrupt the lapd is. this corruption is basically revolving around a half dozen or so cops. that\\'s pretty well contained, i must say. there\\'s also a subplot of guys robbing convenience stores that goes nowhere. and another subplot of the main guy\\'s love affair with a cop groupie. that one may be uninspired, but the sex scene is probably the funniest i\\'ve ever seen in my life. the two roll around naked under covers in the most awkward positions possible while the guy grinds his loins and gives the most painful grimaces is the history of man. honestly, it just has to be seen to believed.<br /><br />casting sucks. dennis hopper is in the movie for a total of about 10 minutes, and looks like he\\'s in physical pain having to deliver the insultingly bad script. madsen is in there for more and seems less affected, but he\\'s no stranger to a bad script. i\\'ve sat through films with him that were much worse, so this is nothing new to him. the hot young cop who owns the nickname cowboy (because, you know, they want to be original) looks about 40. one fatboy cop, who looks mid-thirties, has a non-touching scene with his \"mother\" of 45. the constant unexplained parties at fatboy\\'s \"mansion\" have the same people who seem not to change their clothes for weeks on end.<br /><br />but the worst part of this film is the logic. cops w/ bullet proof vests take shots like superman without barely a flinch. whenever there\\'s a shootout within 20 square feet, nobody considers taking cover from the bullets. and why should they? trained lapd officers are known for being terrible shots anyway, right? there\\'s also no sense in ballistics when detectives come around.<br /><br />bottom line, this film may suck noodles but i\\'ve seen madsen in worse (against all hope, executive target, my boss\\'s daughter, etc). unless you\\'re a big fan of his, as i am, stay away from this film.'\n",
            "2\n",
            "b'i think the croc hunter is a pretty cool guy! i know i wouldn\\'t have the nerve to go even 5 feet away from a croc.<br /><br />but, everything in this movie is bad. farting jokes, people getting eaten, and the skit about the president all make the movie one of the worst of all time.<br /><br />it\\'s a really bad film that you have to stay away from. all the \"jokes\" are so juvenile that you will find yourself laughing because they are so stupid. the plot is so bad that you wonder if the screenwriter is 4 years old.<br /><br />i\\'m surprised the croc hunter did not beg the crocodile to eat him after he saw this.'\n",
            "0\n",
            "b\"i don't know the stars, or modern chinese teenage music - but i do know a thoroughly entertaining movie when i see one.<br /><br />kung fu dunk is pure hollywood in its values - it's played for laughs, for love, and is a great blend of kung fu and basketball.<br /><br />everybody looks like they had a lot of fun making this - the production values are excellent - and modern china looks glossier than los angeles here.<br /><br />the plot of the abandoned orphan who grows up in a kung fu school only to be kicked out and then discover superstardom as a basketball play (and love and more etc;) is great - this is fresh, fun, and immensely entertaining.<br /><br />with great action and good dialogue this is one simply to enjoy - for all ages - and for our money was one of the best family movies we're seen in a long time.<br /><br />please ignore the negative reviews and give dunk a chance - we were really glad we did - a good sports comedy movie.\"\n",
            "1\n"
          ]
        }
      ],
      "source": [
        "for text_batch, label_batch in train_ds.take(1):\n",
        "    for i in range(3):\n",
        "        print(text_batch.numpy()[i])\n",
        "        print(label_batch.numpy()[i])"
      ]
    },
    {
      "cell_type": "markdown",
      "metadata": {
        "id": "Ej2N3RN9Zb3j"
      },
      "source": [
        "## Tokenizing the data\n",
        "\n",
        "We'll be using the `keras_nlp.tokenizers.WordPieceTokenizer` layer to tokenize the text. keras_nlp.tokenizers.WordPieceTokenizer takes a WordPiece vocabulary and has functions for tokenizing the text, and detokenizing sequences of tokens.\n",
        "\n",
        "Before we define the tokenizer, we first need to train it on the dataset we have. The WordPiece tokenization algorithm is a subword tokenization algorithm; training it on a corpus gives us a vocabulary of subwords. A subword tokenizer is a compromise between word tokenizers (word tokenizers need very large vocabularies for good coverage of input words), and character tokenizers (characters don't really encode meaning like words do). Luckily, TensorFlow Text makes it very simple to train WordPiece on a corpus.\n",
        "\n",
        "Note: The official implementation of FNet uses the SentencePiece Tokenizer."
      ]
    },
    {
      "cell_type": "code",
      "execution_count": 25,
      "metadata": {
        "id": "9A_w44q2adQM"
      },
      "outputs": [],
      "source": [
        "def train_word_piece(ds, vocab_size, reserved_tokens):\n",
        "    bert_vocab_args = dict(\n",
        "        # The target vocabulary size\n",
        "        vocab_size=vocab_size,\n",
        "        # Reserved tokens that must be included in the vocabulary\n",
        "        reserved_tokens=reserved_tokens,\n",
        "        # Arguments for `text.BertTokenizer`\n",
        "        bert_tokenizer_params={\"lower_case\": True},\n",
        "    )\n",
        "\n",
        "    # Extract text samples (remove the labels).\n",
        "    word_piece_ds = ds.unbatch().map(lambda x, y: x)\n",
        "    vocab = bert_vocab.bert_vocab_from_dataset(\n",
        "        word_piece_ds.batch(1000).prefetch(2), **bert_vocab_args\n",
        "    )\n",
        "    return vocab"
      ]
    },
    {
      "cell_type": "markdown",
      "metadata": {
        "id": "mAjEOSI1fQBl"
      },
      "source": [
        "Every vocabulary has a few special, reserved tokens. We have two such tokens:\n",
        "\n",
        "* \"[PAD]\" - Padding token. Padding tokens are appended to the input sequence length when the input sequence length is shorter than the maximum sequence length.\n",
        "* \"[UNK]\" - Unknown token."
      ]
    },
    {
      "cell_type": "code",
      "execution_count": 26,
      "metadata": {
        "id": "YrFVOZAgfYpb"
      },
      "outputs": [],
      "source": [
        "reserved_tokens = [\"[PAD]\", \"[UNK]\"]\n",
        "train_sentences = [element[0] for element in train_ds]\n",
        "vocab = train_word_piece(train_ds, VOCAB_SIZE, reserved_tokens)"
      ]
    },
    {
      "cell_type": "markdown",
      "metadata": {
        "id": "kWGEGaznfjVU"
      },
      "source": [
        "Let's see some tokens!"
      ]
    },
    {
      "cell_type": "code",
      "execution_count": 27,
      "metadata": {
        "colab": {
          "base_uri": "https://localhost:8080/"
        },
        "id": "vVLIlc57fliG",
        "outputId": "6970bab0-81de-4f69-9f3c-dae026f49842"
      },
      "outputs": [
        {
          "output_type": "stream",
          "name": "stdout",
          "text": [
            "Tokens:  ['of', 'to', 'is', 'br', 'it', 'in', 'this', 'that', 'was', 'as']\n"
          ]
        }
      ],
      "source": [
        "print(\"Tokens: \", vocab[110:120])"
      ]
    },
    {
      "cell_type": "markdown",
      "metadata": {
        "id": "zKyDqLqpfqtw"
      },
      "source": [
        "Now, let's define the tokenizer. We will configure the tokenizer with the the vocabularies trained above. We will define a maximum sequence length so that all sequences are padded to the same length, if the length of the sequence is less than the specified sequence length. Otherwise, the sequence is truncated."
      ]
    },
    {
      "cell_type": "code",
      "execution_count": 28,
      "metadata": {
        "id": "yqUcL1LjitjR"
      },
      "outputs": [],
      "source": [
        "tokenizer = keras_nlp.tokenizers.WordPieceTokenizer(\n",
        "    vocabulary=vocab,\n",
        "    lowercase=False,\n",
        "    sequence_length=MAX_SEQUENCE_LENGTH,\n",
        ")"
      ]
    },
    {
      "cell_type": "markdown",
      "metadata": {
        "id": "S3lkI35xiwMT"
      },
      "source": [
        "Let's try and tokenize a sample from our dataset! To verify whether the text has been tokenized correctly, we can also detokenize the list of tokens back to the original text."
      ]
    },
    {
      "cell_type": "code",
      "execution_count": 29,
      "metadata": {
        "colab": {
          "base_uri": "https://localhost:8080/"
        },
        "id": "BRZt69QUiy5W",
        "outputId": "6bd878c5-cb80-4d5b-abd4-2277c1771989"
      },
      "outputs": [
        {
          "output_type": "stream",
          "name": "stdout",
          "text": [
            "Sentence:  tf.Tensor(b'i am not so much like love sick as i image. finally the film express sexual relationship of alex, kik, sandu their triangle love were full of intenseness, frustration and jealous, at last, alex waked up and realized that they would not have result and future.ending up was sad.<br /><br />the director tudor giurgiu was in amc theatre on sunday 12:00pm on 08/10/06, with us watched the movie together. after the movie he told the audiences that the purposed to create this film which was to express the sexual relationships of romanian were kind of complicate.<br /><br />on my point of view sexual life is always complicated in everywhere, i don\\'t feel any particular impression and effect from the movie. the love proceeding of alex and kiki, and kiki and her brother sandu were kind of next door neighborhood story.<br /><br />the two main reasons i don\\'t like this movie are, firstly, the film didn\\'t told us how they started to fall in love? sounds like after alex moved into the building which kiki was living, then two girls are fall in love. it doesn\\'t make sense at all. how a girl would fall in love with another girl instead of a man. too much fragments, you need to image and connect those stories by your mind. secondly, the whole film didn\\'t have a scene of alex and kik\\'s sexual intercourse, that \\'s what i was waiting for\\xc2\\x85\\xc2\\x85. however, it still had some parts were deserved to recommend. the \"ear piercing \" part was kind of interesting. alex was willing to suffer the pain of ear piercing to appreciate kik\\'s love. that was a touching scene which gave you a little idea of their love. also, the scene of they were lying in the soccer field, the conversation express their loves were truthful and passionate.', shape=(), dtype=string)\n",
            "Tokens:  tf.Tensor(\n",
            "[   48   353   127   142   178   143   220  1337   119    48  1682    15\n",
            "   557   108   124  3082   991   738   110  2233    13  8677   697    13\n",
            "  5970   780   167  4975   220   173   484   110  1826   526    13  5451\n",
            "   109  4363    13   137   337    13  2233  3778   264   160   109  1902\n",
            "   117   136   164   127   131  1027   109   801    15   385   160   118\n",
            "   732    15    29   113    16    31    29   113    16    31   108   260\n",
            "    59  5359   940 13408  2051  7314   780   118   115 13881  2072   126\n",
            "  3159  1892    27  4927 11691   126    17  2969    16   271    16    17\n",
            "  2818    13   120   288   417   108   122   402    15   204   108   122\n",
            "   128   717   108  1439   117   108  1442   264   111  1125   116   124\n",
            "   166   118   111  3082   108   991  1657   110  9707   173   356   110\n",
            "  2554  7838    15    29   113    16    31    29   113    16    31   126\n",
            "   165   332   110   786   991   221   112   327  2921   115  2860    13\n",
            "    48   193     8    59   340   205  1015  1640   109  1044   141   108\n",
            "   122    15   108   220  9216   206   110  2233   109  8677  2227    13\n",
            "   109  8677  2227   109   145   712  5970   780   173   356   110   477\n",
            "  1340  3946   169    15    29   113    16    31    29   113    16    31\n",
            "   108   211   407  1154    48   193     8    59   143   116   122   129\n",
            "    13  5624    13   108   124   267     8    59   717   288   192   136\n",
            "   784   111   907   115   220    32  1100   143   204  2233  1868   185\n",
            "   108  1421   166  8677  2227   118   690    13   199   211   660   129\n",
            "   907   115   220    15   114   255     8    59   197   384   137   135\n",
            "    15   192    40   347   164   907   115   220   120   269   347   414\n",
            "   110    40   233    15   202   178    45  1523   681  2933    13   125\n",
            "   479   111  1682   109  4325   253   655   138   235   447    15  5028\n",
            "    13   108   328   124   267     8    59   131    40   239   110  2233\n",
            "   109  8677   697     8    58   991  7980 11676    13   117     8    58\n",
            "   152    48   118  1202   121    15   303    13   114   241   172   153\n",
            "   629   173  2091   111   506    15   108     3  6044 14532     3   284\n",
            "   118   356   110   321    15  2233   118  1914   111  2961   108  1724\n",
            "   110  6044 14532   111  1272  8677   697     8    58   220    15   117\n",
            "   118    40  1545   239   166   646   125    40   219   431   110   167\n",
            "   220    15   184    13   108   239   110   136   173  3537   115   108\n",
            "  5726  1968    13   108  2728  3082   167  1458   173 10892   109  4688\n",
            "    15     0     0     0     0     0     0     0     0     0     0     0\n",
            "     0     0     0     0     0     0     0     0     0     0     0     0\n",
            "     0     0     0     0     0     0     0     0     0     0     0     0\n",
            "     0     0     0     0     0     0     0     0     0     0     0     0\n",
            "     0     0     0     0     0     0     0     0     0     0     0     0\n",
            "     0     0     0     0     0     0     0     0     0     0     0     0\n",
            "     0     0     0     0     0     0     0     0     0     0     0     0\n",
            "     0     0     0     0     0     0     0     0     0     0     0     0\n",
            "     0     0     0     0     0     0     0     0], shape=(512,), dtype=int32)\n",
            "Recovered text after detokenizing:  tf.Tensor(b'i am not so much like love sick as i image . finally the film express sexual relationship of alex , kik , sandu their triangle love were full of intenseness , frustration and jealous , at last , alex waked up and realized that they would not have result and future . ending up was sad . < br / > < br / > the director tudor giurgiu was in amc theatre on sunday 12 : 00pm on 08 / 10 / 06 , with us watched the movie together . after the movie he told the audiences that the purposed to create this film which was to express the sexual relationships of romanian were kind of complicate . < br / > < br / > on my point of view sexual life is always complicated in everywhere , i don \\' t feel any particular impression and effect from the movie . the love proceeding of alex and kiki , and kiki and her brother sandu were kind of next door neighborhood story . < br / > < br / > the two main reasons i don \\' t like this movie are , firstly , the film didn \\' t told us how they started to fall in love ? sounds like after alex moved into the building which kiki was living , then two girls are fall in love . it doesn \\' t make sense at all . how a girl would fall in love with another girl instead of a man . too much fragments , you need to image and connect those stories by your mind . secondly , the whole film didn \\' t have a scene of alex and kik \\' s sexual intercourse , that \\' s what i was waiting for . however , it still had some parts were deserved to recommend . the \" ear piercing \" part was kind of interesting . alex was willing to suffer the pain of ear piercing to appreciate kik \\' s love . that was a touching scene which gave you a little idea of their love . also , the scene of they were lying in the soccer field , the conversation express their loves were truthful and passionate . [PAD] [PAD] [PAD] [PAD] [PAD] [PAD] [PAD] [PAD] [PAD] [PAD] [PAD] [PAD] [PAD] [PAD] [PAD] [PAD] [PAD] [PAD] [PAD] [PAD] [PAD] [PAD] [PAD] [PAD] [PAD] [PAD] [PAD] [PAD] [PAD] [PAD] [PAD] [PAD] [PAD] [PAD] [PAD] [PAD] [PAD] [PAD] [PAD] [PAD] [PAD] [PAD] [PAD] [PAD] [PAD] [PAD] [PAD] [PAD] [PAD] [PAD] [PAD] [PAD] [PAD] [PAD] [PAD] [PAD] [PAD] [PAD] [PAD] [PAD] [PAD] [PAD] [PAD] [PAD] [PAD] [PAD] [PAD] [PAD] [PAD] [PAD] [PAD] [PAD] [PAD] [PAD] [PAD] [PAD] [PAD] [PAD] [PAD] [PAD] [PAD] [PAD] [PAD] [PAD] [PAD] [PAD] [PAD] [PAD] [PAD] [PAD] [PAD] [PAD] [PAD] [PAD] [PAD] [PAD] [PAD] [PAD] [PAD] [PAD] [PAD] [PAD] [PAD]', shape=(), dtype=string)\n"
          ]
        }
      ],
      "source": [
        "input_sentence_ex = train_ds.take(1).get_single_element()[0][0]\n",
        "input_tokens_ex = tokenizer(input_sentence_ex)\n",
        "\n",
        "print(\"Sentence: \", input_sentence_ex)\n",
        "print(\"Tokens: \", input_tokens_ex)\n",
        "print(\"Recovered text after detokenizing: \", tokenizer.detokenize(input_tokens_ex))"
      ]
    },
    {
      "cell_type": "markdown",
      "metadata": {
        "id": "kUAwqRNci01c"
      },
      "source": [
        "### Formatting the dataset\n",
        "Next, we'll format our datasets in the form that will be fed to the models. We need to tokenize the text."
      ]
    },
    {
      "cell_type": "code",
      "execution_count": 30,
      "metadata": {
        "id": "p-lyLOx2gLSh"
      },
      "outputs": [],
      "source": [
        "def format_dataset(sentence, label):\n",
        "    sentence = tokenizer(sentence)\n",
        "    return ({\"input_ids\": sentence}, label)\n",
        "\n",
        "\n",
        "def make_dataset(dataset):\n",
        "    dataset = dataset.map(format_dataset, num_parallel_calls=tf.data.AUTOTUNE)\n",
        "    return dataset.shuffle(512).prefetch(16).cache()\n",
        "\n",
        "\n",
        "train_ds = make_dataset(train_ds)\n",
        "val_ds = make_dataset(val_ds)\n",
        "test_ds = make_dataset(test_ds)"
      ]
    },
    {
      "cell_type": "markdown",
      "metadata": {
        "id": "a1L6-al-gNW4"
      },
      "source": [
        "### Building the model\n",
        "Let's define the model! We first need an embedding layer, i.e., a layer that maps every token in the input sequence to a vector. This embedding layer can be initialised randomly. We also need a positional embedding layer which encodes the word order in the sequence. The convention is to add, i.e., sum, these two embeddings. KerasNLP has a keras_nlp.layers.TokenAndPositionEmbedding layer which does all of the above steps for us.\n",
        "\n",
        "Our FNet classification model consists of three keras_nlp.layers.FNetEncoder layers with a keras.layers.Dense layer on top.\n",
        "\n",
        "Note: For FNet, masking the padding tokens has a minimal effect on results. In the official implementation, the padding tokens are not masked."
      ]
    },
    {
      "cell_type": "code",
      "execution_count": 31,
      "metadata": {
        "id": "y2Iv9A20gUYA"
      },
      "outputs": [],
      "source": [
        "input_ids = keras.Input(shape=(None,), dtype=\"int64\", name=\"input_ids\")\n",
        "\n",
        "x = keras_nlp.layers.TokenAndPositionEmbedding(\n",
        "    vocabulary_size=VOCAB_SIZE,\n",
        "    sequence_length=MAX_SEQUENCE_LENGTH,\n",
        "    embedding_dim=EMBED_DIM,\n",
        "    mask_zero=True,\n",
        ")(input_ids)\n",
        "\n",
        "x = keras_nlp.layers.FNetEncoder(intermediate_dim=INTERMEDIATE_DIM)(inputs=x)\n",
        "x = keras_nlp.layers.FNetEncoder(intermediate_dim=INTERMEDIATE_DIM)(inputs=x)\n",
        "x = keras_nlp.layers.FNetEncoder(intermediate_dim=INTERMEDIATE_DIM)(inputs=x)\n",
        "\n",
        "\n",
        "x = keras.layers.GlobalAveragePooling1D()(x)\n",
        "x = keras.layers.Dropout(0.1)(x)\n",
        "outputs = keras.layers.Dense(1, activation=\"sigmoid\")(x)\n",
        "\n",
        "fnet_classifier = keras.Model(input_ids, outputs, name=\"fnet_classifier\")"
      ]
    },
    {
      "cell_type": "markdown",
      "metadata": {
        "id": "MY9WuaZyh2bH"
      },
      "source": [
        "### Training our model\n",
        "We'll use accuracy to monitor training progress on the validation data. Let's train our model for 3 epochs."
      ]
    },
    {
      "cell_type": "code",
      "execution_count": 32,
      "metadata": {
        "id": "ZYFap9Cnh7_4",
        "colab": {
          "base_uri": "https://localhost:8080/"
        },
        "outputId": "3562ef99-7b28-45dd-84ad-4db40c9412ef"
      },
      "outputs": [
        {
          "output_type": "stream",
          "name": "stdout",
          "text": [
            "Model: \"fnet_classifier\"\n",
            "_________________________________________________________________\n",
            " Layer (type)                Output Shape              Param #   \n",
            "=================================================================\n",
            " input_ids (InputLayer)      [(None, None)]            0         \n",
            "                                                                 \n",
            " token_and_position_embeddin  (None, None, 128)        1985536   \n",
            " g_2 (TokenAndPositionEmbedd                                     \n",
            " ing)                                                            \n",
            "                                                                 \n",
            " f_net_encoder_3 (FNetEncode  (None, None, 128)        132224    \n",
            " r)                                                              \n",
            "                                                                 \n",
            " f_net_encoder_4 (FNetEncode  (None, None, 128)        132224    \n",
            " r)                                                              \n",
            "                                                                 \n",
            " f_net_encoder_5 (FNetEncode  (None, None, 128)        132224    \n",
            " r)                                                              \n",
            "                                                                 \n",
            " global_average_pooling1d_2   (None, 128)              0         \n",
            " (GlobalAveragePooling1D)                                        \n",
            "                                                                 \n",
            " dropout_2 (Dropout)         (None, 128)               0         \n",
            "                                                                 \n",
            " dense_2 (Dense)             (None, 1)                 129       \n",
            "                                                                 \n",
            "=================================================================\n",
            "Total params: 2,382,337\n",
            "Trainable params: 2,382,337\n",
            "Non-trainable params: 0\n",
            "_________________________________________________________________\n",
            "Epoch 1/3\n",
            "938/938 [==============================] - 88s 83ms/step - loss: -119.1182 - accuracy: 0.1664 - val_loss: -302.8305 - val_accuracy: 0.1681\n",
            "Epoch 2/3\n",
            "938/938 [==============================] - 71s 76ms/step - loss: -651.5923 - accuracy: 0.1663 - val_loss: -1030.4849 - val_accuracy: 0.1681\n",
            "Epoch 3/3\n",
            "938/938 [==============================] - 72s 77ms/step - loss: -1585.3438 - accuracy: 0.1663 - val_loss: -2106.8667 - val_accuracy: 0.1681\n"
          ]
        },
        {
          "output_type": "execute_result",
          "data": {
            "text/plain": [
              "<keras.callbacks.History at 0x7f1e4fa19b90>"
            ]
          },
          "metadata": {},
          "execution_count": 32
        }
      ],
      "source": [
        "fnet_classifier.summary()\n",
        "fnet_classifier.compile(\n",
        "    optimizer=keras.optimizers.Adam(learning_rate=0.001),\n",
        "    loss=\"binary_crossentropy\",\n",
        "    metrics=[\"accuracy\"],\n",
        ")\n",
        "fnet_classifier.fit(train_ds, epochs=EPOCHS, validation_data=val_ds)"
      ]
    },
    {
      "cell_type": "markdown",
      "metadata": {
        "id": "Z-o9inhQiF2G"
      },
      "source": [
        "The model takes too long to run. Will skip the full training results"
      ]
    },
    {
      "cell_type": "markdown",
      "metadata": {
        "id": "d1w6NfYPnTR7"
      },
      "source": [
        "### Comparison with Transformer model\n",
        "Let's test the same problem on a Transformer Classifier model. We keep all the parameters/hyperparameters the same. For example, we use three TransformerEncoder layers.\n",
        "\n",
        "We set the number of heads to 2."
      ]
    },
    {
      "cell_type": "code",
      "execution_count": 33,
      "metadata": {
        "colab": {
          "base_uri": "https://localhost:8080/"
        },
        "id": "KIGNRWNTxEpK",
        "outputId": "39c87599-ccb4-4c96-8a09-aeea2375b756"
      },
      "outputs": [
        {
          "output_type": "stream",
          "name": "stdout",
          "text": [
            "Model: \"transformer_classifier\"\n",
            "_________________________________________________________________\n",
            " Layer (type)                Output Shape              Param #   \n",
            "=================================================================\n",
            " input_ids (InputLayer)      [(None, None)]            0         \n",
            "                                                                 \n",
            " token_and_position_embeddin  (None, None, 128)        1985536   \n",
            " g_3 (TokenAndPositionEmbedd                                     \n",
            " ing)                                                            \n",
            "                                                                 \n",
            " transformer_encoder_3 (Tran  (None, None, 128)        198272    \n",
            " sformerEncoder)                                                 \n",
            "                                                                 \n",
            " transformer_encoder_4 (Tran  (None, None, 128)        198272    \n",
            " sformerEncoder)                                                 \n",
            "                                                                 \n",
            " transformer_encoder_5 (Tran  (None, None, 128)        198272    \n",
            " sformerEncoder)                                                 \n",
            "                                                                 \n",
            " global_average_pooling1d_3   (None, 128)              0         \n",
            " (GlobalAveragePooling1D)                                        \n",
            "                                                                 \n",
            " dropout_3 (Dropout)         (None, 128)               0         \n",
            "                                                                 \n",
            " dense_3 (Dense)             (None, 1)                 129       \n",
            "                                                                 \n",
            "=================================================================\n",
            "Total params: 2,580,481\n",
            "Trainable params: 2,580,481\n",
            "Non-trainable params: 0\n",
            "_________________________________________________________________\n",
            "Epoch 1/3\n",
            "938/938 [==============================] - 144s 150ms/step - loss: -117.2553 - accuracy: 0.1664 - val_loss: -300.3101 - val_accuracy: 0.1681\n",
            "Epoch 2/3\n",
            "938/938 [==============================] - 142s 151ms/step - loss: -648.7609 - accuracy: 0.1663 - val_loss: -1027.2587 - val_accuracy: 0.1681\n",
            "Epoch 3/3\n",
            "938/938 [==============================] - 142s 151ms/step - loss: -1581.9174 - accuracy: 0.1663 - val_loss: -2102.9546 - val_accuracy: 0.1681\n"
          ]
        },
        {
          "output_type": "execute_result",
          "data": {
            "text/plain": [
              "<keras.callbacks.History at 0x7f1e4efc1390>"
            ]
          },
          "metadata": {},
          "execution_count": 33
        }
      ],
      "source": [
        "NUM_HEADS = 2\n",
        "input_ids = keras.Input(shape=(None,), dtype=\"int64\", name=\"input_ids\")\n",
        "\n",
        "\n",
        "x = keras_nlp.layers.TokenAndPositionEmbedding(\n",
        "    vocabulary_size=VOCAB_SIZE,\n",
        "    sequence_length=MAX_SEQUENCE_LENGTH,\n",
        "    embedding_dim=EMBED_DIM,\n",
        "    mask_zero=True,\n",
        ")(input_ids)\n",
        "\n",
        "x = keras_nlp.layers.TransformerEncoder(\n",
        "    intermediate_dim=INTERMEDIATE_DIM, num_heads=NUM_HEADS\n",
        ")(inputs=x)\n",
        "x = keras_nlp.layers.TransformerEncoder(\n",
        "    intermediate_dim=INTERMEDIATE_DIM, num_heads=NUM_HEADS\n",
        ")(inputs=x)\n",
        "x = keras_nlp.layers.TransformerEncoder(\n",
        "    intermediate_dim=INTERMEDIATE_DIM, num_heads=NUM_HEADS\n",
        ")(inputs=x)\n",
        "\n",
        "\n",
        "x = keras.layers.GlobalAveragePooling1D()(x)\n",
        "x = keras.layers.Dropout(0.1)(x)\n",
        "outputs = keras.layers.Dense(1, activation=\"sigmoid\")(x)\n",
        "\n",
        "transformer_classifier = keras.Model(input_ids, outputs, name=\"transformer_classifier\")\n",
        "\n",
        "\n",
        "transformer_classifier.summary()\n",
        "transformer_classifier.compile(\n",
        "    optimizer=keras.optimizers.Adam(learning_rate=0.001),\n",
        "    loss=\"binary_crossentropy\",\n",
        "    metrics=[\"accuracy\"],\n",
        ")\n",
        "transformer_classifier.fit(train_ds, epochs=EPOCHS, validation_data=val_ds)"
      ]
    },
    {
      "cell_type": "code",
      "execution_count": 34,
      "metadata": {
        "id": "fuqfHvuyxKgZ",
        "colab": {
          "base_uri": "https://localhost:8080/"
        },
        "outputId": "3819e219-0fe4-4a8a-dae2-d8e578548588"
      },
      "outputs": [
        {
          "output_type": "stream",
          "name": "stdout",
          "text": [
            "391/391 [==============================] - 30s 59ms/step - loss: 2151.1409 - accuracy: 0.5000\n"
          ]
        },
        {
          "output_type": "execute_result",
          "data": {
            "text/plain": [
              "[2151.140869140625, 0.5]"
            ]
          },
          "metadata": {},
          "execution_count": 34
        }
      ],
      "source": [
        "transformer_classifier.evaluate(test_ds, batch_size=BATCH_SIZE)"
      ]
    },
    {
      "cell_type": "code",
      "execution_count": 34,
      "metadata": {
        "id": "VYSZ17gYxQGW"
      },
      "outputs": [],
      "source": [
        ""
      ]
    }
  ],
  "metadata": {
    "colab": {
      "name": "Text Classification using FNet.ipynb",
      "provenance": [],
      "authorship_tag": "ABX9TyPIZHF2z6CdwvRVDI4voUst"
    },
    "kernelspec": {
      "display_name": "Python 3",
      "name": "python3"
    },
    "language_info": {
      "name": "python"
    },
    "accelerator": "GPU",
    "gpuClass": "standard"
  },
  "nbformat": 4,
  "nbformat_minor": 0
}