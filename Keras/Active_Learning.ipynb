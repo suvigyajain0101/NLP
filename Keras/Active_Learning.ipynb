{
  "nbformat": 4,
  "nbformat_minor": 0,
  "metadata": {
    "colab": {
      "name": "Active Learning.ipynb",
      "provenance": [],
      "authorship_tag": "ABX9TyPbbTr+3Ab18yY1wsLGhG1m"
    },
    "kernelspec": {
      "name": "python3",
      "display_name": "Python 3"
    },
    "language_info": {
      "name": "python"
    }
  },
  "cells": [
    {
      "cell_type": "markdown",
      "source": [
        "# Active Learning\n",
        "\n",
        "\n",
        "With the growth of data-centric Machine Learning, Active Learning has grown in popularity amongst businesses and researchers. Active Learning seeks to progressively train ML models so that the resultant model requires lesser amount of training data to achieve competitive scores.\n",
        "\n",
        "The structure of an Active Learning pipeline involves a classifier and an oracle. The oracle is an annotator that cleans, selects, labels the data, and feeds it to the model when required. The oracle is a trained individual or a group of individuals that ensure consistency in labeling of new data.\n",
        "\n",
        "The process starts with annotating a small subset of the full dataset and training an initial model. The best model checkpoint is saved and then tested on a balanced test set. The test set must be carefully sampled because the full training process will be dependent on it. Once we have the initial evaluation scores, the oracle is tasked with labeling more samples; the number of data points to be sampled is usually determined by the business requirements. After that, the newly sampled data is added to the training set, and the training procedure repeats. This cycle continues until either an acceptable score is reached or some other business metric is met.\n",
        "\n",
        "This tutorial provides a basic demonstration of how Active Learning works by demonstrating a ratio-based (least confidence) sampling strategy that results in lower overall false positive and negative rates when compared to a model trained on the entire dataset. This sampling falls under the domain of uncertanity sampling, in which new datasets are sampled based on the uncertanity that the model outputs for the corresponding label. In our example, we compare our model's false positive and false negative rates and annotate the new data based on their ratio.\n",
        "\n",
        "Some other sampling techniques include:\n",
        "\n",
        "1. Committee sampling: Using multiple models to vote for the best data points to be sampled\n",
        "2. Entropy reduction: Sampling according to an entropy threshold, selecting more of the samples that produce the highest entropy score.\n",
        "3. Minimum margin based sampling: Selects data points closest to the decision boundary"
      ],
      "metadata": {
        "id": "iwWgfkedaC1I"
      }
    },
    {
      "cell_type": "code",
      "source": [
        "import tensorflow_datasets as tfds\n",
        "import tensorflow as tf\n",
        "from tensorflow import keras\n",
        "from tensorflow.keras import layers\n",
        "import matplotlib.pyplot as plt\n",
        "import re\n",
        "import string\n",
        "\n",
        "tfds.disable_progress_bar()"
      ],
      "metadata": {
        "id": "uOY69YD_aZl9"
      },
      "execution_count": 1,
      "outputs": []
    },
    {
      "cell_type": "markdown",
      "source": [
        "### Loading and preprocessing the data\n",
        "\n",
        "We will be using the IMDB reviews dataset for our experiments. This dataset has 50,000 reviews in total, including training and testing splits. We will merge these splits and sample our own, balanced training, validation and testing sets."
      ],
      "metadata": {
        "id": "wAJA6Sztab3k"
      }
    },
    {
      "cell_type": "code",
      "source": [
        "dataset = tfds.load(\n",
        "    \"imdb_reviews\",\n",
        "    split=\"train + test\",\n",
        "    as_supervised=True,\n",
        "    batch_size=-1,\n",
        "    shuffle_files=False,\n",
        ")\n",
        "reviews, labels = tfds.as_numpy(dataset)\n",
        "\n",
        "print(\"Total examples:\", reviews.shape[0])"
      ],
      "metadata": {
        "colab": {
          "base_uri": "https://localhost:8080/"
        },
        "id": "L98KityUatBF",
        "outputId": "94cfec93-53e8-42b3-d9b2-c31f392916ee"
      },
      "execution_count": 2,
      "outputs": [
        {
          "output_type": "stream",
          "name": "stdout",
          "text": [
            "\u001b[1mDownloading and preparing dataset 80.23 MiB (download: 80.23 MiB, generated: Unknown size, total: 80.23 MiB) to ~/tensorflow_datasets/imdb_reviews/plain_text/1.0.0...\u001b[0m\n",
            "\u001b[1mDataset imdb_reviews downloaded and prepared to ~/tensorflow_datasets/imdb_reviews/plain_text/1.0.0. Subsequent calls will reuse this data.\u001b[0m\n",
            "Total examples: 50000\n"
          ]
        }
      ]
    },
    {
      "cell_type": "markdown",
      "source": [
        "Active learning starts with labeling a subset of data. For the ratio sampling technique that we will be using, we will need well-balanced training, validation and testing splits."
      ],
      "metadata": {
        "id": "ewHk_XOka03O"
      }
    },
    {
      "cell_type": "code",
      "source": [
        "val_split = 2500\n",
        "test_split = 2500\n",
        "train_split = 7500"
      ],
      "metadata": {
        "id": "WgsaDyPda4sN"
      },
      "execution_count": 3,
      "outputs": []
    },
    {
      "cell_type": "code",
      "source": [
        "# Separating the negative and positive samples for manual stratification\n",
        "x_positives, y_positives = reviews[labels == 1], labels[labels == 1]\n",
        "x_negatives, y_negatives = reviews[labels == 0], labels[labels == 0]"
      ],
      "metadata": {
        "id": "ttVTqLG8a63f"
      },
      "execution_count": 4,
      "outputs": []
    },
    {
      "cell_type": "code",
      "source": [
        "# Creating training, validation and testing splits\n",
        "x_val, y_val = (\n",
        "    tf.concat((x_positives[:val_split], x_negatives[:val_split]), 0),\n",
        "    tf.concat((y_positives[:val_split], y_negatives[:val_split]), 0),\n",
        ")\n",
        "\n",
        "x_test, y_test = (\n",
        "    tf.concat(\n",
        "        (\n",
        "            x_positives[val_split : val_split + test_split],\n",
        "            x_negatives[val_split : val_split + test_split],\n",
        "        ),\n",
        "        0,\n",
        "    ),\n",
        "    tf.concat(\n",
        "        (\n",
        "            y_positives[val_split : val_split + test_split],\n",
        "            y_negatives[val_split : val_split + test_split],\n",
        "        ),\n",
        "        0,\n",
        "    ),\n",
        ")\n",
        "x_train, y_train = (\n",
        "    tf.concat(\n",
        "        (\n",
        "            x_positives[val_split + test_split : val_split + test_split + train_split],\n",
        "            x_negatives[val_split + test_split : val_split + test_split + train_split],\n",
        "        ),\n",
        "        0,\n",
        "    ),\n",
        "    tf.concat(\n",
        "        (\n",
        "            y_positives[val_split + test_split : val_split + test_split + train_split],\n",
        "            y_negatives[val_split + test_split : val_split + test_split + train_split],\n",
        "        ),\n",
        "        0,\n",
        "    ),\n",
        ")"
      ],
      "metadata": {
        "id": "oMxXMfA7a9u-"
      },
      "execution_count": 6,
      "outputs": []
    },
    {
      "cell_type": "code",
      "source": [
        "# Remaining pool of samples are stored separately. These are only labeled as and when required\n",
        "x_pool_positives, y_pool_positives = (\n",
        "    x_positives[val_split + test_split + train_split :],\n",
        "    y_positives[val_split + test_split + train_split :],\n",
        ")\n",
        "x_pool_negatives, y_pool_negatives = (\n",
        "    x_negatives[val_split + test_split + train_split :],\n",
        "    y_negatives[val_split + test_split + train_split :],\n",
        ")"
      ],
      "metadata": {
        "id": "LIzKrZRHa_c0"
      },
      "execution_count": 7,
      "outputs": []
    },
    {
      "cell_type": "code",
      "source": [
        "# Creating TF Datasets for faster prefetching and parallelization\n",
        "train_dataset = tf.data.Dataset.from_tensor_slices((x_train, y_train))\n",
        "val_dataset = tf.data.Dataset.from_tensor_slices((x_val, y_val))\n",
        "test_dataset = tf.data.Dataset.from_tensor_slices((x_test, y_test))\n",
        "\n",
        "pool_negatives = tf.data.Dataset.from_tensor_slices(\n",
        "    (x_pool_negatives, y_pool_negatives)\n",
        ")\n",
        "pool_positives = tf.data.Dataset.from_tensor_slices(\n",
        "    (x_pool_positives, y_pool_positives)\n",
        ")\n",
        "\n",
        "print(f\"Initial training set size: {len(train_dataset)}\")\n",
        "print(f\"Validation set size: {len(val_dataset)}\")\n",
        "print(f\"Testing set size: {len(test_dataset)}\")\n",
        "print(f\"Unlabeled negative pool: {len(pool_negatives)}\")\n",
        "print(f\"Unlabeled positive pool: {len(pool_positives)}\")"
      ],
      "metadata": {
        "colab": {
          "base_uri": "https://localhost:8080/"
        },
        "id": "Aazd_2tZbkFh",
        "outputId": "6d538b9e-9645-4cad-dfa7-87349aa2cd2b"
      },
      "execution_count": 8,
      "outputs": [
        {
          "output_type": "stream",
          "name": "stdout",
          "text": [
            "Initial training set size: 15000\n",
            "Validation set size: 5000\n",
            "Testing set size: 5000\n",
            "Unlabeled negative pool: 12500\n",
            "Unlabeled positive pool: 12500\n"
          ]
        }
      ]
    },
    {
      "cell_type": "markdown",
      "source": [
        "### Fitting the TextVectorization layer\n",
        "Since we are working with text data, we will need to encode the text strings as vectors which would then be passed through an Embedding layer. To make this tokenization process faster, we use the map() function with its parallelization functionality."
      ],
      "metadata": {
        "id": "68oiNw7bbpW6"
      }
    },
    {
      "cell_type": "code",
      "source": [
        "# Define custom standardization function - \n",
        "# lower the text, remove line breaks, remove punctuations\n",
        "def custom_standardization(input_data):\n",
        "    lowercase = tf.strings.lower(input_data)\n",
        "    stripped_html = tf.strings.regex_replace(lowercase, \"<br />\", \" \")\n",
        "    return tf.strings.regex_replace(\n",
        "        stripped_html, f\"[{re.escape(string.punctuation)}]\", \"\"\n",
        "    )\n",
        "\n",
        "\n",
        "# Create a vectorization layer, with max_features=3000, \n",
        "# custom standardizer and output seq len = 150\n",
        "vectorizer = layers.TextVectorization(\n",
        "    3000, standardize=custom_standardization, output_sequence_length=150\n",
        ")\n",
        "\n",
        "# Adapting on the training dataset\n",
        "# This means that the vectorizer will use the vocab from training dataset\n",
        "vectorizer.adapt(\n",
        "    train_dataset.map(lambda x, y: x, num_parallel_calls=tf.data.AUTOTUNE).batch(256)\n",
        ")\n",
        "\n",
        "# Create the function to map\n",
        "def vectorize_text(text, label):\n",
        "    text = vectorizer(text)\n",
        "    return text, label\n",
        "\n",
        "# Map the vectorizer function on train, test and val datasets\n",
        "# Regarding num_parallel_calls : A tf.int64 scalar tf.Tensor, \n",
        "# representing the number of batches to compute asynchronously in parallel. \n",
        "# If not specified, batches will be computed sequentially. \n",
        "# If the value tf.data.AUTOTUNE is used, then the number of parallel calls is\n",
        "# set dynamically based on available resources\n",
        "train_dataset = train_dataset.map(\n",
        "    vectorize_text, num_parallel_calls=tf.data.AUTOTUNE\n",
        ").prefetch(tf.data.AUTOTUNE)\n",
        "\n",
        "val_dataset = val_dataset.batch(256).map(\n",
        "    vectorize_text, num_parallel_calls=tf.data.AUTOTUNE\n",
        ")\n",
        "\n",
        "test_dataset = test_dataset.batch(256).map(\n",
        "    vectorize_text, num_parallel_calls=tf.data.AUTOTUNE\n",
        ")\n",
        "\n",
        "# Map the vectorizer function on unlabelled positives and negatives\n",
        "pool_negatives = pool_negatives.map(vectorize_text, num_parallel_calls=tf.data.AUTOTUNE)\n",
        "pool_positives = pool_positives.map(vectorize_text, num_parallel_calls=tf.data.AUTOTUNE)"
      ],
      "metadata": {
        "id": "EMmHWSTHb-eY"
      },
      "execution_count": 9,
      "outputs": []
    },
    {
      "cell_type": "markdown",
      "source": [
        "### Creating Helper Functions"
      ],
      "metadata": {
        "id": "NJo7l1KYdK5Y"
      }
    },
    {
      "cell_type": "code",
      "source": [
        "# Helper function for merging new history objects with older ones\n",
        "def append_history(losses, val_losses, accuracy, val_accuracy, history):\n",
        "    losses = losses + history.history[\"loss\"]\n",
        "    val_losses = val_losses + history.history[\"val_loss\"]\n",
        "    accuracy = accuracy + history.history[\"binary_accuracy\"]\n",
        "    val_accuracy = val_accuracy + history.history[\"val_binary_accuracy\"]\n",
        "    return losses, val_losses, accuracy, val_accuracy\n",
        "\n",
        "# Plotter function\n",
        "def plot_history(losses, val_losses, accuracies, val_accuracies):\n",
        "    plt.plot(losses)\n",
        "    plt.plot(val_losses)\n",
        "    plt.legend([\"train_loss\", \"val_loss\"])\n",
        "    plt.xlabel(\"Epochs\")\n",
        "    plt.ylabel(\"Loss\")\n",
        "    plt.show()\n",
        "\n",
        "    plt.plot(accuracies)\n",
        "    plt.plot(val_accuracies)\n",
        "    plt.legend([\"train_accuracy\", \"val_accuracy\"])\n",
        "    plt.xlabel(\"Epochs\")\n",
        "    plt.ylabel(\"Accuracy\")\n",
        "    plt.show()"
      ],
      "metadata": {
        "id": "qe0UVytHdrdz"
      },
      "execution_count": 11,
      "outputs": []
    },
    {
      "cell_type": "markdown",
      "source": [
        "### Creating the Model\n",
        "We create a small bidirectional LSTM model. When using Active Learning, you should make sure that the model architecture is capable of overfitting to the initial data. Overfitting gives a strong hint that the model will have enough capacity for future, unseen data."
      ],
      "metadata": {
        "id": "2rh00aMjds8W"
      }
    },
    {
      "cell_type": "code",
      "source": [
        "def create_model():\n",
        "    model = keras.models.Sequential(\n",
        "        [\n",
        "            layers.Input(shape=(150,)), \n",
        "            layers.Embedding(input_dim=3000, output_dim=128),\n",
        "            layers.Bidirectional(layers.LSTM(32, return_sequences=True)),\n",
        "            layers.GlobalMaxPool1D(),\n",
        "            layers.Dense(20, activation=\"relu\"),\n",
        "            layers.Dropout(0.5),\n",
        "            layers.Dense(1, activation=\"sigmoid\"),\n",
        "        ]\n",
        "    )\n",
        "    model.summary()\n",
        "    return model"
      ],
      "metadata": {
        "id": "togqwuiwe9S3"
      },
      "execution_count": 12,
      "outputs": []
    },
    {
      "cell_type": "markdown",
      "source": [
        "### Training on the entire dataset\n",
        "To show the effectiveness of Active Learning, we will first train the model on the entire dataset containing 40,000 labeled samples. This model will be used for comparison later."
      ],
      "metadata": {
        "id": "YmSUlCuzfsgu"
      }
    },
    {
      "cell_type": "code",
      "source": [
        "def train_full_model(full_train_dataset, val_dataset, test_dataset):\n",
        "    model = create_model()\n",
        "    model.compile(\n",
        "        loss=\"binary_crossentropy\",\n",
        "        optimizer=\"rmsprop\",\n",
        "        metrics=[\n",
        "            keras.metrics.BinaryAccuracy(),\n",
        "            keras.metrics.FalseNegatives(),\n",
        "            keras.metrics.FalsePositives(),\n",
        "        ],\n",
        "    )\n",
        "\n",
        "    # We will save the best model at every epoch and load the best one for evaluation on the test set\n",
        "    history = model.fit(\n",
        "        full_train_dataset.batch(256),\n",
        "        epochs=20,\n",
        "        validation_data=val_dataset,\n",
        "        callbacks=[\n",
        "            keras.callbacks.EarlyStopping(patience=4, verbose=1),\n",
        "            keras.callbacks.ModelCheckpoint(\n",
        "                \"FullModelCheckpoint.h5\", verbose=1, save_best_only=True\n",
        "            ),\n",
        "        ],\n",
        "    )\n",
        "\n",
        "    # Plot history\n",
        "    plot_history(\n",
        "        history.history[\"loss\"],\n",
        "        history.history[\"val_loss\"],\n",
        "        history.history[\"binary_accuracy\"],\n",
        "        history.history[\"val_binary_accuracy\"],\n",
        "    )\n",
        "\n",
        "    # Loading the best checkpoint\n",
        "    model = keras.models.load_model(\"FullModelCheckpoint.h5\")\n",
        "\n",
        "    print(\"-\" * 100)\n",
        "    print(\n",
        "        \"Test set evaluation: \",\n",
        "        model.evaluate(test_dataset, verbose=0, return_dict=True),\n",
        "    )\n",
        "    print(\"-\" * 100)\n",
        "    return model\n",
        "\n",
        "\n",
        "# Sampling the full train dataset to train on\n",
        "full_train_dataset = (\n",
        "    train_dataset.concatenate(pool_positives)\n",
        "    .concatenate(pool_negatives)\n",
        "    .cache()\n",
        "    .shuffle(20000)\n",
        ")\n",
        "\n",
        "# Training the full model\n",
        "full_dataset_model = train_full_model(full_train_dataset, val_dataset, test_dataset)"
      ],
      "metadata": {
        "colab": {
          "base_uri": "https://localhost:8080/",
          "height": 1000
        },
        "id": "W6lmzBnTgYAU",
        "outputId": "b7607e20-affd-44ec-d6ba-461f632977d2"
      },
      "execution_count": 14,
      "outputs": [
        {
          "output_type": "stream",
          "name": "stdout",
          "text": [
            "Model: \"sequential\"\n",
            "_________________________________________________________________\n",
            " Layer (type)                Output Shape              Param #   \n",
            "=================================================================\n",
            " embedding (Embedding)       (None, 150, 128)          384000    \n",
            "                                                                 \n",
            " bidirectional (Bidirectiona  (None, 150, 64)          41216     \n",
            " l)                                                              \n",
            "                                                                 \n",
            " global_max_pooling1d (Globa  (None, 64)               0         \n",
            " lMaxPooling1D)                                                  \n",
            "                                                                 \n",
            " dense (Dense)               (None, 20)                1300      \n",
            "                                                                 \n",
            " dropout (Dropout)           (None, 20)                0         \n",
            "                                                                 \n",
            " dense_1 (Dense)             (None, 1)                 21        \n",
            "                                                                 \n",
            "=================================================================\n",
            "Total params: 426,537\n",
            "Trainable params: 426,537\n",
            "Non-trainable params: 0\n",
            "_________________________________________________________________\n",
            "Epoch 1/20\n",
            "157/157 [==============================] - ETA: 0s - loss: 0.5204 - binary_accuracy: 0.7623 - false_negatives: 3091.0000 - false_positives: 6417.0000\n",
            "Epoch 1: val_loss improved from inf to 0.35586, saving model to FullModelCheckpoint.h5\n",
            "157/157 [==============================] - 98s 570ms/step - loss: 0.5204 - binary_accuracy: 0.7623 - false_negatives: 3091.0000 - false_positives: 6417.0000 - val_loss: 0.3559 - val_binary_accuracy: 0.8458 - val_false_negatives: 310.0000 - val_false_positives: 461.0000\n",
            "Epoch 2/20\n",
            "157/157 [==============================] - ETA: 0s - loss: 0.3655 - binary_accuracy: 0.8529 - false_negatives: 2838.0000 - false_positives: 3044.0000\n",
            "Epoch 2: val_loss did not improve from 0.35586\n",
            "157/157 [==============================] - 82s 520ms/step - loss: 0.3655 - binary_accuracy: 0.8529 - false_negatives: 2838.0000 - false_positives: 3044.0000 - val_loss: 0.3700 - val_binary_accuracy: 0.8370 - val_false_negatives: 176.0000 - val_false_positives: 639.0000\n",
            "Epoch 3/20\n",
            "157/157 [==============================] - ETA: 0s - loss: 0.3296 - binary_accuracy: 0.8696 - false_negatives: 2541.0000 - false_positives: 2674.0000\n",
            "Epoch 3: val_loss improved from 0.35586 to 0.33344, saving model to FullModelCheckpoint.h5\n",
            "157/157 [==============================] - 82s 519ms/step - loss: 0.3296 - binary_accuracy: 0.8696 - false_negatives: 2541.0000 - false_positives: 2674.0000 - val_loss: 0.3334 - val_binary_accuracy: 0.8528 - val_false_negatives: 464.0000 - val_false_positives: 272.0000\n",
            "Epoch 4/20\n",
            "157/157 [==============================] - ETA: 0s - loss: 0.3088 - binary_accuracy: 0.8789 - false_negatives: 2378.0000 - false_positives: 2467.0000\n",
            "Epoch 4: val_loss did not improve from 0.33344\n",
            "157/157 [==============================] - 81s 516ms/step - loss: 0.3088 - binary_accuracy: 0.8789 - false_negatives: 2378.0000 - false_positives: 2467.0000 - val_loss: 0.3643 - val_binary_accuracy: 0.8514 - val_false_negatives: 503.0000 - val_false_positives: 240.0000\n",
            "Epoch 5/20\n",
            "157/157 [==============================] - ETA: 0s - loss: 0.2917 - binary_accuracy: 0.8864 - false_negatives: 2191.0000 - false_positives: 2351.0000\n",
            "Epoch 5: val_loss improved from 0.33344 to 0.32627, saving model to FullModelCheckpoint.h5\n",
            "157/157 [==============================] - 82s 519ms/step - loss: 0.2917 - binary_accuracy: 0.8864 - false_negatives: 2191.0000 - false_positives: 2351.0000 - val_loss: 0.3263 - val_binary_accuracy: 0.8590 - val_false_negatives: 426.0000 - val_false_positives: 279.0000\n",
            "Epoch 6/20\n",
            "157/157 [==============================] - ETA: 0s - loss: 0.2756 - binary_accuracy: 0.8947 - false_negatives: 2016.0000 - false_positives: 2194.0000\n",
            "Epoch 6: val_loss did not improve from 0.32627\n",
            "157/157 [==============================] - 84s 532ms/step - loss: 0.2756 - binary_accuracy: 0.8947 - false_negatives: 2016.0000 - false_positives: 2194.0000 - val_loss: 0.3502 - val_binary_accuracy: 0.8506 - val_false_negatives: 518.0000 - val_false_positives: 229.0000\n",
            "Epoch 7/20\n",
            "157/157 [==============================] - ETA: 0s - loss: 0.2605 - binary_accuracy: 0.9028 - false_negatives: 1900.0000 - false_positives: 1989.0000\n",
            "Epoch 7: val_loss did not improve from 0.32627\n",
            "157/157 [==============================] - 82s 522ms/step - loss: 0.2605 - binary_accuracy: 0.9028 - false_negatives: 1900.0000 - false_positives: 1989.0000 - val_loss: 0.4328 - val_binary_accuracy: 0.8200 - val_false_negatives: 791.0000 - val_false_positives: 109.0000\n",
            "Epoch 8/20\n",
            "157/157 [==============================] - ETA: 0s - loss: 0.2472 - binary_accuracy: 0.9090 - false_negatives: 1853.0000 - false_positives: 1787.0000\n",
            "Epoch 8: val_loss did not improve from 0.32627\n",
            "157/157 [==============================] - 81s 515ms/step - loss: 0.2472 - binary_accuracy: 0.9090 - false_negatives: 1853.0000 - false_positives: 1787.0000 - val_loss: 0.3607 - val_binary_accuracy: 0.8488 - val_false_negatives: 524.0000 - val_false_positives: 232.0000\n",
            "Epoch 9/20\n",
            "157/157 [==============================] - ETA: 0s - loss: 0.2308 - binary_accuracy: 0.9161 - false_negatives: 1686.0000 - false_positives: 1671.0000\n",
            "Epoch 9: val_loss did not improve from 0.32627\n",
            "157/157 [==============================] - 81s 514ms/step - loss: 0.2308 - binary_accuracy: 0.9161 - false_negatives: 1686.0000 - false_positives: 1671.0000 - val_loss: 0.3521 - val_binary_accuracy: 0.8562 - val_false_negatives: 252.0000 - val_false_positives: 467.0000\n",
            "Epoch 9: early stopping\n"
          ]
        },
        {
          "output_type": "display_data",
          "data": {
            "text/plain": [
              "<Figure size 432x288 with 1 Axes>"
            ],
            "image/png": "[encoded data removed]"
          },
          "metadata": {
            "needs_background": "light"
          }
        },
        {
          "output_type": "display_data",
          "data": {
            "text/plain": [
              "<Figure size 432x288 with 1 Axes>"
            ],
            "image/png": "[encoded data removed]"
          },
          "metadata": {
            "needs_background": "light"
          }
        },
        {
          "output_type": "stream",
          "name": "stdout",
          "text": [
            "----------------------------------------------------------------------------------------------------\n",
            "Test set evaluation:  {'loss': 0.3378961682319641, 'binary_accuracy': 0.8543999791145325, 'false_negatives': 443.0, 'false_positives': 285.0}\n",
            "----------------------------------------------------------------------------------------------------\n"
          ]
        }
      ]
    },
    {
      "cell_type": "code",
      "source": [
        ""
      ],
      "metadata": {
        "id": "lsIrjp4dhD-d"
      },
      "execution_count": null,
      "outputs": []
    }
  ]
}