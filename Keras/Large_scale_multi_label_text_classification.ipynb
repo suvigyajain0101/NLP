{
  "nbformat": 4,
  "nbformat_minor": 0,
  "metadata": {
    "colab": {
      "provenance": [],
      "collapsed_sections": [],
      "authorship_tag": "ABX9TyP9UtnY2ELmMwtSgqDoqgFP"
    },
    "kernelspec": {
      "name": "python3",
      "display_name": "Python 3"
    },
    "language_info": {
      "name": "python"
    },
    "accelerator": "GPU",
    "gpuClass": "standard"
  },
  "cells": [
    {
      "cell_type": "markdown",
      "source": [
        "# Introduction\n",
        "In this example, we will build a multi-label text classifier to predict the subject areas of arXiv papers from their abstract bodies. This type of classifier can be useful for conference submission portals like OpenReview. Given a paper abstract, the portal could provide suggestions for which areas the paper would best belong to.\n",
        "\n",
        "The dataset was collected using the arXiv Python library that provides a wrapper around the original arXiv API. Additionally, you can also find the dataset on Kaggle."
      ],
      "metadata": {
        "id": "EW0xOZmu54u7"
      }
    },
    {
      "cell_type": "code",
      "source": [
        "from tensorflow.keras import layers\n",
        "from tensorflow import keras\n",
        "import tensorflow as tf\n",
        "\n",
        "from sklearn.model_selection import train_test_split\n",
        "from ast import literal_eval\n",
        "\n",
        "import matplotlib.pyplot as plt\n",
        "import pandas as pd\n",
        "import numpy as np"
      ],
      "metadata": {
        "id": "c8pVgZEI5-Vd"
      },
      "execution_count": 1,
      "outputs": []
    },
    {
      "cell_type": "markdown",
      "source": [
        "### EDA"
      ],
      "metadata": {
        "id": "9Ckz6EGt8TQC"
      }
    },
    {
      "cell_type": "code",
      "source": [
        "arxiv_data = pd.read_csv(\n",
        "    \"https://github.com/soumik12345/multi-label-text-classification/releases/download/v0.2/arxiv_data.csv\"\n",
        ")\n",
        "\n",
        "print(f\"There are {len(arxiv_data)} rows in the dataset.\")\n",
        "\n",
        "arxiv_data.head()"
      ],
      "metadata": {
        "colab": {
          "base_uri": "https://localhost:8080/",
          "height": 223
        },
        "id": "3slsQh5m8s7s",
        "outputId": "dda01d11-9fac-4955-9d33-c92b22151f9b"
      },
      "execution_count": 2,
      "outputs": [
        {
          "output_type": "stream",
          "name": "stdout",
          "text": [
            "There are 51774 rows in the dataset.\n"
          ]
        },
        {
          "output_type": "execute_result",
          "data": {
            "text/plain": [
              "                                              titles  \\\n",
              "0  Survey on Semantic Stereo Matching / Semantic ...   \n",
              "1  FUTURE-AI: Guiding Principles and Consensus Re...   \n",
              "2  Enforcing Mutual Consistency of Hard Regions f...   \n",
              "3  Parameter Decoupling Strategy for Semi-supervi...   \n",
              "4  Background-Foreground Segmentation for Interio...   \n",
              "\n",
              "                                           summaries  \\\n",
              "0  Stereo matching is one of the widely used tech...   \n",
              "1  The recent advancements in artificial intellig...   \n",
              "2  In this paper, we proposed a novel mutual cons...   \n",
              "3  Consistency training has proven to be an advan...   \n",
              "4  To ensure safety in automated driving, the cor...   \n",
              "\n",
              "                         terms  \n",
              "0           ['cs.CV', 'cs.LG']  \n",
              "1  ['cs.CV', 'cs.AI', 'cs.LG']  \n",
              "2           ['cs.CV', 'cs.AI']  \n",
              "3                    ['cs.CV']  \n",
              "4           ['cs.CV', 'cs.LG']  "
            ],
            "text/html": [
              "\n",
              "  <div id=\"df-a7757048-9cd8-4341-ad47-af67ade8f395\">\n",
              "    <div class=\"colab-df-container\">\n",
              "      <div>\n",
              "<style scoped>\n",
              "    .dataframe tbody tr th:only-of-type {\n",
              "        vertical-align: middle;\n",
              "    }\n",
              "\n",
              "    .dataframe tbody tr th {\n",
              "        vertical-align: top;\n",
              "    }\n",
              "\n",
              "    .dataframe thead th {\n",
              "        text-align: right;\n",
              "    }\n",
              "</style>\n",
              "<table border=\"1\" class=\"dataframe\">\n",
              "  <thead>\n",
              "    <tr style=\"text-align: right;\">\n",
              "      <th></th>\n",
              "      <th>titles</th>\n",
              "      <th>summaries</th>\n",
              "      <th>terms</th>\n",
              "    </tr>\n",
              "  </thead>\n",
              "  <tbody>\n",
              "    <tr>\n",
              "      <th>0</th>\n",
              "      <td>Survey on Semantic Stereo Matching / Semantic ...</td>\n",
              "      <td>Stereo matching is one of the widely used tech...</td>\n",
              "      <td>['cs.CV', 'cs.LG']</td>\n",
              "    </tr>\n",
              "    <tr>\n",
              "      <th>1</th>\n",
              "      <td>FUTURE-AI: Guiding Principles and Consensus Re...</td>\n",
              "      <td>The recent advancements in artificial intellig...</td>\n",
              "      <td>['cs.CV', 'cs.AI', 'cs.LG']</td>\n",
              "    </tr>\n",
              "    <tr>\n",
              "      <th>2</th>\n",
              "      <td>Enforcing Mutual Consistency of Hard Regions f...</td>\n",
              "      <td>In this paper, we proposed a novel mutual cons...</td>\n",
              "      <td>['cs.CV', 'cs.AI']</td>\n",
              "    </tr>\n",
              "    <tr>\n",
              "      <th>3</th>\n",
              "      <td>Parameter Decoupling Strategy for Semi-supervi...</td>\n",
              "      <td>Consistency training has proven to be an advan...</td>\n",
              "      <td>['cs.CV']</td>\n",
              "    </tr>\n",
              "    <tr>\n",
              "      <th>4</th>\n",
              "      <td>Background-Foreground Segmentation for Interio...</td>\n",
              "      <td>To ensure safety in automated driving, the cor...</td>\n",
              "      <td>['cs.CV', 'cs.LG']</td>\n",
              "    </tr>\n",
              "  </tbody>\n",
              "</table>\n",
              "</div>\n",
              "      <button class=\"colab-df-convert\" onclick=\"convertToInteractive('df-a7757048-9cd8-4341-ad47-af67ade8f395')\"\n",
              "              title=\"Convert this dataframe to an interactive table.\"\n",
              "              style=\"display:none;\">\n",
              "        \n",
              "  <svg xmlns=\"http://www.w3.org/2000/svg\" height=\"24px\"viewBox=\"0 0 24 24\"\n",
              "       width=\"24px\">\n",
              "    <path d=\"M0 0h24v24H0V0z\" fill=\"none\"/>\n",
              "    <path d=\"M18.56 5.44l.94 2.06.94-2.06 2.06-.94-2.06-.94-.94-2.06-.94 2.06-2.06.94zm-11 1L8.5 8.5l.94-2.06 2.06-.94-2.06-.94L8.5 2.5l-.94 2.06-2.06.94zm10 10l.94 2.06.94-2.06 2.06-.94-2.06-.94-.94-2.06-.94 2.06-2.06.94z\"/><path d=\"M17.41 7.96l-1.37-1.37c-.4-.4-.92-.59-1.43-.59-.52 0-1.04.2-1.43.59L10.3 9.45l-7.72 7.72c-.78.78-.78 2.05 0 2.83L4 21.41c.39.39.9.59 1.41.59.51 0 1.02-.2 1.41-.59l7.78-7.78 2.81-2.81c.8-.78.8-2.07 0-2.86zM5.41 20L4 18.59l7.72-7.72 1.47 1.35L5.41 20z\"/>\n",
              "  </svg>\n",
              "      </button>\n",
              "      \n",
              "  <style>\n",
              "    .colab-df-container {\n",
              "      display:flex;\n",
              "      flex-wrap:wrap;\n",
              "      gap: 12px;\n",
              "    }\n",
              "\n",
              "    .colab-df-convert {\n",
              "      background-color: #E8F0FE;\n",
              "      border: none;\n",
              "      border-radius: 50%;\n",
              "      cursor: pointer;\n",
              "      display: none;\n",
              "      fill: #1967D2;\n",
              "      height: 32px;\n",
              "      padding: 0 0 0 0;\n",
              "      width: 32px;\n",
              "    }\n",
              "\n",
              "    .colab-df-convert:hover {\n",
              "      background-color: #E2EBFA;\n",
              "      box-shadow: 0px 1px 2px rgba(60, 64, 67, 0.3), 0px 1px 3px 1px rgba(60, 64, 67, 0.15);\n",
              "      fill: #174EA6;\n",
              "    }\n",
              "\n",
              "    [theme=dark] .colab-df-convert {\n",
              "      background-color: #3B4455;\n",
              "      fill: #D2E3FC;\n",
              "    }\n",
              "\n",
              "    [theme=dark] .colab-df-convert:hover {\n",
              "      background-color: #434B5C;\n",
              "      box-shadow: 0px 1px 3px 1px rgba(0, 0, 0, 0.15);\n",
              "      filter: drop-shadow(0px 1px 2px rgba(0, 0, 0, 0.3));\n",
              "      fill: #FFFFFF;\n",
              "    }\n",
              "  </style>\n",
              "\n",
              "      <script>\n",
              "        const buttonEl =\n",
              "          document.querySelector('#df-a7757048-9cd8-4341-ad47-af67ade8f395 button.colab-df-convert');\n",
              "        buttonEl.style.display =\n",
              "          google.colab.kernel.accessAllowed ? 'block' : 'none';\n",
              "\n",
              "        async function convertToInteractive(key) {\n",
              "          const element = document.querySelector('#df-a7757048-9cd8-4341-ad47-af67ade8f395');\n",
              "          const dataTable =\n",
              "            await google.colab.kernel.invokeFunction('convertToInteractive',\n",
              "                                                     [key], {});\n",
              "          if (!dataTable) return;\n",
              "\n",
              "          const docLinkHtml = 'Like what you see? Visit the ' +\n",
              "            '<a target=\"_blank\" href=https://colab.research.google.com/notebooks/data_table.ipynb>data table notebook</a>'\n",
              "            + ' to learn more about interactive tables.';\n",
              "          element.innerHTML = '';\n",
              "          dataTable['output_type'] = 'display_data';\n",
              "          await google.colab.output.renderOutput(dataTable, element);\n",
              "          const docLink = document.createElement('div');\n",
              "          docLink.innerHTML = docLinkHtml;\n",
              "          element.appendChild(docLink);\n",
              "        }\n",
              "      </script>\n",
              "    </div>\n",
              "  </div>\n",
              "  "
            ]
          },
          "metadata": {},
          "execution_count": 2
        }
      ]
    },
    {
      "cell_type": "markdown",
      "source": [
        "#### Remove Duplicated records\n",
        "\n",
        "1. Remove row-level duplicates\n",
        "2. Remove records with same title"
      ],
      "metadata": {
        "id": "KAAQKkxp8tin"
      }
    },
    {
      "cell_type": "code",
      "source": [
        "print('Total duplicated entries : ', arxiv_data.shape[0] - arxiv_data.drop_duplicates().shape[0])"
      ],
      "metadata": {
        "colab": {
          "base_uri": "https://localhost:8080/"
        },
        "id": "aTguOzB19Imk",
        "outputId": "cf6fd52c-428c-4dbd-ce23-9cdf1385350b"
      },
      "execution_count": 3,
      "outputs": [
        {
          "output_type": "stream",
          "name": "stdout",
          "text": [
            "Total duplicated entries :  12783\n"
          ]
        }
      ]
    },
    {
      "cell_type": "code",
      "source": [
        "arxiv_data = arxiv_data.drop_duplicates()\n",
        "print('Data volume after removing duplicates : ', arxiv_data.shape[0])"
      ],
      "metadata": {
        "colab": {
          "base_uri": "https://localhost:8080/"
        },
        "id": "LdKr9Ryt9RZk",
        "outputId": "d5710917-f0d5-4a38-8e64-a9e0741cffd4"
      },
      "execution_count": 4,
      "outputs": [
        {
          "output_type": "stream",
          "name": "stdout",
          "text": [
            "Data volume after removing duplicates :  38991\n"
          ]
        }
      ]
    },
    {
      "cell_type": "code",
      "source": [
        "arxiv_data = arxiv_data[~arxiv_data[\"titles\"].duplicated()]\n",
        "print(f\"There are {len(arxiv_data)} rows in the final deduplicated dataset.\")"
      ],
      "metadata": {
        "colab": {
          "base_uri": "https://localhost:8080/"
        },
        "id": "EOaviuFB9afH",
        "outputId": "78e5fcdf-96e0-4de3-83ed-0f4519462b0e"
      },
      "execution_count": 5,
      "outputs": [
        {
          "output_type": "stream",
          "name": "stdout",
          "text": [
            "There are 38972 rows in the final deduplicated dataset.\n"
          ]
        }
      ]
    },
    {
      "cell_type": "markdown",
      "source": [
        "#### Analyse terms"
      ],
      "metadata": {
        "id": "9STbSLTo-M9X"
      }
    },
    {
      "cell_type": "code",
      "source": [
        "arxiv_data['terms'].unique()"
      ],
      "metadata": {
        "colab": {
          "base_uri": "https://localhost:8080/"
        },
        "id": "T0bGxclz92bb",
        "outputId": "c25992d4-acf4-45c9-90d3-abd5dbf4f73a"
      },
      "execution_count": 6,
      "outputs": [
        {
          "output_type": "execute_result",
          "data": {
            "text/plain": [
              "array([\"['cs.CV', 'cs.LG']\", \"['cs.CV', 'cs.AI', 'cs.LG']\",\n",
              "       \"['cs.CV', 'cs.AI']\", ..., \"['stat.ML', 'cs.LG', 'I.2.1; J.3']\",\n",
              "       \"['cs.LG', 'cs.NE', 'q-bio.BM', 'stat.ML']\",\n",
              "       \"['stat.ML', 'cs.CV', 'cs.LG', 'q-bio.QM']\"], dtype=object)"
            ]
          },
          "metadata": {},
          "execution_count": 6
        }
      ]
    },
    {
      "cell_type": "code",
      "source": [
        "arxiv_data['terms'].value_counts()"
      ],
      "metadata": {
        "colab": {
          "base_uri": "https://localhost:8080/"
        },
        "id": "KQKi5hYz-Qtb",
        "outputId": "55fcfcbf-1418-4886-ffdb-d4a5a9ace33f"
      },
      "execution_count": 7,
      "outputs": [
        {
          "output_type": "execute_result",
          "data": {
            "text/plain": [
              "['cs.CV']                                          12747\n",
              "['cs.LG', 'stat.ML']                                4074\n",
              "['cs.LG']                                           2046\n",
              "['cs.CV', 'cs.LG']                                  1486\n",
              "['cs.LG', 'cs.AI']                                  1206\n",
              "                                                   ...  \n",
              "['cs.LG', 'cs.CL', 'cs.HC', 'stat.ML']                 1\n",
              "['cs.LG', 'cs.AI', 'cs.CL', 'cs.PL', 'stat.ML']        1\n",
              "['cs.LG', 'cs.CL', 'stat.ME', 'stat.ML']               1\n",
              "['cs.LG', 'cs.CL', 'cs.LO', 'stat.ML']                 1\n",
              "['stat.ML', 'cs.CV', 'cs.LG', 'q-bio.QM']              1\n",
              "Name: terms, Length: 3157, dtype: int64"
            ]
          },
          "metadata": {},
          "execution_count": 7
        }
      ]
    },
    {
      "cell_type": "markdown",
      "source": [
        "Out of 3157 distinct labels, 2321 labels occur only once. In order to better prepare the data for classification and the problem itself, we should remove these entries"
      ],
      "metadata": {
        "id": "eVBkoUqT-5wE"
      }
    },
    {
      "cell_type": "code",
      "source": [
        "arxiv_data.groupby(\"terms\").filter(lambda x: len(x) == 1).shape[0]"
      ],
      "metadata": {
        "colab": {
          "base_uri": "https://localhost:8080/"
        },
        "id": "YM12dLRu-W6c",
        "outputId": "ce80a414-44d7-477c-8f44-1e82db358761"
      },
      "execution_count": 8,
      "outputs": [
        {
          "output_type": "execute_result",
          "data": {
            "text/plain": [
              "2321"
            ]
          },
          "metadata": {},
          "execution_count": 8
        }
      ]
    },
    {
      "cell_type": "code",
      "source": [
        "# Filtering the rare terms\n",
        "arxiv_data_filtered = arxiv_data.groupby(\"terms\").filter(lambda x: len(x) > 1)\n",
        "arxiv_data_filtered.shape"
      ],
      "metadata": {
        "colab": {
          "base_uri": "https://localhost:8080/"
        },
        "id": "rJrEUgVg_Ihy",
        "outputId": "7454617d-66c6-42ff-f71c-c45d9db46c82"
      },
      "execution_count": 9,
      "outputs": [
        {
          "output_type": "execute_result",
          "data": {
            "text/plain": [
              "(36651, 3)"
            ]
          },
          "metadata": {},
          "execution_count": 9
        }
      ]
    },
    {
      "cell_type": "markdown",
      "source": [
        "### Convert the string labels to lists of strings\n",
        "The initial labels are represented as raw strings. Here we make them List[str] for a more compact representation."
      ],
      "metadata": {
        "id": "6RcyzFIS_LsD"
      }
    },
    {
      "cell_type": "code",
      "source": [
        "arxiv_data_filtered[\"terms\"] = arxiv_data_filtered[\"terms\"].apply(\n",
        "    lambda x: literal_eval(x)\n",
        ")\n",
        "arxiv_data_filtered[\"terms\"].values[:5]"
      ],
      "metadata": {
        "colab": {
          "base_uri": "https://localhost:8080/"
        },
        "id": "bljr-Y6yHB_K",
        "outputId": "05811dda-8d87-4088-965a-e8c168e8b836"
      },
      "execution_count": 10,
      "outputs": [
        {
          "output_type": "execute_result",
          "data": {
            "text/plain": [
              "array([list(['cs.CV', 'cs.LG']), list(['cs.CV', 'cs.AI', 'cs.LG']),\n",
              "       list(['cs.CV', 'cs.AI']), list(['cs.CV']),\n",
              "       list(['cs.CV', 'cs.LG'])], dtype=object)"
            ]
          },
          "metadata": {},
          "execution_count": 10
        }
      ]
    },
    {
      "cell_type": "markdown",
      "source": [
        "### Use stratified splits because of class imbalance\n",
        "The dataset has a class imbalance problem. So, to have a fair evaluation result, we need to ensure the datasets are sampled with stratification."
      ],
      "metadata": {
        "id": "f-r1KDMAHEsj"
      }
    },
    {
      "cell_type": "code",
      "source": [
        "test_split = 0.1\n",
        "\n",
        "# Initial train and test split\n",
        "train_df, test_df = train_test_split(\n",
        "    arxiv_data_filtered,\n",
        "    test_size=test_split,\n",
        "    stratify=arxiv_data_filtered[\"terms\"].values,\n",
        ")\n",
        "\n",
        "# Splitting the test set further into validation\n",
        "# and new test sets\n",
        "val_df = test_df.sample(frac=0.5)\n",
        "test_df.drop(val_df.index, inplace=True)\n",
        "\n",
        "print(f\"Number of rows in training set: {len(train_df)}\")\n",
        "print(f\"Number of rows in validation set: {len(val_df)}\")\n",
        "print(f\"Number of rows in test set: {len(test_df)}\")"
      ],
      "metadata": {
        "colab": {
          "base_uri": "https://localhost:8080/"
        },
        "id": "CjA8-5wJHLH7",
        "outputId": "3f9eb811-94d4-43d8-e53d-9273fcd40f19"
      },
      "execution_count": 11,
      "outputs": [
        {
          "output_type": "stream",
          "name": "stdout",
          "text": [
            "Number of rows in training set: 32985\n",
            "Number of rows in validation set: 1833\n",
            "Number of rows in test set: 1833\n"
          ]
        }
      ]
    },
    {
      "cell_type": "markdown",
      "source": [
        "### Multi-label binarization\n",
        "Now we preprocess our labels using the StringLookup layer"
      ],
      "metadata": {
        "id": "Rg1SszLaHbWc"
      }
    },
    {
      "cell_type": "code",
      "source": [
        "terms = tf.ragged.constant(train_df[\"terms\"].values)\n",
        "lookup = tf.keras.layers.StringLookup(output_mode=\"multi_hot\")\n",
        "lookup.adapt(terms)\n",
        "vocab = lookup.get_vocabulary()\n",
        "\n",
        "\n",
        "def invert_multi_hot(encoded_labels):\n",
        "    \"\"\"Reverse a single multi-hot encoded label to a tuple of vocab terms.\"\"\"\n",
        "    hot_indices = np.argwhere(encoded_labels == 1.0)[..., 0]\n",
        "    return np.take(vocab, hot_indices)\n",
        "\n",
        "\n",
        "print(\"Vocabulary:\\n\")\n",
        "print(vocab)"
      ],
      "metadata": {
        "colab": {
          "base_uri": "https://localhost:8080/"
        },
        "id": "PhwbUgXQHo-x",
        "outputId": "7894c77a-93fc-41a4-9161-60b843d17065"
      },
      "execution_count": 12,
      "outputs": [
        {
          "output_type": "stream",
          "name": "stdout",
          "text": [
            "Vocabulary:\n",
            "\n",
            "['[UNK]', 'cs.CV', 'cs.LG', 'stat.ML', 'cs.AI', 'eess.IV', 'cs.RO', 'cs.CL', 'cs.NE', 'cs.CR', 'math.OC', 'eess.SP', 'cs.GR', 'cs.SI', 'cs.MM', 'cs.SY', 'cs.IR', 'cs.MA', 'eess.SY', 'cs.HC', 'math.IT', 'cs.IT', 'cs.DC', 'cs.CY', 'stat.AP', 'stat.TH', 'math.ST', 'stat.ME', 'eess.AS', 'cs.SD', 'q-bio.QM', 'q-bio.NC', 'cs.DS', 'cs.GT', 'cs.SE', 'cs.CG', 'cs.NI', 'stat.CO', 'I.2.6', 'math.NA', 'cs.NA', 'physics.chem-ph', 'cs.DB', 'q-bio.BM', 'cs.LO', 'cond-mat.dis-nn', '68T45', 'math.PR', 'cs.PL', 'physics.comp-ph', 'cs.CE', 'cs.AR', 'I.2.10', 'q-fin.ST', 'cond-mat.stat-mech', 'quant-ph', 'math.DS', '68T05', 'cs.CC', 'I.4.6', 'physics.data-an', 'physics.soc-ph', 'physics.ao-ph', 'cs.DM', 'econ.EM', 'q-bio.GN', 'physics.med-ph', 'cs.PF', 'astro-ph.IM', 'I.4.8', 'math.AT', 'cs.FL', 'I.4', 'q-fin.TR', 'I.5.4', 'I.2', '68U10', 'hep-ex', '68T10', 'physics.geo-ph', 'cond-mat.mtrl-sci', 'q-fin.CP', 'physics.optics', 'physics.flu-dyn', 'math.CO', 'math.AP', 'I.4; I.5', 'I.4.9', 'I.2.6; I.2.8', 'I.2.10; I.4; I.5', '68T01', '65D19', 'nlin.CD', 'cs.MS', 'I.2.6; I.5.1', 'I.2.0; I.2.6', '68T07', 'q-fin.GN', 'cs.SC', 'cs.ET', 'K.3.2', 'I.2; I.5', 'I.2.8', '68U01', '68T30', 'q-fin.EC', 'q-bio.MN', 'econ.GN', 'I.4.9; I.5.4', 'I.4.5', 'I.2; I.4; I.5', 'I.2.6; I.2.7', 'I.2.10; I.4.8', '68T99', '68Q32', '68', '62H30', 'q-fin.RM', 'q-fin.PM', 'q-bio.TO', 'q-bio.OT', 'physics.bio-ph', 'nlin.AO', 'math.LO', 'math.FA', 'hep-ph', 'cond-mat.soft', 'I.4.6; I.4.8', 'I.4.4', 'I.4.3', 'I.4.0', 'I.2; J.2', 'I.2; I.2.6; I.2.7', 'I.2.7', 'I.2.6; I.5.4', 'I.2.6; I.2.9', 'I.2.6; I.2.7; H.3.1; H.3.3', 'I.2.6; I.2.10', 'I.2.6, I.5.4', 'I.2.1; J.3', 'I.2.10; I.5.1; I.4.8', 'I.2.10; I.4.8; I.5.4', 'I.2.10; I.2.6', 'I.2.1', 'H.3.1; I.2.6; I.2.7', 'H.3.1; H.3.3; I.2.6; I.2.7', 'G.3', 'F.2.2; I.2.7', 'E.5; E.4; E.2; H.1.1; F.1.1; F.1.3', '68Txx', '62H99', '62H35', '14J60 (Primary) 14F05, 14J26 (Secondary)']\n"
          ]
        }
      ]
    },
    {
      "cell_type": "markdown",
      "source": [
        "Here we are separating the individual unique classes available from the label pool and then using this information to represent a given label set with 0's and 1's. Below is an example."
      ],
      "metadata": {
        "id": "tTNSm3KuIIdT"
      }
    },
    {
      "cell_type": "code",
      "source": [
        "sample_label = train_df[\"terms\"].iloc[10]\n",
        "print(f\"Original label: {sample_label}\")\n",
        "\n",
        "label_binarized = lookup([sample_label])\n",
        "print(f\"Label-binarized representation: {label_binarized}\")"
      ],
      "metadata": {
        "colab": {
          "base_uri": "https://localhost:8080/"
        },
        "id": "XLrc6EmUIX0R",
        "outputId": "652f8105-3fb1-4b74-9de7-ef2807683585"
      },
      "execution_count": 13,
      "outputs": [
        {
          "output_type": "stream",
          "name": "stdout",
          "text": [
            "Original label: ['cs.CV']\n",
            "Label-binarized representation: [[0. 1. 0. 0. 0. 0. 0. 0. 0. 0. 0. 0. 0. 0. 0. 0. 0. 0. 0. 0. 0. 0. 0. 0.\n",
            "  0. 0. 0. 0. 0. 0. 0. 0. 0. 0. 0. 0. 0. 0. 0. 0. 0. 0. 0. 0. 0. 0. 0. 0.\n",
            "  0. 0. 0. 0. 0. 0. 0. 0. 0. 0. 0. 0. 0. 0. 0. 0. 0. 0. 0. 0. 0. 0. 0. 0.\n",
            "  0. 0. 0. 0. 0. 0. 0. 0. 0. 0. 0. 0. 0. 0. 0. 0. 0. 0. 0. 0. 0. 0. 0. 0.\n",
            "  0. 0. 0. 0. 0. 0. 0. 0. 0. 0. 0. 0. 0. 0. 0. 0. 0. 0. 0. 0. 0. 0. 0. 0.\n",
            "  0. 0. 0. 0. 0. 0. 0. 0. 0. 0. 0. 0. 0. 0. 0. 0. 0. 0. 0. 0. 0. 0. 0. 0.\n",
            "  0. 0. 0. 0. 0. 0. 0. 0. 0.]]\n"
          ]
        }
      ]
    },
    {
      "cell_type": "markdown",
      "source": [
        "### Data preprocessing and tf.data.Dataset objects\n",
        "We first get percentile estimates of the sequence lengths."
      ],
      "metadata": {
        "id": "CM_Mlmm9I88p"
      }
    },
    {
      "cell_type": "code",
      "source": [
        "train_df[\"summaries\"].apply(lambda x: len(x.split(\" \"))).describe()"
      ],
      "metadata": {
        "colab": {
          "base_uri": "https://localhost:8080/"
        },
        "id": "reb3ZKimJxOR",
        "outputId": "8f614d56-5cdf-481c-d471-ab58c9db88e5"
      },
      "execution_count": 14,
      "outputs": [
        {
          "output_type": "execute_result",
          "data": {
            "text/plain": [
              "count    32985.000000\n",
              "mean       156.403183\n",
              "std         41.513529\n",
              "min          5.000000\n",
              "25%        128.000000\n",
              "50%        154.000000\n",
              "75%        183.000000\n",
              "max        462.000000\n",
              "Name: summaries, dtype: float64"
            ]
          },
          "metadata": {},
          "execution_count": 14
        }
      ]
    },
    {
      "cell_type": "markdown",
      "source": [
        "Notice that 50% of the abstracts have a length of 156. So, any number close to that value is a good enough approximate for the maximum sequence length.\n",
        "\n",
        "Now, we implement utilities to prepare our datasets."
      ],
      "metadata": {
        "id": "UEixo-m0JzEL"
      }
    },
    {
      "cell_type": "code",
      "source": [
        "max_seqlen = 150\n",
        "batch_size = 128\n",
        "padding_token = \"<pad>\"\n",
        "auto = tf.data.AUTOTUNE\n",
        "\n",
        "\n",
        "def make_dataset(dataframe, is_train=True):\n",
        "    labels = tf.ragged.constant(dataframe[\"terms\"].values)\n",
        "    label_binarized = lookup(labels).numpy()\n",
        "    dataset = tf.data.Dataset.from_tensor_slices(\n",
        "        (dataframe[\"summaries\"].values, label_binarized)\n",
        "    )\n",
        "    dataset = dataset.shuffle(batch_size * 10) if is_train else dataset\n",
        "    return dataset.batch(batch_size)"
      ],
      "metadata": {
        "id": "Nncv7fPLKB_m"
      },
      "execution_count": 15,
      "outputs": []
    },
    {
      "cell_type": "markdown",
      "source": [
        "Now we can prepare the tf.data.Dataset objects."
      ],
      "metadata": {
        "id": "OkbGhGVDLLZH"
      }
    },
    {
      "cell_type": "code",
      "source": [
        "train_dataset = make_dataset(train_df, is_train=True)\n",
        "validation_dataset = make_dataset(val_df, is_train=False)\n",
        "test_dataset = make_dataset(test_df, is_train=False)"
      ],
      "metadata": {
        "id": "JpWd0AhhLVAc"
      },
      "execution_count": 16,
      "outputs": []
    },
    {
      "cell_type": "markdown",
      "source": [
        "### Dataset preview"
      ],
      "metadata": {
        "id": "qYWtSUlHLfPg"
      }
    },
    {
      "cell_type": "code",
      "source": [
        "text_batch, label_batch = next(iter(train_dataset))\n",
        "\n",
        "for i, text in enumerate(text_batch[:5]):\n",
        "    label = label_batch[i].numpy()[None, ...]\n",
        "    print(f\"Abstract: {text}\")\n",
        "    print(f\"Label(s): {invert_multi_hot(label[0])}\")\n",
        "    print(\" \")"
      ],
      "metadata": {
        "colab": {
          "base_uri": "https://localhost:8080/"
        },
        "id": "s0htOtsKLl2T",
        "outputId": "c13a0bfe-8996-449c-8fd9-c00f030b2285"
      },
      "execution_count": 17,
      "outputs": [
        {
          "output_type": "stream",
          "name": "stdout",
          "text": [
            "Abstract: b'Popular sparse estimation methods based on $\\\\ell_1$-relaxation, such as the\\nLasso and the Dantzig selector, require the knowledge of the variance of the\\nnoise in order to properly tune the regularization parameter. This constitutes\\na major obstacle in applying these methods in several frameworks---such as time\\nseries, random fields, inverse problems---for which the noise is rarely\\nhomoscedastic and its level is hard to know in advance. In this paper, we\\npropose a new approach to the joint estimation of the conditional mean and the\\nconditional variance in a high-dimensional (auto-) regression setting. An\\nattractive feature of the proposed estimator is that it is efficiently\\ncomputable even for very large scale problems by solving a second-order cone\\nprogram (SOCP). We present theoretical analysis and numerical results assessing\\nthe performance of the proposed procedure.'\n",
            "Label(s): ['stat.ML']\n",
            " \n",
            "Abstract: b'We propose a self-supervised framework to learn scene representations from\\nvideo that are automatically delineated into objects and background. Our method\\nrelies on moving objects being equivariant with respect to their transformation\\nacross frames and the background being constant. After training, we can\\nmanipulate and render the scenes in real time to create unseen combinations of\\nobjects, transformations, and backgrounds. We show results on moving MNIST with\\nbackgrounds.'\n",
            "Label(s): ['cs.CV']\n",
            " \n",
            "Abstract: b'Recent years have witnessed tremendous interest in deep learning on\\ngraph-structured data. Due to the high cost of collecting labeled\\ngraph-structured data, domain adaptation is important to supervised graph\\nlearning tasks with limited samples. However, current graph domain adaptation\\nmethods are generally adopted from traditional domain adaptation tasks, and the\\nproperties of graph-structured data are not well utilized. For example, the\\nobserved social networks on different platforms are controlled not only by the\\ndifferent crowd or communities but also by the domain-specific policies and the\\nbackground noise. Based on these properties in graph-structured data, we first\\nassume that the graph-structured data generation process is controlled by three\\nindependent types of latent variables, i.e., the semantic latent variables, the\\ndomain latent variables, and the random latent variables. Based on this\\nassumption, we propose a disentanglement-based unsupervised domain adaptation\\nmethod for the graph-structured data, which applies variational graph\\nauto-encoders to recover these latent variables and disentangles them via three\\nsupervised learning modules. Extensive experimental results on two real-world\\ndatasets in the graph classification task reveal that our method not only\\nsignificantly outperforms the traditional domain adaptation methods and the\\ndisentangled-based domain adaptation methods but also outperforms the\\nstate-of-the-art graph domain adaptation algorithms.'\n",
            "Label(s): ['cs.LG']\n",
            " \n",
            "Abstract: b'Depth estimation and 3D object detection are critical for scene understanding\\nbut remain challenging to perform with a single image due to the loss of 3D\\ninformation during image capture. Recent models using deep neural networks have\\nimproved monocular depth estimation performance, but there is still difficulty\\nin predicting absolute depth and generalizing outside a standard dataset. Here\\nwe introduce the paradigm of deep optics, i.e. end-to-end design of optics and\\nimage processing, to the monocular depth estimation problem, using coded\\ndefocus blur as an additional depth cue to be decoded by a neural network. We\\nevaluate several optical coding strategies along with an end-to-end\\noptimization scheme for depth estimation on three datasets, including NYU Depth\\nv2 and KITTI. We find an optimized freeform lens design yields the best\\nresults, but chromatic aberration from a singlet lens offers significantly\\nimproved performance as well. We build a physical prototype and validate that\\nchromatic aberrations improve depth estimation on real-world results. In\\naddition, we train object detection networks on the KITTI dataset and show that\\nthe lens optimized for depth estimation also results in improved 3D object\\ndetection performance.'\n",
            "Label(s): ['cs.CV' 'eess.IV']\n",
            " \n",
            "Abstract: b'In this paper, we propose a novel progressive parameter pruning method for\\nConvolutional Neural Network acceleration, named Structured Probabilistic\\nPruning (SPP), which effectively prunes weights of convolutional layers in a\\nprobabilistic manner. Unlike existing deterministic pruning approaches, where\\nunimportant weights are permanently eliminated, SPP introduces a pruning\\nprobability for each weight, and pruning is guided by sampling from the pruning\\nprobabilities. A mechanism is designed to increase and decrease pruning\\nprobabilities based on importance criteria in the training process. Experiments\\nshow that, with 4x speedup, SPP can accelerate AlexNet with only 0.3% loss of\\ntop-5 accuracy and VGG-16 with 0.8% loss of top-5 accuracy in ImageNet\\nclassification. Moreover, SPP can be directly applied to accelerate\\nmulti-branch CNN networks, such as ResNet, without specific adaptations. Our 2x\\nspeedup ResNet-50 only suffers 0.8% loss of top-5 accuracy on ImageNet. We\\nfurther show the effectiveness of SPP on transfer learning tasks.'\n",
            "Label(s): ['cs.LG' 'stat.ML']\n",
            " \n"
          ]
        }
      ]
    },
    {
      "cell_type": "markdown",
      "source": [
        "### Vectorization\n",
        "Before we feed the data to our model, we need to vectorize it (represent it in a numerical form). For that purpose, we will use the TextVectorization layer. It can operate as a part of your main model so that the model is excluded from the core preprocessing logic. This greatly reduces the chances of training / serving skew during inference.\n",
        "\n",
        "We first calculate the number of unique words present in the abstracts."
      ],
      "metadata": {
        "id": "Oyb1herjL_GF"
      }
    },
    {
      "cell_type": "code",
      "source": [
        "# Source: https://stackoverflow.com/a/18937309/7636462\n",
        "vocabulary = set()\n",
        "train_df[\"summaries\"].str.lower().str.split().apply(vocabulary.update)\n",
        "vocabulary_size = len(vocabulary)\n",
        "print(vocabulary_size)"
      ],
      "metadata": {
        "colab": {
          "base_uri": "https://localhost:8080/"
        },
        "id": "mUxKsjhOQVbV",
        "outputId": "5b7ab9b8-e2d4-44ae-b9c6-24626c137752"
      },
      "execution_count": 18,
      "outputs": [
        {
          "output_type": "stream",
          "name": "stdout",
          "text": [
            "153313\n"
          ]
        }
      ]
    },
    {
      "cell_type": "markdown",
      "source": [
        "We now create our vectorization layer and map() to the tf.data.Datasets created earlier"
      ],
      "metadata": {
        "id": "4pq0nCVjRbr2"
      }
    },
    {
      "cell_type": "code",
      "source": [
        "text_vectorizer = layers.TextVectorization(\n",
        "    max_tokens=vocabulary_size, ngrams=2, output_mode=\"tf_idf\"\n",
        ")"
      ],
      "metadata": {
        "id": "BaVLuRd2Rn8U"
      },
      "execution_count": 19,
      "outputs": []
    },
    {
      "cell_type": "markdown",
      "source": [
        "`TextVectorization` layer needs to be adapted as per the vocabulary from our training set"
      ],
      "metadata": {
        "id": "9GtHvIVyToyD"
      }
    },
    {
      "cell_type": "code",
      "source": [
        "with tf.device(\"/CPU:0\"):\n",
        "    text_vectorizer.adapt(train_dataset.map(lambda text, label: text))\n",
        "\n",
        "train_dataset = train_dataset.map(\n",
        "    lambda text, label: (text_vectorizer(text), label), num_parallel_calls=auto\n",
        ").prefetch(auto)\n",
        "validation_dataset = validation_dataset.map(\n",
        "    lambda text, label: (text_vectorizer(text), label), num_parallel_calls=auto\n",
        ").prefetch(auto)\n",
        "test_dataset = test_dataset.map(\n",
        "    lambda text, label: (text_vectorizer(text), label), num_parallel_calls=auto\n",
        ").prefetch(auto)"
      ],
      "metadata": {
        "id": "LaSBhmCyTw6K"
      },
      "execution_count": 20,
      "outputs": []
    },
    {
      "cell_type": "markdown",
      "source": [
        "A batch of raw text will first go through the TextVectorization layer and it will generate their integer representations. Internally, the TextVectorization layer will first create bi-grams out of the sequences and then represent them using TF-IDF. The output representations will then be passed to the shallow model responsible for text classification."
      ],
      "metadata": {
        "id": "8JuTl2xyUrGw"
      }
    },
    {
      "cell_type": "markdown",
      "source": [
        "### Create a text classification model\n",
        "We will keep our model simple -- it will be a small stack of fully-connected layers with ReLU as the non-linearity."
      ],
      "metadata": {
        "id": "I5VtIWCvXOt0"
      }
    },
    {
      "cell_type": "code",
      "source": [
        "def make_model():\n",
        "    shallow_mlp_model = keras.Sequential(\n",
        "        [\n",
        "            layers.Dense(512, activation=\"relu\"),\n",
        "            layers.Dense(256, activation=\"relu\"),\n",
        "            layers.Dense(lookup.vocabulary_size(), activation=\"sigmoid\"),\n",
        "        ]  # More on why \"sigmoid\" has been used here in a moment.\n",
        "    )\n",
        "    return shallow_mlp_model"
      ],
      "metadata": {
        "id": "gU77Kyy5lpRA"
      },
      "execution_count": 21,
      "outputs": []
    },
    {
      "cell_type": "markdown",
      "source": [
        "### Train the model\n",
        "We will train our model using the binary crossentropy loss. This is because the labels are not disjoint. For a given abstract, we may have multiple categories. So, we will divide the prediction task into a series of multiple binary classification problems. This is also why we kept the activation function of the classification layer in our model to sigmoid. Researchers have used other combinations of loss function and activation function as well. For example, in Exploring the Limits of Weakly Supervised Pretraining, Mahajan et al. used the softmax activation function and cross-entropy loss to train their models."
      ],
      "metadata": {
        "id": "_k-gMLm2lrZy"
      }
    },
    {
      "cell_type": "code",
      "source": [
        "epochs = 20\n",
        "\n",
        "# Initialize model\n",
        "shallow_mlp_model = make_model()\n",
        "\n",
        "# Compile the model\n",
        "shallow_mlp_model.compile(\n",
        "    loss=\"binary_crossentropy\", optimizer=\"adam\", metrics=[\"categorical_accuracy\"]\n",
        ")\n",
        "\n",
        "# Fit the model\n",
        "history = shallow_mlp_model.fit(\n",
        "    train_dataset, validation_data=validation_dataset, epochs=epochs\n",
        ")"
      ],
      "metadata": {
        "colab": {
          "base_uri": "https://localhost:8080/"
        },
        "id": "_1gJqrIHl3N3",
        "outputId": "59bcdf5e-ff55-42cb-c0ee-a1b206d3cde2"
      },
      "execution_count": 22,
      "outputs": [
        {
          "output_type": "stream",
          "name": "stdout",
          "text": [
            "Epoch 1/20\n",
            "258/258 [==============================] - 16s 50ms/step - loss: 0.0314 - categorical_accuracy: 0.8600 - val_loss: 0.0188 - val_categorical_accuracy: 0.8876\n",
            "Epoch 2/20\n",
            "258/258 [==============================] - 13s 50ms/step - loss: 0.0029 - categorical_accuracy: 0.8745 - val_loss: 0.0276 - val_categorical_accuracy: 0.8860\n",
            "Epoch 3/20\n",
            "258/258 [==============================] - 13s 50ms/step - loss: 8.2100e-04 - categorical_accuracy: 0.8532 - val_loss: 0.0320 - val_categorical_accuracy: 0.8838\n",
            "Epoch 4/20\n",
            "258/258 [==============================] - 13s 50ms/step - loss: 3.8988e-04 - categorical_accuracy: 0.8390 - val_loss: 0.0374 - val_categorical_accuracy: 0.8669\n",
            "Epoch 5/20\n",
            "258/258 [==============================] - 13s 52ms/step - loss: 2.3898e-04 - categorical_accuracy: 0.8237 - val_loss: 0.0399 - val_categorical_accuracy: 0.8505\n",
            "Epoch 6/20\n",
            "258/258 [==============================] - 13s 50ms/step - loss: 1.4013e-04 - categorical_accuracy: 0.8199 - val_loss: 0.0426 - val_categorical_accuracy: 0.8652\n",
            "Epoch 7/20\n",
            "258/258 [==============================] - 13s 49ms/step - loss: 9.2014e-05 - categorical_accuracy: 0.8263 - val_loss: 0.0439 - val_categorical_accuracy: 0.8794\n",
            "Epoch 8/20\n",
            "258/258 [==============================] - 13s 50ms/step - loss: 8.4978e-05 - categorical_accuracy: 0.8121 - val_loss: 0.0462 - val_categorical_accuracy: 0.8762\n",
            "Epoch 9/20\n",
            "258/258 [==============================] - 13s 49ms/step - loss: 5.1359e-05 - categorical_accuracy: 0.8139 - val_loss: 0.0466 - val_categorical_accuracy: 0.8691\n",
            "Epoch 10/20\n",
            "258/258 [==============================] - 13s 50ms/step - loss: 5.4484e-05 - categorical_accuracy: 0.8346 - val_loss: 0.0453 - val_categorical_accuracy: 0.8712\n",
            "Epoch 11/20\n",
            "258/258 [==============================] - 13s 49ms/step - loss: 7.4358e-05 - categorical_accuracy: 0.8250 - val_loss: 0.0488 - val_categorical_accuracy: 0.8827\n",
            "Epoch 12/20\n",
            "258/258 [==============================] - 13s 50ms/step - loss: 2.4658e-04 - categorical_accuracy: 0.8136 - val_loss: 0.0462 - val_categorical_accuracy: 0.8494\n",
            "Epoch 13/20\n",
            "258/258 [==============================] - 13s 50ms/step - loss: 0.0012 - categorical_accuracy: 0.8522 - val_loss: 0.0420 - val_categorical_accuracy: 0.8614\n",
            "Epoch 14/20\n",
            "258/258 [==============================] - 13s 50ms/step - loss: 0.0013 - categorical_accuracy: 0.8242 - val_loss: 0.0499 - val_categorical_accuracy: 0.8211\n",
            "Epoch 15/20\n",
            "258/258 [==============================] - 13s 50ms/step - loss: 0.0015 - categorical_accuracy: 0.8053 - val_loss: 0.0479 - val_categorical_accuracy: 0.8456\n",
            "Epoch 16/20\n",
            "258/258 [==============================] - 13s 50ms/step - loss: 9.3891e-04 - categorical_accuracy: 0.7781 - val_loss: 0.0518 - val_categorical_accuracy: 0.8587\n",
            "Epoch 17/20\n",
            "258/258 [==============================] - 13s 50ms/step - loss: 4.8288e-04 - categorical_accuracy: 0.7681 - val_loss: 0.0577 - val_categorical_accuracy: 0.8609\n",
            "Epoch 18/20\n",
            "258/258 [==============================] - 13s 50ms/step - loss: 2.7327e-04 - categorical_accuracy: 0.7670 - val_loss: 0.0622 - val_categorical_accuracy: 0.8336\n",
            "Epoch 19/20\n",
            "258/258 [==============================] - 13s 50ms/step - loss: 1.4835e-04 - categorical_accuracy: 0.7596 - val_loss: 0.0634 - val_categorical_accuracy: 0.8309\n",
            "Epoch 20/20\n",
            "258/258 [==============================] - 13s 50ms/step - loss: 1.3411e-04 - categorical_accuracy: 0.7592 - val_loss: 0.0628 - val_categorical_accuracy: 0.8560\n"
          ]
        }
      ]
    },
    {
      "cell_type": "markdown",
      "source": [
        "Training and Validation Plots"
      ],
      "metadata": {
        "id": "5HdNKk9hmCCB"
      }
    },
    {
      "cell_type": "code",
      "source": [
        "def plot_result(item):\n",
        "    plt.plot(history.history[item], label=item)\n",
        "    plt.plot(history.history[\"val_\" + item], label=\"val_\" + item)\n",
        "    plt.xlabel(\"Epochs\")\n",
        "    plt.ylabel(item)\n",
        "    plt.title(\"Train and Validation {} Over Epochs\".format(item), fontsize=14)\n",
        "    plt.legend()\n",
        "    plt.grid()\n",
        "    plt.show()\n",
        "\n",
        "\n",
        "plot_result(\"loss\")\n",
        "plot_result(\"categorical_accuracy\")"
      ],
      "metadata": {
        "colab": {
          "base_uri": "https://localhost:8080/",
          "height": 575
        },
        "id": "_zaDesoko6rs",
        "outputId": "a77d1846-d038-4faf-9937-b84d02f59995"
      },
      "execution_count": 23,
      "outputs": [
        {
          "output_type": "display_data",
          "data": {
            "text/plain": [
              "<Figure size 432x288 with 1 Axes>"
            ],
            "image/png": "[encoded data removed]"
          },
          "metadata": {
            "needs_background": "light"
          }
        },
        {
          "output_type": "display_data",
          "data": {
            "text/plain": [
              "<Figure size 432x288 with 1 Axes>"
            ],
            "image/png": "[encoded data removed]"
          },
          "metadata": {
            "needs_background": "light"
          }
        }
      ]
    },
    {
      "cell_type": "markdown",
      "source": [
        "### Observations\n",
        "\n",
        "1. No learning is happening after first 2-3 epochs. Loss is constant. Ideally it would decrease over epochs\n",
        "2. Validation loss is increasing, which indicates a overfit model\n",
        "3. Categorical Accuracy is decreasing over time, only a slight increase in the initial epochs, which confirms 1st observation\n",
        "4. Same with validation data\n",
        "\n",
        "Overall, we can conclude the model performance is not up to the mark, and some changes to data preparation, data cleaning, model architecture are required"
      ],
      "metadata": {
        "id": "lCK816bBo7xX"
      }
    },
    {
      "cell_type": "markdown",
      "source": [
        "### Evaluate the model"
      ],
      "metadata": {
        "id": "A9LEL2sRpxrx"
      }
    },
    {
      "cell_type": "code",
      "source": [
        "_, categorical_acc = shallow_mlp_model.evaluate(test_dataset)\n",
        "print(f\"Categorical accuracy on the test set: {round(categorical_acc * 100, 2)}%.\")"
      ],
      "metadata": {
        "colab": {
          "base_uri": "https://localhost:8080/"
        },
        "id": "HcMpFAvJp64V",
        "outputId": "99a20453-439d-485a-b7ba-f34d10156669"
      },
      "execution_count": 24,
      "outputs": [
        {
          "output_type": "stream",
          "name": "stdout",
          "text": [
            "15/15 [==============================] - 1s 58ms/step - loss: 0.0607 - categorical_accuracy: 0.8331\n",
            "Categorical accuracy on the test set: 83.31%.\n"
          ]
        }
      ]
    },
    {
      "cell_type": "code",
      "source": [],
      "metadata": {
        "id": "vvspGVoRp7H2"
      },
      "execution_count": null,
      "outputs": []
    }
  ]
}