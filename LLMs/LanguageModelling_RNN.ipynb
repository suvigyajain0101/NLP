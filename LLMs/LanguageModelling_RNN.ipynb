{
  "nbformat": 4,
  "nbformat_minor": 0,
  "metadata": {
    "colab": {
      "provenance": [],
      "authorship_tag": "ABX9TyMThJwGXOTuqS/2KjGppCnl"
    },
    "kernelspec": {
      "name": "python3",
      "display_name": "Python 3"
    },
    "language_info": {
      "name": "python"
    }
  },
  "cells": [
    {
      "cell_type": "markdown",
      "source": [
        "#### A quick recap of what's done on MLP part of the modelling"
      ],
      "metadata": {
        "id": "ot5FKCEW0k2I"
      }
    },
    {
      "cell_type": "code",
      "execution_count": 48,
      "metadata": {
        "id": "MN0U33Xkv4Gd"
      },
      "outputs": [],
      "source": [
        "import torch\n",
        "import torch.nn.functional as F\n",
        "import matplotlib.pyplot as plt\n",
        "%matplotlib inline"
      ]
    },
    {
      "cell_type": "code",
      "source": [
        "!wget https://raw.githubusercontent.com/suvigyajain0101/NLP/llms/LLMs/names.txt"
      ],
      "metadata": {
        "colab": {
          "base_uri": "https://localhost:8080/"
        },
        "id": "rh_F8o00v78e",
        "outputId": "56fd74ca-7936-4b1d-ed67-c56f0d33c0a1"
      },
      "execution_count": 49,
      "outputs": [
        {
          "output_type": "stream",
          "name": "stdout",
          "text": [
            "--2023-05-14 21:25:41--  https://raw.githubusercontent.com/suvigyajain0101/NLP/llms/LLMs/names.txt\n",
            "Resolving raw.githubusercontent.com (raw.githubusercontent.com)... 185.199.108.133, 185.199.109.133, 185.199.110.133, ...\n",
            "Connecting to raw.githubusercontent.com (raw.githubusercontent.com)|185.199.108.133|:443... connected.\n",
            "HTTP request sent, awaiting response... 200 OK\n",
            "Length: 228145 (223K) [text/plain]\n",
            "Saving to: ‘names.txt.1’\n",
            "\n",
            "\rnames.txt.1           0%[                    ]       0  --.-KB/s               \rnames.txt.1         100%[===================>] 222.80K  --.-KB/s    in 0.02s   \n",
            "\n",
            "2023-05-14 21:25:41 (13.2 MB/s) - ‘names.txt.1’ saved [228145/228145]\n",
            "\n"
          ]
        }
      ]
    },
    {
      "cell_type": "code",
      "source": [
        "words = open('names.txt').read().splitlines()\n",
        "words[0:10]"
      ],
      "metadata": {
        "colab": {
          "base_uri": "https://localhost:8080/"
        },
        "id": "WnMeH6QAv9Ab",
        "outputId": "1438c410-6976-4e23-9c25-9ae0f0dc19fc"
      },
      "execution_count": 50,
      "outputs": [
        {
          "output_type": "execute_result",
          "data": {
            "text/plain": [
              "['emma',\n",
              " 'olivia',\n",
              " 'ava',\n",
              " 'isabella',\n",
              " 'sophia',\n",
              " 'charlotte',\n",
              " 'mia',\n",
              " 'amelia',\n",
              " 'harper',\n",
              " 'evelyn']"
            ]
          },
          "metadata": {},
          "execution_count": 50
        }
      ]
    },
    {
      "cell_type": "code",
      "source": [
        "len(words)"
      ],
      "metadata": {
        "colab": {
          "base_uri": "https://localhost:8080/"
        },
        "id": "59oCUJ3Ov-Jy",
        "outputId": "b4a4a2a6-fbfb-4c60-9fcb-4a0eab77ca63"
      },
      "execution_count": 51,
      "outputs": [
        {
          "output_type": "execute_result",
          "data": {
            "text/plain": [
              "32033"
            ]
          },
          "metadata": {},
          "execution_count": 51
        }
      ]
    },
    {
      "cell_type": "code",
      "source": [
        "# Build vocab of characters and mapping to and from integers\n",
        "chars = sorted(list(set(''.join(words))))\n",
        "assert len(chars) == 26\n",
        "\n",
        "stoi = {s:i+1 for i,s in enumerate(chars)}\n",
        "stoi['.'] = 0\n",
        "\n",
        "itos = {i:s for s,i in stoi.items()}\n",
        "\n",
        "vocab_size = len(itos)\n",
        "\n",
        "print(stoi)\n",
        "print(itos)\n",
        "print(vocab_size)"
      ],
      "metadata": {
        "colab": {
          "base_uri": "https://localhost:8080/"
        },
        "id": "iJKxpq-3v_aL",
        "outputId": "2b291e0f-7a7a-4046-aef4-a92cc519db63"
      },
      "execution_count": 52,
      "outputs": [
        {
          "output_type": "stream",
          "name": "stdout",
          "text": [
            "{'a': 1, 'b': 2, 'c': 3, 'd': 4, 'e': 5, 'f': 6, 'g': 7, 'h': 8, 'i': 9, 'j': 10, 'k': 11, 'l': 12, 'm': 13, 'n': 14, 'o': 15, 'p': 16, 'q': 17, 'r': 18, 's': 19, 't': 20, 'u': 21, 'v': 22, 'w': 23, 'x': 24, 'y': 25, 'z': 26, '.': 0}\n",
            "{1: 'a', 2: 'b', 3: 'c', 4: 'd', 5: 'e', 6: 'f', 7: 'g', 8: 'h', 9: 'i', 10: 'j', 11: 'k', 12: 'l', 13: 'm', 14: 'n', 15: 'o', 16: 'p', 17: 'q', 18: 'r', 19: 's', 20: 't', 21: 'u', 22: 'v', 23: 'w', 24: 'x', 25: 'y', 26: 'z', 0: '.'}\n",
            "27\n"
          ]
        }
      ]
    },
    {
      "cell_type": "code",
      "source": [
        "import random\n",
        "\n",
        "block_size = 3\n",
        "\n",
        "def build_dataset(words):\n",
        "  \n",
        "  X, Y = [], []\n",
        "\n",
        "  for w in words:\n",
        "    context = [0]*block_size\n",
        "    for ch in w + '.':\n",
        "      ix = stoi[ch]\n",
        "      X.append(context)\n",
        "      Y.append(ix)\n",
        "\n",
        "      context = context[1:] + [ix]\n",
        "\n",
        "  X = torch.tensor(X)\n",
        "  Y = torch.tensor(Y)\n",
        "  print(X.shape, Y.shape)\n",
        "\n",
        "  return X, Y\n",
        "\n",
        "# Random shuffle of words\n",
        "random.seed(42)\n",
        "random.shuffle(words)\n",
        "# Training data -> 80%, Val data -> 10%, testing data -> 10%\n",
        "n1 = int(0.8*len(words))\n",
        "n2 = int(0.9*len(words))\n",
        "\n",
        "X_train, Y_train = build_dataset(words[:n1])\n",
        "X_val, Y_val = build_dataset(words[n1:n2])\n",
        "X_test, Y_test = build_dataset(words[n2:])\n",
        "\n",
        "print('Training Data Size: ', len(X_train))\n",
        "print('Validation Data Size: ', len(X_val))\n",
        "print('Testing Data Size: ', len(X_test))"
      ],
      "metadata": {
        "colab": {
          "base_uri": "https://localhost:8080/"
        },
        "id": "b1TTfE_AwC-1",
        "outputId": "50bd2885-a24e-4981-aa90-b1781395ec3f"
      },
      "execution_count": 53,
      "outputs": [
        {
          "output_type": "stream",
          "name": "stdout",
          "text": [
            "torch.Size([182625, 3]) torch.Size([182625])\n",
            "torch.Size([22655, 3]) torch.Size([22655])\n",
            "torch.Size([22866, 3]) torch.Size([22866])\n",
            "Training Data Size:  182625\n",
            "Validation Data Size:  22655\n",
            "Testing Data Size:  22866\n"
          ]
        }
      ]
    },
    {
      "cell_type": "code",
      "source": [
        "n_embd = 10\n",
        "n_hidden = 200\n",
        "\n",
        "# First let re-initialize the params\n",
        "g = torch.Generator().manual_seed(10)\n",
        "C = torch.randn((vocab_size, n_embd), generator=g)\n",
        "W1 = torch.randn((n_embd * block_size, n_hidden), generator=g)\n",
        "b1 = torch.randn(n_hidden, generator=g)\n",
        "W2 = torch.randn((n_hidden, vocab_size), generator=g)\n",
        "b2 = torch.randn(vocab_size, generator=g)\n",
        "parameters = [C, W1, b1, W2, b2]\n",
        "\n",
        "print('Total trainable parameters: ', sum(p.nelement() for p in parameters))\n",
        "\n",
        "# Make sure all the parameters support gradient and updates\n",
        "for p in parameters:\n",
        "  p.requires_grad = True"
      ],
      "metadata": {
        "colab": {
          "base_uri": "https://localhost:8080/"
        },
        "id": "iet8yFuuwL5l",
        "outputId": "3c995a7d-217c-4de4-a2f1-81625d8c6ae9"
      },
      "execution_count": 54,
      "outputs": [
        {
          "output_type": "stream",
          "name": "stdout",
          "text": [
            "Total trainable parameters:  11897\n"
          ]
        }
      ]
    },
    {
      "cell_type": "code",
      "source": [
        "batch_size = 32\n",
        "max_steps = 200000\n",
        "lossi = []\n",
        "\n",
        "\n",
        "for k in range(max_steps):\n",
        "\n",
        "  # Minibatch index\n",
        "  ix = torch.randint(0, X_train.shape[0], (batch_size,))\n",
        "\n",
        "\n",
        "  # Forward Pass\n",
        "  emb = C[X_train[ix]] # Shape -> (32, 3, 2)\n",
        "  h0 = emb.view(-1, n_embd * block_size) @ W1 + b1\n",
        "  h = torch.tanh(h0)\n",
        "  logits = h @ W2 + b2\n",
        "  loss = F.cross_entropy(logits, Y_train[ix]) # Need to update target dataset as well\n",
        "\n",
        "  if k%10000 == 0:\n",
        "    print(f'Epoch {k} -> Loss = {loss.item()} ')\n",
        "\n",
        "  # Backward pass\n",
        "  for p in parameters:\n",
        "    p.grad = None\n",
        "  loss.backward()\n",
        "\n",
        "  # Gradient Update\n",
        "  lr = 0.1 if k < 100000 else 0.01\n",
        "  for p in parameters:\n",
        "    p.data += -lr * p.grad\n",
        "\n",
        "  lossi.append(loss.log10().item())"
      ],
      "metadata": {
        "colab": {
          "base_uri": "https://localhost:8080/"
        },
        "id": "Gn7QpG3kw_Ic",
        "outputId": "37b9cea4-2070-4f21-ad2f-6f67ab2308a9"
      },
      "execution_count": 55,
      "outputs": [
        {
          "output_type": "stream",
          "name": "stdout",
          "text": [
            "Epoch 0 -> Loss = 23.228981018066406 \n",
            "Epoch 10000 -> Loss = 2.3552074432373047 \n",
            "Epoch 20000 -> Loss = 2.557803153991699 \n",
            "Epoch 30000 -> Loss = 2.9109957218170166 \n",
            "Epoch 40000 -> Loss = 2.601905345916748 \n",
            "Epoch 50000 -> Loss = 2.3235671520233154 \n",
            "Epoch 60000 -> Loss = 2.2421650886535645 \n",
            "Epoch 70000 -> Loss = 2.357235908508301 \n",
            "Epoch 80000 -> Loss = 2.453921318054199 \n",
            "Epoch 90000 -> Loss = 2.024482250213623 \n",
            "Epoch 100000 -> Loss = 1.9406325817108154 \n",
            "Epoch 110000 -> Loss = 2.067153215408325 \n",
            "Epoch 120000 -> Loss = 2.1854145526885986 \n",
            "Epoch 130000 -> Loss = 2.1362953186035156 \n",
            "Epoch 140000 -> Loss = 1.6812721490859985 \n",
            "Epoch 150000 -> Loss = 2.35681414604187 \n",
            "Epoch 160000 -> Loss = 2.1064600944519043 \n",
            "Epoch 170000 -> Loss = 2.105149507522583 \n",
            "Epoch 180000 -> Loss = 2.249282121658325 \n",
            "Epoch 190000 -> Loss = 2.048095226287842 \n"
          ]
        }
      ]
    },
    {
      "cell_type": "code",
      "source": [
        "plt.plot(lossi)"
      ],
      "metadata": {
        "colab": {
          "base_uri": "https://localhost:8080/",
          "height": 447
        },
        "id": "oUQbtQQCxYsM",
        "outputId": "c54db3df-39db-4e16-8fea-7c3460fc034f"
      },
      "execution_count": 56,
      "outputs": [
        {
          "output_type": "execute_result",
          "data": {
            "text/plain": [
              "[<matplotlib.lines.Line2D at 0x7fa248d47820>]"
            ]
          },
          "metadata": {},
          "execution_count": 56
        },
        {
          "output_type": "display_data",
          "data": {
            "text/plain": [
              "<Figure size 640x480 with 1 Axes>"
            ],
            "image/png": "[encoded data removed]"
          },
          "metadata": {}
        }
      ]
    },
    {
      "cell_type": "code",
      "source": [
        "@torch.no_grad() # the decorator disables gradient tracking\n",
        "def split_loss(split):\n",
        "  '''Function returns split level loss'''\n",
        "  x, y = {\n",
        "      'train': (X_train, Y_train),\n",
        "      'val': (X_val, Y_val),\n",
        "      'test': (X_test, Y_test)\n",
        "  }[split]\n",
        "\n",
        "  emb = C[x]\n",
        "  embcat = emb.view(emb.shape[0], -1)\n",
        "\n",
        "  h0 = embcat @ W1 + b1\n",
        "  h = torch.tanh(h0)\n",
        "  logits = h @ W2 + b2\n",
        "  loss = F.cross_entropy(logits, y)\n",
        "  print(split, loss.item())\n",
        "\n",
        "split_loss('train')\n",
        "split_loss('val')"
      ],
      "metadata": {
        "colab": {
          "base_uri": "https://localhost:8080/"
        },
        "id": "oEpg94z2yHK9",
        "outputId": "2c6fe659-3ab2-484e-88f6-e4b688cfe80a"
      },
      "execution_count": 57,
      "outputs": [
        {
          "output_type": "stream",
          "name": "stdout",
          "text": [
            "train 2.1127216815948486\n",
            "val 2.151665687561035\n"
          ]
        }
      ]
    },
    {
      "cell_type": "code",
      "source": [
        "g = torch.Generator().manual_seed(10)\n",
        "\n",
        "for _ in range(20):\n",
        "\n",
        "  out = []\n",
        "  context = [0]*block_size\n",
        "\n",
        "  while True:\n",
        "    emb = C[torch.tensor([context])]\n",
        "    h0 = emb.view(1, -1) @ W1 + b1\n",
        "    h = torch.tanh(h0)\n",
        "    logits = h @ W2 + b2\n",
        "    probs = torch.softmax(logits, dim=1)\n",
        "\n",
        "    ix = torch.multinomial(probs, 1, generator=g).item()\n",
        "    context = context[1:] + [ix]\n",
        "\n",
        "    out.append(itos[ix])\n",
        "\n",
        "    if ix == 0:\n",
        "      break\n",
        "      \n",
        "  print(''.join(out))"
      ],
      "metadata": {
        "colab": {
          "base_uri": "https://localhost:8080/"
        },
        "id": "AnQ3N8Oo0AwU",
        "outputId": "2cf41011-9426-4507-f33a-ecb0faecc27a"
      },
      "execution_count": 58,
      "outputs": [
        {
          "output_type": "stream",
          "name": "stdout",
          "text": [
            "pro.\n",
            "ehiz.\n",
            "eliyan.\n",
            "nan.\n",
            "tomrica.\n",
            "coptis.\n",
            "azylin.\n",
            "danajuel.\n",
            "cimbaebriellis.\n",
            "rayta.\n",
            "avara.\n",
            "areolynn.\n",
            "austhan.\n",
            "arius.\n",
            "thika.\n",
            "nas.\n",
            "massanna.\n",
            "jahensietta.\n",
            "jaysylyni.\n",
            "zaida.\n"
          ]
        }
      ]
    },
    {
      "cell_type": "markdown",
      "source": [
        "The neural network architecture and functionality defined above has few issues which can (and are) impacting the performance and quality of the names generated - \n",
        "\n",
        "\n",
        "#### Issue 1\n",
        "\n",
        "Intial loss of the model is very high. For a naive model, this should be close to 3.2 - Negative log of probability, which is 1/27. This has to do with the random initialization. Initial values are so far off the reality (or the model is so confidently wrong!), that we are getting such a high number "
      ],
      "metadata": {
        "id": "xZ55HLPp0rdH"
      }
    },
    {
      "cell_type": "code",
      "source": [
        "n_embd = 10\n",
        "n_hidden = 200\n",
        "\n",
        "# First let re-initialize the params\n",
        "g = torch.Generator().manual_seed(10)\n",
        "C = torch.randn((vocab_size, n_embd), generator=g)\n",
        "W1 = torch.randn((n_embd * block_size, n_hidden), generator=g)\n",
        "b1 = torch.randn(n_hidden, generator=g)\n",
        "W2 = torch.randn((n_hidden, vocab_size), generator=g) * 0.01\n",
        "b2 = torch.randn(vocab_size, generator=g) * 0\n",
        "parameters = [C, W1, b1, W2, b2]\n",
        "\n",
        "print('Total trainable parameters: ', sum(p.nelement() for p in parameters))\n",
        "\n",
        "# Make sure all the parameters support gradient and updates\n",
        "for p in parameters:\n",
        "  p.requires_grad = True\n",
        "\n",
        "batch_size = 32\n",
        "max_steps = 200000\n",
        "lossi = []\n",
        "\n",
        "\n",
        "for k in range(max_steps):\n",
        "\n",
        "  # Minibatch index\n",
        "  ix = torch.randint(0, X_train.shape[0], (batch_size,))\n",
        "\n",
        "\n",
        "  # Forward Pass\n",
        "  emb = C[X_train[ix]] # Shape -> (32, 3, 2)\n",
        "  h0 = emb.view(-1, n_embd * block_size) @ W1 + b1\n",
        "  h = torch.tanh(h0)\n",
        "  logits = h @ W2 + b2\n",
        "  loss = F.cross_entropy(logits, Y_train[ix]) # Need to update target dataset as well\n",
        "\n",
        "  if k%10000 == 0:\n",
        "    print(f'Epoch {k} -> Loss = {loss.item()} ')\n",
        "\n",
        "  # Backward pass\n",
        "  for p in parameters:\n",
        "    p.grad = None\n",
        "  loss.backward()\n",
        "\n",
        "  # Gradient Update\n",
        "  lr = 0.1 if k < 100000 else 0.01\n",
        "  for p in parameters:\n",
        "    p.data += -lr * p.grad\n",
        "\n",
        "  lossi.append(loss.log10().item())\n",
        "\n",
        "  break"
      ],
      "metadata": {
        "colab": {
          "base_uri": "https://localhost:8080/"
        },
        "id": "1aftdbyW3gER",
        "outputId": "b87ce33d-f931-4725-f63e-b848ece8c407"
      },
      "execution_count": 59,
      "outputs": [
        {
          "output_type": "stream",
          "name": "stdout",
          "text": [
            "Total trainable parameters:  11897\n",
            "Epoch 0 -> Loss = 3.2879436016082764 \n"
          ]
        }
      ]
    },
    {
      "cell_type": "code",
      "source": [
        "plt.plot(lossi)"
      ],
      "metadata": {
        "colab": {
          "base_uri": "https://localhost:8080/",
          "height": 447
        },
        "id": "AiQNzfI43lzS",
        "outputId": "6f8676c7-9d1d-4c80-d230-984836da4eb3"
      },
      "execution_count": 60,
      "outputs": [
        {
          "output_type": "execute_result",
          "data": {
            "text/plain": [
              "[<matplotlib.lines.Line2D at 0x7fa246279b40>]"
            ]
          },
          "metadata": {},
          "execution_count": 60
        },
        {
          "output_type": "display_data",
          "data": {
            "text/plain": [
              "<Figure size 640x480 with 1 Axes>"
            ],
            "image/png": "[encoded data removed]"
          },
          "metadata": {}
        }
      ]
    },
    {
      "cell_type": "markdown",
      "source": [
        "No more hockey stick shaped loss. No mighty gains in the beginning!"
      ],
      "metadata": {
        "id": "pc8B87YY4QmQ"
      }
    },
    {
      "cell_type": "code",
      "source": [
        "split_loss('train')\n",
        "split_loss('val')"
      ],
      "metadata": {
        "colab": {
          "base_uri": "https://localhost:8080/"
        },
        "id": "HFbaubsr3tmC",
        "outputId": "2616bf57-7513-44df-de28-e0f3c536b57e"
      },
      "execution_count": 61,
      "outputs": [
        {
          "output_type": "stream",
          "name": "stdout",
          "text": [
            "train 3.172987937927246\n",
            "val 3.1684372425079346\n"
          ]
        }
      ]
    },
    {
      "cell_type": "markdown",
      "source": [
        "The performance has improved a bit, since the few thousand iterations that the models wasted to squash randomly initialized weights are now better spent on the actual training"
      ],
      "metadata": {
        "id": "5mcQ_Akx4Xln"
      }
    },
    {
      "cell_type": "code",
      "source": [
        "g = torch.Generator().manual_seed(10)\n",
        "\n",
        "for _ in range(20):\n",
        "\n",
        "  out = []\n",
        "  context = [0]*block_size\n",
        "\n",
        "  while True:\n",
        "    emb = C[torch.tensor([context])]\n",
        "    h0 = emb.view(1, -1) @ W1 + b1\n",
        "    h = torch.tanh(h0)\n",
        "    logits = h @ W2 + b2\n",
        "    probs = torch.softmax(logits, dim=1)\n",
        "\n",
        "    ix = torch.multinomial(probs, 1, generator=g).item()\n",
        "    context = context[1:] + [ix]\n",
        "\n",
        "    out.append(itos[ix])\n",
        "\n",
        "    if ix == 0:\n",
        "      break\n",
        "      \n",
        "  print(''.join(out))"
      ],
      "metadata": {
        "colab": {
          "base_uri": "https://localhost:8080/"
        },
        "id": "h-PgwFGg3xtS",
        "outputId": "cdd99943-330a-4f8a-8c43-d1116fd3cefa"
      },
      "execution_count": 62,
      "outputs": [
        {
          "output_type": "stream",
          "name": "stdout",
          "text": [
            "pfp.\n",
            "ehqz.\n",
            "eeybwixninotomrwlaecozttdskxqlbbypydbjuejwcfmbzcbkmedqxwurautyocvaeaoxruoiymfhoukthkmtzc.\n",
            "fgethzbdsppsdm.\n",
            "asfazbaujhensiztsuzhqmsylqjizwpcusqqbpaaxwlpzqhqraueeghcypcn.\n",
            "vkdijnkfrbvu.\n",
            "kmx.\n",
            ".\n",
            "jv.\n",
            "ilap.\n",
            "wvbrbc.\n",
            "cahxpfmjfojmgamzydeornutsgna.\n",
            "evsbsbbxl.\n",
            "hfmcoiiuffzdodtqnkbpgyzlavchmtqysqywmytqdjxslanmxwbjseqasinuhbxyfuevpnlbtpnazzyzhquuxvvznequayntwkmzibapnrbfos.\n",
            "rhzjwubtyeqdday.\n",
            "qudckabxgwvxllrdecslkncswjoawoslecippcrqkeqprikjkahjmu.\n",
            "abiptitrkaoadtxvkumwoyttxyssfjxagwspuwhps.\n",
            "vnleflphauxmiudieyysytnwshvdh.\n",
            "nhxqtihazvbxkjmtoszgwdcxbrultqwmtwipiiekgokwxlmvtjymokrxtzehwjlizoitcokvqlmmxurheehwajahdhlqdfbkmrshfkpowcy.\n",
            "haioek.\n"
          ]
        }
      ]
    },
    {
      "cell_type": "markdown",
      "source": [
        "The performance is much better than bigrams and MLP, the names generated are better than both as well, but still meh!"
      ],
      "metadata": {
        "id": "GLYG07FI3zta"
      }
    },
    {
      "cell_type": "markdown",
      "source": [
        "#### Issue 2\n",
        "\n",
        "Initialization, weights look good for now but 1 issue still remains which pertains to tanh. Tanh can be thought of as a squashing function, which converts any number in (-inf, inf) to [-1, 1]. In order to understand the output of tanh operation on embeddings, weights and biases, let's plot the histogram"
      ],
      "metadata": {
        "id": "KWAnVJwSs_ff"
      }
    },
    {
      "cell_type": "code",
      "source": [
        "# h is [32, 200], where 200 is dim of hidden layer\n",
        "# So, flatten h (using view), convert to python list and visualize\n",
        "\n",
        "plt.hist(h.view(-1).tolist(), bins=50);"
      ],
      "metadata": {
        "colab": {
          "base_uri": "https://localhost:8080/",
          "height": 430
        },
        "id": "DTxC9kNVtMB_",
        "outputId": "beba6bd6-570e-4c47-b948-6267c2c51b70"
      },
      "execution_count": 63,
      "outputs": [
        {
          "output_type": "display_data",
          "data": {
            "text/plain": [
              "<Figure size 640x480 with 1 Axes>"
            ],
            "image/png": "[encoded data removed]"
          },
          "metadata": {}
        }
      ]
    },
    {
      "cell_type": "markdown",
      "source": [
        "Observe that majority of the initial values are either -1 or 1. Let's plot the input to tanh"
      ],
      "metadata": {
        "id": "E6oR-2qbugho"
      }
    },
    {
      "cell_type": "code",
      "source": [
        "plt.hist(h0.view(-1).tolist(), bins=50);"
      ],
      "metadata": {
        "colab": {
          "base_uri": "https://localhost:8080/",
          "height": 430
        },
        "id": "aWhDfc-JvXmo",
        "outputId": "e72cf3c1-467a-4a49-a70e-0a864ec29835"
      },
      "execution_count": 64,
      "outputs": [
        {
          "output_type": "display_data",
          "data": {
            "text/plain": [
              "<Figure size 640x480 with 1 Axes>"
            ],
            "image/png": "[encoded data removed]"
          },
          "metadata": {}
        }
      ]
    },
    {
      "cell_type": "markdown",
      "source": [
        "h0 takes extreme values (between -10 and 10) which makes tanh -1 or 1 many times and this can be an issue in backward prop. Why?\n",
        "\n",
        "Remember in the autograd notebook, the derivative of tanh = (1 - t**2) * out.grad, where (1 - t**2) is the local derivative and out.grad is the global derivative (from the chain rule). If t is -1 or 1, then first term becomes zero and hence the entire derivative becomes zero. This can result in low learning of the neuron. It can also happen that the entire weight and bias row for the particular are initialized such that the output of the neuron is zero. Such a neuron can be called as a 'Dead Neuron'\n",
        "\n",
        "Below plot shows how many values in h are non-zero (White pixel means zero and black means non-zero). We would ideally want as many blacks as possible. In case when the entire column in white, it means a dead neuron"
      ],
      "metadata": {
        "id": "rtqrKSiOvp5c"
      }
    },
    {
      "cell_type": "code",
      "source": [
        "plt.figure(figsize=(10, 5))\n",
        "plt.imshow(h.abs() > 0.99, cmap='gray', interpolation='nearest');"
      ],
      "metadata": {
        "colab": {
          "base_uri": "https://localhost:8080/",
          "height": 70
        },
        "id": "rjRl8EUVzWrM",
        "outputId": "17667676-3e04-4636-e9f4-193fff3d0af9"
      },
      "execution_count": 65,
      "outputs": [
        {
          "output_type": "display_data",
          "data": {
            "text/plain": [
              "<Figure size 1000x500 with 1 Axes>"
            ],
            "image/png": "[encoded data removed]"
          },
          "metadata": {}
        }
      ]
    },
    {
      "cell_type": "markdown",
      "source": [
        "In order to reduce the values of h0 and h, we can use similar approach of multiplying the weights and biases by a small number"
      ],
      "metadata": {
        "id": "_0QSZqaP02ON"
      }
    },
    {
      "cell_type": "code",
      "source": [
        "n_embd = 10\n",
        "n_hidden = 200\n",
        "\n",
        "# First let re-initialize the params\n",
        "g = torch.Generator().manual_seed(10)\n",
        "C = torch.randn((vocab_size, n_embd), generator=g)\n",
        "W1 = torch.randn((n_embd * block_size, n_hidden), generator=g) * 0.1\n",
        "b1 = torch.randn(n_hidden, generator=g) * 0.01\n",
        "W2 = torch.randn((n_hidden, vocab_size), generator=g) * 0.01\n",
        "b2 = torch.randn(vocab_size, generator=g) * 0\n",
        "parameters = [C, W1, b1, W2, b2]\n",
        "\n",
        "print('Total trainable parameters: ', sum(p.nelement() for p in parameters))\n",
        "\n",
        "# Make sure all the parameters support gradient and updates\n",
        "for p in parameters:\n",
        "  p.requires_grad = True\n",
        "\n",
        "batch_size = 32\n",
        "max_steps = 200000\n",
        "lossi = []\n",
        "\n",
        "\n",
        "for k in range(max_steps):\n",
        "\n",
        "  # Minibatch index\n",
        "  ix = torch.randint(0, X_train.shape[0], (batch_size,))\n",
        "\n",
        "\n",
        "  # Forward Pass\n",
        "  emb = C[X_train[ix]] # Shape -> (32, 3, 2)\n",
        "  h0 = emb.view(-1, n_embd * block_size) @ W1 + b1\n",
        "  h = torch.tanh(h0)\n",
        "  logits = h @ W2 + b2\n",
        "  loss = F.cross_entropy(logits, Y_train[ix]) # Need to update target dataset as well\n",
        "\n",
        "  if k%10000 == 0:\n",
        "    print(f'Epoch {k} -> Loss = {loss.item()} ')\n",
        "\n",
        "  # Backward pass\n",
        "  for p in parameters:\n",
        "    p.grad = None\n",
        "  loss.backward()\n",
        "\n",
        "  # Gradient Update\n",
        "  lr = 0.1 if k < 100000 else 0.01\n",
        "  for p in parameters:\n",
        "    p.data += -lr * p.grad\n",
        "\n",
        "  lossi.append(loss.log10().item())\n",
        "\n",
        "  break"
      ],
      "metadata": {
        "colab": {
          "base_uri": "https://localhost:8080/"
        },
        "id": "vyaL3Plv1TI2",
        "outputId": "a59526aa-81ef-44ee-925a-e3b7a4bad07c"
      },
      "execution_count": 66,
      "outputs": [
        {
          "output_type": "stream",
          "name": "stdout",
          "text": [
            "Total trainable parameters:  11897\n",
            "Epoch 0 -> Loss = 3.284036159515381 \n"
          ]
        }
      ]
    },
    {
      "cell_type": "code",
      "source": [
        "plt.hist(h.view(-1).tolist(), bins=50);"
      ],
      "metadata": {
        "colab": {
          "base_uri": "https://localhost:8080/",
          "height": 430
        },
        "id": "T3ALktNG1fXA",
        "outputId": "78be5375-f47d-4e33-fdd9-1d47c8d15786"
      },
      "execution_count": 67,
      "outputs": [
        {
          "output_type": "display_data",
          "data": {
            "text/plain": [
              "<Figure size 640x480 with 1 Axes>"
            ],
            "image/png": "[encoded data removed]"
          },
          "metadata": {}
        }
      ]
    },
    {
      "cell_type": "code",
      "source": [
        "plt.hist(h0.view(-1).tolist(), bins=50);"
      ],
      "metadata": {
        "colab": {
          "base_uri": "https://localhost:8080/",
          "height": 430
        },
        "id": "F64L4GvD1hcQ",
        "outputId": "9738399e-485b-4d45-bf8d-9038155649ae"
      },
      "execution_count": 68,
      "outputs": [
        {
          "output_type": "display_data",
          "data": {
            "text/plain": [
              "<Figure size 640x480 with 1 Axes>"
            ],
            "image/png": "[encoded data removed]"
          },
          "metadata": {}
        }
      ]
    },
    {
      "cell_type": "code",
      "source": [
        "plt.figure(figsize=(10, 5))\n",
        "plt.imshow(h.abs() > 0.99, cmap='gray', interpolation='nearest');"
      ],
      "metadata": {
        "colab": {
          "base_uri": "https://localhost:8080/",
          "height": 188
        },
        "id": "gPefOFEC1jl3",
        "outputId": "a24b5f16-e7f6-4e89-9027-2b39c491e6cf"
      },
      "execution_count": 69,
      "outputs": [
        {
          "output_type": "display_data",
          "data": {
            "text/plain": [
              "<Figure size 1000x500 with 1 Axes>"
            ],
            "image/png": "[encoded data removed]"
          },
          "metadata": {}
        }
      ]
    },
    {
      "cell_type": "markdown",
      "source": [
        "Note the following - \n",
        "\n",
        "1. Much better distribution of tanh output. Takes many values in [-1,1] and this has primarily to do with the values in graph 2, where h0 takes values between [-2, 2]\n",
        "2. Notice the entire plot of values > 0.99 is black, which means all the gradients of the neuron are non-zero "
      ],
      "metadata": {
        "id": "pT_sagv-1ln1"
      }
    },
    {
      "cell_type": "markdown",
      "source": [
        "A lot of the numbers used to scale weights and biases are 'magic numbers', hard-coded and based on trial-error approach. In order to come up with a better way to choose these numbers, or precisely, how to initialize the weights and biases, refer Kaiming Initialization paper [here](https://arxiv.org/abs/1502.01852)\n",
        "\n",
        "The paper talks about the gain that needs to applied when using a particular non-linearity to better initialize the weights and biases. \n",
        "\n",
        "Due to advances in techniques like normalization layers (BatchNorm, LayerNorm) and optimizers (RMSProp, ADAM), the neural networks are becoming less sensitive to such issues"
      ],
      "metadata": {
        "id": "VQWHBGwaJ5yg"
      }
    }
  ]
}