{
  "nbformat": 4,
  "nbformat_minor": 0,
  "metadata": {
    "colab": {
      "provenance": [],
      "authorship_tag": "ABX9TyN89Ku10MOa9rL0PXirc8iy"
    },
    "kernelspec": {
      "name": "python3",
      "display_name": "Python 3"
    },
    "language_info": {
      "name": "python"
    }
  },
  "cells": [
    {
      "cell_type": "markdown",
      "source": [
        "#### A quick recap of what's done on MLP part of the modelling"
      ],
      "metadata": {
        "id": "ot5FKCEW0k2I"
      }
    },
    {
      "cell_type": "code",
      "execution_count": 1,
      "metadata": {
        "id": "MN0U33Xkv4Gd"
      },
      "outputs": [],
      "source": [
        "import torch\n",
        "import torch.nn.functional as F\n",
        "import matplotlib.pyplot as plt\n",
        "%matplotlib inline"
      ]
    },
    {
      "cell_type": "code",
      "source": [
        "!wget https://raw.githubusercontent.com/suvigyajain0101/NLP/llms/LLMs/names.txt"
      ],
      "metadata": {
        "colab": {
          "base_uri": "https://localhost:8080/"
        },
        "id": "rh_F8o00v78e",
        "outputId": "5ae686de-0a4b-43a7-f151-c3e54b79d0b9"
      },
      "execution_count": 2,
      "outputs": [
        {
          "output_type": "stream",
          "name": "stdout",
          "text": [
            "--2023-05-15 21:53:08--  https://raw.githubusercontent.com/suvigyajain0101/NLP/llms/LLMs/names.txt\n",
            "Resolving raw.githubusercontent.com (raw.githubusercontent.com)... 185.199.110.133, 185.199.111.133, 185.199.108.133, ...\n",
            "Connecting to raw.githubusercontent.com (raw.githubusercontent.com)|185.199.110.133|:443... connected.\n",
            "HTTP request sent, awaiting response... 200 OK\n",
            "Length: 228145 (223K) [text/plain]\n",
            "Saving to: ‘names.txt’\n",
            "\n",
            "names.txt           100%[===================>] 222.80K  --.-KB/s    in 0.03s   \n",
            "\n",
            "2023-05-15 21:53:09 (7.26 MB/s) - ‘names.txt’ saved [228145/228145]\n",
            "\n"
          ]
        }
      ]
    },
    {
      "cell_type": "code",
      "source": [
        "words = open('names.txt').read().splitlines()\n",
        "words[0:10]"
      ],
      "metadata": {
        "colab": {
          "base_uri": "https://localhost:8080/"
        },
        "id": "WnMeH6QAv9Ab",
        "outputId": "d3cee2ce-fa5a-47a7-8971-e006ad46fd01"
      },
      "execution_count": 3,
      "outputs": [
        {
          "output_type": "execute_result",
          "data": {
            "text/plain": [
              "['emma',\n",
              " 'olivia',\n",
              " 'ava',\n",
              " 'isabella',\n",
              " 'sophia',\n",
              " 'charlotte',\n",
              " 'mia',\n",
              " 'amelia',\n",
              " 'harper',\n",
              " 'evelyn']"
            ]
          },
          "metadata": {},
          "execution_count": 3
        }
      ]
    },
    {
      "cell_type": "code",
      "source": [
        "len(words)"
      ],
      "metadata": {
        "colab": {
          "base_uri": "https://localhost:8080/"
        },
        "id": "59oCUJ3Ov-Jy",
        "outputId": "0aae4928-e1fd-4c90-8217-a3adbf4bb600"
      },
      "execution_count": 4,
      "outputs": [
        {
          "output_type": "execute_result",
          "data": {
            "text/plain": [
              "32033"
            ]
          },
          "metadata": {},
          "execution_count": 4
        }
      ]
    },
    {
      "cell_type": "code",
      "source": [
        "# Build vocab of characters and mapping to and from integers\n",
        "chars = sorted(list(set(''.join(words))))\n",
        "assert len(chars) == 26\n",
        "\n",
        "stoi = {s:i+1 for i,s in enumerate(chars)}\n",
        "stoi['.'] = 0\n",
        "\n",
        "itos = {i:s for s,i in stoi.items()}\n",
        "\n",
        "vocab_size = len(itos)\n",
        "\n",
        "print(stoi)\n",
        "print(itos)\n",
        "print(vocab_size)"
      ],
      "metadata": {
        "colab": {
          "base_uri": "https://localhost:8080/"
        },
        "id": "iJKxpq-3v_aL",
        "outputId": "94a17650-9528-485d-e70f-bcb2dfb5f5f1"
      },
      "execution_count": 5,
      "outputs": [
        {
          "output_type": "stream",
          "name": "stdout",
          "text": [
            "{'a': 1, 'b': 2, 'c': 3, 'd': 4, 'e': 5, 'f': 6, 'g': 7, 'h': 8, 'i': 9, 'j': 10, 'k': 11, 'l': 12, 'm': 13, 'n': 14, 'o': 15, 'p': 16, 'q': 17, 'r': 18, 's': 19, 't': 20, 'u': 21, 'v': 22, 'w': 23, 'x': 24, 'y': 25, 'z': 26, '.': 0}\n",
            "{1: 'a', 2: 'b', 3: 'c', 4: 'd', 5: 'e', 6: 'f', 7: 'g', 8: 'h', 9: 'i', 10: 'j', 11: 'k', 12: 'l', 13: 'm', 14: 'n', 15: 'o', 16: 'p', 17: 'q', 18: 'r', 19: 's', 20: 't', 21: 'u', 22: 'v', 23: 'w', 24: 'x', 25: 'y', 26: 'z', 0: '.'}\n",
            "27\n"
          ]
        }
      ]
    },
    {
      "cell_type": "code",
      "source": [
        "import random\n",
        "\n",
        "block_size = 3\n",
        "\n",
        "def build_dataset(words):\n",
        "  \n",
        "  X, Y = [], []\n",
        "\n",
        "  for w in words:\n",
        "    context = [0]*block_size\n",
        "    for ch in w + '.':\n",
        "      ix = stoi[ch]\n",
        "      X.append(context)\n",
        "      Y.append(ix)\n",
        "\n",
        "      context = context[1:] + [ix]\n",
        "\n",
        "  X = torch.tensor(X)\n",
        "  Y = torch.tensor(Y)\n",
        "  print(X.shape, Y.shape)\n",
        "\n",
        "  return X, Y\n",
        "\n",
        "# Random shuffle of words\n",
        "random.seed(42)\n",
        "random.shuffle(words)\n",
        "# Training data -> 80%, Val data -> 10%, testing data -> 10%\n",
        "n1 = int(0.8*len(words))\n",
        "n2 = int(0.9*len(words))\n",
        "\n",
        "X_train, Y_train = build_dataset(words[:n1])\n",
        "X_val, Y_val = build_dataset(words[n1:n2])\n",
        "X_test, Y_test = build_dataset(words[n2:])\n",
        "\n",
        "print('Training Data Size: ', len(X_train))\n",
        "print('Validation Data Size: ', len(X_val))\n",
        "print('Testing Data Size: ', len(X_test))"
      ],
      "metadata": {
        "colab": {
          "base_uri": "https://localhost:8080/"
        },
        "id": "b1TTfE_AwC-1",
        "outputId": "80343d24-98fc-457a-e2ef-d8baf2ccc208"
      },
      "execution_count": 6,
      "outputs": [
        {
          "output_type": "stream",
          "name": "stdout",
          "text": [
            "torch.Size([182625, 3]) torch.Size([182625])\n",
            "torch.Size([22655, 3]) torch.Size([22655])\n",
            "torch.Size([22866, 3]) torch.Size([22866])\n",
            "Training Data Size:  182625\n",
            "Validation Data Size:  22655\n",
            "Testing Data Size:  22866\n"
          ]
        }
      ]
    },
    {
      "cell_type": "code",
      "source": [
        "n_embd = 10\n",
        "n_hidden = 200\n",
        "\n",
        "# First let re-initialize the params\n",
        "g = torch.Generator().manual_seed(10)\n",
        "C = torch.randn((vocab_size, n_embd), generator=g)\n",
        "W1 = torch.randn((n_embd * block_size, n_hidden), generator=g)\n",
        "b1 = torch.randn(n_hidden, generator=g)\n",
        "W2 = torch.randn((n_hidden, vocab_size), generator=g)\n",
        "b2 = torch.randn(vocab_size, generator=g)\n",
        "parameters = [C, W1, b1, W2, b2]\n",
        "\n",
        "print('Total trainable parameters: ', sum(p.nelement() for p in parameters))\n",
        "\n",
        "# Make sure all the parameters support gradient and updates\n",
        "for p in parameters:\n",
        "  p.requires_grad = True"
      ],
      "metadata": {
        "colab": {
          "base_uri": "https://localhost:8080/"
        },
        "id": "iet8yFuuwL5l",
        "outputId": "84582ff2-1aac-402e-d651-c610069e0a97"
      },
      "execution_count": 7,
      "outputs": [
        {
          "output_type": "stream",
          "name": "stdout",
          "text": [
            "Total trainable parameters:  11897\n"
          ]
        }
      ]
    },
    {
      "cell_type": "code",
      "source": [
        "batch_size = 32\n",
        "max_steps = 200000\n",
        "lossi = []\n",
        "\n",
        "\n",
        "for k in range(max_steps):\n",
        "\n",
        "  # Minibatch index\n",
        "  ix = torch.randint(0, X_train.shape[0], (batch_size,))\n",
        "\n",
        "\n",
        "  # Forward Pass\n",
        "  emb = C[X_train[ix]] # Shape -> (32, 3, 2)\n",
        "  h0 = emb.view(-1, n_embd * block_size) @ W1 + b1\n",
        "  h = torch.tanh(h0)\n",
        "  logits = h @ W2 + b2\n",
        "  loss = F.cross_entropy(logits, Y_train[ix]) # Need to update target dataset as well\n",
        "\n",
        "  if k%10000 == 0:\n",
        "    print(f'Epoch {k} -> Loss = {loss.item()} ')\n",
        "\n",
        "  # Backward pass\n",
        "  for p in parameters:\n",
        "    p.grad = None\n",
        "  loss.backward()\n",
        "\n",
        "  # Gradient Update\n",
        "  lr = 0.1 if k < 100000 else 0.01\n",
        "  for p in parameters:\n",
        "    p.data += -lr * p.grad\n",
        "\n",
        "  lossi.append(loss.log10().item())"
      ],
      "metadata": {
        "colab": {
          "base_uri": "https://localhost:8080/"
        },
        "id": "Gn7QpG3kw_Ic",
        "outputId": "28b4c44c-adbd-458b-f672-648e236e75cc"
      },
      "execution_count": 8,
      "outputs": [
        {
          "output_type": "stream",
          "name": "stdout",
          "text": [
            "Epoch 0 -> Loss = 23.32915496826172 \n",
            "Epoch 10000 -> Loss = 2.5980043411254883 \n",
            "Epoch 20000 -> Loss = 2.6710774898529053 \n",
            "Epoch 30000 -> Loss = 2.0655064582824707 \n",
            "Epoch 40000 -> Loss = 2.0710256099700928 \n",
            "Epoch 50000 -> Loss = 1.9973664283752441 \n",
            "Epoch 60000 -> Loss = 2.168522834777832 \n",
            "Epoch 70000 -> Loss = 2.1791939735412598 \n",
            "Epoch 80000 -> Loss = 2.0406641960144043 \n",
            "Epoch 90000 -> Loss = 2.447380304336548 \n",
            "Epoch 100000 -> Loss = 2.187939167022705 \n",
            "Epoch 110000 -> Loss = 2.1103718280792236 \n",
            "Epoch 120000 -> Loss = 2.128633975982666 \n",
            "Epoch 130000 -> Loss = 2.121995687484741 \n",
            "Epoch 140000 -> Loss = 2.410740375518799 \n",
            "Epoch 150000 -> Loss = 2.1928327083587646 \n",
            "Epoch 160000 -> Loss = 2.1449942588806152 \n",
            "Epoch 170000 -> Loss = 2.0760080814361572 \n",
            "Epoch 180000 -> Loss = 2.265179395675659 \n",
            "Epoch 190000 -> Loss = 1.5760940313339233 \n"
          ]
        }
      ]
    },
    {
      "cell_type": "code",
      "source": [
        "plt.plot(lossi)"
      ],
      "metadata": {
        "colab": {
          "base_uri": "https://localhost:8080/",
          "height": 447
        },
        "id": "oUQbtQQCxYsM",
        "outputId": "3d61e7d3-f3e6-42a1-f971-3e1eef765044"
      },
      "execution_count": 9,
      "outputs": [
        {
          "output_type": "execute_result",
          "data": {
            "text/plain": [
              "[<matplotlib.lines.Line2D at 0x7fbd4e511cc0>]"
            ]
          },
          "metadata": {},
          "execution_count": 9
        },
        {
          "output_type": "display_data",
          "data": {
            "text/plain": [
              "<Figure size 640x480 with 1 Axes>"
            ],
            "image/png": "[encoded data removed]"
          },
          "metadata": {}
        }
      ]
    },
    {
      "cell_type": "code",
      "source": [
        "@torch.no_grad() # the decorator disables gradient tracking\n",
        "def split_loss(split):\n",
        "  '''Function returns split level loss'''\n",
        "  x, y = {\n",
        "      'train': (X_train, Y_train),\n",
        "      'val': (X_val, Y_val),\n",
        "      'test': (X_test, Y_test)\n",
        "  }[split]\n",
        "\n",
        "  emb = C[x]\n",
        "  embcat = emb.view(emb.shape[0], -1)\n",
        "\n",
        "  h0 = embcat @ W1 + b1\n",
        "  h = torch.tanh(h0)\n",
        "  logits = h @ W2 + b2\n",
        "  loss = F.cross_entropy(logits, y)\n",
        "  print(split, loss.item())\n",
        "\n",
        "split_loss('train')\n",
        "split_loss('val')"
      ],
      "metadata": {
        "colab": {
          "base_uri": "https://localhost:8080/"
        },
        "id": "oEpg94z2yHK9",
        "outputId": "96231bf2-6904-413c-f171-c54f713270b9"
      },
      "execution_count": 10,
      "outputs": [
        {
          "output_type": "stream",
          "name": "stdout",
          "text": [
            "train 2.112743616104126\n",
            "val 2.1546499729156494\n"
          ]
        }
      ]
    },
    {
      "cell_type": "code",
      "source": [
        "g = torch.Generator().manual_seed(10)\n",
        "\n",
        "for _ in range(20):\n",
        "\n",
        "  out = []\n",
        "  context = [0]*block_size\n",
        "\n",
        "  while True:\n",
        "    emb = C[torch.tensor([context])]\n",
        "    h0 = emb.view(1, -1) @ W1 + b1\n",
        "    h = torch.tanh(h0)\n",
        "    logits = h @ W2 + b2\n",
        "    probs = torch.softmax(logits, dim=1)\n",
        "\n",
        "    ix = torch.multinomial(probs, 1, generator=g).item()\n",
        "    context = context[1:] + [ix]\n",
        "\n",
        "    out.append(itos[ix])\n",
        "\n",
        "    if ix == 0:\n",
        "      break\n",
        "      \n",
        "  print(''.join(out))"
      ],
      "metadata": {
        "colab": {
          "base_uri": "https://localhost:8080/"
        },
        "id": "AnQ3N8Oo0AwU",
        "outputId": "437d9aa0-ca18-49eb-d06c-eeb03ddcc97c"
      },
      "execution_count": 11,
      "outputs": [
        {
          "output_type": "stream",
          "name": "stdout",
          "text": [
            "pri.\n",
            "ehma.\n",
            "meyannen.\n",
            "noto.\n",
            "raya.\n",
            "coprista.\n",
            "quin.\n",
            "dyaniya.\n",
            "meimanca.\n",
            "mekai.\n",
            "jual.\n",
            "ariza.\n",
            "alareotymira.\n",
            "kyhse.\n",
            "ariffernia.\n",
            "anto.\n",
            "marshan.\n",
            "audhensietsa.\n",
            "jaysynn.\n",
            "izwaidah.\n"
          ]
        }
      ]
    },
    {
      "cell_type": "markdown",
      "source": [
        "The neural network architecture and functionality defined above has few issues which can (and are) impacting the performance and quality of the names generated - \n",
        "\n",
        "\n",
        "#### Issue 1\n",
        "\n",
        "Intial loss of the model is very high. For a naive model, this should be close to 3.2 - Negative log of probability, which is 1/27. This has to do with the random initialization. Initial values are so far off the reality (or the model is so confidently wrong!), that we are getting such a high number "
      ],
      "metadata": {
        "id": "xZ55HLPp0rdH"
      }
    },
    {
      "cell_type": "code",
      "source": [
        "n_embd = 10\n",
        "n_hidden = 200\n",
        "\n",
        "# First let re-initialize the params\n",
        "g = torch.Generator().manual_seed(10)\n",
        "C = torch.randn((vocab_size, n_embd), generator=g)\n",
        "W1 = torch.randn((n_embd * block_size, n_hidden), generator=g)\n",
        "b1 = torch.randn(n_hidden, generator=g)\n",
        "W2 = torch.randn((n_hidden, vocab_size), generator=g) * 0.01\n",
        "b2 = torch.randn(vocab_size, generator=g) * 0\n",
        "parameters = [C, W1, b1, W2, b2]\n",
        "\n",
        "print('Total trainable parameters: ', sum(p.nelement() for p in parameters))\n",
        "\n",
        "# Make sure all the parameters support gradient and updates\n",
        "for p in parameters:\n",
        "  p.requires_grad = True\n",
        "\n",
        "batch_size = 32\n",
        "max_steps = 200000\n",
        "lossi = []\n",
        "\n",
        "\n",
        "for k in range(max_steps):\n",
        "\n",
        "  # Minibatch index\n",
        "  ix = torch.randint(0, X_train.shape[0], (batch_size,))\n",
        "\n",
        "\n",
        "  # Forward Pass\n",
        "  emb = C[X_train[ix]] # Shape -> (32, 3, 2)\n",
        "  h0 = emb.view(-1, n_embd * block_size) @ W1 + b1\n",
        "  h = torch.tanh(h0)\n",
        "  logits = h @ W2 + b2\n",
        "  loss = F.cross_entropy(logits, Y_train[ix]) # Need to update target dataset as well\n",
        "\n",
        "  if k%10000 == 0:\n",
        "    print(f'Epoch {k} -> Loss = {loss.item()} ')\n",
        "\n",
        "  # Backward pass\n",
        "  for p in parameters:\n",
        "    p.grad = None\n",
        "  loss.backward()\n",
        "\n",
        "  # Gradient Update\n",
        "  lr = 0.1 if k < 100000 else 0.01\n",
        "  for p in parameters:\n",
        "    p.data += -lr * p.grad\n",
        "\n",
        "  lossi.append(loss.log10().item())\n",
        "\n",
        "  break"
      ],
      "metadata": {
        "colab": {
          "base_uri": "https://localhost:8080/"
        },
        "id": "1aftdbyW3gER",
        "outputId": "7210e251-92bb-44b2-809c-dfb5c125f018"
      },
      "execution_count": 12,
      "outputs": [
        {
          "output_type": "stream",
          "name": "stdout",
          "text": [
            "Total trainable parameters:  11897\n",
            "Epoch 0 -> Loss = 3.262397527694702 \n"
          ]
        }
      ]
    },
    {
      "cell_type": "code",
      "source": [
        "plt.plot(lossi)"
      ],
      "metadata": {
        "colab": {
          "base_uri": "https://localhost:8080/",
          "height": 447
        },
        "id": "AiQNzfI43lzS",
        "outputId": "40223caa-4839-4d48-f74a-bff1a0edf2b8"
      },
      "execution_count": 13,
      "outputs": [
        {
          "output_type": "execute_result",
          "data": {
            "text/plain": [
              "[<matplotlib.lines.Line2D at 0x7fbd4e120be0>]"
            ]
          },
          "metadata": {},
          "execution_count": 13
        },
        {
          "output_type": "display_data",
          "data": {
            "text/plain": [
              "<Figure size 640x480 with 1 Axes>"
            ],
            "image/png": "[encoded data removed]"
          },
          "metadata": {}
        }
      ]
    },
    {
      "cell_type": "markdown",
      "source": [
        "No more hockey stick shaped loss. No mighty gains in the beginning!"
      ],
      "metadata": {
        "id": "pc8B87YY4QmQ"
      }
    },
    {
      "cell_type": "code",
      "source": [
        "split_loss('train')\n",
        "split_loss('val')"
      ],
      "metadata": {
        "colab": {
          "base_uri": "https://localhost:8080/"
        },
        "id": "HFbaubsr3tmC",
        "outputId": "27d60bbe-361b-4fab-dddc-335ed22f4fdf"
      },
      "execution_count": 14,
      "outputs": [
        {
          "output_type": "stream",
          "name": "stdout",
          "text": [
            "train 3.1816556453704834\n",
            "val 3.1799092292785645\n"
          ]
        }
      ]
    },
    {
      "cell_type": "markdown",
      "source": [
        "The performance has improved a bit, since the few thousand iterations that the models wasted to squash randomly initialized weights are now better spent on the actual training"
      ],
      "metadata": {
        "id": "5mcQ_Akx4Xln"
      }
    },
    {
      "cell_type": "code",
      "source": [
        "g = torch.Generator().manual_seed(10)\n",
        "\n",
        "for _ in range(20):\n",
        "\n",
        "  out = []\n",
        "  context = [0]*block_size\n",
        "\n",
        "  while True:\n",
        "    emb = C[torch.tensor([context])]\n",
        "    h0 = emb.view(1, -1) @ W1 + b1\n",
        "    h = torch.tanh(h0)\n",
        "    logits = h @ W2 + b2\n",
        "    probs = torch.softmax(logits, dim=1)\n",
        "\n",
        "    ix = torch.multinomial(probs, 1, generator=g).item()\n",
        "    context = context[1:] + [ix]\n",
        "\n",
        "    out.append(itos[ix])\n",
        "\n",
        "    if ix == 0:\n",
        "      break\n",
        "      \n",
        "  print(''.join(out))"
      ],
      "metadata": {
        "colab": {
          "base_uri": "https://localhost:8080/"
        },
        "id": "h-PgwFGg3xtS",
        "outputId": "b891f950-592e-460e-a2b3-732ab43e7bb2"
      },
      "execution_count": 15,
      "outputs": [
        {
          "output_type": "stream",
          "name": "stdout",
          "text": [
            "prp.\n",
            "ehqz.\n",
            "ewybwixnsnotomrwlaecozttdskxqlbgypydajuejwcfmbzcbkmedqxwurautpodvaeaoxruoiymfhousthkm.\n",
            "zr.\n",
            "fgethzbdsppsdm.\n",
            "ssfazbaujhensiztsuzhqmsylqjizwpcusqqbpaaxwlpzqhqraueeghcypcn.\n",
            "vkdijnkfrbvu.\n",
            "kmx.\n",
            ".\n",
            "jv.\n",
            "irap.\n",
            "wvbrbc.\n",
            "lahxpfmjfojmgamzymrornutsgna.\n",
            "evsbsbbxl.\n",
            "hfmcoiiufczdodtqnkbpgyzlaechmtqysqywmytqhjxzlanmrwbjseqasinuhbxyfuevpnlbtpnazzyzhquuxvvznequayntwkmribapnrbfos.\n",
            "rhzjwubtyeqdday.\n",
            "qudckabxgwvxllrdkcslkncswjowwosleyippcrqkeqprikjkwhjmu.\n",
            "abipsitrkaoadtxvkumwoyttxyssfjxagwspuwhps.\n",
            "vnleflphauxgiudieyysytnwshvdh.\n",
            "nhxqtihazvbxkjmtoszgwdcxbrultqwatlipiiekgokwxlmvcjymokvxtzeewjlizoktcokvqlmmxurheehwajihdhlqdfbkmrshfkpowcy.\n"
          ]
        }
      ]
    },
    {
      "cell_type": "markdown",
      "source": [
        "The performance is much better than bigrams and MLP, the names generated are better than both as well, but still meh!"
      ],
      "metadata": {
        "id": "GLYG07FI3zta"
      }
    },
    {
      "cell_type": "markdown",
      "source": [
        "#### Issue 2\n",
        "\n",
        "Initialization, weights look good for now but 1 issue still remains which pertains to tanh. Tanh can be thought of as a squashing function, which converts any number in (-inf, inf) to [-1, 1]. In order to understand the output of tanh operation on embeddings, weights and biases, let's plot the histogram"
      ],
      "metadata": {
        "id": "KWAnVJwSs_ff"
      }
    },
    {
      "cell_type": "code",
      "source": [
        "# h is [32, 200], where 200 is dim of hidden layer\n",
        "# So, flatten h (using view), convert to python list and visualize\n",
        "\n",
        "plt.hist(h.view(-1).tolist(), bins=50);"
      ],
      "metadata": {
        "colab": {
          "base_uri": "https://localhost:8080/",
          "height": 430
        },
        "id": "DTxC9kNVtMB_",
        "outputId": "90bb6b69-ec6a-41a9-c4f9-ed9e66786fa8"
      },
      "execution_count": 16,
      "outputs": [
        {
          "output_type": "display_data",
          "data": {
            "text/plain": [
              "<Figure size 640x480 with 1 Axes>"
            ],
            "image/png": "[encoded data removed]"
          },
          "metadata": {}
        }
      ]
    },
    {
      "cell_type": "markdown",
      "source": [
        "Observe that majority of the initial values are either -1 or 1. Let's plot the input to tanh"
      ],
      "metadata": {
        "id": "E6oR-2qbugho"
      }
    },
    {
      "cell_type": "code",
      "source": [
        "plt.hist(h0.view(-1).tolist(), bins=50);"
      ],
      "metadata": {
        "colab": {
          "base_uri": "https://localhost:8080/",
          "height": 430
        },
        "id": "aWhDfc-JvXmo",
        "outputId": "36bee897-37ff-4e8c-cf20-e9bfffcaba47"
      },
      "execution_count": 17,
      "outputs": [
        {
          "output_type": "display_data",
          "data": {
            "text/plain": [
              "<Figure size 640x480 with 1 Axes>"
            ],
            "image/png": "[encoded data removed]"
          },
          "metadata": {}
        }
      ]
    },
    {
      "cell_type": "markdown",
      "source": [
        "h0 takes extreme values (between -10 and 10) which makes tanh -1 or 1 many times and this can be an issue in backward prop. Why?\n",
        "\n",
        "Remember in the autograd notebook, the derivative of tanh = (1 - t**2) * out.grad, where (1 - t**2) is the local derivative and out.grad is the global derivative (from the chain rule). If t is -1 or 1, then first term becomes zero and hence the entire derivative becomes zero. This can result in low learning of the neuron. It can also happen that the entire weight and bias row for the particular are initialized such that the output of the neuron is zero. Such a neuron can be called as a 'Dead Neuron'\n",
        "\n",
        "Below plot shows how many values in h are non-zero (White pixel means zero and black means non-zero). We would ideally want as many blacks as possible. In case when the entire column in white, it means a dead neuron"
      ],
      "metadata": {
        "id": "rtqrKSiOvp5c"
      }
    },
    {
      "cell_type": "code",
      "source": [
        "plt.figure(figsize=(10, 5))\n",
        "plt.imshow(h.abs() > 0.99, cmap='gray', interpolation='nearest');"
      ],
      "metadata": {
        "colab": {
          "base_uri": "https://localhost:8080/",
          "height": 70
        },
        "id": "rjRl8EUVzWrM",
        "outputId": "79e05c1b-0446-48c6-d163-a2e6c6ba808a"
      },
      "execution_count": 18,
      "outputs": [
        {
          "output_type": "display_data",
          "data": {
            "text/plain": [
              "<Figure size 1000x500 with 1 Axes>"
            ],
            "image/png": "[encoded data removed]"
          },
          "metadata": {}
        }
      ]
    },
    {
      "cell_type": "markdown",
      "source": [
        "In order to reduce the values of h0 and h, we can use similar approach of multiplying the weights and biases by a small number"
      ],
      "metadata": {
        "id": "_0QSZqaP02ON"
      }
    },
    {
      "cell_type": "code",
      "source": [
        "n_embd = 10\n",
        "n_hidden = 200\n",
        "\n",
        "# First let re-initialize the params\n",
        "g = torch.Generator().manual_seed(10)\n",
        "C = torch.randn((vocab_size, n_embd), generator=g)\n",
        "W1 = torch.randn((n_embd * block_size, n_hidden), generator=g) * 0.1\n",
        "b1 = torch.randn(n_hidden, generator=g) * 0.01\n",
        "W2 = torch.randn((n_hidden, vocab_size), generator=g) * 0.01\n",
        "b2 = torch.randn(vocab_size, generator=g) * 0\n",
        "parameters = [C, W1, b1, W2, b2]\n",
        "\n",
        "print('Total trainable parameters: ', sum(p.nelement() for p in parameters))\n",
        "\n",
        "# Make sure all the parameters support gradient and updates\n",
        "for p in parameters:\n",
        "  p.requires_grad = True\n",
        "\n",
        "batch_size = 32\n",
        "max_steps = 200000\n",
        "lossi = []\n",
        "\n",
        "\n",
        "for k in range(max_steps):\n",
        "\n",
        "  # Minibatch index\n",
        "  ix = torch.randint(0, X_train.shape[0], (batch_size,))\n",
        "\n",
        "\n",
        "  # Forward Pass\n",
        "  emb = C[X_train[ix]] # Shape -> (32, 3, 2)\n",
        "  h0 = emb.view(-1, n_embd * block_size) @ W1 + b1\n",
        "  h = torch.tanh(h0)\n",
        "  logits = h @ W2 + b2\n",
        "  loss = F.cross_entropy(logits, Y_train[ix]) # Need to update target dataset as well\n",
        "\n",
        "  if k%10000 == 0:\n",
        "    print(f'Epoch {k} -> Loss = {loss.item()} ')\n",
        "\n",
        "  # Backward pass\n",
        "  for p in parameters:\n",
        "    p.grad = None\n",
        "  loss.backward()\n",
        "\n",
        "  # Gradient Update\n",
        "  lr = 0.1 if k < 100000 else 0.01\n",
        "  for p in parameters:\n",
        "    p.data += -lr * p.grad\n",
        "\n",
        "  lossi.append(loss.log10().item())\n",
        "\n",
        "  break"
      ],
      "metadata": {
        "colab": {
          "base_uri": "https://localhost:8080/"
        },
        "id": "vyaL3Plv1TI2",
        "outputId": "fe99c348-8a96-4cd4-b1b5-55d42e1eb01a"
      },
      "execution_count": 19,
      "outputs": [
        {
          "output_type": "stream",
          "name": "stdout",
          "text": [
            "Total trainable parameters:  11897\n",
            "Epoch 0 -> Loss = 3.2942025661468506 \n"
          ]
        }
      ]
    },
    {
      "cell_type": "code",
      "source": [
        "plt.hist(h.view(-1).tolist(), bins=50);"
      ],
      "metadata": {
        "colab": {
          "base_uri": "https://localhost:8080/",
          "height": 430
        },
        "id": "T3ALktNG1fXA",
        "outputId": "9a45527f-d081-496b-acc4-d79ec233c92d"
      },
      "execution_count": 20,
      "outputs": [
        {
          "output_type": "display_data",
          "data": {
            "text/plain": [
              "<Figure size 640x480 with 1 Axes>"
            ],
            "image/png": "[encoded data removed]"
          },
          "metadata": {}
        }
      ]
    },
    {
      "cell_type": "code",
      "source": [
        "plt.hist(h0.view(-1).tolist(), bins=50);"
      ],
      "metadata": {
        "colab": {
          "base_uri": "https://localhost:8080/",
          "height": 430
        },
        "id": "F64L4GvD1hcQ",
        "outputId": "dcec43ec-3116-404e-f684-3f54ea74af8a"
      },
      "execution_count": 21,
      "outputs": [
        {
          "output_type": "display_data",
          "data": {
            "text/plain": [
              "<Figure size 640x480 with 1 Axes>"
            ],
            "image/png": "[encoded data removed]"
          },
          "metadata": {}
        }
      ]
    },
    {
      "cell_type": "code",
      "source": [
        "plt.figure(figsize=(10, 5))\n",
        "plt.imshow(h.abs() > 0.99, cmap='gray', interpolation='nearest');"
      ],
      "metadata": {
        "colab": {
          "base_uri": "https://localhost:8080/",
          "height": 188
        },
        "id": "gPefOFEC1jl3",
        "outputId": "d14e3500-bdd3-48fb-f0ff-6b07675a2998"
      },
      "execution_count": 22,
      "outputs": [
        {
          "output_type": "display_data",
          "data": {
            "text/plain": [
              "<Figure size 1000x500 with 1 Axes>"
            ],
            "image/png": "[encoded data removed]"
          },
          "metadata": {}
        }
      ]
    },
    {
      "cell_type": "markdown",
      "source": [
        "Note the following - \n",
        "\n",
        "1. Much better distribution of tanh output. Takes many values in [-1,1] and this has primarily to do with the values in graph 2, where h0 takes values between [-2, 2]\n",
        "2. Notice the entire plot of values > 0.99 is black, which means all the gradients of the neuron are non-zero "
      ],
      "metadata": {
        "id": "pT_sagv-1ln1"
      }
    },
    {
      "cell_type": "markdown",
      "source": [
        "A lot of the numbers used to scale weights and biases are 'magic numbers', hard-coded and based on trial-error approach. In order to come up with a better way to choose these numbers, or precisely, how to initialize the weights and biases, refer Kaiming Initialization paper [here](https://arxiv.org/abs/1502.01852)\n",
        "\n",
        "The paper talks about the gain that needs to applied when using a particular non-linearity to better initialize the weights and biases. \n",
        "\n",
        "Due to advances in techniques like normalization layers (BatchNorm, LayerNorm) and optimizers (RMSProp, ADAM), the neural networks are becoming less sensitive to such issues"
      ],
      "metadata": {
        "id": "VQWHBGwaJ5yg"
      }
    },
    {
      "cell_type": "markdown",
      "source": [
        "#### Batch Normalization\n",
        "\n",
        "As discussed in previous sections, we want the pre-activations (h0) to not be extreme values, otherwise tanh explodes and the resultant derivatives are zero. Rather, we want these to roughly gaussian, with mean=0 and std=1. \n",
        "\n",
        "As discussed in the [Batch Normalization Paper](https://arxiv.org/pdf/1502.03167.pdf), we can simply add a functionality to the hidden layers to overcome 'Internal Co-Variate Shift' using Batch Normalization. Important thing to note here, we don't want the network to force the weights and biases to be exactly gaussian with mean=0 and std=1, and want to give it full freedom to adjust weights and biases as per the problem. In order to achieve this, the authors suggest to scale the norm and add a bias. Scaling and Shifting are both parameters and learned during model training. "
      ],
      "metadata": {
        "id": "7Bb6If60O0UK"
      }
    },
    {
      "cell_type": "code",
      "source": [
        "h0.shape"
      ],
      "metadata": {
        "colab": {
          "base_uri": "https://localhost:8080/"
        },
        "id": "AKrx9TaaO2Eb",
        "outputId": "91bb5191-f0e2-4db0-9c61-52ac9e162742"
      },
      "execution_count": 23,
      "outputs": [
        {
          "output_type": "execute_result",
          "data": {
            "text/plain": [
              "torch.Size([32, 200])"
            ]
          },
          "metadata": {},
          "execution_count": 23
        }
      ]
    },
    {
      "cell_type": "code",
      "source": [
        "# We need to get the mean and std for each element in the batch\n",
        "# keepdim=True so that it's easily broadcasted\n",
        "h0.mean(axis=0, keepdim=True).shape, h0.std(axis=0, keepdim=True).shape"
      ],
      "metadata": {
        "colab": {
          "base_uri": "https://localhost:8080/"
        },
        "id": "x4m-ognwVj7U",
        "outputId": "fb9ce6cf-9fa1-4189-a47c-9c30e48f92db"
      },
      "execution_count": 24,
      "outputs": [
        {
          "output_type": "execute_result",
          "data": {
            "text/plain": [
              "(torch.Size([1, 200]), torch.Size([1, 200]))"
            ]
          },
          "metadata": {},
          "execution_count": 24
        }
      ]
    },
    {
      "cell_type": "markdown",
      "source": [
        "Let's re-initialize"
      ],
      "metadata": {
        "id": "-7_qsa6MWkO6"
      }
    },
    {
      "cell_type": "code",
      "source": [
        "n_embd = 10\n",
        "n_hidden = 200\n",
        "\n",
        "# First let re-initialize the params\n",
        "g = torch.Generator().manual_seed(10)\n",
        "C = torch.randn((vocab_size, n_embd), generator=g)\n",
        "W1 = torch.randn((n_embd * block_size, n_hidden), generator=g) * 0.1\n",
        "b1 = torch.randn(n_hidden, generator=g) * 0.01\n",
        "W2 = torch.randn((n_hidden, vocab_size), generator=g) * 0.01\n",
        "b2 = torch.randn(vocab_size, generator=g) * 0\n",
        "\n",
        "bngain = torch.ones((1, n_hidden))\n",
        "bnbias = torch.zeros((1, n_hidden))\n",
        "\n",
        "\n",
        "parameters = [C, W1, b1, W2, b2, bngain, bnbias]\n",
        "\n",
        "print('Total trainable parameters: ', sum(p.nelement() for p in parameters))\n",
        "\n",
        "# Make sure all the parameters support gradient and updates\n",
        "for p in parameters:\n",
        "  p.requires_grad = True\n",
        "\n",
        "batch_size = 32\n",
        "max_steps = 200000\n",
        "lossi = []\n",
        "\n",
        "\n",
        "for k in range(max_steps):\n",
        "\n",
        "  # Minibatch index\n",
        "  ix = torch.randint(0, X_train.shape[0], (batch_size,))\n",
        "\n",
        "\n",
        "  # Forward Pass\n",
        "  emb = C[X_train[ix]] # Shape -> (32, 3, 2)\n",
        "  h0 = emb.view(-1, n_embd * block_size) @ W1 + b1\n",
        "\n",
        "  # Add BatchNorm Layer\n",
        "  bn_h0 = bngain * (h0 - h0.mean(0, keepdims=True)) / (h0.std(0, keepdims=True)) + bnbias\n",
        "\n",
        "  # Input to non-linearity becomes batch-normed\n",
        "  h = torch.tanh(bn_h0)\n",
        "\n",
        "  logits = h @ W2 + b2\n",
        "  loss = F.cross_entropy(logits, Y_train[ix]) # Need to update target dataset as well\n",
        "\n",
        "  if k%10000 == 0:\n",
        "    print(f'Epoch {k} -> Loss = {loss.item()} ')\n",
        "\n",
        "  # Backward pass\n",
        "  for p in parameters:\n",
        "    p.grad = None\n",
        "  loss.backward()\n",
        "\n",
        "  # Gradient Update\n",
        "  lr = 0.1 if k < 100000 else 0.01\n",
        "  for p in parameters:\n",
        "    p.data += -lr * p.grad\n",
        "\n",
        "  lossi.append(loss.log10().item())\n",
        "\n",
        "  # break"
      ],
      "metadata": {
        "colab": {
          "base_uri": "https://localhost:8080/"
        },
        "id": "S8KiwF3qWpHo",
        "outputId": "2464e03d-8c63-42cf-cb1a-7cd914ed5d31"
      },
      "execution_count": 25,
      "outputs": [
        {
          "output_type": "stream",
          "name": "stdout",
          "text": [
            "Total trainable parameters:  12297\n",
            "Epoch 0 -> Loss = 3.3484737873077393 \n",
            "Epoch 10000 -> Loss = 2.322721481323242 \n",
            "Epoch 20000 -> Loss = 2.4542837142944336 \n",
            "Epoch 30000 -> Loss = 2.225026845932007 \n",
            "Epoch 40000 -> Loss = 2.7499310970306396 \n",
            "Epoch 50000 -> Loss = 2.3137247562408447 \n",
            "Epoch 60000 -> Loss = 2.3766894340515137 \n",
            "Epoch 70000 -> Loss = 1.8960155248641968 \n",
            "Epoch 80000 -> Loss = 2.5257840156555176 \n",
            "Epoch 90000 -> Loss = 2.4312989711761475 \n",
            "Epoch 100000 -> Loss = 1.9457457065582275 \n",
            "Epoch 110000 -> Loss = 2.0842056274414062 \n",
            "Epoch 120000 -> Loss = 2.0041122436523438 \n",
            "Epoch 130000 -> Loss = 2.0583343505859375 \n",
            "Epoch 140000 -> Loss = 2.0679264068603516 \n",
            "Epoch 150000 -> Loss = 2.050797700881958 \n",
            "Epoch 160000 -> Loss = 2.1421263217926025 \n",
            "Epoch 170000 -> Loss = 2.386162042617798 \n",
            "Epoch 180000 -> Loss = 1.8938007354736328 \n",
            "Epoch 190000 -> Loss = 2.469141960144043 \n"
          ]
        }
      ]
    },
    {
      "cell_type": "markdown",
      "source": [
        "We need to apply same batchnorm to inference layer as well. However, the authors suggest to add a step at the end of training to get the mean and std of the entire training set and use these at inference time."
      ],
      "metadata": {
        "id": "Mqc5WeW1Y5-q"
      }
    },
    {
      "cell_type": "code",
      "source": [
        "with torch.no_grad(): # another way to tell pytorch to not calculate gradient \n",
        "  emb = C[X_train]\n",
        "  h0 = emb.view(emb.shape[0], -1) @ W1 + b1\n",
        "\n",
        "  bnmean = h0.mean(0, keepdim=True)\n",
        "  bnstd = h0.std(0, keepdim=True)"
      ],
      "metadata": {
        "id": "xhiXJ_z0bzTZ"
      },
      "execution_count": 26,
      "outputs": []
    },
    {
      "cell_type": "markdown",
      "source": [
        "Use bnmean and bnstd during inference"
      ],
      "metadata": {
        "id": "hQInDI-ycWwl"
      }
    },
    {
      "cell_type": "code",
      "source": [
        "@torch.no_grad() # the decorator disables gradient tracking\n",
        "def split_loss(split):\n",
        "  '''Function returns split level loss'''\n",
        "  x, y = {\n",
        "      'train': (X_train, Y_train),\n",
        "      'val': (X_val, Y_val),\n",
        "      'test': (X_test, Y_test)\n",
        "  }[split]\n",
        "\n",
        "  emb = C[x]\n",
        "  embcat = emb.view(emb.shape[0], -1)\n",
        "\n",
        "  h0 = embcat @ W1 + b1\n",
        "  bn_h0 = bngain * (h0 - bnmean) / (bnstd) + bnbias\n",
        "  h = torch.tanh(bn_h0)\n",
        "  logits = h @ W2 + b2\n",
        "  loss = F.cross_entropy(logits, y)\n",
        "  print(split, loss.item())\n",
        "\n",
        "split_loss('train')\n",
        "split_loss('val')"
      ],
      "metadata": {
        "colab": {
          "base_uri": "https://localhost:8080/"
        },
        "id": "-PoHBXCEaZdN",
        "outputId": "f041a112-37a2-47fd-9f0c-666d136855ac"
      },
      "execution_count": 27,
      "outputs": [
        {
          "output_type": "stream",
          "name": "stdout",
          "text": [
            "train 2.060295581817627\n",
            "val 2.1051881313323975\n"
          ]
        }
      ]
    },
    {
      "cell_type": "markdown",
      "source": [
        "One important thing to note about BatchNorm is that it couples a particular example in the batch with the remaining examples in the batch, since it augments the example using batch mean and std. As a second-hand effect, it sometimes can act as regularization and reduce dependence of the example on neighbouring examples. However, in order to remove this coupling, layernorm and instancenorm were introduced\n",
        "\n",
        "Another thing pointed out by the authors in order to avoid the extra step to get bn-mean and bn-std is to calculate what's called as running mean and std. This can be implemented during the training of the neural net and avoids an additional step after the completing the training."
      ],
      "metadata": {
        "id": "np89r9FLasdE"
      }
    },
    {
      "cell_type": "code",
      "source": [
        "n_embd = 10\n",
        "n_hidden = 200\n",
        "\n",
        "# First let re-initialize the params\n",
        "g = torch.Generator().manual_seed(10)\n",
        "C = torch.randn((vocab_size, n_embd), generator=g)\n",
        "W1 = torch.randn((n_embd * block_size, n_hidden), generator=g) * 0.1\n",
        "b1 = torch.randn(n_hidden, generator=g) * 0.01\n",
        "W2 = torch.randn((n_hidden, vocab_size), generator=g) * 0.01\n",
        "b2 = torch.randn(vocab_size, generator=g) * 0\n",
        "\n",
        "bngain = torch.ones((1, n_hidden))\n",
        "bnbias = torch.zeros((1, n_hidden))\n",
        "\n",
        "# Track running means and std\n",
        "bnmean_running = torch.zeros((1, n_hidden))\n",
        "bnstd_running = torch.ones((1, n_hidden))\n",
        "\n",
        "parameters = [C, W1, b1, W2, b2, bngain, bnbias]\n",
        "\n",
        "print('Total trainable parameters: ', sum(p.nelement() for p in parameters))\n",
        "\n",
        "# Make sure all the parameters support gradient and updates\n",
        "for p in parameters:\n",
        "  p.requires_grad = True\n",
        "\n",
        "batch_size = 32\n",
        "max_steps = 200000\n",
        "lossi = []\n",
        "\n",
        "\n",
        "for k in range(max_steps):\n",
        "\n",
        "  # Minibatch index\n",
        "  ix = torch.randint(0, X_train.shape[0], (batch_size,))\n",
        "\n",
        "\n",
        "  # Forward Pass\n",
        "  emb = C[X_train[ix]] # Shape -> (32, 3, 2)\n",
        "  h0 = emb.view(-1, n_embd * block_size) @ W1 + b1\n",
        "\n",
        "  # Add BatchNorm Layer\n",
        "  bnmeani = h0.mean(0, keepdims=True)\n",
        "  bnstdi = h0.std(0, keepdims=True)\n",
        "  bn_h0 = bngain * (h0 - bnmeani) / (bnstdi) + bnbias\n",
        "\n",
        "  # Since this step is not part of gradient optimization\n",
        "  # Rather something happening on the side, something independently\n",
        "  with torch.no_grad():\n",
        "    bnmean_running = 0.999 * bnmean_running + 0.001 * bnmeani\n",
        "    bnstd_running = 0.999 * bnstd_running + 0.001 * bnstdi\n",
        "\n",
        "  # Input to non-linearity becomes batch-normed\n",
        "  h = torch.tanh(bn_h0)\n",
        "\n",
        "  logits = h @ W2 + b2\n",
        "  loss = F.cross_entropy(logits, Y_train[ix]) # Need to update target dataset as well\n",
        "\n",
        "  if k%10000 == 0:\n",
        "    print(f'Epoch {k} -> Loss = {loss.item()} ')\n",
        "\n",
        "  # Backward pass\n",
        "  for p in parameters:\n",
        "    p.grad = None\n",
        "  loss.backward()\n",
        "\n",
        "  # Gradient Update\n",
        "  lr = 0.1 if k < 100000 else 0.01\n",
        "  for p in parameters:\n",
        "    p.data += -lr * p.grad\n",
        "\n",
        "  lossi.append(loss.log10().item())\n",
        "\n",
        "  # break"
      ],
      "metadata": {
        "id": "cllsnXTNbNEB",
        "colab": {
          "base_uri": "https://localhost:8080/"
        },
        "outputId": "fff07c09-6c39-4471-9e01-781944a623a0"
      },
      "execution_count": 28,
      "outputs": [
        {
          "output_type": "stream",
          "name": "stdout",
          "text": [
            "Total trainable parameters:  12297\n",
            "Epoch 0 -> Loss = 3.294257164001465 \n",
            "Epoch 10000 -> Loss = 2.3427958488464355 \n",
            "Epoch 20000 -> Loss = 2.7509124279022217 \n",
            "Epoch 30000 -> Loss = 2.3071208000183105 \n",
            "Epoch 40000 -> Loss = 1.9534804821014404 \n",
            "Epoch 50000 -> Loss = 1.8835358619689941 \n",
            "Epoch 60000 -> Loss = 2.030900001525879 \n",
            "Epoch 70000 -> Loss = 2.035770893096924 \n",
            "Epoch 80000 -> Loss = 2.139662742614746 \n",
            "Epoch 90000 -> Loss = 2.100733995437622 \n",
            "Epoch 100000 -> Loss = 1.584230899810791 \n",
            "Epoch 110000 -> Loss = 2.420022487640381 \n",
            "Epoch 120000 -> Loss = 2.47685170173645 \n",
            "Epoch 130000 -> Loss = 2.2279574871063232 \n",
            "Epoch 140000 -> Loss = 2.2750723361968994 \n",
            "Epoch 150000 -> Loss = 2.5495243072509766 \n",
            "Epoch 160000 -> Loss = 1.760886788368225 \n",
            "Epoch 170000 -> Loss = 1.9843639135360718 \n",
            "Epoch 180000 -> Loss = 1.7197293043136597 \n",
            "Epoch 190000 -> Loss = 1.9834238290786743 \n"
          ]
        }
      ]
    },
    {
      "cell_type": "markdown",
      "source": [
        "Now, we can directly used running mean and std to get training and val statistics"
      ],
      "metadata": {
        "id": "Sq5NaCMgeJPg"
      }
    },
    {
      "cell_type": "code",
      "source": [
        "@torch.no_grad() # the decorator disables gradient tracking\n",
        "def split_loss(split):\n",
        "  '''Function returns split level loss'''\n",
        "  x, y = {\n",
        "      'train': (X_train, Y_train),\n",
        "      'val': (X_val, Y_val),\n",
        "      'test': (X_test, Y_test)\n",
        "  }[split]\n",
        "\n",
        "  emb = C[x]\n",
        "  embcat = emb.view(emb.shape[0], -1)\n",
        "\n",
        "  h0 = embcat @ W1 + b1\n",
        "  bn_h0 = bngain * (h0 - bnmean_running) / (bnstd_running) + bnbias\n",
        "  h = torch.tanh(bn_h0)\n",
        "  logits = h @ W2 + b2\n",
        "  loss = F.cross_entropy(logits, y)\n",
        "  print(split, loss.item())\n",
        "\n",
        "split_loss('train')\n",
        "split_loss('val')"
      ],
      "metadata": {
        "colab": {
          "base_uri": "https://localhost:8080/"
        },
        "id": "wXRSIZhwcrlc",
        "outputId": "3e947ece-42f8-4e83-ca0c-6dacf36592a9"
      },
      "execution_count": 29,
      "outputs": [
        {
          "output_type": "stream",
          "name": "stdout",
          "text": [
            "train 2.0616092681884766\n",
            "val 2.1087493896484375\n"
          ]
        }
      ]
    },
    {
      "cell_type": "markdown",
      "source": [
        "Train and Validation Loss are fairly similar to ones gotten earlier using explicit calibration of mean and std"
      ],
      "metadata": {
        "id": "ShAFWfkseSR-"
      }
    }
  ]
}