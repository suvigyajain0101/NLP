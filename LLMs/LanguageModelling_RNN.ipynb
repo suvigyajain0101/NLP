{
  "nbformat": 4,
  "nbformat_minor": 0,
  "metadata": {
    "colab": {
      "provenance": [],
      "authorship_tag": "ABX9TyNh0dr/XPXDDHrgOYqaUGiQ"
    },
    "kernelspec": {
      "name": "python3",
      "display_name": "Python 3"
    },
    "language_info": {
      "name": "python"
    }
  },
  "cells": [
    {
      "cell_type": "markdown",
      "source": [
        "#### A quick recap of what's done on MLP part of the modelling"
      ],
      "metadata": {
        "id": "ot5FKCEW0k2I"
      }
    },
    {
      "cell_type": "code",
      "execution_count": 1,
      "metadata": {
        "id": "MN0U33Xkv4Gd"
      },
      "outputs": [],
      "source": [
        "import torch\n",
        "import torch.nn.functional as F\n",
        "import matplotlib.pyplot as plt\n",
        "%matplotlib inline"
      ]
    },
    {
      "cell_type": "code",
      "source": [
        "!wget https://raw.githubusercontent.com/suvigyajain0101/NLP/llms/LLMs/names.txt"
      ],
      "metadata": {
        "colab": {
          "base_uri": "https://localhost:8080/"
        },
        "id": "rh_F8o00v78e",
        "outputId": "0886b877-7b8e-4b5a-f32a-ed1afe126e6a"
      },
      "execution_count": 2,
      "outputs": [
        {
          "output_type": "stream",
          "name": "stdout",
          "text": [
            "--2023-05-20 22:12:47--  https://raw.githubusercontent.com/suvigyajain0101/NLP/llms/LLMs/names.txt\n",
            "Resolving raw.githubusercontent.com (raw.githubusercontent.com)... 185.199.108.133, 185.199.109.133, 185.199.110.133, ...\n",
            "Connecting to raw.githubusercontent.com (raw.githubusercontent.com)|185.199.108.133|:443... connected.\n",
            "HTTP request sent, awaiting response... 200 OK\n",
            "Length: 228145 (223K) [text/plain]\n",
            "Saving to: ‘names.txt’\n",
            "\n",
            "names.txt           100%[===================>] 222.80K  --.-KB/s    in 0.03s   \n",
            "\n",
            "2023-05-20 22:12:47 (7.05 MB/s) - ‘names.txt’ saved [228145/228145]\n",
            "\n"
          ]
        }
      ]
    },
    {
      "cell_type": "code",
      "source": [
        "words = open('names.txt').read().splitlines()\n",
        "words[0:10]"
      ],
      "metadata": {
        "colab": {
          "base_uri": "https://localhost:8080/"
        },
        "id": "WnMeH6QAv9Ab",
        "outputId": "29da8d5f-e1ec-4485-e886-d4c67bbf25fc"
      },
      "execution_count": 3,
      "outputs": [
        {
          "output_type": "execute_result",
          "data": {
            "text/plain": [
              "['emma',\n",
              " 'olivia',\n",
              " 'ava',\n",
              " 'isabella',\n",
              " 'sophia',\n",
              " 'charlotte',\n",
              " 'mia',\n",
              " 'amelia',\n",
              " 'harper',\n",
              " 'evelyn']"
            ]
          },
          "metadata": {},
          "execution_count": 3
        }
      ]
    },
    {
      "cell_type": "code",
      "source": [
        "len(words)"
      ],
      "metadata": {
        "colab": {
          "base_uri": "https://localhost:8080/"
        },
        "id": "59oCUJ3Ov-Jy",
        "outputId": "02a70197-abb7-49e0-dcb2-1917098d7dfb"
      },
      "execution_count": 4,
      "outputs": [
        {
          "output_type": "execute_result",
          "data": {
            "text/plain": [
              "32033"
            ]
          },
          "metadata": {},
          "execution_count": 4
        }
      ]
    },
    {
      "cell_type": "code",
      "source": [
        "# Build vocab of characters and mapping to and from integers\n",
        "chars = sorted(list(set(''.join(words))))\n",
        "assert len(chars) == 26\n",
        "\n",
        "stoi = {s:i+1 for i,s in enumerate(chars)}\n",
        "stoi['.'] = 0\n",
        "\n",
        "itos = {i:s for s,i in stoi.items()}\n",
        "\n",
        "vocab_size = len(itos)\n",
        "\n",
        "print(stoi)\n",
        "print(itos)\n",
        "print(vocab_size)"
      ],
      "metadata": {
        "colab": {
          "base_uri": "https://localhost:8080/"
        },
        "id": "iJKxpq-3v_aL",
        "outputId": "f68f3507-1a5a-458e-a638-802ffc676353"
      },
      "execution_count": 5,
      "outputs": [
        {
          "output_type": "stream",
          "name": "stdout",
          "text": [
            "{'a': 1, 'b': 2, 'c': 3, 'd': 4, 'e': 5, 'f': 6, 'g': 7, 'h': 8, 'i': 9, 'j': 10, 'k': 11, 'l': 12, 'm': 13, 'n': 14, 'o': 15, 'p': 16, 'q': 17, 'r': 18, 's': 19, 't': 20, 'u': 21, 'v': 22, 'w': 23, 'x': 24, 'y': 25, 'z': 26, '.': 0}\n",
            "{1: 'a', 2: 'b', 3: 'c', 4: 'd', 5: 'e', 6: 'f', 7: 'g', 8: 'h', 9: 'i', 10: 'j', 11: 'k', 12: 'l', 13: 'm', 14: 'n', 15: 'o', 16: 'p', 17: 'q', 18: 'r', 19: 's', 20: 't', 21: 'u', 22: 'v', 23: 'w', 24: 'x', 25: 'y', 26: 'z', 0: '.'}\n",
            "27\n"
          ]
        }
      ]
    },
    {
      "cell_type": "code",
      "source": [
        "import random\n",
        "\n",
        "block_size = 3\n",
        "\n",
        "def build_dataset(words):\n",
        "  \n",
        "  X, Y = [], []\n",
        "\n",
        "  for w in words:\n",
        "    context = [0]*block_size\n",
        "    for ch in w + '.':\n",
        "      ix = stoi[ch]\n",
        "      X.append(context)\n",
        "      Y.append(ix)\n",
        "\n",
        "      context = context[1:] + [ix]\n",
        "\n",
        "  X = torch.tensor(X)\n",
        "  Y = torch.tensor(Y)\n",
        "  print(X.shape, Y.shape)\n",
        "\n",
        "  return X, Y\n",
        "\n",
        "# Random shuffle of words\n",
        "random.seed(42)\n",
        "random.shuffle(words)\n",
        "# Training data -> 80%, Val data -> 10%, testing data -> 10%\n",
        "n1 = int(0.8*len(words))\n",
        "n2 = int(0.9*len(words))\n",
        "\n",
        "X_train, Y_train = build_dataset(words[:n1])\n",
        "X_val, Y_val = build_dataset(words[n1:n2])\n",
        "X_test, Y_test = build_dataset(words[n2:])\n",
        "\n",
        "print('Training Data Size: ', len(X_train))\n",
        "print('Validation Data Size: ', len(X_val))\n",
        "print('Testing Data Size: ', len(X_test))"
      ],
      "metadata": {
        "colab": {
          "base_uri": "https://localhost:8080/"
        },
        "id": "b1TTfE_AwC-1",
        "outputId": "92fc5ec6-567e-4791-e9b6-72a4453cbdd6"
      },
      "execution_count": 6,
      "outputs": [
        {
          "output_type": "stream",
          "name": "stdout",
          "text": [
            "torch.Size([182625, 3]) torch.Size([182625])\n",
            "torch.Size([22655, 3]) torch.Size([22655])\n",
            "torch.Size([22866, 3]) torch.Size([22866])\n",
            "Training Data Size:  182625\n",
            "Validation Data Size:  22655\n",
            "Testing Data Size:  22866\n"
          ]
        }
      ]
    },
    {
      "cell_type": "code",
      "source": [
        "n_embd = 10\n",
        "n_hidden = 200\n",
        "\n",
        "# First let re-initialize the params\n",
        "g = torch.Generator().manual_seed(10)\n",
        "C = torch.randn((vocab_size, n_embd), generator=g)\n",
        "W1 = torch.randn((n_embd * block_size, n_hidden), generator=g)\n",
        "b1 = torch.randn(n_hidden, generator=g)\n",
        "W2 = torch.randn((n_hidden, vocab_size), generator=g)\n",
        "b2 = torch.randn(vocab_size, generator=g)\n",
        "parameters = [C, W1, b1, W2, b2]\n",
        "\n",
        "print('Total trainable parameters: ', sum(p.nelement() for p in parameters))\n",
        "\n",
        "# Make sure all the parameters support gradient and updates\n",
        "for p in parameters:\n",
        "  p.requires_grad = True"
      ],
      "metadata": {
        "colab": {
          "base_uri": "https://localhost:8080/"
        },
        "id": "iet8yFuuwL5l",
        "outputId": "ec3e2fb4-1170-45ee-cad0-521cbbbd64bf"
      },
      "execution_count": 7,
      "outputs": [
        {
          "output_type": "stream",
          "name": "stdout",
          "text": [
            "Total trainable parameters:  11897\n"
          ]
        }
      ]
    },
    {
      "cell_type": "code",
      "source": [
        "batch_size = 32\n",
        "max_steps = 200000\n",
        "lossi = []\n",
        "\n",
        "\n",
        "for k in range(max_steps):\n",
        "\n",
        "  # Minibatch index\n",
        "  ix = torch.randint(0, X_train.shape[0], (batch_size,))\n",
        "\n",
        "\n",
        "  # Forward Pass\n",
        "  emb = C[X_train[ix]] # Shape -> (32, 3, 2)\n",
        "  h0 = emb.view(-1, n_embd * block_size) @ W1 + b1\n",
        "  h = torch.tanh(h0)\n",
        "  logits = h @ W2 + b2\n",
        "  loss = F.cross_entropy(logits, Y_train[ix]) # Need to update target dataset as well\n",
        "\n",
        "  if k%10000 == 0:\n",
        "    print(f'Epoch {k} -> Loss = {loss.item()} ')\n",
        "\n",
        "  # Backward pass\n",
        "  for p in parameters:\n",
        "    p.grad = None\n",
        "  loss.backward()\n",
        "\n",
        "  # Gradient Update\n",
        "  lr = 0.1 if k < 100000 else 0.01\n",
        "  for p in parameters:\n",
        "    p.data += -lr * p.grad\n",
        "\n",
        "  lossi.append(loss.log10().item())"
      ],
      "metadata": {
        "colab": {
          "base_uri": "https://localhost:8080/"
        },
        "id": "Gn7QpG3kw_Ic",
        "outputId": "3157247d-9995-4dc2-90fd-08c8ef5627b6"
      },
      "execution_count": 8,
      "outputs": [
        {
          "output_type": "stream",
          "name": "stdout",
          "text": [
            "Epoch 0 -> Loss = 26.77566146850586 \n",
            "Epoch 10000 -> Loss = 2.4968745708465576 \n",
            "Epoch 20000 -> Loss = 2.302075147628784 \n",
            "Epoch 30000 -> Loss = 2.2340803146362305 \n",
            "Epoch 40000 -> Loss = 2.28608775138855 \n",
            "Epoch 50000 -> Loss = 2.20517635345459 \n",
            "Epoch 60000 -> Loss = 2.504382610321045 \n",
            "Epoch 70000 -> Loss = 2.1981420516967773 \n",
            "Epoch 80000 -> Loss = 2.3484408855438232 \n",
            "Epoch 90000 -> Loss = 2.351367950439453 \n",
            "Epoch 100000 -> Loss = 2.0120089054107666 \n",
            "Epoch 110000 -> Loss = 2.1738224029541016 \n",
            "Epoch 120000 -> Loss = 2.473362445831299 \n",
            "Epoch 130000 -> Loss = 2.1270432472229004 \n",
            "Epoch 140000 -> Loss = 2.0845773220062256 \n",
            "Epoch 150000 -> Loss = 2.24416446685791 \n",
            "Epoch 160000 -> Loss = 1.9772347211837769 \n",
            "Epoch 170000 -> Loss = 2.5256056785583496 \n",
            "Epoch 180000 -> Loss = 2.0020134449005127 \n",
            "Epoch 190000 -> Loss = 2.287200450897217 \n"
          ]
        }
      ]
    },
    {
      "cell_type": "code",
      "source": [
        "plt.plot(lossi)"
      ],
      "metadata": {
        "colab": {
          "base_uri": "https://localhost:8080/",
          "height": 447
        },
        "id": "oUQbtQQCxYsM",
        "outputId": "77885341-b749-4ccb-f2cd-f9390a403fa7"
      },
      "execution_count": 9,
      "outputs": [
        {
          "output_type": "execute_result",
          "data": {
            "text/plain": [
              "[<matplotlib.lines.Line2D at 0x7fad40068fa0>]"
            ]
          },
          "metadata": {},
          "execution_count": 9
        },
        {
          "output_type": "display_data",
          "data": {
            "text/plain": [
              "<Figure size 640x480 with 1 Axes>"
            ],
            "image/png": "[encoded data removed]"
          },
          "metadata": {}
        }
      ]
    },
    {
      "cell_type": "code",
      "source": [
        "@torch.no_grad() # the decorator disables gradient tracking\n",
        "def split_loss(split):\n",
        "  '''Function returns split level loss'''\n",
        "  x, y = {\n",
        "      'train': (X_train, Y_train),\n",
        "      'val': (X_val, Y_val),\n",
        "      'test': (X_test, Y_test)\n",
        "  }[split]\n",
        "\n",
        "  emb = C[x]\n",
        "  embcat = emb.view(emb.shape[0], -1)\n",
        "\n",
        "  h0 = embcat @ W1 + b1\n",
        "  h = torch.tanh(h0)\n",
        "  logits = h @ W2 + b2\n",
        "  loss = F.cross_entropy(logits, y)\n",
        "  print(split, loss.item())\n",
        "\n",
        "split_loss('train')\n",
        "split_loss('val')"
      ],
      "metadata": {
        "colab": {
          "base_uri": "https://localhost:8080/"
        },
        "id": "oEpg94z2yHK9",
        "outputId": "6ec90740-d586-415b-c4c9-6e4a1219ac98"
      },
      "execution_count": 10,
      "outputs": [
        {
          "output_type": "stream",
          "name": "stdout",
          "text": [
            "train 2.1136820316314697\n",
            "val 2.1541762351989746\n"
          ]
        }
      ]
    },
    {
      "cell_type": "code",
      "source": [
        "g = torch.Generator().manual_seed(10)\n",
        "\n",
        "for _ in range(20):\n",
        "\n",
        "  out = []\n",
        "  context = [0]*block_size\n",
        "\n",
        "  while True:\n",
        "    emb = C[torch.tensor([context])]\n",
        "    h0 = emb.view(1, -1) @ W1 + b1\n",
        "    h = torch.tanh(h0)\n",
        "    logits = h @ W2 + b2\n",
        "    probs = torch.softmax(logits, dim=1)\n",
        "\n",
        "    ix = torch.multinomial(probs, 1, generator=g).item()\n",
        "    context = context[1:] + [ix]\n",
        "\n",
        "    out.append(itos[ix])\n",
        "\n",
        "    if ix == 0:\n",
        "      break\n",
        "      \n",
        "  print(''.join(out))"
      ],
      "metadata": {
        "colab": {
          "base_uri": "https://localhost:8080/"
        },
        "id": "AnQ3N8Oo0AwU",
        "outputId": "92a5aa4b-d809-4a3a-b747-eadf75dfeec0"
      },
      "execution_count": 11,
      "outputs": [
        {
          "output_type": "stream",
          "name": "stdout",
          "text": [
            "pri.\n",
            "evik.\n",
            "meilyn.\n",
            "banolomarianahira.\n",
            "sabella.\n",
            "dayajuel.\n",
            "cimbynn.\n",
            "meklie.\n",
            "raytorie.\n",
            "ellareliyah.\n",
            "aubthee.\n",
            "ariffertlynne.\n",
            "mom.\n",
            "ssa.\n",
            "zaylenessie.\n",
            "samiah.\n",
            "yliann.\n",
            "aius.\n",
            "sana.\n",
            "romeir.\n"
          ]
        }
      ]
    },
    {
      "cell_type": "markdown",
      "source": [
        "The neural network architecture and functionality defined above has few issues which can (and are) impacting the performance and quality of the names generated - \n",
        "\n",
        "\n",
        "#### Issue 1\n",
        "\n",
        "Intial loss of the model is very high. For a naive model, this should be close to 3.2 - Negative log of probability, which is 1/27. This has to do with the random initialization. Initial values are so far off the reality (or the model is so confidently wrong!), that we are getting such a high number "
      ],
      "metadata": {
        "id": "xZ55HLPp0rdH"
      }
    },
    {
      "cell_type": "code",
      "source": [
        "n_embd = 10\n",
        "n_hidden = 200\n",
        "\n",
        "# First let re-initialize the params\n",
        "g = torch.Generator().manual_seed(10)\n",
        "C = torch.randn((vocab_size, n_embd), generator=g)\n",
        "W1 = torch.randn((n_embd * block_size, n_hidden), generator=g)\n",
        "b1 = torch.randn(n_hidden, generator=g)\n",
        "W2 = torch.randn((n_hidden, vocab_size), generator=g) * 0.01\n",
        "b2 = torch.randn(vocab_size, generator=g) * 0\n",
        "parameters = [C, W1, b1, W2, b2]\n",
        "\n",
        "print('Total trainable parameters: ', sum(p.nelement() for p in parameters))\n",
        "\n",
        "# Make sure all the parameters support gradient and updates\n",
        "for p in parameters:\n",
        "  p.requires_grad = True\n",
        "\n",
        "batch_size = 32\n",
        "max_steps = 200000\n",
        "lossi = []\n",
        "\n",
        "\n",
        "for k in range(max_steps):\n",
        "\n",
        "  # Minibatch index\n",
        "  ix = torch.randint(0, X_train.shape[0], (batch_size,))\n",
        "\n",
        "\n",
        "  # Forward Pass\n",
        "  emb = C[X_train[ix]] # Shape -> (32, 3, 2)\n",
        "  h0 = emb.view(-1, n_embd * block_size) @ W1 + b1\n",
        "  h = torch.tanh(h0)\n",
        "  logits = h @ W2 + b2\n",
        "  loss = F.cross_entropy(logits, Y_train[ix]) # Need to update target dataset as well\n",
        "\n",
        "  if k%10000 == 0:\n",
        "    print(f'Epoch {k} -> Loss = {loss.item()} ')\n",
        "\n",
        "  # Backward pass\n",
        "  for p in parameters:\n",
        "    p.grad = None\n",
        "  loss.backward()\n",
        "\n",
        "  # Gradient Update\n",
        "  lr = 0.1 if k < 100000 else 0.01\n",
        "  for p in parameters:\n",
        "    p.data += -lr * p.grad\n",
        "\n",
        "  lossi.append(loss.log10().item())\n",
        "\n",
        "  break"
      ],
      "metadata": {
        "colab": {
          "base_uri": "https://localhost:8080/"
        },
        "id": "1aftdbyW3gER",
        "outputId": "d25e2308-61b5-480f-858d-db7d43672fd1"
      },
      "execution_count": 12,
      "outputs": [
        {
          "output_type": "stream",
          "name": "stdout",
          "text": [
            "Total trainable parameters:  11897\n",
            "Epoch 0 -> Loss = 3.339729070663452 \n"
          ]
        }
      ]
    },
    {
      "cell_type": "code",
      "source": [
        "plt.plot(lossi)"
      ],
      "metadata": {
        "colab": {
          "base_uri": "https://localhost:8080/",
          "height": 447
        },
        "id": "AiQNzfI43lzS",
        "outputId": "c9061451-5922-4f80-be21-ae3b09bc8918"
      },
      "execution_count": 13,
      "outputs": [
        {
          "output_type": "execute_result",
          "data": {
            "text/plain": [
              "[<matplotlib.lines.Line2D at 0x7fae01963a00>]"
            ]
          },
          "metadata": {},
          "execution_count": 13
        },
        {
          "output_type": "display_data",
          "data": {
            "text/plain": [
              "<Figure size 640x480 with 1 Axes>"
            ],
            "image/png": "[encoded data removed]"
          },
          "metadata": {}
        }
      ]
    },
    {
      "cell_type": "markdown",
      "source": [
        "No more hockey stick shaped loss. No mighty gains in the beginning!"
      ],
      "metadata": {
        "id": "pc8B87YY4QmQ"
      }
    },
    {
      "cell_type": "code",
      "source": [
        "split_loss('train')\n",
        "split_loss('val')"
      ],
      "metadata": {
        "colab": {
          "base_uri": "https://localhost:8080/"
        },
        "id": "HFbaubsr3tmC",
        "outputId": "f5fee522-7fc7-4cf0-9979-da73ca4f01e9"
      },
      "execution_count": 14,
      "outputs": [
        {
          "output_type": "stream",
          "name": "stdout",
          "text": [
            "train 3.21416974067688\n",
            "val 3.2123873233795166\n"
          ]
        }
      ]
    },
    {
      "cell_type": "markdown",
      "source": [
        "The performance has improved a bit, since the few thousand iterations that the models wasted to squash randomly initialized weights are now better spent on the actual training"
      ],
      "metadata": {
        "id": "5mcQ_Akx4Xln"
      }
    },
    {
      "cell_type": "code",
      "source": [
        "g = torch.Generator().manual_seed(10)\n",
        "\n",
        "for _ in range(20):\n",
        "\n",
        "  out = []\n",
        "  context = [0]*block_size\n",
        "\n",
        "  while True:\n",
        "    emb = C[torch.tensor([context])]\n",
        "    h0 = emb.view(1, -1) @ W1 + b1\n",
        "    h = torch.tanh(h0)\n",
        "    logits = h @ W2 + b2\n",
        "    probs = torch.softmax(logits, dim=1)\n",
        "\n",
        "    ix = torch.multinomial(probs, 1, generator=g).item()\n",
        "    context = context[1:] + [ix]\n",
        "\n",
        "    out.append(itos[ix])\n",
        "\n",
        "    if ix == 0:\n",
        "      break\n",
        "      \n",
        "  print(''.join(out))"
      ],
      "metadata": {
        "colab": {
          "base_uri": "https://localhost:8080/"
        },
        "id": "h-PgwFGg3xtS",
        "outputId": "34dbff52-9985-4f8e-e3a1-a07dacdfcb0c"
      },
      "execution_count": 15,
      "outputs": [
        {
          "output_type": "stream",
          "name": "stdout",
          "text": [
            "pfp.\n",
            "ehqz.\n",
            "ewybwjxnsnotomrwlaecozthdskxqlbbypydajuejwcfmbzcbkmedqxwurautpodvaeaoxruoiymfhousthkm.\n",
            "zr.\n",
            "fkethzbdsppsdm.\n",
            "ssfazbaujhensiztsuzhqmsylqjizwpcusqqbpaaxwlpzqhqraueeghchpcnlvkdijnkfrbvuvkmx.\n",
            ".\n",
            "jv.\n",
            "ifapuwvbrbc.\n",
            "lahxpfmjfojmgamzymeornutsgna.\n",
            "evsbsbbxl.\n",
            "hfmcoiiufczdodtqnkbpgyzlaechmtqysqywmytqhjxzlanmrwbjseqisinuhbxyfuevpnlbtpnazzyzhquuxvvznequayntwkmzibapnrbfos.\n",
            "rhzjwubtyeqdday.\n",
            "kudckabxgwvxllrdecslkncswjonwosleyippcrqkeqprikjkah.\n",
            "ju.\n",
            "abipsitrkaoadtxvkumwoyttxysisjxagwspuwhps.\n",
            "vnleflphauxmiudieyysytnwshvdh.\n",
            "nhxqtihqzvsxkjmtoszgwdcxbrultqwmtwipiiekgnkwxlmvtjymokrxtzeewjlizoktcokvqlmmxurheehwajihdhlqdfbkmrshfkpowcynhawoeg.\n",
            "zipftudpejompywszwbthucm.\n",
            "kjpfpwrkqbjkcb.\n"
          ]
        }
      ]
    },
    {
      "cell_type": "markdown",
      "source": [
        "The performance is much better than bigrams and MLP, the names generated are better than both as well, but still meh!"
      ],
      "metadata": {
        "id": "GLYG07FI3zta"
      }
    },
    {
      "cell_type": "markdown",
      "source": [
        "#### Issue 2\n",
        "\n",
        "Initialization, weights look good for now but 1 issue still remains which pertains to tanh. Tanh can be thought of as a squashing function, which converts any number in (-inf, inf) to [-1, 1]. In order to understand the output of tanh operation on embeddings, weights and biases, let's plot the histogram"
      ],
      "metadata": {
        "id": "KWAnVJwSs_ff"
      }
    },
    {
      "cell_type": "code",
      "source": [
        "# h is [32, 200], where 200 is dim of hidden layer\n",
        "# So, flatten h (using view), convert to python list and visualize\n",
        "\n",
        "plt.hist(h.view(-1).tolist(), bins=50);"
      ],
      "metadata": {
        "colab": {
          "base_uri": "https://localhost:8080/",
          "height": 431
        },
        "id": "DTxC9kNVtMB_",
        "outputId": "21218a22-1a87-4f4f-d3fc-881e85881790"
      },
      "execution_count": 16,
      "outputs": [
        {
          "output_type": "display_data",
          "data": {
            "text/plain": [
              "<Figure size 640x480 with 1 Axes>"
            ],
            "image/png": "[encoded data removed]"
          },
          "metadata": {}
        }
      ]
    },
    {
      "cell_type": "markdown",
      "source": [
        "Observe that majority of the initial values are either -1 or 1. Let's plot the input to tanh"
      ],
      "metadata": {
        "id": "E6oR-2qbugho"
      }
    },
    {
      "cell_type": "code",
      "source": [
        "plt.hist(h0.view(-1).tolist(), bins=50);"
      ],
      "metadata": {
        "colab": {
          "base_uri": "https://localhost:8080/",
          "height": 430
        },
        "id": "aWhDfc-JvXmo",
        "outputId": "7d0dbe0c-214f-4e45-d7da-3662102148f9"
      },
      "execution_count": 17,
      "outputs": [
        {
          "output_type": "display_data",
          "data": {
            "text/plain": [
              "<Figure size 640x480 with 1 Axes>"
            ],
            "image/png": "[encoded data removed]"
          },
          "metadata": {}
        }
      ]
    },
    {
      "cell_type": "markdown",
      "source": [
        "h0 takes extreme values (between -10 and 10) which makes tanh -1 or 1 many times and this can be an issue in backward prop. Why?\n",
        "\n",
        "Remember in the autograd notebook, the derivative of tanh = (1 - t**2) * out.grad, where (1 - t**2) is the local derivative and out.grad is the global derivative (from the chain rule). If t is -1 or 1, then first term becomes zero and hence the entire derivative becomes zero. This can result in low learning of the neuron. It can also happen that the entire weight and bias row for the particular are initialized such that the output of the neuron is zero. Such a neuron can be called as a 'Dead Neuron'\n",
        "\n",
        "Below plot shows how many values in h are non-zero (White pixel means zero and black means non-zero). We would ideally want as many blacks as possible. In case when the entire column in white, it means a dead neuron"
      ],
      "metadata": {
        "id": "rtqrKSiOvp5c"
      }
    },
    {
      "cell_type": "code",
      "source": [
        "plt.figure(figsize=(10, 5))\n",
        "plt.imshow(h.abs() > 0.99, cmap='gray', interpolation='nearest');"
      ],
      "metadata": {
        "colab": {
          "base_uri": "https://localhost:8080/",
          "height": 70
        },
        "id": "rjRl8EUVzWrM",
        "outputId": "1b834c04-68fd-4c30-a469-48fe47f566e1"
      },
      "execution_count": 18,
      "outputs": [
        {
          "output_type": "display_data",
          "data": {
            "text/plain": [
              "<Figure size 1000x500 with 1 Axes>"
            ],
            "image/png": "[encoded data removed]"
          },
          "metadata": {}
        }
      ]
    },
    {
      "cell_type": "markdown",
      "source": [
        "In order to reduce the values of h0 and h, we can use similar approach of multiplying the weights and biases by a small number"
      ],
      "metadata": {
        "id": "_0QSZqaP02ON"
      }
    },
    {
      "cell_type": "code",
      "source": [
        "n_embd = 10\n",
        "n_hidden = 200\n",
        "\n",
        "# First let re-initialize the params\n",
        "g = torch.Generator().manual_seed(10)\n",
        "C = torch.randn((vocab_size, n_embd), generator=g)\n",
        "W1 = torch.randn((n_embd * block_size, n_hidden), generator=g) * 0.1\n",
        "b1 = torch.randn(n_hidden, generator=g) * 0.01\n",
        "W2 = torch.randn((n_hidden, vocab_size), generator=g) * 0.01\n",
        "b2 = torch.randn(vocab_size, generator=g) * 0\n",
        "parameters = [C, W1, b1, W2, b2]\n",
        "\n",
        "print('Total trainable parameters: ', sum(p.nelement() for p in parameters))\n",
        "\n",
        "# Make sure all the parameters support gradient and updates\n",
        "for p in parameters:\n",
        "  p.requires_grad = True\n",
        "\n",
        "batch_size = 32\n",
        "max_steps = 200000\n",
        "lossi = []\n",
        "\n",
        "\n",
        "for k in range(max_steps):\n",
        "\n",
        "  # Minibatch index\n",
        "  ix = torch.randint(0, X_train.shape[0], (batch_size,))\n",
        "\n",
        "\n",
        "  # Forward Pass\n",
        "  emb = C[X_train[ix]] # Shape -> (32, 3, 2)\n",
        "  h0 = emb.view(-1, n_embd * block_size) @ W1 + b1\n",
        "  h = torch.tanh(h0)\n",
        "  logits = h @ W2 + b2\n",
        "  loss = F.cross_entropy(logits, Y_train[ix]) # Need to update target dataset as well\n",
        "\n",
        "  if k%10000 == 0:\n",
        "    print(f'Epoch {k} -> Loss = {loss.item()} ')\n",
        "\n",
        "  # Backward pass\n",
        "  for p in parameters:\n",
        "    p.grad = None\n",
        "  loss.backward()\n",
        "\n",
        "  # Gradient Update\n",
        "  lr = 0.1 if k < 100000 else 0.01\n",
        "  for p in parameters:\n",
        "    p.data += -lr * p.grad\n",
        "\n",
        "  lossi.append(loss.log10().item())\n",
        "\n",
        "  break"
      ],
      "metadata": {
        "colab": {
          "base_uri": "https://localhost:8080/"
        },
        "id": "vyaL3Plv1TI2",
        "outputId": "b4394108-317d-4c7b-fa26-8efb0d3a1e41"
      },
      "execution_count": 19,
      "outputs": [
        {
          "output_type": "stream",
          "name": "stdout",
          "text": [
            "Total trainable parameters:  11897\n",
            "Epoch 0 -> Loss = 3.301769733428955 \n"
          ]
        }
      ]
    },
    {
      "cell_type": "code",
      "source": [
        "plt.hist(h.view(-1).tolist(), bins=50);"
      ],
      "metadata": {
        "colab": {
          "base_uri": "https://localhost:8080/",
          "height": 430
        },
        "id": "T3ALktNG1fXA",
        "outputId": "decfbec8-aaec-468f-bfc8-6ac20b227f9e"
      },
      "execution_count": 20,
      "outputs": [
        {
          "output_type": "display_data",
          "data": {
            "text/plain": [
              "<Figure size 640x480 with 1 Axes>"
            ],
            "image/png": "[encoded data removed]"
          },
          "metadata": {}
        }
      ]
    },
    {
      "cell_type": "code",
      "source": [
        "plt.hist(h0.view(-1).tolist(), bins=50);"
      ],
      "metadata": {
        "colab": {
          "base_uri": "https://localhost:8080/",
          "height": 430
        },
        "id": "F64L4GvD1hcQ",
        "outputId": "055de283-4f2c-4625-9ce4-a607eb18ef43"
      },
      "execution_count": 21,
      "outputs": [
        {
          "output_type": "display_data",
          "data": {
            "text/plain": [
              "<Figure size 640x480 with 1 Axes>"
            ],
            "image/png": "[encoded data removed]"
          },
          "metadata": {}
        }
      ]
    },
    {
      "cell_type": "code",
      "source": [
        "plt.figure(figsize=(10, 5))\n",
        "plt.imshow(h.abs() > 0.99, cmap='gray', interpolation='nearest');"
      ],
      "metadata": {
        "colab": {
          "base_uri": "https://localhost:8080/",
          "height": 188
        },
        "id": "gPefOFEC1jl3",
        "outputId": "bed06c08-1ec2-42e1-c06b-a8c0bb2f1c54"
      },
      "execution_count": 22,
      "outputs": [
        {
          "output_type": "display_data",
          "data": {
            "text/plain": [
              "<Figure size 1000x500 with 1 Axes>"
            ],
            "image/png": "[encoded data removed]"
          },
          "metadata": {}
        }
      ]
    },
    {
      "cell_type": "markdown",
      "source": [
        "Note the following - \n",
        "\n",
        "1. Much better distribution of tanh output. Takes many values in [-1,1] and this has primarily to do with the values in graph 2, where h0 takes values between [-2, 2]\n",
        "2. Notice the entire plot of values > 0.99 is black, which means all the gradients of the neuron are non-zero "
      ],
      "metadata": {
        "id": "pT_sagv-1ln1"
      }
    },
    {
      "cell_type": "markdown",
      "source": [
        "A lot of the numbers used to scale weights and biases are 'magic numbers', hard-coded and based on trial-error approach. In order to come up with a better way to choose these numbers, or precisely, how to initialize the weights and biases, refer Kaiming Initialization paper [here](https://arxiv.org/abs/1502.01852)\n",
        "\n",
        "The paper talks about the gain that needs to applied when using a particular non-linearity to better initialize the weights and biases. \n",
        "\n",
        "Due to advances in techniques like normalization layers (BatchNorm, LayerNorm) and optimizers (RMSProp, ADAM), the neural networks are becoming less sensitive to such issues"
      ],
      "metadata": {
        "id": "VQWHBGwaJ5yg"
      }
    },
    {
      "cell_type": "markdown",
      "source": [
        "#### Batch Normalization\n",
        "\n",
        "As discussed in previous sections, we want the pre-activations (h0) to not be extreme values, otherwise tanh explodes and the resultant derivatives are zero. Rather, we want these to roughly gaussian, with mean=0 and std=1. \n",
        "\n",
        "As discussed in the [Batch Normalization Paper](https://arxiv.org/pdf/1502.03167.pdf), we can simply add a functionality to the hidden layers to overcome 'Internal Co-Variate Shift' using Batch Normalization. Important thing to note here, we don't want the network to force the weights and biases to be exactly gaussian with mean=0 and std=1, and want to give it full freedom to adjust weights and biases as per the problem. In order to achieve this, the authors suggest to scale the norm and add a bias. Scaling and Shifting are both parameters and learned during model training. "
      ],
      "metadata": {
        "id": "7Bb6If60O0UK"
      }
    },
    {
      "cell_type": "code",
      "source": [
        "h0.shape"
      ],
      "metadata": {
        "colab": {
          "base_uri": "https://localhost:8080/"
        },
        "id": "AKrx9TaaO2Eb",
        "outputId": "db26b6bc-2126-4a55-a257-fe0ed25669f0"
      },
      "execution_count": 23,
      "outputs": [
        {
          "output_type": "execute_result",
          "data": {
            "text/plain": [
              "torch.Size([32, 200])"
            ]
          },
          "metadata": {},
          "execution_count": 23
        }
      ]
    },
    {
      "cell_type": "code",
      "source": [
        "# We need to get the mean and std for each element in the batch\n",
        "# keepdim=True so that it's easily broadcasted\n",
        "h0.mean(axis=0, keepdim=True).shape, h0.std(axis=0, keepdim=True).shape"
      ],
      "metadata": {
        "colab": {
          "base_uri": "https://localhost:8080/"
        },
        "id": "x4m-ognwVj7U",
        "outputId": "d9dbf10d-5b33-4b4a-9f9d-4cbec2a9f318"
      },
      "execution_count": 24,
      "outputs": [
        {
          "output_type": "execute_result",
          "data": {
            "text/plain": [
              "(torch.Size([1, 200]), torch.Size([1, 200]))"
            ]
          },
          "metadata": {},
          "execution_count": 24
        }
      ]
    },
    {
      "cell_type": "markdown",
      "source": [
        "Let's re-initialize"
      ],
      "metadata": {
        "id": "-7_qsa6MWkO6"
      }
    },
    {
      "cell_type": "code",
      "source": [
        "n_embd = 10\n",
        "n_hidden = 200\n",
        "\n",
        "# First let re-initialize the params\n",
        "g = torch.Generator().manual_seed(10)\n",
        "C = torch.randn((vocab_size, n_embd), generator=g)\n",
        "W1 = torch.randn((n_embd * block_size, n_hidden), generator=g) * 0.1\n",
        "b1 = torch.randn(n_hidden, generator=g) * 0.01\n",
        "W2 = torch.randn((n_hidden, vocab_size), generator=g) * 0.01\n",
        "b2 = torch.randn(vocab_size, generator=g) * 0\n",
        "\n",
        "bngain = torch.ones((1, n_hidden))\n",
        "bnbias = torch.zeros((1, n_hidden))\n",
        "\n",
        "\n",
        "parameters = [C, W1, b1, W2, b2, bngain, bnbias]\n",
        "\n",
        "print('Total trainable parameters: ', sum(p.nelement() for p in parameters))\n",
        "\n",
        "# Make sure all the parameters support gradient and updates\n",
        "for p in parameters:\n",
        "  p.requires_grad = True\n",
        "\n",
        "batch_size = 32\n",
        "max_steps = 200000\n",
        "lossi = []\n",
        "\n",
        "\n",
        "for k in range(max_steps):\n",
        "\n",
        "  # Minibatch index\n",
        "  ix = torch.randint(0, X_train.shape[0], (batch_size,))\n",
        "\n",
        "\n",
        "  # Forward Pass\n",
        "  emb = C[X_train[ix]] # Shape -> (32, 3, 2)\n",
        "  h0 = emb.view(-1, n_embd * block_size) @ W1 + b1\n",
        "\n",
        "  # Add BatchNorm Layer\n",
        "  bn_h0 = bngain * (h0 - h0.mean(0, keepdims=True)) / (h0.std(0, keepdims=True)) + bnbias\n",
        "\n",
        "  # Input to non-linearity becomes batch-normed\n",
        "  h = torch.tanh(bn_h0)\n",
        "\n",
        "  logits = h @ W2 + b2\n",
        "  loss = F.cross_entropy(logits, Y_train[ix]) # Need to update target dataset as well\n",
        "\n",
        "  if k%10000 == 0:\n",
        "    print(f'Epoch {k} -> Loss = {loss.item()} ')\n",
        "\n",
        "  # Backward pass\n",
        "  for p in parameters:\n",
        "    p.grad = None\n",
        "  loss.backward()\n",
        "\n",
        "  # Gradient Update\n",
        "  lr = 0.1 if k < 100000 else 0.01\n",
        "  for p in parameters:\n",
        "    p.data += -lr * p.grad\n",
        "\n",
        "  lossi.append(loss.log10().item())\n",
        "\n",
        "  # break"
      ],
      "metadata": {
        "colab": {
          "base_uri": "https://localhost:8080/"
        },
        "id": "S8KiwF3qWpHo",
        "outputId": "adc69d26-c146-4a6a-a57a-21ecbd9dd1f5"
      },
      "execution_count": null,
      "outputs": [
        {
          "output_type": "stream",
          "name": "stdout",
          "text": [
            "Total trainable parameters:  12297\n",
            "Epoch 0 -> Loss = 3.2915172576904297 \n",
            "Epoch 10000 -> Loss = 2.2612013816833496 \n",
            "Epoch 20000 -> Loss = 2.1572253704071045 \n",
            "Epoch 30000 -> Loss = 2.1296470165252686 \n",
            "Epoch 40000 -> Loss = 2.45645809173584 \n",
            "Epoch 50000 -> Loss = 2.580928325653076 \n",
            "Epoch 60000 -> Loss = 1.821874976158142 \n",
            "Epoch 70000 -> Loss = 1.9307470321655273 \n",
            "Epoch 80000 -> Loss = 2.0162465572357178 \n",
            "Epoch 90000 -> Loss = 2.115309476852417 \n",
            "Epoch 100000 -> Loss = 1.8309047222137451 \n",
            "Epoch 110000 -> Loss = 2.0238420963287354 \n",
            "Epoch 120000 -> Loss = 1.9296718835830688 \n",
            "Epoch 130000 -> Loss = 1.9569158554077148 \n",
            "Epoch 140000 -> Loss = 2.075603723526001 \n",
            "Epoch 150000 -> Loss = 2.011248826980591 \n"
          ]
        }
      ]
    },
    {
      "cell_type": "markdown",
      "source": [
        "We need to apply same batchnorm to inference layer as well. However, the authors suggest to add a step at the end of training to get the mean and std of the entire training set and use these at inference time."
      ],
      "metadata": {
        "id": "Mqc5WeW1Y5-q"
      }
    },
    {
      "cell_type": "code",
      "source": [
        "with torch.no_grad(): # another way to tell pytorch to not calculate gradient \n",
        "  emb = C[X_train]\n",
        "  h0 = emb.view(emb.shape[0], -1) @ W1 + b1\n",
        "\n",
        "  bnmean = h0.mean(0, keepdim=True)\n",
        "  bnstd = h0.std(0, keepdim=True)"
      ],
      "metadata": {
        "id": "xhiXJ_z0bzTZ"
      },
      "execution_count": null,
      "outputs": []
    },
    {
      "cell_type": "markdown",
      "source": [
        "Use bnmean and bnstd during inference"
      ],
      "metadata": {
        "id": "hQInDI-ycWwl"
      }
    },
    {
      "cell_type": "code",
      "source": [
        "@torch.no_grad() # the decorator disables gradient tracking\n",
        "def split_loss(split):\n",
        "  '''Function returns split level loss'''\n",
        "  x, y = {\n",
        "      'train': (X_train, Y_train),\n",
        "      'val': (X_val, Y_val),\n",
        "      'test': (X_test, Y_test)\n",
        "  }[split]\n",
        "\n",
        "  emb = C[x]\n",
        "  embcat = emb.view(emb.shape[0], -1)\n",
        "\n",
        "  h0 = embcat @ W1 + b1\n",
        "  bn_h0 = bngain * (h0 - bnmean) / (bnstd) + bnbias\n",
        "  h = torch.tanh(bn_h0)\n",
        "  logits = h @ W2 + b2\n",
        "  loss = F.cross_entropy(logits, y)\n",
        "  print(split, loss.item())\n",
        "\n",
        "split_loss('train')\n",
        "split_loss('val')"
      ],
      "metadata": {
        "id": "-PoHBXCEaZdN"
      },
      "execution_count": null,
      "outputs": []
    },
    {
      "cell_type": "markdown",
      "source": [
        "One important thing to note about BatchNorm is that it couples a particular example in the batch with the remaining examples in the batch, since it augments the example using batch mean and std. As a second-hand effect, it sometimes can act as regularization and reduce dependence of the example on neighbouring examples. However, in order to remove this coupling, layernorm and instancenorm were introduced\n",
        "\n",
        "Another thing pointed out by the authors in order to avoid the extra step to get bn-mean and bn-std is to calculate what's called as running mean and std. This can be implemented during the training of the neural net and avoids an additional step after the completing the training."
      ],
      "metadata": {
        "id": "np89r9FLasdE"
      }
    },
    {
      "cell_type": "code",
      "source": [
        "n_embd = 10\n",
        "n_hidden = 200\n",
        "\n",
        "# First let re-initialize the params\n",
        "g = torch.Generator().manual_seed(10)\n",
        "C = torch.randn((vocab_size, n_embd), generator=g)\n",
        "W1 = torch.randn((n_embd * block_size, n_hidden), generator=g) * 0.1\n",
        "b1 = torch.randn(n_hidden, generator=g) * 0.01\n",
        "W2 = torch.randn((n_hidden, vocab_size), generator=g) * 0.01\n",
        "b2 = torch.randn(vocab_size, generator=g) * 0\n",
        "\n",
        "bngain = torch.ones((1, n_hidden))\n",
        "bnbias = torch.zeros((1, n_hidden))\n",
        "\n",
        "# Track running means and std\n",
        "bnmean_running = torch.zeros((1, n_hidden))\n",
        "bnstd_running = torch.ones((1, n_hidden))\n",
        "\n",
        "parameters = [C, W1, b1, W2, b2, bngain, bnbias]\n",
        "\n",
        "print('Total trainable parameters: ', sum(p.nelement() for p in parameters))\n",
        "\n",
        "# Make sure all the parameters support gradient and updates\n",
        "for p in parameters:\n",
        "  p.requires_grad = True\n",
        "\n",
        "batch_size = 32\n",
        "max_steps = 200000\n",
        "lossi = []\n",
        "\n",
        "\n",
        "for k in range(max_steps):\n",
        "\n",
        "  # Minibatch index\n",
        "  ix = torch.randint(0, X_train.shape[0], (batch_size,))\n",
        "\n",
        "\n",
        "  # Forward Pass\n",
        "  emb = C[X_train[ix]] # Shape -> (32, 3, 2)\n",
        "  h0 = emb.view(-1, n_embd * block_size) @ W1 + b1\n",
        "\n",
        "  # Add BatchNorm Layer\n",
        "  bnmeani = h0.mean(0, keepdims=True)\n",
        "  bnstdi = h0.std(0, keepdims=True)\n",
        "  bn_h0 = bngain * (h0 - bnmeani) / (bnstdi) + bnbias\n",
        "\n",
        "  # Since this step is not part of gradient optimization\n",
        "  # Rather something happening on the side, something independently\n",
        "  with torch.no_grad():\n",
        "    bnmean_running = 0.999 * bnmean_running + 0.001 * bnmeani\n",
        "    bnstd_running = 0.999 * bnstd_running + 0.001 * bnstdi\n",
        "\n",
        "  # Input to non-linearity becomes batch-normed\n",
        "  h = torch.tanh(bn_h0)\n",
        "\n",
        "  logits = h @ W2 + b2\n",
        "  loss = F.cross_entropy(logits, Y_train[ix]) # Need to update target dataset as well\n",
        "\n",
        "  if k%10000 == 0:\n",
        "    print(f'Epoch {k} -> Loss = {loss.item()} ')\n",
        "\n",
        "  # Backward pass\n",
        "  for p in parameters:\n",
        "    p.grad = None\n",
        "  loss.backward()\n",
        "\n",
        "  # Gradient Update\n",
        "  lr = 0.1 if k < 100000 else 0.01\n",
        "  for p in parameters:\n",
        "    p.data += -lr * p.grad\n",
        "\n",
        "  lossi.append(loss.log10().item())\n",
        "\n",
        "  # break"
      ],
      "metadata": {
        "id": "cllsnXTNbNEB"
      },
      "execution_count": null,
      "outputs": []
    },
    {
      "cell_type": "markdown",
      "source": [
        "Now, we can directly used running mean and std to get training and val statistics"
      ],
      "metadata": {
        "id": "Sq5NaCMgeJPg"
      }
    },
    {
      "cell_type": "code",
      "source": [
        "@torch.no_grad() # the decorator disables gradient tracking\n",
        "def split_loss(split):\n",
        "  '''Function returns split level loss'''\n",
        "  x, y = {\n",
        "      'train': (X_train, Y_train),\n",
        "      'val': (X_val, Y_val),\n",
        "      'test': (X_test, Y_test)\n",
        "  }[split]\n",
        "\n",
        "  emb = C[x]\n",
        "  embcat = emb.view(emb.shape[0], -1)\n",
        "\n",
        "  h0 = embcat @ W1 + b1\n",
        "  bn_h0 = bngain * (h0 - bnmean_running) / (bnstd_running) + bnbias\n",
        "  h = torch.tanh(bn_h0)\n",
        "  logits = h @ W2 + b2\n",
        "  loss = F.cross_entropy(logits, y)\n",
        "  print(split, loss.item())\n",
        "\n",
        "split_loss('train')\n",
        "split_loss('val')"
      ],
      "metadata": {
        "id": "wXRSIZhwcrlc"
      },
      "execution_count": null,
      "outputs": []
    },
    {
      "cell_type": "markdown",
      "source": [
        "Train and Validation Loss are fairly similar to ones gotten earlier using explicit calibration of mean and std"
      ],
      "metadata": {
        "id": "ShAFWfkseSR-"
      }
    },
    {
      "cell_type": "markdown",
      "source": [
        "#### Pytorch Implementation\n",
        "\n",
        "Let's Pytorch-ify the entire code above"
      ],
      "metadata": {
        "id": "PDlmdaXiewRp"
      }
    },
    {
      "cell_type": "code",
      "source": [
        "class Linear:\n",
        "\n",
        "  def __init__(self, fan_in, fan_out, bias=True):\n",
        "\n",
        "    self.weight = torch.randn((fan_in, fan_out), generator=g) / fan_in ** 0.5 # fan_in ** 0.5 comes from Kaiming init\n",
        "    self.bias = torch.zeros(fan_out) if bias else None\n",
        "\n",
        "  def __call__(self, x):\n",
        "    self.out = x @ self.weight\n",
        "\n",
        "    if self.bias is not None:\n",
        "      self.out += self.bias\n",
        "    \n",
        "    return self.out\n",
        "\n",
        "  def parameters(self):\n",
        "    return [self.weight] + ([] if self.bias is None else [self.bias])"
      ],
      "metadata": {
        "id": "WfofOPhhq73j"
      },
      "execution_count": null,
      "outputs": []
    },
    {
      "cell_type": "code",
      "source": [
        "class BatchNorm1d:\n",
        "\n",
        "  def __init__(self, dim, eps=1e-5, momentum=0.1):\n",
        "    self.eps = eps\n",
        "    self.momentum = momentum\n",
        "    self.training = True\n",
        "\n",
        "    # Params - trained by backprop\n",
        "    self.gamma = torch.ones(dim)\n",
        "    self.beta = torch.zeros(dim)\n",
        "\n",
        "    # Running mean and variance\n",
        "    # Using variance instead of std to use eps to avoid ZeroDivisionError\n",
        "    self.running_mean = torch.zeros(dim)\n",
        "    self.running_var = torch.ones(dim)\n",
        "\n",
        "  def __call__(self, x):\n",
        "    # Forward Pass\n",
        "    if self.training:\n",
        "      xmean = x.mean(0, keepdim=True)\n",
        "      xvar = x.var(0, keepdim=True)\n",
        "    else:\n",
        "      xmean = self.running_mean\n",
        "      xvar = self.running_var\n",
        "\n",
        "    xhat = (x - xmean) / torch.sqrt(xvar + self.eps)\n",
        "    self.out = self.gamma * xhat + self.beta # Scale and shift\n",
        "\n",
        "    # Update the buffers - running stats\n",
        "    if self.training:\n",
        "      with torch.no_grad():\n",
        "        self.running_mean = (1-self.momentum) * self.running_mean + self.momentum * xmean\n",
        "        self.running_var = (1-self.momentum) * self.running_var + self.momentum * xvar\n",
        "    \n",
        "    return self.out\n",
        "\n",
        "  def parameters(self):\n",
        "    return [self.gamma, self.beta]\n",
        "\n",
        "class Tanh:\n",
        "\n",
        "  def __call__(self, x):\n",
        "    self.out = torch.tanh(x)\n",
        "    return self.out\n",
        "  \n",
        "  def parameters(self):\n",
        "    return []\n"
      ],
      "metadata": {
        "id": "K3f-QnXqsIJ8"
      },
      "execution_count": null,
      "outputs": []
    },
    {
      "cell_type": "markdown",
      "source": [
        "Define NN hyper-parameters"
      ],
      "metadata": {
        "id": "pHogmb7NutZF"
      }
    },
    {
      "cell_type": "code",
      "source": [
        "n_embd = 10\n",
        "n_hidden = 100\n",
        "g = torch.Generator().manual_seed(100)"
      ],
      "metadata": {
        "id": "M-jvfz6Rz2m6"
      },
      "execution_count": null,
      "outputs": []
    },
    {
      "cell_type": "markdown",
      "source": [
        "#### Without BatchNorm"
      ],
      "metadata": {
        "id": "MP3gdHDj-iw7"
      }
    },
    {
      "cell_type": "code",
      "source": [
        "C = torch.randn((vocab_size, n_embd), generator=g)\n",
        "\n",
        "layers = [\n",
        "    Linear(n_embd * block_size, n_hidden), Tanh(),\n",
        "    Linear(n_hidden, n_hidden), Tanh(),\n",
        "    Linear(n_hidden, n_hidden), Tanh(),\n",
        "    Linear(n_hidden, n_hidden), Tanh(),\n",
        "    Linear(n_hidden, n_hidden), Tanh(),\n",
        "    Linear(n_hidden, vocab_size)\n",
        "]\n",
        "\n",
        "with torch.no_grad():\n",
        "    # Reducing last layer's weight\n",
        "    layers[-1].weight *= 0.1\n",
        "\n",
        "    # Apply Kaiming init to all other layers except tanh layers\n",
        "    for layer in layers:\n",
        "      if isinstance(layer, Linear):\n",
        "        layer.weight *= 5/3\n",
        "\n",
        "parameters = [C] + [p for layer in layers for p in layer.parameters()]\n",
        "print('Total trainable params: ', sum(p.nelement() for p in parameters))\n",
        "\n",
        "for p in parameters:\n",
        "  p.requires_grad = True"
      ],
      "metadata": {
        "id": "UsEYqU2Pz_d8"
      },
      "execution_count": null,
      "outputs": []
    },
    {
      "cell_type": "code",
      "source": [
        "max_steps = 200000\n",
        "batch_size = 32\n",
        "lossi = []\n",
        "\n",
        "for k in range(max_steps):\n",
        "\n",
        "  # Minibatch construct\n",
        "  ix = torch.randint(0, X_train.shape[0], (batch_size,), generator=g)\n",
        "  Xb, Yb = X_train[ix], Y_train[ix]\n",
        "\n",
        "  # Forward Pass\n",
        "  emb = C[Xb]\n",
        "  x = emb.view(emb.shape[0], -1)\n",
        "  for layer in layers:\n",
        "    x = layer(x)\n",
        "  loss = F.cross_entropy(x, Yb)\n",
        "\n",
        "  # Backward pass\n",
        "  for layer in layers:\n",
        "    layer.out.retain_grad()\n",
        "  \n",
        "  for p in parameters:\n",
        "    p.grad = None\n",
        "  \n",
        "  loss.backward()\n",
        "\n",
        "  # Update parameters\n",
        "  lr = 0.1 if k < 100000 else 0.01\n",
        "  for p in parameters:\n",
        "    p.data += -lr * p.grad\n",
        "\n",
        "  # Track stats\n",
        "  if k % 10000 == 0:\n",
        "    print(f'{k:7d}/{max_steps:7d}: {loss.item():4f}')\n",
        "  lossi.append(loss.log10().item())\n",
        "\n",
        "  break"
      ],
      "metadata": {
        "id": "hUJJxXu-56QG"
      },
      "execution_count": null,
      "outputs": []
    },
    {
      "cell_type": "code",
      "source": [
        "# visualize histograms\n",
        "plt.figure(figsize=(20, 4)) # width and height of the plot\n",
        "legends = []\n",
        "for i, layer in enumerate(layers[:-1]): # note: exclude the output layer\n",
        "  if isinstance(layer, Tanh):\n",
        "    t = layer.out\n",
        "    print('layer %d (%10s): mean %+.2f, std %.2f, saturated: %.2f%%' % (i, layer.__class__.__name__, t.mean(), t.std(), (t.abs() > 0.97).float().mean()*100))\n",
        "    hy, hx = torch.histogram(t, density=True)\n",
        "    plt.plot(hx[:-1].detach(), hy.detach())\n",
        "    legends.append(f'layer {i} ({layer.__class__.__name__}')\n",
        "plt.legend(legends);\n",
        "plt.title('activation distribution')"
      ],
      "metadata": {
        "id": "VCgPoeT3-rdK"
      },
      "execution_count": null,
      "outputs": []
    },
    {
      "cell_type": "markdown",
      "source": [
        "Notice how the output of tanh layers are not reaching extreme values much often (5% is pretty reasonable). But this involves scaling layer weights with numbers like 5/3 which is not possible every time, and BatchNorm solves this problem"
      ],
      "metadata": {
        "id": "CpmG9VRqAYzc"
      }
    },
    {
      "cell_type": "code",
      "source": [
        "# visualize histograms\n",
        "plt.figure(figsize=(20, 4)) # width and height of the plot\n",
        "legends = []\n",
        "for i, layer in enumerate(layers[:-1]): # note: exclude the output layer\n",
        "  if isinstance(layer, Tanh):\n",
        "    t = layer.out.grad\n",
        "    print('layer %d (%10s): mean %+f, std %e' % (i, layer.__class__.__name__, t.mean(), t.std()))\n",
        "    hy, hx = torch.histogram(t, density=True)\n",
        "    plt.plot(hx[:-1].detach(), hy.detach())\n",
        "    legends.append(f'layer {i} ({layer.__class__.__name__}')\n",
        "plt.legend(legends);\n",
        "plt.title('gradient distribution')"
      ],
      "metadata": {
        "id": "RDraEJJz-9lc"
      },
      "execution_count": null,
      "outputs": []
    },
    {
      "cell_type": "markdown",
      "source": [
        "Gradients from all the layers follow a similar distribution"
      ],
      "metadata": {
        "id": "f5BJClA9--BU"
      }
    },
    {
      "cell_type": "markdown",
      "source": [
        "#### Comparison with Batch Normalization"
      ],
      "metadata": {
        "id": "exX7HKL5PDiJ"
      }
    },
    {
      "cell_type": "code",
      "source": [
        "n_embd = 10\n",
        "n_hidden = 100\n",
        "g = torch.Generator().manual_seed(100)\n",
        "\n",
        "C = torch.randn((vocab_size, n_embd), generator=g)\n",
        "\n",
        "layers = [\n",
        "    Linear(n_embd * block_size, n_hidden), BatchNorm1d(n_hidden), Tanh(),\n",
        "    Linear(n_hidden, n_hidden), BatchNorm1d(n_hidden), Tanh(),\n",
        "    Linear(n_hidden, n_hidden), BatchNorm1d(n_hidden), Tanh(),\n",
        "    Linear(n_hidden, n_hidden), BatchNorm1d(n_hidden), Tanh(),\n",
        "    Linear(n_hidden, n_hidden), BatchNorm1d(n_hidden), Tanh(),\n",
        "    Linear(n_hidden, vocab_size)\n",
        "]\n",
        "\n",
        "with torch.no_grad():\n",
        "    # Reducing last layer's weight\n",
        "    layers[-1].weight *= 0.1\n",
        "\n",
        "    # Apply Kaiming init to all other layers except tanh layers\n",
        "    for layer in layers:\n",
        "      if isinstance(layer, Linear):\n",
        "        layer.weight *= 5/3\n",
        "\n",
        "parameters = [C] + [p for layer in layers for p in layer.parameters()]\n",
        "print('Total trainable params: ', sum(p.nelement() for p in parameters))\n",
        "\n",
        "for p in parameters:\n",
        "  p.requires_grad = True\n",
        "\n",
        "max_steps = 200000\n",
        "batch_size = 32\n",
        "lossi = []\n",
        "\n",
        "for k in range(max_steps):\n",
        "\n",
        "  # Minibatch construct\n",
        "  ix = torch.randint(0, X_train.shape[0], (batch_size,), generator=g)\n",
        "  Xb, Yb = X_train[ix], Y_train[ix]\n",
        "\n",
        "  # Forward Pass\n",
        "  emb = C[Xb]\n",
        "  x = emb.view(emb.shape[0], -1)\n",
        "  for layer in layers:\n",
        "    x = layer(x)\n",
        "  loss = F.cross_entropy(x, Yb)\n",
        "\n",
        "  # Backward pass\n",
        "  for layer in layers:\n",
        "    layer.out.retain_grad()\n",
        "  \n",
        "  for p in parameters:\n",
        "    p.grad = None\n",
        "  \n",
        "  loss.backward()\n",
        "\n",
        "  # Update parameters\n",
        "  lr = 0.1 if k < 100000 else 0.01\n",
        "  for p in parameters:\n",
        "    p.data += -lr * p.grad\n",
        "\n",
        "  # Track stats\n",
        "  if k % 10000 == 0:\n",
        "    print(f'{k:7d}/{max_steps:7d}: {loss.item():4f}')\n",
        "  lossi.append(loss.log10().item())\n",
        "\n",
        "  break"
      ],
      "metadata": {
        "id": "M9CnyrwCPH6X"
      },
      "execution_count": null,
      "outputs": []
    },
    {
      "cell_type": "code",
      "source": [],
      "metadata": {
        "id": "6jwSigWkPaeg"
      },
      "execution_count": null,
      "outputs": []
    }
  ]
}