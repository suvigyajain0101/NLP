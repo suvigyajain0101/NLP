{
  "nbformat": 4,
  "nbformat_minor": 0,
  "metadata": {
    "colab": {
      "provenance": [],
      "authorship_tag": "ABX9TyPRFJ15BRtIqHppN4f01cNy"
    },
    "kernelspec": {
      "name": "python3",
      "display_name": "Python 3"
    },
    "language_info": {
      "name": "python"
    }
  },
  "cells": [
    {
      "cell_type": "markdown",
      "source": [
        "#### A quick recap of what's done on MLP part of the modelling"
      ],
      "metadata": {
        "id": "ot5FKCEW0k2I"
      }
    },
    {
      "cell_type": "code",
      "execution_count": 1,
      "metadata": {
        "id": "MN0U33Xkv4Gd"
      },
      "outputs": [],
      "source": [
        "import torch\n",
        "import torch.nn.functional as F\n",
        "import matplotlib.pyplot as plt\n",
        "%matplotlib inline"
      ]
    },
    {
      "cell_type": "code",
      "source": [
        "!wget https://raw.githubusercontent.com/suvigyajain0101/NLP/llms/LLMs/names.txt"
      ],
      "metadata": {
        "colab": {
          "base_uri": "https://localhost:8080/"
        },
        "id": "rh_F8o00v78e",
        "outputId": "5639d918-2ed9-4e89-cad5-786aa8d6bf85"
      },
      "execution_count": 2,
      "outputs": [
        {
          "output_type": "stream",
          "name": "stdout",
          "text": [
            "--2023-05-18 21:33:10--  https://raw.githubusercontent.com/suvigyajain0101/NLP/llms/LLMs/names.txt\n",
            "Resolving raw.githubusercontent.com (raw.githubusercontent.com)... 185.199.108.133, 185.199.109.133, 185.199.110.133, ...\n",
            "Connecting to raw.githubusercontent.com (raw.githubusercontent.com)|185.199.108.133|:443... connected.\n",
            "HTTP request sent, awaiting response... 200 OK\n",
            "Length: 228145 (223K) [text/plain]\n",
            "Saving to: ‘names.txt’\n",
            "\n",
            "names.txt           100%[===================>] 222.80K  --.-KB/s    in 0.03s   \n",
            "\n",
            "2023-05-18 21:33:10 (8.32 MB/s) - ‘names.txt’ saved [228145/228145]\n",
            "\n"
          ]
        }
      ]
    },
    {
      "cell_type": "code",
      "source": [
        "words = open('names.txt').read().splitlines()\n",
        "words[0:10]"
      ],
      "metadata": {
        "colab": {
          "base_uri": "https://localhost:8080/"
        },
        "id": "WnMeH6QAv9Ab",
        "outputId": "8e5f2b36-3e28-47fb-b51e-1fef829e2def"
      },
      "execution_count": 3,
      "outputs": [
        {
          "output_type": "execute_result",
          "data": {
            "text/plain": [
              "['emma',\n",
              " 'olivia',\n",
              " 'ava',\n",
              " 'isabella',\n",
              " 'sophia',\n",
              " 'charlotte',\n",
              " 'mia',\n",
              " 'amelia',\n",
              " 'harper',\n",
              " 'evelyn']"
            ]
          },
          "metadata": {},
          "execution_count": 3
        }
      ]
    },
    {
      "cell_type": "code",
      "source": [
        "len(words)"
      ],
      "metadata": {
        "colab": {
          "base_uri": "https://localhost:8080/"
        },
        "id": "59oCUJ3Ov-Jy",
        "outputId": "30f22df7-12ca-40a0-9e3e-3086a9d3ec42"
      },
      "execution_count": 4,
      "outputs": [
        {
          "output_type": "execute_result",
          "data": {
            "text/plain": [
              "32033"
            ]
          },
          "metadata": {},
          "execution_count": 4
        }
      ]
    },
    {
      "cell_type": "code",
      "source": [
        "# Build vocab of characters and mapping to and from integers\n",
        "chars = sorted(list(set(''.join(words))))\n",
        "assert len(chars) == 26\n",
        "\n",
        "stoi = {s:i+1 for i,s in enumerate(chars)}\n",
        "stoi['.'] = 0\n",
        "\n",
        "itos = {i:s for s,i in stoi.items()}\n",
        "\n",
        "vocab_size = len(itos)\n",
        "\n",
        "print(stoi)\n",
        "print(itos)\n",
        "print(vocab_size)"
      ],
      "metadata": {
        "colab": {
          "base_uri": "https://localhost:8080/"
        },
        "id": "iJKxpq-3v_aL",
        "outputId": "9dff581f-bac8-4fd3-9143-b04c44094a39"
      },
      "execution_count": 5,
      "outputs": [
        {
          "output_type": "stream",
          "name": "stdout",
          "text": [
            "{'a': 1, 'b': 2, 'c': 3, 'd': 4, 'e': 5, 'f': 6, 'g': 7, 'h': 8, 'i': 9, 'j': 10, 'k': 11, 'l': 12, 'm': 13, 'n': 14, 'o': 15, 'p': 16, 'q': 17, 'r': 18, 's': 19, 't': 20, 'u': 21, 'v': 22, 'w': 23, 'x': 24, 'y': 25, 'z': 26, '.': 0}\n",
            "{1: 'a', 2: 'b', 3: 'c', 4: 'd', 5: 'e', 6: 'f', 7: 'g', 8: 'h', 9: 'i', 10: 'j', 11: 'k', 12: 'l', 13: 'm', 14: 'n', 15: 'o', 16: 'p', 17: 'q', 18: 'r', 19: 's', 20: 't', 21: 'u', 22: 'v', 23: 'w', 24: 'x', 25: 'y', 26: 'z', 0: '.'}\n",
            "27\n"
          ]
        }
      ]
    },
    {
      "cell_type": "code",
      "source": [
        "import random\n",
        "\n",
        "block_size = 3\n",
        "\n",
        "def build_dataset(words):\n",
        "  \n",
        "  X, Y = [], []\n",
        "\n",
        "  for w in words:\n",
        "    context = [0]*block_size\n",
        "    for ch in w + '.':\n",
        "      ix = stoi[ch]\n",
        "      X.append(context)\n",
        "      Y.append(ix)\n",
        "\n",
        "      context = context[1:] + [ix]\n",
        "\n",
        "  X = torch.tensor(X)\n",
        "  Y = torch.tensor(Y)\n",
        "  print(X.shape, Y.shape)\n",
        "\n",
        "  return X, Y\n",
        "\n",
        "# Random shuffle of words\n",
        "random.seed(42)\n",
        "random.shuffle(words)\n",
        "# Training data -> 80%, Val data -> 10%, testing data -> 10%\n",
        "n1 = int(0.8*len(words))\n",
        "n2 = int(0.9*len(words))\n",
        "\n",
        "X_train, Y_train = build_dataset(words[:n1])\n",
        "X_val, Y_val = build_dataset(words[n1:n2])\n",
        "X_test, Y_test = build_dataset(words[n2:])\n",
        "\n",
        "print('Training Data Size: ', len(X_train))\n",
        "print('Validation Data Size: ', len(X_val))\n",
        "print('Testing Data Size: ', len(X_test))"
      ],
      "metadata": {
        "colab": {
          "base_uri": "https://localhost:8080/"
        },
        "id": "b1TTfE_AwC-1",
        "outputId": "49015ecf-b707-4a79-b445-c3102f613afa"
      },
      "execution_count": 6,
      "outputs": [
        {
          "output_type": "stream",
          "name": "stdout",
          "text": [
            "torch.Size([182625, 3]) torch.Size([182625])\n",
            "torch.Size([22655, 3]) torch.Size([22655])\n",
            "torch.Size([22866, 3]) torch.Size([22866])\n",
            "Training Data Size:  182625\n",
            "Validation Data Size:  22655\n",
            "Testing Data Size:  22866\n"
          ]
        }
      ]
    },
    {
      "cell_type": "code",
      "source": [
        "n_embd = 10\n",
        "n_hidden = 200\n",
        "\n",
        "# First let re-initialize the params\n",
        "g = torch.Generator().manual_seed(10)\n",
        "C = torch.randn((vocab_size, n_embd), generator=g)\n",
        "W1 = torch.randn((n_embd * block_size, n_hidden), generator=g)\n",
        "b1 = torch.randn(n_hidden, generator=g)\n",
        "W2 = torch.randn((n_hidden, vocab_size), generator=g)\n",
        "b2 = torch.randn(vocab_size, generator=g)\n",
        "parameters = [C, W1, b1, W2, b2]\n",
        "\n",
        "print('Total trainable parameters: ', sum(p.nelement() for p in parameters))\n",
        "\n",
        "# Make sure all the parameters support gradient and updates\n",
        "for p in parameters:\n",
        "  p.requires_grad = True"
      ],
      "metadata": {
        "colab": {
          "base_uri": "https://localhost:8080/"
        },
        "id": "iet8yFuuwL5l",
        "outputId": "368e38c5-f961-45de-9718-bd13bbe749ba"
      },
      "execution_count": 7,
      "outputs": [
        {
          "output_type": "stream",
          "name": "stdout",
          "text": [
            "Total trainable parameters:  11897\n"
          ]
        }
      ]
    },
    {
      "cell_type": "code",
      "source": [
        "batch_size = 32\n",
        "max_steps = 200000\n",
        "lossi = []\n",
        "\n",
        "\n",
        "for k in range(max_steps):\n",
        "\n",
        "  # Minibatch index\n",
        "  ix = torch.randint(0, X_train.shape[0], (batch_size,))\n",
        "\n",
        "\n",
        "  # Forward Pass\n",
        "  emb = C[X_train[ix]] # Shape -> (32, 3, 2)\n",
        "  h0 = emb.view(-1, n_embd * block_size) @ W1 + b1\n",
        "  h = torch.tanh(h0)\n",
        "  logits = h @ W2 + b2\n",
        "  loss = F.cross_entropy(logits, Y_train[ix]) # Need to update target dataset as well\n",
        "\n",
        "  if k%10000 == 0:\n",
        "    print(f'Epoch {k} -> Loss = {loss.item()} ')\n",
        "\n",
        "  # Backward pass\n",
        "  for p in parameters:\n",
        "    p.grad = None\n",
        "  loss.backward()\n",
        "\n",
        "  # Gradient Update\n",
        "  lr = 0.1 if k < 100000 else 0.01\n",
        "  for p in parameters:\n",
        "    p.data += -lr * p.grad\n",
        "\n",
        "  lossi.append(loss.log10().item())"
      ],
      "metadata": {
        "colab": {
          "base_uri": "https://localhost:8080/"
        },
        "id": "Gn7QpG3kw_Ic",
        "outputId": "105556e6-88ae-43b8-c465-2b7a21c759a9"
      },
      "execution_count": 8,
      "outputs": [
        {
          "output_type": "stream",
          "name": "stdout",
          "text": [
            "Epoch 0 -> Loss = 26.373607635498047 \n",
            "Epoch 10000 -> Loss = 3.306589365005493 \n",
            "Epoch 20000 -> Loss = 2.1844165325164795 \n",
            "Epoch 30000 -> Loss = 2.441554307937622 \n",
            "Epoch 40000 -> Loss = 2.382359266281128 \n",
            "Epoch 50000 -> Loss = 2.1799862384796143 \n",
            "Epoch 60000 -> Loss = 2.2996976375579834 \n",
            "Epoch 70000 -> Loss = 2.2125625610351562 \n",
            "Epoch 80000 -> Loss = 2.377338409423828 \n",
            "Epoch 90000 -> Loss = 2.1794545650482178 \n",
            "Epoch 100000 -> Loss = 1.990768313407898 \n",
            "Epoch 110000 -> Loss = 2.1167030334472656 \n",
            "Epoch 120000 -> Loss = 1.996989369392395 \n",
            "Epoch 130000 -> Loss = 2.311492919921875 \n",
            "Epoch 140000 -> Loss = 2.4454386234283447 \n",
            "Epoch 150000 -> Loss = 1.8804798126220703 \n",
            "Epoch 160000 -> Loss = 2.0180470943450928 \n",
            "Epoch 170000 -> Loss = 2.554969310760498 \n",
            "Epoch 180000 -> Loss = 2.073935031890869 \n",
            "Epoch 190000 -> Loss = 2.0388166904449463 \n"
          ]
        }
      ]
    },
    {
      "cell_type": "code",
      "source": [
        "plt.plot(lossi)"
      ],
      "metadata": {
        "colab": {
          "base_uri": "https://localhost:8080/",
          "height": 447
        },
        "id": "oUQbtQQCxYsM",
        "outputId": "6ebaff3e-735b-4559-93cf-1d347147e6eb"
      },
      "execution_count": 9,
      "outputs": [
        {
          "output_type": "execute_result",
          "data": {
            "text/plain": [
              "[<matplotlib.lines.Line2D at 0x7fa82d4ccb80>]"
            ]
          },
          "metadata": {},
          "execution_count": 9
        },
        {
          "output_type": "display_data",
          "data": {
            "text/plain": [
              "<Figure size 640x480 with 1 Axes>"
            ],
            "image/png": "[encoded data removed]"
          },
          "metadata": {}
        }
      ]
    },
    {
      "cell_type": "code",
      "source": [
        "@torch.no_grad() # the decorator disables gradient tracking\n",
        "def split_loss(split):\n",
        "  '''Function returns split level loss'''\n",
        "  x, y = {\n",
        "      'train': (X_train, Y_train),\n",
        "      'val': (X_val, Y_val),\n",
        "      'test': (X_test, Y_test)\n",
        "  }[split]\n",
        "\n",
        "  emb = C[x]\n",
        "  embcat = emb.view(emb.shape[0], -1)\n",
        "\n",
        "  h0 = embcat @ W1 + b1\n",
        "  h = torch.tanh(h0)\n",
        "  logits = h @ W2 + b2\n",
        "  loss = F.cross_entropy(logits, y)\n",
        "  print(split, loss.item())\n",
        "\n",
        "split_loss('train')\n",
        "split_loss('val')"
      ],
      "metadata": {
        "colab": {
          "base_uri": "https://localhost:8080/"
        },
        "id": "oEpg94z2yHK9",
        "outputId": "079e1486-576b-401d-dee4-7ea78ddf88b7"
      },
      "execution_count": 10,
      "outputs": [
        {
          "output_type": "stream",
          "name": "stdout",
          "text": [
            "train 2.106694459915161\n",
            "val 2.1474485397338867\n"
          ]
        }
      ]
    },
    {
      "cell_type": "code",
      "source": [
        "g = torch.Generator().manual_seed(10)\n",
        "\n",
        "for _ in range(20):\n",
        "\n",
        "  out = []\n",
        "  context = [0]*block_size\n",
        "\n",
        "  while True:\n",
        "    emb = C[torch.tensor([context])]\n",
        "    h0 = emb.view(1, -1) @ W1 + b1\n",
        "    h = torch.tanh(h0)\n",
        "    logits = h @ W2 + b2\n",
        "    probs = torch.softmax(logits, dim=1)\n",
        "\n",
        "    ix = torch.multinomial(probs, 1, generator=g).item()\n",
        "    context = context[1:] + [ix]\n",
        "\n",
        "    out.append(itos[ix])\n",
        "\n",
        "    if ix == 0:\n",
        "      break\n",
        "      \n",
        "  print(''.join(out))"
      ],
      "metadata": {
        "colab": {
          "base_uri": "https://localhost:8080/"
        },
        "id": "AnQ3N8Oo0AwU",
        "outputId": "c3c77862-53f7-41a2-cf30-cdfff083aa9f"
      },
      "execution_count": 11,
      "outputs": [
        {
          "output_type": "stream",
          "name": "stdout",
          "text": [
            "pri.\n",
            "jhaz.\n",
            "meiyan.\n",
            "banoto.\n",
            "raya.\n",
            "copton.\n",
            "kaylin.\n",
            "dana.\n",
            "ueb.\n",
            "cimbasaniemais.\n",
            "rayton.\n",
            "jaya.\n",
            "areliya.\n",
            "delyn.\n",
            "kella.\n",
            "faevelyn.\n",
            "nas.\n",
            "massanna.\n",
            "jahensietta.\n",
            "jaysyliai.\n"
          ]
        }
      ]
    },
    {
      "cell_type": "markdown",
      "source": [
        "The neural network architecture and functionality defined above has few issues which can (and are) impacting the performance and quality of the names generated - \n",
        "\n",
        "\n",
        "#### Issue 1\n",
        "\n",
        "Intial loss of the model is very high. For a naive model, this should be close to 3.2 - Negative log of probability, which is 1/27. This has to do with the random initialization. Initial values are so far off the reality (or the model is so confidently wrong!), that we are getting such a high number "
      ],
      "metadata": {
        "id": "xZ55HLPp0rdH"
      }
    },
    {
      "cell_type": "code",
      "source": [
        "n_embd = 10\n",
        "n_hidden = 200\n",
        "\n",
        "# First let re-initialize the params\n",
        "g = torch.Generator().manual_seed(10)\n",
        "C = torch.randn((vocab_size, n_embd), generator=g)\n",
        "W1 = torch.randn((n_embd * block_size, n_hidden), generator=g)\n",
        "b1 = torch.randn(n_hidden, generator=g)\n",
        "W2 = torch.randn((n_hidden, vocab_size), generator=g) * 0.01\n",
        "b2 = torch.randn(vocab_size, generator=g) * 0\n",
        "parameters = [C, W1, b1, W2, b2]\n",
        "\n",
        "print('Total trainable parameters: ', sum(p.nelement() for p in parameters))\n",
        "\n",
        "# Make sure all the parameters support gradient and updates\n",
        "for p in parameters:\n",
        "  p.requires_grad = True\n",
        "\n",
        "batch_size = 32\n",
        "max_steps = 200000\n",
        "lossi = []\n",
        "\n",
        "\n",
        "for k in range(max_steps):\n",
        "\n",
        "  # Minibatch index\n",
        "  ix = torch.randint(0, X_train.shape[0], (batch_size,))\n",
        "\n",
        "\n",
        "  # Forward Pass\n",
        "  emb = C[X_train[ix]] # Shape -> (32, 3, 2)\n",
        "  h0 = emb.view(-1, n_embd * block_size) @ W1 + b1\n",
        "  h = torch.tanh(h0)\n",
        "  logits = h @ W2 + b2\n",
        "  loss = F.cross_entropy(logits, Y_train[ix]) # Need to update target dataset as well\n",
        "\n",
        "  if k%10000 == 0:\n",
        "    print(f'Epoch {k} -> Loss = {loss.item()} ')\n",
        "\n",
        "  # Backward pass\n",
        "  for p in parameters:\n",
        "    p.grad = None\n",
        "  loss.backward()\n",
        "\n",
        "  # Gradient Update\n",
        "  lr = 0.1 if k < 100000 else 0.01\n",
        "  for p in parameters:\n",
        "    p.data += -lr * p.grad\n",
        "\n",
        "  lossi.append(loss.log10().item())\n",
        "\n",
        "  break"
      ],
      "metadata": {
        "colab": {
          "base_uri": "https://localhost:8080/"
        },
        "id": "1aftdbyW3gER",
        "outputId": "78e23423-48a5-4341-e721-d547b7383bbf"
      },
      "execution_count": 12,
      "outputs": [
        {
          "output_type": "stream",
          "name": "stdout",
          "text": [
            "Total trainable parameters:  11897\n",
            "Epoch 0 -> Loss = 3.305185556411743 \n"
          ]
        }
      ]
    },
    {
      "cell_type": "code",
      "source": [
        "plt.plot(lossi)"
      ],
      "metadata": {
        "colab": {
          "base_uri": "https://localhost:8080/",
          "height": 447
        },
        "id": "AiQNzfI43lzS",
        "outputId": "335b96c1-152b-4a3e-a0ab-d44d8ad0a05c"
      },
      "execution_count": 13,
      "outputs": [
        {
          "output_type": "execute_result",
          "data": {
            "text/plain": [
              "[<matplotlib.lines.Line2D at 0x7fa82d535300>]"
            ]
          },
          "metadata": {},
          "execution_count": 13
        },
        {
          "output_type": "display_data",
          "data": {
            "text/plain": [
              "<Figure size 640x480 with 1 Axes>"
            ],
            "image/png": "[encoded data removed]"
          },
          "metadata": {}
        }
      ]
    },
    {
      "cell_type": "markdown",
      "source": [
        "No more hockey stick shaped loss. No mighty gains in the beginning!"
      ],
      "metadata": {
        "id": "pc8B87YY4QmQ"
      }
    },
    {
      "cell_type": "code",
      "source": [
        "split_loss('train')\n",
        "split_loss('val')"
      ],
      "metadata": {
        "colab": {
          "base_uri": "https://localhost:8080/"
        },
        "id": "HFbaubsr3tmC",
        "outputId": "01f62984-018c-4413-fa96-c29844395a2f"
      },
      "execution_count": 14,
      "outputs": [
        {
          "output_type": "stream",
          "name": "stdout",
          "text": [
            "train 3.1647861003875732\n",
            "val 3.163083076477051\n"
          ]
        }
      ]
    },
    {
      "cell_type": "markdown",
      "source": [
        "The performance has improved a bit, since the few thousand iterations that the models wasted to squash randomly initialized weights are now better spent on the actual training"
      ],
      "metadata": {
        "id": "5mcQ_Akx4Xln"
      }
    },
    {
      "cell_type": "code",
      "source": [
        "g = torch.Generator().manual_seed(10)\n",
        "\n",
        "for _ in range(20):\n",
        "\n",
        "  out = []\n",
        "  context = [0]*block_size\n",
        "\n",
        "  while True:\n",
        "    emb = C[torch.tensor([context])]\n",
        "    h0 = emb.view(1, -1) @ W1 + b1\n",
        "    h = torch.tanh(h0)\n",
        "    logits = h @ W2 + b2\n",
        "    probs = torch.softmax(logits, dim=1)\n",
        "\n",
        "    ix = torch.multinomial(probs, 1, generator=g).item()\n",
        "    context = context[1:] + [ix]\n",
        "\n",
        "    out.append(itos[ix])\n",
        "\n",
        "    if ix == 0:\n",
        "      break\n",
        "      \n",
        "  print(''.join(out))"
      ],
      "metadata": {
        "colab": {
          "base_uri": "https://localhost:8080/"
        },
        "id": "h-PgwFGg3xtS",
        "outputId": "a0629361-9fb7-40bd-af85-25387a288793"
      },
      "execution_count": 15,
      "outputs": [
        {
          "output_type": "stream",
          "name": "stdout",
          "text": [
            "pfp.\n",
            "ehqz.\n",
            "eeybwitginotomrwlaecozttdskxqlbbypydajuejwcfmbzcbkmedqxwurautpocvaeaoxruoiymfhoukthkmlzr.\n",
            "faethzbdsppsdm.\n",
            "asfazbaujhensiztsuzhqmsylqjizwpcusqqbpaaxwlpzqhqraueeghcypcnlbkdijnkfrbvuvkmx.\n",
            ".\n",
            "jv.\n",
            "ieap.\n",
            "wabrbcklafxpfmjfojmgamzydeornutsgna.\n",
            "evsbsbbxl.\n",
            "hfmcoiiufckdodtqnkbpgyzlaechmtqysqywmytqhjxzlanmxwbjseqasinuhbxyfuevpnlbtpnazzyzhquuxvvznequayntwkmzibapnrbfos.\n",
            "rhzjwubtyeqdday.\n",
            "qudckabxgwvxllrdecslkncswjoawosleclppclqkeqpuikjkahjqu.\n",
            "abipsitrkaoadtxvkumwoyttxysafjxagwspuwhps.\n",
            "vnleflphauxgiudieyysytnwshvdh.\n",
            "nhxqtihazvbxkjmtoszgwdcxbrultqwatlipiiekgokwxlmvujymokrxtzeewjlizoktcokvqlmmxurheehwajahdhlqdfbkmrshfkpowcynhawoeg.\n",
            "zipftudpejompywszwbtmucm.\n",
            "kjpfpwrkqbjkcb.\n",
            "ialacyakbaslrrtvhs.\n",
            "iunhjtxaepxwqiicdxsoiicaucappfzlskzsaetzhtytvkmbgorusglvruqzfsedxyfyol.\n"
          ]
        }
      ]
    },
    {
      "cell_type": "markdown",
      "source": [
        "The performance is much better than bigrams and MLP, the names generated are better than both as well, but still meh!"
      ],
      "metadata": {
        "id": "GLYG07FI3zta"
      }
    },
    {
      "cell_type": "markdown",
      "source": [
        "#### Issue 2\n",
        "\n",
        "Initialization, weights look good for now but 1 issue still remains which pertains to tanh. Tanh can be thought of as a squashing function, which converts any number in (-inf, inf) to [-1, 1]. In order to understand the output of tanh operation on embeddings, weights and biases, let's plot the histogram"
      ],
      "metadata": {
        "id": "KWAnVJwSs_ff"
      }
    },
    {
      "cell_type": "code",
      "source": [
        "# h is [32, 200], where 200 is dim of hidden layer\n",
        "# So, flatten h (using view), convert to python list and visualize\n",
        "\n",
        "plt.hist(h.view(-1).tolist(), bins=50);"
      ],
      "metadata": {
        "colab": {
          "base_uri": "https://localhost:8080/",
          "height": 430
        },
        "id": "DTxC9kNVtMB_",
        "outputId": "623d7f69-4c7b-4895-ada3-6bd61827debb"
      },
      "execution_count": 16,
      "outputs": [
        {
          "output_type": "display_data",
          "data": {
            "text/plain": [
              "<Figure size 640x480 with 1 Axes>"
            ],
            "image/png": "[encoded data removed]"
          },
          "metadata": {}
        }
      ]
    },
    {
      "cell_type": "markdown",
      "source": [
        "Observe that majority of the initial values are either -1 or 1. Let's plot the input to tanh"
      ],
      "metadata": {
        "id": "E6oR-2qbugho"
      }
    },
    {
      "cell_type": "code",
      "source": [
        "plt.hist(h0.view(-1).tolist(), bins=50);"
      ],
      "metadata": {
        "colab": {
          "base_uri": "https://localhost:8080/",
          "height": 430
        },
        "id": "aWhDfc-JvXmo",
        "outputId": "155d4591-f0fa-4669-ee4f-9c40e5166294"
      },
      "execution_count": 17,
      "outputs": [
        {
          "output_type": "display_data",
          "data": {
            "text/plain": [
              "<Figure size 640x480 with 1 Axes>"
            ],
            "image/png": "[encoded data removed]"
          },
          "metadata": {}
        }
      ]
    },
    {
      "cell_type": "markdown",
      "source": [
        "h0 takes extreme values (between -10 and 10) which makes tanh -1 or 1 many times and this can be an issue in backward prop. Why?\n",
        "\n",
        "Remember in the autograd notebook, the derivative of tanh = (1 - t**2) * out.grad, where (1 - t**2) is the local derivative and out.grad is the global derivative (from the chain rule). If t is -1 or 1, then first term becomes zero and hence the entire derivative becomes zero. This can result in low learning of the neuron. It can also happen that the entire weight and bias row for the particular are initialized such that the output of the neuron is zero. Such a neuron can be called as a 'Dead Neuron'\n",
        "\n",
        "Below plot shows how many values in h are non-zero (White pixel means zero and black means non-zero). We would ideally want as many blacks as possible. In case when the entire column in white, it means a dead neuron"
      ],
      "metadata": {
        "id": "rtqrKSiOvp5c"
      }
    },
    {
      "cell_type": "code",
      "source": [
        "plt.figure(figsize=(10, 5))\n",
        "plt.imshow(h.abs() > 0.99, cmap='gray', interpolation='nearest');"
      ],
      "metadata": {
        "colab": {
          "base_uri": "https://localhost:8080/",
          "height": 70
        },
        "id": "rjRl8EUVzWrM",
        "outputId": "422d1b92-48bf-49bf-b030-3020369f420e"
      },
      "execution_count": 18,
      "outputs": [
        {
          "output_type": "display_data",
          "data": {
            "text/plain": [
              "<Figure size 1000x500 with 1 Axes>"
            ],
            "image/png": "[encoded data removed]"
          },
          "metadata": {}
        }
      ]
    },
    {
      "cell_type": "markdown",
      "source": [
        "In order to reduce the values of h0 and h, we can use similar approach of multiplying the weights and biases by a small number"
      ],
      "metadata": {
        "id": "_0QSZqaP02ON"
      }
    },
    {
      "cell_type": "code",
      "source": [
        "n_embd = 10\n",
        "n_hidden = 200\n",
        "\n",
        "# First let re-initialize the params\n",
        "g = torch.Generator().manual_seed(10)\n",
        "C = torch.randn((vocab_size, n_embd), generator=g)\n",
        "W1 = torch.randn((n_embd * block_size, n_hidden), generator=g) * 0.1\n",
        "b1 = torch.randn(n_hidden, generator=g) * 0.01\n",
        "W2 = torch.randn((n_hidden, vocab_size), generator=g) * 0.01\n",
        "b2 = torch.randn(vocab_size, generator=g) * 0\n",
        "parameters = [C, W1, b1, W2, b2]\n",
        "\n",
        "print('Total trainable parameters: ', sum(p.nelement() for p in parameters))\n",
        "\n",
        "# Make sure all the parameters support gradient and updates\n",
        "for p in parameters:\n",
        "  p.requires_grad = True\n",
        "\n",
        "batch_size = 32\n",
        "max_steps = 200000\n",
        "lossi = []\n",
        "\n",
        "\n",
        "for k in range(max_steps):\n",
        "\n",
        "  # Minibatch index\n",
        "  ix = torch.randint(0, X_train.shape[0], (batch_size,))\n",
        "\n",
        "\n",
        "  # Forward Pass\n",
        "  emb = C[X_train[ix]] # Shape -> (32, 3, 2)\n",
        "  h0 = emb.view(-1, n_embd * block_size) @ W1 + b1\n",
        "  h = torch.tanh(h0)\n",
        "  logits = h @ W2 + b2\n",
        "  loss = F.cross_entropy(logits, Y_train[ix]) # Need to update target dataset as well\n",
        "\n",
        "  if k%10000 == 0:\n",
        "    print(f'Epoch {k} -> Loss = {loss.item()} ')\n",
        "\n",
        "  # Backward pass\n",
        "  for p in parameters:\n",
        "    p.grad = None\n",
        "  loss.backward()\n",
        "\n",
        "  # Gradient Update\n",
        "  lr = 0.1 if k < 100000 else 0.01\n",
        "  for p in parameters:\n",
        "    p.data += -lr * p.grad\n",
        "\n",
        "  lossi.append(loss.log10().item())\n",
        "\n",
        "  break"
      ],
      "metadata": {
        "colab": {
          "base_uri": "https://localhost:8080/"
        },
        "id": "vyaL3Plv1TI2",
        "outputId": "9e1dc682-0e51-46eb-c626-6fe3272a86c0"
      },
      "execution_count": 19,
      "outputs": [
        {
          "output_type": "stream",
          "name": "stdout",
          "text": [
            "Total trainable parameters:  11897\n",
            "Epoch 0 -> Loss = 3.2987868785858154 \n"
          ]
        }
      ]
    },
    {
      "cell_type": "code",
      "source": [
        "plt.hist(h.view(-1).tolist(), bins=50);"
      ],
      "metadata": {
        "colab": {
          "base_uri": "https://localhost:8080/",
          "height": 430
        },
        "id": "T3ALktNG1fXA",
        "outputId": "e8a20a75-8cce-4b3f-d1e0-bc3cca218d0c"
      },
      "execution_count": 20,
      "outputs": [
        {
          "output_type": "display_data",
          "data": {
            "text/plain": [
              "<Figure size 640x480 with 1 Axes>"
            ],
            "image/png": "[encoded data removed]"
          },
          "metadata": {}
        }
      ]
    },
    {
      "cell_type": "code",
      "source": [
        "plt.hist(h0.view(-1).tolist(), bins=50);"
      ],
      "metadata": {
        "colab": {
          "base_uri": "https://localhost:8080/",
          "height": 430
        },
        "id": "F64L4GvD1hcQ",
        "outputId": "e75ca092-8e2d-41f3-d53d-d0e9a934b7d7"
      },
      "execution_count": 21,
      "outputs": [
        {
          "output_type": "display_data",
          "data": {
            "text/plain": [
              "<Figure size 640x480 with 1 Axes>"
            ],
            "image/png": "[encoded data removed]"
          },
          "metadata": {}
        }
      ]
    },
    {
      "cell_type": "code",
      "source": [
        "plt.figure(figsize=(10, 5))\n",
        "plt.imshow(h.abs() > 0.99, cmap='gray', interpolation='nearest');"
      ],
      "metadata": {
        "colab": {
          "base_uri": "https://localhost:8080/",
          "height": 188
        },
        "id": "gPefOFEC1jl3",
        "outputId": "89f62c69-548a-4a79-bb85-cb53cdd8d8c1"
      },
      "execution_count": 22,
      "outputs": [
        {
          "output_type": "display_data",
          "data": {
            "text/plain": [
              "<Figure size 1000x500 with 1 Axes>"
            ],
            "image/png": "[encoded data removed]"
          },
          "metadata": {}
        }
      ]
    },
    {
      "cell_type": "markdown",
      "source": [
        "Note the following - \n",
        "\n",
        "1. Much better distribution of tanh output. Takes many values in [-1,1] and this has primarily to do with the values in graph 2, where h0 takes values between [-2, 2]\n",
        "2. Notice the entire plot of values > 0.99 is black, which means all the gradients of the neuron are non-zero "
      ],
      "metadata": {
        "id": "pT_sagv-1ln1"
      }
    },
    {
      "cell_type": "markdown",
      "source": [
        "A lot of the numbers used to scale weights and biases are 'magic numbers', hard-coded and based on trial-error approach. In order to come up with a better way to choose these numbers, or precisely, how to initialize the weights and biases, refer Kaiming Initialization paper [here](https://arxiv.org/abs/1502.01852)\n",
        "\n",
        "The paper talks about the gain that needs to applied when using a particular non-linearity to better initialize the weights and biases. \n",
        "\n",
        "Due to advances in techniques like normalization layers (BatchNorm, LayerNorm) and optimizers (RMSProp, ADAM), the neural networks are becoming less sensitive to such issues"
      ],
      "metadata": {
        "id": "VQWHBGwaJ5yg"
      }
    },
    {
      "cell_type": "markdown",
      "source": [
        "#### Batch Normalization\n",
        "\n",
        "As discussed in previous sections, we want the pre-activations (h0) to not be extreme values, otherwise tanh explodes and the resultant derivatives are zero. Rather, we want these to roughly gaussian, with mean=0 and std=1. \n",
        "\n",
        "As discussed in the [Batch Normalization Paper](https://arxiv.org/pdf/1502.03167.pdf), we can simply add a functionality to the hidden layers to overcome 'Internal Co-Variate Shift' using Batch Normalization. Important thing to note here, we don't want the network to force the weights and biases to be exactly gaussian with mean=0 and std=1, and want to give it full freedom to adjust weights and biases as per the problem. In order to achieve this, the authors suggest to scale the norm and add a bias. Scaling and Shifting are both parameters and learned during model training. "
      ],
      "metadata": {
        "id": "7Bb6If60O0UK"
      }
    },
    {
      "cell_type": "code",
      "source": [
        "h0.shape"
      ],
      "metadata": {
        "colab": {
          "base_uri": "https://localhost:8080/"
        },
        "id": "AKrx9TaaO2Eb",
        "outputId": "6be8066e-a1c7-4413-ab01-60578df55a52"
      },
      "execution_count": 23,
      "outputs": [
        {
          "output_type": "execute_result",
          "data": {
            "text/plain": [
              "torch.Size([32, 200])"
            ]
          },
          "metadata": {},
          "execution_count": 23
        }
      ]
    },
    {
      "cell_type": "code",
      "source": [
        "# We need to get the mean and std for each element in the batch\n",
        "# keepdim=True so that it's easily broadcasted\n",
        "h0.mean(axis=0, keepdim=True).shape, h0.std(axis=0, keepdim=True).shape"
      ],
      "metadata": {
        "colab": {
          "base_uri": "https://localhost:8080/"
        },
        "id": "x4m-ognwVj7U",
        "outputId": "dd8137e1-e6c1-40cd-f614-1ffd9b3b56a3"
      },
      "execution_count": 24,
      "outputs": [
        {
          "output_type": "execute_result",
          "data": {
            "text/plain": [
              "(torch.Size([1, 200]), torch.Size([1, 200]))"
            ]
          },
          "metadata": {},
          "execution_count": 24
        }
      ]
    },
    {
      "cell_type": "markdown",
      "source": [
        "Let's re-initialize"
      ],
      "metadata": {
        "id": "-7_qsa6MWkO6"
      }
    },
    {
      "cell_type": "code",
      "source": [
        "n_embd = 10\n",
        "n_hidden = 200\n",
        "\n",
        "# First let re-initialize the params\n",
        "g = torch.Generator().manual_seed(10)\n",
        "C = torch.randn((vocab_size, n_embd), generator=g)\n",
        "W1 = torch.randn((n_embd * block_size, n_hidden), generator=g) * 0.1\n",
        "b1 = torch.randn(n_hidden, generator=g) * 0.01\n",
        "W2 = torch.randn((n_hidden, vocab_size), generator=g) * 0.01\n",
        "b2 = torch.randn(vocab_size, generator=g) * 0\n",
        "\n",
        "bngain = torch.ones((1, n_hidden))\n",
        "bnbias = torch.zeros((1, n_hidden))\n",
        "\n",
        "\n",
        "parameters = [C, W1, b1, W2, b2, bngain, bnbias]\n",
        "\n",
        "print('Total trainable parameters: ', sum(p.nelement() for p in parameters))\n",
        "\n",
        "# Make sure all the parameters support gradient and updates\n",
        "for p in parameters:\n",
        "  p.requires_grad = True\n",
        "\n",
        "batch_size = 32\n",
        "max_steps = 200000\n",
        "lossi = []\n",
        "\n",
        "\n",
        "for k in range(max_steps):\n",
        "\n",
        "  # Minibatch index\n",
        "  ix = torch.randint(0, X_train.shape[0], (batch_size,))\n",
        "\n",
        "\n",
        "  # Forward Pass\n",
        "  emb = C[X_train[ix]] # Shape -> (32, 3, 2)\n",
        "  h0 = emb.view(-1, n_embd * block_size) @ W1 + b1\n",
        "\n",
        "  # Add BatchNorm Layer\n",
        "  bn_h0 = bngain * (h0 - h0.mean(0, keepdims=True)) / (h0.std(0, keepdims=True)) + bnbias\n",
        "\n",
        "  # Input to non-linearity becomes batch-normed\n",
        "  h = torch.tanh(bn_h0)\n",
        "\n",
        "  logits = h @ W2 + b2\n",
        "  loss = F.cross_entropy(logits, Y_train[ix]) # Need to update target dataset as well\n",
        "\n",
        "  if k%10000 == 0:\n",
        "    print(f'Epoch {k} -> Loss = {loss.item()} ')\n",
        "\n",
        "  # Backward pass\n",
        "  for p in parameters:\n",
        "    p.grad = None\n",
        "  loss.backward()\n",
        "\n",
        "  # Gradient Update\n",
        "  lr = 0.1 if k < 100000 else 0.01\n",
        "  for p in parameters:\n",
        "    p.data += -lr * p.grad\n",
        "\n",
        "  lossi.append(loss.log10().item())\n",
        "\n",
        "  # break"
      ],
      "metadata": {
        "colab": {
          "base_uri": "https://localhost:8080/"
        },
        "id": "S8KiwF3qWpHo",
        "outputId": "df6df815-dba5-4adb-d91c-949e0e841548"
      },
      "execution_count": 25,
      "outputs": [
        {
          "output_type": "stream",
          "name": "stdout",
          "text": [
            "Total trainable parameters:  12297\n",
            "Epoch 0 -> Loss = 3.2767422199249268 \n",
            "Epoch 10000 -> Loss = 1.9174576997756958 \n",
            "Epoch 20000 -> Loss = 2.0707931518554688 \n",
            "Epoch 30000 -> Loss = 1.9317352771759033 \n",
            "Epoch 40000 -> Loss = 2.0136067867279053 \n",
            "Epoch 50000 -> Loss = 1.870430588722229 \n",
            "Epoch 60000 -> Loss = 1.989144206047058 \n",
            "Epoch 70000 -> Loss = 2.3351669311523438 \n",
            "Epoch 80000 -> Loss = 2.1810507774353027 \n",
            "Epoch 90000 -> Loss = 2.064476490020752 \n",
            "Epoch 100000 -> Loss = 1.9378163814544678 \n",
            "Epoch 110000 -> Loss = 2.0437870025634766 \n",
            "Epoch 120000 -> Loss = 2.3542587757110596 \n",
            "Epoch 130000 -> Loss = 2.1584954261779785 \n",
            "Epoch 140000 -> Loss = 2.114030122756958 \n",
            "Epoch 150000 -> Loss = 2.229703426361084 \n",
            "Epoch 160000 -> Loss = 1.959092140197754 \n",
            "Epoch 170000 -> Loss = 1.9529904127120972 \n",
            "Epoch 180000 -> Loss = 1.9604982137680054 \n",
            "Epoch 190000 -> Loss = 2.12941837310791 \n"
          ]
        }
      ]
    },
    {
      "cell_type": "markdown",
      "source": [
        "We need to apply same batchnorm to inference layer as well. However, the authors suggest to add a step at the end of training to get the mean and std of the entire training set and use these at inference time."
      ],
      "metadata": {
        "id": "Mqc5WeW1Y5-q"
      }
    },
    {
      "cell_type": "code",
      "source": [
        "with torch.no_grad(): # another way to tell pytorch to not calculate gradient \n",
        "  emb = C[X_train]\n",
        "  h0 = emb.view(emb.shape[0], -1) @ W1 + b1\n",
        "\n",
        "  bnmean = h0.mean(0, keepdim=True)\n",
        "  bnstd = h0.std(0, keepdim=True)"
      ],
      "metadata": {
        "id": "xhiXJ_z0bzTZ"
      },
      "execution_count": 26,
      "outputs": []
    },
    {
      "cell_type": "markdown",
      "source": [
        "Use bnmean and bnstd during inference"
      ],
      "metadata": {
        "id": "hQInDI-ycWwl"
      }
    },
    {
      "cell_type": "code",
      "source": [
        "@torch.no_grad() # the decorator disables gradient tracking\n",
        "def split_loss(split):\n",
        "  '''Function returns split level loss'''\n",
        "  x, y = {\n",
        "      'train': (X_train, Y_train),\n",
        "      'val': (X_val, Y_val),\n",
        "      'test': (X_test, Y_test)\n",
        "  }[split]\n",
        "\n",
        "  emb = C[x]\n",
        "  embcat = emb.view(emb.shape[0], -1)\n",
        "\n",
        "  h0 = embcat @ W1 + b1\n",
        "  bn_h0 = bngain * (h0 - bnmean) / (bnstd) + bnbias\n",
        "  h = torch.tanh(bn_h0)\n",
        "  logits = h @ W2 + b2\n",
        "  loss = F.cross_entropy(logits, y)\n",
        "  print(split, loss.item())\n",
        "\n",
        "split_loss('train')\n",
        "split_loss('val')"
      ],
      "metadata": {
        "colab": {
          "base_uri": "https://localhost:8080/"
        },
        "id": "-PoHBXCEaZdN",
        "outputId": "933823e6-b07b-4b55-c16f-f3f15d0dd5e5"
      },
      "execution_count": 27,
      "outputs": [
        {
          "output_type": "stream",
          "name": "stdout",
          "text": [
            "train 2.060420274734497\n",
            "val 2.1065425872802734\n"
          ]
        }
      ]
    },
    {
      "cell_type": "markdown",
      "source": [
        "One important thing to note about BatchNorm is that it couples a particular example in the batch with the remaining examples in the batch, since it augments the example using batch mean and std. As a second-hand effect, it sometimes can act as regularization and reduce dependence of the example on neighbouring examples. However, in order to remove this coupling, layernorm and instancenorm were introduced\n",
        "\n",
        "Another thing pointed out by the authors in order to avoid the extra step to get bn-mean and bn-std is to calculate what's called as running mean and std. This can be implemented during the training of the neural net and avoids an additional step after the completing the training."
      ],
      "metadata": {
        "id": "np89r9FLasdE"
      }
    },
    {
      "cell_type": "code",
      "source": [
        "n_embd = 10\n",
        "n_hidden = 200\n",
        "\n",
        "# First let re-initialize the params\n",
        "g = torch.Generator().manual_seed(10)\n",
        "C = torch.randn((vocab_size, n_embd), generator=g)\n",
        "W1 = torch.randn((n_embd * block_size, n_hidden), generator=g) * 0.1\n",
        "b1 = torch.randn(n_hidden, generator=g) * 0.01\n",
        "W2 = torch.randn((n_hidden, vocab_size), generator=g) * 0.01\n",
        "b2 = torch.randn(vocab_size, generator=g) * 0\n",
        "\n",
        "bngain = torch.ones((1, n_hidden))\n",
        "bnbias = torch.zeros((1, n_hidden))\n",
        "\n",
        "# Track running means and std\n",
        "bnmean_running = torch.zeros((1, n_hidden))\n",
        "bnstd_running = torch.ones((1, n_hidden))\n",
        "\n",
        "parameters = [C, W1, b1, W2, b2, bngain, bnbias]\n",
        "\n",
        "print('Total trainable parameters: ', sum(p.nelement() for p in parameters))\n",
        "\n",
        "# Make sure all the parameters support gradient and updates\n",
        "for p in parameters:\n",
        "  p.requires_grad = True\n",
        "\n",
        "batch_size = 32\n",
        "max_steps = 200000\n",
        "lossi = []\n",
        "\n",
        "\n",
        "for k in range(max_steps):\n",
        "\n",
        "  # Minibatch index\n",
        "  ix = torch.randint(0, X_train.shape[0], (batch_size,))\n",
        "\n",
        "\n",
        "  # Forward Pass\n",
        "  emb = C[X_train[ix]] # Shape -> (32, 3, 2)\n",
        "  h0 = emb.view(-1, n_embd * block_size) @ W1 + b1\n",
        "\n",
        "  # Add BatchNorm Layer\n",
        "  bnmeani = h0.mean(0, keepdims=True)\n",
        "  bnstdi = h0.std(0, keepdims=True)\n",
        "  bn_h0 = bngain * (h0 - bnmeani) / (bnstdi) + bnbias\n",
        "\n",
        "  # Since this step is not part of gradient optimization\n",
        "  # Rather something happening on the side, something independently\n",
        "  with torch.no_grad():\n",
        "    bnmean_running = 0.999 * bnmean_running + 0.001 * bnmeani\n",
        "    bnstd_running = 0.999 * bnstd_running + 0.001 * bnstdi\n",
        "\n",
        "  # Input to non-linearity becomes batch-normed\n",
        "  h = torch.tanh(bn_h0)\n",
        "\n",
        "  logits = h @ W2 + b2\n",
        "  loss = F.cross_entropy(logits, Y_train[ix]) # Need to update target dataset as well\n",
        "\n",
        "  if k%10000 == 0:\n",
        "    print(f'Epoch {k} -> Loss = {loss.item()} ')\n",
        "\n",
        "  # Backward pass\n",
        "  for p in parameters:\n",
        "    p.grad = None\n",
        "  loss.backward()\n",
        "\n",
        "  # Gradient Update\n",
        "  lr = 0.1 if k < 100000 else 0.01\n",
        "  for p in parameters:\n",
        "    p.data += -lr * p.grad\n",
        "\n",
        "  lossi.append(loss.log10().item())\n",
        "\n",
        "  # break"
      ],
      "metadata": {
        "id": "cllsnXTNbNEB",
        "colab": {
          "base_uri": "https://localhost:8080/"
        },
        "outputId": "4871c7a1-fee2-4b73-de18-7e634f525fc2"
      },
      "execution_count": 28,
      "outputs": [
        {
          "output_type": "stream",
          "name": "stdout",
          "text": [
            "Total trainable parameters:  12297\n",
            "Epoch 0 -> Loss = 3.3145995140075684 \n",
            "Epoch 10000 -> Loss = 2.1012542247772217 \n",
            "Epoch 20000 -> Loss = 2.1698567867279053 \n",
            "Epoch 30000 -> Loss = 2.614959239959717 \n",
            "Epoch 40000 -> Loss = 2.445071220397949 \n",
            "Epoch 50000 -> Loss = 1.930987000465393 \n",
            "Epoch 60000 -> Loss = 1.9863638877868652 \n",
            "Epoch 70000 -> Loss = 2.2776575088500977 \n",
            "Epoch 80000 -> Loss = 2.2045233249664307 \n",
            "Epoch 90000 -> Loss = 2.077922821044922 \n",
            "Epoch 100000 -> Loss = 2.058048963546753 \n",
            "Epoch 110000 -> Loss = 2.1347272396087646 \n",
            "Epoch 120000 -> Loss = 2.1807186603546143 \n",
            "Epoch 130000 -> Loss = 2.3305256366729736 \n",
            "Epoch 140000 -> Loss = 2.3976709842681885 \n",
            "Epoch 150000 -> Loss = 1.8660688400268555 \n",
            "Epoch 160000 -> Loss = 1.9529743194580078 \n",
            "Epoch 170000 -> Loss = 1.893430471420288 \n",
            "Epoch 180000 -> Loss = 2.017486333847046 \n",
            "Epoch 190000 -> Loss = 1.8336515426635742 \n"
          ]
        }
      ]
    },
    {
      "cell_type": "markdown",
      "source": [
        "Now, we can directly used running mean and std to get training and val statistics"
      ],
      "metadata": {
        "id": "Sq5NaCMgeJPg"
      }
    },
    {
      "cell_type": "code",
      "source": [
        "@torch.no_grad() # the decorator disables gradient tracking\n",
        "def split_loss(split):\n",
        "  '''Function returns split level loss'''\n",
        "  x, y = {\n",
        "      'train': (X_train, Y_train),\n",
        "      'val': (X_val, Y_val),\n",
        "      'test': (X_test, Y_test)\n",
        "  }[split]\n",
        "\n",
        "  emb = C[x]\n",
        "  embcat = emb.view(emb.shape[0], -1)\n",
        "\n",
        "  h0 = embcat @ W1 + b1\n",
        "  bn_h0 = bngain * (h0 - bnmean_running) / (bnstd_running) + bnbias\n",
        "  h = torch.tanh(bn_h0)\n",
        "  logits = h @ W2 + b2\n",
        "  loss = F.cross_entropy(logits, y)\n",
        "  print(split, loss.item())\n",
        "\n",
        "split_loss('train')\n",
        "split_loss('val')"
      ],
      "metadata": {
        "colab": {
          "base_uri": "https://localhost:8080/"
        },
        "id": "wXRSIZhwcrlc",
        "outputId": "51a83007-4d4b-4465-bd37-d943bbec6775"
      },
      "execution_count": 29,
      "outputs": [
        {
          "output_type": "stream",
          "name": "stdout",
          "text": [
            "train 2.0620768070220947\n",
            "val 2.1065165996551514\n"
          ]
        }
      ]
    },
    {
      "cell_type": "markdown",
      "source": [
        "Train and Validation Loss are fairly similar to ones gotten earlier using explicit calibration of mean and std"
      ],
      "metadata": {
        "id": "ShAFWfkseSR-"
      }
    },
    {
      "cell_type": "markdown",
      "source": [
        "#### Pytorch Implementation\n",
        "\n",
        "Let's Pytorch-ify the entire code above"
      ],
      "metadata": {
        "id": "PDlmdaXiewRp"
      }
    },
    {
      "cell_type": "code",
      "source": [
        "class Linear:\n",
        "\n",
        "  def __init__(self, fan_in, fan_out, bias=True):\n",
        "\n",
        "    self.weight = torch.randn((fan_in, fan_out), generator=g) / fan_in ** 0.5 # fan_in ** 0.5 comes from Kaiming init\n",
        "    self.bias = torch.zeros(fan_out) if bias else None\n",
        "\n",
        "  def __call__(self, x):\n",
        "    self.out = x @ self.weight\n",
        "\n",
        "    if self.bias is not None:\n",
        "      self.out += self.bias\n",
        "    \n",
        "    return self.out\n",
        "\n",
        "  def parameters(self):\n",
        "    return [self.weight] + ([] if self.bias is None else [self.bias])"
      ],
      "metadata": {
        "id": "WfofOPhhq73j"
      },
      "execution_count": 65,
      "outputs": []
    },
    {
      "cell_type": "code",
      "source": [
        "class BatchNorm1d:\n",
        "\n",
        "  def __init__(self, dim, eps=1e-5, momentum=0.1):\n",
        "    self.eps = eps\n",
        "    self.momentum = momentum\n",
        "    self.training = True\n",
        "\n",
        "    # Params - trained by backprop\n",
        "    self.gamma = torch.ones(dim)\n",
        "    self.beta = torch.zeros(dim)\n",
        "\n",
        "    # Running mean and variance\n",
        "    # Using variance instead of std to use eps to avoid ZeroDivisionError\n",
        "    self.running_mean = torch.zeros(dim)\n",
        "    self.running_var = torch.ones(dim)\n",
        "\n",
        "  def __call__(self, x):\n",
        "    # Forward Pass\n",
        "    if self.training:\n",
        "      xmean = x.mean(0, keepdim=True)\n",
        "      xvar = x.var(0, keepdim=True)\n",
        "    else:\n",
        "      xmean = self.running_mean\n",
        "      xvar = self.running_var\n",
        "\n",
        "    xhat = (x - xmean) / torch.sqrt(xvar + self.eps)\n",
        "    self.out = self.gamma * xhat + self.beta # Scale and shift\n",
        "\n",
        "    # Update the buffers - running stats\n",
        "    if self.training:\n",
        "      with torch.no_grad():\n",
        "        self.running_mean = (1-self.momentum) * self.running_mean + self.momentum * xmean\n",
        "        self.running_var = (1-self.momentum) * self.running_var + self.momentum * xvar\n",
        "    \n",
        "    return self.out\n",
        "\n",
        "  def parameters(self):\n",
        "    return [self.gamma, self.beta]\n",
        "\n",
        "class Tanh:\n",
        "\n",
        "  def __call__(self, x):\n",
        "    self.out = torch.tanh(x)\n",
        "    return self.out\n",
        "  \n",
        "  def parameters(self):\n",
        "    return []\n"
      ],
      "metadata": {
        "id": "K3f-QnXqsIJ8"
      },
      "execution_count": 66,
      "outputs": []
    },
    {
      "cell_type": "markdown",
      "source": [
        "Define NN hyper-parameters"
      ],
      "metadata": {
        "id": "pHogmb7NutZF"
      }
    },
    {
      "cell_type": "code",
      "source": [
        "n_embd = 10\n",
        "n_hidden = 100\n",
        "g = torch.Generator().manual_seed(100)"
      ],
      "metadata": {
        "id": "M-jvfz6Rz2m6"
      },
      "execution_count": 67,
      "outputs": []
    },
    {
      "cell_type": "code",
      "source": [
        "C = torch.randn((vocab_size, n_embd), generator=g)\n",
        "\n",
        "layers = [\n",
        "    Linear(n_embd * block_size, n_hidden), Tanh(),\n",
        "    Linear(n_hidden, n_hidden), Tanh(),\n",
        "    Linear(n_hidden, n_hidden), Tanh(),\n",
        "    Linear(n_hidden, n_hidden), Tanh(),\n",
        "    Linear(n_hidden, n_hidden), Tanh(),\n",
        "    Linear(n_hidden, vocab_size)\n",
        "]\n",
        "\n",
        "with torch.no_grad():\n",
        "    # Reducing last layer's weight\n",
        "    layers[-1].weight *= 0.1\n",
        "\n",
        "    # Apply Kaiming init to all other layers except tanh layers\n",
        "    for layer in layers:\n",
        "      if isinstance(layer, Linear):\n",
        "        layer.weight *= 5/3\n",
        "\n",
        "parameters = [C] + [p for layer in layers for p in layer.parameters()]\n",
        "print('Total trainable params: ', sum(p.nelement() for p in parameters))\n",
        "\n",
        "for p in parameters:\n",
        "  p.requires_grad = True"
      ],
      "metadata": {
        "colab": {
          "base_uri": "https://localhost:8080/"
        },
        "id": "UsEYqU2Pz_d8",
        "outputId": "d71bfe75-f22e-467d-c1d8-2d6e4a971644"
      },
      "execution_count": 73,
      "outputs": [
        {
          "output_type": "stream",
          "name": "stdout",
          "text": [
            "Total trainable params:  46497\n"
          ]
        }
      ]
    },
    {
      "cell_type": "code",
      "source": [
        "max_steps = 200000\n",
        "batch_size = 32\n",
        "lossi = []\n",
        "\n",
        "for k in range(max_steps):\n",
        "\n",
        "  # Minibatch construct\n",
        "  ix = torch.randint(0, X_train.shape[0], (batch_size,), generator=g)\n",
        "  Xb, Yb = X_train[ix], Y_train[ix]\n",
        "\n",
        "  # Forward Pass\n",
        "  emb = C[Xb]\n",
        "  x = emb.view(emb.shape[0], -1)\n",
        "  for layer in layers:\n",
        "    x = layer(x)\n",
        "  loss = F.cross_entropy(x, Yb)\n",
        "\n",
        "  # Backward pass\n",
        "  for layer in layers:\n",
        "    layer.out.retain_grad()\n",
        "  \n",
        "  for p in parameters:\n",
        "    p.grad = None\n",
        "  \n",
        "  loss.backward()\n",
        "\n",
        "  # Update parameters\n",
        "  lr = 0.1 if k < 100000 else 0.01\n",
        "  for p in parameters:\n",
        "    p.grad += -lr * p.grad\n",
        "\n",
        "  # Track stats\n",
        "  if k % 10000 == 0:\n",
        "    print(f'{k:7d}/{max_steps:7d}: {loss.item():4f}')\n",
        "  lossi.append(loss.log10().item())"
      ],
      "metadata": {
        "colab": {
          "base_uri": "https://localhost:8080/"
        },
        "id": "hUJJxXu-56QG",
        "outputId": "ff57cd34-3178-44e2-8c3d-38bf9a0914fe"
      },
      "execution_count": null,
      "outputs": [
        {
          "output_type": "stream",
          "name": "stdout",
          "text": [
            "      0/ 200000: 3.310745\n",
            "  10000/ 200000: 3.359295\n",
            "  20000/ 200000: 3.339886\n",
            "  30000/ 200000: 3.312685\n",
            "  40000/ 200000: 3.312967\n",
            "  50000/ 200000: 3.306637\n",
            "  60000/ 200000: 3.313174\n",
            "  70000/ 200000: 3.267335\n",
            "  80000/ 200000: 3.310787\n",
            "  90000/ 200000: 3.314662\n",
            " 100000/ 200000: 3.313189\n"
          ]
        }
      ]
    }
  ]
}