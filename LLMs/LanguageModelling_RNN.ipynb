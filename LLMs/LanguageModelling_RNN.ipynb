{
  "nbformat": 4,
  "nbformat_minor": 0,
  "metadata": {
    "colab": {
      "provenance": [],
      "authorship_tag": "ABX9TyN8yNEP4zSFRMXpbUkUJVhC"
    },
    "kernelspec": {
      "name": "python3",
      "display_name": "Python 3"
    },
    "language_info": {
      "name": "python"
    }
  },
  "cells": [
    {
      "cell_type": "markdown",
      "source": [
        "#### A quick recap of what's done on MLP part of the modelling"
      ],
      "metadata": {
        "id": "ot5FKCEW0k2I"
      }
    },
    {
      "cell_type": "code",
      "execution_count": 1,
      "metadata": {
        "id": "MN0U33Xkv4Gd"
      },
      "outputs": [],
      "source": [
        "import torch\n",
        "import torch.nn.functional as F\n",
        "import matplotlib.pyplot as plt\n",
        "%matplotlib inline"
      ]
    },
    {
      "cell_type": "code",
      "source": [
        "!wget https://raw.githubusercontent.com/suvigyajain0101/NLP/llms/LLMs/names.txt"
      ],
      "metadata": {
        "colab": {
          "base_uri": "https://localhost:8080/"
        },
        "id": "rh_F8o00v78e",
        "outputId": "8563b221-129e-4b3f-ab20-2fa9591d5ef3"
      },
      "execution_count": 2,
      "outputs": [
        {
          "output_type": "stream",
          "name": "stdout",
          "text": [
            "--2023-05-16 22:23:43--  https://raw.githubusercontent.com/suvigyajain0101/NLP/llms/LLMs/names.txt\n",
            "Resolving raw.githubusercontent.com (raw.githubusercontent.com)... 185.199.108.133, 185.199.109.133, 185.199.110.133, ...\n",
            "Connecting to raw.githubusercontent.com (raw.githubusercontent.com)|185.199.108.133|:443... connected.\n",
            "HTTP request sent, awaiting response... 200 OK\n",
            "Length: 228145 (223K) [text/plain]\n",
            "Saving to: ‘names.txt’\n",
            "\n",
            "\rnames.txt             0%[                    ]       0  --.-KB/s               \rnames.txt           100%[===================>] 222.80K  --.-KB/s    in 0.02s   \n",
            "\n",
            "2023-05-16 22:23:43 (11.2 MB/s) - ‘names.txt’ saved [228145/228145]\n",
            "\n"
          ]
        }
      ]
    },
    {
      "cell_type": "code",
      "source": [
        "words = open('names.txt').read().splitlines()\n",
        "words[0:10]"
      ],
      "metadata": {
        "colab": {
          "base_uri": "https://localhost:8080/"
        },
        "id": "WnMeH6QAv9Ab",
        "outputId": "200a40a5-562e-43b0-bdb0-44d98f58be24"
      },
      "execution_count": 3,
      "outputs": [
        {
          "output_type": "execute_result",
          "data": {
            "text/plain": [
              "['emma',\n",
              " 'olivia',\n",
              " 'ava',\n",
              " 'isabella',\n",
              " 'sophia',\n",
              " 'charlotte',\n",
              " 'mia',\n",
              " 'amelia',\n",
              " 'harper',\n",
              " 'evelyn']"
            ]
          },
          "metadata": {},
          "execution_count": 3
        }
      ]
    },
    {
      "cell_type": "code",
      "source": [
        "len(words)"
      ],
      "metadata": {
        "colab": {
          "base_uri": "https://localhost:8080/"
        },
        "id": "59oCUJ3Ov-Jy",
        "outputId": "7874570d-e300-4b3b-de8f-8a3ffa0039a5"
      },
      "execution_count": 4,
      "outputs": [
        {
          "output_type": "execute_result",
          "data": {
            "text/plain": [
              "32033"
            ]
          },
          "metadata": {},
          "execution_count": 4
        }
      ]
    },
    {
      "cell_type": "code",
      "source": [
        "# Build vocab of characters and mapping to and from integers\n",
        "chars = sorted(list(set(''.join(words))))\n",
        "assert len(chars) == 26\n",
        "\n",
        "stoi = {s:i+1 for i,s in enumerate(chars)}\n",
        "stoi['.'] = 0\n",
        "\n",
        "itos = {i:s for s,i in stoi.items()}\n",
        "\n",
        "vocab_size = len(itos)\n",
        "\n",
        "print(stoi)\n",
        "print(itos)\n",
        "print(vocab_size)"
      ],
      "metadata": {
        "colab": {
          "base_uri": "https://localhost:8080/"
        },
        "id": "iJKxpq-3v_aL",
        "outputId": "5aebdee5-ee49-449b-838a-c7564c1edae6"
      },
      "execution_count": 5,
      "outputs": [
        {
          "output_type": "stream",
          "name": "stdout",
          "text": [
            "{'a': 1, 'b': 2, 'c': 3, 'd': 4, 'e': 5, 'f': 6, 'g': 7, 'h': 8, 'i': 9, 'j': 10, 'k': 11, 'l': 12, 'm': 13, 'n': 14, 'o': 15, 'p': 16, 'q': 17, 'r': 18, 's': 19, 't': 20, 'u': 21, 'v': 22, 'w': 23, 'x': 24, 'y': 25, 'z': 26, '.': 0}\n",
            "{1: 'a', 2: 'b', 3: 'c', 4: 'd', 5: 'e', 6: 'f', 7: 'g', 8: 'h', 9: 'i', 10: 'j', 11: 'k', 12: 'l', 13: 'm', 14: 'n', 15: 'o', 16: 'p', 17: 'q', 18: 'r', 19: 's', 20: 't', 21: 'u', 22: 'v', 23: 'w', 24: 'x', 25: 'y', 26: 'z', 0: '.'}\n",
            "27\n"
          ]
        }
      ]
    },
    {
      "cell_type": "code",
      "source": [
        "import random\n",
        "\n",
        "block_size = 3\n",
        "\n",
        "def build_dataset(words):\n",
        "  \n",
        "  X, Y = [], []\n",
        "\n",
        "  for w in words:\n",
        "    context = [0]*block_size\n",
        "    for ch in w + '.':\n",
        "      ix = stoi[ch]\n",
        "      X.append(context)\n",
        "      Y.append(ix)\n",
        "\n",
        "      context = context[1:] + [ix]\n",
        "\n",
        "  X = torch.tensor(X)\n",
        "  Y = torch.tensor(Y)\n",
        "  print(X.shape, Y.shape)\n",
        "\n",
        "  return X, Y\n",
        "\n",
        "# Random shuffle of words\n",
        "random.seed(42)\n",
        "random.shuffle(words)\n",
        "# Training data -> 80%, Val data -> 10%, testing data -> 10%\n",
        "n1 = int(0.8*len(words))\n",
        "n2 = int(0.9*len(words))\n",
        "\n",
        "X_train, Y_train = build_dataset(words[:n1])\n",
        "X_val, Y_val = build_dataset(words[n1:n2])\n",
        "X_test, Y_test = build_dataset(words[n2:])\n",
        "\n",
        "print('Training Data Size: ', len(X_train))\n",
        "print('Validation Data Size: ', len(X_val))\n",
        "print('Testing Data Size: ', len(X_test))"
      ],
      "metadata": {
        "colab": {
          "base_uri": "https://localhost:8080/"
        },
        "id": "b1TTfE_AwC-1",
        "outputId": "cd02a20d-1eb3-45ab-ca58-06b7b6fd3f0a"
      },
      "execution_count": 6,
      "outputs": [
        {
          "output_type": "stream",
          "name": "stdout",
          "text": [
            "torch.Size([182625, 3]) torch.Size([182625])\n",
            "torch.Size([22655, 3]) torch.Size([22655])\n",
            "torch.Size([22866, 3]) torch.Size([22866])\n",
            "Training Data Size:  182625\n",
            "Validation Data Size:  22655\n",
            "Testing Data Size:  22866\n"
          ]
        }
      ]
    },
    {
      "cell_type": "code",
      "source": [
        "n_embd = 10\n",
        "n_hidden = 200\n",
        "\n",
        "# First let re-initialize the params\n",
        "g = torch.Generator().manual_seed(10)\n",
        "C = torch.randn((vocab_size, n_embd), generator=g)\n",
        "W1 = torch.randn((n_embd * block_size, n_hidden), generator=g)\n",
        "b1 = torch.randn(n_hidden, generator=g)\n",
        "W2 = torch.randn((n_hidden, vocab_size), generator=g)\n",
        "b2 = torch.randn(vocab_size, generator=g)\n",
        "parameters = [C, W1, b1, W2, b2]\n",
        "\n",
        "print('Total trainable parameters: ', sum(p.nelement() for p in parameters))\n",
        "\n",
        "# Make sure all the parameters support gradient and updates\n",
        "for p in parameters:\n",
        "  p.requires_grad = True"
      ],
      "metadata": {
        "colab": {
          "base_uri": "https://localhost:8080/"
        },
        "id": "iet8yFuuwL5l",
        "outputId": "c47981cb-6520-4b20-bb9e-20605caaf65e"
      },
      "execution_count": 7,
      "outputs": [
        {
          "output_type": "stream",
          "name": "stdout",
          "text": [
            "Total trainable parameters:  11897\n"
          ]
        }
      ]
    },
    {
      "cell_type": "code",
      "source": [
        "batch_size = 32\n",
        "max_steps = 200000\n",
        "lossi = []\n",
        "\n",
        "\n",
        "for k in range(max_steps):\n",
        "\n",
        "  # Minibatch index\n",
        "  ix = torch.randint(0, X_train.shape[0], (batch_size,))\n",
        "\n",
        "\n",
        "  # Forward Pass\n",
        "  emb = C[X_train[ix]] # Shape -> (32, 3, 2)\n",
        "  h0 = emb.view(-1, n_embd * block_size) @ W1 + b1\n",
        "  h = torch.tanh(h0)\n",
        "  logits = h @ W2 + b2\n",
        "  loss = F.cross_entropy(logits, Y_train[ix]) # Need to update target dataset as well\n",
        "\n",
        "  if k%10000 == 0:\n",
        "    print(f'Epoch {k} -> Loss = {loss.item()} ')\n",
        "\n",
        "  # Backward pass\n",
        "  for p in parameters:\n",
        "    p.grad = None\n",
        "  loss.backward()\n",
        "\n",
        "  # Gradient Update\n",
        "  lr = 0.1 if k < 100000 else 0.01\n",
        "  for p in parameters:\n",
        "    p.data += -lr * p.grad\n",
        "\n",
        "  lossi.append(loss.log10().item())"
      ],
      "metadata": {
        "colab": {
          "base_uri": "https://localhost:8080/"
        },
        "id": "Gn7QpG3kw_Ic",
        "outputId": "9c8e8c37-3526-45cf-f962-8cb2a9cf80a1"
      },
      "execution_count": 8,
      "outputs": [
        {
          "output_type": "stream",
          "name": "stdout",
          "text": [
            "Epoch 0 -> Loss = 26.624467849731445 \n",
            "Epoch 10000 -> Loss = 2.7168385982513428 \n",
            "Epoch 20000 -> Loss = 2.713120937347412 \n",
            "Epoch 30000 -> Loss = 2.587939500808716 \n",
            "Epoch 40000 -> Loss = 2.1966190338134766 \n",
            "Epoch 50000 -> Loss = 2.131162643432617 \n",
            "Epoch 60000 -> Loss = 2.0539932250976562 \n",
            "Epoch 70000 -> Loss = 2.210240364074707 \n",
            "Epoch 80000 -> Loss = 2.318734884262085 \n",
            "Epoch 90000 -> Loss = 2.350541591644287 \n",
            "Epoch 100000 -> Loss = 2.1720566749572754 \n",
            "Epoch 110000 -> Loss = 2.2635087966918945 \n",
            "Epoch 120000 -> Loss = 2.435758590698242 \n",
            "Epoch 130000 -> Loss = 1.8580236434936523 \n",
            "Epoch 140000 -> Loss = 2.444805860519409 \n",
            "Epoch 150000 -> Loss = 2.3257787227630615 \n",
            "Epoch 160000 -> Loss = 2.2144782543182373 \n",
            "Epoch 170000 -> Loss = 1.947796106338501 \n",
            "Epoch 180000 -> Loss = 2.1378958225250244 \n",
            "Epoch 190000 -> Loss = 2.0960276126861572 \n"
          ]
        }
      ]
    },
    {
      "cell_type": "code",
      "source": [
        "plt.plot(lossi)"
      ],
      "metadata": {
        "colab": {
          "base_uri": "https://localhost:8080/",
          "height": 447
        },
        "id": "oUQbtQQCxYsM",
        "outputId": "9482e047-e45b-4c9c-e6d8-89fd901e0690"
      },
      "execution_count": 9,
      "outputs": [
        {
          "output_type": "execute_result",
          "data": {
            "text/plain": [
              "[<matplotlib.lines.Line2D at 0x7fce56652410>]"
            ]
          },
          "metadata": {},
          "execution_count": 9
        },
        {
          "output_type": "display_data",
          "data": {
            "text/plain": [
              "<Figure size 640x480 with 1 Axes>"
            ],
            "image/png": "[encoded data removed]"
          },
          "metadata": {}
        }
      ]
    },
    {
      "cell_type": "code",
      "source": [
        "@torch.no_grad() # the decorator disables gradient tracking\n",
        "def split_loss(split):\n",
        "  '''Function returns split level loss'''\n",
        "  x, y = {\n",
        "      'train': (X_train, Y_train),\n",
        "      'val': (X_val, Y_val),\n",
        "      'test': (X_test, Y_test)\n",
        "  }[split]\n",
        "\n",
        "  emb = C[x]\n",
        "  embcat = emb.view(emb.shape[0], -1)\n",
        "\n",
        "  h0 = embcat @ W1 + b1\n",
        "  h = torch.tanh(h0)\n",
        "  logits = h @ W2 + b2\n",
        "  loss = F.cross_entropy(logits, y)\n",
        "  print(split, loss.item())\n",
        "\n",
        "split_loss('train')\n",
        "split_loss('val')"
      ],
      "metadata": {
        "colab": {
          "base_uri": "https://localhost:8080/"
        },
        "id": "oEpg94z2yHK9",
        "outputId": "f9500eeb-a6db-46a6-93e2-ce10b684e9c4"
      },
      "execution_count": 10,
      "outputs": [
        {
          "output_type": "stream",
          "name": "stdout",
          "text": [
            "train 2.118497371673584\n",
            "val 2.1624834537506104\n"
          ]
        }
      ]
    },
    {
      "cell_type": "code",
      "source": [
        "g = torch.Generator().manual_seed(10)\n",
        "\n",
        "for _ in range(20):\n",
        "\n",
        "  out = []\n",
        "  context = [0]*block_size\n",
        "\n",
        "  while True:\n",
        "    emb = C[torch.tensor([context])]\n",
        "    h0 = emb.view(1, -1) @ W1 + b1\n",
        "    h = torch.tanh(h0)\n",
        "    logits = h @ W2 + b2\n",
        "    probs = torch.softmax(logits, dim=1)\n",
        "\n",
        "    ix = torch.multinomial(probs, 1, generator=g).item()\n",
        "    context = context[1:] + [ix]\n",
        "\n",
        "    out.append(itos[ix])\n",
        "\n",
        "    if ix == 0:\n",
        "      break\n",
        "      \n",
        "  print(''.join(out))"
      ],
      "metadata": {
        "colab": {
          "base_uri": "https://localhost:8080/"
        },
        "id": "AnQ3N8Oo0AwU",
        "outputId": "e154d5de-8a33-4409-8b0b-ef4177332050"
      },
      "execution_count": 11,
      "outputs": [
        {
          "output_type": "stream",
          "name": "stdout",
          "text": [
            "pri.\n",
            "ehma.\n",
            "meyanne.\n",
            "snoton.\n",
            "kaylah.\n",
            "thi.\n",
            "kaylia.\n",
            "dadailee.\n",
            "cimby.\n",
            "mairelis.\n",
            "rayton.\n",
            "jaya.\n",
            "areolynn.\n",
            "auston.\n",
            "and.\n",
            "farth.\n",
            "kyreem.\n",
            "marshan.\n",
            "aubrensietta.\n",
            "jaysynn.\n"
          ]
        }
      ]
    },
    {
      "cell_type": "markdown",
      "source": [
        "The neural network architecture and functionality defined above has few issues which can (and are) impacting the performance and quality of the names generated - \n",
        "\n",
        "\n",
        "#### Issue 1\n",
        "\n",
        "Intial loss of the model is very high. For a naive model, this should be close to 3.2 - Negative log of probability, which is 1/27. This has to do with the random initialization. Initial values are so far off the reality (or the model is so confidently wrong!), that we are getting such a high number "
      ],
      "metadata": {
        "id": "xZ55HLPp0rdH"
      }
    },
    {
      "cell_type": "code",
      "source": [
        "n_embd = 10\n",
        "n_hidden = 200\n",
        "\n",
        "# First let re-initialize the params\n",
        "g = torch.Generator().manual_seed(10)\n",
        "C = torch.randn((vocab_size, n_embd), generator=g)\n",
        "W1 = torch.randn((n_embd * block_size, n_hidden), generator=g)\n",
        "b1 = torch.randn(n_hidden, generator=g)\n",
        "W2 = torch.randn((n_hidden, vocab_size), generator=g) * 0.01\n",
        "b2 = torch.randn(vocab_size, generator=g) * 0\n",
        "parameters = [C, W1, b1, W2, b2]\n",
        "\n",
        "print('Total trainable parameters: ', sum(p.nelement() for p in parameters))\n",
        "\n",
        "# Make sure all the parameters support gradient and updates\n",
        "for p in parameters:\n",
        "  p.requires_grad = True\n",
        "\n",
        "batch_size = 32\n",
        "max_steps = 200000\n",
        "lossi = []\n",
        "\n",
        "\n",
        "for k in range(max_steps):\n",
        "\n",
        "  # Minibatch index\n",
        "  ix = torch.randint(0, X_train.shape[0], (batch_size,))\n",
        "\n",
        "\n",
        "  # Forward Pass\n",
        "  emb = C[X_train[ix]] # Shape -> (32, 3, 2)\n",
        "  h0 = emb.view(-1, n_embd * block_size) @ W1 + b1\n",
        "  h = torch.tanh(h0)\n",
        "  logits = h @ W2 + b2\n",
        "  loss = F.cross_entropy(logits, Y_train[ix]) # Need to update target dataset as well\n",
        "\n",
        "  if k%10000 == 0:\n",
        "    print(f'Epoch {k} -> Loss = {loss.item()} ')\n",
        "\n",
        "  # Backward pass\n",
        "  for p in parameters:\n",
        "    p.grad = None\n",
        "  loss.backward()\n",
        "\n",
        "  # Gradient Update\n",
        "  lr = 0.1 if k < 100000 else 0.01\n",
        "  for p in parameters:\n",
        "    p.data += -lr * p.grad\n",
        "\n",
        "  lossi.append(loss.log10().item())\n",
        "\n",
        "  break"
      ],
      "metadata": {
        "colab": {
          "base_uri": "https://localhost:8080/"
        },
        "id": "1aftdbyW3gER",
        "outputId": "3e540d08-d86b-4bc1-e914-32c1534260a8"
      },
      "execution_count": 12,
      "outputs": [
        {
          "output_type": "stream",
          "name": "stdout",
          "text": [
            "Total trainable parameters:  11897\n",
            "Epoch 0 -> Loss = 3.2796080112457275 \n"
          ]
        }
      ]
    },
    {
      "cell_type": "code",
      "source": [
        "plt.plot(lossi)"
      ],
      "metadata": {
        "colab": {
          "base_uri": "https://localhost:8080/",
          "height": 447
        },
        "id": "AiQNzfI43lzS",
        "outputId": "9de57c4b-8eae-41b8-d983-3f79d78d570a"
      },
      "execution_count": 13,
      "outputs": [
        {
          "output_type": "execute_result",
          "data": {
            "text/plain": [
              "[<matplotlib.lines.Line2D at 0x7fce55699bd0>]"
            ]
          },
          "metadata": {},
          "execution_count": 13
        },
        {
          "output_type": "display_data",
          "data": {
            "text/plain": [
              "<Figure size 640x480 with 1 Axes>"
            ],
            "image/png": "[encoded data removed]"
          },
          "metadata": {}
        }
      ]
    },
    {
      "cell_type": "markdown",
      "source": [
        "No more hockey stick shaped loss. No mighty gains in the beginning!"
      ],
      "metadata": {
        "id": "pc8B87YY4QmQ"
      }
    },
    {
      "cell_type": "code",
      "source": [
        "split_loss('train')\n",
        "split_loss('val')"
      ],
      "metadata": {
        "colab": {
          "base_uri": "https://localhost:8080/"
        },
        "id": "HFbaubsr3tmC",
        "outputId": "29b9db5d-ec74-4d29-d39f-f9df73a13a93"
      },
      "execution_count": 14,
      "outputs": [
        {
          "output_type": "stream",
          "name": "stdout",
          "text": [
            "train 3.2534866333007812\n",
            "val 3.250932216644287\n"
          ]
        }
      ]
    },
    {
      "cell_type": "markdown",
      "source": [
        "The performance has improved a bit, since the few thousand iterations that the models wasted to squash randomly initialized weights are now better spent on the actual training"
      ],
      "metadata": {
        "id": "5mcQ_Akx4Xln"
      }
    },
    {
      "cell_type": "code",
      "source": [
        "g = torch.Generator().manual_seed(10)\n",
        "\n",
        "for _ in range(20):\n",
        "\n",
        "  out = []\n",
        "  context = [0]*block_size\n",
        "\n",
        "  while True:\n",
        "    emb = C[torch.tensor([context])]\n",
        "    h0 = emb.view(1, -1) @ W1 + b1\n",
        "    h = torch.tanh(h0)\n",
        "    logits = h @ W2 + b2\n",
        "    probs = torch.softmax(logits, dim=1)\n",
        "\n",
        "    ix = torch.multinomial(probs, 1, generator=g).item()\n",
        "    context = context[1:] + [ix]\n",
        "\n",
        "    out.append(itos[ix])\n",
        "\n",
        "    if ix == 0:\n",
        "      break\n",
        "      \n",
        "  print(''.join(out))"
      ],
      "metadata": {
        "colab": {
          "base_uri": "https://localhost:8080/"
        },
        "id": "h-PgwFGg3xtS",
        "outputId": "d21fa470-767f-46f9-9b94-222c7b9b4693"
      },
      "execution_count": 15,
      "outputs": [
        {
          "output_type": "stream",
          "name": "stdout",
          "text": [
            "pfp.\n",
            "jhqz.\n",
            "ewybwjxgsnotomrwlyecozttdskxqlbbypydbjuejwcfmbzcbkmedqxwurautpodvaeaoxrugiymfdeusthsm.\n",
            "zr.\n",
            "fgethzbdsppsdm.\n",
            "ssfazbaujhensiztsuzhqmsylqjizwpcusqqbpaaxwlpzqhqraueeghchpcnlvkdijnkfrbvu.\n",
            "kmx.\n",
            ".\n",
            "jv.\n",
            "gfan.\n",
            "wvbrbc.\n",
            "lahxpfmjfojmgamzymeornutsgna.\n",
            "evsbsbbxl.\n",
            "hfmcoiiufczdodtqnkbbgyzlaechmtqysqywmytqdjxzlanmxwbjseqisinuhbxyfuevpnlbtpnagzyzhquuxvvznequayntwkmzibapnrbfos.\n",
            "rhzjwubtyeqddaysqudckabxgwvxllrdecslkncswjowwosleyiphcrqkeqprikjkahjmu.\n",
            "abipsitrkaoadtxvkumwoyttxyssfjxagwspuwhps.\n",
            "vnleflphauxmiudieyysytnwshvdh.\n",
            "nhxqtihazvbxkjmtoszgmdcxbrultqwmtwipiimk.\n",
            "nkwxlmvcjymokrxtzeewjlizo.\n",
            "tcokvvlmmxurheehwajihdhlqdfbkmrshfkpowcy.\n"
          ]
        }
      ]
    },
    {
      "cell_type": "markdown",
      "source": [
        "The performance is much better than bigrams and MLP, the names generated are better than both as well, but still meh!"
      ],
      "metadata": {
        "id": "GLYG07FI3zta"
      }
    },
    {
      "cell_type": "markdown",
      "source": [
        "#### Issue 2\n",
        "\n",
        "Initialization, weights look good for now but 1 issue still remains which pertains to tanh. Tanh can be thought of as a squashing function, which converts any number in (-inf, inf) to [-1, 1]. In order to understand the output of tanh operation on embeddings, weights and biases, let's plot the histogram"
      ],
      "metadata": {
        "id": "KWAnVJwSs_ff"
      }
    },
    {
      "cell_type": "code",
      "source": [
        "# h is [32, 200], where 200 is dim of hidden layer\n",
        "# So, flatten h (using view), convert to python list and visualize\n",
        "\n",
        "plt.hist(h.view(-1).tolist(), bins=50);"
      ],
      "metadata": {
        "colab": {
          "base_uri": "https://localhost:8080/",
          "height": 430
        },
        "id": "DTxC9kNVtMB_",
        "outputId": "c5d2bb84-8e3e-4591-eb82-e09337e49c10"
      },
      "execution_count": 16,
      "outputs": [
        {
          "output_type": "display_data",
          "data": {
            "text/plain": [
              "<Figure size 640x480 with 1 Axes>"
            ],
            "image/png": "[encoded data removed]"
          },
          "metadata": {}
        }
      ]
    },
    {
      "cell_type": "markdown",
      "source": [
        "Observe that majority of the initial values are either -1 or 1. Let's plot the input to tanh"
      ],
      "metadata": {
        "id": "E6oR-2qbugho"
      }
    },
    {
      "cell_type": "code",
      "source": [
        "plt.hist(h0.view(-1).tolist(), bins=50);"
      ],
      "metadata": {
        "colab": {
          "base_uri": "https://localhost:8080/",
          "height": 430
        },
        "id": "aWhDfc-JvXmo",
        "outputId": "d49fc758-431f-44a1-c50e-5697cb20cdc5"
      },
      "execution_count": 17,
      "outputs": [
        {
          "output_type": "display_data",
          "data": {
            "text/plain": [
              "<Figure size 640x480 with 1 Axes>"
            ],
            "image/png": "[encoded data removed]"
          },
          "metadata": {}
        }
      ]
    },
    {
      "cell_type": "markdown",
      "source": [
        "h0 takes extreme values (between -10 and 10) which makes tanh -1 or 1 many times and this can be an issue in backward prop. Why?\n",
        "\n",
        "Remember in the autograd notebook, the derivative of tanh = (1 - t**2) * out.grad, where (1 - t**2) is the local derivative and out.grad is the global derivative (from the chain rule). If t is -1 or 1, then first term becomes zero and hence the entire derivative becomes zero. This can result in low learning of the neuron. It can also happen that the entire weight and bias row for the particular are initialized such that the output of the neuron is zero. Such a neuron can be called as a 'Dead Neuron'\n",
        "\n",
        "Below plot shows how many values in h are non-zero (White pixel means zero and black means non-zero). We would ideally want as many blacks as possible. In case when the entire column in white, it means a dead neuron"
      ],
      "metadata": {
        "id": "rtqrKSiOvp5c"
      }
    },
    {
      "cell_type": "code",
      "source": [
        "plt.figure(figsize=(10, 5))\n",
        "plt.imshow(h.abs() > 0.99, cmap='gray', interpolation='nearest');"
      ],
      "metadata": {
        "colab": {
          "base_uri": "https://localhost:8080/",
          "height": 70
        },
        "id": "rjRl8EUVzWrM",
        "outputId": "e0a6f8c4-c811-4b62-d058-e412d46c7895"
      },
      "execution_count": 18,
      "outputs": [
        {
          "output_type": "display_data",
          "data": {
            "text/plain": [
              "<Figure size 1000x500 with 1 Axes>"
            ],
            "image/png": "[encoded data removed]"
          },
          "metadata": {}
        }
      ]
    },
    {
      "cell_type": "markdown",
      "source": [
        "In order to reduce the values of h0 and h, we can use similar approach of multiplying the weights and biases by a small number"
      ],
      "metadata": {
        "id": "_0QSZqaP02ON"
      }
    },
    {
      "cell_type": "code",
      "source": [
        "n_embd = 10\n",
        "n_hidden = 200\n",
        "\n",
        "# First let re-initialize the params\n",
        "g = torch.Generator().manual_seed(10)\n",
        "C = torch.randn((vocab_size, n_embd), generator=g)\n",
        "W1 = torch.randn((n_embd * block_size, n_hidden), generator=g) * 0.1\n",
        "b1 = torch.randn(n_hidden, generator=g) * 0.01\n",
        "W2 = torch.randn((n_hidden, vocab_size), generator=g) * 0.01\n",
        "b2 = torch.randn(vocab_size, generator=g) * 0\n",
        "parameters = [C, W1, b1, W2, b2]\n",
        "\n",
        "print('Total trainable parameters: ', sum(p.nelement() for p in parameters))\n",
        "\n",
        "# Make sure all the parameters support gradient and updates\n",
        "for p in parameters:\n",
        "  p.requires_grad = True\n",
        "\n",
        "batch_size = 32\n",
        "max_steps = 200000\n",
        "lossi = []\n",
        "\n",
        "\n",
        "for k in range(max_steps):\n",
        "\n",
        "  # Minibatch index\n",
        "  ix = torch.randint(0, X_train.shape[0], (batch_size,))\n",
        "\n",
        "\n",
        "  # Forward Pass\n",
        "  emb = C[X_train[ix]] # Shape -> (32, 3, 2)\n",
        "  h0 = emb.view(-1, n_embd * block_size) @ W1 + b1\n",
        "  h = torch.tanh(h0)\n",
        "  logits = h @ W2 + b2\n",
        "  loss = F.cross_entropy(logits, Y_train[ix]) # Need to update target dataset as well\n",
        "\n",
        "  if k%10000 == 0:\n",
        "    print(f'Epoch {k} -> Loss = {loss.item()} ')\n",
        "\n",
        "  # Backward pass\n",
        "  for p in parameters:\n",
        "    p.grad = None\n",
        "  loss.backward()\n",
        "\n",
        "  # Gradient Update\n",
        "  lr = 0.1 if k < 100000 else 0.01\n",
        "  for p in parameters:\n",
        "    p.data += -lr * p.grad\n",
        "\n",
        "  lossi.append(loss.log10().item())\n",
        "\n",
        "  break"
      ],
      "metadata": {
        "colab": {
          "base_uri": "https://localhost:8080/"
        },
        "id": "vyaL3Plv1TI2",
        "outputId": "e9383527-9369-4e4c-f415-360a70085e9b"
      },
      "execution_count": 19,
      "outputs": [
        {
          "output_type": "stream",
          "name": "stdout",
          "text": [
            "Total trainable parameters:  11897\n",
            "Epoch 0 -> Loss = 3.276458740234375 \n"
          ]
        }
      ]
    },
    {
      "cell_type": "code",
      "source": [
        "plt.hist(h.view(-1).tolist(), bins=50);"
      ],
      "metadata": {
        "colab": {
          "base_uri": "https://localhost:8080/",
          "height": 430
        },
        "id": "T3ALktNG1fXA",
        "outputId": "6abf2071-70c1-4835-e2ce-6f31ee72bfea"
      },
      "execution_count": 20,
      "outputs": [
        {
          "output_type": "display_data",
          "data": {
            "text/plain": [
              "<Figure size 640x480 with 1 Axes>"
            ],
            "image/png": "[encoded data removed]"
          },
          "metadata": {}
        }
      ]
    },
    {
      "cell_type": "code",
      "source": [
        "plt.hist(h0.view(-1).tolist(), bins=50);"
      ],
      "metadata": {
        "colab": {
          "base_uri": "https://localhost:8080/",
          "height": 430
        },
        "id": "F64L4GvD1hcQ",
        "outputId": "df403548-46f8-4cc1-e23c-14253b2555e2"
      },
      "execution_count": 21,
      "outputs": [
        {
          "output_type": "display_data",
          "data": {
            "text/plain": [
              "<Figure size 640x480 with 1 Axes>"
            ],
            "image/png": "[encoded data removed]"
          },
          "metadata": {}
        }
      ]
    },
    {
      "cell_type": "code",
      "source": [
        "plt.figure(figsize=(10, 5))\n",
        "plt.imshow(h.abs() > 0.99, cmap='gray', interpolation='nearest');"
      ],
      "metadata": {
        "colab": {
          "base_uri": "https://localhost:8080/",
          "height": 188
        },
        "id": "gPefOFEC1jl3",
        "outputId": "0ae4162e-4e41-4463-a53c-e223ba0f77e3"
      },
      "execution_count": 22,
      "outputs": [
        {
          "output_type": "display_data",
          "data": {
            "text/plain": [
              "<Figure size 1000x500 with 1 Axes>"
            ],
            "image/png": "[encoded data removed]"
          },
          "metadata": {}
        }
      ]
    },
    {
      "cell_type": "markdown",
      "source": [
        "Note the following - \n",
        "\n",
        "1. Much better distribution of tanh output. Takes many values in [-1,1] and this has primarily to do with the values in graph 2, where h0 takes values between [-2, 2]\n",
        "2. Notice the entire plot of values > 0.99 is black, which means all the gradients of the neuron are non-zero "
      ],
      "metadata": {
        "id": "pT_sagv-1ln1"
      }
    },
    {
      "cell_type": "markdown",
      "source": [
        "A lot of the numbers used to scale weights and biases are 'magic numbers', hard-coded and based on trial-error approach. In order to come up with a better way to choose these numbers, or precisely, how to initialize the weights and biases, refer Kaiming Initialization paper [here](https://arxiv.org/abs/1502.01852)\n",
        "\n",
        "The paper talks about the gain that needs to applied when using a particular non-linearity to better initialize the weights and biases. \n",
        "\n",
        "Due to advances in techniques like normalization layers (BatchNorm, LayerNorm) and optimizers (RMSProp, ADAM), the neural networks are becoming less sensitive to such issues"
      ],
      "metadata": {
        "id": "VQWHBGwaJ5yg"
      }
    },
    {
      "cell_type": "markdown",
      "source": [
        "#### Batch Normalization\n",
        "\n",
        "As discussed in previous sections, we want the pre-activations (h0) to not be extreme values, otherwise tanh explodes and the resultant derivatives are zero. Rather, we want these to roughly gaussian, with mean=0 and std=1. \n",
        "\n",
        "As discussed in the [Batch Normalization Paper](https://arxiv.org/pdf/1502.03167.pdf), we can simply add a functionality to the hidden layers to overcome 'Internal Co-Variate Shift' using Batch Normalization. Important thing to note here, we don't want the network to force the weights and biases to be exactly gaussian with mean=0 and std=1, and want to give it full freedom to adjust weights and biases as per the problem. In order to achieve this, the authors suggest to scale the norm and add a bias. Scaling and Shifting are both parameters and learned during model training. "
      ],
      "metadata": {
        "id": "7Bb6If60O0UK"
      }
    },
    {
      "cell_type": "code",
      "source": [
        "h0.shape"
      ],
      "metadata": {
        "colab": {
          "base_uri": "https://localhost:8080/"
        },
        "id": "AKrx9TaaO2Eb",
        "outputId": "56b510ba-9714-47bf-b58e-65c1161285a7"
      },
      "execution_count": 23,
      "outputs": [
        {
          "output_type": "execute_result",
          "data": {
            "text/plain": [
              "torch.Size([32, 200])"
            ]
          },
          "metadata": {},
          "execution_count": 23
        }
      ]
    },
    {
      "cell_type": "code",
      "source": [
        "# We need to get the mean and std for each element in the batch\n",
        "# keepdim=True so that it's easily broadcasted\n",
        "h0.mean(axis=0, keepdim=True).shape, h0.std(axis=0, keepdim=True).shape"
      ],
      "metadata": {
        "colab": {
          "base_uri": "https://localhost:8080/"
        },
        "id": "x4m-ognwVj7U",
        "outputId": "84dc1053-a800-4808-b8c9-1509f08993d5"
      },
      "execution_count": 24,
      "outputs": [
        {
          "output_type": "execute_result",
          "data": {
            "text/plain": [
              "(torch.Size([1, 200]), torch.Size([1, 200]))"
            ]
          },
          "metadata": {},
          "execution_count": 24
        }
      ]
    },
    {
      "cell_type": "markdown",
      "source": [
        "Let's re-initialize"
      ],
      "metadata": {
        "id": "-7_qsa6MWkO6"
      }
    },
    {
      "cell_type": "code",
      "source": [
        "n_embd = 10\n",
        "n_hidden = 200\n",
        "\n",
        "# First let re-initialize the params\n",
        "g = torch.Generator().manual_seed(10)\n",
        "C = torch.randn((vocab_size, n_embd), generator=g)\n",
        "W1 = torch.randn((n_embd * block_size, n_hidden), generator=g) * 0.1\n",
        "b1 = torch.randn(n_hidden, generator=g) * 0.01\n",
        "W2 = torch.randn((n_hidden, vocab_size), generator=g) * 0.01\n",
        "b2 = torch.randn(vocab_size, generator=g) * 0\n",
        "\n",
        "bngain = torch.ones((1, n_hidden))\n",
        "bnbias = torch.zeros((1, n_hidden))\n",
        "\n",
        "\n",
        "parameters = [C, W1, b1, W2, b2, bngain, bnbias]\n",
        "\n",
        "print('Total trainable parameters: ', sum(p.nelement() for p in parameters))\n",
        "\n",
        "# Make sure all the parameters support gradient and updates\n",
        "for p in parameters:\n",
        "  p.requires_grad = True\n",
        "\n",
        "batch_size = 32\n",
        "max_steps = 200000\n",
        "lossi = []\n",
        "\n",
        "\n",
        "for k in range(max_steps):\n",
        "\n",
        "  # Minibatch index\n",
        "  ix = torch.randint(0, X_train.shape[0], (batch_size,))\n",
        "\n",
        "\n",
        "  # Forward Pass\n",
        "  emb = C[X_train[ix]] # Shape -> (32, 3, 2)\n",
        "  h0 = emb.view(-1, n_embd * block_size) @ W1 + b1\n",
        "\n",
        "  # Add BatchNorm Layer\n",
        "  bn_h0 = bngain * (h0 - h0.mean(0, keepdims=True)) / (h0.std(0, keepdims=True)) + bnbias\n",
        "\n",
        "  # Input to non-linearity becomes batch-normed\n",
        "  h = torch.tanh(bn_h0)\n",
        "\n",
        "  logits = h @ W2 + b2\n",
        "  loss = F.cross_entropy(logits, Y_train[ix]) # Need to update target dataset as well\n",
        "\n",
        "  if k%10000 == 0:\n",
        "    print(f'Epoch {k} -> Loss = {loss.item()} ')\n",
        "\n",
        "  # Backward pass\n",
        "  for p in parameters:\n",
        "    p.grad = None\n",
        "  loss.backward()\n",
        "\n",
        "  # Gradient Update\n",
        "  lr = 0.1 if k < 100000 else 0.01\n",
        "  for p in parameters:\n",
        "    p.data += -lr * p.grad\n",
        "\n",
        "  lossi.append(loss.log10().item())\n",
        "\n",
        "  # break"
      ],
      "metadata": {
        "colab": {
          "base_uri": "https://localhost:8080/"
        },
        "id": "S8KiwF3qWpHo",
        "outputId": "82ebf581-d21f-4932-87b5-4da4bd785c9b"
      },
      "execution_count": null,
      "outputs": [
        {
          "output_type": "stream",
          "name": "stdout",
          "text": [
            "Total trainable parameters:  12297\n",
            "Epoch 0 -> Loss = 3.28664231300354 \n",
            "Epoch 10000 -> Loss = 2.092726469039917 \n",
            "Epoch 20000 -> Loss = 1.75936758518219 \n",
            "Epoch 30000 -> Loss = 2.325037956237793 \n",
            "Epoch 40000 -> Loss = 2.001394748687744 \n",
            "Epoch 50000 -> Loss = 2.447359561920166 \n",
            "Epoch 60000 -> Loss = 2.003929376602173 \n",
            "Epoch 70000 -> Loss = 1.725276231765747 \n",
            "Epoch 80000 -> Loss = 2.199982166290283 \n",
            "Epoch 90000 -> Loss = 1.956186294555664 \n",
            "Epoch 100000 -> Loss = 2.2354495525360107 \n",
            "Epoch 110000 -> Loss = 2.257171392440796 \n",
            "Epoch 120000 -> Loss = 2.1773414611816406 \n",
            "Epoch 130000 -> Loss = 2.4197428226470947 \n",
            "Epoch 140000 -> Loss = 2.360724687576294 \n",
            "Epoch 150000 -> Loss = 1.8581172227859497 \n"
          ]
        }
      ]
    },
    {
      "cell_type": "markdown",
      "source": [
        "We need to apply same batchnorm to inference layer as well. However, the authors suggest to add a step at the end of training to get the mean and std of the entire training set and use these at inference time."
      ],
      "metadata": {
        "id": "Mqc5WeW1Y5-q"
      }
    },
    {
      "cell_type": "code",
      "source": [
        "with torch.no_grad(): # another way to tell pytorch to not calculate gradient \n",
        "  emb = C[X_train]\n",
        "  h0 = emb.view(emb.shape[0], -1) @ W1 + b1\n",
        "\n",
        "  bnmean = h0.mean(0, keepdim=True)\n",
        "  bnstd = h0.std(0, keepdim=True)"
      ],
      "metadata": {
        "id": "xhiXJ_z0bzTZ"
      },
      "execution_count": null,
      "outputs": []
    },
    {
      "cell_type": "markdown",
      "source": [
        "Use bnmean and bnstd during inference"
      ],
      "metadata": {
        "id": "hQInDI-ycWwl"
      }
    },
    {
      "cell_type": "code",
      "source": [
        "@torch.no_grad() # the decorator disables gradient tracking\n",
        "def split_loss(split):\n",
        "  '''Function returns split level loss'''\n",
        "  x, y = {\n",
        "      'train': (X_train, Y_train),\n",
        "      'val': (X_val, Y_val),\n",
        "      'test': (X_test, Y_test)\n",
        "  }[split]\n",
        "\n",
        "  emb = C[x]\n",
        "  embcat = emb.view(emb.shape[0], -1)\n",
        "\n",
        "  h0 = embcat @ W1 + b1\n",
        "  bn_h0 = bngain * (h0 - bnmean) / (bnstd) + bnbias\n",
        "  h = torch.tanh(bn_h0)\n",
        "  logits = h @ W2 + b2\n",
        "  loss = F.cross_entropy(logits, y)\n",
        "  print(split, loss.item())\n",
        "\n",
        "split_loss('train')\n",
        "split_loss('val')"
      ],
      "metadata": {
        "id": "-PoHBXCEaZdN"
      },
      "execution_count": null,
      "outputs": []
    },
    {
      "cell_type": "markdown",
      "source": [
        "One important thing to note about BatchNorm is that it couples a particular example in the batch with the remaining examples in the batch, since it augments the example using batch mean and std. As a second-hand effect, it sometimes can act as regularization and reduce dependence of the example on neighbouring examples. However, in order to remove this coupling, layernorm and instancenorm were introduced\n",
        "\n",
        "Another thing pointed out by the authors in order to avoid the extra step to get bn-mean and bn-std is to calculate what's called as running mean and std. This can be implemented during the training of the neural net and avoids an additional step after the completing the training."
      ],
      "metadata": {
        "id": "np89r9FLasdE"
      }
    },
    {
      "cell_type": "code",
      "source": [
        "n_embd = 10\n",
        "n_hidden = 200\n",
        "\n",
        "# First let re-initialize the params\n",
        "g = torch.Generator().manual_seed(10)\n",
        "C = torch.randn((vocab_size, n_embd), generator=g)\n",
        "W1 = torch.randn((n_embd * block_size, n_hidden), generator=g) * 0.1\n",
        "b1 = torch.randn(n_hidden, generator=g) * 0.01\n",
        "W2 = torch.randn((n_hidden, vocab_size), generator=g) * 0.01\n",
        "b2 = torch.randn(vocab_size, generator=g) * 0\n",
        "\n",
        "bngain = torch.ones((1, n_hidden))\n",
        "bnbias = torch.zeros((1, n_hidden))\n",
        "\n",
        "# Track running means and std\n",
        "bnmean_running = torch.zeros((1, n_hidden))\n",
        "bnstd_running = torch.ones((1, n_hidden))\n",
        "\n",
        "parameters = [C, W1, b1, W2, b2, bngain, bnbias]\n",
        "\n",
        "print('Total trainable parameters: ', sum(p.nelement() for p in parameters))\n",
        "\n",
        "# Make sure all the parameters support gradient and updates\n",
        "for p in parameters:\n",
        "  p.requires_grad = True\n",
        "\n",
        "batch_size = 32\n",
        "max_steps = 200000\n",
        "lossi = []\n",
        "\n",
        "\n",
        "for k in range(max_steps):\n",
        "\n",
        "  # Minibatch index\n",
        "  ix = torch.randint(0, X_train.shape[0], (batch_size,))\n",
        "\n",
        "\n",
        "  # Forward Pass\n",
        "  emb = C[X_train[ix]] # Shape -> (32, 3, 2)\n",
        "  h0 = emb.view(-1, n_embd * block_size) @ W1 + b1\n",
        "\n",
        "  # Add BatchNorm Layer\n",
        "  bnmeani = h0.mean(0, keepdims=True)\n",
        "  bnstdi = h0.std(0, keepdims=True)\n",
        "  bn_h0 = bngain * (h0 - bnmeani) / (bnstdi) + bnbias\n",
        "\n",
        "  # Since this step is not part of gradient optimization\n",
        "  # Rather something happening on the side, something independently\n",
        "  with torch.no_grad():\n",
        "    bnmean_running = 0.999 * bnmean_running + 0.001 * bnmeani\n",
        "    bnstd_running = 0.999 * bnstd_running + 0.001 * bnstdi\n",
        "\n",
        "  # Input to non-linearity becomes batch-normed\n",
        "  h = torch.tanh(bn_h0)\n",
        "\n",
        "  logits = h @ W2 + b2\n",
        "  loss = F.cross_entropy(logits, Y_train[ix]) # Need to update target dataset as well\n",
        "\n",
        "  if k%10000 == 0:\n",
        "    print(f'Epoch {k} -> Loss = {loss.item()} ')\n",
        "\n",
        "  # Backward pass\n",
        "  for p in parameters:\n",
        "    p.grad = None\n",
        "  loss.backward()\n",
        "\n",
        "  # Gradient Update\n",
        "  lr = 0.1 if k < 100000 else 0.01\n",
        "  for p in parameters:\n",
        "    p.data += -lr * p.grad\n",
        "\n",
        "  lossi.append(loss.log10().item())\n",
        "\n",
        "  # break"
      ],
      "metadata": {
        "id": "cllsnXTNbNEB"
      },
      "execution_count": null,
      "outputs": []
    },
    {
      "cell_type": "markdown",
      "source": [
        "Now, we can directly used running mean and std to get training and val statistics"
      ],
      "metadata": {
        "id": "Sq5NaCMgeJPg"
      }
    },
    {
      "cell_type": "code",
      "source": [
        "@torch.no_grad() # the decorator disables gradient tracking\n",
        "def split_loss(split):\n",
        "  '''Function returns split level loss'''\n",
        "  x, y = {\n",
        "      'train': (X_train, Y_train),\n",
        "      'val': (X_val, Y_val),\n",
        "      'test': (X_test, Y_test)\n",
        "  }[split]\n",
        "\n",
        "  emb = C[x]\n",
        "  embcat = emb.view(emb.shape[0], -1)\n",
        "\n",
        "  h0 = embcat @ W1 + b1\n",
        "  bn_h0 = bngain * (h0 - bnmean_running) / (bnstd_running) + bnbias\n",
        "  h = torch.tanh(bn_h0)\n",
        "  logits = h @ W2 + b2\n",
        "  loss = F.cross_entropy(logits, y)\n",
        "  print(split, loss.item())\n",
        "\n",
        "split_loss('train')\n",
        "split_loss('val')"
      ],
      "metadata": {
        "id": "wXRSIZhwcrlc"
      },
      "execution_count": null,
      "outputs": []
    },
    {
      "cell_type": "markdown",
      "source": [
        "Train and Validation Loss are fairly similar to ones gotten earlier using explicit calibration of mean and std"
      ],
      "metadata": {
        "id": "ShAFWfkseSR-"
      }
    },
    {
      "cell_type": "markdown",
      "source": [
        "#### Pytorch Implementation\n",
        "\n",
        "Let's Pytorch-ify the entire code above"
      ],
      "metadata": {
        "id": "PDlmdaXiewRp"
      }
    },
    {
      "cell_type": "code",
      "source": [
        "class Linear:\n",
        "\n",
        "  def __init__(self, fan_in, fan_out, bias=True):\n",
        "\n",
        "    self.weight = torch.randn((fan_in, fan_out), generator=g) / fan_in ** 0.5 # fan_in ** 0.5 comes from Kaiming init\n",
        "    self.bias = torch.zeros(fan_in) if bias else None\n",
        "\n",
        "  def __call__(self, x):\n",
        "    self.out = x @ self.weight\n",
        "\n",
        "    if self.bias is not None:\n",
        "      self.out += self.bias\n",
        "    \n",
        "    return self.out"
      ],
      "metadata": {
        "id": "WfofOPhhq73j"
      },
      "execution_count": null,
      "outputs": []
    }
  ]
}