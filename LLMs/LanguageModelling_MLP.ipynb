{
  "nbformat": 4,
  "nbformat_minor": 0,
  "metadata": {
    "colab": {
      "provenance": [],
      "authorship_tag": "ABX9TyO5EJCvGs4xrp6CVSDOOCi6"
    },
    "kernelspec": {
      "name": "python3",
      "display_name": "Python 3"
    },
    "language_info": {
      "name": "python"
    }
  },
  "cells": [
    {
      "cell_type": "markdown",
      "source": [
        "The notebook refers the work in this [Paper](https://www.jmlr.org/papers/volume3/bengio03a/bengio03a.pdf)"
      ],
      "metadata": {
        "id": "YBGYzQc6F-1D"
      }
    },
    {
      "cell_type": "code",
      "source": [
        "import torch\n",
        "import torch.nn.functional as F\n",
        "import matplotlib.pyplot as plt\n",
        "%matplotlib inline"
      ],
      "metadata": {
        "id": "5k1ekXFeEMWf"
      },
      "execution_count": 1,
      "outputs": []
    },
    {
      "cell_type": "code",
      "execution_count": 2,
      "metadata": {
        "colab": {
          "base_uri": "https://localhost:8080/"
        },
        "id": "_1LsWxRzCRPT",
        "outputId": "84e41e48-b807-4d5e-a38f-6ac37e7e9569"
      },
      "outputs": [
        {
          "output_type": "stream",
          "name": "stdout",
          "text": [
            "--2023-05-09 18:37:26--  https://raw.githubusercontent.com/suvigyajain0101/NLP/llms/LLMs/names.txt\n",
            "Resolving raw.githubusercontent.com (raw.githubusercontent.com)... 185.199.110.133, 185.199.109.133, 185.199.108.133, ...\n",
            "Connecting to raw.githubusercontent.com (raw.githubusercontent.com)|185.199.110.133|:443... connected.\n",
            "HTTP request sent, awaiting response... 200 OK\n",
            "Length: 228145 (223K) [text/plain]\n",
            "Saving to: ‘names.txt’\n",
            "\n",
            "\rnames.txt             0%[                    ]       0  --.-KB/s               \rnames.txt           100%[===================>] 222.80K  --.-KB/s    in 0.006s  \n",
            "\n",
            "2023-05-09 18:37:27 (34.4 MB/s) - ‘names.txt’ saved [228145/228145]\n",
            "\n"
          ]
        }
      ],
      "source": [
        "!wget https://raw.githubusercontent.com/suvigyajain0101/NLP/llms/LLMs/names.txt"
      ]
    },
    {
      "cell_type": "code",
      "source": [
        "words = open('names.txt').read().splitlines()\n",
        "words[0:10]"
      ],
      "metadata": {
        "colab": {
          "base_uri": "https://localhost:8080/"
        },
        "id": "E7SpoF0NCWhj",
        "outputId": "bb058f5d-8cb8-41ba-e731-a53676734a5f"
      },
      "execution_count": 3,
      "outputs": [
        {
          "output_type": "execute_result",
          "data": {
            "text/plain": [
              "['emma',\n",
              " 'olivia',\n",
              " 'ava',\n",
              " 'isabella',\n",
              " 'sophia',\n",
              " 'charlotte',\n",
              " 'mia',\n",
              " 'amelia',\n",
              " 'harper',\n",
              " 'evelyn']"
            ]
          },
          "metadata": {},
          "execution_count": 3
        }
      ]
    },
    {
      "cell_type": "code",
      "source": [
        "len(words)"
      ],
      "metadata": {
        "colab": {
          "base_uri": "https://localhost:8080/"
        },
        "id": "4_GFD1NPFNgv",
        "outputId": "13e8dc2a-0123-43d4-e1bb-8ba15112240a"
      },
      "execution_count": 4,
      "outputs": [
        {
          "output_type": "execute_result",
          "data": {
            "text/plain": [
              "32033"
            ]
          },
          "metadata": {},
          "execution_count": 4
        }
      ]
    },
    {
      "cell_type": "code",
      "source": [
        "# Build vocab of characters and mapping to and from integers\n",
        "chars = sorted(list(set(''.join(words))))\n",
        "assert len(chars) == 26\n",
        "\n",
        "stoi = {s:i+1 for i,s in enumerate(chars)}\n",
        "stoi['.'] = 0\n",
        "\n",
        "itos = {i:s for s,i in stoi.items()}\n",
        "\n",
        "print(stoi)\n",
        "print(itos)"
      ],
      "metadata": {
        "colab": {
          "base_uri": "https://localhost:8080/"
        },
        "id": "EHRK3o2kCY47",
        "outputId": "87ac57fe-2e80-4d2d-f370-077e77e1d632"
      },
      "execution_count": 5,
      "outputs": [
        {
          "output_type": "stream",
          "name": "stdout",
          "text": [
            "{'a': 1, 'b': 2, 'c': 3, 'd': 4, 'e': 5, 'f': 6, 'g': 7, 'h': 8, 'i': 9, 'j': 10, 'k': 11, 'l': 12, 'm': 13, 'n': 14, 'o': 15, 'p': 16, 'q': 17, 'r': 18, 's': 19, 't': 20, 'u': 21, 'v': 22, 'w': 23, 'x': 24, 'y': 25, 'z': 26, '.': 0}\n",
            "{1: 'a', 2: 'b', 3: 'c', 4: 'd', 5: 'e', 6: 'f', 7: 'g', 8: 'h', 9: 'i', 10: 'j', 11: 'k', 12: 'l', 13: 'm', 14: 'n', 15: 'o', 16: 'p', 17: 'q', 18: 'r', 19: 's', 20: 't', 21: 'u', 22: 'v', 23: 'w', 24: 'x', 25: 'y', 26: 'z', 0: '.'}\n"
          ]
        }
      ]
    },
    {
      "cell_type": "markdown",
      "source": [
        "### Data Preparation"
      ],
      "metadata": {
        "id": "nd5gE67FFy_u"
      }
    },
    {
      "cell_type": "code",
      "source": [
        "# Context Length - How many characters are used to predict the next one\n",
        "block_size = 3\n",
        "\n",
        "X, Y = [], []\n",
        "for w in words[0:5]:\n",
        "\n",
        "  print(w)\n",
        "  context = [0] * block_size\n",
        "  for ch in w + '.':\n",
        "    ix = stoi[ch]\n",
        "    X.append(context)\n",
        "    Y.append(ix)\n",
        "\n",
        "    print(''.join(itos[i] for i in context), '------>', itos[ix])\n",
        "\n",
        "    context = context[1:] + [ix]\n",
        "\n",
        "\n",
        "X = torch.tensor(X)\n",
        "Y = torch.tensor(Y)\n"
      ],
      "metadata": {
        "colab": {
          "base_uri": "https://localhost:8080/"
        },
        "id": "yZ0U3X5tGPdP",
        "outputId": "62bc61d2-2a9b-42c7-e24a-798cd02250d8"
      },
      "execution_count": 6,
      "outputs": [
        {
          "output_type": "stream",
          "name": "stdout",
          "text": [
            "emma\n",
            "... ------> e\n",
            "..e ------> m\n",
            ".em ------> m\n",
            "emm ------> a\n",
            "mma ------> .\n",
            "olivia\n",
            "... ------> o\n",
            "..o ------> l\n",
            ".ol ------> i\n",
            "oli ------> v\n",
            "liv ------> i\n",
            "ivi ------> a\n",
            "via ------> .\n",
            "ava\n",
            "... ------> a\n",
            "..a ------> v\n",
            ".av ------> a\n",
            "ava ------> .\n",
            "isabella\n",
            "... ------> i\n",
            "..i ------> s\n",
            ".is ------> a\n",
            "isa ------> b\n",
            "sab ------> e\n",
            "abe ------> l\n",
            "bel ------> l\n",
            "ell ------> a\n",
            "lla ------> .\n",
            "sophia\n",
            "... ------> s\n",
            "..s ------> o\n",
            ".so ------> p\n",
            "sop ------> h\n",
            "oph ------> i\n",
            "phi ------> a\n",
            "hia ------> .\n"
          ]
        }
      ]
    },
    {
      "cell_type": "code",
      "source": [
        "# Example data, label in the dataset\n",
        "print(X[1], Y[1])\n",
        "\n",
        "X.shape, X.dtype, Y.shape, Y.dtype"
      ],
      "metadata": {
        "colab": {
          "base_uri": "https://localhost:8080/"
        },
        "id": "iOgT4RWYJd8T",
        "outputId": "1dca5503-19d9-4170-d26f-88512f32f2d5"
      },
      "execution_count": 7,
      "outputs": [
        {
          "output_type": "stream",
          "name": "stdout",
          "text": [
            "tensor([0, 0, 5]) tensor(13)\n"
          ]
        },
        {
          "output_type": "execute_result",
          "data": {
            "text/plain": [
              "(torch.Size([32, 3]), torch.int64, torch.Size([32]), torch.int64)"
            ]
          },
          "metadata": {},
          "execution_count": 7
        }
      ]
    },
    {
      "cell_type": "markdown",
      "source": [
        "#### Embedding Matrix\n",
        "\n",
        "The awesomeness of Pytorch indexing!"
      ],
      "metadata": {
        "id": "bGVRWCuBKW0H"
      }
    },
    {
      "cell_type": "code",
      "source": [
        "# Let's assume we want to embed chars to 2 axes\n",
        "C = torch.randn((27, 2))"
      ],
      "metadata": {
        "id": "Nx_j7I0oL5Lm"
      },
      "execution_count": 8,
      "outputs": []
    },
    {
      "cell_type": "code",
      "source": [
        "# in order to get the element from C, we can use 2 approaches - \n",
        "# 1. Index the tensor, just like python list\n",
        "# 2. Matrix multiplication -> remember, one-hot matrix when multiplied with another matrix gives the row of interest\n",
        "# Obviously, it's much faster to just use indexing, and we'll park the idea of matrix multiplication for now\n",
        "C[5]"
      ],
      "metadata": {
        "colab": {
          "base_uri": "https://localhost:8080/"
        },
        "id": "BEZrWwhiMDT6",
        "outputId": "1ed56741-a32f-40ee-c248-a072822dd2fd"
      },
      "execution_count": 9,
      "outputs": [
        {
          "output_type": "execute_result",
          "data": {
            "text/plain": [
              "tensor([-0.9379, -1.6741])"
            ]
          },
          "metadata": {},
          "execution_count": 9
        }
      ]
    },
    {
      "cell_type": "code",
      "source": [
        "# But instead of 1 int, we need to index a matrix of shape (27, 2)\n",
        "# Turns out, Pytorch can take care of this\n",
        "C[X].shape"
      ],
      "metadata": {
        "colab": {
          "base_uri": "https://localhost:8080/"
        },
        "id": "tcXfA7TTMfpz",
        "outputId": "6a8612a7-e133-49bd-93f1-883ab78415e1"
      },
      "execution_count": 10,
      "outputs": [
        {
          "output_type": "execute_result",
          "data": {
            "text/plain": [
              "torch.Size([32, 3, 2])"
            ]
          },
          "metadata": {},
          "execution_count": 10
        }
      ]
    },
    {
      "cell_type": "markdown",
      "source": [
        "2 elements of the embedding matrix for every element (32, 3) of the input"
      ],
      "metadata": {
        "id": "y1oJNKooMyDI"
      }
    },
    {
      "cell_type": "code",
      "source": [
        "# We can verify\n",
        "\n",
        "test_output = C[X]\n",
        "\n",
        "test_row = 3\n",
        "print('input row: ', X[test_row])\n",
        "print('embedding matrix row: ', C[X[test_row]])\n",
        "print('Indexed row: ', test_output[test_row])"
      ],
      "metadata": {
        "colab": {
          "base_uri": "https://localhost:8080/"
        },
        "id": "_hsgz_aCM3z7",
        "outputId": "bc0b4f7e-5a6b-402c-a037-1e51ad18cece"
      },
      "execution_count": 11,
      "outputs": [
        {
          "output_type": "stream",
          "name": "stdout",
          "text": [
            "input row:  tensor([ 5, 13, 13])\n",
            "embedding matrix row:  tensor([[-0.9379, -1.6741],\n",
            "        [-0.9122, -0.3235],\n",
            "        [-0.9122, -0.3235]])\n",
            "Indexed row:  tensor([[-0.9379, -1.6741],\n",
            "        [-0.9122, -0.3235],\n",
            "        [-0.9122, -0.3235]])\n"
          ]
        }
      ]
    },
    {
      "cell_type": "markdown",
      "source": [
        "Matches perfectly!"
      ],
      "metadata": {
        "id": "gHl0z7ucNaT8"
      }
    },
    {
      "cell_type": "code",
      "source": [
        "emb = C[X]\n",
        "emb.shape"
      ],
      "metadata": {
        "colab": {
          "base_uri": "https://localhost:8080/"
        },
        "id": "a_5deiHANi8n",
        "outputId": "3f868b88-605d-4615-e149-e28dab9f6907"
      },
      "execution_count": 12,
      "outputs": [
        {
          "output_type": "execute_result",
          "data": {
            "text/plain": [
              "torch.Size([32, 3, 2])"
            ]
          },
          "metadata": {},
          "execution_count": 12
        }
      ]
    },
    {
      "cell_type": "markdown",
      "source": [
        "#### Hidden layer"
      ],
      "metadata": {
        "id": "P6t1QN2PNp9u"
      }
    },
    {
      "cell_type": "code",
      "source": [
        "W1 = torch.randn((6, 100))\n",
        "# 6 because for every context block of 3 chars, we have 2-dim embedding\n",
        "# 100 is a hyper-parameter\n",
        "\n",
        "b1 = torch.randn(100)"
      ],
      "metadata": {
        "id": "RqBn_OlGNytU"
      },
      "execution_count": 13,
      "outputs": []
    },
    {
      "cell_type": "code",
      "source": [
        "# In order to do emb @ W1 + b, we need to re-arrange the matrices\n",
        "# For now, these are not multipliable\n",
        "# There are multiple ways in Pytorch to do this"
      ],
      "metadata": {
        "id": "0_dWZrBsQ8lR"
      },
      "execution_count": 14,
      "outputs": []
    },
    {
      "cell_type": "code",
      "source": [
        "# 1. using cat\n",
        "torch.cat([emb[:, 0, :] , emb[:, 1, :] , emb[:, 2, :]], 1).shape\n",
        "\n",
        "# Need to update code everytime when block_size is changes"
      ],
      "metadata": {
        "colab": {
          "base_uri": "https://localhost:8080/"
        },
        "id": "bDxl_kyhQ97M",
        "outputId": "b883fcc7-b1a9-4a5c-ae31-524c2c480118"
      },
      "execution_count": 15,
      "outputs": [
        {
          "output_type": "execute_result",
          "data": {
            "text/plain": [
              "torch.Size([32, 6])"
            ]
          },
          "metadata": {},
          "execution_count": 15
        }
      ]
    },
    {
      "cell_type": "code",
      "source": [
        "# 2. using unbind\n",
        "torch.cat(torch.unbind(emb, 1), 1).shape\n",
        "\n",
        "# Costly, specially memory wise"
      ],
      "metadata": {
        "colab": {
          "base_uri": "https://localhost:8080/"
        },
        "id": "rExQ5LtpRxKr",
        "outputId": "a790a3ca-f8ab-4f31-ef4a-f61c2f36a342"
      },
      "execution_count": 16,
      "outputs": [
        {
          "output_type": "execute_result",
          "data": {
            "text/plain": [
              "torch.Size([32, 6])"
            ]
          },
          "metadata": {},
          "execution_count": 16
        }
      ]
    },
    {
      "cell_type": "code",
      "source": [
        "# 3. re-arranging using torch internals - update the view of the tensor\n",
        "emb.view(32, 6).shape\n",
        "\n",
        "# Fastest and cheapest method of doing this"
      ],
      "metadata": {
        "colab": {
          "base_uri": "https://localhost:8080/"
        },
        "id": "4oNwd6F5RxE7",
        "outputId": "1bb7a7ea-031a-4f28-9802-7626b68d6851"
      },
      "execution_count": 17,
      "outputs": [
        {
          "output_type": "execute_result",
          "data": {
            "text/plain": [
              "torch.Size([32, 6])"
            ]
          },
          "metadata": {},
          "execution_count": 17
        }
      ]
    },
    {
      "cell_type": "code",
      "source": [
        "# Verify if the results are correct\n",
        "# torch.all checks condition on all element of the tensor\n",
        "print(torch.all((torch.cat([emb[:, 0, :] , emb[:, 1, :] , emb[:, 2, :]], 1) == torch.cat(torch.unbind(emb, 1), 1)) == True))\n",
        "print(torch.all((torch.cat([emb[:, 0, :] , emb[:, 1, :] , emb[:, 2, :]], 1) == emb.view(32, 6)) == True))\n"
      ],
      "metadata": {
        "colab": {
          "base_uri": "https://localhost:8080/"
        },
        "id": "WgyX-zrdSixG",
        "outputId": "d4b9f789-488e-4bca-ba8d-f01abc4d8619"
      },
      "execution_count": 18,
      "outputs": [
        {
          "output_type": "stream",
          "name": "stdout",
          "text": [
            "tensor(True)\n",
            "tensor(True)\n"
          ]
        }
      ]
    },
    {
      "cell_type": "markdown",
      "source": [
        "Getting back to the hidden layer"
      ],
      "metadata": {
        "id": "AZOLX0oqTvcT"
      }
    },
    {
      "cell_type": "code",
      "source": [
        "h0 = emb.view(-1, 6) @ W1 + b1 # If -1, pytorch infers the dims\n",
        "h = torch.tanh(h0)\n",
        "\n",
        "h.shape"
      ],
      "metadata": {
        "colab": {
          "base_uri": "https://localhost:8080/"
        },
        "id": "yOKNHP-AT0nZ",
        "outputId": "134a7568-f51a-4ed5-fe1f-cbc233536cd7"
      },
      "execution_count": 19,
      "outputs": [
        {
          "output_type": "execute_result",
          "data": {
            "text/plain": [
              "torch.Size([32, 100])"
            ]
          },
          "metadata": {},
          "execution_count": 19
        }
      ]
    },
    {
      "cell_type": "markdown",
      "source": [
        "#### Softmax layer and Loss"
      ],
      "metadata": {
        "id": "4HV30MiLUjyU"
      }
    },
    {
      "cell_type": "code",
      "source": [
        "W2 = torch.randn((100, 27))\n",
        "b2 = torch.randn(27)"
      ],
      "metadata": {
        "id": "TQKsgpq-U__5"
      },
      "execution_count": 20,
      "outputs": []
    },
    {
      "cell_type": "code",
      "source": [
        "logits = h @ W2 + b2\n",
        "logits.shape"
      ],
      "metadata": {
        "colab": {
          "base_uri": "https://localhost:8080/"
        },
        "id": "qh9BJCuPVG9l",
        "outputId": "bea0aae8-7e93-43ea-d5d7-d846a65e0548"
      },
      "execution_count": 21,
      "outputs": [
        {
          "output_type": "execute_result",
          "data": {
            "text/plain": [
              "torch.Size([32, 27])"
            ]
          },
          "metadata": {},
          "execution_count": 21
        }
      ]
    },
    {
      "cell_type": "code",
      "source": [
        "counts = logits.exp()\n",
        "probs = counts / counts.sum(1, keepdims=True)\n",
        "\n",
        "# Notice the indexing of probs - we need to extract the probs at that particular Y index\n",
        "loss = -probs[torch.arange(32),Y].log().mean()\n",
        "loss"
      ],
      "metadata": {
        "colab": {
          "base_uri": "https://localhost:8080/"
        },
        "id": "-XBiyehbVO9q",
        "outputId": "72ba7efc-bc8d-4e2d-ec47-bc158a5b2360"
      },
      "execution_count": 22,
      "outputs": [
        {
          "output_type": "execute_result",
          "data": {
            "text/plain": [
              "tensor(16.9708)"
            ]
          },
          "metadata": {},
          "execution_count": 22
        }
      ]
    },
    {
      "cell_type": "code",
      "source": [
        "# The above is just for educational purpose and is rarely used in practice\n",
        "loss = F.cross_entropy(logits, Y)\n",
        "loss"
      ],
      "metadata": {
        "colab": {
          "base_uri": "https://localhost:8080/"
        },
        "id": "1SKG6QICYb6W",
        "outputId": "e28a1ec7-3f7c-4061-836e-aa9154776ebf"
      },
      "execution_count": 23,
      "outputs": [
        {
          "output_type": "execute_result",
          "data": {
            "text/plain": [
              "tensor(16.9708)"
            ]
          },
          "metadata": {},
          "execution_count": 23
        }
      ]
    },
    {
      "cell_type": "markdown",
      "source": [
        "Few reasons\n",
        "1. Efficient under-the-hood implementation. Pytorch won't create so many additional tensors and save on memory. Also, both forward and backward passes are much more efficient\n",
        "2. Exp overflow - When input increases in +ve direction, exp() tends to reach inf. Internally, Pytorch subtracts max of the input and avoids inf (since, [10,15,20,25] will have same output as [9,14,19,24])"
      ],
      "metadata": {
        "id": "jT6CPLLOYpTL"
      }
    },
    {
      "cell_type": "markdown",
      "source": [
        "#### Training Loop\n",
        "\n",
        "Putting it all together"
      ],
      "metadata": {
        "id": "tgOKBFCjV7GD"
      }
    },
    {
      "cell_type": "code",
      "source": [
        "X.shape, Y.shape"
      ],
      "metadata": {
        "colab": {
          "base_uri": "https://localhost:8080/"
        },
        "id": "dsfJRhDMV8YL",
        "outputId": "00a580ff-0201-4d4d-ee6b-71affb23cf19"
      },
      "execution_count": 24,
      "outputs": [
        {
          "output_type": "execute_result",
          "data": {
            "text/plain": [
              "(torch.Size([32, 3]), torch.Size([32]))"
            ]
          },
          "metadata": {},
          "execution_count": 24
        }
      ]
    },
    {
      "cell_type": "code",
      "source": [
        "g = torch.Generator().manual_seed(10)\n",
        "C = torch.randn((27, 2), generator=g)\n",
        "W1 = torch.randn((6, 100), generator=g)\n",
        "b1 = torch.randn(100, generator=g)\n",
        "W2 = torch.randn((100, 27), generator=g)\n",
        "b2 = torch.randn(27, generator=g)\n",
        "parameters = [C, W1, b1, W2, b2]"
      ],
      "metadata": {
        "id": "wQQHi3BzWpJt"
      },
      "execution_count": 25,
      "outputs": []
    },
    {
      "cell_type": "code",
      "source": [
        "print('Total trainable parameters: ', sum(p.nelement() for p in parameters))"
      ],
      "metadata": {
        "colab": {
          "base_uri": "https://localhost:8080/"
        },
        "id": "gzxxUKKzdv0p",
        "outputId": "b861bb4d-96ac-4031-f5e4-a68bd93090d7"
      },
      "execution_count": 26,
      "outputs": [
        {
          "output_type": "stream",
          "name": "stdout",
          "text": [
            "Total trainable parameters:  3481\n"
          ]
        }
      ]
    },
    {
      "cell_type": "code",
      "source": [
        "# Make sure all the parameters support gradient and updates\n",
        "for p in parameters:\n",
        "  p.requires_grad = True\n"
      ],
      "metadata": {
        "id": "bO1kWJ_2e8nL"
      },
      "execution_count": 27,
      "outputs": []
    },
    {
      "cell_type": "code",
      "source": [
        "for k in range(10):\n",
        "  # Forward Pass\n",
        "  emb = C[X]\n",
        "  h0 = emb.view(-1, 6) @ W1 + b1\n",
        "  h = torch.tanh(h0)\n",
        "  logits = h @ W2 + b2\n",
        "  loss = F.cross_entropy(logits, Y)\n",
        "  print(f'Epoch {k} -> Loss = {loss.item()} ')\n",
        "\n",
        "  # Backward pass\n",
        "  for p in parameters:\n",
        "    p.grad = None\n",
        "  loss.backward()\n",
        "\n",
        "  # Gradient Update\n",
        "  for p in parameters:\n",
        "    p.data += -0.1 * p.grad"
      ],
      "metadata": {
        "colab": {
          "base_uri": "https://localhost:8080/"
        },
        "id": "gRq19nqIeD3U",
        "outputId": "1efaf68f-0f9a-4118-8371-d8ae4583d078"
      },
      "execution_count": 28,
      "outputs": [
        {
          "output_type": "stream",
          "name": "stdout",
          "text": [
            "Epoch 0 -> Loss = 19.009180068969727 \n",
            "Epoch 1 -> Loss = 15.267385482788086 \n",
            "Epoch 2 -> Loss = 12.383593559265137 \n",
            "Epoch 3 -> Loss = 10.268889427185059 \n",
            "Epoch 4 -> Loss = 8.576563835144043 \n",
            "Epoch 5 -> Loss = 7.1071906089782715 \n",
            "Epoch 6 -> Loss = 5.814657688140869 \n",
            "Epoch 7 -> Loss = 4.639155387878418 \n",
            "Epoch 8 -> Loss = 3.6986703872680664 \n",
            "Epoch 9 -> Loss = 3.0502424240112305 \n"
          ]
        }
      ]
    },
    {
      "cell_type": "markdown",
      "source": [
        "#### On Complete dataset "
      ],
      "metadata": {
        "id": "cJbchfCdgMQK"
      }
    },
    {
      "cell_type": "code",
      "source": [
        "# Context Length - How many characters are used to predict the next one\n",
        "block_size = 3\n",
        "\n",
        "X, Y = [], []\n",
        "for w in words:\n",
        "  context = [0] * block_size\n",
        "  for ch in w + '.':\n",
        "    ix = stoi[ch]\n",
        "    X.append(context)\n",
        "    Y.append(ix)\n",
        "\n",
        "    context = context[1:] + [ix]\n",
        "\n",
        "X = torch.tensor(X)\n",
        "Y = torch.tensor(Y)\n",
        "\n",
        "X.shape, Y.shape"
      ],
      "metadata": {
        "colab": {
          "base_uri": "https://localhost:8080/"
        },
        "id": "rJaYVi5WgVmq",
        "outputId": "a32702c7-771e-4084-c3ac-e529d052c8f7"
      },
      "execution_count": 29,
      "outputs": [
        {
          "output_type": "execute_result",
          "data": {
            "text/plain": [
              "(torch.Size([228146, 3]), torch.Size([228146]))"
            ]
          },
          "metadata": {},
          "execution_count": 29
        }
      ]
    },
    {
      "cell_type": "code",
      "source": [
        "g = torch.Generator().manual_seed(10)\n",
        "C = torch.randn((27, 2), generator=g)\n",
        "W1 = torch.randn((6, 100), generator=g)\n",
        "b1 = torch.randn(100, generator=g)\n",
        "W2 = torch.randn((100, 27), generator=g)\n",
        "b2 = torch.randn(27, generator=g)\n",
        "parameters = [C, W1, b1, W2, b2]"
      ],
      "metadata": {
        "id": "-R9ANY9Fgc7Z"
      },
      "execution_count": 30,
      "outputs": []
    },
    {
      "cell_type": "code",
      "source": [
        "print('Total trainable parameters: ', sum(p.nelement() for p in parameters))"
      ],
      "metadata": {
        "colab": {
          "base_uri": "https://localhost:8080/"
        },
        "id": "D-U-uB4ZggQP",
        "outputId": "a9ca2c5d-44aa-47f9-9021-2c578cd5289a"
      },
      "execution_count": 31,
      "outputs": [
        {
          "output_type": "stream",
          "name": "stdout",
          "text": [
            "Total trainable parameters:  3481\n"
          ]
        }
      ]
    },
    {
      "cell_type": "code",
      "source": [
        "# Make sure all the parameters support gradient and updates\n",
        "for p in parameters:\n",
        "  p.requires_grad = True"
      ],
      "metadata": {
        "id": "DhURGNo1gh_j"
      },
      "execution_count": 32,
      "outputs": []
    },
    {
      "cell_type": "code",
      "source": [
        "# for k in range(1000):\n",
        "#   # Forward Pass\n",
        "#   emb = C[X]\n",
        "#   h0 = emb.view(-1, 6) @ W1 + b1\n",
        "#   h = torch.tanh(h0)\n",
        "#   logits = h @ W2 + b2\n",
        "#   loss = F.cross_entropy(logits, Y)\n",
        "\n",
        "#   if k%100 == 0:\n",
        "#     print(f'Epoch {k} -> Loss = {loss.item()} ')\n",
        "\n",
        "#   # Backward pass\n",
        "#   for p in parameters:\n",
        "#     p.grad = None\n",
        "#   loss.backward()\n",
        "\n",
        "#   # Gradient Update\n",
        "#   for p in parameters:\n",
        "#     p.data += -0.1 * p.grad"
      ],
      "metadata": {
        "id": "4fAUbHLCgje2"
      },
      "execution_count": 33,
      "outputs": []
    },
    {
      "cell_type": "markdown",
      "source": [
        " #### Minibatch\n",
        "\n",
        " Instead of training on the entire 200K words, we can achieve similar loss using minibatches of the data"
      ],
      "metadata": {
        "id": "ujXrOK1lg8Z5"
      }
    },
    {
      "cell_type": "code",
      "source": [
        "for k in range(1000):\n",
        "\n",
        "  # Minibatch index\n",
        "  ix = torch.randint(0, X.shape[0], (32,))\n",
        "\n",
        "\n",
        "  # Forward Pass\n",
        "  emb = C[X[ix]] # Shape -> (32, 3, 2)\n",
        "  h0 = emb.view(-1, 6) @ W1 + b1\n",
        "  h = torch.tanh(h0)\n",
        "  logits = h @ W2 + b2\n",
        "  loss = F.cross_entropy(logits, Y[ix]) # Need to update target dataset as well\n",
        "\n",
        "  if k%100 == 0:\n",
        "    print(f'Epoch {k} -> Loss = {loss.item()} ')\n",
        "\n",
        "  # Backward pass\n",
        "  for p in parameters:\n",
        "    p.grad = None\n",
        "  loss.backward()\n",
        "\n",
        "  # Gradient Update\n",
        "  for p in parameters:\n",
        "    p.data += -0.1 * p.grad\n",
        "\n",
        "print('Final Loss: ', loss.item())"
      ],
      "metadata": {
        "colab": {
          "base_uri": "https://localhost:8080/"
        },
        "id": "W9Spw9JzdP7s",
        "outputId": "8c18a109-ad92-4f3a-b984-e31dc5183464"
      },
      "execution_count": 34,
      "outputs": [
        {
          "output_type": "stream",
          "name": "stdout",
          "text": [
            "Epoch 0 -> Loss = 21.69718360900879 \n",
            "Epoch 100 -> Loss = 4.4625244140625 \n",
            "Epoch 200 -> Loss = 2.875627040863037 \n",
            "Epoch 300 -> Loss = 2.5503344535827637 \n",
            "Epoch 400 -> Loss = 2.8963143825531006 \n",
            "Epoch 500 -> Loss = 2.643145799636841 \n",
            "Epoch 600 -> Loss = 2.7657246589660645 \n",
            "Epoch 700 -> Loss = 2.3965532779693604 \n",
            "Epoch 800 -> Loss = 2.992952346801758 \n",
            "Epoch 900 -> Loss = 2.6148929595947266 \n",
            "Final Loss:  2.576970338821411\n"
          ]
        }
      ]
    },
    {
      "cell_type": "markdown",
      "source": [
        "That was extremely fast!"
      ],
      "metadata": {
        "id": "9eIO9ug9eEnW"
      }
    },
    {
      "cell_type": "markdown",
      "source": [
        "#### Learning Rate Selection"
      ],
      "metadata": {
        "id": "oJ_oubDCeHkT"
      }
    },
    {
      "cell_type": "code",
      "source": [
        "# First let re-initialize the params\n",
        "g = torch.Generator().manual_seed(10)\n",
        "C = torch.randn((27, 2), generator=g)\n",
        "W1 = torch.randn((6, 100), generator=g)\n",
        "b1 = torch.randn(100, generator=g)\n",
        "W2 = torch.randn((100, 27), generator=g)\n",
        "b2 = torch.randn(27, generator=g)\n",
        "parameters = [C, W1, b1, W2, b2]\n",
        "\n",
        "print('Total trainable parameters: ', sum(p.nelement() for p in parameters))\n",
        "\n",
        "# Make sure all the parameters support gradient and updates\n",
        "for p in parameters:\n",
        "  p.requires_grad = True"
      ],
      "metadata": {
        "colab": {
          "base_uri": "https://localhost:8080/"
        },
        "id": "ZiZ4oxJ0fOjp",
        "outputId": "e79964e3-22ed-4d23-b73d-8e3671a5be7c"
      },
      "execution_count": 35,
      "outputs": [
        {
          "output_type": "stream",
          "name": "stdout",
          "text": [
            "Total trainable parameters:  3481\n"
          ]
        }
      ]
    },
    {
      "cell_type": "code",
      "source": [
        "lre = torch.linspace(-3, 0, 1000)\n",
        "lrs = 10**lre "
      ],
      "metadata": {
        "id": "c66GZkMQflLm"
      },
      "execution_count": 36,
      "outputs": []
    },
    {
      "cell_type": "markdown",
      "source": [
        "So, we start with 0.001 (10\\*\\*-3) and end at 1 (10**0)"
      ],
      "metadata": {
        "id": "B8NWtdERfuih"
      }
    },
    {
      "cell_type": "code",
      "source": [
        "lri, lossi = [], []\n",
        "for k in range(1000):\n",
        "\n",
        "  # Minibatch index\n",
        "  ix = torch.randint(0, X.shape[0], (32,))\n",
        "\n",
        "\n",
        "  # Forward Pass\n",
        "  emb = C[X[ix]] # Shape -> (32, 3, 2)\n",
        "  h0 = emb.view(-1, 6) @ W1 + b1\n",
        "  h = torch.tanh(h0)\n",
        "  logits = h @ W2 + b2\n",
        "  loss = F.cross_entropy(logits, Y[ix]) # Need to update target dataset as well\n",
        "\n",
        "  if k%100 == 0:\n",
        "    print(f'Epoch {k} -> Loss = {loss.item()} ')\n",
        "\n",
        "  # Backward pass\n",
        "  for p in parameters:\n",
        "    p.grad = None\n",
        "  loss.backward()\n",
        "\n",
        "  # Gradient Update\n",
        "  lr = lrs[k]\n",
        "  for p in parameters:\n",
        "    p.data += -lr * p.grad\n",
        "\n",
        "  lri.append(lr)\n",
        "  lossi.append(loss.item())"
      ],
      "metadata": {
        "colab": {
          "base_uri": "https://localhost:8080/"
        },
        "id": "8QqW3t3Sf6Lx",
        "outputId": "2d1361ed-d9dc-49bd-fa2b-84ec7f4401b2"
      },
      "execution_count": 37,
      "outputs": [
        {
          "output_type": "stream",
          "name": "stdout",
          "text": [
            "Epoch 0 -> Loss = 17.923349380493164 \n",
            "Epoch 100 -> Loss = 16.44769287109375 \n",
            "Epoch 200 -> Loss = 11.367303848266602 \n",
            "Epoch 300 -> Loss = 11.506475448608398 \n",
            "Epoch 400 -> Loss = 7.6170525550842285 \n",
            "Epoch 500 -> Loss = 4.692500114440918 \n",
            "Epoch 600 -> Loss = 2.959458589553833 \n",
            "Epoch 700 -> Loss = 3.830418825149536 \n",
            "Epoch 800 -> Loss = 3.833148956298828 \n",
            "Epoch 900 -> Loss = 5.562075614929199 \n"
          ]
        }
      ]
    },
    {
      "cell_type": "code",
      "source": [
        "plt.plot(lre, lossi)"
      ],
      "metadata": {
        "colab": {
          "base_uri": "https://localhost:8080/",
          "height": 447
        },
        "id": "fc8wJuOngMcx",
        "outputId": "00277795-bafb-41ba-d10c-aa1e25e7c77d"
      },
      "execution_count": 38,
      "outputs": [
        {
          "output_type": "execute_result",
          "data": {
            "text/plain": [
              "[<matplotlib.lines.Line2D at 0x7f4a64fa9b40>]"
            ]
          },
          "metadata": {},
          "execution_count": 38
        },
        {
          "output_type": "display_data",
          "data": {
            "text/plain": [
              "<Figure size 640x480 with 1 Axes>"
            ],
            "image/png": "[encoded data removed]"
          },
          "metadata": {}
        }
      ]
    },
    {
      "cell_type": "markdown",
      "source": [
        "So, we can see a good learning rate for the problem lies somewhere in the valley between -1.0 and -0.5"
      ],
      "metadata": {
        "id": "5gNnMBeYgTNj"
      }
    },
    {
      "cell_type": "markdown",
      "source": [
        "#### Train-Dev-Test Split"
      ],
      "metadata": {
        "id": "uarISsoMgmi3"
      }
    },
    {
      "cell_type": "code",
      "source": [
        "import random\n",
        "\n",
        "def build_dataset(words):\n",
        "  block_size = 3\n",
        "  X, Y = [], []\n",
        "\n",
        "  for w in words:\n",
        "    context = [0]*block_size\n",
        "    for ch in w + '.':\n",
        "      ix = stoi[ch]\n",
        "      X.append(context)\n",
        "      Y.append(ix)\n",
        "\n",
        "      context = context[1:] + [ix]\n",
        "\n",
        "  X = torch.tensor(X)\n",
        "  Y = torch.tensor(Y)\n",
        "  print(X.shape, Y.shape)\n",
        "\n",
        "  return X, Y\n",
        "\n",
        "# Random shuffle of words\n",
        "random.seed(42)\n",
        "random.shuffle(words)\n",
        "# Training data -> 80%, Val data -> 10%, testing data -> 10%\n",
        "n1 = int(0.8*len(words))\n",
        "n2 = int(0.9*len(words))\n",
        "\n",
        "X_train, Y_train = build_dataset(words[:n1])\n",
        "X_val, Y_val = build_dataset(words[n1:n2])\n",
        "X_test, Y_test = build_dataset(words[n2:])\n",
        "\n",
        "print('Training Data Size: ', len(X_train))\n",
        "print('Validation Data Size: ', len(X_val))\n",
        "print('Testing Data Size: ', len(X_test))"
      ],
      "metadata": {
        "colab": {
          "base_uri": "https://localhost:8080/"
        },
        "id": "2_dDM60chpCi",
        "outputId": "92a989e1-8c8a-4d94-cc33-161ce8e984af"
      },
      "execution_count": 39,
      "outputs": [
        {
          "output_type": "stream",
          "name": "stdout",
          "text": [
            "torch.Size([182625, 3]) torch.Size([182625])\n",
            "torch.Size([22655, 3]) torch.Size([22655])\n",
            "torch.Size([22866, 3]) torch.Size([22866])\n",
            "Training Data Size:  182625\n",
            "Validation Data Size:  22655\n",
            "Testing Data Size:  22866\n"
          ]
        }
      ]
    },
    {
      "cell_type": "code",
      "source": [
        "# First let re-initialize the params\n",
        "g = torch.Generator().manual_seed(10)\n",
        "C = torch.randn((27, 2), generator=g)\n",
        "W1 = torch.randn((6, 100), generator=g)\n",
        "b1 = torch.randn(100, generator=g)\n",
        "W2 = torch.randn((100, 27), generator=g)\n",
        "b2 = torch.randn(27, generator=g)\n",
        "parameters = [C, W1, b1, W2, b2]\n",
        "\n",
        "print('Total trainable parameters: ', sum(p.nelement() for p in parameters))\n",
        "\n",
        "# Make sure all the parameters support gradient and updates\n",
        "for p in parameters:\n",
        "  p.requires_grad = True"
      ],
      "metadata": {
        "colab": {
          "base_uri": "https://localhost:8080/"
        },
        "id": "WS0kHyJOklrg",
        "outputId": "ce92a794-4da5-4ced-dd9b-16bf3108edce"
      },
      "execution_count": 40,
      "outputs": [
        {
          "output_type": "stream",
          "name": "stdout",
          "text": [
            "Total trainable parameters:  3481\n"
          ]
        }
      ]
    },
    {
      "cell_type": "code",
      "source": [
        "for k in range(10000):\n",
        "\n",
        "  # Minibatch index\n",
        "  ix = torch.randint(0, X_train.shape[0], (32,))\n",
        "\n",
        "\n",
        "  # Forward Pass\n",
        "  emb = C[X_train[ix]] # Shape -> (32, 3, 2)\n",
        "  h0 = emb.view(-1, 6) @ W1 + b1\n",
        "  h = torch.tanh(h0)\n",
        "  logits = h @ W2 + b2\n",
        "  loss = F.cross_entropy(logits, Y_train[ix]) # Need to update target dataset as well\n",
        "\n",
        "  if k%1000 == 0:\n",
        "    print(f'Epoch {k} -> Loss = {loss.item()} ')\n",
        "\n",
        "  # Backward pass\n",
        "  for p in parameters:\n",
        "    p.grad = None\n",
        "  loss.backward()\n",
        "\n",
        "  # Gradient Update\n",
        "  lr = 0.1\n",
        "  for p in parameters:\n",
        "    p.data += -lr * p.grad"
      ],
      "metadata": {
        "colab": {
          "base_uri": "https://localhost:8080/"
        },
        "id": "VIW7UctHk18l",
        "outputId": "8aa280b6-b8a6-4a67-c377-92087285bc1d"
      },
      "execution_count": 41,
      "outputs": [
        {
          "output_type": "stream",
          "name": "stdout",
          "text": [
            "Epoch 0 -> Loss = 20.275251388549805 \n",
            "Epoch 1000 -> Loss = 2.6852893829345703 \n",
            "Epoch 2000 -> Loss = 3.4576807022094727 \n",
            "Epoch 3000 -> Loss = 2.7990190982818604 \n",
            "Epoch 4000 -> Loss = 2.544269561767578 \n",
            "Epoch 5000 -> Loss = 2.5461010932922363 \n",
            "Epoch 6000 -> Loss = 2.201005458831787 \n",
            "Epoch 7000 -> Loss = 2.552159309387207 \n",
            "Epoch 8000 -> Loss = 2.180569648742676 \n",
            "Epoch 9000 -> Loss = 2.436012029647827 \n"
          ]
        }
      ]
    },
    {
      "cell_type": "code",
      "source": [
        "# Evaluation\n",
        "\n",
        "emb = C[X_val] # Shape -> (32, 3, 2)\n",
        "h0 = emb.view(-1, 6) @ W1 + b1\n",
        "h = torch.tanh(h0)\n",
        "logits = h @ W2 + b2\n",
        "loss = F.cross_entropy(logits, Y_val)\n",
        "print('Validation Loss: ', loss.item())"
      ],
      "metadata": {
        "colab": {
          "base_uri": "https://localhost:8080/"
        },
        "id": "PBSndH0qlOxf",
        "outputId": "2bc3df29-44db-43ce-9883-947ea1921140"
      },
      "execution_count": 42,
      "outputs": [
        {
          "output_type": "stream",
          "name": "stdout",
          "text": [
            "Validation Loss:  2.5122101306915283\n"
          ]
        }
      ]
    },
    {
      "cell_type": "markdown",
      "source": [
        "Training and Validation are similar, which means we have not yet overfitted the model and some scope for learning is still there"
      ],
      "metadata": {
        "id": "sO20V9Zfl8nk"
      }
    },
    {
      "cell_type": "markdown",
      "source": [
        "#### Experiment - Hidden Layer\n",
        "\n",
        "Let's increase the number of neurons in hidden layer"
      ],
      "metadata": {
        "id": "bi1WlYWimGk5"
      }
    },
    {
      "cell_type": "code",
      "source": [
        "# First let re-initialize the params\n",
        "g = torch.Generator().manual_seed(10)\n",
        "C = torch.randn((27, 2), generator=g)\n",
        "W1 = torch.randn((6, 300), generator=g)\n",
        "b1 = torch.randn(300, generator=g)\n",
        "W2 = torch.randn((300, 27), generator=g)\n",
        "b2 = torch.randn(27, generator=g)\n",
        "parameters = [C, W1, b1, W2, b2]\n",
        "\n",
        "print('Total trainable parameters: ', sum(p.nelement() for p in parameters))\n",
        "\n",
        "# Make sure all the parameters support gradient and updates\n",
        "for p in parameters:\n",
        "  p.requires_grad = True\n",
        "\n",
        "# Training\n",
        "for k in range(10000):\n",
        "\n",
        "  # Minibatch index\n",
        "  ix = torch.randint(0, X_train.shape[0], (32,))\n",
        "\n",
        "\n",
        "  # Forward Pass\n",
        "  emb = C[X_train[ix]] # Shape -> (32, 3, 2)\n",
        "  h0 = emb.view(-1, 6) @ W1 + b1\n",
        "  h = torch.tanh(h0)\n",
        "  logits = h @ W2 + b2\n",
        "  loss = F.cross_entropy(logits, Y_train[ix]) # Need to update target dataset as well\n",
        "\n",
        "  if k%1000 == 0:\n",
        "    print(f'Epoch {k} -> Loss = {loss.item()} ')\n",
        "\n",
        "  # Backward pass\n",
        "  for p in parameters:\n",
        "    p.grad = None\n",
        "  loss.backward()\n",
        "\n",
        "  # Gradient Update\n",
        "  lr = 0.1\n",
        "  for p in parameters:\n",
        "    p.data += -lr * p.grad\n",
        "\n",
        "print('Training Loss: ', loss.item())\n",
        "\n",
        "# Evaluation\n",
        "emb = C[X_val] # Shape -> (32, 3, 2)\n",
        "h0 = emb.view(-1, 6) @ W1 + b1\n",
        "h = torch.tanh(h0)\n",
        "logits = h @ W2 + b2\n",
        "loss = F.cross_entropy(logits, Y_val)\n",
        "print('Validation Loss: ', loss.item())"
      ],
      "metadata": {
        "colab": {
          "base_uri": "https://localhost:8080/"
        },
        "id": "wFR7MTChmJf6",
        "outputId": "c91b3080-be6c-484d-a3c7-83933e99b851"
      },
      "execution_count": 43,
      "outputs": [
        {
          "output_type": "stream",
          "name": "stdout",
          "text": [
            "Total trainable parameters:  10281\n",
            "Epoch 0 -> Loss = 28.52916717529297 \n",
            "Epoch 1000 -> Loss = 4.219262599945068 \n",
            "Epoch 2000 -> Loss = 2.827702522277832 \n",
            "Epoch 3000 -> Loss = 2.7207250595092773 \n",
            "Epoch 4000 -> Loss = 3.2734906673431396 \n",
            "Epoch 5000 -> Loss = 2.7940216064453125 \n",
            "Epoch 6000 -> Loss = 2.834831476211548 \n",
            "Epoch 7000 -> Loss = 2.8743271827697754 \n",
            "Epoch 8000 -> Loss = 2.761564254760742 \n",
            "Epoch 9000 -> Loss = 2.817294120788574 \n",
            "Training Loss:  2.4859063625335693\n",
            "Validation Loss:  2.621257781982422\n"
          ]
        }
      ]
    },
    {
      "cell_type": "markdown",
      "source": [
        "Even though we made the network much larger (from 3K params to 10K params), we are still not getting much improvement. One reason might be the embeddings. We might be cramming too much info in just 2-dims"
      ],
      "metadata": {
        "id": "kQmq4CVAniL0"
      }
    },
    {
      "cell_type": "markdown",
      "source": [
        "#### Visualize Embedding Layer"
      ],
      "metadata": {
        "id": "TH5t_Ni0oDSV"
      }
    },
    {
      "cell_type": "code",
      "source": [
        "plt.scatter(C[:,0].data, C[:,1].data, s=200)\n",
        "\n",
        "for i in range(C.shape[0]):\n",
        "  plt.text(C[i,0].item(), C[i,1].item(), itos[i], ha='center', va='center', color='white')\n",
        "plt.grid('minor')"
      ],
      "metadata": {
        "colab": {
          "base_uri": "https://localhost:8080/",
          "height": 430
        },
        "id": "r7rq0dJZoP1u",
        "outputId": "2318350c-41da-46ba-f3ac-0ddfd6facfb3"
      },
      "execution_count": 44,
      "outputs": [
        {
          "output_type": "display_data",
          "data": {
            "text/plain": [
              "<Figure size 640x480 with 1 Axes>"
            ],
            "image/png": "[encoded data removed]"
          },
          "metadata": {}
        }
      ]
    },
    {
      "cell_type": "markdown",
      "source": [
        "Notice how the model has assigned some structure to data - \n",
        "\n",
        "1. All the vowels seem closer to each other, and hence treated similarly by the model\n",
        "2. Characters occuring frequently (both consonants and vowels) seem closer to each other\n",
        "3. Some characters are outliers in the data - 'y', 'c', '.', which seems right\n",
        "\n",
        "Still, 2-dims looks like a small embedding size and we can experiment on a higher embedding dim"
      ],
      "metadata": {
        "id": "M3OOf7fLqXCz"
      }
    },
    {
      "cell_type": "markdown",
      "source": [
        "#### Experiment - Higher Embedding Dimesion\n",
        "Let's increase the embedding dim to 10"
      ],
      "metadata": {
        "id": "kGue4RcqrC9e"
      }
    },
    {
      "cell_type": "code",
      "source": [
        "# First let re-initialize the params\n",
        "g = torch.Generator().manual_seed(10)\n",
        "C = torch.randn((27, 10), generator=g)\n",
        "W1 = torch.randn((30, 300), generator=g)\n",
        "b1 = torch.randn(300, generator=g)\n",
        "W2 = torch.randn((300, 27), generator=g)\n",
        "b2 = torch.randn(27, generator=g)\n",
        "parameters = [C, W1, b1, W2, b2]\n",
        "\n",
        "print('Total trainable parameters: ', sum(p.nelement() for p in parameters))\n",
        "\n",
        "# Make sure all the parameters support gradient and updates\n",
        "for p in parameters:\n",
        "  p.requires_grad = True\n",
        "\n",
        "# Stats\n",
        "lri, lossi, stepi = [], [], []\n",
        "\n",
        "# Training\n",
        "for k in range(10000):\n",
        "\n",
        "  # Minibatch index\n",
        "  ix = torch.randint(0, X_train.shape[0], (32,))\n",
        "\n",
        "\n",
        "  # Forward Pass\n",
        "  emb = C[X_train[ix]] # Shape -> (32, 3, 2)\n",
        "  h0 = emb.view(-1, 30) @ W1 + b1\n",
        "  h = torch.tanh(h0)\n",
        "  logits = h @ W2 + b2\n",
        "  loss = F.cross_entropy(logits, Y_train[ix]) # Need to update target dataset as well\n",
        "\n",
        "  if k%1000 == 0:\n",
        "    print(f'Epoch {k} -> Loss = {loss.item()} ')\n",
        "\n",
        "  # Backward pass\n",
        "  for p in parameters:\n",
        "    p.grad = None\n",
        "  loss.backward()\n",
        "\n",
        "  # Gradient Update\n",
        "  lr = 0.1\n",
        "  for p in parameters:\n",
        "    p.data += -lr * p.grad\n",
        "\n",
        "  # Track stats\n",
        "  stepi.append(k)\n",
        "  lossi.append(loss.log10().item())\n",
        "\n",
        "print('Training Loss: ', loss.item())\n",
        "\n",
        "# Evaluation\n",
        "emb = C[X_val] # Shape -> (32, 3, 2)\n",
        "h0 = emb.view(-1, 30) @ W1 + b1\n",
        "h = torch.tanh(h0)\n",
        "logits = h @ W2 + b2\n",
        "loss = F.cross_entropy(logits, Y_val)\n",
        "print('Validation Loss: ', loss.item())\n",
        "\n",
        "plt.plot(stepi, lossi);"
      ],
      "metadata": {
        "colab": {
          "base_uri": "https://localhost:8080/",
          "height": 656
        },
        "id": "v6wClAvZrGqi",
        "outputId": "424082cb-42d4-4ae7-ac48-a4910f93d65f"
      },
      "execution_count": 45,
      "outputs": [
        {
          "output_type": "stream",
          "name": "stdout",
          "text": [
            "Total trainable parameters:  17697\n",
            "Epoch 0 -> Loss = 31.712202072143555 \n",
            "Epoch 1000 -> Loss = 4.7493720054626465 \n",
            "Epoch 2000 -> Loss = 3.7420101165771484 \n",
            "Epoch 3000 -> Loss = 3.9226419925689697 \n",
            "Epoch 4000 -> Loss = 3.589858293533325 \n",
            "Epoch 5000 -> Loss = 2.17075252532959 \n",
            "Epoch 6000 -> Loss = 3.7344181537628174 \n",
            "Epoch 7000 -> Loss = 3.0695388317108154 \n",
            "Epoch 8000 -> Loss = 2.372323513031006 \n",
            "Epoch 9000 -> Loss = 2.89108943939209 \n",
            "Training Loss:  2.690883159637451\n",
            "Validation Loss:  2.7935779094696045\n"
          ]
        },
        {
          "output_type": "display_data",
          "data": {
            "text/plain": [
              "<Figure size 640x480 with 1 Axes>"
            ],
            "image/png": "[encoded data removed]"
          },
          "metadata": {}
        }
      ]
    },
    {
      "cell_type": "markdown",
      "source": [
        "#### Experiment - Increasing epochs along with LR decay\n",
        "For first 100000 iterations, use LR = 0.1 and for next 100000, use LR = 0.01"
      ],
      "metadata": {
        "id": "By3sN5j5sPjk"
      }
    },
    {
      "cell_type": "code",
      "source": [
        "# First let re-initialize the params\n",
        "g = torch.Generator().manual_seed(10)\n",
        "C = torch.randn((27, 10), generator=g)\n",
        "W1 = torch.randn((30, 300), generator=g)\n",
        "b1 = torch.randn(300, generator=g)\n",
        "W2 = torch.randn((300, 27), generator=g)\n",
        "b2 = torch.randn(27, generator=g)\n",
        "parameters = [C, W1, b1, W2, b2]\n",
        "\n",
        "print('Total trainable parameters: ', sum(p.nelement() for p in parameters))\n",
        "\n",
        "# Make sure all the parameters support gradient and updates\n",
        "for p in parameters:\n",
        "  p.requires_grad = True\n",
        "\n",
        "# Training\n",
        "for k in range(200000):\n",
        "\n",
        "  # Minibatch index\n",
        "  ix = torch.randint(0, X_train.shape[0], (32,))\n",
        "\n",
        "\n",
        "  # Forward Pass\n",
        "  emb = C[X_train[ix]] # Shape -> (32, 3, 2)\n",
        "  h0 = emb.view(-1, 30) @ W1 + b1\n",
        "  h = torch.tanh(h0)\n",
        "  logits = h @ W2 + b2\n",
        "  loss = F.cross_entropy(logits, Y_train[ix]) # Need to update target dataset as well\n",
        "\n",
        "  if k%10000 == 0:\n",
        "    print(f'Epoch {k} -> Loss = {loss.item()} ')\n",
        "\n",
        "  # Backward pass\n",
        "  for p in parameters:\n",
        "    p.grad = None\n",
        "  loss.backward()\n",
        "\n",
        "  # Gradient Update\n",
        "  lr = 0.1 if k < 100000 else 0.01\n",
        "  for p in parameters:\n",
        "    p.data += -lr * p.grad\n",
        "\n",
        "print('Training Loss: ', loss.item())\n",
        "\n",
        "# Evaluation\n",
        "emb = C[X_val] # Shape -> (32, 3, 2)\n",
        "h0 = emb.view(-1, 30) @ W1 + b1\n",
        "h = torch.tanh(h0)\n",
        "logits = h @ W2 + b2\n",
        "loss = F.cross_entropy(logits, Y_val)\n",
        "print('Validation Loss: ', loss.item())\n",
        "\n",
        "plt.plot(stepi, lossi);"
      ],
      "metadata": {
        "colab": {
          "base_uri": "https://localhost:8080/",
          "height": 829
        },
        "id": "7hxOLVXtsUeR",
        "outputId": "e5ca6e13-c8b1-4abe-97e5-95991456d525"
      },
      "execution_count": 46,
      "outputs": [
        {
          "output_type": "stream",
          "name": "stdout",
          "text": [
            "Total trainable parameters:  17697\n",
            "Epoch 0 -> Loss = 35.9210205078125 \n",
            "Epoch 10000 -> Loss = 2.9401583671569824 \n",
            "Epoch 20000 -> Loss = 2.749284029006958 \n",
            "Epoch 30000 -> Loss = 2.3565049171447754 \n",
            "Epoch 40000 -> Loss = 2.6135480403900146 \n",
            "Epoch 50000 -> Loss = 2.3306376934051514 \n",
            "Epoch 60000 -> Loss = 3.108961582183838 \n",
            "Epoch 70000 -> Loss = 2.339489698410034 \n",
            "Epoch 80000 -> Loss = 1.9952009916305542 \n",
            "Epoch 90000 -> Loss = 2.2999043464660645 \n",
            "Epoch 100000 -> Loss = 2.6256566047668457 \n",
            "Epoch 110000 -> Loss = 1.8069427013397217 \n",
            "Epoch 120000 -> Loss = 2.4286556243896484 \n",
            "Epoch 130000 -> Loss = 2.4273951053619385 \n",
            "Epoch 140000 -> Loss = 1.7458311319351196 \n",
            "Epoch 150000 -> Loss = 2.115898609161377 \n",
            "Epoch 160000 -> Loss = 2.3172519207000732 \n",
            "Epoch 170000 -> Loss = 1.812867283821106 \n",
            "Epoch 180000 -> Loss = 2.1381449699401855 \n",
            "Epoch 190000 -> Loss = 2.285875082015991 \n",
            "Training Loss:  2.5079050064086914\n",
            "Validation Loss:  2.169656276702881\n"
          ]
        },
        {
          "output_type": "display_data",
          "data": {
            "text/plain": [
              "<Figure size 640x480 with 1 Axes>"
            ],
            "image/png": "[encoded data removed]"
          },
          "metadata": {}
        }
      ]
    },
    {
      "cell_type": "markdown",
      "source": [
        "That's a huge improvement on previous experiments as well as the bigram model.\n",
        "\n",
        "But the difference in training and validation accuracy suggest that model might have started over-fitting"
      ],
      "metadata": {
        "id": "XMZjFUMusWh3"
      }
    },
    {
      "cell_type": "markdown",
      "source": [
        "#### Inference"
      ],
      "metadata": {
        "id": "qq49rCLF0e1M"
      }
    },
    {
      "cell_type": "code",
      "source": [
        "g = torch.Generator().manual_seed(10)\n",
        "\n",
        "for _ in range(20):\n",
        "\n",
        "  out = []\n",
        "  context = [0]*block_size\n",
        "\n",
        "  while True:\n",
        "    emb = C[torch.tensor([context])]\n",
        "    h0 = emb.view(1, -1) @ W1 + b1\n",
        "    h = torch.tanh(h0)\n",
        "    logits = h @ W2 + b2\n",
        "    probs = torch.softmax(logits, dim=1)\n",
        "\n",
        "    ix = torch.multinomial(probs, 1, generator=g).item()\n",
        "    context = context[1:] + [ix]\n",
        "\n",
        "    out.append(itos[ix])\n",
        "\n",
        "    if ix == 0:\n",
        "      break\n",
        "      \n",
        "  print(''.join(out))"
      ],
      "metadata": {
        "colab": {
          "base_uri": "https://localhost:8080/"
        },
        "id": "zBH49kC70gT3",
        "outputId": "67e57958-8f95-4bd6-f662-715288a0d91c"
      },
      "execution_count": 73,
      "outputs": [
        {
          "output_type": "stream",
          "name": "stdout",
          "text": [
            "pro.\n",
            "eviz.\n",
            "eliyan.\n",
            "esnaton.\n",
            "kaylah.\n",
            "thina.\n",
            "quington.\n",
            "juel.\n",
            "cimbarbemekqe.\n",
            "jovanna.\n",
            "jaya.\n",
            "areliya.\n",
            "harsthemi.\n",
            "riffettlynn.\n",
            "sodm.\n",
            "ssanna.\n",
            "jahensietsa.\n",
            "haydynn.\n",
            "izzaius.\n",
            "sana.\n"
          ]
        }
      ]
    },
    {
      "cell_type": "markdown",
      "source": [
        "The model produces much better results than Bigram models. Although there is still a lot of scope for improvement, but this is a good start!"
      ],
      "metadata": {
        "id": "ZOPaNszI3eWt"
      }
    }
  ]
}