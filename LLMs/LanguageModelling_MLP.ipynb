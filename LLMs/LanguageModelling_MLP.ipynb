{
  "nbformat": 4,
  "nbformat_minor": 0,
  "metadata": {
    "colab": {
      "provenance": [],
      "authorship_tag": "ABX9TyMoEHSdgLCrQZpG7n9XJ1/P"
    },
    "kernelspec": {
      "name": "python3",
      "display_name": "Python 3"
    },
    "language_info": {
      "name": "python"
    }
  },
  "cells": [
    {
      "cell_type": "markdown",
      "source": [
        "The notebook refers the work in this [Paper](https://www.jmlr.org/papers/volume3/bengio03a/bengio03a.pdf)"
      ],
      "metadata": {
        "id": "YBGYzQc6F-1D"
      }
    },
    {
      "cell_type": "code",
      "source": [
        "import torch\n",
        "import torch.nn.functional as F\n",
        "import matplotlib.pyplot as plt\n",
        "%matplotlib inline"
      ],
      "metadata": {
        "id": "5k1ekXFeEMWf"
      },
      "execution_count": 1,
      "outputs": []
    },
    {
      "cell_type": "code",
      "execution_count": 2,
      "metadata": {
        "colab": {
          "base_uri": "https://localhost:8080/"
        },
        "id": "_1LsWxRzCRPT",
        "outputId": "e3a9f546-7e2d-48b3-e7ea-bf39a38fcf88"
      },
      "outputs": [
        {
          "output_type": "stream",
          "name": "stdout",
          "text": [
            "--2023-05-08 22:20:34--  https://raw.githubusercontent.com/suvigyajain0101/NLP/llms/LLMs/names.txt\n",
            "Resolving raw.githubusercontent.com (raw.githubusercontent.com)... 185.199.111.133, 185.199.108.133, 185.199.110.133, ...\n",
            "Connecting to raw.githubusercontent.com (raw.githubusercontent.com)|185.199.111.133|:443... connected.\n",
            "HTTP request sent, awaiting response... 200 OK\n",
            "Length: 228145 (223K) [text/plain]\n",
            "Saving to: ‘names.txt’\n",
            "\n",
            "\rnames.txt             0%[                    ]       0  --.-KB/s               \rnames.txt           100%[===================>] 222.80K  --.-KB/s    in 0.005s  \n",
            "\n",
            "2023-05-08 22:20:35 (44.0 MB/s) - ‘names.txt’ saved [228145/228145]\n",
            "\n"
          ]
        }
      ],
      "source": [
        "!wget https://raw.githubusercontent.com/suvigyajain0101/NLP/llms/LLMs/names.txt"
      ]
    },
    {
      "cell_type": "code",
      "source": [
        "words = open('names.txt').read().splitlines()\n",
        "words[0:10]"
      ],
      "metadata": {
        "colab": {
          "base_uri": "https://localhost:8080/"
        },
        "id": "E7SpoF0NCWhj",
        "outputId": "d6c14c12-1d9f-457f-b773-e5aaec1ac63e"
      },
      "execution_count": 3,
      "outputs": [
        {
          "output_type": "execute_result",
          "data": {
            "text/plain": [
              "['emma',\n",
              " 'olivia',\n",
              " 'ava',\n",
              " 'isabella',\n",
              " 'sophia',\n",
              " 'charlotte',\n",
              " 'mia',\n",
              " 'amelia',\n",
              " 'harper',\n",
              " 'evelyn']"
            ]
          },
          "metadata": {},
          "execution_count": 3
        }
      ]
    },
    {
      "cell_type": "code",
      "source": [
        "len(words)"
      ],
      "metadata": {
        "colab": {
          "base_uri": "https://localhost:8080/"
        },
        "id": "4_GFD1NPFNgv",
        "outputId": "fa426526-11f3-4d50-cf96-270914c02afb"
      },
      "execution_count": 4,
      "outputs": [
        {
          "output_type": "execute_result",
          "data": {
            "text/plain": [
              "32033"
            ]
          },
          "metadata": {},
          "execution_count": 4
        }
      ]
    },
    {
      "cell_type": "code",
      "source": [
        "# Build vocab of characters and mapping to and from integers\n",
        "chars = sorted(list(set(''.join(words))))\n",
        "assert len(chars) == 26\n",
        "\n",
        "stoi = {s:i+1 for i,s in enumerate(chars)}\n",
        "stoi['.'] = 0\n",
        "\n",
        "itos = {i:s for s,i in stoi.items()}\n",
        "\n",
        "print(stoi)\n",
        "print(itos)"
      ],
      "metadata": {
        "colab": {
          "base_uri": "https://localhost:8080/"
        },
        "id": "EHRK3o2kCY47",
        "outputId": "28426dce-b6f1-41d0-c898-8fc3f82198a2"
      },
      "execution_count": 5,
      "outputs": [
        {
          "output_type": "stream",
          "name": "stdout",
          "text": [
            "{'a': 1, 'b': 2, 'c': 3, 'd': 4, 'e': 5, 'f': 6, 'g': 7, 'h': 8, 'i': 9, 'j': 10, 'k': 11, 'l': 12, 'm': 13, 'n': 14, 'o': 15, 'p': 16, 'q': 17, 'r': 18, 's': 19, 't': 20, 'u': 21, 'v': 22, 'w': 23, 'x': 24, 'y': 25, 'z': 26, '.': 0}\n",
            "{1: 'a', 2: 'b', 3: 'c', 4: 'd', 5: 'e', 6: 'f', 7: 'g', 8: 'h', 9: 'i', 10: 'j', 11: 'k', 12: 'l', 13: 'm', 14: 'n', 15: 'o', 16: 'p', 17: 'q', 18: 'r', 19: 's', 20: 't', 21: 'u', 22: 'v', 23: 'w', 24: 'x', 25: 'y', 26: 'z', 0: '.'}\n"
          ]
        }
      ]
    },
    {
      "cell_type": "markdown",
      "source": [
        "### Data Preparation"
      ],
      "metadata": {
        "id": "nd5gE67FFy_u"
      }
    },
    {
      "cell_type": "code",
      "source": [
        "# Context Length - How many characters are used to predict the next one\n",
        "block_size = 3\n",
        "\n",
        "X, Y = [], []\n",
        "for w in words[0:5]:\n",
        "\n",
        "  print(w)\n",
        "  context = [0] * block_size\n",
        "  for ch in w + '.':\n",
        "    ix = stoi[ch]\n",
        "    X.append(context)\n",
        "    Y.append(ix)\n",
        "\n",
        "    print(''.join(itos[i] for i in context), '------>', itos[ix])\n",
        "\n",
        "    context = context[1:] + [ix]\n",
        "\n",
        "\n",
        "X = torch.tensor(X)\n",
        "Y = torch.tensor(Y)\n"
      ],
      "metadata": {
        "colab": {
          "base_uri": "https://localhost:8080/"
        },
        "id": "yZ0U3X5tGPdP",
        "outputId": "2f6d74e4-b796-407e-fbee-a09114c9ab66"
      },
      "execution_count": 6,
      "outputs": [
        {
          "output_type": "stream",
          "name": "stdout",
          "text": [
            "emma\n",
            "... ------> e\n",
            "..e ------> m\n",
            ".em ------> m\n",
            "emm ------> a\n",
            "mma ------> .\n",
            "olivia\n",
            "... ------> o\n",
            "..o ------> l\n",
            ".ol ------> i\n",
            "oli ------> v\n",
            "liv ------> i\n",
            "ivi ------> a\n",
            "via ------> .\n",
            "ava\n",
            "... ------> a\n",
            "..a ------> v\n",
            ".av ------> a\n",
            "ava ------> .\n",
            "isabella\n",
            "... ------> i\n",
            "..i ------> s\n",
            ".is ------> a\n",
            "isa ------> b\n",
            "sab ------> e\n",
            "abe ------> l\n",
            "bel ------> l\n",
            "ell ------> a\n",
            "lla ------> .\n",
            "sophia\n",
            "... ------> s\n",
            "..s ------> o\n",
            ".so ------> p\n",
            "sop ------> h\n",
            "oph ------> i\n",
            "phi ------> a\n",
            "hia ------> .\n"
          ]
        }
      ]
    },
    {
      "cell_type": "code",
      "source": [
        "# Example data, label in the dataset\n",
        "print(X[1], Y[1])\n",
        "\n",
        "X.shape, X.dtype, Y.shape, Y.dtype"
      ],
      "metadata": {
        "colab": {
          "base_uri": "https://localhost:8080/"
        },
        "id": "iOgT4RWYJd8T",
        "outputId": "3a88f5f6-789f-47aa-cd83-eb97e83a4a81"
      },
      "execution_count": 7,
      "outputs": [
        {
          "output_type": "stream",
          "name": "stdout",
          "text": [
            "tensor([0, 0, 5]) tensor(13)\n"
          ]
        },
        {
          "output_type": "execute_result",
          "data": {
            "text/plain": [
              "(torch.Size([32, 3]), torch.int64, torch.Size([32]), torch.int64)"
            ]
          },
          "metadata": {},
          "execution_count": 7
        }
      ]
    },
    {
      "cell_type": "markdown",
      "source": [
        "#### Embedding Matrix\n",
        "\n",
        "The awesomeness of Pytorch indexing!"
      ],
      "metadata": {
        "id": "bGVRWCuBKW0H"
      }
    },
    {
      "cell_type": "code",
      "source": [
        "# Let's assume we want to embed chars to 2 axes\n",
        "C = torch.randn((27, 2))"
      ],
      "metadata": {
        "id": "Nx_j7I0oL5Lm"
      },
      "execution_count": 8,
      "outputs": []
    },
    {
      "cell_type": "code",
      "source": [
        "# in order to get the element from C, we can use 2 approaches - \n",
        "# 1. Index the tensor, just like python list\n",
        "# 2. Matrix multiplication -> remember, one-hot matrix when multiplied with another matrix gives the row of interest\n",
        "# Obviously, it's much faster to just use indexing, and we'll park the idea of matrix multiplication for now\n",
        "C[5]"
      ],
      "metadata": {
        "colab": {
          "base_uri": "https://localhost:8080/"
        },
        "id": "BEZrWwhiMDT6",
        "outputId": "ecfcb428-5a69-47d7-f828-ea105db830d5"
      },
      "execution_count": 9,
      "outputs": [
        {
          "output_type": "execute_result",
          "data": {
            "text/plain": [
              "tensor([-0.5661, -0.4896])"
            ]
          },
          "metadata": {},
          "execution_count": 9
        }
      ]
    },
    {
      "cell_type": "code",
      "source": [
        "# But instead of 1 int, we need to index a matrix of shape (27, 2)\n",
        "# Turns out, Pytorch can take care of this\n",
        "C[X].shape"
      ],
      "metadata": {
        "colab": {
          "base_uri": "https://localhost:8080/"
        },
        "id": "tcXfA7TTMfpz",
        "outputId": "4f80444d-9e1e-4b8c-bd69-fc27e98246b0"
      },
      "execution_count": 10,
      "outputs": [
        {
          "output_type": "execute_result",
          "data": {
            "text/plain": [
              "torch.Size([32, 3, 2])"
            ]
          },
          "metadata": {},
          "execution_count": 10
        }
      ]
    },
    {
      "cell_type": "markdown",
      "source": [
        "2 elements of the embedding matrix for every element (32, 3) of the input"
      ],
      "metadata": {
        "id": "y1oJNKooMyDI"
      }
    },
    {
      "cell_type": "code",
      "source": [
        "# We can verify\n",
        "\n",
        "test_output = C[X]\n",
        "\n",
        "test_row = 3\n",
        "print('input row: ', X[test_row])\n",
        "print('embedding matrix row: ', C[X[test_row]])\n",
        "print('Indexed row: ', test_output[test_row])"
      ],
      "metadata": {
        "colab": {
          "base_uri": "https://localhost:8080/"
        },
        "id": "_hsgz_aCM3z7",
        "outputId": "ea0fdc3b-a07f-4b2d-dc1d-7d2c4435ddcb"
      },
      "execution_count": 11,
      "outputs": [
        {
          "output_type": "stream",
          "name": "stdout",
          "text": [
            "input row:  tensor([ 5, 13, 13])\n",
            "embedding matrix row:  tensor([[-0.5661, -0.4896],\n",
            "        [ 1.5743,  0.8772],\n",
            "        [ 1.5743,  0.8772]])\n",
            "Indexed row:  tensor([[-0.5661, -0.4896],\n",
            "        [ 1.5743,  0.8772],\n",
            "        [ 1.5743,  0.8772]])\n"
          ]
        }
      ]
    },
    {
      "cell_type": "markdown",
      "source": [
        "Matches perfectly!"
      ],
      "metadata": {
        "id": "gHl0z7ucNaT8"
      }
    },
    {
      "cell_type": "code",
      "source": [
        "emb = C[X]\n",
        "emb.shape"
      ],
      "metadata": {
        "colab": {
          "base_uri": "https://localhost:8080/"
        },
        "id": "a_5deiHANi8n",
        "outputId": "02ffc05c-28a9-4ead-873e-5be8cff71b23"
      },
      "execution_count": 12,
      "outputs": [
        {
          "output_type": "execute_result",
          "data": {
            "text/plain": [
              "torch.Size([32, 3, 2])"
            ]
          },
          "metadata": {},
          "execution_count": 12
        }
      ]
    },
    {
      "cell_type": "markdown",
      "source": [
        "#### Hidden layer"
      ],
      "metadata": {
        "id": "P6t1QN2PNp9u"
      }
    },
    {
      "cell_type": "code",
      "source": [
        "W1 = torch.randn((6, 100))\n",
        "# 6 because for every context block of 3 chars, we have 2-dim embedding\n",
        "# 100 is a hyper-parameter\n",
        "\n",
        "b1 = torch.randn(100)"
      ],
      "metadata": {
        "id": "RqBn_OlGNytU"
      },
      "execution_count": 13,
      "outputs": []
    },
    {
      "cell_type": "code",
      "source": [
        "# In order to do emb @ W1 + b, we need to re-arrange the matrices\n",
        "# For now, these are not multipliable\n",
        "# There are multiple ways in Pytorch to do this"
      ],
      "metadata": {
        "id": "0_dWZrBsQ8lR"
      },
      "execution_count": 14,
      "outputs": []
    },
    {
      "cell_type": "code",
      "source": [
        "# 1. using cat\n",
        "torch.cat([emb[:, 0, :] , emb[:, 1, :] , emb[:, 2, :]], 1).shape\n",
        "\n",
        "# Need to update code everytime when block_size is changes"
      ],
      "metadata": {
        "colab": {
          "base_uri": "https://localhost:8080/"
        },
        "id": "bDxl_kyhQ97M",
        "outputId": "77529967-f013-4b19-ae17-4b94ab9f0fe9"
      },
      "execution_count": 15,
      "outputs": [
        {
          "output_type": "execute_result",
          "data": {
            "text/plain": [
              "torch.Size([32, 6])"
            ]
          },
          "metadata": {},
          "execution_count": 15
        }
      ]
    },
    {
      "cell_type": "code",
      "source": [
        "# 2. using unbind\n",
        "torch.cat(torch.unbind(emb, 1), 1).shape\n",
        "\n",
        "# Costly, specially memory wise"
      ],
      "metadata": {
        "colab": {
          "base_uri": "https://localhost:8080/"
        },
        "id": "rExQ5LtpRxKr",
        "outputId": "f94cb3ed-a5b3-4c83-cbb0-68c3b650f2e4"
      },
      "execution_count": 16,
      "outputs": [
        {
          "output_type": "execute_result",
          "data": {
            "text/plain": [
              "torch.Size([32, 6])"
            ]
          },
          "metadata": {},
          "execution_count": 16
        }
      ]
    },
    {
      "cell_type": "code",
      "source": [
        "# 3. re-arranging using torch internals - update the view of the tensor\n",
        "emb.view(32, 6).shape\n",
        "\n",
        "# Fastest and cheapest method of doing this"
      ],
      "metadata": {
        "colab": {
          "base_uri": "https://localhost:8080/"
        },
        "id": "4oNwd6F5RxE7",
        "outputId": "7f2e6498-d6f1-4724-88d6-c29a8884cda3"
      },
      "execution_count": 17,
      "outputs": [
        {
          "output_type": "execute_result",
          "data": {
            "text/plain": [
              "torch.Size([32, 6])"
            ]
          },
          "metadata": {},
          "execution_count": 17
        }
      ]
    },
    {
      "cell_type": "code",
      "source": [
        "# Verify if the results are correct\n",
        "# torch.all checks condition on all element of the tensor\n",
        "print(torch.all((torch.cat([emb[:, 0, :] , emb[:, 1, :] , emb[:, 2, :]], 1) == torch.cat(torch.unbind(emb, 1), 1)) == True))\n",
        "print(torch.all((torch.cat([emb[:, 0, :] , emb[:, 1, :] , emb[:, 2, :]], 1) == emb.view(32, 6)) == True))\n"
      ],
      "metadata": {
        "colab": {
          "base_uri": "https://localhost:8080/"
        },
        "id": "WgyX-zrdSixG",
        "outputId": "e0156694-7eb7-457f-f267-49e0db0d81e8"
      },
      "execution_count": 18,
      "outputs": [
        {
          "output_type": "stream",
          "name": "stdout",
          "text": [
            "tensor(True)\n",
            "tensor(True)\n"
          ]
        }
      ]
    },
    {
      "cell_type": "markdown",
      "source": [
        "Getting back to the hidden layer"
      ],
      "metadata": {
        "id": "AZOLX0oqTvcT"
      }
    },
    {
      "cell_type": "code",
      "source": [
        "h0 = emb.view(-1, 6) @ W1 + b1 # If -1, pytorch infers the dims\n",
        "h = torch.tanh(h0)\n",
        "\n",
        "h.shape"
      ],
      "metadata": {
        "colab": {
          "base_uri": "https://localhost:8080/"
        },
        "id": "yOKNHP-AT0nZ",
        "outputId": "db1bd257-6224-4a82-f3ec-4052b121ea59"
      },
      "execution_count": 19,
      "outputs": [
        {
          "output_type": "execute_result",
          "data": {
            "text/plain": [
              "torch.Size([32, 100])"
            ]
          },
          "metadata": {},
          "execution_count": 19
        }
      ]
    },
    {
      "cell_type": "markdown",
      "source": [
        "#### Softmax layer and Loss"
      ],
      "metadata": {
        "id": "4HV30MiLUjyU"
      }
    },
    {
      "cell_type": "code",
      "source": [
        "W2 = torch.randn((100, 27))\n",
        "b2 = torch.randn(27)"
      ],
      "metadata": {
        "id": "TQKsgpq-U__5"
      },
      "execution_count": 20,
      "outputs": []
    },
    {
      "cell_type": "code",
      "source": [
        "logits = h @ W2 + b2\n",
        "logits.shape"
      ],
      "metadata": {
        "colab": {
          "base_uri": "https://localhost:8080/"
        },
        "id": "qh9BJCuPVG9l",
        "outputId": "f06c3a5c-63bc-4251-eb44-52814de9f794"
      },
      "execution_count": 21,
      "outputs": [
        {
          "output_type": "execute_result",
          "data": {
            "text/plain": [
              "torch.Size([32, 27])"
            ]
          },
          "metadata": {},
          "execution_count": 21
        }
      ]
    },
    {
      "cell_type": "code",
      "source": [
        "counts = logits.exp()\n",
        "probs = counts / counts.sum(1, keepdims=True)\n",
        "\n",
        "# Notice the indexing of probs - we need to extract the probs at that particular Y index\n",
        "loss = -probs[torch.arange(32),Y].log().mean()\n",
        "loss"
      ],
      "metadata": {
        "colab": {
          "base_uri": "https://localhost:8080/"
        },
        "id": "-XBiyehbVO9q",
        "outputId": "94b5d430-f5a7-4364-e395-a00e38200911"
      },
      "execution_count": 22,
      "outputs": [
        {
          "output_type": "execute_result",
          "data": {
            "text/plain": [
              "tensor(18.4195)"
            ]
          },
          "metadata": {},
          "execution_count": 22
        }
      ]
    },
    {
      "cell_type": "code",
      "source": [
        "# The above is just for educational purpose and is rarely used in practice\n",
        "loss = F.cross_entropy(logits, Y)\n",
        "loss"
      ],
      "metadata": {
        "colab": {
          "base_uri": "https://localhost:8080/"
        },
        "id": "1SKG6QICYb6W",
        "outputId": "d79b4fd0-7122-4597-eb2f-ffdff5ec49a6"
      },
      "execution_count": 23,
      "outputs": [
        {
          "output_type": "execute_result",
          "data": {
            "text/plain": [
              "tensor(18.4195)"
            ]
          },
          "metadata": {},
          "execution_count": 23
        }
      ]
    },
    {
      "cell_type": "markdown",
      "source": [
        "Few reasons\n",
        "1. Efficient under-the-hood implementation. Pytorch won't create so many additional tensors and save on memory. Also, both forward and backward passes are much more efficient\n",
        "2. Exp overflow - When input increases in +ve direction, exp() tends to reach inf. Internally, Pytorch subtracts max of the input and avoids inf (since, [10,15,20,25] will have same output as [9,14,19,24])"
      ],
      "metadata": {
        "id": "jT6CPLLOYpTL"
      }
    },
    {
      "cell_type": "markdown",
      "source": [
        "#### Training Loop\n",
        "\n",
        "Putting it all together"
      ],
      "metadata": {
        "id": "tgOKBFCjV7GD"
      }
    },
    {
      "cell_type": "code",
      "source": [
        "X.shape, Y.shape"
      ],
      "metadata": {
        "colab": {
          "base_uri": "https://localhost:8080/"
        },
        "id": "dsfJRhDMV8YL",
        "outputId": "593ebbe5-1089-4076-e950-9ff33cdbfb18"
      },
      "execution_count": 24,
      "outputs": [
        {
          "output_type": "execute_result",
          "data": {
            "text/plain": [
              "(torch.Size([32, 3]), torch.Size([32]))"
            ]
          },
          "metadata": {},
          "execution_count": 24
        }
      ]
    },
    {
      "cell_type": "code",
      "source": [
        "g = torch.Generator().manual_seed(10)\n",
        "C = torch.randn((27, 2), generator=g)\n",
        "W1 = torch.randn((6, 100), generator=g)\n",
        "b1 = torch.randn(100, generator=g)\n",
        "W2 = torch.randn((100, 27), generator=g)\n",
        "b2 = torch.randn(27, generator=g)\n",
        "parameters = [C, W1, b1, W2, b2]"
      ],
      "metadata": {
        "id": "wQQHi3BzWpJt"
      },
      "execution_count": 25,
      "outputs": []
    },
    {
      "cell_type": "code",
      "source": [
        "print('Total trainable parameters: ', sum(p.nelement() for p in parameters))"
      ],
      "metadata": {
        "colab": {
          "base_uri": "https://localhost:8080/"
        },
        "id": "gzxxUKKzdv0p",
        "outputId": "ced6e1d7-fc2d-4278-b117-19065aeec8ae"
      },
      "execution_count": 26,
      "outputs": [
        {
          "output_type": "stream",
          "name": "stdout",
          "text": [
            "Total trainable parameters:  3481\n"
          ]
        }
      ]
    },
    {
      "cell_type": "code",
      "source": [
        "# Make sure all the parameters support gradient and updates\n",
        "for p in parameters:\n",
        "  p.requires_grad = True\n"
      ],
      "metadata": {
        "id": "bO1kWJ_2e8nL"
      },
      "execution_count": 27,
      "outputs": []
    },
    {
      "cell_type": "code",
      "source": [
        "for k in range(10):\n",
        "  # Forward Pass\n",
        "  emb = C[X]\n",
        "  h0 = emb.view(-1, 6) @ W1 + b1\n",
        "  h = torch.tanh(h0)\n",
        "  logits = h @ W2 + b2\n",
        "  loss = F.cross_entropy(logits, Y)\n",
        "  print(f'Epoch {k} -> Loss = {loss.item()} ')\n",
        "\n",
        "  # Backward pass\n",
        "  for p in parameters:\n",
        "    p.grad = None\n",
        "  loss.backward()\n",
        "\n",
        "  # Gradient Update\n",
        "  for p in parameters:\n",
        "    p.data += -0.1 * p.grad"
      ],
      "metadata": {
        "colab": {
          "base_uri": "https://localhost:8080/"
        },
        "id": "gRq19nqIeD3U",
        "outputId": "2daa62c0-36a0-4db8-ea76-201a3510b691"
      },
      "execution_count": 28,
      "outputs": [
        {
          "output_type": "stream",
          "name": "stdout",
          "text": [
            "Epoch 0 -> Loss = 19.009180068969727 \n",
            "Epoch 1 -> Loss = 15.267385482788086 \n",
            "Epoch 2 -> Loss = 12.383593559265137 \n",
            "Epoch 3 -> Loss = 10.268889427185059 \n",
            "Epoch 4 -> Loss = 8.576563835144043 \n",
            "Epoch 5 -> Loss = 7.1071906089782715 \n",
            "Epoch 6 -> Loss = 5.814657688140869 \n",
            "Epoch 7 -> Loss = 4.639155387878418 \n",
            "Epoch 8 -> Loss = 3.6986703872680664 \n",
            "Epoch 9 -> Loss = 3.0502424240112305 \n"
          ]
        }
      ]
    },
    {
      "cell_type": "markdown",
      "source": [
        "#### On Complete dataset "
      ],
      "metadata": {
        "id": "cJbchfCdgMQK"
      }
    },
    {
      "cell_type": "code",
      "source": [
        "# Context Length - How many characters are used to predict the next one\n",
        "block_size = 3\n",
        "\n",
        "X, Y = [], []\n",
        "for w in words:\n",
        "  context = [0] * block_size\n",
        "  for ch in w + '.':\n",
        "    ix = stoi[ch]\n",
        "    X.append(context)\n",
        "    Y.append(ix)\n",
        "\n",
        "    context = context[1:] + [ix]\n",
        "\n",
        "X = torch.tensor(X)\n",
        "Y = torch.tensor(Y)\n",
        "\n",
        "X.shape, Y.shape"
      ],
      "metadata": {
        "colab": {
          "base_uri": "https://localhost:8080/"
        },
        "id": "rJaYVi5WgVmq",
        "outputId": "567d9808-408e-4943-fa81-ae50c68bf502"
      },
      "execution_count": 29,
      "outputs": [
        {
          "output_type": "execute_result",
          "data": {
            "text/plain": [
              "(torch.Size([228146, 3]), torch.Size([228146]))"
            ]
          },
          "metadata": {},
          "execution_count": 29
        }
      ]
    },
    {
      "cell_type": "code",
      "source": [
        "g = torch.Generator().manual_seed(10)\n",
        "C = torch.randn((27, 2), generator=g)\n",
        "W1 = torch.randn((6, 100), generator=g)\n",
        "b1 = torch.randn(100, generator=g)\n",
        "W2 = torch.randn((100, 27), generator=g)\n",
        "b2 = torch.randn(27, generator=g)\n",
        "parameters = [C, W1, b1, W2, b2]"
      ],
      "metadata": {
        "id": "-R9ANY9Fgc7Z"
      },
      "execution_count": 30,
      "outputs": []
    },
    {
      "cell_type": "code",
      "source": [
        "print('Total trainable parameters: ', sum(p.nelement() for p in parameters))"
      ],
      "metadata": {
        "colab": {
          "base_uri": "https://localhost:8080/"
        },
        "id": "D-U-uB4ZggQP",
        "outputId": "1343c4a9-7018-4ad6-9a8f-78c85c50cbeb"
      },
      "execution_count": 31,
      "outputs": [
        {
          "output_type": "stream",
          "name": "stdout",
          "text": [
            "Total trainable parameters:  3481\n"
          ]
        }
      ]
    },
    {
      "cell_type": "code",
      "source": [
        "# Make sure all the parameters support gradient and updates\n",
        "for p in parameters:\n",
        "  p.requires_grad = True"
      ],
      "metadata": {
        "id": "DhURGNo1gh_j"
      },
      "execution_count": 32,
      "outputs": []
    },
    {
      "cell_type": "code",
      "source": [
        "for k in range(1000):\n",
        "  # Forward Pass\n",
        "  emb = C[X]\n",
        "  h0 = emb.view(-1, 6) @ W1 + b1\n",
        "  h = torch.tanh(h0)\n",
        "  logits = h @ W2 + b2\n",
        "  loss = F.cross_entropy(logits, Y)\n",
        "\n",
        "  if k%100 == 0:\n",
        "    print(f'Epoch {k} -> Loss = {loss.item()} ')\n",
        "\n",
        "  # Backward pass\n",
        "  for p in parameters:\n",
        "    p.grad = None\n",
        "  loss.backward()\n",
        "\n",
        "  # Gradient Update\n",
        "  for p in parameters:\n",
        "    p.data += -0.1 * p.grad"
      ],
      "metadata": {
        "id": "4fAUbHLCgje2"
      },
      "execution_count": null,
      "outputs": []
    },
    {
      "cell_type": "markdown",
      "source": [
        " #### Minibatch\n",
        "\n",
        " Instead of training on the entire 200K words, we can achieve similar loss using minibatches of the data"
      ],
      "metadata": {
        "id": "ujXrOK1lg8Z5"
      }
    },
    {
      "cell_type": "code",
      "source": [
        "for k in range(1000):\n",
        "\n",
        "  # Minibatch index\n",
        "  ix = torch.randint(0, X.shape[0], (32,))\n",
        "\n",
        "\n",
        "  # Forward Pass\n",
        "  emb = C[X[ix]] # Shape -> (32, 3, 2)\n",
        "  h0 = emb.view(-1, 6) @ W1 + b1\n",
        "  h = torch.tanh(h0)\n",
        "  logits = h @ W2 + b2\n",
        "  loss = F.cross_entropy(logits, Y[ix]) # Need to update target dataset as well\n",
        "\n",
        "  if k%100 == 0:\n",
        "    print(f'Epoch {k} -> Loss = {loss.item()} ')\n",
        "\n",
        "  # Backward pass\n",
        "  for p in parameters:\n",
        "    p.grad = None\n",
        "  loss.backward()\n",
        "\n",
        "  # Gradient Update\n",
        "  for p in parameters:\n",
        "    p.data += -0.1 * p.grad\n",
        "\n",
        "print('Final Loss: ', loss.item())"
      ],
      "metadata": {
        "colab": {
          "base_uri": "https://localhost:8080/"
        },
        "id": "W9Spw9JzdP7s",
        "outputId": "47cd7da6-6883-4c39-d1fd-84f2fc4bc953"
      },
      "execution_count": 36,
      "outputs": [
        {
          "output_type": "stream",
          "name": "stdout",
          "text": [
            "Epoch 0 -> Loss = 3.5450305938720703 \n",
            "Epoch 100 -> Loss = 3.2025949954986572 \n",
            "Epoch 200 -> Loss = 3.067681074142456 \n",
            "Epoch 300 -> Loss = 2.5491645336151123 \n",
            "Epoch 400 -> Loss = 2.88202166557312 \n",
            "Epoch 500 -> Loss = 2.8750674724578857 \n",
            "Epoch 600 -> Loss = 2.8306124210357666 \n",
            "Epoch 700 -> Loss = 2.5224947929382324 \n",
            "Epoch 800 -> Loss = 2.8049681186676025 \n",
            "Epoch 900 -> Loss = 2.441887140274048 \n",
            "Final Loss:  2.2467994689941406\n"
          ]
        }
      ]
    },
    {
      "cell_type": "markdown",
      "source": [
        "That was extremely fast!"
      ],
      "metadata": {
        "id": "9eIO9ug9eEnW"
      }
    },
    {
      "cell_type": "markdown",
      "source": [
        "#### Learning Rate Selection"
      ],
      "metadata": {
        "id": "oJ_oubDCeHkT"
      }
    },
    {
      "cell_type": "code",
      "source": [
        "# First let re-initialize the params\n",
        "g = torch.Generator().manual_seed(10)\n",
        "C = torch.randn((27, 2), generator=g)\n",
        "W1 = torch.randn((6, 100), generator=g)\n",
        "b1 = torch.randn(100, generator=g)\n",
        "W2 = torch.randn((100, 27), generator=g)\n",
        "b2 = torch.randn(27, generator=g)\n",
        "parameters = [C, W1, b1, W2, b2]\n",
        "\n",
        "print('Total trainable parameters: ', sum(p.nelement() for p in parameters))\n",
        "\n",
        "# Make sure all the parameters support gradient and updates\n",
        "for p in parameters:\n",
        "  p.requires_grad = True"
      ],
      "metadata": {
        "colab": {
          "base_uri": "https://localhost:8080/"
        },
        "id": "ZiZ4oxJ0fOjp",
        "outputId": "286fb629-3453-468a-876b-d20ca53f25d7"
      },
      "execution_count": 43,
      "outputs": [
        {
          "output_type": "stream",
          "name": "stdout",
          "text": [
            "Total trainable parameters:  3481\n"
          ]
        }
      ]
    },
    {
      "cell_type": "code",
      "source": [
        "lre = torch.linspace(-3, 0, 1000)\n",
        "lrs = 10**lre "
      ],
      "metadata": {
        "id": "c66GZkMQflLm"
      },
      "execution_count": 44,
      "outputs": []
    },
    {
      "cell_type": "markdown",
      "source": [
        "So, we start with 0.001 (10\\*\\*-3) and end at 1 (10**0)"
      ],
      "metadata": {
        "id": "B8NWtdERfuih"
      }
    },
    {
      "cell_type": "code",
      "source": [
        "lri, lossi = [], []\n",
        "for k in range(1000):\n",
        "\n",
        "  # Minibatch index\n",
        "  ix = torch.randint(0, X.shape[0], (32,))\n",
        "\n",
        "\n",
        "  # Forward Pass\n",
        "  emb = C[X[ix]] # Shape -> (32, 3, 2)\n",
        "  h0 = emb.view(-1, 6) @ W1 + b1\n",
        "  h = torch.tanh(h0)\n",
        "  logits = h @ W2 + b2\n",
        "  loss = F.cross_entropy(logits, Y[ix]) # Need to update target dataset as well\n",
        "\n",
        "  if k%100 == 0:\n",
        "    print(f'Epoch {k} -> Loss = {loss.item()} ')\n",
        "\n",
        "  # Backward pass\n",
        "  for p in parameters:\n",
        "    p.grad = None\n",
        "  loss.backward()\n",
        "\n",
        "  # Gradient Update\n",
        "  lr = lrs[k]\n",
        "  for p in parameters:\n",
        "    p.data += -lr * p.grad\n",
        "\n",
        "  lri.append(lr)\n",
        "  lossi.append(loss.item())"
      ],
      "metadata": {
        "colab": {
          "base_uri": "https://localhost:8080/"
        },
        "id": "8QqW3t3Sf6Lx",
        "outputId": "9ed47a74-ad9c-4bfa-d815-7064600e22e3"
      },
      "execution_count": 45,
      "outputs": [
        {
          "output_type": "stream",
          "name": "stdout",
          "text": [
            "Epoch 0 -> Loss = 19.47472381591797 \n",
            "Epoch 100 -> Loss = 18.331302642822266 \n",
            "Epoch 200 -> Loss = 12.095009803771973 \n",
            "Epoch 300 -> Loss = 11.245638847351074 \n",
            "Epoch 400 -> Loss = 7.10150146484375 \n",
            "Epoch 500 -> Loss = 5.959551811218262 \n",
            "Epoch 600 -> Loss = 2.733177661895752 \n",
            "Epoch 700 -> Loss = 3.4323627948760986 \n",
            "Epoch 800 -> Loss = 3.363483190536499 \n",
            "Epoch 900 -> Loss = 3.488156795501709 \n"
          ]
        }
      ]
    },
    {
      "cell_type": "code",
      "source": [
        "plt.plot(lre, lossi)"
      ],
      "metadata": {
        "colab": {
          "base_uri": "https://localhost:8080/",
          "height": 447
        },
        "id": "fc8wJuOngMcx",
        "outputId": "15f3bb21-bd6a-4a86-f241-6500e4c48127"
      },
      "execution_count": 46,
      "outputs": [
        {
          "output_type": "execute_result",
          "data": {
            "text/plain": [
              "[<matplotlib.lines.Line2D at 0x7f8827b74760>]"
            ]
          },
          "metadata": {},
          "execution_count": 46
        },
        {
          "output_type": "display_data",
          "data": {
            "text/plain": [
              "<Figure size 640x480 with 1 Axes>"
            ],
            "image/png": "[encoded data removed]"
          },
          "metadata": {}
        }
      ]
    },
    {
      "cell_type": "markdown",
      "source": [
        "So, we can see a good learning rate for the problem lies somewhere in the valley between -1.0 and -0.5"
      ],
      "metadata": {
        "id": "5gNnMBeYgTNj"
      }
    },
    {
      "cell_type": "markdown",
      "source": [
        "#### Train-Dev-Test Split"
      ],
      "metadata": {
        "id": "uarISsoMgmi3"
      }
    },
    {
      "cell_type": "code",
      "source": [
        "import random\n",
        "\n",
        "def build_dataset(words):\n",
        "  block_size = 3\n",
        "  X, Y = [], []\n",
        "\n",
        "  for w in words:\n",
        "    context = [0]*block_size\n",
        "    for ch in w + '.':\n",
        "      ix = stoi[ch]\n",
        "      X.append(context)\n",
        "      Y.append(ix)\n",
        "\n",
        "      context = context[1:] + [ix]\n",
        "\n",
        "  X = torch.tensor(X)\n",
        "  Y = torch.tensor(Y)\n",
        "  print(X.shape, Y.shape)\n",
        "\n",
        "  return X, Y\n",
        "\n",
        "# Random shuffle of words\n",
        "random.seed(42)\n",
        "random.shuffle(words)\n",
        "# Training data -> 80%, Val data -> 10%, testing data -> 10%\n",
        "n1 = int(0.8*len(words))\n",
        "n2 = int(0.9*len(words))\n",
        "\n",
        "X_train, Y_train = build_dataset(words[:n1])\n",
        "X_val, Y_val = build_dataset(words[n1:n2])\n",
        "X_test, Y_test = build_dataset(words[n2:])\n",
        "\n",
        "print('Training Data Size: ', len(X_train))\n",
        "print('Validation Data Size: ', len(X_val))\n",
        "print('Testing Data Size: ', len(X_test))"
      ],
      "metadata": {
        "colab": {
          "base_uri": "https://localhost:8080/"
        },
        "id": "2_dDM60chpCi",
        "outputId": "1b132c7a-75dc-4861-df6d-94d2561ed793"
      },
      "execution_count": 52,
      "outputs": [
        {
          "output_type": "stream",
          "name": "stdout",
          "text": [
            "torch.Size([182424, 3]) torch.Size([182424])\n",
            "torch.Size([22836, 3]) torch.Size([22836])\n",
            "torch.Size([22886, 3]) torch.Size([22886])\n",
            "Training Data Size:  182424\n",
            "Validation Data Size:  22836\n",
            "Testing Data Size:  22886\n"
          ]
        }
      ]
    },
    {
      "cell_type": "code",
      "source": [
        "# First let re-initialize the params\n",
        "g = torch.Generator().manual_seed(10)\n",
        "C = torch.randn((27, 2), generator=g)\n",
        "W1 = torch.randn((6, 100), generator=g)\n",
        "b1 = torch.randn(100, generator=g)\n",
        "W2 = torch.randn((100, 27), generator=g)\n",
        "b2 = torch.randn(27, generator=g)\n",
        "parameters = [C, W1, b1, W2, b2]\n",
        "\n",
        "print('Total trainable parameters: ', sum(p.nelement() for p in parameters))\n",
        "\n",
        "# Make sure all the parameters support gradient and updates\n",
        "for p in parameters:\n",
        "  p.requires_grad = True"
      ],
      "metadata": {
        "colab": {
          "base_uri": "https://localhost:8080/"
        },
        "id": "WS0kHyJOklrg",
        "outputId": "2251a6b8-2aef-401a-e5da-49d07d75ca80"
      },
      "execution_count": 57,
      "outputs": [
        {
          "output_type": "stream",
          "name": "stdout",
          "text": [
            "Total trainable parameters:  3481\n"
          ]
        }
      ]
    },
    {
      "cell_type": "code",
      "source": [
        "for k in range(10000):\n",
        "\n",
        "  # Minibatch index\n",
        "  ix = torch.randint(0, X_train.shape[0], (32,))\n",
        "\n",
        "\n",
        "  # Forward Pass\n",
        "  emb = C[X_train[ix]] # Shape -> (32, 3, 2)\n",
        "  h0 = emb.view(-1, 6) @ W1 + b1\n",
        "  h = torch.tanh(h0)\n",
        "  logits = h @ W2 + b2\n",
        "  loss = F.cross_entropy(logits, Y_train[ix]) # Need to update target dataset as well\n",
        "\n",
        "  if k%1000 == 0:\n",
        "    print(f'Epoch {k} -> Loss = {loss.item()} ')\n",
        "\n",
        "  # Backward pass\n",
        "  for p in parameters:\n",
        "    p.grad = None\n",
        "  loss.backward()\n",
        "\n",
        "  # Gradient Update\n",
        "  lr = 0.1\n",
        "  for p in parameters:\n",
        "    p.data += -lr * p.grad"
      ],
      "metadata": {
        "colab": {
          "base_uri": "https://localhost:8080/"
        },
        "id": "VIW7UctHk18l",
        "outputId": "04bcecc5-f8dc-40dc-f890-0b6ab5895d4f"
      },
      "execution_count": 58,
      "outputs": [
        {
          "output_type": "stream",
          "name": "stdout",
          "text": [
            "Epoch 0 -> Loss = 17.81814956665039 \n",
            "Epoch 1000 -> Loss = 2.3507001399993896 \n",
            "Epoch 2000 -> Loss = 2.794539451599121 \n",
            "Epoch 3000 -> Loss = 2.3804831504821777 \n",
            "Epoch 4000 -> Loss = 2.7057087421417236 \n",
            "Epoch 5000 -> Loss = 2.538081645965576 \n",
            "Epoch 6000 -> Loss = 2.2295570373535156 \n",
            "Epoch 7000 -> Loss = 2.495800495147705 \n",
            "Epoch 8000 -> Loss = 2.172015428543091 \n",
            "Epoch 9000 -> Loss = 2.8139402866363525 \n"
          ]
        }
      ]
    },
    {
      "cell_type": "code",
      "source": [
        "# Evaluation\n",
        "\n",
        "emb = C[X_val] # Shape -> (32, 3, 2)\n",
        "h0 = emb.view(-1, 6) @ W1 + b1\n",
        "h = torch.tanh(h0)\n",
        "logits = h @ W2 + b2\n",
        "loss = F.cross_entropy(logits, Y_val)\n",
        "print('Validation Loss: ', loss.item())"
      ],
      "metadata": {
        "colab": {
          "base_uri": "https://localhost:8080/"
        },
        "id": "PBSndH0qlOxf",
        "outputId": "6cac34b1-d74d-4466-ca7e-8ca8129b9661"
      },
      "execution_count": 59,
      "outputs": [
        {
          "output_type": "stream",
          "name": "stdout",
          "text": [
            "Validation Loss:  2.459953784942627\n"
          ]
        }
      ]
    },
    {
      "cell_type": "markdown",
      "source": [
        "Training and Validation are similar, which means we have not yet overfitted the model and some scope for learning is still there"
      ],
      "metadata": {
        "id": "sO20V9Zfl8nk"
      }
    },
    {
      "cell_type": "markdown",
      "source": [
        "#### Experiment - Hidden Layer\n",
        "\n",
        "Let's increase the number of neurons in hidden layer"
      ],
      "metadata": {
        "id": "bi1WlYWimGk5"
      }
    },
    {
      "cell_type": "code",
      "source": [
        "# First let re-initialize the params\n",
        "g = torch.Generator().manual_seed(10)\n",
        "C = torch.randn((27, 2), generator=g)\n",
        "W1 = torch.randn((6, 300), generator=g)\n",
        "b1 = torch.randn(300, generator=g)\n",
        "W2 = torch.randn((300, 27), generator=g)\n",
        "b2 = torch.randn(27, generator=g)\n",
        "parameters = [C, W1, b1, W2, b2]\n",
        "\n",
        "print('Total trainable parameters: ', sum(p.nelement() for p in parameters))\n",
        "\n",
        "# Make sure all the parameters support gradient and updates\n",
        "for p in parameters:\n",
        "  p.requires_grad = True\n",
        "\n",
        "# Training\n",
        "for k in range(10000):\n",
        "\n",
        "  # Minibatch index\n",
        "  ix = torch.randint(0, X_train.shape[0], (32,))\n",
        "\n",
        "\n",
        "  # Forward Pass\n",
        "  emb = C[X_train[ix]] # Shape -> (32, 3, 2)\n",
        "  h0 = emb.view(-1, 6) @ W1 + b1\n",
        "  h = torch.tanh(h0)\n",
        "  logits = h @ W2 + b2\n",
        "  loss = F.cross_entropy(logits, Y_train[ix]) # Need to update target dataset as well\n",
        "\n",
        "  if k%1000 == 0:\n",
        "    print(f'Epoch {k} -> Loss = {loss.item()} ')\n",
        "\n",
        "  # Backward pass\n",
        "  for p in parameters:\n",
        "    p.grad = None\n",
        "  loss.backward()\n",
        "\n",
        "  # Gradient Update\n",
        "  lr = 0.1\n",
        "  for p in parameters:\n",
        "    p.data += -lr * p.grad\n",
        "\n",
        "print('Training Loss: ', loss.item())\n",
        "\n",
        "# Evaluation\n",
        "emb = C[X_val] # Shape -> (32, 3, 2)\n",
        "h0 = emb.view(-1, 6) @ W1 + b1\n",
        "h = torch.tanh(h0)\n",
        "logits = h @ W2 + b2\n",
        "loss = F.cross_entropy(logits, Y_val)\n",
        "print('Validation Loss: ', loss.item())"
      ],
      "metadata": {
        "colab": {
          "base_uri": "https://localhost:8080/"
        },
        "id": "wFR7MTChmJf6",
        "outputId": "40e2ab7a-baa1-4f53-a28c-69b4a8de8674"
      },
      "execution_count": 69,
      "outputs": [
        {
          "output_type": "stream",
          "name": "stdout",
          "text": [
            "Total trainable parameters:  10281\n",
            "Epoch 0 -> Loss = 25.296586990356445 \n",
            "Epoch 1000 -> Loss = 3.3552818298339844 \n",
            "Epoch 2000 -> Loss = 2.7459003925323486 \n",
            "Epoch 3000 -> Loss = 3.0404136180877686 \n",
            "Epoch 4000 -> Loss = 3.1792409420013428 \n",
            "Epoch 5000 -> Loss = 2.6242053508758545 \n",
            "Epoch 6000 -> Loss = 2.558805227279663 \n",
            "Epoch 7000 -> Loss = 2.8161909580230713 \n",
            "Epoch 8000 -> Loss = 2.7268764972686768 \n",
            "Epoch 9000 -> Loss = 2.896136999130249 \n",
            "Training Loss:  2.9123728275299072\n",
            "Validation Loss:  2.8317675590515137\n"
          ]
        }
      ]
    },
    {
      "cell_type": "markdown",
      "source": [
        "Even though we made the network much larger (from 3K params to 10K params), we are still not getting much improvement. One reason might be the embeddings. We might be cramming too much info in just 2-dims"
      ],
      "metadata": {
        "id": "kQmq4CVAniL0"
      }
    },
    {
      "cell_type": "markdown",
      "source": [
        "#### Visualize Embedding Layer"
      ],
      "metadata": {
        "id": "TH5t_Ni0oDSV"
      }
    },
    {
      "cell_type": "code",
      "source": [
        "plt.scatter(C[:,0].data, C[:,1].data, s=200)\n",
        "\n",
        "for i in range(C.shape[0]):\n",
        "  plt.text(C[i,0].item(), C[i,1].item(), itos[i], ha='center', va='center', color='white')\n",
        "plt.grid('minor')"
      ],
      "metadata": {
        "colab": {
          "base_uri": "https://localhost:8080/",
          "height": 434
        },
        "id": "r7rq0dJZoP1u",
        "outputId": "abfe8278-92eb-4ab1-fe0a-f9a3c90c3710"
      },
      "execution_count": 70,
      "outputs": [
        {
          "output_type": "display_data",
          "data": {
            "text/plain": [
              "<Figure size 640x480 with 1 Axes>"
            ],
            "image/png": "[encoded data removed]"
          },
          "metadata": {}
        }
      ]
    },
    {
      "cell_type": "markdown",
      "source": [
        "Notice how the model has assigned some structure to data - \n",
        "\n",
        "1. All the vowels seem closer to each other, and hence treated similarly by the model\n",
        "2. Characters occuring frequently (both consonants and vowels) seem closer to each other\n",
        "3. Some characters are outliers in the data - 'y', 'c', '.', which seems right"
      ],
      "metadata": {
        "id": "M3OOf7fLqXCz"
      }
    }
  ]
}