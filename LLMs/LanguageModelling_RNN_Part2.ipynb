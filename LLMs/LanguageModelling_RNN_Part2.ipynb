{
  "nbformat": 4,
  "nbformat_minor": 0,
  "metadata": {
    "colab": {
      "provenance": [],
      "authorship_tag": "ABX9TyOp985JWGH6+9sliyScEmnu"
    },
    "kernelspec": {
      "name": "python3",
      "display_name": "Python 3"
    },
    "language_info": {
      "name": "python"
    }
  },
  "cells": [
    {
      "cell_type": "markdown",
      "source": [
        "### Backpropogation in detail!"
      ],
      "metadata": {
        "id": "rPMctB2-zuXT"
      }
    },
    {
      "cell_type": "markdown",
      "source": [
        "First few cells remain the same"
      ],
      "metadata": {
        "id": "owgJDpJPzeDI"
      }
    },
    {
      "cell_type": "code",
      "execution_count": 1,
      "metadata": {
        "id": "uabh2Zb5zMwH"
      },
      "outputs": [],
      "source": [
        "import torch\n",
        "import torch.nn.functional as F\n",
        "import matplotlib.pyplot as plt\n",
        "%matplotlib inline"
      ]
    },
    {
      "cell_type": "code",
      "source": [
        "!wget https://raw.githubusercontent.com/suvigyajain0101/NLP/llms/LLMs/names.txt"
      ],
      "metadata": {
        "colab": {
          "base_uri": "https://localhost:8080/"
        },
        "id": "L51Yl4YxzW4j",
        "outputId": "30d0515d-6114-4b1e-be9d-d64335390d9a"
      },
      "execution_count": 2,
      "outputs": [
        {
          "output_type": "stream",
          "name": "stdout",
          "text": [
            "--2023-05-22 22:17:55--  https://raw.githubusercontent.com/suvigyajain0101/NLP/llms/LLMs/names.txt\n",
            "Resolving raw.githubusercontent.com (raw.githubusercontent.com)... 185.199.108.133, 185.199.109.133, 185.199.110.133, ...\n",
            "Connecting to raw.githubusercontent.com (raw.githubusercontent.com)|185.199.108.133|:443... connected.\n",
            "HTTP request sent, awaiting response... 200 OK\n",
            "Length: 228145 (223K) [text/plain]\n",
            "Saving to: ‘names.txt’\n",
            "\n",
            "names.txt           100%[===================>] 222.80K  --.-KB/s    in 0.009s  \n",
            "\n",
            "2023-05-22 22:17:55 (23.3 MB/s) - ‘names.txt’ saved [228145/228145]\n",
            "\n"
          ]
        }
      ]
    },
    {
      "cell_type": "code",
      "source": [
        "words = open('names.txt').read().splitlines()\n",
        "words[0:10]"
      ],
      "metadata": {
        "colab": {
          "base_uri": "https://localhost:8080/"
        },
        "id": "Hyt2j059zX8q",
        "outputId": "826918c7-d421-4525-9ea0-4492b5700776"
      },
      "execution_count": 3,
      "outputs": [
        {
          "output_type": "execute_result",
          "data": {
            "text/plain": [
              "['emma',\n",
              " 'olivia',\n",
              " 'ava',\n",
              " 'isabella',\n",
              " 'sophia',\n",
              " 'charlotte',\n",
              " 'mia',\n",
              " 'amelia',\n",
              " 'harper',\n",
              " 'evelyn']"
            ]
          },
          "metadata": {},
          "execution_count": 3
        }
      ]
    },
    {
      "cell_type": "code",
      "source": [
        "len(words)"
      ],
      "metadata": {
        "colab": {
          "base_uri": "https://localhost:8080/"
        },
        "id": "ouuuHKyqzdWp",
        "outputId": "3105ebdf-cd71-43c4-9752-4658550337eb"
      },
      "execution_count": 4,
      "outputs": [
        {
          "output_type": "execute_result",
          "data": {
            "text/plain": [
              "32033"
            ]
          },
          "metadata": {},
          "execution_count": 4
        }
      ]
    },
    {
      "cell_type": "code",
      "source": [
        "# Build vocab of characters and mapping to and from integers\n",
        "chars = sorted(list(set(''.join(words))))\n",
        "assert len(chars) == 26\n",
        "\n",
        "stoi = {s:i+1 for i,s in enumerate(chars)}\n",
        "stoi['.'] = 0\n",
        "\n",
        "itos = {i:s for s,i in stoi.items()}\n",
        "\n",
        "vocab_size = len(itos)\n",
        "\n",
        "print(stoi)\n",
        "print(itos)\n",
        "print(vocab_size)"
      ],
      "metadata": {
        "colab": {
          "base_uri": "https://localhost:8080/"
        },
        "id": "FlGj4v64zrOT",
        "outputId": "d3e876b4-e868-478d-9562-8314a4098f0d"
      },
      "execution_count": 5,
      "outputs": [
        {
          "output_type": "stream",
          "name": "stdout",
          "text": [
            "{'a': 1, 'b': 2, 'c': 3, 'd': 4, 'e': 5, 'f': 6, 'g': 7, 'h': 8, 'i': 9, 'j': 10, 'k': 11, 'l': 12, 'm': 13, 'n': 14, 'o': 15, 'p': 16, 'q': 17, 'r': 18, 's': 19, 't': 20, 'u': 21, 'v': 22, 'w': 23, 'x': 24, 'y': 25, 'z': 26, '.': 0}\n",
            "{1: 'a', 2: 'b', 3: 'c', 4: 'd', 5: 'e', 6: 'f', 7: 'g', 8: 'h', 9: 'i', 10: 'j', 11: 'k', 12: 'l', 13: 'm', 14: 'n', 15: 'o', 16: 'p', 17: 'q', 18: 'r', 19: 's', 20: 't', 21: 'u', 22: 'v', 23: 'w', 24: 'x', 25: 'y', 26: 'z', 0: '.'}\n",
            "27\n"
          ]
        }
      ]
    },
    {
      "cell_type": "code",
      "source": [
        "import random\n",
        "\n",
        "block_size = 3\n",
        "\n",
        "def build_dataset(words):\n",
        "  \n",
        "  X, Y = [], []\n",
        "\n",
        "  for w in words:\n",
        "    context = [0]*block_size\n",
        "    for ch in w + '.':\n",
        "      ix = stoi[ch]\n",
        "      X.append(context)\n",
        "      Y.append(ix)\n",
        "\n",
        "      context = context[1:] + [ix]\n",
        "\n",
        "  X = torch.tensor(X)\n",
        "  Y = torch.tensor(Y)\n",
        "  print(X.shape, Y.shape)\n",
        "\n",
        "  return X, Y\n",
        "\n",
        "# Random shuffle of words\n",
        "random.seed(42)\n",
        "random.shuffle(words)\n",
        "# Training data -> 80%, Val data -> 10%, testing data -> 10%\n",
        "n1 = int(0.8*len(words))\n",
        "n2 = int(0.9*len(words))\n",
        "\n",
        "X_train, Y_train = build_dataset(words[:n1])\n",
        "X_val, Y_val = build_dataset(words[n1:n2])\n",
        "X_test, Y_test = build_dataset(words[n2:])\n",
        "\n",
        "print('Training Data Size: ', len(X_train))\n",
        "print('Validation Data Size: ', len(X_val))\n",
        "print('Testing Data Size: ', len(X_test))"
      ],
      "metadata": {
        "colab": {
          "base_uri": "https://localhost:8080/"
        },
        "id": "XcUo93I7zs2q",
        "outputId": "3bad33fe-c28d-4227-b264-c84f797d947d"
      },
      "execution_count": 6,
      "outputs": [
        {
          "output_type": "stream",
          "name": "stdout",
          "text": [
            "torch.Size([182625, 3]) torch.Size([182625])\n",
            "torch.Size([22655, 3]) torch.Size([22655])\n",
            "torch.Size([22866, 3]) torch.Size([22866])\n",
            "Training Data Size:  182625\n",
            "Validation Data Size:  22655\n",
            "Testing Data Size:  22866\n"
          ]
        }
      ]
    },
    {
      "cell_type": "code",
      "source": [
        "def cmp(s, dt, t):\n",
        "  '''\n",
        "  Utility function to compare manual gradients to pytorch gradients\n",
        "  '''\n",
        "\n",
        "  ex = torch.all(dt == t.grad).item()\n",
        "  app = torch.allclose(dt, t.grad)\n",
        "  maxdiff = (dt - t.grad).abs().max().item()\n",
        "  print(f'{s:15s} | exact: {str(ex):5s} | approximate: {str(app):5s} | maxdiff: {maxdiff}')"
      ],
      "metadata": {
        "id": "BUJWTk1Dz4Lj"
      },
      "execution_count": 7,
      "outputs": []
    },
    {
      "cell_type": "code",
      "source": [
        "n_embd = 10 # the dimensionality of the character embedding vectors\n",
        "n_hidden = 64 # the number of neurons in the hidden layer of the MLP\n",
        "\n",
        "g = torch.Generator().manual_seed(2147483647) # for reproducibility\n",
        "C  = torch.randn((vocab_size, n_embd),            generator=g)\n",
        "# Layer 1\n",
        "W1 = torch.randn((n_embd * block_size, n_hidden), generator=g) * (5/3)/((n_embd * block_size)**0.5)\n",
        "b1 = torch.randn(n_hidden,                        generator=g) * 0.1 # using b1 just for demo, it's useless because of BatchNorm\n",
        "# Layer 2\n",
        "W2 = torch.randn((n_hidden, vocab_size),          generator=g) * 0.1\n",
        "b2 = torch.randn(vocab_size,                      generator=g) * 0.1\n",
        "# BatchNorm parameters\n",
        "bngain = torch.randn((1, n_hidden))*0.1 + 1.0\n",
        "bnbias = torch.randn((1, n_hidden))*0.1"
      ],
      "metadata": {
        "id": "yu2OCgNR06ab"
      },
      "execution_count": 8,
      "outputs": []
    },
    {
      "cell_type": "markdown",
      "source": [
        "Notice the initialization of some params doesn't match what we did previously. This is to avoid cases when an incorrect implementation is ignored, just becuase all the outputs were zero"
      ],
      "metadata": {
        "id": "0zHZT9Dh1f5W"
      }
    },
    {
      "cell_type": "code",
      "source": [
        "parameters = [C, W1, b1, W2, b2, bngain, bnbias]\n",
        "print(sum(p.nelement() for p in parameters)) # number of parameters in total\n",
        "for p in parameters:\n",
        "  p.requires_grad = True"
      ],
      "metadata": {
        "colab": {
          "base_uri": "https://localhost:8080/"
        },
        "id": "nzCNObWz1iA8",
        "outputId": "f119bea2-6b2f-4d36-b503-286957393044"
      },
      "execution_count": 9,
      "outputs": [
        {
          "output_type": "stream",
          "name": "stdout",
          "text": [
            "4137\n"
          ]
        }
      ]
    },
    {
      "cell_type": "code",
      "source": [
        "batch_size = 32\n",
        "n = batch_size # a shorter variable also, for convenience\n",
        "# construct a minibatch\n",
        "ix = torch.randint(0, X_train.shape[0], (batch_size,), generator=g)\n",
        "Xb, Yb = X_train[ix], Y_train[ix] # batch X,Y"
      ],
      "metadata": {
        "id": "ON5yjyil1mRp"
      },
      "execution_count": 10,
      "outputs": []
    },
    {
      "cell_type": "markdown",
      "source": [
        "### Forward Pass"
      ],
      "metadata": {
        "id": "ESc3Ka7o18CS"
      }
    },
    {
      "cell_type": "code",
      "source": [
        "# Convert inputs to embeddings and reshape\n",
        "emb = C[Xb]\n",
        "embcat = emb.view(emb.shape[0], -1)\n",
        "\n",
        "# Layer 1 - Hidden layer pre-activation (and pre-batchNorm)\n",
        "hprebn = embcat @ W1 + b1\n",
        "# BatchNorm Layer\n",
        "# Logic below calculates BN using basic ops\n",
        "bnmeani = 1/n*hprebn.sum(axis=0, keepdim=True) # Using instead of built-in mean()\n",
        "bndiff = hprebn - bnmeani\n",
        "bndiff2 = bndiff ** 2\n",
        "bnvar = 1/(n-1) * bndiff2.sum(axis=0, keepdim=True)  # Bessel's correction (dividing by n-1, not n)\n",
        "bnvar_inv = (bnvar + 1e-5)**-0.5\n",
        "bnraw = bndiff * bnvar_inv\n",
        "# Hidder pre-activation\n",
        "hpreact = bngain * bnraw + bnbias\n",
        "# Non-linearity\n",
        "h = torch.tanh(hpreact)\n",
        "\n",
        "# Layer 2\n",
        "logits = h @ W2 + b2"
      ],
      "metadata": {
        "id": "NI09paDl3teb"
      },
      "execution_count": 11,
      "outputs": []
    },
    {
      "cell_type": "markdown",
      "source": [
        "#### Calculate Loss\n",
        "\n",
        "Cross Entropy Loss implementation - same as F.cross_entropy()"
      ],
      "metadata": {
        "id": "zIBPNVsP8rYV"
      }
    },
    {
      "cell_type": "code",
      "source": [
        "logit_maxes = logits.max(axis=0, keepdim=True).values\n",
        "norm_logits = logits - logit_maxes # subtract max for numerical stability\n",
        "\n",
        "counts = norm_logits.exp()\n",
        "counts_sum = counts.sum(axis=0, keepdim=True)\n",
        "counts_sum_inv = counts_sum**-1\n",
        "\n",
        "probs = counts * counts_sum_inv\n",
        "logprobs = probs.log()\n",
        "loss = -logprobs[range(n), Yb].mean()"
      ],
      "metadata": {
        "id": "wE9GNfFvii5X"
      },
      "execution_count": 13,
      "outputs": []
    },
    {
      "cell_type": "markdown",
      "source": [
        "#### Pytorch Backward Pass"
      ],
      "metadata": {
        "id": "pCNWkXiPjqZq"
      }
    },
    {
      "cell_type": "code",
      "source": [
        "for p in parameters:\n",
        "  p.grad = None\n",
        "\n",
        "for t in [logprobs, probs, counts, counts_sum, counts_sum_inv,\n",
        "          norm_logits, logit_maxes, logits, h, hpreact, bnraw,\n",
        "          bnvar_inv, bnvar, bndiff2, bndiff, hprebn, bnmeani,\n",
        "          embcat, emb]:\n",
        "  t.retain_grad()\n",
        "\n",
        "loss.backward()\n",
        "loss"
      ],
      "metadata": {
        "colab": {
          "base_uri": "https://localhost:8080/"
        },
        "id": "Qqu-Bmdljyb5",
        "outputId": "fbf6f928-b2fe-48e1-ec5d-ae918be739ab"
      },
      "execution_count": 15,
      "outputs": [
        {
          "output_type": "execute_result",
          "data": {
            "text/plain": [
              "tensor(3.4944, grad_fn=<NegBackward0>)"
            ]
          },
          "metadata": {},
          "execution_count": 15
        }
      ]
    },
    {
      "cell_type": "code",
      "source": [
        "p.\n"
      ],
      "metadata": {
        "id": "CTKDJQhHj0aV"
      },
      "execution_count": null,
      "outputs": []
    }
  ]
}