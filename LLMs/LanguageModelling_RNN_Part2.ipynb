{
  "nbformat": 4,
  "nbformat_minor": 0,
  "metadata": {
    "colab": {
      "provenance": [],
      "authorship_tag": "ABX9TyO2Y6edml3PBl+FtllkTnYC"
    },
    "kernelspec": {
      "name": "python3",
      "display_name": "Python 3"
    },
    "language_info": {
      "name": "python"
    }
  },
  "cells": [
    {
      "cell_type": "markdown",
      "source": [
        "### Backpropogation in detail!"
      ],
      "metadata": {
        "id": "rPMctB2-zuXT"
      }
    },
    {
      "cell_type": "markdown",
      "source": [
        "First few cells remain the same"
      ],
      "metadata": {
        "id": "owgJDpJPzeDI"
      }
    },
    {
      "cell_type": "code",
      "execution_count": 1,
      "metadata": {
        "id": "uabh2Zb5zMwH"
      },
      "outputs": [],
      "source": [
        "import torch\n",
        "import torch.nn.functional as F\n",
        "import matplotlib.pyplot as plt\n",
        "%matplotlib inline"
      ]
    },
    {
      "cell_type": "code",
      "source": [
        "!wget https://raw.githubusercontent.com/suvigyajain0101/NLP/llms/LLMs/names.txt"
      ],
      "metadata": {
        "colab": {
          "base_uri": "https://localhost:8080/"
        },
        "id": "L51Yl4YxzW4j",
        "outputId": "96d654ec-16c7-4d55-bc57-34640344001c"
      },
      "execution_count": 2,
      "outputs": [
        {
          "output_type": "stream",
          "name": "stdout",
          "text": [
            "--2023-05-30 22:18:21--  https://raw.githubusercontent.com/suvigyajain0101/NLP/llms/LLMs/names.txt\n",
            "Resolving raw.githubusercontent.com (raw.githubusercontent.com)... 185.199.111.133, 185.199.110.133, 185.199.109.133, ...\n",
            "Connecting to raw.githubusercontent.com (raw.githubusercontent.com)|185.199.111.133|:443... connected.\n",
            "HTTP request sent, awaiting response... 200 OK\n",
            "Length: 228145 (223K) [text/plain]\n",
            "Saving to: ‘names.txt’\n",
            "\n",
            "names.txt           100%[===================>] 222.80K  --.-KB/s    in 0.03s   \n",
            "\n",
            "2023-05-30 22:18:21 (8.22 MB/s) - ‘names.txt’ saved [228145/228145]\n",
            "\n"
          ]
        }
      ]
    },
    {
      "cell_type": "code",
      "source": [
        "words = open('names.txt').read().splitlines()\n",
        "words[0:10]"
      ],
      "metadata": {
        "colab": {
          "base_uri": "https://localhost:8080/"
        },
        "id": "Hyt2j059zX8q",
        "outputId": "cf349d99-baa4-4ef8-c687-687223dc7162"
      },
      "execution_count": 3,
      "outputs": [
        {
          "output_type": "execute_result",
          "data": {
            "text/plain": [
              "['emma',\n",
              " 'olivia',\n",
              " 'ava',\n",
              " 'isabella',\n",
              " 'sophia',\n",
              " 'charlotte',\n",
              " 'mia',\n",
              " 'amelia',\n",
              " 'harper',\n",
              " 'evelyn']"
            ]
          },
          "metadata": {},
          "execution_count": 3
        }
      ]
    },
    {
      "cell_type": "code",
      "source": [
        "len(words)"
      ],
      "metadata": {
        "colab": {
          "base_uri": "https://localhost:8080/"
        },
        "id": "ouuuHKyqzdWp",
        "outputId": "ec88f7bd-4877-4a5f-aaf3-b7b3b1d9afe6"
      },
      "execution_count": 4,
      "outputs": [
        {
          "output_type": "execute_result",
          "data": {
            "text/plain": [
              "32033"
            ]
          },
          "metadata": {},
          "execution_count": 4
        }
      ]
    },
    {
      "cell_type": "code",
      "source": [
        "# Build vocab of characters and mapping to and from integers\n",
        "chars = sorted(list(set(''.join(words))))\n",
        "assert len(chars) == 26\n",
        "\n",
        "stoi = {s:i+1 for i,s in enumerate(chars)}\n",
        "stoi['.'] = 0\n",
        "\n",
        "itos = {i:s for s,i in stoi.items()}\n",
        "\n",
        "vocab_size = len(itos)\n",
        "\n",
        "print(stoi)\n",
        "print(itos)\n",
        "print(vocab_size)"
      ],
      "metadata": {
        "colab": {
          "base_uri": "https://localhost:8080/"
        },
        "id": "FlGj4v64zrOT",
        "outputId": "ff38435a-9fd6-41eb-9483-51f4838f273a"
      },
      "execution_count": 5,
      "outputs": [
        {
          "output_type": "stream",
          "name": "stdout",
          "text": [
            "{'a': 1, 'b': 2, 'c': 3, 'd': 4, 'e': 5, 'f': 6, 'g': 7, 'h': 8, 'i': 9, 'j': 10, 'k': 11, 'l': 12, 'm': 13, 'n': 14, 'o': 15, 'p': 16, 'q': 17, 'r': 18, 's': 19, 't': 20, 'u': 21, 'v': 22, 'w': 23, 'x': 24, 'y': 25, 'z': 26, '.': 0}\n",
            "{1: 'a', 2: 'b', 3: 'c', 4: 'd', 5: 'e', 6: 'f', 7: 'g', 8: 'h', 9: 'i', 10: 'j', 11: 'k', 12: 'l', 13: 'm', 14: 'n', 15: 'o', 16: 'p', 17: 'q', 18: 'r', 19: 's', 20: 't', 21: 'u', 22: 'v', 23: 'w', 24: 'x', 25: 'y', 26: 'z', 0: '.'}\n",
            "27\n"
          ]
        }
      ]
    },
    {
      "cell_type": "code",
      "source": [
        "import random\n",
        "\n",
        "block_size = 3\n",
        "\n",
        "def build_dataset(words):\n",
        "  \n",
        "  X, Y = [], []\n",
        "\n",
        "  for w in words:\n",
        "    context = [0]*block_size\n",
        "    for ch in w + '.':\n",
        "      ix = stoi[ch]\n",
        "      X.append(context)\n",
        "      Y.append(ix)\n",
        "\n",
        "      context = context[1:] + [ix]\n",
        "\n",
        "  X = torch.tensor(X)\n",
        "  Y = torch.tensor(Y)\n",
        "  print(X.shape, Y.shape)\n",
        "\n",
        "  return X, Y\n",
        "\n",
        "# Random shuffle of words\n",
        "random.seed(42)\n",
        "random.shuffle(words)\n",
        "# Training data -> 80%, Val data -> 10%, testing data -> 10%\n",
        "n1 = int(0.8*len(words))\n",
        "n2 = int(0.9*len(words))\n",
        "\n",
        "X_train, Y_train = build_dataset(words[:n1])\n",
        "X_val, Y_val = build_dataset(words[n1:n2])\n",
        "X_test, Y_test = build_dataset(words[n2:])\n",
        "\n",
        "print('Training Data Size: ', len(X_train))\n",
        "print('Validation Data Size: ', len(X_val))\n",
        "print('Testing Data Size: ', len(X_test))"
      ],
      "metadata": {
        "colab": {
          "base_uri": "https://localhost:8080/"
        },
        "id": "XcUo93I7zs2q",
        "outputId": "743b19f3-81fc-4aa1-cdfb-81e326d4efa2"
      },
      "execution_count": 6,
      "outputs": [
        {
          "output_type": "stream",
          "name": "stdout",
          "text": [
            "torch.Size([182625, 3]) torch.Size([182625])\n",
            "torch.Size([22655, 3]) torch.Size([22655])\n",
            "torch.Size([22866, 3]) torch.Size([22866])\n",
            "Training Data Size:  182625\n",
            "Validation Data Size:  22655\n",
            "Testing Data Size:  22866\n"
          ]
        }
      ]
    },
    {
      "cell_type": "code",
      "source": [
        "def cmp(s, dt, t):\n",
        "  '''\n",
        "  Utility function to compare manual gradients to pytorch gradients\n",
        "  '''\n",
        "\n",
        "  ex = torch.all(dt == t.grad).item()\n",
        "  app = torch.allclose(dt, t.grad)\n",
        "  maxdiff = (dt - t.grad).abs().max().item()\n",
        "  print(f'{s:15s} | exact: {str(ex):5s} | approximate: {str(app):5s} | maxdiff: {maxdiff}')"
      ],
      "metadata": {
        "id": "BUJWTk1Dz4Lj"
      },
      "execution_count": 7,
      "outputs": []
    },
    {
      "cell_type": "code",
      "source": [
        "n_embd = 10 # the dimensionality of the character embedding vectors\n",
        "n_hidden = 64 # the number of neurons in the hidden layer of the MLP\n",
        "\n",
        "g = torch.Generator().manual_seed(2147483647) # for reproducibility\n",
        "C  = torch.randn((vocab_size, n_embd),            generator=g)\n",
        "# Layer 1\n",
        "W1 = torch.randn((n_embd * block_size, n_hidden), generator=g) * (5/3)/((n_embd * block_size)**0.5)\n",
        "b1 = torch.randn(n_hidden,                        generator=g) * 0.1 # using b1 just for demo, it's useless because of BatchNorm\n",
        "# Layer 2\n",
        "W2 = torch.randn((n_hidden, vocab_size),          generator=g) * 0.1\n",
        "b2 = torch.randn(vocab_size,                      generator=g) * 0.1\n",
        "# BatchNorm parameters\n",
        "bngain = torch.randn((1, n_hidden))*0.1 + 1.0\n",
        "bnbias = torch.randn((1, n_hidden))*0.1"
      ],
      "metadata": {
        "id": "yu2OCgNR06ab"
      },
      "execution_count": 8,
      "outputs": []
    },
    {
      "cell_type": "markdown",
      "source": [
        "Notice the initialization of some params doesn't match what we did previously. This is to avoid cases when an incorrect implementation is ignored, just becuase all the outputs were zero"
      ],
      "metadata": {
        "id": "0zHZT9Dh1f5W"
      }
    },
    {
      "cell_type": "code",
      "source": [
        "parameters = [C, W1, b1, W2, b2, bngain, bnbias]\n",
        "print(sum(p.nelement() for p in parameters)) # number of parameters in total\n",
        "for p in parameters:\n",
        "  p.requires_grad = True"
      ],
      "metadata": {
        "colab": {
          "base_uri": "https://localhost:8080/"
        },
        "id": "nzCNObWz1iA8",
        "outputId": "a4316c33-37b5-419f-c231-120adf93373f"
      },
      "execution_count": 9,
      "outputs": [
        {
          "output_type": "stream",
          "name": "stdout",
          "text": [
            "4137\n"
          ]
        }
      ]
    },
    {
      "cell_type": "code",
      "source": [
        "batch_size = 32\n",
        "n = batch_size # a shorter variable also, for convenience\n",
        "# construct a minibatch\n",
        "ix = torch.randint(0, X_train.shape[0], (batch_size,), generator=g)\n",
        "Xb, Yb = X_train[ix], Y_train[ix] # batch X,Y"
      ],
      "metadata": {
        "id": "ON5yjyil1mRp"
      },
      "execution_count": 10,
      "outputs": []
    },
    {
      "cell_type": "markdown",
      "source": [
        "### Forward Pass\n",
        "\n",
        "Explanation for calculation of bnvar and bnraw - \n",
        "\n",
        "\n",
        "1. bnvar: Variance is defined as - \n",
        "\n",
        "![image.png](data:image/png;base64,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)\n",
        "\n",
        "* Step 1 - Calculate mean (bnmeani)\n",
        "* Step 2 - Calculate diff (bndiff)\n",
        "* Step 3 - Calculate diff squared (bndiff2)\n",
        "* Step 4a - Calculate sum across axis=0, since we want the sum of the entire attribute. Think of it like this, we have 32 examples and 64 attributes. We are summing up individual attributes for all the examples, hence the output converts to [1, 64]. Also, it helps to know that pytorch collapses the axis provided as input to 1, i.e, the sum is done across that axis\n",
        "* Step 4b - Divide the sum by 1/(n-1). This gives the variance of layer 1\n",
        "\n",
        "Next, use the variance to get batchNorm. Referring [BatchNorm Paper](https://arxiv.org/pdf/1502.03167.pdf), and following the algorithm below - \n",
        "\n",
        "![image.png](data:image/png;base64,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)\n",
        "\n",
        "we've calculated sigma-squared. \n",
        "\n",
        "* Step 6 - Now, adding a small number (to avoid ZeroDivError), get the denominator of normalization. \n",
        "\n",
        "* Step 7 - Multiplying by diff calculated in step 2 (since we already inverse-squared the denominator), we get the normalization value for the tensor\n",
        "\n",
        "* Step 8 - Next, apply Scale and Shift to the normalization value"
      ],
      "metadata": {
        "id": "ESc3Ka7o18CS"
      }
    },
    {
      "cell_type": "code",
      "source": [
        "# Convert inputs to embeddings and reshape\n",
        "emb = C[Xb]\n",
        "embcat = emb.view(emb.shape[0], -1)\n",
        "\n",
        "# Layer 1 - Hidden layer pre-activation (and pre-batchNorm)\n",
        "hprebn = embcat @ W1 + b1\n",
        "# BatchNorm Layer\n",
        "# Logic below calculates BN using basic ops\n",
        "bnmeani = 1/n*hprebn.sum(axis=0, keepdim=True) # Using instead of built-in mean()\n",
        "bndiff = hprebn - bnmeani\n",
        "bndiff2 = bndiff ** 2\n",
        "bnvar = 1/(n-1) * bndiff2.sum(axis=0, keepdim=True)  # Bessel's correction (dividing by n-1, not n)\n",
        "bnvar_inv = (bnvar + 1e-5)**-0.5\n",
        "bnraw = bndiff * bnvar_inv\n",
        "# Hidder pre-activation\n",
        "hpreact = bngain * bnraw + bnbias\n",
        "# Non-linearity\n",
        "h = torch.tanh(hpreact)\n",
        "\n",
        "# Layer 2\n",
        "logits = h @ W2 + b2"
      ],
      "metadata": {
        "id": "NI09paDl3teb"
      },
      "execution_count": 11,
      "outputs": []
    },
    {
      "cell_type": "markdown",
      "source": [
        "#### Calculate Loss\n",
        "\n",
        "Cross Entropy Loss implementation - same as F.cross_entropy()\n",
        "\n",
        "\n",
        "**NOTE-** BUG FIX BELOW - UPDATE SUM AXIS TO 1 FOR COUNTS_SUM AND LOGIT_MAXES"
      ],
      "metadata": {
        "id": "zIBPNVsP8rYV"
      }
    },
    {
      "cell_type": "code",
      "source": [
        "logit_maxes = logits.max(axis=1, keepdim=True).values\n",
        "norm_logits = logits - logit_maxes # subtract max for numerical stability\n",
        "\n",
        "counts = norm_logits.exp()\n",
        "counts_sum = counts.sum(axis=1, keepdim=True)\n",
        "counts_sum_inv = counts_sum**-1\n",
        "\n",
        "probs = counts * counts_sum_inv\n",
        "logprobs = probs.log()\n",
        "loss = -logprobs[range(n), Yb].mean()"
      ],
      "metadata": {
        "id": "wE9GNfFvii5X"
      },
      "execution_count": 12,
      "outputs": []
    },
    {
      "cell_type": "markdown",
      "source": [
        "#### Pytorch Backward Pass"
      ],
      "metadata": {
        "id": "pCNWkXiPjqZq"
      }
    },
    {
      "cell_type": "code",
      "source": [
        "for p in parameters:\n",
        "  p.grad = None\n",
        "\n",
        "for t in [logprobs, probs, counts, counts_sum, counts_sum_inv,\n",
        "          norm_logits, logit_maxes, logits, h, hpreact, bnraw,\n",
        "          bnvar_inv, bnvar, bndiff2, bndiff, hprebn, bnmeani,\n",
        "          embcat, emb]:\n",
        "  t.retain_grad()\n",
        "\n",
        "loss.backward()\n",
        "loss"
      ],
      "metadata": {
        "colab": {
          "base_uri": "https://localhost:8080/"
        },
        "id": "Qqu-Bmdljyb5",
        "outputId": "765aa6a0-759d-489f-bfa6-78806974a99c"
      },
      "execution_count": 13,
      "outputs": [
        {
          "output_type": "execute_result",
          "data": {
            "text/plain": [
              "tensor(3.3415, grad_fn=<NegBackward0>)"
            ]
          },
          "metadata": {},
          "execution_count": 13
        }
      ]
    },
    {
      "cell_type": "markdown",
      "source": [
        "#### Manual Backprop\n",
        "This is where the fun starts!\n",
        "\n",
        ">Notation - dlogprobs is defined as d(loss) / d(logprobs). Similarly, dprobs is defined as d(loss) / d(probs) and so on to keep the notation in check. The idea is go backwards in the computation graph from loss, trace back computation and calculating gradient at every step. Remember from [Autograd Notebook](https://github.com/suvigyajain0101/NLP/blob/738d0446b0e1cb90f59c56f03e2bae9fd38ea85e/Autograd/micrograd.ipynb), the derivative at a node is the product of local derivative and the global derivative at the node (proven using chain rule)\n",
        "\n",
        "\n",
        "so, dlogprobs, when loss = -logprobs[range(n), Yb].mean() - this can be thought of dy/dx when y = x/n, since .mean() signifies that some values are being added and divided by the number of terms (which is n here). Hence the derivative should be -1/n\n",
        "\n"
      ],
      "metadata": {
        "id": "CTKDJQhHj0aV"
      }
    },
    {
      "cell_type": "code",
      "source": [
        "# dlogprobs is short for d (loss) / d (logprobs). \n",
        "# Since loss is the mean of indexed values from logprobs, dloss wrt to logprobs would be -1/no. of terms in logprobs\n",
        "dlogprobs = torch.zeros_like(logprobs) # we expect the shape to exactly match\n",
        "dlogprobs[range(n), Yb] = -1.0/n\n",
        "\n",
        "cmp('logprobs', dlogprobs, logprobs)"
      ],
      "metadata": {
        "colab": {
          "base_uri": "https://localhost:8080/"
        },
        "id": "2wnsYvv7lB38",
        "outputId": "decf2bd3-3df8-4168-fad7-ea40a12bc8b1"
      },
      "execution_count": 14,
      "outputs": [
        {
          "output_type": "stream",
          "name": "stdout",
          "text": [
            "logprobs        | exact: True  | approximate: True  | maxdiff: 0.0\n"
          ]
        }
      ]
    },
    {
      "cell_type": "markdown",
      "source": [
        "dprobs (or d(logprobs)/d(probs)) when logprobs = probs.log() is simply\n",
        "\n",
        "  &emsp;&emsp;&emsp;&emsp;$d(loss) \\over d(probs)$ = $d(loss) \\over d(logprobs)$ * $d(logprobs) \\over d(probs)$\n",
        "\n",
        "We already first team of RHS calculated before (dlogprobs). Second term is simply 1/probs (since d log(y) / dx = 1/y * dy/dx)"
      ],
      "metadata": {
        "id": "Qe2phMtX6_Kt"
      }
    },
    {
      "cell_type": "code",
      "source": [
        "dprobs = (1.0 / probs) * dlogprobs # d log(y) / dx = 1/y * dy/dx\n",
        "cmp('probs', dprobs, probs)"
      ],
      "metadata": {
        "colab": {
          "base_uri": "https://localhost:8080/"
        },
        "id": "ndDFIWEtphgb",
        "outputId": "bf800884-4b15-4916-c033-2aa1bc1df55b"
      },
      "execution_count": 15,
      "outputs": [
        {
          "output_type": "stream",
          "name": "stdout",
          "text": [
            "probs           | exact: True  | approximate: True  | maxdiff: 0.0\n"
          ]
        }
      ]
    },
    {
      "cell_type": "markdown",
      "source": [
        "dcounts_sum_inv is defined as d(Loss) / d(counts_sum_inv), which can be broken using probs by chain rule.\n",
        "\n",
        "&emsp;&emsp;&emsp;&emsp;$d(loss) \\over d(counts-sum-inv)$ = $d(loss) \\over d(probs)$ * $d(probs) \\over d(counts-sum-inv)$\n",
        "\n",
        "We've already calculated 1st term of RHS, second comes from the equation - \n",
        "\n",
        "&emsp;&emsp;&emsp;&emsp;probs = counts * counts_sum_inv, \n",
        "\n",
        "which is equal to counts (since, d(cx)/d(x) = c if c is a constant)\n",
        "\n",
        "But the important thing to note is the shapes of both the matrices used to create probs"
      ],
      "metadata": {
        "id": "wSASN_UFPNUk"
      }
    },
    {
      "cell_type": "code",
      "source": [
        "counts.shape, counts_sum_inv.shape"
      ],
      "metadata": {
        "colab": {
          "base_uri": "https://localhost:8080/"
        },
        "id": "q0uURJToQkqu",
        "outputId": "6703bd69-38b3-4bfe-f204-419ddb915c63"
      },
      "execution_count": 16,
      "outputs": [
        {
          "output_type": "execute_result",
          "data": {
            "text/plain": [
              "(torch.Size([32, 27]), torch.Size([32, 1]))"
            ]
          },
          "metadata": {},
          "execution_count": 16
        }
      ]
    },
    {
      "cell_type": "markdown",
      "source": [
        "Actually, there are 2 operations happening here - multiplication and broadcasting. The tensor counts_sum_inv is being broadcasted 27 times to the tensor counts, and to correctly calculate the derivative, we need to sum across the rows. This also makes sure that the tensor and it's gradient have the same shape"
      ],
      "metadata": {
        "id": "1UlURwEhUX44"
      }
    },
    {
      "cell_type": "code",
      "source": [
        "# probs = counts * counts_sum_inv\n",
        "dcounts_sum_inv = (counts * dprobs).sum(1, keepdim=True)\n",
        "cmp('counts_sum_inv', dcounts_sum_inv, counts_sum_inv)"
      ],
      "metadata": {
        "colab": {
          "base_uri": "https://localhost:8080/"
        },
        "id": "UU1qiBmfqcJ6",
        "outputId": "ea36e933-cd29-46bb-ca75-b00d59704fac"
      },
      "execution_count": 17,
      "outputs": [
        {
          "output_type": "stream",
          "name": "stdout",
          "text": [
            "counts_sum_inv  | exact: True  | approximate: True  | maxdiff: 0.0\n"
          ]
        }
      ]
    },
    {
      "cell_type": "markdown",
      "source": [
        "For dcounts, we don't need to sum across rows, since both the tensor and its gradient have the same shape.\n",
        "\n",
        "But we won't be able to compare the manual gradient with pytorch gradient just yet, since counts also depends on counts_sum_inv"
      ],
      "metadata": {
        "id": "40zegmWQVOE8"
      }
    },
    {
      "cell_type": "code",
      "source": [
        "dcounts = counts_sum_inv * dprobs"
      ],
      "metadata": {
        "id": "88A2FmhBbu59"
      },
      "execution_count": 18,
      "outputs": []
    },
    {
      "cell_type": "markdown",
      "source": [
        "dcounts_sum can be simply written as d(1/x)/dx = -1/x**2 and then multiplied by global derivative"
      ],
      "metadata": {
        "id": "sXtNhIZwnLqN"
      }
    },
    {
      "cell_type": "code",
      "source": [
        "dcounts_sum = (-counts_sum ** -2) * dcounts_sum_inv\n",
        "cmp('counts_sum', dcounts_sum, counts_sum)"
      ],
      "metadata": {
        "colab": {
          "base_uri": "https://localhost:8080/"
        },
        "id": "D0mXDcDWeG9i",
        "outputId": "c9ccdf7c-3689-4138-df3e-282bdfe799b3"
      },
      "execution_count": 19,
      "outputs": [
        {
          "output_type": "stream",
          "name": "stdout",
          "text": [
            "counts_sum      | exact: True  | approximate: True  | maxdiff: 0.0\n"
          ]
        }
      ]
    },
    {
      "cell_type": "markdown",
      "source": [
        "Next, we need to backpropogate through this line ->\n",
        "\n",
        "counts_sum = counts.sum(axis=1, keepdim=True)"
      ],
      "metadata": {
        "id": "lSJaC_L5n8xB"
      }
    },
    {
      "cell_type": "code",
      "source": [
        "counts.shape, counts_sum.shape"
      ],
      "metadata": {
        "colab": {
          "base_uri": "https://localhost:8080/"
        },
        "id": "nd4-ohmhoG_l",
        "outputId": "68c0b9fd-193e-469b-f742-9449ed1bb098"
      },
      "execution_count": 20,
      "outputs": [
        {
          "output_type": "execute_result",
          "data": {
            "text/plain": [
              "(torch.Size([32, 27]), torch.Size([32, 1]))"
            ]
          },
          "metadata": {},
          "execution_count": 20
        }
      ]
    },
    {
      "cell_type": "markdown",
      "source": [
        "We need to take the column of derivatives of counts_sum to a matrix (counts)\n",
        "Also, remember, we already calculated dcounts earlier. The new gradient needs to be added to previous calculation. We can think of this as gradient coming from multiple branches and it gets summed at the final node\n",
        "\n",
        "To do this, we can create an array using shape like and pass the gradient to replicate along the desired output shape. Now since the original operation is just sum across axis, it's derivative is 1. So, we can use ones_like"
      ],
      "metadata": {
        "id": "bitv13OCoXDw"
      }
    },
    {
      "cell_type": "code",
      "source": [
        "dcounts += torch.ones_like(counts) * dcounts_sum\n",
        "cmp('counts', dcounts, counts)"
      ],
      "metadata": {
        "colab": {
          "base_uri": "https://localhost:8080/"
        },
        "id": "liOYgER6ot-U",
        "outputId": "b25f04d0-7493-457b-8c0d-264ff3833bd3"
      },
      "execution_count": 21,
      "outputs": [
        {
          "output_type": "stream",
          "name": "stdout",
          "text": [
            "counts          | exact: True  | approximate: True  | maxdiff: 0.0\n"
          ]
        }
      ]
    },
    {
      "cell_type": "markdown",
      "source": [
        "Next is norm_logits (counts is element wise exp of norm logits). d(e^x)/dx = e^x"
      ],
      "metadata": {
        "id": "HskPZZ09pzcV"
      }
    },
    {
      "cell_type": "code",
      "source": [
        "dnorm_logits = (norm_logits.exp()) * dcounts\n",
        "cmp('norm_logits', dnorm_logits, norm_logits)"
      ],
      "metadata": {
        "colab": {
          "base_uri": "https://localhost:8080/"
        },
        "id": "k9tu36OivtEK",
        "outputId": "7bf7bf58-af90-4cbe-8e57-d1c3d717f9a5"
      },
      "execution_count": 23,
      "outputs": [
        {
          "output_type": "stream",
          "name": "stdout",
          "text": [
            "norm_logits     | exact: True  | approximate: True  | maxdiff: 0.0\n"
          ]
        }
      ]
    },
    {
      "cell_type": "markdown",
      "source": [
        "Another way to write this is if we replace the first term directly by counts"
      ],
      "metadata": {
        "id": "iHhYIL9cv4H1"
      }
    },
    {
      "cell_type": "code",
      "source": [
        "dnorm_logits = counts * dcounts\n",
        "cmp('norm_logits', dnorm_logits, norm_logits)"
      ],
      "metadata": {
        "colab": {
          "base_uri": "https://localhost:8080/"
        },
        "id": "kfz97yDmwaG_",
        "outputId": "098a2c29-7da0-4484-ab5c-25a447c63d3c"
      },
      "execution_count": 24,
      "outputs": [
        {
          "output_type": "stream",
          "name": "stdout",
          "text": [
            "norm_logits     | exact: True  | approximate: True  | maxdiff: 0.0\n"
          ]
        }
      ]
    },
    {
      "cell_type": "markdown",
      "source": [
        "This works as well!"
      ],
      "metadata": {
        "id": "ce1NnP5JwcLL"
      }
    },
    {
      "cell_type": "markdown",
      "source": [
        "Next is the line -> norm_logits = logits - logit_maxes\n",
        "\n",
        "Here again, shapes are not the same and their is an implicit broadcasting"
      ],
      "metadata": {
        "id": "4pamk19uweIO"
      }
    },
    {
      "cell_type": "code",
      "source": [
        "logits.shape, logit_maxes.shape"
      ],
      "metadata": {
        "colab": {
          "base_uri": "https://localhost:8080/"
        },
        "id": "6TurkPI4wrLy",
        "outputId": "3462ce82-b7ff-4c02-e520-cb9a2ad11a04"
      },
      "execution_count": 25,
      "outputs": [
        {
          "output_type": "execute_result",
          "data": {
            "text/plain": [
              "(torch.Size([32, 27]), torch.Size([32, 1]))"
            ]
          },
          "metadata": {},
          "execution_count": 25
        }
      ]
    },
    {
      "cell_type": "markdown",
      "source": [
        "dlogits is also calculated from a second branch (since, logit_maxes depends on logits -> \n",
        "\n",
        "logit_maxes = logits.max(axis=1, keepdim=True).values)"
      ],
      "metadata": {
        "id": "iSGGb-92yklR"
      }
    },
    {
      "cell_type": "code",
      "source": [
        "dlogits = torch.ones_like(logits) * dnorm_logits"
      ],
      "metadata": {
        "id": "IB4F5uMKyafy"
      },
      "execution_count": null,
      "outputs": []
    },
    {
      "cell_type": "markdown",
      "source": [
        "But dlogit_maxes is only the single branch"
      ],
      "metadata": {
        "id": "LG5Pu8tIy3ZV"
      }
    },
    {
      "cell_type": "code",
      "source": [
        "dlogit_maxes = (-dnorm_logits).sum(1,keepdim=True)\n",
        "cmp('logit_maxes', dlogit_maxes, logit_maxes)"
      ],
      "metadata": {
        "colab": {
          "base_uri": "https://localhost:8080/"
        },
        "id": "dnEMJDX4wxD1",
        "outputId": "02d2b72e-bcaa-4326-9af4-93953957394d"
      },
      "execution_count": 33,
      "outputs": [
        {
          "output_type": "stream",
          "name": "stdout",
          "text": [
            "logits          | exact: True  | approximate: True  | maxdiff: 0.0\n"
          ]
        }
      ]
    },
    {
      "cell_type": "code",
      "source": [],
      "metadata": {
        "id": "hyqSjtr0xZ6G"
      },
      "execution_count": null,
      "outputs": []
    }
  ]
}