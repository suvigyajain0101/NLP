{
  "nbformat": 4,
  "nbformat_minor": 0,
  "metadata": {
    "colab": {
      "name": "GoldPricesApp_DropDown.ipynb",
      "provenance": [],
      "authorship_tag": "ABX9TyP6ozEZjNMireeHhKIiESrs"
    },
    "kernelspec": {
      "name": "python3",
      "display_name": "Python 3"
    },
    "language_info": {
      "name": "python"
    }
  },
  "cells": [
    {
      "cell_type": "markdown",
      "source": [
        "### Imports"
      ],
      "metadata": {
        "id": "JWQDzv5198tR"
      }
    },
    {
      "cell_type": "code",
      "source": [
        "import dash\n",
        "from dash import dcc\n",
        "from dash import html\n",
        "import plotly.express as px\n",
        "import pandas as pd"
      ],
      "metadata": {
        "id": "2uYcgMHW-KQc"
      },
      "execution_count": null,
      "outputs": []
    },
    {
      "cell_type": "markdown",
      "source": [
        "### Read data"
      ],
      "metadata": {
        "id": "Ksxb_Boc-Ld-"
      }
    },
    {
      "cell_type": "code",
      "source": [
        "# Read in the data\n",
        "data = pd.read_csv(\"precious_metals_prices_2018_2021.csv\", usecols=[\"DateTime\", \"Gold\"])"
      ],
      "metadata": {
        "id": "Bo98JxCM-NW6"
      },
      "execution_count": null,
      "outputs": []
    },
    {
      "cell_type": "markdown",
      "source": [
        "### Create Figure"
      ],
      "metadata": {
        "id": "mmodOgo0-Owk"
      }
    },
    {
      "cell_type": "code",
      "source": [
        "# Create a plotly plot for use by dcc.Graph(). Notice list for y= to make color_discrete_map work\n",
        "fig = px.line(\n",
        "    data,\n",
        "    title=\"Precious Metal Prices 2018-2021\",\n",
        "    x=\"DateTime\",\n",
        "    y=[\"Gold\"],\n",
        "    color_discrete_map={\"Gold\": \"gold\"}\n",
        ")"
      ],
      "metadata": {
        "id": "rSkHaqdv-Q5s"
      },
      "execution_count": null,
      "outputs": []
    },
    {
      "cell_type": "markdown",
      "source": [
        "### Update Layout"
      ],
      "metadata": {
        "id": "JlAqccNd-SZl"
      }
    },
    {
      "cell_type": "code",
      "source": [
        "fig.update_layout(\n",
        "    template=\"plotly_dark\",\n",
        "    xaxis_title=\"Date\",\n",
        "    yaxis_title=\"Price (USD/oz)\",\n",
        "    font=dict(\n",
        "        family=\"Verdana, sans-serif\",\n",
        "        size=18,\n",
        "        color=\"white\"\n",
        "    ),\n",
        ")"
      ],
      "metadata": {
        "id": "UQ0ubh7V-VBY"
      },
      "execution_count": null,
      "outputs": []
    },
    {
      "cell_type": "markdown",
      "source": [
        "### Define App Layout"
      ],
      "metadata": {
        "id": "BhQW6W5I-WTx"
      }
    },
    {
      "cell_type": "code",
      "source": [
        "app = dash.Dash(__name__)\n",
        "app.title = \"Precious Metal Prices 2018-2021\"\n",
        "\n",
        "\n",
        "# We add an area which contains Dropdown\n",
        "app.layout = html.Div(\n",
        "    id=\"app-container\",\n",
        "    children=[\n",
        "        html.Div(\n",
        "            id=\"header-area\",\n",
        "            children=[\n",
        "                html.H1(\n",
        "                    id=\"header-title\",\n",
        "                    children=\"Precious Metal Prices\",\n",
        "\n",
        "                ),\n",
        "                html.P(\n",
        "                    id=\"header-description\",\n",
        "                    children=(\"The cost of precious metals\", html.Br(), \"between 2018 and 2021\"),\n",
        "                ),\n",
        "            ],\n",
        "        ),\n",
        "        html.Div(\n",
        "            id=\"menu-area\",\n",
        "            children=[\n",
        "                html.Div(\n",
        "                    children=[\n",
        "                        html.Div(\n",
        "                            className=\"menu-title\",\n",
        "                            children='Metal'\n",
        "                        ),\n",
        "                        dcc.Dropdown(\n",
        "                            id='metal-filter',\n",
        "                            className=\"dropdown\",\n",
        "                            options=[{\"label\":metal, \"value\":metal} for metal in data.columns[1:]],\n",
        "                            clearable=False\n",
        "                        )\n",
        "                    ]\n",
        "                )\n",
        "\n",
        "            ]\n",
        "        ),\n",
        "        html.Div(\n",
        "            id=\"graph-container\",\n",
        "            children=dcc.Graph(\n",
        "                id=\"price-chart\",\n",
        "                figure=fig,\n",
        "                config={\"displayModeBar\": False}\n",
        "            ),\n",
        "        ),\n",
        "    ]\n",
        ")"
      ],
      "metadata": {
        "id": "RWa1GyW2-X9p"
      },
      "execution_count": null,
      "outputs": []
    },
    {
      "cell_type": "markdown",
      "source": [
        "### Run the app"
      ],
      "metadata": {
        "id": "-Y-eDch--bkh"
      }
    },
    {
      "cell_type": "code",
      "source": [
        "if __name__ == \"__main__\":\n",
        "    app.run_server(debug=True)"
      ],
      "metadata": {
        "id": "N_EHdpXi-cQd"
      },
      "execution_count": null,
      "outputs": []
    }
  ]
}