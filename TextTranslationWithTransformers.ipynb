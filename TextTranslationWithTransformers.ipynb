{
  "nbformat": 4,
  "nbformat_minor": 0,
  "metadata": {
    "colab": {
      "name": "TextTranslationWithTransformers.ipynb",
      "provenance": [],
      "authorship_tag": "ABX9TyOc/QqDaia4vaGWYD1pcRPQ"
    },
    "kernelspec": {
      "name": "python3",
      "display_name": "Python 3"
    },
    "language_info": {
      "name": "python"
    },
    "widgets": {
      "application/vnd.jupyter.widget-state+json": {
        "47e200a25ab942e49dce5f7dc220b515": {
          "model_module": "@jupyter-widgets/controls",
          "model_name": "HBoxModel",
          "model_module_version": "1.5.0",
          "state": {
            "_dom_classes": [],
            "_model_module": "@jupyter-widgets/controls",
            "_model_module_version": "1.5.0",
            "_model_name": "HBoxModel",
            "_view_count": null,
            "_view_module": "@jupyter-widgets/controls",
            "_view_module_version": "1.5.0",
            "_view_name": "HBoxView",
            "box_style": "",
            "children": [
              "IPY_MODEL_309acb3d30e7481b90a48b1f5cdd40f6",
              "IPY_MODEL_bdf4faa81135494ab5b2a3c1737e1ed2",
              "IPY_MODEL_bd87ee5c55c84d60b5197344c64bcf31"
            ],
            "layout": "IPY_MODEL_c54c4f44291245b886f6dc195929b38c"
          }
        },
        "309acb3d30e7481b90a48b1f5cdd40f6": {
          "model_module": "@jupyter-widgets/controls",
          "model_name": "HTMLModel",
          "model_module_version": "1.5.0",
          "state": {
            "_dom_classes": [],
            "_model_module": "@jupyter-widgets/controls",
            "_model_module_version": "1.5.0",
            "_model_name": "HTMLModel",
            "_view_count": null,
            "_view_module": "@jupyter-widgets/controls",
            "_view_module_version": "1.5.0",
            "_view_name": "HTMLView",
            "description": "",
            "description_tooltip": null,
            "layout": "IPY_MODEL_b36fac10d9784ffe99aa7ab2028fff43",
            "placeholder": "​",
            "style": "IPY_MODEL_2b7a9478839d4168afd6902b7e3e793d",
            "value": "Dl Completed...: 100%"
          }
        },
        "bdf4faa81135494ab5b2a3c1737e1ed2": {
          "model_module": "@jupyter-widgets/controls",
          "model_name": "FloatProgressModel",
          "model_module_version": "1.5.0",
          "state": {
            "_dom_classes": [],
            "_model_module": "@jupyter-widgets/controls",
            "_model_module_version": "1.5.0",
            "_model_name": "FloatProgressModel",
            "_view_count": null,
            "_view_module": "@jupyter-widgets/controls",
            "_view_module_version": "1.5.0",
            "_view_name": "ProgressView",
            "bar_style": "success",
            "description": "",
            "description_tooltip": null,
            "layout": "IPY_MODEL_ea9636b323354561bdded94c4c27b82e",
            "max": 1,
            "min": 0,
            "orientation": "horizontal",
            "style": "IPY_MODEL_701958e4e82a4668bd560ab1aba85d14",
            "value": 1
          }
        },
        "bd87ee5c55c84d60b5197344c64bcf31": {
          "model_module": "@jupyter-widgets/controls",
          "model_name": "HTMLModel",
          "model_module_version": "1.5.0",
          "state": {
            "_dom_classes": [],
            "_model_module": "@jupyter-widgets/controls",
            "_model_module_version": "1.5.0",
            "_model_name": "HTMLModel",
            "_view_count": null,
            "_view_module": "@jupyter-widgets/controls",
            "_view_module_version": "1.5.0",
            "_view_name": "HTMLView",
            "description": "",
            "description_tooltip": null,
            "layout": "IPY_MODEL_87b3e7ba5d9f4a3eb0fa3bac2a28b602",
            "placeholder": "​",
            "style": "IPY_MODEL_eaef1f026d64430481f58327bf862dec",
            "value": " 1/1 [00:11&lt;00:00,  2.94s/ url]"
          }
        },
        "c54c4f44291245b886f6dc195929b38c": {
          "model_module": "@jupyter-widgets/base",
          "model_name": "LayoutModel",
          "model_module_version": "1.2.0",
          "state": {
            "_model_module": "@jupyter-widgets/base",
            "_model_module_version": "1.2.0",
            "_model_name": "LayoutModel",
            "_view_count": null,
            "_view_module": "@jupyter-widgets/base",
            "_view_module_version": "1.2.0",
            "_view_name": "LayoutView",
            "align_content": null,
            "align_items": null,
            "align_self": null,
            "border": null,
            "bottom": null,
            "display": null,
            "flex": null,
            "flex_flow": null,
            "grid_area": null,
            "grid_auto_columns": null,
            "grid_auto_flow": null,
            "grid_auto_rows": null,
            "grid_column": null,
            "grid_gap": null,
            "grid_row": null,
            "grid_template_areas": null,
            "grid_template_columns": null,
            "grid_template_rows": null,
            "height": null,
            "justify_content": null,
            "justify_items": null,
            "left": null,
            "margin": null,
            "max_height": null,
            "max_width": null,
            "min_height": null,
            "min_width": null,
            "object_fit": null,
            "object_position": null,
            "order": null,
            "overflow": null,
            "overflow_x": null,
            "overflow_y": null,
            "padding": null,
            "right": null,
            "top": null,
            "visibility": null,
            "width": null
          }
        },
        "b36fac10d9784ffe99aa7ab2028fff43": {
          "model_module": "@jupyter-widgets/base",
          "model_name": "LayoutModel",
          "model_module_version": "1.2.0",
          "state": {
            "_model_module": "@jupyter-widgets/base",
            "_model_module_version": "1.2.0",
            "_model_name": "LayoutModel",
            "_view_count": null,
            "_view_module": "@jupyter-widgets/base",
            "_view_module_version": "1.2.0",
            "_view_name": "LayoutView",
            "align_content": null,
            "align_items": null,
            "align_self": null,
            "border": null,
            "bottom": null,
            "display": null,
            "flex": null,
            "flex_flow": null,
            "grid_area": null,
            "grid_auto_columns": null,
            "grid_auto_flow": null,
            "grid_auto_rows": null,
            "grid_column": null,
            "grid_gap": null,
            "grid_row": null,
            "grid_template_areas": null,
            "grid_template_columns": null,
            "grid_template_rows": null,
            "height": null,
            "justify_content": null,
            "justify_items": null,
            "left": null,
            "margin": null,
            "max_height": null,
            "max_width": null,
            "min_height": null,
            "min_width": null,
            "object_fit": null,
            "object_position": null,
            "order": null,
            "overflow": null,
            "overflow_x": null,
            "overflow_y": null,
            "padding": null,
            "right": null,
            "top": null,
            "visibility": null,
            "width": null
          }
        },
        "2b7a9478839d4168afd6902b7e3e793d": {
          "model_module": "@jupyter-widgets/controls",
          "model_name": "DescriptionStyleModel",
          "model_module_version": "1.5.0",
          "state": {
            "_model_module": "@jupyter-widgets/controls",
            "_model_module_version": "1.5.0",
            "_model_name": "DescriptionStyleModel",
            "_view_count": null,
            "_view_module": "@jupyter-widgets/base",
            "_view_module_version": "1.2.0",
            "_view_name": "StyleView",
            "description_width": ""
          }
        },
        "ea9636b323354561bdded94c4c27b82e": {
          "model_module": "@jupyter-widgets/base",
          "model_name": "LayoutModel",
          "model_module_version": "1.2.0",
          "state": {
            "_model_module": "@jupyter-widgets/base",
            "_model_module_version": "1.2.0",
            "_model_name": "LayoutModel",
            "_view_count": null,
            "_view_module": "@jupyter-widgets/base",
            "_view_module_version": "1.2.0",
            "_view_name": "LayoutView",
            "align_content": null,
            "align_items": null,
            "align_self": null,
            "border": null,
            "bottom": null,
            "display": null,
            "flex": null,
            "flex_flow": null,
            "grid_area": null,
            "grid_auto_columns": null,
            "grid_auto_flow": null,
            "grid_auto_rows": null,
            "grid_column": null,
            "grid_gap": null,
            "grid_row": null,
            "grid_template_areas": null,
            "grid_template_columns": null,
            "grid_template_rows": null,
            "height": null,
            "justify_content": null,
            "justify_items": null,
            "left": null,
            "margin": null,
            "max_height": null,
            "max_width": null,
            "min_height": null,
            "min_width": null,
            "object_fit": null,
            "object_position": null,
            "order": null,
            "overflow": null,
            "overflow_x": null,
            "overflow_y": null,
            "padding": null,
            "right": null,
            "top": null,
            "visibility": null,
            "width": "20px"
          }
        },
        "701958e4e82a4668bd560ab1aba85d14": {
          "model_module": "@jupyter-widgets/controls",
          "model_name": "ProgressStyleModel",
          "model_module_version": "1.5.0",
          "state": {
            "_model_module": "@jupyter-widgets/controls",
            "_model_module_version": "1.5.0",
            "_model_name": "ProgressStyleModel",
            "_view_count": null,
            "_view_module": "@jupyter-widgets/base",
            "_view_module_version": "1.2.0",
            "_view_name": "StyleView",
            "bar_color": null,
            "description_width": ""
          }
        },
        "87b3e7ba5d9f4a3eb0fa3bac2a28b602": {
          "model_module": "@jupyter-widgets/base",
          "model_name": "LayoutModel",
          "model_module_version": "1.2.0",
          "state": {
            "_model_module": "@jupyter-widgets/base",
            "_model_module_version": "1.2.0",
            "_model_name": "LayoutModel",
            "_view_count": null,
            "_view_module": "@jupyter-widgets/base",
            "_view_module_version": "1.2.0",
            "_view_name": "LayoutView",
            "align_content": null,
            "align_items": null,
            "align_self": null,
            "border": null,
            "bottom": null,
            "display": null,
            "flex": null,
            "flex_flow": null,
            "grid_area": null,
            "grid_auto_columns": null,
            "grid_auto_flow": null,
            "grid_auto_rows": null,
            "grid_column": null,
            "grid_gap": null,
            "grid_row": null,
            "grid_template_areas": null,
            "grid_template_columns": null,
            "grid_template_rows": null,
            "height": null,
            "justify_content": null,
            "justify_items": null,
            "left": null,
            "margin": null,
            "max_height": null,
            "max_width": null,
            "min_height": null,
            "min_width": null,
            "object_fit": null,
            "object_position": null,
            "order": null,
            "overflow": null,
            "overflow_x": null,
            "overflow_y": null,
            "padding": null,
            "right": null,
            "top": null,
            "visibility": null,
            "width": null
          }
        },
        "eaef1f026d64430481f58327bf862dec": {
          "model_module": "@jupyter-widgets/controls",
          "model_name": "DescriptionStyleModel",
          "model_module_version": "1.5.0",
          "state": {
            "_model_module": "@jupyter-widgets/controls",
            "_model_module_version": "1.5.0",
            "_model_name": "DescriptionStyleModel",
            "_view_count": null,
            "_view_module": "@jupyter-widgets/base",
            "_view_module_version": "1.2.0",
            "_view_name": "StyleView",
            "description_width": ""
          }
        },
        "6ce59eb79b6c4321be9647c47c213a09": {
          "model_module": "@jupyter-widgets/controls",
          "model_name": "HBoxModel",
          "model_module_version": "1.5.0",
          "state": {
            "_dom_classes": [],
            "_model_module": "@jupyter-widgets/controls",
            "_model_module_version": "1.5.0",
            "_model_name": "HBoxModel",
            "_view_count": null,
            "_view_module": "@jupyter-widgets/controls",
            "_view_module_version": "1.5.0",
            "_view_name": "HBoxView",
            "box_style": "",
            "children": [
              "IPY_MODEL_e0cfe89cca9e4807936777769016e868",
              "IPY_MODEL_dde738b4d4894a2faf152ffec503a7b0",
              "IPY_MODEL_2961d6156f414b9e897164562c94241b"
            ],
            "layout": "IPY_MODEL_971827b614f1498b857aede1bd21615b"
          }
        },
        "e0cfe89cca9e4807936777769016e868": {
          "model_module": "@jupyter-widgets/controls",
          "model_name": "HTMLModel",
          "model_module_version": "1.5.0",
          "state": {
            "_dom_classes": [],
            "_model_module": "@jupyter-widgets/controls",
            "_model_module_version": "1.5.0",
            "_model_name": "HTMLModel",
            "_view_count": null,
            "_view_module": "@jupyter-widgets/controls",
            "_view_module_version": "1.5.0",
            "_view_name": "HTMLView",
            "description": "",
            "description_tooltip": null,
            "layout": "IPY_MODEL_078ecef959f54dae81a67d0f0d6c4efb",
            "placeholder": "​",
            "style": "IPY_MODEL_1a0f283064b54fb7b42e43acdb18fa6d",
            "value": "Dl Size...: 100%"
          }
        },
        "dde738b4d4894a2faf152ffec503a7b0": {
          "model_module": "@jupyter-widgets/controls",
          "model_name": "FloatProgressModel",
          "model_module_version": "1.5.0",
          "state": {
            "_dom_classes": [],
            "_model_module": "@jupyter-widgets/controls",
            "_model_module_version": "1.5.0",
            "_model_name": "FloatProgressModel",
            "_view_count": null,
            "_view_module": "@jupyter-widgets/controls",
            "_view_module_version": "1.5.0",
            "_view_name": "ProgressView",
            "bar_style": "success",
            "description": "",
            "description_tooltip": null,
            "layout": "IPY_MODEL_91554dfb23ef458e97817228fb658ccb",
            "max": 1,
            "min": 0,
            "orientation": "horizontal",
            "style": "IPY_MODEL_f06a975cedb841459d0848593c823c87",
            "value": 1
          }
        },
        "2961d6156f414b9e897164562c94241b": {
          "model_module": "@jupyter-widgets/controls",
          "model_name": "HTMLModel",
          "model_module_version": "1.5.0",
          "state": {
            "_dom_classes": [],
            "_model_module": "@jupyter-widgets/controls",
            "_model_module_version": "1.5.0",
            "_model_name": "HTMLModel",
            "_view_count": null,
            "_view_module": "@jupyter-widgets/controls",
            "_view_module_version": "1.5.0",
            "_view_name": "HTMLView",
            "description": "",
            "description_tooltip": null,
            "layout": "IPY_MODEL_57c86c14942e49dfaddd813c50e75644",
            "placeholder": "​",
            "style": "IPY_MODEL_c7f469c7e92f4a5e90a0703025d0f1a6",
            "value": " 124/124 [00:11&lt;00:00, 40.69 MiB/s]"
          }
        },
        "971827b614f1498b857aede1bd21615b": {
          "model_module": "@jupyter-widgets/base",
          "model_name": "LayoutModel",
          "model_module_version": "1.2.0",
          "state": {
            "_model_module": "@jupyter-widgets/base",
            "_model_module_version": "1.2.0",
            "_model_name": "LayoutModel",
            "_view_count": null,
            "_view_module": "@jupyter-widgets/base",
            "_view_module_version": "1.2.0",
            "_view_name": "LayoutView",
            "align_content": null,
            "align_items": null,
            "align_self": null,
            "border": null,
            "bottom": null,
            "display": null,
            "flex": null,
            "flex_flow": null,
            "grid_area": null,
            "grid_auto_columns": null,
            "grid_auto_flow": null,
            "grid_auto_rows": null,
            "grid_column": null,
            "grid_gap": null,
            "grid_row": null,
            "grid_template_areas": null,
            "grid_template_columns": null,
            "grid_template_rows": null,
            "height": null,
            "justify_content": null,
            "justify_items": null,
            "left": null,
            "margin": null,
            "max_height": null,
            "max_width": null,
            "min_height": null,
            "min_width": null,
            "object_fit": null,
            "object_position": null,
            "order": null,
            "overflow": null,
            "overflow_x": null,
            "overflow_y": null,
            "padding": null,
            "right": null,
            "top": null,
            "visibility": null,
            "width": null
          }
        },
        "078ecef959f54dae81a67d0f0d6c4efb": {
          "model_module": "@jupyter-widgets/base",
          "model_name": "LayoutModel",
          "model_module_version": "1.2.0",
          "state": {
            "_model_module": "@jupyter-widgets/base",
            "_model_module_version": "1.2.0",
            "_model_name": "LayoutModel",
            "_view_count": null,
            "_view_module": "@jupyter-widgets/base",
            "_view_module_version": "1.2.0",
            "_view_name": "LayoutView",
            "align_content": null,
            "align_items": null,
            "align_self": null,
            "border": null,
            "bottom": null,
            "display": null,
            "flex": null,
            "flex_flow": null,
            "grid_area": null,
            "grid_auto_columns": null,
            "grid_auto_flow": null,
            "grid_auto_rows": null,
            "grid_column": null,
            "grid_gap": null,
            "grid_row": null,
            "grid_template_areas": null,
            "grid_template_columns": null,
            "grid_template_rows": null,
            "height": null,
            "justify_content": null,
            "justify_items": null,
            "left": null,
            "margin": null,
            "max_height": null,
            "max_width": null,
            "min_height": null,
            "min_width": null,
            "object_fit": null,
            "object_position": null,
            "order": null,
            "overflow": null,
            "overflow_x": null,
            "overflow_y": null,
            "padding": null,
            "right": null,
            "top": null,
            "visibility": null,
            "width": null
          }
        },
        "1a0f283064b54fb7b42e43acdb18fa6d": {
          "model_module": "@jupyter-widgets/controls",
          "model_name": "DescriptionStyleModel",
          "model_module_version": "1.5.0",
          "state": {
            "_model_module": "@jupyter-widgets/controls",
            "_model_module_version": "1.5.0",
            "_model_name": "DescriptionStyleModel",
            "_view_count": null,
            "_view_module": "@jupyter-widgets/base",
            "_view_module_version": "1.2.0",
            "_view_name": "StyleView",
            "description_width": ""
          }
        },
        "91554dfb23ef458e97817228fb658ccb": {
          "model_module": "@jupyter-widgets/base",
          "model_name": "LayoutModel",
          "model_module_version": "1.2.0",
          "state": {
            "_model_module": "@jupyter-widgets/base",
            "_model_module_version": "1.2.0",
            "_model_name": "LayoutModel",
            "_view_count": null,
            "_view_module": "@jupyter-widgets/base",
            "_view_module_version": "1.2.0",
            "_view_name": "LayoutView",
            "align_content": null,
            "align_items": null,
            "align_self": null,
            "border": null,
            "bottom": null,
            "display": null,
            "flex": null,
            "flex_flow": null,
            "grid_area": null,
            "grid_auto_columns": null,
            "grid_auto_flow": null,
            "grid_auto_rows": null,
            "grid_column": null,
            "grid_gap": null,
            "grid_row": null,
            "grid_template_areas": null,
            "grid_template_columns": null,
            "grid_template_rows": null,
            "height": null,
            "justify_content": null,
            "justify_items": null,
            "left": null,
            "margin": null,
            "max_height": null,
            "max_width": null,
            "min_height": null,
            "min_width": null,
            "object_fit": null,
            "object_position": null,
            "order": null,
            "overflow": null,
            "overflow_x": null,
            "overflow_y": null,
            "padding": null,
            "right": null,
            "top": null,
            "visibility": null,
            "width": "20px"
          }
        },
        "f06a975cedb841459d0848593c823c87": {
          "model_module": "@jupyter-widgets/controls",
          "model_name": "ProgressStyleModel",
          "model_module_version": "1.5.0",
          "state": {
            "_model_module": "@jupyter-widgets/controls",
            "_model_module_version": "1.5.0",
            "_model_name": "ProgressStyleModel",
            "_view_count": null,
            "_view_module": "@jupyter-widgets/base",
            "_view_module_version": "1.2.0",
            "_view_name": "StyleView",
            "bar_color": null,
            "description_width": ""
          }
        },
        "57c86c14942e49dfaddd813c50e75644": {
          "model_module": "@jupyter-widgets/base",
          "model_name": "LayoutModel",
          "model_module_version": "1.2.0",
          "state": {
            "_model_module": "@jupyter-widgets/base",
            "_model_module_version": "1.2.0",
            "_model_name": "LayoutModel",
            "_view_count": null,
            "_view_module": "@jupyter-widgets/base",
            "_view_module_version": "1.2.0",
            "_view_name": "LayoutView",
            "align_content": null,
            "align_items": null,
            "align_self": null,
            "border": null,
            "bottom": null,
            "display": null,
            "flex": null,
            "flex_flow": null,
            "grid_area": null,
            "grid_auto_columns": null,
            "grid_auto_flow": null,
            "grid_auto_rows": null,
            "grid_column": null,
            "grid_gap": null,
            "grid_row": null,
            "grid_template_areas": null,
            "grid_template_columns": null,
            "grid_template_rows": null,
            "height": null,
            "justify_content": null,
            "justify_items": null,
            "left": null,
            "margin": null,
            "max_height": null,
            "max_width": null,
            "min_height": null,
            "min_width": null,
            "object_fit": null,
            "object_position": null,
            "order": null,
            "overflow": null,
            "overflow_x": null,
            "overflow_y": null,
            "padding": null,
            "right": null,
            "top": null,
            "visibility": null,
            "width": null
          }
        },
        "c7f469c7e92f4a5e90a0703025d0f1a6": {
          "model_module": "@jupyter-widgets/controls",
          "model_name": "DescriptionStyleModel",
          "model_module_version": "1.5.0",
          "state": {
            "_model_module": "@jupyter-widgets/controls",
            "_model_module_version": "1.5.0",
            "_model_name": "DescriptionStyleModel",
            "_view_count": null,
            "_view_module": "@jupyter-widgets/base",
            "_view_module_version": "1.2.0",
            "_view_name": "StyleView",
            "description_width": ""
          }
        },
        "6dc3415f4377440f8bc4813c3e9aa328": {
          "model_module": "@jupyter-widgets/controls",
          "model_name": "HBoxModel",
          "model_module_version": "1.5.0",
          "state": {
            "_dom_classes": [],
            "_model_module": "@jupyter-widgets/controls",
            "_model_module_version": "1.5.0",
            "_model_name": "HBoxModel",
            "_view_count": null,
            "_view_module": "@jupyter-widgets/controls",
            "_view_module_version": "1.5.0",
            "_view_name": "HBoxView",
            "box_style": "",
            "children": [
              "IPY_MODEL_5a621b7e2a614ea293348cffbc656a2f",
              "IPY_MODEL_235f4fdcdba14e119b426daca06be964",
              "IPY_MODEL_0fb05e13acbb4fbeaff32f09ef6394f2"
            ],
            "layout": "IPY_MODEL_134ff498e72c4df7851e4e596d392cd4"
          }
        },
        "5a621b7e2a614ea293348cffbc656a2f": {
          "model_module": "@jupyter-widgets/controls",
          "model_name": "HTMLModel",
          "model_module_version": "1.5.0",
          "state": {
            "_dom_classes": [],
            "_model_module": "@jupyter-widgets/controls",
            "_model_module_version": "1.5.0",
            "_model_name": "HTMLModel",
            "_view_count": null,
            "_view_module": "@jupyter-widgets/controls",
            "_view_module_version": "1.5.0",
            "_view_name": "HTMLView",
            "description": "",
            "description_tooltip": null,
            "layout": "IPY_MODEL_5481f8619c26485cb977b0e31864ac96",
            "placeholder": "​",
            "style": "IPY_MODEL_f2756cad428a49758afe20b7fd6a64bb",
            "value": "Extraction completed...: 100%"
          }
        },
        "235f4fdcdba14e119b426daca06be964": {
          "model_module": "@jupyter-widgets/controls",
          "model_name": "FloatProgressModel",
          "model_module_version": "1.5.0",
          "state": {
            "_dom_classes": [],
            "_model_module": "@jupyter-widgets/controls",
            "_model_module_version": "1.5.0",
            "_model_name": "FloatProgressModel",
            "_view_count": null,
            "_view_module": "@jupyter-widgets/controls",
            "_view_module_version": "1.5.0",
            "_view_name": "ProgressView",
            "bar_style": "success",
            "description": "",
            "description_tooltip": null,
            "layout": "IPY_MODEL_dec0e8e0d0db45519d4d2aab93ad93c2",
            "max": 1,
            "min": 0,
            "orientation": "horizontal",
            "style": "IPY_MODEL_e4239547b9c44f33b753ff4b74fafc5d",
            "value": 1
          }
        },
        "0fb05e13acbb4fbeaff32f09ef6394f2": {
          "model_module": "@jupyter-widgets/controls",
          "model_name": "HTMLModel",
          "model_module_version": "1.5.0",
          "state": {
            "_dom_classes": [],
            "_model_module": "@jupyter-widgets/controls",
            "_model_module_version": "1.5.0",
            "_model_name": "HTMLModel",
            "_view_count": null,
            "_view_module": "@jupyter-widgets/controls",
            "_view_module_version": "1.5.0",
            "_view_name": "HTMLView",
            "description": "",
            "description_tooltip": null,
            "layout": "IPY_MODEL_63ada80b5f55432b896a35bba8acc5a2",
            "placeholder": "​",
            "style": "IPY_MODEL_07f569e85465450793483133f6470814",
            "value": " 1/1 [00:11&lt;00:00, 11.10s/ file]"
          }
        },
        "134ff498e72c4df7851e4e596d392cd4": {
          "model_module": "@jupyter-widgets/base",
          "model_name": "LayoutModel",
          "model_module_version": "1.2.0",
          "state": {
            "_model_module": "@jupyter-widgets/base",
            "_model_module_version": "1.2.0",
            "_model_name": "LayoutModel",
            "_view_count": null,
            "_view_module": "@jupyter-widgets/base",
            "_view_module_version": "1.2.0",
            "_view_name": "LayoutView",
            "align_content": null,
            "align_items": null,
            "align_self": null,
            "border": null,
            "bottom": null,
            "display": null,
            "flex": null,
            "flex_flow": null,
            "grid_area": null,
            "grid_auto_columns": null,
            "grid_auto_flow": null,
            "grid_auto_rows": null,
            "grid_column": null,
            "grid_gap": null,
            "grid_row": null,
            "grid_template_areas": null,
            "grid_template_columns": null,
            "grid_template_rows": null,
            "height": null,
            "justify_content": null,
            "justify_items": null,
            "left": null,
            "margin": null,
            "max_height": null,
            "max_width": null,
            "min_height": null,
            "min_width": null,
            "object_fit": null,
            "object_position": null,
            "order": null,
            "overflow": null,
            "overflow_x": null,
            "overflow_y": null,
            "padding": null,
            "right": null,
            "top": null,
            "visibility": null,
            "width": null
          }
        },
        "5481f8619c26485cb977b0e31864ac96": {
          "model_module": "@jupyter-widgets/base",
          "model_name": "LayoutModel",
          "model_module_version": "1.2.0",
          "state": {
            "_model_module": "@jupyter-widgets/base",
            "_model_module_version": "1.2.0",
            "_model_name": "LayoutModel",
            "_view_count": null,
            "_view_module": "@jupyter-widgets/base",
            "_view_module_version": "1.2.0",
            "_view_name": "LayoutView",
            "align_content": null,
            "align_items": null,
            "align_self": null,
            "border": null,
            "bottom": null,
            "display": null,
            "flex": null,
            "flex_flow": null,
            "grid_area": null,
            "grid_auto_columns": null,
            "grid_auto_flow": null,
            "grid_auto_rows": null,
            "grid_column": null,
            "grid_gap": null,
            "grid_row": null,
            "grid_template_areas": null,
            "grid_template_columns": null,
            "grid_template_rows": null,
            "height": null,
            "justify_content": null,
            "justify_items": null,
            "left": null,
            "margin": null,
            "max_height": null,
            "max_width": null,
            "min_height": null,
            "min_width": null,
            "object_fit": null,
            "object_position": null,
            "order": null,
            "overflow": null,
            "overflow_x": null,
            "overflow_y": null,
            "padding": null,
            "right": null,
            "top": null,
            "visibility": null,
            "width": null
          }
        },
        "f2756cad428a49758afe20b7fd6a64bb": {
          "model_module": "@jupyter-widgets/controls",
          "model_name": "DescriptionStyleModel",
          "model_module_version": "1.5.0",
          "state": {
            "_model_module": "@jupyter-widgets/controls",
            "_model_module_version": "1.5.0",
            "_model_name": "DescriptionStyleModel",
            "_view_count": null,
            "_view_module": "@jupyter-widgets/base",
            "_view_module_version": "1.2.0",
            "_view_name": "StyleView",
            "description_width": ""
          }
        },
        "dec0e8e0d0db45519d4d2aab93ad93c2": {
          "model_module": "@jupyter-widgets/base",
          "model_name": "LayoutModel",
          "model_module_version": "1.2.0",
          "state": {
            "_model_module": "@jupyter-widgets/base",
            "_model_module_version": "1.2.0",
            "_model_name": "LayoutModel",
            "_view_count": null,
            "_view_module": "@jupyter-widgets/base",
            "_view_module_version": "1.2.0",
            "_view_name": "LayoutView",
            "align_content": null,
            "align_items": null,
            "align_self": null,
            "border": null,
            "bottom": null,
            "display": null,
            "flex": null,
            "flex_flow": null,
            "grid_area": null,
            "grid_auto_columns": null,
            "grid_auto_flow": null,
            "grid_auto_rows": null,
            "grid_column": null,
            "grid_gap": null,
            "grid_row": null,
            "grid_template_areas": null,
            "grid_template_columns": null,
            "grid_template_rows": null,
            "height": null,
            "justify_content": null,
            "justify_items": null,
            "left": null,
            "margin": null,
            "max_height": null,
            "max_width": null,
            "min_height": null,
            "min_width": null,
            "object_fit": null,
            "object_position": null,
            "order": null,
            "overflow": null,
            "overflow_x": null,
            "overflow_y": null,
            "padding": null,
            "right": null,
            "top": null,
            "visibility": null,
            "width": "20px"
          }
        },
        "e4239547b9c44f33b753ff4b74fafc5d": {
          "model_module": "@jupyter-widgets/controls",
          "model_name": "ProgressStyleModel",
          "model_module_version": "1.5.0",
          "state": {
            "_model_module": "@jupyter-widgets/controls",
            "_model_module_version": "1.5.0",
            "_model_name": "ProgressStyleModel",
            "_view_count": null,
            "_view_module": "@jupyter-widgets/base",
            "_view_module_version": "1.2.0",
            "_view_name": "StyleView",
            "bar_color": null,
            "description_width": ""
          }
        },
        "63ada80b5f55432b896a35bba8acc5a2": {
          "model_module": "@jupyter-widgets/base",
          "model_name": "LayoutModel",
          "model_module_version": "1.2.0",
          "state": {
            "_model_module": "@jupyter-widgets/base",
            "_model_module_version": "1.2.0",
            "_model_name": "LayoutModel",
            "_view_count": null,
            "_view_module": "@jupyter-widgets/base",
            "_view_module_version": "1.2.0",
            "_view_name": "LayoutView",
            "align_content": null,
            "align_items": null,
            "align_self": null,
            "border": null,
            "bottom": null,
            "display": null,
            "flex": null,
            "flex_flow": null,
            "grid_area": null,
            "grid_auto_columns": null,
            "grid_auto_flow": null,
            "grid_auto_rows": null,
            "grid_column": null,
            "grid_gap": null,
            "grid_row": null,
            "grid_template_areas": null,
            "grid_template_columns": null,
            "grid_template_rows": null,
            "height": null,
            "justify_content": null,
            "justify_items": null,
            "left": null,
            "margin": null,
            "max_height": null,
            "max_width": null,
            "min_height": null,
            "min_width": null,
            "object_fit": null,
            "object_position": null,
            "order": null,
            "overflow": null,
            "overflow_x": null,
            "overflow_y": null,
            "padding": null,
            "right": null,
            "top": null,
            "visibility": null,
            "width": null
          }
        },
        "07f569e85465450793483133f6470814": {
          "model_module": "@jupyter-widgets/controls",
          "model_name": "DescriptionStyleModel",
          "model_module_version": "1.5.0",
          "state": {
            "_model_module": "@jupyter-widgets/controls",
            "_model_module_version": "1.5.0",
            "_model_name": "DescriptionStyleModel",
            "_view_count": null,
            "_view_module": "@jupyter-widgets/base",
            "_view_module_version": "1.2.0",
            "_view_name": "StyleView",
            "description_width": ""
          }
        },
        "7409ab40bf464acea861fa933a8a4d8a": {
          "model_module": "@jupyter-widgets/controls",
          "model_name": "HBoxModel",
          "model_module_version": "1.5.0",
          "state": {
            "_dom_classes": [],
            "_model_module": "@jupyter-widgets/controls",
            "_model_module_version": "1.5.0",
            "_model_name": "HBoxModel",
            "_view_count": null,
            "_view_module": "@jupyter-widgets/controls",
            "_view_module_version": "1.5.0",
            "_view_name": "HBoxView",
            "box_style": "",
            "children": [
              "IPY_MODEL_3e0c0abeadc04aafb2b2a7fc7f10bd4c",
              "IPY_MODEL_9bba3fc9d0c147f99b09d8500b1ee58e",
              "IPY_MODEL_e8ea483138804d558efdb042de4e51bf"
            ],
            "layout": "IPY_MODEL_674076ee09374c33879d9da6e1b36cd4"
          }
        },
        "3e0c0abeadc04aafb2b2a7fc7f10bd4c": {
          "model_module": "@jupyter-widgets/controls",
          "model_name": "HTMLModel",
          "model_module_version": "1.5.0",
          "state": {
            "_dom_classes": [],
            "_model_module": "@jupyter-widgets/controls",
            "_model_module_version": "1.5.0",
            "_model_name": "HTMLModel",
            "_view_count": null,
            "_view_module": "@jupyter-widgets/controls",
            "_view_module_version": "1.5.0",
            "_view_name": "HTMLView",
            "description": "",
            "description_tooltip": null,
            "layout": "IPY_MODEL_e20e53cb1996461ab5c20e937173687d",
            "placeholder": "​",
            "style": "IPY_MODEL_34030b924bcf4165a9acc62c93bd726e",
            "value": ""
          }
        },
        "9bba3fc9d0c147f99b09d8500b1ee58e": {
          "model_module": "@jupyter-widgets/controls",
          "model_name": "FloatProgressModel",
          "model_module_version": "1.5.0",
          "state": {
            "_dom_classes": [],
            "_model_module": "@jupyter-widgets/controls",
            "_model_module_version": "1.5.0",
            "_model_name": "FloatProgressModel",
            "_view_count": null,
            "_view_module": "@jupyter-widgets/controls",
            "_view_module_version": "1.5.0",
            "_view_name": "ProgressView",
            "bar_style": "info",
            "description": "",
            "description_tooltip": null,
            "layout": "IPY_MODEL_524ecc69345b4dfb94a1e3500ed19912",
            "max": 1,
            "min": 0,
            "orientation": "horizontal",
            "style": "IPY_MODEL_22a0de1a4c814d399181ded1c81c3b91",
            "value": 1
          }
        },
        "e8ea483138804d558efdb042de4e51bf": {
          "model_module": "@jupyter-widgets/controls",
          "model_name": "HTMLModel",
          "model_module_version": "1.5.0",
          "state": {
            "_dom_classes": [],
            "_model_module": "@jupyter-widgets/controls",
            "_model_module_version": "1.5.0",
            "_model_name": "HTMLModel",
            "_view_count": null,
            "_view_module": "@jupyter-widgets/controls",
            "_view_module_version": "1.5.0",
            "_view_name": "HTMLView",
            "description": "",
            "description_tooltip": null,
            "layout": "IPY_MODEL_0c8009360eda42508ff5136f2fd1710c",
            "placeholder": "​",
            "style": "IPY_MODEL_14253374f5e54a80a3cb4c641c7f03b7",
            "value": " 51699/0 [00:21&lt;00:00, 1604.19 examples/s]"
          }
        },
        "674076ee09374c33879d9da6e1b36cd4": {
          "model_module": "@jupyter-widgets/base",
          "model_name": "LayoutModel",
          "model_module_version": "1.2.0",
          "state": {
            "_model_module": "@jupyter-widgets/base",
            "_model_module_version": "1.2.0",
            "_model_name": "LayoutModel",
            "_view_count": null,
            "_view_module": "@jupyter-widgets/base",
            "_view_module_version": "1.2.0",
            "_view_name": "LayoutView",
            "align_content": null,
            "align_items": null,
            "align_self": null,
            "border": null,
            "bottom": null,
            "display": null,
            "flex": null,
            "flex_flow": null,
            "grid_area": null,
            "grid_auto_columns": null,
            "grid_auto_flow": null,
            "grid_auto_rows": null,
            "grid_column": null,
            "grid_gap": null,
            "grid_row": null,
            "grid_template_areas": null,
            "grid_template_columns": null,
            "grid_template_rows": null,
            "height": null,
            "justify_content": null,
            "justify_items": null,
            "left": null,
            "margin": null,
            "max_height": null,
            "max_width": null,
            "min_height": null,
            "min_width": null,
            "object_fit": null,
            "object_position": null,
            "order": null,
            "overflow": null,
            "overflow_x": null,
            "overflow_y": null,
            "padding": null,
            "right": null,
            "top": null,
            "visibility": null,
            "width": null
          }
        },
        "e20e53cb1996461ab5c20e937173687d": {
          "model_module": "@jupyter-widgets/base",
          "model_name": "LayoutModel",
          "model_module_version": "1.2.0",
          "state": {
            "_model_module": "@jupyter-widgets/base",
            "_model_module_version": "1.2.0",
            "_model_name": "LayoutModel",
            "_view_count": null,
            "_view_module": "@jupyter-widgets/base",
            "_view_module_version": "1.2.0",
            "_view_name": "LayoutView",
            "align_content": null,
            "align_items": null,
            "align_self": null,
            "border": null,
            "bottom": null,
            "display": null,
            "flex": null,
            "flex_flow": null,
            "grid_area": null,
            "grid_auto_columns": null,
            "grid_auto_flow": null,
            "grid_auto_rows": null,
            "grid_column": null,
            "grid_gap": null,
            "grid_row": null,
            "grid_template_areas": null,
            "grid_template_columns": null,
            "grid_template_rows": null,
            "height": null,
            "justify_content": null,
            "justify_items": null,
            "left": null,
            "margin": null,
            "max_height": null,
            "max_width": null,
            "min_height": null,
            "min_width": null,
            "object_fit": null,
            "object_position": null,
            "order": null,
            "overflow": null,
            "overflow_x": null,
            "overflow_y": null,
            "padding": null,
            "right": null,
            "top": null,
            "visibility": null,
            "width": null
          }
        },
        "34030b924bcf4165a9acc62c93bd726e": {
          "model_module": "@jupyter-widgets/controls",
          "model_name": "DescriptionStyleModel",
          "model_module_version": "1.5.0",
          "state": {
            "_model_module": "@jupyter-widgets/controls",
            "_model_module_version": "1.5.0",
            "_model_name": "DescriptionStyleModel",
            "_view_count": null,
            "_view_module": "@jupyter-widgets/base",
            "_view_module_version": "1.2.0",
            "_view_name": "StyleView",
            "description_width": ""
          }
        },
        "524ecc69345b4dfb94a1e3500ed19912": {
          "model_module": "@jupyter-widgets/base",
          "model_name": "LayoutModel",
          "model_module_version": "1.2.0",
          "state": {
            "_model_module": "@jupyter-widgets/base",
            "_model_module_version": "1.2.0",
            "_model_name": "LayoutModel",
            "_view_count": null,
            "_view_module": "@jupyter-widgets/base",
            "_view_module_version": "1.2.0",
            "_view_name": "LayoutView",
            "align_content": null,
            "align_items": null,
            "align_self": null,
            "border": null,
            "bottom": null,
            "display": null,
            "flex": null,
            "flex_flow": null,
            "grid_area": null,
            "grid_auto_columns": null,
            "grid_auto_flow": null,
            "grid_auto_rows": null,
            "grid_column": null,
            "grid_gap": null,
            "grid_row": null,
            "grid_template_areas": null,
            "grid_template_columns": null,
            "grid_template_rows": null,
            "height": null,
            "justify_content": null,
            "justify_items": null,
            "left": null,
            "margin": null,
            "max_height": null,
            "max_width": null,
            "min_height": null,
            "min_width": null,
            "object_fit": null,
            "object_position": null,
            "order": null,
            "overflow": null,
            "overflow_x": null,
            "overflow_y": null,
            "padding": null,
            "right": null,
            "top": null,
            "visibility": null,
            "width": "20px"
          }
        },
        "22a0de1a4c814d399181ded1c81c3b91": {
          "model_module": "@jupyter-widgets/controls",
          "model_name": "ProgressStyleModel",
          "model_module_version": "1.5.0",
          "state": {
            "_model_module": "@jupyter-widgets/controls",
            "_model_module_version": "1.5.0",
            "_model_name": "ProgressStyleModel",
            "_view_count": null,
            "_view_module": "@jupyter-widgets/base",
            "_view_module_version": "1.2.0",
            "_view_name": "StyleView",
            "bar_color": null,
            "description_width": ""
          }
        },
        "0c8009360eda42508ff5136f2fd1710c": {
          "model_module": "@jupyter-widgets/base",
          "model_name": "LayoutModel",
          "model_module_version": "1.2.0",
          "state": {
            "_model_module": "@jupyter-widgets/base",
            "_model_module_version": "1.2.0",
            "_model_name": "LayoutModel",
            "_view_count": null,
            "_view_module": "@jupyter-widgets/base",
            "_view_module_version": "1.2.0",
            "_view_name": "LayoutView",
            "align_content": null,
            "align_items": null,
            "align_self": null,
            "border": null,
            "bottom": null,
            "display": null,
            "flex": null,
            "flex_flow": null,
            "grid_area": null,
            "grid_auto_columns": null,
            "grid_auto_flow": null,
            "grid_auto_rows": null,
            "grid_column": null,
            "grid_gap": null,
            "grid_row": null,
            "grid_template_areas": null,
            "grid_template_columns": null,
            "grid_template_rows": null,
            "height": null,
            "justify_content": null,
            "justify_items": null,
            "left": null,
            "margin": null,
            "max_height": null,
            "max_width": null,
            "min_height": null,
            "min_width": null,
            "object_fit": null,
            "object_position": null,
            "order": null,
            "overflow": null,
            "overflow_x": null,
            "overflow_y": null,
            "padding": null,
            "right": null,
            "top": null,
            "visibility": null,
            "width": null
          }
        },
        "14253374f5e54a80a3cb4c641c7f03b7": {
          "model_module": "@jupyter-widgets/controls",
          "model_name": "DescriptionStyleModel",
          "model_module_version": "1.5.0",
          "state": {
            "_model_module": "@jupyter-widgets/controls",
            "_model_module_version": "1.5.0",
            "_model_name": "DescriptionStyleModel",
            "_view_count": null,
            "_view_module": "@jupyter-widgets/base",
            "_view_module_version": "1.2.0",
            "_view_name": "StyleView",
            "description_width": ""
          }
        },
        "5b856dd3b58149b28368d673f94beab8": {
          "model_module": "@jupyter-widgets/controls",
          "model_name": "HBoxModel",
          "model_module_version": "1.5.0",
          "state": {
            "_dom_classes": [],
            "_model_module": "@jupyter-widgets/controls",
            "_model_module_version": "1.5.0",
            "_model_name": "HBoxModel",
            "_view_count": null,
            "_view_module": "@jupyter-widgets/controls",
            "_view_module_version": "1.5.0",
            "_view_name": "HBoxView",
            "box_style": "",
            "children": [
              "IPY_MODEL_16797b2d7a004b509a1ba50ce05e48ca",
              "IPY_MODEL_854b7174b308427ca197535afbbd8d14",
              "IPY_MODEL_22b46d33585c404db540579219e8df82"
            ],
            "layout": "IPY_MODEL_42e8f3fdd2d64be7b01c2b0b7042fb48"
          }
        },
        "16797b2d7a004b509a1ba50ce05e48ca": {
          "model_module": "@jupyter-widgets/controls",
          "model_name": "HTMLModel",
          "model_module_version": "1.5.0",
          "state": {
            "_dom_classes": [],
            "_model_module": "@jupyter-widgets/controls",
            "_model_module_version": "1.5.0",
            "_model_name": "HTMLModel",
            "_view_count": null,
            "_view_module": "@jupyter-widgets/controls",
            "_view_module_version": "1.5.0",
            "_view_name": "HTMLView",
            "description": "",
            "description_tooltip": null,
            "layout": "IPY_MODEL_6b319e5b192e46a3b3cd30e1c9df4b57",
            "placeholder": "​",
            "style": "IPY_MODEL_f266d014bdc64052a249bf72b9667cef",
            "value": "100%"
          }
        },
        "854b7174b308427ca197535afbbd8d14": {
          "model_module": "@jupyter-widgets/controls",
          "model_name": "FloatProgressModel",
          "model_module_version": "1.5.0",
          "state": {
            "_dom_classes": [],
            "_model_module": "@jupyter-widgets/controls",
            "_model_module_version": "1.5.0",
            "_model_name": "FloatProgressModel",
            "_view_count": null,
            "_view_module": "@jupyter-widgets/controls",
            "_view_module_version": "1.5.0",
            "_view_name": "ProgressView",
            "bar_style": "danger",
            "description": "",
            "description_tooltip": null,
            "layout": "IPY_MODEL_6312ebf3d52949269c2e2fbe5321baf0",
            "max": 51785,
            "min": 0,
            "orientation": "horizontal",
            "style": "IPY_MODEL_ce5bfd41025a4c02bd92beb28d35cebe",
            "value": 51784
          }
        },
        "22b46d33585c404db540579219e8df82": {
          "model_module": "@jupyter-widgets/controls",
          "model_name": "HTMLModel",
          "model_module_version": "1.5.0",
          "state": {
            "_dom_classes": [],
            "_model_module": "@jupyter-widgets/controls",
            "_model_module_version": "1.5.0",
            "_model_name": "HTMLModel",
            "_view_count": null,
            "_view_module": "@jupyter-widgets/controls",
            "_view_module_version": "1.5.0",
            "_view_name": "HTMLView",
            "description": "",
            "description_tooltip": null,
            "layout": "IPY_MODEL_63657be16c8443cb8741e6af5fc17ecd",
            "placeholder": "​",
            "style": "IPY_MODEL_390839daf16447a0a3ff987729ca510c",
            "value": " 51784/51785 [00:00&lt;00:00, 117063.89 examples/s]"
          }
        },
        "42e8f3fdd2d64be7b01c2b0b7042fb48": {
          "model_module": "@jupyter-widgets/base",
          "model_name": "LayoutModel",
          "model_module_version": "1.2.0",
          "state": {
            "_model_module": "@jupyter-widgets/base",
            "_model_module_version": "1.2.0",
            "_model_name": "LayoutModel",
            "_view_count": null,
            "_view_module": "@jupyter-widgets/base",
            "_view_module_version": "1.2.0",
            "_view_name": "LayoutView",
            "align_content": null,
            "align_items": null,
            "align_self": null,
            "border": null,
            "bottom": null,
            "display": null,
            "flex": null,
            "flex_flow": null,
            "grid_area": null,
            "grid_auto_columns": null,
            "grid_auto_flow": null,
            "grid_auto_rows": null,
            "grid_column": null,
            "grid_gap": null,
            "grid_row": null,
            "grid_template_areas": null,
            "grid_template_columns": null,
            "grid_template_rows": null,
            "height": null,
            "justify_content": null,
            "justify_items": null,
            "left": null,
            "margin": null,
            "max_height": null,
            "max_width": null,
            "min_height": null,
            "min_width": null,
            "object_fit": null,
            "object_position": null,
            "order": null,
            "overflow": null,
            "overflow_x": null,
            "overflow_y": null,
            "padding": null,
            "right": null,
            "top": null,
            "visibility": null,
            "width": null
          }
        },
        "6b319e5b192e46a3b3cd30e1c9df4b57": {
          "model_module": "@jupyter-widgets/base",
          "model_name": "LayoutModel",
          "model_module_version": "1.2.0",
          "state": {
            "_model_module": "@jupyter-widgets/base",
            "_model_module_version": "1.2.0",
            "_model_name": "LayoutModel",
            "_view_count": null,
            "_view_module": "@jupyter-widgets/base",
            "_view_module_version": "1.2.0",
            "_view_name": "LayoutView",
            "align_content": null,
            "align_items": null,
            "align_self": null,
            "border": null,
            "bottom": null,
            "display": null,
            "flex": null,
            "flex_flow": null,
            "grid_area": null,
            "grid_auto_columns": null,
            "grid_auto_flow": null,
            "grid_auto_rows": null,
            "grid_column": null,
            "grid_gap": null,
            "grid_row": null,
            "grid_template_areas": null,
            "grid_template_columns": null,
            "grid_template_rows": null,
            "height": null,
            "justify_content": null,
            "justify_items": null,
            "left": null,
            "margin": null,
            "max_height": null,
            "max_width": null,
            "min_height": null,
            "min_width": null,
            "object_fit": null,
            "object_position": null,
            "order": null,
            "overflow": null,
            "overflow_x": null,
            "overflow_y": null,
            "padding": null,
            "right": null,
            "top": null,
            "visibility": null,
            "width": null
          }
        },
        "f266d014bdc64052a249bf72b9667cef": {
          "model_module": "@jupyter-widgets/controls",
          "model_name": "DescriptionStyleModel",
          "model_module_version": "1.5.0",
          "state": {
            "_model_module": "@jupyter-widgets/controls",
            "_model_module_version": "1.5.0",
            "_model_name": "DescriptionStyleModel",
            "_view_count": null,
            "_view_module": "@jupyter-widgets/base",
            "_view_module_version": "1.2.0",
            "_view_name": "StyleView",
            "description_width": ""
          }
        },
        "6312ebf3d52949269c2e2fbe5321baf0": {
          "model_module": "@jupyter-widgets/base",
          "model_name": "LayoutModel",
          "model_module_version": "1.2.0",
          "state": {
            "_model_module": "@jupyter-widgets/base",
            "_model_module_version": "1.2.0",
            "_model_name": "LayoutModel",
            "_view_count": null,
            "_view_module": "@jupyter-widgets/base",
            "_view_module_version": "1.2.0",
            "_view_name": "LayoutView",
            "align_content": null,
            "align_items": null,
            "align_self": null,
            "border": null,
            "bottom": null,
            "display": null,
            "flex": null,
            "flex_flow": null,
            "grid_area": null,
            "grid_auto_columns": null,
            "grid_auto_flow": null,
            "grid_auto_rows": null,
            "grid_column": null,
            "grid_gap": null,
            "grid_row": null,
            "grid_template_areas": null,
            "grid_template_columns": null,
            "grid_template_rows": null,
            "height": null,
            "justify_content": null,
            "justify_items": null,
            "left": null,
            "margin": null,
            "max_height": null,
            "max_width": null,
            "min_height": null,
            "min_width": null,
            "object_fit": null,
            "object_position": null,
            "order": null,
            "overflow": null,
            "overflow_x": null,
            "overflow_y": null,
            "padding": null,
            "right": null,
            "top": null,
            "visibility": null,
            "width": null
          }
        },
        "ce5bfd41025a4c02bd92beb28d35cebe": {
          "model_module": "@jupyter-widgets/controls",
          "model_name": "ProgressStyleModel",
          "model_module_version": "1.5.0",
          "state": {
            "_model_module": "@jupyter-widgets/controls",
            "_model_module_version": "1.5.0",
            "_model_name": "ProgressStyleModel",
            "_view_count": null,
            "_view_module": "@jupyter-widgets/base",
            "_view_module_version": "1.2.0",
            "_view_name": "StyleView",
            "bar_color": null,
            "description_width": ""
          }
        },
        "63657be16c8443cb8741e6af5fc17ecd": {
          "model_module": "@jupyter-widgets/base",
          "model_name": "LayoutModel",
          "model_module_version": "1.2.0",
          "state": {
            "_model_module": "@jupyter-widgets/base",
            "_model_module_version": "1.2.0",
            "_model_name": "LayoutModel",
            "_view_count": null,
            "_view_module": "@jupyter-widgets/base",
            "_view_module_version": "1.2.0",
            "_view_name": "LayoutView",
            "align_content": null,
            "align_items": null,
            "align_self": null,
            "border": null,
            "bottom": null,
            "display": null,
            "flex": null,
            "flex_flow": null,
            "grid_area": null,
            "grid_auto_columns": null,
            "grid_auto_flow": null,
            "grid_auto_rows": null,
            "grid_column": null,
            "grid_gap": null,
            "grid_row": null,
            "grid_template_areas": null,
            "grid_template_columns": null,
            "grid_template_rows": null,
            "height": null,
            "justify_content": null,
            "justify_items": null,
            "left": null,
            "margin": null,
            "max_height": null,
            "max_width": null,
            "min_height": null,
            "min_width": null,
            "object_fit": null,
            "object_position": null,
            "order": null,
            "overflow": null,
            "overflow_x": null,
            "overflow_y": null,
            "padding": null,
            "right": null,
            "top": null,
            "visibility": null,
            "width": null
          }
        },
        "390839daf16447a0a3ff987729ca510c": {
          "model_module": "@jupyter-widgets/controls",
          "model_name": "DescriptionStyleModel",
          "model_module_version": "1.5.0",
          "state": {
            "_model_module": "@jupyter-widgets/controls",
            "_model_module_version": "1.5.0",
            "_model_name": "DescriptionStyleModel",
            "_view_count": null,
            "_view_module": "@jupyter-widgets/base",
            "_view_module_version": "1.2.0",
            "_view_name": "StyleView",
            "description_width": ""
          }
        },
        "a5ee04216f62408fa58092d37f92c4f7": {
          "model_module": "@jupyter-widgets/controls",
          "model_name": "HBoxModel",
          "model_module_version": "1.5.0",
          "state": {
            "_dom_classes": [],
            "_model_module": "@jupyter-widgets/controls",
            "_model_module_version": "1.5.0",
            "_model_name": "HBoxModel",
            "_view_count": null,
            "_view_module": "@jupyter-widgets/controls",
            "_view_module_version": "1.5.0",
            "_view_name": "HBoxView",
            "box_style": "",
            "children": [
              "IPY_MODEL_e275d262c1644956901f988b88009540",
              "IPY_MODEL_7b564864120d43bf9c3c1d65031d94ff",
              "IPY_MODEL_2d1236827e384b0fb29abfedefb795c1"
            ],
            "layout": "IPY_MODEL_47b556cce4a9443696a4bcbda485af87"
          }
        },
        "e275d262c1644956901f988b88009540": {
          "model_module": "@jupyter-widgets/controls",
          "model_name": "HTMLModel",
          "model_module_version": "1.5.0",
          "state": {
            "_dom_classes": [],
            "_model_module": "@jupyter-widgets/controls",
            "_model_module_version": "1.5.0",
            "_model_name": "HTMLModel",
            "_view_count": null,
            "_view_module": "@jupyter-widgets/controls",
            "_view_module_version": "1.5.0",
            "_view_name": "HTMLView",
            "description": "",
            "description_tooltip": null,
            "layout": "IPY_MODEL_ccf6090448bc494e929ce93fe090a835",
            "placeholder": "​",
            "style": "IPY_MODEL_8ff89994a72149c0bac3099c1f78731d",
            "value": ""
          }
        },
        "7b564864120d43bf9c3c1d65031d94ff": {
          "model_module": "@jupyter-widgets/controls",
          "model_name": "FloatProgressModel",
          "model_module_version": "1.5.0",
          "state": {
            "_dom_classes": [],
            "_model_module": "@jupyter-widgets/controls",
            "_model_module_version": "1.5.0",
            "_model_name": "FloatProgressModel",
            "_view_count": null,
            "_view_module": "@jupyter-widgets/controls",
            "_view_module_version": "1.5.0",
            "_view_name": "ProgressView",
            "bar_style": "info",
            "description": "",
            "description_tooltip": null,
            "layout": "IPY_MODEL_1c3bc8d253734e4ab3b71579daa805a2",
            "max": 1,
            "min": 0,
            "orientation": "horizontal",
            "style": "IPY_MODEL_605f41de02124dfea4fd577492a59f1f",
            "value": 1
          }
        },
        "2d1236827e384b0fb29abfedefb795c1": {
          "model_module": "@jupyter-widgets/controls",
          "model_name": "HTMLModel",
          "model_module_version": "1.5.0",
          "state": {
            "_dom_classes": [],
            "_model_module": "@jupyter-widgets/controls",
            "_model_module_version": "1.5.0",
            "_model_name": "HTMLModel",
            "_view_count": null,
            "_view_module": "@jupyter-widgets/controls",
            "_view_module_version": "1.5.0",
            "_view_name": "HTMLView",
            "description": "",
            "description_tooltip": null,
            "layout": "IPY_MODEL_e5e8b9cccd69493f8f88c5472fb11263",
            "placeholder": "​",
            "style": "IPY_MODEL_54f2640cff3d4068aa7dc122945ed55a",
            "value": " 969/0 [00:00&lt;00:00, 1730.23 examples/s]"
          }
        },
        "47b556cce4a9443696a4bcbda485af87": {
          "model_module": "@jupyter-widgets/base",
          "model_name": "LayoutModel",
          "model_module_version": "1.2.0",
          "state": {
            "_model_module": "@jupyter-widgets/base",
            "_model_module_version": "1.2.0",
            "_model_name": "LayoutModel",
            "_view_count": null,
            "_view_module": "@jupyter-widgets/base",
            "_view_module_version": "1.2.0",
            "_view_name": "LayoutView",
            "align_content": null,
            "align_items": null,
            "align_self": null,
            "border": null,
            "bottom": null,
            "display": null,
            "flex": null,
            "flex_flow": null,
            "grid_area": null,
            "grid_auto_columns": null,
            "grid_auto_flow": null,
            "grid_auto_rows": null,
            "grid_column": null,
            "grid_gap": null,
            "grid_row": null,
            "grid_template_areas": null,
            "grid_template_columns": null,
            "grid_template_rows": null,
            "height": null,
            "justify_content": null,
            "justify_items": null,
            "left": null,
            "margin": null,
            "max_height": null,
            "max_width": null,
            "min_height": null,
            "min_width": null,
            "object_fit": null,
            "object_position": null,
            "order": null,
            "overflow": null,
            "overflow_x": null,
            "overflow_y": null,
            "padding": null,
            "right": null,
            "top": null,
            "visibility": null,
            "width": null
          }
        },
        "ccf6090448bc494e929ce93fe090a835": {
          "model_module": "@jupyter-widgets/base",
          "model_name": "LayoutModel",
          "model_module_version": "1.2.0",
          "state": {
            "_model_module": "@jupyter-widgets/base",
            "_model_module_version": "1.2.0",
            "_model_name": "LayoutModel",
            "_view_count": null,
            "_view_module": "@jupyter-widgets/base",
            "_view_module_version": "1.2.0",
            "_view_name": "LayoutView",
            "align_content": null,
            "align_items": null,
            "align_self": null,
            "border": null,
            "bottom": null,
            "display": null,
            "flex": null,
            "flex_flow": null,
            "grid_area": null,
            "grid_auto_columns": null,
            "grid_auto_flow": null,
            "grid_auto_rows": null,
            "grid_column": null,
            "grid_gap": null,
            "grid_row": null,
            "grid_template_areas": null,
            "grid_template_columns": null,
            "grid_template_rows": null,
            "height": null,
            "justify_content": null,
            "justify_items": null,
            "left": null,
            "margin": null,
            "max_height": null,
            "max_width": null,
            "min_height": null,
            "min_width": null,
            "object_fit": null,
            "object_position": null,
            "order": null,
            "overflow": null,
            "overflow_x": null,
            "overflow_y": null,
            "padding": null,
            "right": null,
            "top": null,
            "visibility": null,
            "width": null
          }
        },
        "8ff89994a72149c0bac3099c1f78731d": {
          "model_module": "@jupyter-widgets/controls",
          "model_name": "DescriptionStyleModel",
          "model_module_version": "1.5.0",
          "state": {
            "_model_module": "@jupyter-widgets/controls",
            "_model_module_version": "1.5.0",
            "_model_name": "DescriptionStyleModel",
            "_view_count": null,
            "_view_module": "@jupyter-widgets/base",
            "_view_module_version": "1.2.0",
            "_view_name": "StyleView",
            "description_width": ""
          }
        },
        "1c3bc8d253734e4ab3b71579daa805a2": {
          "model_module": "@jupyter-widgets/base",
          "model_name": "LayoutModel",
          "model_module_version": "1.2.0",
          "state": {
            "_model_module": "@jupyter-widgets/base",
            "_model_module_version": "1.2.0",
            "_model_name": "LayoutModel",
            "_view_count": null,
            "_view_module": "@jupyter-widgets/base",
            "_view_module_version": "1.2.0",
            "_view_name": "LayoutView",
            "align_content": null,
            "align_items": null,
            "align_self": null,
            "border": null,
            "bottom": null,
            "display": null,
            "flex": null,
            "flex_flow": null,
            "grid_area": null,
            "grid_auto_columns": null,
            "grid_auto_flow": null,
            "grid_auto_rows": null,
            "grid_column": null,
            "grid_gap": null,
            "grid_row": null,
            "grid_template_areas": null,
            "grid_template_columns": null,
            "grid_template_rows": null,
            "height": null,
            "justify_content": null,
            "justify_items": null,
            "left": null,
            "margin": null,
            "max_height": null,
            "max_width": null,
            "min_height": null,
            "min_width": null,
            "object_fit": null,
            "object_position": null,
            "order": null,
            "overflow": null,
            "overflow_x": null,
            "overflow_y": null,
            "padding": null,
            "right": null,
            "top": null,
            "visibility": null,
            "width": "20px"
          }
        },
        "605f41de02124dfea4fd577492a59f1f": {
          "model_module": "@jupyter-widgets/controls",
          "model_name": "ProgressStyleModel",
          "model_module_version": "1.5.0",
          "state": {
            "_model_module": "@jupyter-widgets/controls",
            "_model_module_version": "1.5.0",
            "_model_name": "ProgressStyleModel",
            "_view_count": null,
            "_view_module": "@jupyter-widgets/base",
            "_view_module_version": "1.2.0",
            "_view_name": "StyleView",
            "bar_color": null,
            "description_width": ""
          }
        },
        "e5e8b9cccd69493f8f88c5472fb11263": {
          "model_module": "@jupyter-widgets/base",
          "model_name": "LayoutModel",
          "model_module_version": "1.2.0",
          "state": {
            "_model_module": "@jupyter-widgets/base",
            "_model_module_version": "1.2.0",
            "_model_name": "LayoutModel",
            "_view_count": null,
            "_view_module": "@jupyter-widgets/base",
            "_view_module_version": "1.2.0",
            "_view_name": "LayoutView",
            "align_content": null,
            "align_items": null,
            "align_self": null,
            "border": null,
            "bottom": null,
            "display": null,
            "flex": null,
            "flex_flow": null,
            "grid_area": null,
            "grid_auto_columns": null,
            "grid_auto_flow": null,
            "grid_auto_rows": null,
            "grid_column": null,
            "grid_gap": null,
            "grid_row": null,
            "grid_template_areas": null,
            "grid_template_columns": null,
            "grid_template_rows": null,
            "height": null,
            "justify_content": null,
            "justify_items": null,
            "left": null,
            "margin": null,
            "max_height": null,
            "max_width": null,
            "min_height": null,
            "min_width": null,
            "object_fit": null,
            "object_position": null,
            "order": null,
            "overflow": null,
            "overflow_x": null,
            "overflow_y": null,
            "padding": null,
            "right": null,
            "top": null,
            "visibility": null,
            "width": null
          }
        },
        "54f2640cff3d4068aa7dc122945ed55a": {
          "model_module": "@jupyter-widgets/controls",
          "model_name": "DescriptionStyleModel",
          "model_module_version": "1.5.0",
          "state": {
            "_model_module": "@jupyter-widgets/controls",
            "_model_module_version": "1.5.0",
            "_model_name": "DescriptionStyleModel",
            "_view_count": null,
            "_view_module": "@jupyter-widgets/base",
            "_view_module_version": "1.2.0",
            "_view_name": "StyleView",
            "description_width": ""
          }
        },
        "a9e1e022116b4aa3aeda66f15915c9c1": {
          "model_module": "@jupyter-widgets/controls",
          "model_name": "HBoxModel",
          "model_module_version": "1.5.0",
          "state": {
            "_dom_classes": [],
            "_model_module": "@jupyter-widgets/controls",
            "_model_module_version": "1.5.0",
            "_model_name": "HBoxModel",
            "_view_count": null,
            "_view_module": "@jupyter-widgets/controls",
            "_view_module_version": "1.5.0",
            "_view_name": "HBoxView",
            "box_style": "",
            "children": [
              "IPY_MODEL_c8a8a74275dc40f0acf2c8cf51280640",
              "IPY_MODEL_f1335aac56164d9b99cb2306b19476a7",
              "IPY_MODEL_69ef53f7edf846208e16ce5a7d444813"
            ],
            "layout": "IPY_MODEL_e648af8d3eb74af998d87bb17a50ce56"
          }
        },
        "c8a8a74275dc40f0acf2c8cf51280640": {
          "model_module": "@jupyter-widgets/controls",
          "model_name": "HTMLModel",
          "model_module_version": "1.5.0",
          "state": {
            "_dom_classes": [],
            "_model_module": "@jupyter-widgets/controls",
            "_model_module_version": "1.5.0",
            "_model_name": "HTMLModel",
            "_view_count": null,
            "_view_module": "@jupyter-widgets/controls",
            "_view_module_version": "1.5.0",
            "_view_name": "HTMLView",
            "description": "",
            "description_tooltip": null,
            "layout": "IPY_MODEL_9139a09323954d25970438c54476cd37",
            "placeholder": "​",
            "style": "IPY_MODEL_8ae3d448320746b78a29f64a2bba914e",
            "value": "100%"
          }
        },
        "f1335aac56164d9b99cb2306b19476a7": {
          "model_module": "@jupyter-widgets/controls",
          "model_name": "FloatProgressModel",
          "model_module_version": "1.5.0",
          "state": {
            "_dom_classes": [],
            "_model_module": "@jupyter-widgets/controls",
            "_model_module_version": "1.5.0",
            "_model_name": "FloatProgressModel",
            "_view_count": null,
            "_view_module": "@jupyter-widgets/controls",
            "_view_module_version": "1.5.0",
            "_view_name": "ProgressView",
            "bar_style": "danger",
            "description": "",
            "description_tooltip": null,
            "layout": "IPY_MODEL_48fde7aaf7f6439f98c57ca57bee35e0",
            "max": 1193,
            "min": 0,
            "orientation": "horizontal",
            "style": "IPY_MODEL_12c8886450e2488bb9786eaf39a3914a",
            "value": 1192
          }
        },
        "69ef53f7edf846208e16ce5a7d444813": {
          "model_module": "@jupyter-widgets/controls",
          "model_name": "HTMLModel",
          "model_module_version": "1.5.0",
          "state": {
            "_dom_classes": [],
            "_model_module": "@jupyter-widgets/controls",
            "_model_module_version": "1.5.0",
            "_model_name": "HTMLModel",
            "_view_count": null,
            "_view_module": "@jupyter-widgets/controls",
            "_view_module_version": "1.5.0",
            "_view_name": "HTMLView",
            "description": "",
            "description_tooltip": null,
            "layout": "IPY_MODEL_8c93710a0032451eb1343691eb6712ab",
            "placeholder": "​",
            "style": "IPY_MODEL_670a2d6facea4334aaae2c5fa0ab3307",
            "value": " 1192/1193 [00:00&lt;00:00,  7.41 examples/s]"
          }
        },
        "e648af8d3eb74af998d87bb17a50ce56": {
          "model_module": "@jupyter-widgets/base",
          "model_name": "LayoutModel",
          "model_module_version": "1.2.0",
          "state": {
            "_model_module": "@jupyter-widgets/base",
            "_model_module_version": "1.2.0",
            "_model_name": "LayoutModel",
            "_view_count": null,
            "_view_module": "@jupyter-widgets/base",
            "_view_module_version": "1.2.0",
            "_view_name": "LayoutView",
            "align_content": null,
            "align_items": null,
            "align_self": null,
            "border": null,
            "bottom": null,
            "display": null,
            "flex": null,
            "flex_flow": null,
            "grid_area": null,
            "grid_auto_columns": null,
            "grid_auto_flow": null,
            "grid_auto_rows": null,
            "grid_column": null,
            "grid_gap": null,
            "grid_row": null,
            "grid_template_areas": null,
            "grid_template_columns": null,
            "grid_template_rows": null,
            "height": null,
            "justify_content": null,
            "justify_items": null,
            "left": null,
            "margin": null,
            "max_height": null,
            "max_width": null,
            "min_height": null,
            "min_width": null,
            "object_fit": null,
            "object_position": null,
            "order": null,
            "overflow": null,
            "overflow_x": null,
            "overflow_y": null,
            "padding": null,
            "right": null,
            "top": null,
            "visibility": null,
            "width": null
          }
        },
        "9139a09323954d25970438c54476cd37": {
          "model_module": "@jupyter-widgets/base",
          "model_name": "LayoutModel",
          "model_module_version": "1.2.0",
          "state": {
            "_model_module": "@jupyter-widgets/base",
            "_model_module_version": "1.2.0",
            "_model_name": "LayoutModel",
            "_view_count": null,
            "_view_module": "@jupyter-widgets/base",
            "_view_module_version": "1.2.0",
            "_view_name": "LayoutView",
            "align_content": null,
            "align_items": null,
            "align_self": null,
            "border": null,
            "bottom": null,
            "display": null,
            "flex": null,
            "flex_flow": null,
            "grid_area": null,
            "grid_auto_columns": null,
            "grid_auto_flow": null,
            "grid_auto_rows": null,
            "grid_column": null,
            "grid_gap": null,
            "grid_row": null,
            "grid_template_areas": null,
            "grid_template_columns": null,
            "grid_template_rows": null,
            "height": null,
            "justify_content": null,
            "justify_items": null,
            "left": null,
            "margin": null,
            "max_height": null,
            "max_width": null,
            "min_height": null,
            "min_width": null,
            "object_fit": null,
            "object_position": null,
            "order": null,
            "overflow": null,
            "overflow_x": null,
            "overflow_y": null,
            "padding": null,
            "right": null,
            "top": null,
            "visibility": null,
            "width": null
          }
        },
        "8ae3d448320746b78a29f64a2bba914e": {
          "model_module": "@jupyter-widgets/controls",
          "model_name": "DescriptionStyleModel",
          "model_module_version": "1.5.0",
          "state": {
            "_model_module": "@jupyter-widgets/controls",
            "_model_module_version": "1.5.0",
            "_model_name": "DescriptionStyleModel",
            "_view_count": null,
            "_view_module": "@jupyter-widgets/base",
            "_view_module_version": "1.2.0",
            "_view_name": "StyleView",
            "description_width": ""
          }
        },
        "48fde7aaf7f6439f98c57ca57bee35e0": {
          "model_module": "@jupyter-widgets/base",
          "model_name": "LayoutModel",
          "model_module_version": "1.2.0",
          "state": {
            "_model_module": "@jupyter-widgets/base",
            "_model_module_version": "1.2.0",
            "_model_name": "LayoutModel",
            "_view_count": null,
            "_view_module": "@jupyter-widgets/base",
            "_view_module_version": "1.2.0",
            "_view_name": "LayoutView",
            "align_content": null,
            "align_items": null,
            "align_self": null,
            "border": null,
            "bottom": null,
            "display": null,
            "flex": null,
            "flex_flow": null,
            "grid_area": null,
            "grid_auto_columns": null,
            "grid_auto_flow": null,
            "grid_auto_rows": null,
            "grid_column": null,
            "grid_gap": null,
            "grid_row": null,
            "grid_template_areas": null,
            "grid_template_columns": null,
            "grid_template_rows": null,
            "height": null,
            "justify_content": null,
            "justify_items": null,
            "left": null,
            "margin": null,
            "max_height": null,
            "max_width": null,
            "min_height": null,
            "min_width": null,
            "object_fit": null,
            "object_position": null,
            "order": null,
            "overflow": null,
            "overflow_x": null,
            "overflow_y": null,
            "padding": null,
            "right": null,
            "top": null,
            "visibility": null,
            "width": null
          }
        },
        "12c8886450e2488bb9786eaf39a3914a": {
          "model_module": "@jupyter-widgets/controls",
          "model_name": "ProgressStyleModel",
          "model_module_version": "1.5.0",
          "state": {
            "_model_module": "@jupyter-widgets/controls",
            "_model_module_version": "1.5.0",
            "_model_name": "ProgressStyleModel",
            "_view_count": null,
            "_view_module": "@jupyter-widgets/base",
            "_view_module_version": "1.2.0",
            "_view_name": "StyleView",
            "bar_color": null,
            "description_width": ""
          }
        },
        "8c93710a0032451eb1343691eb6712ab": {
          "model_module": "@jupyter-widgets/base",
          "model_name": "LayoutModel",
          "model_module_version": "1.2.0",
          "state": {
            "_model_module": "@jupyter-widgets/base",
            "_model_module_version": "1.2.0",
            "_model_name": "LayoutModel",
            "_view_count": null,
            "_view_module": "@jupyter-widgets/base",
            "_view_module_version": "1.2.0",
            "_view_name": "LayoutView",
            "align_content": null,
            "align_items": null,
            "align_self": null,
            "border": null,
            "bottom": null,
            "display": null,
            "flex": null,
            "flex_flow": null,
            "grid_area": null,
            "grid_auto_columns": null,
            "grid_auto_flow": null,
            "grid_auto_rows": null,
            "grid_column": null,
            "grid_gap": null,
            "grid_row": null,
            "grid_template_areas": null,
            "grid_template_columns": null,
            "grid_template_rows": null,
            "height": null,
            "justify_content": null,
            "justify_items": null,
            "left": null,
            "margin": null,
            "max_height": null,
            "max_width": null,
            "min_height": null,
            "min_width": null,
            "object_fit": null,
            "object_position": null,
            "order": null,
            "overflow": null,
            "overflow_x": null,
            "overflow_y": null,
            "padding": null,
            "right": null,
            "top": null,
            "visibility": null,
            "width": null
          }
        },
        "670a2d6facea4334aaae2c5fa0ab3307": {
          "model_module": "@jupyter-widgets/controls",
          "model_name": "DescriptionStyleModel",
          "model_module_version": "1.5.0",
          "state": {
            "_model_module": "@jupyter-widgets/controls",
            "_model_module_version": "1.5.0",
            "_model_name": "DescriptionStyleModel",
            "_view_count": null,
            "_view_module": "@jupyter-widgets/base",
            "_view_module_version": "1.2.0",
            "_view_name": "StyleView",
            "description_width": ""
          }
        },
        "312b75de63cd4b3aad1b646afc546c85": {
          "model_module": "@jupyter-widgets/controls",
          "model_name": "HBoxModel",
          "model_module_version": "1.5.0",
          "state": {
            "_dom_classes": [],
            "_model_module": "@jupyter-widgets/controls",
            "_model_module_version": "1.5.0",
            "_model_name": "HBoxModel",
            "_view_count": null,
            "_view_module": "@jupyter-widgets/controls",
            "_view_module_version": "1.5.0",
            "_view_name": "HBoxView",
            "box_style": "",
            "children": [
              "IPY_MODEL_d56ffe1509244f778ac02252f46c6dc7",
              "IPY_MODEL_b011b37f5f3d4bd69cefce39e372220f",
              "IPY_MODEL_ae566c53a9f44839ad3f30bbabaffbed"
            ],
            "layout": "IPY_MODEL_f24001c90df84d4caeac4260135fc9ed"
          }
        },
        "d56ffe1509244f778ac02252f46c6dc7": {
          "model_module": "@jupyter-widgets/controls",
          "model_name": "HTMLModel",
          "model_module_version": "1.5.0",
          "state": {
            "_dom_classes": [],
            "_model_module": "@jupyter-widgets/controls",
            "_model_module_version": "1.5.0",
            "_model_name": "HTMLModel",
            "_view_count": null,
            "_view_module": "@jupyter-widgets/controls",
            "_view_module_version": "1.5.0",
            "_view_name": "HTMLView",
            "description": "",
            "description_tooltip": null,
            "layout": "IPY_MODEL_cac3763745f44133ac8317f677955740",
            "placeholder": "​",
            "style": "IPY_MODEL_3c0e1460cc9d40c9abbfc9a5cc023af6",
            "value": ""
          }
        },
        "b011b37f5f3d4bd69cefce39e372220f": {
          "model_module": "@jupyter-widgets/controls",
          "model_name": "FloatProgressModel",
          "model_module_version": "1.5.0",
          "state": {
            "_dom_classes": [],
            "_model_module": "@jupyter-widgets/controls",
            "_model_module_version": "1.5.0",
            "_model_name": "FloatProgressModel",
            "_view_count": null,
            "_view_module": "@jupyter-widgets/controls",
            "_view_module_version": "1.5.0",
            "_view_name": "ProgressView",
            "bar_style": "info",
            "description": "",
            "description_tooltip": null,
            "layout": "IPY_MODEL_4503f05f9498432ea82aac671c7a9ca0",
            "max": 1,
            "min": 0,
            "orientation": "horizontal",
            "style": "IPY_MODEL_7a040822d3d04cb5bca5d23b24a47541",
            "value": 1
          }
        },
        "ae566c53a9f44839ad3f30bbabaffbed": {
          "model_module": "@jupyter-widgets/controls",
          "model_name": "HTMLModel",
          "model_module_version": "1.5.0",
          "state": {
            "_dom_classes": [],
            "_model_module": "@jupyter-widgets/controls",
            "_model_module_version": "1.5.0",
            "_model_name": "HTMLModel",
            "_view_count": null,
            "_view_module": "@jupyter-widgets/controls",
            "_view_module_version": "1.5.0",
            "_view_name": "HTMLView",
            "description": "",
            "description_tooltip": null,
            "layout": "IPY_MODEL_57106433aa7b4d62bb01a8e261fbe20e",
            "placeholder": "​",
            "style": "IPY_MODEL_2d314008d1af441486b87dadcc27f73b",
            "value": " 1652/0 [00:00&lt;00:00, 2052.25 examples/s]"
          }
        },
        "f24001c90df84d4caeac4260135fc9ed": {
          "model_module": "@jupyter-widgets/base",
          "model_name": "LayoutModel",
          "model_module_version": "1.2.0",
          "state": {
            "_model_module": "@jupyter-widgets/base",
            "_model_module_version": "1.2.0",
            "_model_name": "LayoutModel",
            "_view_count": null,
            "_view_module": "@jupyter-widgets/base",
            "_view_module_version": "1.2.0",
            "_view_name": "LayoutView",
            "align_content": null,
            "align_items": null,
            "align_self": null,
            "border": null,
            "bottom": null,
            "display": null,
            "flex": null,
            "flex_flow": null,
            "grid_area": null,
            "grid_auto_columns": null,
            "grid_auto_flow": null,
            "grid_auto_rows": null,
            "grid_column": null,
            "grid_gap": null,
            "grid_row": null,
            "grid_template_areas": null,
            "grid_template_columns": null,
            "grid_template_rows": null,
            "height": null,
            "justify_content": null,
            "justify_items": null,
            "left": null,
            "margin": null,
            "max_height": null,
            "max_width": null,
            "min_height": null,
            "min_width": null,
            "object_fit": null,
            "object_position": null,
            "order": null,
            "overflow": null,
            "overflow_x": null,
            "overflow_y": null,
            "padding": null,
            "right": null,
            "top": null,
            "visibility": null,
            "width": null
          }
        },
        "cac3763745f44133ac8317f677955740": {
          "model_module": "@jupyter-widgets/base",
          "model_name": "LayoutModel",
          "model_module_version": "1.2.0",
          "state": {
            "_model_module": "@jupyter-widgets/base",
            "_model_module_version": "1.2.0",
            "_model_name": "LayoutModel",
            "_view_count": null,
            "_view_module": "@jupyter-widgets/base",
            "_view_module_version": "1.2.0",
            "_view_name": "LayoutView",
            "align_content": null,
            "align_items": null,
            "align_self": null,
            "border": null,
            "bottom": null,
            "display": null,
            "flex": null,
            "flex_flow": null,
            "grid_area": null,
            "grid_auto_columns": null,
            "grid_auto_flow": null,
            "grid_auto_rows": null,
            "grid_column": null,
            "grid_gap": null,
            "grid_row": null,
            "grid_template_areas": null,
            "grid_template_columns": null,
            "grid_template_rows": null,
            "height": null,
            "justify_content": null,
            "justify_items": null,
            "left": null,
            "margin": null,
            "max_height": null,
            "max_width": null,
            "min_height": null,
            "min_width": null,
            "object_fit": null,
            "object_position": null,
            "order": null,
            "overflow": null,
            "overflow_x": null,
            "overflow_y": null,
            "padding": null,
            "right": null,
            "top": null,
            "visibility": null,
            "width": null
          }
        },
        "3c0e1460cc9d40c9abbfc9a5cc023af6": {
          "model_module": "@jupyter-widgets/controls",
          "model_name": "DescriptionStyleModel",
          "model_module_version": "1.5.0",
          "state": {
            "_model_module": "@jupyter-widgets/controls",
            "_model_module_version": "1.5.0",
            "_model_name": "DescriptionStyleModel",
            "_view_count": null,
            "_view_module": "@jupyter-widgets/base",
            "_view_module_version": "1.2.0",
            "_view_name": "StyleView",
            "description_width": ""
          }
        },
        "4503f05f9498432ea82aac671c7a9ca0": {
          "model_module": "@jupyter-widgets/base",
          "model_name": "LayoutModel",
          "model_module_version": "1.2.0",
          "state": {
            "_model_module": "@jupyter-widgets/base",
            "_model_module_version": "1.2.0",
            "_model_name": "LayoutModel",
            "_view_count": null,
            "_view_module": "@jupyter-widgets/base",
            "_view_module_version": "1.2.0",
            "_view_name": "LayoutView",
            "align_content": null,
            "align_items": null,
            "align_self": null,
            "border": null,
            "bottom": null,
            "display": null,
            "flex": null,
            "flex_flow": null,
            "grid_area": null,
            "grid_auto_columns": null,
            "grid_auto_flow": null,
            "grid_auto_rows": null,
            "grid_column": null,
            "grid_gap": null,
            "grid_row": null,
            "grid_template_areas": null,
            "grid_template_columns": null,
            "grid_template_rows": null,
            "height": null,
            "justify_content": null,
            "justify_items": null,
            "left": null,
            "margin": null,
            "max_height": null,
            "max_width": null,
            "min_height": null,
            "min_width": null,
            "object_fit": null,
            "object_position": null,
            "order": null,
            "overflow": null,
            "overflow_x": null,
            "overflow_y": null,
            "padding": null,
            "right": null,
            "top": null,
            "visibility": null,
            "width": "20px"
          }
        },
        "7a040822d3d04cb5bca5d23b24a47541": {
          "model_module": "@jupyter-widgets/controls",
          "model_name": "ProgressStyleModel",
          "model_module_version": "1.5.0",
          "state": {
            "_model_module": "@jupyter-widgets/controls",
            "_model_module_version": "1.5.0",
            "_model_name": "ProgressStyleModel",
            "_view_count": null,
            "_view_module": "@jupyter-widgets/base",
            "_view_module_version": "1.2.0",
            "_view_name": "StyleView",
            "bar_color": null,
            "description_width": ""
          }
        },
        "57106433aa7b4d62bb01a8e261fbe20e": {
          "model_module": "@jupyter-widgets/base",
          "model_name": "LayoutModel",
          "model_module_version": "1.2.0",
          "state": {
            "_model_module": "@jupyter-widgets/base",
            "_model_module_version": "1.2.0",
            "_model_name": "LayoutModel",
            "_view_count": null,
            "_view_module": "@jupyter-widgets/base",
            "_view_module_version": "1.2.0",
            "_view_name": "LayoutView",
            "align_content": null,
            "align_items": null,
            "align_self": null,
            "border": null,
            "bottom": null,
            "display": null,
            "flex": null,
            "flex_flow": null,
            "grid_area": null,
            "grid_auto_columns": null,
            "grid_auto_flow": null,
            "grid_auto_rows": null,
            "grid_column": null,
            "grid_gap": null,
            "grid_row": null,
            "grid_template_areas": null,
            "grid_template_columns": null,
            "grid_template_rows": null,
            "height": null,
            "justify_content": null,
            "justify_items": null,
            "left": null,
            "margin": null,
            "max_height": null,
            "max_width": null,
            "min_height": null,
            "min_width": null,
            "object_fit": null,
            "object_position": null,
            "order": null,
            "overflow": null,
            "overflow_x": null,
            "overflow_y": null,
            "padding": null,
            "right": null,
            "top": null,
            "visibility": null,
            "width": null
          }
        },
        "2d314008d1af441486b87dadcc27f73b": {
          "model_module": "@jupyter-widgets/controls",
          "model_name": "DescriptionStyleModel",
          "model_module_version": "1.5.0",
          "state": {
            "_model_module": "@jupyter-widgets/controls",
            "_model_module_version": "1.5.0",
            "_model_name": "DescriptionStyleModel",
            "_view_count": null,
            "_view_module": "@jupyter-widgets/base",
            "_view_module_version": "1.2.0",
            "_view_name": "StyleView",
            "description_width": ""
          }
        },
        "d63622f8ba444bbe8d424a27dc5befc2": {
          "model_module": "@jupyter-widgets/controls",
          "model_name": "HBoxModel",
          "model_module_version": "1.5.0",
          "state": {
            "_dom_classes": [],
            "_model_module": "@jupyter-widgets/controls",
            "_model_module_version": "1.5.0",
            "_model_name": "HBoxModel",
            "_view_count": null,
            "_view_module": "@jupyter-widgets/controls",
            "_view_module_version": "1.5.0",
            "_view_name": "HBoxView",
            "box_style": "",
            "children": [
              "IPY_MODEL_2ec727f5aac14526ad1a92cee4fb16f5",
              "IPY_MODEL_86571d87dd13491c855042acd40c74a7",
              "IPY_MODEL_89f3dc0bb7ac433e80545ce4e99e48dc"
            ],
            "layout": "IPY_MODEL_0e756ad0752948c0a669804cf86e2abf"
          }
        },
        "2ec727f5aac14526ad1a92cee4fb16f5": {
          "model_module": "@jupyter-widgets/controls",
          "model_name": "HTMLModel",
          "model_module_version": "1.5.0",
          "state": {
            "_dom_classes": [],
            "_model_module": "@jupyter-widgets/controls",
            "_model_module_version": "1.5.0",
            "_model_name": "HTMLModel",
            "_view_count": null,
            "_view_module": "@jupyter-widgets/controls",
            "_view_module_version": "1.5.0",
            "_view_name": "HTMLView",
            "description": "",
            "description_tooltip": null,
            "layout": "IPY_MODEL_b5261ba54158411aa236da005dc3970e",
            "placeholder": "​",
            "style": "IPY_MODEL_bf27830217664bdc9ef2000909353d4f",
            "value": "100%"
          }
        },
        "86571d87dd13491c855042acd40c74a7": {
          "model_module": "@jupyter-widgets/controls",
          "model_name": "FloatProgressModel",
          "model_module_version": "1.5.0",
          "state": {
            "_dom_classes": [],
            "_model_module": "@jupyter-widgets/controls",
            "_model_module_version": "1.5.0",
            "_model_name": "FloatProgressModel",
            "_view_count": null,
            "_view_module": "@jupyter-widgets/controls",
            "_view_module_version": "1.5.0",
            "_view_name": "ProgressView",
            "bar_style": "danger",
            "description": "",
            "description_tooltip": null,
            "layout": "IPY_MODEL_3fda6c4bd9504e5795cc408c7eed702e",
            "max": 1803,
            "min": 0,
            "orientation": "horizontal",
            "style": "IPY_MODEL_40fc0bb6b6e0450d9d07535af579196f",
            "value": 1802
          }
        },
        "89f3dc0bb7ac433e80545ce4e99e48dc": {
          "model_module": "@jupyter-widgets/controls",
          "model_name": "HTMLModel",
          "model_module_version": "1.5.0",
          "state": {
            "_dom_classes": [],
            "_model_module": "@jupyter-widgets/controls",
            "_model_module_version": "1.5.0",
            "_model_name": "HTMLModel",
            "_view_count": null,
            "_view_module": "@jupyter-widgets/controls",
            "_view_module_version": "1.5.0",
            "_view_name": "HTMLView",
            "description": "",
            "description_tooltip": null,
            "layout": "IPY_MODEL_02d6051077b14e019effbd9ede4dda62",
            "placeholder": "​",
            "style": "IPY_MODEL_135cc427e08642a0856cebb59643868c",
            "value": " 1802/1803 [00:00&lt;00:00,  5.94 examples/s]"
          }
        },
        "0e756ad0752948c0a669804cf86e2abf": {
          "model_module": "@jupyter-widgets/base",
          "model_name": "LayoutModel",
          "model_module_version": "1.2.0",
          "state": {
            "_model_module": "@jupyter-widgets/base",
            "_model_module_version": "1.2.0",
            "_model_name": "LayoutModel",
            "_view_count": null,
            "_view_module": "@jupyter-widgets/base",
            "_view_module_version": "1.2.0",
            "_view_name": "LayoutView",
            "align_content": null,
            "align_items": null,
            "align_self": null,
            "border": null,
            "bottom": null,
            "display": null,
            "flex": null,
            "flex_flow": null,
            "grid_area": null,
            "grid_auto_columns": null,
            "grid_auto_flow": null,
            "grid_auto_rows": null,
            "grid_column": null,
            "grid_gap": null,
            "grid_row": null,
            "grid_template_areas": null,
            "grid_template_columns": null,
            "grid_template_rows": null,
            "height": null,
            "justify_content": null,
            "justify_items": null,
            "left": null,
            "margin": null,
            "max_height": null,
            "max_width": null,
            "min_height": null,
            "min_width": null,
            "object_fit": null,
            "object_position": null,
            "order": null,
            "overflow": null,
            "overflow_x": null,
            "overflow_y": null,
            "padding": null,
            "right": null,
            "top": null,
            "visibility": null,
            "width": null
          }
        },
        "b5261ba54158411aa236da005dc3970e": {
          "model_module": "@jupyter-widgets/base",
          "model_name": "LayoutModel",
          "model_module_version": "1.2.0",
          "state": {
            "_model_module": "@jupyter-widgets/base",
            "_model_module_version": "1.2.0",
            "_model_name": "LayoutModel",
            "_view_count": null,
            "_view_module": "@jupyter-widgets/base",
            "_view_module_version": "1.2.0",
            "_view_name": "LayoutView",
            "align_content": null,
            "align_items": null,
            "align_self": null,
            "border": null,
            "bottom": null,
            "display": null,
            "flex": null,
            "flex_flow": null,
            "grid_area": null,
            "grid_auto_columns": null,
            "grid_auto_flow": null,
            "grid_auto_rows": null,
            "grid_column": null,
            "grid_gap": null,
            "grid_row": null,
            "grid_template_areas": null,
            "grid_template_columns": null,
            "grid_template_rows": null,
            "height": null,
            "justify_content": null,
            "justify_items": null,
            "left": null,
            "margin": null,
            "max_height": null,
            "max_width": null,
            "min_height": null,
            "min_width": null,
            "object_fit": null,
            "object_position": null,
            "order": null,
            "overflow": null,
            "overflow_x": null,
            "overflow_y": null,
            "padding": null,
            "right": null,
            "top": null,
            "visibility": null,
            "width": null
          }
        },
        "bf27830217664bdc9ef2000909353d4f": {
          "model_module": "@jupyter-widgets/controls",
          "model_name": "DescriptionStyleModel",
          "model_module_version": "1.5.0",
          "state": {
            "_model_module": "@jupyter-widgets/controls",
            "_model_module_version": "1.5.0",
            "_model_name": "DescriptionStyleModel",
            "_view_count": null,
            "_view_module": "@jupyter-widgets/base",
            "_view_module_version": "1.2.0",
            "_view_name": "StyleView",
            "description_width": ""
          }
        },
        "3fda6c4bd9504e5795cc408c7eed702e": {
          "model_module": "@jupyter-widgets/base",
          "model_name": "LayoutModel",
          "model_module_version": "1.2.0",
          "state": {
            "_model_module": "@jupyter-widgets/base",
            "_model_module_version": "1.2.0",
            "_model_name": "LayoutModel",
            "_view_count": null,
            "_view_module": "@jupyter-widgets/base",
            "_view_module_version": "1.2.0",
            "_view_name": "LayoutView",
            "align_content": null,
            "align_items": null,
            "align_self": null,
            "border": null,
            "bottom": null,
            "display": null,
            "flex": null,
            "flex_flow": null,
            "grid_area": null,
            "grid_auto_columns": null,
            "grid_auto_flow": null,
            "grid_auto_rows": null,
            "grid_column": null,
            "grid_gap": null,
            "grid_row": null,
            "grid_template_areas": null,
            "grid_template_columns": null,
            "grid_template_rows": null,
            "height": null,
            "justify_content": null,
            "justify_items": null,
            "left": null,
            "margin": null,
            "max_height": null,
            "max_width": null,
            "min_height": null,
            "min_width": null,
            "object_fit": null,
            "object_position": null,
            "order": null,
            "overflow": null,
            "overflow_x": null,
            "overflow_y": null,
            "padding": null,
            "right": null,
            "top": null,
            "visibility": null,
            "width": null
          }
        },
        "40fc0bb6b6e0450d9d07535af579196f": {
          "model_module": "@jupyter-widgets/controls",
          "model_name": "ProgressStyleModel",
          "model_module_version": "1.5.0",
          "state": {
            "_model_module": "@jupyter-widgets/controls",
            "_model_module_version": "1.5.0",
            "_model_name": "ProgressStyleModel",
            "_view_count": null,
            "_view_module": "@jupyter-widgets/base",
            "_view_module_version": "1.2.0",
            "_view_name": "StyleView",
            "bar_color": null,
            "description_width": ""
          }
        },
        "02d6051077b14e019effbd9ede4dda62": {
          "model_module": "@jupyter-widgets/base",
          "model_name": "LayoutModel",
          "model_module_version": "1.2.0",
          "state": {
            "_model_module": "@jupyter-widgets/base",
            "_model_module_version": "1.2.0",
            "_model_name": "LayoutModel",
            "_view_count": null,
            "_view_module": "@jupyter-widgets/base",
            "_view_module_version": "1.2.0",
            "_view_name": "LayoutView",
            "align_content": null,
            "align_items": null,
            "align_self": null,
            "border": null,
            "bottom": null,
            "display": null,
            "flex": null,
            "flex_flow": null,
            "grid_area": null,
            "grid_auto_columns": null,
            "grid_auto_flow": null,
            "grid_auto_rows": null,
            "grid_column": null,
            "grid_gap": null,
            "grid_row": null,
            "grid_template_areas": null,
            "grid_template_columns": null,
            "grid_template_rows": null,
            "height": null,
            "justify_content": null,
            "justify_items": null,
            "left": null,
            "margin": null,
            "max_height": null,
            "max_width": null,
            "min_height": null,
            "min_width": null,
            "object_fit": null,
            "object_position": null,
            "order": null,
            "overflow": null,
            "overflow_x": null,
            "overflow_y": null,
            "padding": null,
            "right": null,
            "top": null,
            "visibility": null,
            "width": null
          }
        },
        "135cc427e08642a0856cebb59643868c": {
          "model_module": "@jupyter-widgets/controls",
          "model_name": "DescriptionStyleModel",
          "model_module_version": "1.5.0",
          "state": {
            "_model_module": "@jupyter-widgets/controls",
            "_model_module_version": "1.5.0",
            "_model_name": "DescriptionStyleModel",
            "_view_count": null,
            "_view_module": "@jupyter-widgets/base",
            "_view_module_version": "1.2.0",
            "_view_name": "StyleView",
            "description_width": ""
          }
        }
      }
    }
  },
  "cells": [
    {
      "cell_type": "markdown",
      "source": [
        "# Transformer model for language understanding\n",
        "\n",
        "This tutorial trains a transformer model to translate a Portuguese to English dataset.\n",
        "\n",
        "This tutorial demonstrates how to build a transformer model and most of its components from scratch using low-level TensorFlow and Keras functionalities. Some of this could be minimized if you took advantage of built-in APIs like tf.keras.layers.MultiHeadAttention.\n",
        "\n",
        "The core idea behind a transformer model is self-attention—the ability to attend to different positions of the input sequence to compute a representation of that sequence. Transformer creates stacks of self-attention layers and is explained below in the sections Scaled dot product attention and Multi-head attention.\n",
        "\n",
        "A transformer model handles variable-sized input using stacks of self-attention layers instead of RNNs or CNNs. This general architecture has a number of advantages:\n",
        "\n",
        "* It makes no assumptions about the temporal/spatial relationships across the data. This is ideal for processing a set of objects (for example, StarCraft units).\n",
        "* Layer outputs can be calculated in parallel, instead of a series like an RNN.\n",
        "* Distant items can affect each other's output without passing through many RNN-steps, or convolution layers (see Scene Memory Transformer for example).\n",
        "* It can learn long-range dependencies. This is a challenge in many sequence tasks.\n",
        "\n",
        "\n",
        "The downsides of this architecture are:\n",
        "\n",
        "* For a time-series, the output for a time-step is calculated from the entire history instead of only the inputs and current hidden-state. This may be less efficient.\n",
        "* If the input does have a temporal/spatial relationship, like text, some positional encoding must be added or the model will effectively see a bag of words."
      ],
      "metadata": {
        "id": "FI1mtfgBInls"
      }
    },
    {
      "cell_type": "code",
      "source": [
        "! pip install tensorflow_datasets\n",
        "! pip install -U 'tensorflow-text==2.8.*'"
      ],
      "metadata": {
        "colab": {
          "base_uri": "https://localhost:8080/"
        },
        "id": "RRYRdI7fJs7d",
        "outputId": "0aa06583-d156-4d80-c1ed-b8d63a265bb3"
      },
      "execution_count": 1,
      "outputs": [
        {
          "output_type": "stream",
          "name": "stdout",
          "text": [
            "Looking in indexes: https://pypi.org/simple, https://us-python.pkg.dev/colab-wheels/public/simple/\n",
            "Requirement already satisfied: tensorflow_datasets in /usr/local/lib/python3.7/dist-packages (4.0.1)\n",
            "Requirement already satisfied: future in /usr/local/lib/python3.7/dist-packages (from tensorflow_datasets) (0.16.0)\n",
            "Requirement already satisfied: six in /usr/local/lib/python3.7/dist-packages (from tensorflow_datasets) (1.15.0)\n",
            "Requirement already satisfied: absl-py in /usr/local/lib/python3.7/dist-packages (from tensorflow_datasets) (1.1.0)\n",
            "Requirement already satisfied: tqdm in /usr/local/lib/python3.7/dist-packages (from tensorflow_datasets) (4.64.0)\n",
            "Requirement already satisfied: termcolor in /usr/local/lib/python3.7/dist-packages (from tensorflow_datasets) (1.1.0)\n",
            "Requirement already satisfied: promise in /usr/local/lib/python3.7/dist-packages (from tensorflow_datasets) (2.3)\n",
            "Requirement already satisfied: protobuf>=3.6.1 in /usr/local/lib/python3.7/dist-packages (from tensorflow_datasets) (3.17.3)\n",
            "Requirement already satisfied: requests>=2.19.0 in /usr/local/lib/python3.7/dist-packages (from tensorflow_datasets) (2.23.0)\n",
            "Requirement already satisfied: tensorflow-metadata in /usr/local/lib/python3.7/dist-packages (from tensorflow_datasets) (1.8.0)\n",
            "Requirement already satisfied: importlib-resources in /usr/local/lib/python3.7/dist-packages (from tensorflow_datasets) (5.7.1)\n",
            "Requirement already satisfied: attrs>=18.1.0 in /usr/local/lib/python3.7/dist-packages (from tensorflow_datasets) (21.4.0)\n",
            "Requirement already satisfied: dm-tree in /usr/local/lib/python3.7/dist-packages (from tensorflow_datasets) (0.1.7)\n",
            "Requirement already satisfied: numpy in /usr/local/lib/python3.7/dist-packages (from tensorflow_datasets) (1.21.6)\n",
            "Requirement already satisfied: dill in /usr/local/lib/python3.7/dist-packages (from tensorflow_datasets) (0.3.5.1)\n",
            "Requirement already satisfied: chardet<4,>=3.0.2 in /usr/local/lib/python3.7/dist-packages (from requests>=2.19.0->tensorflow_datasets) (3.0.4)\n",
            "Requirement already satisfied: certifi>=2017.4.17 in /usr/local/lib/python3.7/dist-packages (from requests>=2.19.0->tensorflow_datasets) (2022.6.15)\n",
            "Requirement already satisfied: urllib3!=1.25.0,!=1.25.1,<1.26,>=1.21.1 in /usr/local/lib/python3.7/dist-packages (from requests>=2.19.0->tensorflow_datasets) (1.24.3)\n",
            "Requirement already satisfied: idna<3,>=2.5 in /usr/local/lib/python3.7/dist-packages (from requests>=2.19.0->tensorflow_datasets) (2.10)\n",
            "Requirement already satisfied: zipp>=3.1.0 in /usr/local/lib/python3.7/dist-packages (from importlib-resources->tensorflow_datasets) (3.8.0)\n",
            "Requirement already satisfied: googleapis-common-protos<2,>=1.52.0 in /usr/local/lib/python3.7/dist-packages (from tensorflow-metadata->tensorflow_datasets) (1.56.2)\n",
            "Looking in indexes: https://pypi.org/simple, https://us-python.pkg.dev/colab-wheels/public/simple/\n",
            "Collecting tensorflow-text==2.8.*\n",
            "  Downloading tensorflow_text-2.8.2-cp37-cp37m-manylinux_2_12_x86_64.manylinux2010_x86_64.whl (4.9 MB)\n",
            "\u001b[K     |████████████████████████████████| 4.9 MB 5.2 MB/s \n",
            "\u001b[?25hRequirement already satisfied: tensorflow-hub>=0.8.0 in /usr/local/lib/python3.7/dist-packages (from tensorflow-text==2.8.*) (0.12.0)\n",
            "Requirement already satisfied: tensorflow<2.9,>=2.8.0 in /usr/local/lib/python3.7/dist-packages (from tensorflow-text==2.8.*) (2.8.2+zzzcolab20220527125636)\n",
            "Requirement already satisfied: libclang>=9.0.1 in /usr/local/lib/python3.7/dist-packages (from tensorflow<2.9,>=2.8.0->tensorflow-text==2.8.*) (14.0.1)\n",
            "Requirement already satisfied: wrapt>=1.11.0 in /usr/local/lib/python3.7/dist-packages (from tensorflow<2.9,>=2.8.0->tensorflow-text==2.8.*) (1.14.1)\n",
            "Requirement already satisfied: h5py>=2.9.0 in /usr/local/lib/python3.7/dist-packages (from tensorflow<2.9,>=2.8.0->tensorflow-text==2.8.*) (3.1.0)\n",
            "Requirement already satisfied: opt-einsum>=2.3.2 in /usr/local/lib/python3.7/dist-packages (from tensorflow<2.9,>=2.8.0->tensorflow-text==2.8.*) (3.3.0)\n",
            "Requirement already satisfied: numpy>=1.20 in /usr/local/lib/python3.7/dist-packages (from tensorflow<2.9,>=2.8.0->tensorflow-text==2.8.*) (1.21.6)\n",
            "Requirement already satisfied: google-pasta>=0.1.1 in /usr/local/lib/python3.7/dist-packages (from tensorflow<2.9,>=2.8.0->tensorflow-text==2.8.*) (0.2.0)\n",
            "Requirement already satisfied: six>=1.12.0 in /usr/local/lib/python3.7/dist-packages (from tensorflow<2.9,>=2.8.0->tensorflow-text==2.8.*) (1.15.0)\n",
            "Requirement already satisfied: grpcio<2.0,>=1.24.3 in /usr/local/lib/python3.7/dist-packages (from tensorflow<2.9,>=2.8.0->tensorflow-text==2.8.*) (1.46.3)\n",
            "Requirement already satisfied: tensorboard<2.9,>=2.8 in /usr/local/lib/python3.7/dist-packages (from tensorflow<2.9,>=2.8.0->tensorflow-text==2.8.*) (2.8.0)\n",
            "Requirement already satisfied: protobuf<3.20,>=3.9.2 in /usr/local/lib/python3.7/dist-packages (from tensorflow<2.9,>=2.8.0->tensorflow-text==2.8.*) (3.17.3)\n",
            "Requirement already satisfied: tensorflow-io-gcs-filesystem>=0.23.1 in /usr/local/lib/python3.7/dist-packages (from tensorflow<2.9,>=2.8.0->tensorflow-text==2.8.*) (0.26.0)\n",
            "Requirement already satisfied: flatbuffers>=1.12 in /usr/local/lib/python3.7/dist-packages (from tensorflow<2.9,>=2.8.0->tensorflow-text==2.8.*) (2.0)\n",
            "Requirement already satisfied: astunparse>=1.6.0 in /usr/local/lib/python3.7/dist-packages (from tensorflow<2.9,>=2.8.0->tensorflow-text==2.8.*) (1.6.3)\n",
            "Requirement already satisfied: gast>=0.2.1 in /usr/local/lib/python3.7/dist-packages (from tensorflow<2.9,>=2.8.0->tensorflow-text==2.8.*) (0.5.3)\n",
            "Requirement already satisfied: keras<2.9,>=2.8.0rc0 in /usr/local/lib/python3.7/dist-packages (from tensorflow<2.9,>=2.8.0->tensorflow-text==2.8.*) (2.8.0)\n",
            "Requirement already satisfied: tensorflow-estimator<2.9,>=2.8 in /usr/local/lib/python3.7/dist-packages (from tensorflow<2.9,>=2.8.0->tensorflow-text==2.8.*) (2.8.0)\n",
            "Requirement already satisfied: setuptools in /usr/local/lib/python3.7/dist-packages (from tensorflow<2.9,>=2.8.0->tensorflow-text==2.8.*) (57.4.0)\n",
            "Requirement already satisfied: absl-py>=0.4.0 in /usr/local/lib/python3.7/dist-packages (from tensorflow<2.9,>=2.8.0->tensorflow-text==2.8.*) (1.1.0)\n",
            "Requirement already satisfied: termcolor>=1.1.0 in /usr/local/lib/python3.7/dist-packages (from tensorflow<2.9,>=2.8.0->tensorflow-text==2.8.*) (1.1.0)\n",
            "Requirement already satisfied: typing-extensions>=3.6.6 in /usr/local/lib/python3.7/dist-packages (from tensorflow<2.9,>=2.8.0->tensorflow-text==2.8.*) (4.1.1)\n",
            "Requirement already satisfied: keras-preprocessing>=1.1.1 in /usr/local/lib/python3.7/dist-packages (from tensorflow<2.9,>=2.8.0->tensorflow-text==2.8.*) (1.1.2)\n",
            "Requirement already satisfied: wheel<1.0,>=0.23.0 in /usr/local/lib/python3.7/dist-packages (from astunparse>=1.6.0->tensorflow<2.9,>=2.8.0->tensorflow-text==2.8.*) (0.37.1)\n",
            "Requirement already satisfied: cached-property in /usr/local/lib/python3.7/dist-packages (from h5py>=2.9.0->tensorflow<2.9,>=2.8.0->tensorflow-text==2.8.*) (1.5.2)\n",
            "Requirement already satisfied: tensorboard-data-server<0.7.0,>=0.6.0 in /usr/local/lib/python3.7/dist-packages (from tensorboard<2.9,>=2.8->tensorflow<2.9,>=2.8.0->tensorflow-text==2.8.*) (0.6.1)\n",
            "Requirement already satisfied: requests<3,>=2.21.0 in /usr/local/lib/python3.7/dist-packages (from tensorboard<2.9,>=2.8->tensorflow<2.9,>=2.8.0->tensorflow-text==2.8.*) (2.23.0)\n",
            "Requirement already satisfied: google-auth-oauthlib<0.5,>=0.4.1 in /usr/local/lib/python3.7/dist-packages (from tensorboard<2.9,>=2.8->tensorflow<2.9,>=2.8.0->tensorflow-text==2.8.*) (0.4.6)\n",
            "Requirement already satisfied: markdown>=2.6.8 in /usr/local/lib/python3.7/dist-packages (from tensorboard<2.9,>=2.8->tensorflow<2.9,>=2.8.0->tensorflow-text==2.8.*) (3.3.7)\n",
            "Requirement already satisfied: google-auth<3,>=1.6.3 in /usr/local/lib/python3.7/dist-packages (from tensorboard<2.9,>=2.8->tensorflow<2.9,>=2.8.0->tensorflow-text==2.8.*) (1.35.0)\n",
            "Requirement already satisfied: werkzeug>=0.11.15 in /usr/local/lib/python3.7/dist-packages (from tensorboard<2.9,>=2.8->tensorflow<2.9,>=2.8.0->tensorflow-text==2.8.*) (1.0.1)\n",
            "Requirement already satisfied: tensorboard-plugin-wit>=1.6.0 in /usr/local/lib/python3.7/dist-packages (from tensorboard<2.9,>=2.8->tensorflow<2.9,>=2.8.0->tensorflow-text==2.8.*) (1.8.1)\n",
            "Requirement already satisfied: cachetools<5.0,>=2.0.0 in /usr/local/lib/python3.7/dist-packages (from google-auth<3,>=1.6.3->tensorboard<2.9,>=2.8->tensorflow<2.9,>=2.8.0->tensorflow-text==2.8.*) (4.2.4)\n",
            "Requirement already satisfied: rsa<5,>=3.1.4 in /usr/local/lib/python3.7/dist-packages (from google-auth<3,>=1.6.3->tensorboard<2.9,>=2.8->tensorflow<2.9,>=2.8.0->tensorflow-text==2.8.*) (4.8)\n",
            "Requirement already satisfied: pyasn1-modules>=0.2.1 in /usr/local/lib/python3.7/dist-packages (from google-auth<3,>=1.6.3->tensorboard<2.9,>=2.8->tensorflow<2.9,>=2.8.0->tensorflow-text==2.8.*) (0.2.8)\n",
            "Requirement already satisfied: requests-oauthlib>=0.7.0 in /usr/local/lib/python3.7/dist-packages (from google-auth-oauthlib<0.5,>=0.4.1->tensorboard<2.9,>=2.8->tensorflow<2.9,>=2.8.0->tensorflow-text==2.8.*) (1.3.1)\n",
            "Requirement already satisfied: importlib-metadata>=4.4 in /usr/local/lib/python3.7/dist-packages (from markdown>=2.6.8->tensorboard<2.9,>=2.8->tensorflow<2.9,>=2.8.0->tensorflow-text==2.8.*) (4.11.4)\n",
            "Requirement already satisfied: zipp>=0.5 in /usr/local/lib/python3.7/dist-packages (from importlib-metadata>=4.4->markdown>=2.6.8->tensorboard<2.9,>=2.8->tensorflow<2.9,>=2.8.0->tensorflow-text==2.8.*) (3.8.0)\n",
            "Requirement already satisfied: pyasn1<0.5.0,>=0.4.6 in /usr/local/lib/python3.7/dist-packages (from pyasn1-modules>=0.2.1->google-auth<3,>=1.6.3->tensorboard<2.9,>=2.8->tensorflow<2.9,>=2.8.0->tensorflow-text==2.8.*) (0.4.8)\n",
            "Requirement already satisfied: urllib3!=1.25.0,!=1.25.1,<1.26,>=1.21.1 in /usr/local/lib/python3.7/dist-packages (from requests<3,>=2.21.0->tensorboard<2.9,>=2.8->tensorflow<2.9,>=2.8.0->tensorflow-text==2.8.*) (1.24.3)\n",
            "Requirement already satisfied: idna<3,>=2.5 in /usr/local/lib/python3.7/dist-packages (from requests<3,>=2.21.0->tensorboard<2.9,>=2.8->tensorflow<2.9,>=2.8.0->tensorflow-text==2.8.*) (2.10)\n",
            "Requirement already satisfied: certifi>=2017.4.17 in /usr/local/lib/python3.7/dist-packages (from requests<3,>=2.21.0->tensorboard<2.9,>=2.8->tensorflow<2.9,>=2.8.0->tensorflow-text==2.8.*) (2022.6.15)\n",
            "Requirement already satisfied: chardet<4,>=3.0.2 in /usr/local/lib/python3.7/dist-packages (from requests<3,>=2.21.0->tensorboard<2.9,>=2.8->tensorflow<2.9,>=2.8.0->tensorflow-text==2.8.*) (3.0.4)\n",
            "Requirement already satisfied: oauthlib>=3.0.0 in /usr/local/lib/python3.7/dist-packages (from requests-oauthlib>=0.7.0->google-auth-oauthlib<0.5,>=0.4.1->tensorboard<2.9,>=2.8->tensorflow<2.9,>=2.8.0->tensorflow-text==2.8.*) (3.2.0)\n",
            "Installing collected packages: tensorflow-text\n",
            "Successfully installed tensorflow-text-2.8.2\n"
          ]
        }
      ]
    },
    {
      "cell_type": "code",
      "source": [
        "import logging\n",
        "import time\n",
        "\n",
        "import numpy as np\n",
        "import matplotlib.pyplot as plt\n",
        "\n",
        "import tensorflow_datasets as tfds\n",
        "import tensorflow as tf\n",
        "\n",
        "# Import tf_text to load the ops used by the tokenizer saved model\n",
        "import tensorflow_text  # pylint: disable=unused-import"
      ],
      "metadata": {
        "id": "6x_OtBQPJt_8"
      },
      "execution_count": 2,
      "outputs": []
    },
    {
      "cell_type": "code",
      "source": [
        "logging.getLogger('tensorflow').setLevel(logging.ERROR)  # suppress warnings"
      ],
      "metadata": {
        "id": "4bOd7GxhJzPA"
      },
      "execution_count": 3,
      "outputs": []
    },
    {
      "cell_type": "markdown",
      "source": [
        "## Data Preparation\n",
        "\n",
        "Use TensorFlow datasets to load the Portuguese-English translation dataset from the TED Talks Open Translation Project.\n",
        "\n",
        "This dataset contains approximately 50000 training examples, 1100 validation examples, and 2000 test examples."
      ],
      "metadata": {
        "id": "nig4rSi2J1p7"
      }
    },
    {
      "cell_type": "code",
      "source": [
        "examples, metadata = tfds.load('ted_hrlr_translate/pt_to_en', with_info=True,\n",
        "                               as_supervised=True)\n",
        "train_examples, val_examples = examples['train'], examples['validation']\n",
        "\n",
        "for pt_examples, en_examples in train_examples.batch(3).take(1):\n",
        "  for pt in pt_examples.numpy():\n",
        "    print(pt.decode('utf-8'))\n",
        "\n",
        "  print()\n",
        "\n",
        "  for en in en_examples.numpy():\n",
        "    print(en.decode('utf-8'))"
      ],
      "metadata": {
        "colab": {
          "base_uri": "https://localhost:8080/",
          "height": 489,
          "referenced_widgets": [
            "47e200a25ab942e49dce5f7dc220b515",
            "309acb3d30e7481b90a48b1f5cdd40f6",
            "bdf4faa81135494ab5b2a3c1737e1ed2",
            "bd87ee5c55c84d60b5197344c64bcf31",
            "c54c4f44291245b886f6dc195929b38c",
            "b36fac10d9784ffe99aa7ab2028fff43",
            "2b7a9478839d4168afd6902b7e3e793d",
            "ea9636b323354561bdded94c4c27b82e",
            "701958e4e82a4668bd560ab1aba85d14",
            "87b3e7ba5d9f4a3eb0fa3bac2a28b602",
            "eaef1f026d64430481f58327bf862dec",
            "6ce59eb79b6c4321be9647c47c213a09",
            "e0cfe89cca9e4807936777769016e868",
            "dde738b4d4894a2faf152ffec503a7b0",
            "2961d6156f414b9e897164562c94241b",
            "971827b614f1498b857aede1bd21615b",
            "078ecef959f54dae81a67d0f0d6c4efb",
            "1a0f283064b54fb7b42e43acdb18fa6d",
            "91554dfb23ef458e97817228fb658ccb",
            "f06a975cedb841459d0848593c823c87",
            "57c86c14942e49dfaddd813c50e75644",
            "c7f469c7e92f4a5e90a0703025d0f1a6",
            "6dc3415f4377440f8bc4813c3e9aa328",
            "5a621b7e2a614ea293348cffbc656a2f",
            "235f4fdcdba14e119b426daca06be964",
            "0fb05e13acbb4fbeaff32f09ef6394f2",
            "134ff498e72c4df7851e4e596d392cd4",
            "5481f8619c26485cb977b0e31864ac96",
            "f2756cad428a49758afe20b7fd6a64bb",
            "dec0e8e0d0db45519d4d2aab93ad93c2",
            "e4239547b9c44f33b753ff4b74fafc5d",
            "63ada80b5f55432b896a35bba8acc5a2",
            "07f569e85465450793483133f6470814",
            "7409ab40bf464acea861fa933a8a4d8a",
            "3e0c0abeadc04aafb2b2a7fc7f10bd4c",
            "9bba3fc9d0c147f99b09d8500b1ee58e",
            "e8ea483138804d558efdb042de4e51bf",
            "674076ee09374c33879d9da6e1b36cd4",
            "e20e53cb1996461ab5c20e937173687d",
            "34030b924bcf4165a9acc62c93bd726e",
            "524ecc69345b4dfb94a1e3500ed19912",
            "22a0de1a4c814d399181ded1c81c3b91",
            "0c8009360eda42508ff5136f2fd1710c",
            "14253374f5e54a80a3cb4c641c7f03b7",
            "5b856dd3b58149b28368d673f94beab8",
            "16797b2d7a004b509a1ba50ce05e48ca",
            "854b7174b308427ca197535afbbd8d14",
            "22b46d33585c404db540579219e8df82",
            "42e8f3fdd2d64be7b01c2b0b7042fb48",
            "6b319e5b192e46a3b3cd30e1c9df4b57",
            "f266d014bdc64052a249bf72b9667cef",
            "6312ebf3d52949269c2e2fbe5321baf0",
            "ce5bfd41025a4c02bd92beb28d35cebe",
            "63657be16c8443cb8741e6af5fc17ecd",
            "390839daf16447a0a3ff987729ca510c",
            "a5ee04216f62408fa58092d37f92c4f7",
            "e275d262c1644956901f988b88009540",
            "7b564864120d43bf9c3c1d65031d94ff",
            "2d1236827e384b0fb29abfedefb795c1",
            "47b556cce4a9443696a4bcbda485af87",
            "ccf6090448bc494e929ce93fe090a835",
            "8ff89994a72149c0bac3099c1f78731d",
            "1c3bc8d253734e4ab3b71579daa805a2",
            "605f41de02124dfea4fd577492a59f1f",
            "e5e8b9cccd69493f8f88c5472fb11263",
            "54f2640cff3d4068aa7dc122945ed55a",
            "a9e1e022116b4aa3aeda66f15915c9c1",
            "c8a8a74275dc40f0acf2c8cf51280640",
            "f1335aac56164d9b99cb2306b19476a7",
            "69ef53f7edf846208e16ce5a7d444813",
            "e648af8d3eb74af998d87bb17a50ce56",
            "9139a09323954d25970438c54476cd37",
            "8ae3d448320746b78a29f64a2bba914e",
            "48fde7aaf7f6439f98c57ca57bee35e0",
            "12c8886450e2488bb9786eaf39a3914a",
            "8c93710a0032451eb1343691eb6712ab",
            "670a2d6facea4334aaae2c5fa0ab3307",
            "312b75de63cd4b3aad1b646afc546c85",
            "d56ffe1509244f778ac02252f46c6dc7",
            "b011b37f5f3d4bd69cefce39e372220f",
            "ae566c53a9f44839ad3f30bbabaffbed",
            "f24001c90df84d4caeac4260135fc9ed",
            "cac3763745f44133ac8317f677955740",
            "3c0e1460cc9d40c9abbfc9a5cc023af6",
            "4503f05f9498432ea82aac671c7a9ca0",
            "7a040822d3d04cb5bca5d23b24a47541",
            "57106433aa7b4d62bb01a8e261fbe20e",
            "2d314008d1af441486b87dadcc27f73b",
            "d63622f8ba444bbe8d424a27dc5befc2",
            "2ec727f5aac14526ad1a92cee4fb16f5",
            "86571d87dd13491c855042acd40c74a7",
            "89f3dc0bb7ac433e80545ce4e99e48dc",
            "0e756ad0752948c0a669804cf86e2abf",
            "b5261ba54158411aa236da005dc3970e",
            "bf27830217664bdc9ef2000909353d4f",
            "3fda6c4bd9504e5795cc408c7eed702e",
            "40fc0bb6b6e0450d9d07535af579196f",
            "02d6051077b14e019effbd9ede4dda62",
            "135cc427e08642a0856cebb59643868c"
          ]
        },
        "id": "BKIVIEXrJ6BN",
        "outputId": "a51a6a65-6bac-4975-d7f2-bdda38ff41c4"
      },
      "execution_count": 4,
      "outputs": [
        {
          "output_type": "stream",
          "name": "stdout",
          "text": [
            "\u001b[1mDownloading and preparing dataset ted_hrlr_translate/pt_to_en/1.0.0 (download: 124.94 MiB, generated: Unknown size, total: 124.94 MiB) to /root/tensorflow_datasets/ted_hrlr_translate/pt_to_en/1.0.0...\u001b[0m\n"
          ]
        },
        {
          "output_type": "display_data",
          "data": {
            "text/plain": [
              "Dl Completed...: 0 url [00:00, ? url/s]"
            ],
            "application/vnd.jupyter.widget-view+json": {
              "version_major": 2,
              "version_minor": 0,
              "model_id": "47e200a25ab942e49dce5f7dc220b515"
            }
          },
          "metadata": {}
        },
        {
          "output_type": "display_data",
          "data": {
            "text/plain": [
              "Dl Size...: 0 MiB [00:00, ? MiB/s]"
            ],
            "application/vnd.jupyter.widget-view+json": {
              "version_major": 2,
              "version_minor": 0,
              "model_id": "6ce59eb79b6c4321be9647c47c213a09"
            }
          },
          "metadata": {}
        },
        {
          "output_type": "display_data",
          "data": {
            "text/plain": [
              "Extraction completed...: 0 file [00:00, ? file/s]"
            ],
            "application/vnd.jupyter.widget-view+json": {
              "version_major": 2,
              "version_minor": 0,
              "model_id": "6dc3415f4377440f8bc4813c3e9aa328"
            }
          },
          "metadata": {}
        },
        {
          "output_type": "stream",
          "name": "stdout",
          "text": [
            "\n",
            "\n",
            "\n"
          ]
        },
        {
          "output_type": "display_data",
          "data": {
            "text/plain": [
              "0 examples [00:00, ? examples/s]"
            ],
            "application/vnd.jupyter.widget-view+json": {
              "version_major": 2,
              "version_minor": 0,
              "model_id": "7409ab40bf464acea861fa933a8a4d8a"
            }
          },
          "metadata": {}
        },
        {
          "output_type": "stream",
          "name": "stdout",
          "text": [
            "Shuffling and writing examples to /root/tensorflow_datasets/ted_hrlr_translate/pt_to_en/1.0.0.incompleteNQG9UP/ted_hrlr_translate-train.tfrecord\n"
          ]
        },
        {
          "output_type": "display_data",
          "data": {
            "text/plain": [
              "  0%|          | 0/51785 [00:00<?, ? examples/s]"
            ],
            "application/vnd.jupyter.widget-view+json": {
              "version_major": 2,
              "version_minor": 0,
              "model_id": "5b856dd3b58149b28368d673f94beab8"
            }
          },
          "metadata": {}
        },
        {
          "output_type": "display_data",
          "data": {
            "text/plain": [
              "0 examples [00:00, ? examples/s]"
            ],
            "application/vnd.jupyter.widget-view+json": {
              "version_major": 2,
              "version_minor": 0,
              "model_id": "a5ee04216f62408fa58092d37f92c4f7"
            }
          },
          "metadata": {}
        },
        {
          "output_type": "stream",
          "name": "stdout",
          "text": [
            "Shuffling and writing examples to /root/tensorflow_datasets/ted_hrlr_translate/pt_to_en/1.0.0.incompleteNQG9UP/ted_hrlr_translate-validation.tfrecord\n"
          ]
        },
        {
          "output_type": "display_data",
          "data": {
            "text/plain": [
              "  0%|          | 0/1193 [00:00<?, ? examples/s]"
            ],
            "application/vnd.jupyter.widget-view+json": {
              "version_major": 2,
              "version_minor": 0,
              "model_id": "a9e1e022116b4aa3aeda66f15915c9c1"
            }
          },
          "metadata": {}
        },
        {
          "output_type": "display_data",
          "data": {
            "text/plain": [
              "0 examples [00:00, ? examples/s]"
            ],
            "application/vnd.jupyter.widget-view+json": {
              "version_major": 2,
              "version_minor": 0,
              "model_id": "312b75de63cd4b3aad1b646afc546c85"
            }
          },
          "metadata": {}
        },
        {
          "output_type": "stream",
          "name": "stdout",
          "text": [
            "Shuffling and writing examples to /root/tensorflow_datasets/ted_hrlr_translate/pt_to_en/1.0.0.incompleteNQG9UP/ted_hrlr_translate-test.tfrecord\n"
          ]
        },
        {
          "output_type": "display_data",
          "data": {
            "text/plain": [
              "  0%|          | 0/1803 [00:00<?, ? examples/s]"
            ],
            "application/vnd.jupyter.widget-view+json": {
              "version_major": 2,
              "version_minor": 0,
              "model_id": "d63622f8ba444bbe8d424a27dc5befc2"
            }
          },
          "metadata": {}
        },
        {
          "output_type": "stream",
          "name": "stdout",
          "text": [
            "\u001b[1mDataset ted_hrlr_translate downloaded and prepared to /root/tensorflow_datasets/ted_hrlr_translate/pt_to_en/1.0.0. Subsequent calls will reuse this data.\u001b[0m\n",
            "e quando melhoramos a procura , tiramos a única vantagem da impressão , que é a serendipidade .\n",
            "mas e se estes fatores fossem ativos ?\n",
            "mas eles não tinham a curiosidade de me testar .\n",
            "\n",
            "and when you improve searchability , you actually take away the one advantage of print , which is serendipity .\n",
            "but what if it were active ?\n",
            "but they did n't test for curiosity .\n"
          ]
        }
      ]
    },
    {
      "cell_type": "markdown",
      "source": [
        "### Text tokenization & detokenization\n",
        "\n",
        "You can't train a model directly on text. The text needs to be converted to some numeric representation first. Typically, you convert the text to sequences of token IDs, which are used as indices into an embedding.\n",
        "\n",
        "One popular implementation is demonstrated in the Subword tokenizer tutorial builds subword tokenizers (text.BertTokenizer) optimized for this dataset and exports them in a saved_model.\n",
        "\n",
        "Download and unzip and import the saved_model:"
      ],
      "metadata": {
        "id": "aSOMlYKrKExU"
      }
    },
    {
      "cell_type": "code",
      "source": [
        "model_name = 'ted_hrlr_translate_pt_en_converter'\n",
        "tf.keras.utils.get_file(\n",
        "    f'{model_name}.zip',\n",
        "    f'https://storage.googleapis.com/download.tensorflow.org/models/{model_name}.zip',\n",
        "    cache_dir='.', cache_subdir='', extract=True\n",
        ")"
      ],
      "metadata": {
        "colab": {
          "base_uri": "https://localhost:8080/",
          "height": 87
        },
        "id": "rKaSNOVKKIQK",
        "outputId": "1b661c4f-f5c9-42c5-e14c-a704e3f2f554"
      },
      "execution_count": 5,
      "outputs": [
        {
          "output_type": "stream",
          "name": "stdout",
          "text": [
            "Downloading data from https://storage.googleapis.com/download.tensorflow.org/models/ted_hrlr_translate_pt_en_converter.zip\n",
            "188416/184801 [==============================] - 0s 0us/step\n",
            "196608/184801 [===============================] - 0s 0us/step\n"
          ]
        },
        {
          "output_type": "execute_result",
          "data": {
            "text/plain": [
              "'./ted_hrlr_translate_pt_en_converter.zip'"
            ],
            "application/vnd.google.colaboratory.intrinsic+json": {
              "type": "string"
            }
          },
          "metadata": {},
          "execution_count": 5
        }
      ]
    },
    {
      "cell_type": "code",
      "source": [
        "tokenizers = tf.saved_model.load(model_name)\n",
        "\n",
        "# The tf.saved_model contains two text tokenizers, one for English and one for Portuguese. Both have the same methods:\n",
        "[item for item in dir(tokenizers.en) if not item.startswith('_')]"
      ],
      "metadata": {
        "colab": {
          "base_uri": "https://localhost:8080/"
        },
        "id": "HgXxbk27KK1a",
        "outputId": "7c14cc79-1cbb-41e1-9381-38c517b25730"
      },
      "execution_count": 6,
      "outputs": [
        {
          "output_type": "execute_result",
          "data": {
            "text/plain": [
              "['detokenize',\n",
              " 'get_reserved_tokens',\n",
              " 'get_vocab_path',\n",
              " 'get_vocab_size',\n",
              " 'lookup',\n",
              " 'tokenize',\n",
              " 'tokenizer',\n",
              " 'vocab']"
            ]
          },
          "metadata": {},
          "execution_count": 6
        }
      ]
    },
    {
      "cell_type": "markdown",
      "source": [
        "The tokenize method converts a batch of strings to a padded-batch of token IDs. This method splits punctuation, lowercases and unicode-normalizes the input before tokenizing. That standardization is not visible here because the input data is already standardized."
      ],
      "metadata": {
        "id": "YGvopqskKRVV"
      }
    },
    {
      "cell_type": "code",
      "source": [
        "for en in en_examples.numpy():\n",
        "  print(en.decode('utf-8'))"
      ],
      "metadata": {
        "colab": {
          "base_uri": "https://localhost:8080/"
        },
        "id": "SZ7eYsV4KXG0",
        "outputId": "696829b4-a980-416f-d2b7-692e304cc658"
      },
      "execution_count": 7,
      "outputs": [
        {
          "output_type": "stream",
          "name": "stdout",
          "text": [
            "and when you improve searchability , you actually take away the one advantage of print , which is serendipity .\n",
            "but what if it were active ?\n",
            "but they did n't test for curiosity .\n"
          ]
        }
      ]
    },
    {
      "cell_type": "markdown",
      "source": [
        "Using Tokenizer on few samples - "
      ],
      "metadata": {
        "id": "STB0g62yKdXn"
      }
    },
    {
      "cell_type": "code",
      "source": [
        "encoded = tokenizers.en.tokenize(en_examples)\n",
        "\n",
        "for row in encoded.to_list():\n",
        "  print(row)"
      ],
      "metadata": {
        "colab": {
          "base_uri": "https://localhost:8080/"
        },
        "id": "wF0xd0qDKZ_Y",
        "outputId": "6357c7ee-e34b-45f2-c063-ad8d85fb0fb3"
      },
      "execution_count": 8,
      "outputs": [
        {
          "output_type": "stream",
          "name": "stdout",
          "text": [
            "[2, 72, 117, 79, 1259, 1491, 2362, 13, 79, 150, 184, 311, 71, 103, 2308, 74, 2679, 13, 148, 80, 55, 4840, 1434, 2423, 540, 15, 3]\n",
            "[2, 87, 90, 107, 76, 129, 1852, 30, 3]\n",
            "[2, 87, 83, 149, 50, 9, 56, 664, 85, 2512, 15, 3]\n"
          ]
        }
      ]
    },
    {
      "cell_type": "markdown",
      "source": [
        "The detokenize method attempts to convert these token IDs back to human readable text:"
      ],
      "metadata": {
        "id": "y-ajuA7nKj8D"
      }
    },
    {
      "cell_type": "code",
      "source": [
        "round_trip = tokenizers.en.detokenize(encoded)\n",
        "for line in round_trip.numpy():\n",
        "  print(line.decode('utf-8'))"
      ],
      "metadata": {
        "colab": {
          "base_uri": "https://localhost:8080/"
        },
        "id": "WqRBtUrPKf5B",
        "outputId": "b979f756-00ff-4606-dbc7-c6228f935761"
      },
      "execution_count": 9,
      "outputs": [
        {
          "output_type": "stream",
          "name": "stdout",
          "text": [
            "and when you improve searchability , you actually take away the one advantage of print , which is serendipity .\n",
            "but what if it were active ?\n",
            "but they did n ' t test for curiosity .\n"
          ]
        }
      ]
    },
    {
      "cell_type": "markdown",
      "source": [
        "The lower level lookup method converts from token-IDs to token text:"
      ],
      "metadata": {
        "id": "jAljwlLHKjce"
      }
    },
    {
      "cell_type": "code",
      "source": [
        "tokens = tokenizers.en.lookup(encoded)\n",
        "tokens # Notice tokens like ##ere, ##nd, ##ip"
      ],
      "metadata": {
        "colab": {
          "base_uri": "https://localhost:8080/"
        },
        "id": "jZX6IXmHKjNz",
        "outputId": "62cb1f1d-82eb-4406-fc56-26f6309d88d7"
      },
      "execution_count": 10,
      "outputs": [
        {
          "output_type": "execute_result",
          "data": {
            "text/plain": [
              "<tf.RaggedTensor [[b'[START]', b'and', b'when', b'you', b'improve', b'search', b'##ability',\n",
              "  b',', b'you', b'actually', b'take', b'away', b'the', b'one', b'advantage',\n",
              "  b'of', b'print', b',', b'which', b'is', b's', b'##ere', b'##nd', b'##ip',\n",
              "  b'##ity', b'.', b'[END]']                                                 ,\n",
              " [b'[START]', b'but', b'what', b'if', b'it', b'were', b'active', b'?',\n",
              "  b'[END]']                                                           ,\n",
              " [b'[START]', b'but', b'they', b'did', b'n', b\"'\", b't', b'test', b'for',\n",
              "  b'curiosity', b'.', b'[END]']                                          ]>"
            ]
          },
          "metadata": {},
          "execution_count": 10
        }
      ]
    },
    {
      "cell_type": "markdown",
      "source": [
        "Here you can see the \"subword\" aspect of the tokenizers. The word \"searchability\" is decomposed into \"search ##ability\" and the word \"serendipity\" into \"s ##ere ##nd ##ip ##ity\"\n",
        "\n",
        "Now take a minute to investigate the distribution of tokens per example in the dataset:"
      ],
      "metadata": {
        "id": "mSknv4YdKyYV"
      }
    },
    {
      "cell_type": "code",
      "source": [
        "lengths = []\n",
        "\n",
        "for pt_examples, en_examples in train_examples.batch(1024):\n",
        "  pt_tokens = tokenizers.en.tokenize(pt_examples)\n",
        "  lengths.append(pt_tokens.row_lengths())\n",
        "\n",
        "  en_tokens = tokenizers.en.tokenize(en_examples)\n",
        "  lengths.append(en_tokens.row_lengths())\n",
        "  print('.', end='', flush=True)"
      ],
      "metadata": {
        "colab": {
          "base_uri": "https://localhost:8080/"
        },
        "id": "mBV5Ff4TK31R",
        "outputId": "c93d77bb-0731-4e2e-9ce4-722a1fb44afe"
      },
      "execution_count": 11,
      "outputs": [
        {
          "output_type": "stream",
          "name": "stdout",
          "text": [
            "..................................................."
          ]
        }
      ]
    },
    {
      "cell_type": "code",
      "source": [
        "all_lengths = np.concatenate(lengths)\n",
        "\n",
        "plt.hist(all_lengths, np.linspace(0, 500, 101))\n",
        "plt.ylim(plt.ylim())\n",
        "max_length = max(all_lengths)\n",
        "plt.plot([max_length, max_length], plt.ylim())\n",
        "plt.title(f'Max tokens per example: {max_length}');"
      ],
      "metadata": {
        "colab": {
          "base_uri": "https://localhost:8080/",
          "height": 281
        },
        "id": "iVqzBL9tLGso",
        "outputId": "d423dbc3-933b-4330-b683-4c076e414db8"
      },
      "execution_count": 12,
      "outputs": [
        {
          "output_type": "display_data",
          "data": {
            "text/plain": [
              "<Figure size 432x288 with 1 Axes>"
            ],
            "image/png": "[encoded data removed]"
          },
          "metadata": {
            "needs_background": "light"
          }
        }
      ]
    },
    {
      "cell_type": "code",
      "source": [
        "# Maximum number of tokens in any example in the dataset is 394. But, majority of the examples have num_tokens < 100.\n",
        "# In order to have efficient, low-bias model we can model with lesser number of tokens\n",
        "\n",
        "MAX_TOKENS = 128"
      ],
      "metadata": {
        "id": "C6H1eK0OLt_W"
      },
      "execution_count": 13,
      "outputs": []
    },
    {
      "cell_type": "markdown",
      "source": [
        "### Setup input pipeline\n",
        "\n",
        "To build an input pipeline suitable for training define some functions to transform the dataset.\n",
        "\n",
        "Define a function to drop the examples longer than MAX_TOKENS:"
      ],
      "metadata": {
        "id": "tjnS2IR2MIb1"
      }
    },
    {
      "cell_type": "code",
      "source": [
        "def filter_max_tokens(pt, en):\n",
        "  num_tokens = tf.maximum(tf.shape(pt)[1],tf.shape(en)[1])\n",
        "  return num_tokens < MAX_TOKENS"
      ],
      "metadata": {
        "id": "1K4RkvqFMPqL"
      },
      "execution_count": 14,
      "outputs": []
    },
    {
      "cell_type": "code",
      "source": [
        "def tokenize_pairs(pt, en):\n",
        "    pt = tokenizers.pt.tokenize(pt)\n",
        "    # Convert from ragged to dense, padding with zeros.\n",
        "    pt = pt.to_tensor()\n",
        "\n",
        "    en = tokenizers.en.tokenize(en)\n",
        "    # Convert from ragged to dense, padding with zeros.\n",
        "    en = en.to_tensor()\n",
        "    return pt, en"
      ],
      "metadata": {
        "id": "6J2m3-iyMnsu"
      },
      "execution_count": 15,
      "outputs": []
    },
    {
      "cell_type": "markdown",
      "source": [
        "Here's a simple input pipeline that processes, shuffles and batches the data:"
      ],
      "metadata": {
        "id": "t3tp_Ks6NfXX"
      }
    },
    {
      "cell_type": "code",
      "source": [
        "BUFFER_SIZE = 20000\n",
        "BATCH_SIZE = 64"
      ],
      "metadata": {
        "id": "K8RHKe0gNijV"
      },
      "execution_count": 16,
      "outputs": []
    },
    {
      "cell_type": "code",
      "source": [
        "def make_batches(ds):\n",
        "  return (\n",
        "      ds\n",
        "      .cache()\n",
        "      .shuffle(BUFFER_SIZE)\n",
        "      .batch(BATCH_SIZE)\n",
        "      .map(tokenize_pairs, num_parallel_calls=tf.data.AUTOTUNE)\n",
        "      .filter(filter_max_tokens)\n",
        "      .prefetch(tf.data.AUTOTUNE))\n",
        "\n",
        "\n",
        "train_batches = make_batches(train_examples)\n",
        "val_batches = make_batches(val_examples)"
      ],
      "metadata": {
        "id": "x7VIC4K7Nkj8"
      },
      "execution_count": 17,
      "outputs": []
    },
    {
      "cell_type": "markdown",
      "source": [
        "## Positional encoding\n",
        "\n",
        "Attention layers see their input as a set of vectors, with no sequential order. This model also doesn't contain any recurrent or convolutional layers. Because of this a \"positional encoding\" is added to give the model some information about the relative position of the tokens in the sentence.\n",
        "\n",
        "The positional encoding vector is added to the embedding vector. Embeddings represent a token in a d-dimensional space where tokens with similar meaning will be closer to each other. But the embeddings do not encode the relative position of tokens in a sentence. So after adding the positional encoding, tokens will be closer to each other based on the similarity of their meaning and their position in the sentence, in the d-dimensional space.\n",
        "\n",
        "The formula for calculating the positional encoding is as follows:\n",
        "\n",
        "\n",
        "![image.png](data:image/png;base64,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)"
      ],
      "metadata": {
        "id": "fHircl0HN9HC"
      }
    },
    {
      "cell_type": "code",
      "source": [
        "def get_angles(pos, i, d_model):\n",
        "  angle_rates = 1 / np.power(10000, (2 * (i//2)) / np.float32(d_model))\n",
        "  return pos * angle_rates"
      ],
      "metadata": {
        "id": "dcsZXql8Ohvw"
      },
      "execution_count": 18,
      "outputs": []
    },
    {
      "cell_type": "code",
      "source": [
        "def positional_encoding(position, d_model):\n",
        "  angle_rads = get_angles(np.arange(position)[:, np.newaxis],\n",
        "                          np.arange(d_model)[np.newaxis, :],\n",
        "                          d_model)\n",
        "\n",
        "  # apply sin to even indices in the array; 2i\n",
        "  angle_rads[:, 0::2] = np.sin(angle_rads[:, 0::2])\n",
        "\n",
        "  # apply cos to odd indices in the array; 2i+1\n",
        "  angle_rads[:, 1::2] = np.cos(angle_rads[:, 1::2])\n",
        "\n",
        "  pos_encoding = angle_rads[np.newaxis, ...]\n",
        "\n",
        "  return tf.cast(pos_encoding, dtype=tf.float32)"
      ],
      "metadata": {
        "id": "TVBDOGMXPDiz"
      },
      "execution_count": 19,
      "outputs": []
    },
    {
      "cell_type": "markdown",
      "source": [
        "Plotting the Positional Encoding for an example"
      ],
      "metadata": {
        "id": "iJQWyH6BRMns"
      }
    },
    {
      "cell_type": "code",
      "source": [
        "n, d = 2048, 512\n",
        "pos_encoding = positional_encoding(n, d)\n",
        "print(pos_encoding.shape)\n",
        "pos_encoding = pos_encoding[0]\n",
        "\n",
        "# Juggle the dimensions for the plot\n",
        "pos_encoding = tf.reshape(pos_encoding, (n, d//2, 2))\n",
        "pos_encoding = tf.transpose(pos_encoding, (2, 1, 0))\n",
        "pos_encoding = tf.reshape(pos_encoding, (d, n))\n",
        "\n",
        "plt.pcolormesh(pos_encoding, cmap='RdBu')\n",
        "plt.ylabel('Depth')\n",
        "plt.xlabel('Position')\n",
        "plt.colorbar()\n",
        "plt.show()"
      ],
      "metadata": {
        "colab": {
          "base_uri": "https://localhost:8080/",
          "height": 300
        },
        "id": "LHjy905UPq24",
        "outputId": "8e13c9db-8253-4d37-92a0-b0ca0bfea41e"
      },
      "execution_count": 20,
      "outputs": [
        {
          "output_type": "stream",
          "name": "stdout",
          "text": [
            "(1, 2048, 512)\n"
          ]
        },
        {
          "output_type": "display_data",
          "data": {
            "text/plain": [
              "<Figure size 432x288 with 2 Axes>"
            ],
            "image/png": "[encoded data removed]"
          },
          "metadata": {
            "needs_background": "light"
          }
        }
      ]
    },
    {
      "cell_type": "markdown",
      "source": [
        "#### A quick note on reading Color-Mesh"
      ],
      "metadata": {
        "id": "EyvFP-6JSGOj"
      }
    },
    {
      "cell_type": "code",
      "source": [
        "np.random.seed(19680801)\n",
        "Z = np.random.rand(6, 10)\n",
        "x = np.arange(-0.5, 10, 1)  # len = 11\n",
        "y = np.arange(4.5, 11, 1)  # len = 7\n",
        "\n",
        "fig, ax = plt.subplots()\n",
        "im = ax.pcolormesh(x, y, Z, cmap='RdBu')\n",
        "fig.colorbar(im, ax=ax)"
      ],
      "metadata": {
        "colab": {
          "base_uri": "https://localhost:8080/",
          "height": 282
        },
        "id": "8Nc8L5ZERYvS",
        "outputId": "f2d11d8e-3fa2-40b0-df81-98927246b001"
      },
      "execution_count": 21,
      "outputs": [
        {
          "output_type": "execute_result",
          "data": {
            "text/plain": [
              "<matplotlib.colorbar.Colorbar at 0x7f644feb7850>"
            ]
          },
          "metadata": {},
          "execution_count": 21
        },
        {
          "output_type": "display_data",
          "data": {
            "text/plain": [
              "<Figure size 432x288 with 2 Axes>"
            ],
            "image/png": "[encoded data removed]"
          },
          "metadata": {
            "needs_background": "light"
          }
        }
      ]
    },
    {
      "cell_type": "code",
      "source": [
        "# See the values for the top row on the Color-Mesh\n",
        "Z[-1]"
      ],
      "metadata": {
        "colab": {
          "base_uri": "https://localhost:8080/"
        },
        "id": "E2ZE7SARSHrM",
        "outputId": "43696ba1-2535-429b-8550-8a41a2a7c315"
      },
      "execution_count": 22,
      "outputs": [
        {
          "output_type": "execute_result",
          "data": {
            "text/plain": [
              "array([0.75060714, 0.11378445, 0.84536125, 0.92393213, 0.22083679,\n",
              "       0.93305388, 0.48899874, 0.47471864, 0.08916747, 0.22994818])"
            ]
          },
          "metadata": {},
          "execution_count": 22
        }
      ]
    },
    {
      "cell_type": "markdown",
      "source": [
        "### Masking\n",
        "\n",
        "Mask all the pad tokens in the batch of sequence. It ensures that the model does not treat padding as the input. The mask indicates where pad value 0 is present: it outputs a 1 at those locations, and a 0 otherwise."
      ],
      "metadata": {
        "id": "DNMKDI_oU5rH"
      }
    },
    {
      "cell_type": "code",
      "source": [
        "def create_padding_mask(seq):\n",
        "  seq = tf.cast(tf.math.equal(seq, 0), tf.float32)\n",
        "\n",
        "  # add extra dimensions to add the padding\n",
        "  # to the attention logits.\n",
        "  return seq[:, tf.newaxis, tf.newaxis, :]  # (batch_size, 1, 1, seq_len)"
      ],
      "metadata": {
        "id": "XLriuc6DVB6q"
      },
      "execution_count": 23,
      "outputs": []
    },
    {
      "cell_type": "code",
      "source": [
        "x = tf.constant([[7, 6, 0, 0, 1], [1, 2, 3, 0, 0], [0, 0, 0, 4, 5]])\n",
        "create_padding_mask(x)"
      ],
      "metadata": {
        "colab": {
          "base_uri": "https://localhost:8080/"
        },
        "id": "t9gryY-PVFKD",
        "outputId": "ad790287-9884-4599-ed68-6f5691b6043d"
      },
      "execution_count": 24,
      "outputs": [
        {
          "output_type": "execute_result",
          "data": {
            "text/plain": [
              "<tf.Tensor: shape=(3, 1, 1, 5), dtype=float32, numpy=\n",
              "array([[[[0., 0., 1., 1., 0.]]],\n",
              "\n",
              "\n",
              "       [[[0., 0., 0., 1., 1.]]],\n",
              "\n",
              "\n",
              "       [[[1., 1., 1., 0., 0.]]]], dtype=float32)>"
            ]
          },
          "metadata": {},
          "execution_count": 24
        }
      ]
    },
    {
      "cell_type": "markdown",
      "source": [
        "The look-ahead mask is used to mask the future tokens in a sequence. In other words, the mask indicates which entries should not be used.\n",
        "\n",
        "This means that to predict the third token, only the first and second token will be used. Similarly to predict the fourth token, only the first, second and the third tokens will be used and so on.\n",
        "\n",
        "For reference, see `upper-triangular matrix of -inf, with zeros on diag` in Language Modelling with PyTorch. The difference would be here, we use 0s instead of -inf"
      ],
      "metadata": {
        "id": "dklaWS_LVLaW"
      }
    },
    {
      "cell_type": "code",
      "source": [
        "def create_look_ahead_mask(size):\n",
        "  mask = 1 - tf.linalg.band_part(tf.ones((size, size)), -1, 0)\n",
        "  return mask  # (seq_len, seq_len)"
      ],
      "metadata": {
        "id": "rBt3_JGCVRJr"
      },
      "execution_count": 25,
      "outputs": []
    },
    {
      "cell_type": "code",
      "source": [
        "x = tf.random.uniform((1, 3))\n",
        "temp = create_look_ahead_mask(x.shape[1])\n",
        "temp"
      ],
      "metadata": {
        "colab": {
          "base_uri": "https://localhost:8080/"
        },
        "id": "GdNoWWS6Vo33",
        "outputId": "b0fa515b-b577-468e-fdb2-9a9f6ab398c5"
      },
      "execution_count": 26,
      "outputs": [
        {
          "output_type": "execute_result",
          "data": {
            "text/plain": [
              "<tf.Tensor: shape=(3, 3), dtype=float32, numpy=\n",
              "array([[0., 1., 1.],\n",
              "       [0., 0., 1.],\n",
              "       [0., 0., 0.]], dtype=float32)>"
            ]
          },
          "metadata": {},
          "execution_count": 26
        }
      ]
    },
    {
      "cell_type": "markdown",
      "source": [
        "### Scaled dot product attention\n",
        "\n",
        "![image.png](data:image/png;base64,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)\n",
        "\n",
        "The attention function used by a transformer takes three inputs: Q (query), K (key), V (value). The equation used to calculate the attention weights is:\n",
        "\n",
        "![image.png](data:image/png;base64,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)\n",
        "\n",
        "\n",
        "\n",
        "The dot-product attention is scaled by a factor of square root of the depth. This is done because for large values of depth, the dot product grows large in magnitude pushing the softmax function where it has small gradients resulting in a very hard softmax.\n",
        "\n",
        "For example, consider that Q and K have a mean of 0 and variance of 1. Their matrix multiplication will have a mean of 0 and variance of dk. So the square root of dk is used for scaling, so you get a consistent variance regardless of the value of dk. If the variance is too low the output may be too flat to optimize effectively. If the variance is too high the softmax may saturate at initialization making it difficult to learn.\n",
        "\n",
        "The mask is multiplied with -1e9 (close to negative infinity). This is done because the mask is summed with the scaled matrix multiplication of Q and K and is applied immediately before a softmax. The goal is to zero out these cells, and large negative inputs to softmax are near zero in the output.\n"
      ],
      "metadata": {
        "id": "AnxLYvoUVrgQ"
      }
    },
    {
      "cell_type": "code",
      "source": [
        "def scaled_dot_product_attention(q, k, v, mask):\n",
        "  \"\"\"Calculate the attention weights.\n",
        "  q, k, v must have matching leading dimensions.\n",
        "  k, v must have matching penultimate dimension, i.e.: seq_len_k = seq_len_v.\n",
        "  The mask has different shapes depending on its type(padding or look ahead)\n",
        "  but it must be broadcastable for addition.\n",
        "\n",
        "  Args:\n",
        "    q: query shape == (..., seq_len_q, depth)\n",
        "    k: key shape == (..., seq_len_k, depth)\n",
        "    v: value shape == (..., seq_len_v, depth_v)\n",
        "    mask: Float tensor with shape broadcastable\n",
        "          to (..., seq_len_q, seq_len_k). Defaults to None.\n",
        "\n",
        "  Returns:\n",
        "    output, attention_weights\n",
        "  \"\"\"\n",
        "  # Matrix multiplication, hence dimensions become important\n",
        "  matmul_qk = tf.matmul(q, k, transpose_b=True)  # (..., seq_len_q, seq_len_k)\n",
        "\n",
        "  # scale matmul_qk\n",
        "  dk = tf.cast(tf.shape(k)[-1], tf.float32)\n",
        "  # Explanation of sqrt(dk) given above\n",
        "  scaled_attention_logits = matmul_qk / tf.math.sqrt(dk)\n",
        "\n",
        "  # add the mask to the scaled tensor.\n",
        "  if mask is not None:\n",
        "    scaled_attention_logits += (mask * -1e9)\n",
        "\n",
        "  # softmax is normalized on the last axis (seq_len_k) so that the scores\n",
        "  # add up to 1.\n",
        "  attention_weights = tf.nn.softmax(scaled_attention_logits, axis=-1)  # (..., seq_len_q, seq_len_k)\n",
        "\n",
        "  # Multiply the normalized output, or attention weights to the value vector\n",
        "  output = tf.matmul(attention_weights, v)  # (..., seq_len_q, depth_v)\n",
        "\n",
        "  return output, attention_weights"
      ],
      "metadata": {
        "id": "KeYjzv84WugT"
      },
      "execution_count": 27,
      "outputs": []
    },
    {
      "cell_type": "markdown",
      "source": [
        "As the softmax normalization is done along the dimension for keys, the attention values decide the amount of importance given to the keys for each query.\n",
        "\n",
        "The output represents the multiplication of the attention weights and the V (value) vector. This ensures that the tokens you want to focus on are kept as-is and the irrelevant tokens are flushed out."
      ],
      "metadata": {
        "id": "oGOF5vlaXznY"
      }
    },
    {
      "cell_type": "markdown",
      "source": [
        "Test this out for samples"
      ],
      "metadata": {
        "id": "jqTlRfZzYbk4"
      }
    },
    {
      "cell_type": "code",
      "source": [
        "def print_out(q, k, v):\n",
        "  temp_out, temp_attn = scaled_dot_product_attention(\n",
        "      q, k, v, None)\n",
        "  print('Attention weights are:')\n",
        "  print(temp_attn)\n",
        "  print('Output is:')\n",
        "  print(temp_out)\n",
        "\n",
        "np.set_printoptions(suppress=True)\n",
        "\n",
        "temp_k = tf.constant([[10, 0, 0],\n",
        "                      [0, 10, 0],\n",
        "                      [0, 0, 10],\n",
        "                      [0, 0, 10]], dtype=tf.float32)  # (4, 3)\n",
        "\n",
        "temp_v = tf.constant([[1, 0],\n",
        "                      [10, 0],\n",
        "                      [100, 5],\n",
        "                      [1000, 6]], dtype=tf.float32)  # (4, 2)\n",
        "\n",
        "# This `query` aligns with the second `key`,\n",
        "# so the second `value` is returned.\n",
        "temp_q = tf.constant([[0, 10, 0]], dtype=tf.float32)  # (1, 3)\n",
        "print(\"This `query` aligns with the second `key` : \\n\")\n",
        "print_out(temp_q, temp_k, temp_v)\n",
        "print('*' * 50)\n",
        "print('\\n')\n",
        "\n",
        "# This query aligns with a repeated key (third and fourth),\n",
        "# so all associated values get averaged.\n",
        "temp_q = tf.constant([[0, 0, 10]], dtype=tf.float32)  # (1, 3)\n",
        "print(\"This query aligns with a repeated key (third and fourth) : \\n\")\n",
        "print_out(temp_q, temp_k, temp_v)\n",
        "print('*' * 50)\n",
        "print('\\n')\n",
        "\n",
        "# This query aligns equally with the first and second key,\n",
        "# so their values get averaged.\n",
        "temp_q = tf.constant([[10, 10, 0]], dtype=tf.float32)  # (1, 3)\n",
        "print(\"This query aligns equally with the first and second key : \\n\")\n",
        "print_out(temp_q, temp_k, temp_v)\n",
        "print('*' * 50)\n",
        "print('\\n')\n",
        "\n",
        "# Pass all the queries together\n",
        "temp_q = tf.constant([[0, 0, 10],\n",
        "                      [0, 10, 0],\n",
        "                      [10, 10, 0]], dtype=tf.float32)  # (3, 3)\n",
        "print(\"All the queries together : \\n\")\n",
        "print_out(temp_q, temp_k, temp_v)"
      ],
      "metadata": {
        "colab": {
          "base_uri": "https://localhost:8080/"
        },
        "id": "coViX2RZYYP8",
        "outputId": "7d7b850a-6472-4254-b592-0d1b479c4b67"
      },
      "execution_count": 28,
      "outputs": [
        {
          "output_type": "stream",
          "name": "stdout",
          "text": [
            "This `query` aligns with the second `key` : \n",
            "\n",
            "Attention weights are:\n",
            "tf.Tensor([[0. 1. 0. 0.]], shape=(1, 4), dtype=float32)\n",
            "Output is:\n",
            "tf.Tensor([[10.  0.]], shape=(1, 2), dtype=float32)\n",
            "**************************************************\n",
            "\n",
            "\n",
            "This query aligns with a repeated key (third and fourth) : \n",
            "\n",
            "Attention weights are:\n",
            "tf.Tensor([[0.  0.  0.5 0.5]], shape=(1, 4), dtype=float32)\n",
            "Output is:\n",
            "tf.Tensor([[550.    5.5]], shape=(1, 2), dtype=float32)\n",
            "**************************************************\n",
            "\n",
            "\n",
            "This query aligns equally with the first and second key : \n",
            "\n",
            "Attention weights are:\n",
            "tf.Tensor([[0.5 0.5 0.  0. ]], shape=(1, 4), dtype=float32)\n",
            "Output is:\n",
            "tf.Tensor([[5.5 0. ]], shape=(1, 2), dtype=float32)\n",
            "**************************************************\n",
            "\n",
            "\n",
            "All the queries together : \n",
            "\n",
            "Attention weights are:\n",
            "tf.Tensor(\n",
            "[[0.  0.  0.5 0.5]\n",
            " [0.  1.  0.  0. ]\n",
            " [0.5 0.5 0.  0. ]], shape=(3, 4), dtype=float32)\n",
            "Output is:\n",
            "tf.Tensor(\n",
            "[[550.    5.5]\n",
            " [ 10.    0. ]\n",
            " [  5.5   0. ]], shape=(3, 2), dtype=float32)\n"
          ]
        }
      ]
    },
    {
      "cell_type": "markdown",
      "source": [
        "**PAUSE HERE. TAKE A MOMENT AT THE OUTPUT. UNDERSTAND ALL THE DIFFERENT SCENARIOS. WHY THE OUTPUT IS [550, 5.5] IN THE SECOND BLOCK AND SO ON**"
      ],
      "metadata": {
        "id": "nY4ReerEaYah"
      }
    },
    {
      "cell_type": "markdown",
      "source": [
        "### Multi-head attention\n",
        "\n",
        "\n",
        "![image.png](data:image/png;base64,iVBORw0KGgoAAAANSUhEUgAAAbYAAAG/CAIAAAC7ZGXvAAAgAElEQVR4nOzdd1gURxsA8Jnd63f03kGxoqJij4omsRsTjb3X2KKx66eJLWoSezeWiIkm1sQexRY7NqwgFhSl93Jcv92d74/FA4FDUJr6/p48efa2zM6Ody+zO7MzmBCCAAAAFIaq6AwAAEDlBSESAADMghAJAABmQYgEAACzIEQCAIBZECIBAMAsCJEAAGAWhEgAADALQiQAAJgFIRIAAMyCEAkAAGZBiAQAALMgRAIAgFkQIgEAwCwIkQAAYBaESAAAMAtCJAAAmAUhEgAAzIIQCQAAZkGIBAAAsyBEAgCAWRAiAQDALAiRAABgFoRIAAAwC0IkAACYBSESAADMghAJAABmQYgEAACzBBWdgY8bE3Hk1+DnDP8BC6u0G9mtttjszk/+3XriiZ7wn2i3wAm9GhTjHPqkB+eDT5w6de6R75yD81uJzO6oClk+eMo/dO+VQZObKczuxUaf23HwfjbJswor6n417DMvGnEp1/bsvpbM5d0mqNrh2y9qFiOfJcBmPb968vDR48GRfov2zGxk/pJewyUdXrxDMXHmZ1alm5vSUbzSB+WPgIqkS4u6d3pd76pCjBCibL8KimfN7Zrxz2BXGiGEsKTeiKALDxNUxUifeXFi9f9GfeYjwYh2H31KV9Su4YsaCzEWNl4UzhSVpD496s7xZV960gghRHt0W3r8TlS6PicNZWzYuS1DaokwQoiyC5x94PrTZG0x8lkSxrA9349o6yPBSFB98iV9cQ9jHv7cXGrZfsMLsyVckYpb+qC8QYisBPRXplYXIIQQFgcsuGcsdB/2xYZ21iIhhREStvjlaYl+Rszz5S2FBUMkmxERHp03oczww1u2HotQFiNJ3ekxHjRCtNuoEwXCrvHu3AZChLCs+87skmSzJJiIxU2EJQqRustTaggQFvp/f6vwEuYVKJRCV5WCdyl9UI7gWWQlQCkUFjbePjYU0d/dtvZkViG7MHe2bQ1r1b21FCGEZRYWuCTpY6lUXOAALm7/xBHrwpg8q6xqdxs1sktNi+IkKVPIMEJYrlAUSBkrFDKEEJbI5GX3HEcoFJZo/8zjm/cnyqTIGLZj08lsc3sVUiiFrCoF71b6oBxBiKwMMMIWn40eXEOI2dj9a/98weXfIfvkpp3a3uM7WWN+93eme7BmyPjdL9/+h1+cPJRCPksJF7Nn24WAJWv6uNJs3IGNu2MKlDBChRbKO5dTocomVVAmoLmmshDWHzuu9faJZ7PPb/z1xsifm+Vpg+Di9vx63HPE+Rbi7/MewWVc37npZJSBICzz7zOle00B8+jgyr33NAQhJPD9YsrAAFmhp8oMWdqn5/fn0jjLe3sXz79OWzToN+nL6jRi0sNP7dt7y2bInD5V6TK4REPchZ3bj4SERRucajfp0H94lxp58sdlPjz+x65Tj9K0OmRdpVHngYM/9X6t5YpLf3Bs38GzIeFpkmptB3UrNMiZwYQHBT1pN3dQP/voZX8ujTi75bcHw+f7v/7dL6RQhjoe6l9YORV9LUz6o/OHDxyJqfv9913ZkJ2/7Tv7IN0moM+k77pWEZs5URGlz2U+OLb76OV74S+UFlXqNWz9Zb/OtXIrmm86FygFFX2nDwgx3p/XqMqY09qMw0PdaIQop757U/Nuvje/kVvv3cmsendPBUZI1G5jYk6Tgy728DfVBYiyH3SQbxQxZkSemBogwkjcYXPyqwTYhA2fiXKfRTLR14/s/DZAiCi7jgv2Hzx46MTt+Nhzayd09JVRGAnrzinyYR1Pf3VaDQEq/GEgE7n0EyFClO3Af3JbavRP/xrTvuvkzcevXL/0z9Ke1cS0TaNJR+JeXUf4lu6eFgHTz8RpCVHe+bmttdCt167o3IYV1YPtg+pUaTfvaHiyVvns5E9f+tkpqOI+i1SfHV+93qzrekKYp8tbyzCivb45ke8xaSGFEveiwCq+3M1fC/Po7zlf1VBghIQt5+5b3j+wdddePVpXkWMs9B55NKOEpc8mnFvcrWaNbj+fikxXJd0/tqSbh1BR/etlF5NZUqxzgVIAIbISyAmROmK8PbeBCCMsa7k0wvQkX3VydNVaUy7pCCkYIgnJ3N5VnCdEEkK0R4c7U0WFSEIISdrUXoRot5H/5mlsUZ0a7U2XLETSLp3nbgvKZ/vy/tUFr4dI3fUfAlw6bTI1Jqfv7+9EYUHVcaezCSFEdaC/LYWt++5T5+YOS9qsiuL3Z5P+GeolqjL6ZKbpilL39XcpbohM3d3bM3A538LFJv3R3ZZClHW37QX7DhRSKIWsesO1EP2F73wFiLKqM3jLHSUhhLDRWzpbU1jRecurf7ZilT4TseZzG4HniGOmqybqWwubyzHl0GVzJFPcc4F3BM8iKxOB/zfj21tRRHNty4aLGoQQQlzi/l+PeYwc29zMjROF8z/xwxR+u39VsbOLXQmPJKqn5w8fzOdQ8IO012+DMw6u2PjAtbZbws3rvMcKbx8BYl4GHw01IITE1Zq3aRDQsU3tnKcLCoWcRkx8TByDEELMvQ0//hnn3X1wW1OHRsq6gb9P8Z4FsFF/br0aMHxgFRohhCjHHqN7edBcVvCm3x6+1bPAN10LoqysLDCifXpMHlbfAiGEKJdmTarSRBcV+aKIM+Yvfc3plcv/U7p/0f/z3G6csoAJk7vZo5STv6y5pH+Hc4ESgGeRlQrl1ndi38Unfo16/ueafbMDh7qQR9u33G49+Tffsng2mF+BaPtGlEvXxQdWtny97zb7bFlgrRlXWNMK3dXTlzJpq0fHft+RGwTqDx9dHwurCYwIiQT1vv371rf8wWn3DwX9/ud9IyI6jZYghJjwQ0fCGEHHOn55T4OLmVnm7vYdLzou6uH06szyz0YPrrt90d3b2zddmLzhM3kJr/iN11LIMVgmkyCEWKOxqJRfvyDD7VMXEliqoavLaz9R688+byrZcyzmwpkw1Cbgrc8Fig9CZCUj/3TCqMY75lzLPLF+y4OB09M3/Z7dO6ibbUVkhX2+4tM6s67m/tawdZ/dMbu+lpQwHS4rOiaNIw17/LJpuLX53TSRx9ev/DNM1qzvyOn9rmwKfpGzXv8wPJJBQom0ZL18eKrTm/8Ii03t7bw7z0piJAizL/ds+Htu28FOJao4F/Na3h0TH5fIIqTX6chr6+VVfJwp9DI1Makszw5yQYisbOiaI77tuvLGgdS729b85aI86j7yXNOKaZ3E1k0HTp/VOveeGUvq1nybLwzHsogwkREPDahF4S8L6sJ2jB88+2bzLcFBXV1opNmVp0Zl1OqMiJD01CwOyUr2IIBL/HvrcZ+fwp9Pfa0Wzr5Y36HuxLMZJ34NejxgVq0SVdDffC2lg5LKpRipYqNeGFCDPIWOpTIJRtjCxqYMTw7ygGeRlQFHCOFe3ZhSjl9/N7iaALNxu8dPv95q3OAqJbvJJgSRN+9VDJRty1ELfsxj4Zzefm8RIikrD3crinl2ZN81zetbDA9/33g8jWNCfx46bkdUi1lLuroUvFapq6s9hZiwa9fUJTwxE7H918v1B/TLX4C0d//RXzhQRHdz+6+XdaV7LSXMolmi+g38RJjLuhVy35B3PUlPyyKUdUCzOqV1JlA0CJGVAKdSqVRqtSmwSZqPG9NKhole7z5g/Be51QXOaGQRQohlc5/zUSKhABNNWuqrN0a49OjoTIIIx3Km3yspEDNFYhGFiUajybuFcAQhRAruXQiGzwrHFRIUjEYGIUS4V9mUtGjXyppinm6bsuB8bhBh445OnxXq+YkdeXY6+L6WEFNXcy4rS8kSxPEZETdtH2hPcSnHNmx/bIoWRKPR5iuJAlRn12171mbg164Fv+S2X4zs5UUj5tlf6w4kmXJUSKEUWPWGayn895S/SItR+pRbryGd7Cgm8vDe63miOPPk+u1kynfgN53MvYVTvH8+UGwQIiselxoeEZ95P/SBKQDQVYd828OFlrceM7px7t0cE/U8hiEIcfEvc1/MkAS0CJAh7Zll360/ffPG2T8XjZxwWu9AI/bhsS0Hb8TpEEKIZGYqCSJatcoUUKSenk4Upww5diw682Xw+q0XsxHi0tMzOcQpM7KKiDs5VNExqRxCXGp0dIG3+YwxMQkcQkgTF53IIYQQ5dBj5oQABVKHLuvapMOoH5auXrFoar8WrReisXM6WyNs4+QgxUQZvGz2rkuXj26eN37y/pcCzGU8vHL+7IHTj2y6zZzS0hplnpvZZcCKEw8SszMig5fN+/MJi9iYk2t+2vxvuKqQHBrur12wK65aoyaFjusjadG+tS2FuLSjy1Zdf1U7LaRQCqxSF30tCCFOqVQRRIwGw6sIyqamZRBENHzzUzFLn3IesGJlnyp05I65a+/l1FgNz/5aGBQdMHPzvEC+o3oxzgXeVYV2OfroqW5smz7s82pyjBAWubcaNHXz1Zw+v/obP3QY8U/OBzbt8q8zRnSsbsH/RcPyKp8Nm7E15FUaK7t6STBCCEt9Os87EXV7bkOFY532Q+dsPPlUmXRlx8JvWrkIMEKUtV+38YsOPmYIIUR/+5dAOwpjLHFqOm7f0yenN84b1sSeQghRdo2Hzt92Ic5Mvzrm+ZGfv+vXzEXIvwspdAzo+e3iQ8/4XoeJ/62bNrStt5TfRlv7ffHN7F33+Uu4urJnLatXR9kHDFx6Nu5V30/trZWd3EUYISyybzho/fXkqC1dbCiEBc6fLryQSgghmbd+HVTfVogxQlhgWe2Lxbt+aCG392s/Yn7QuUhl/qwa7/8x4XNvMUZYWqXtsNl7Hr7W0ZONPbl80sAWbjl5EXm0Hb3xSkbBQnluLHxVEdfCRJ9dP6GNM40QFri1HDFv/0Nd3PkN41s70Qghyq5h37mHIktS+mzy5RV9G7i61ek4fPrsSUO7BHactPdRTufR4p4LvBtMoF7+AdCnRT58prWvVdvDgkaa5ES9rbPNG58aGtIiw2MFvnW8LcqjRxFCCCFWFRfxMJ5yq1ndzSJf/tQJ4RHJihp1vPjcqGPuhWc61PFzzdNCw6kTIiKSZL51fKwF+qSYTGsPp1JvyCqkUMyUUxHX8pYnMr9vxvOHkVqn2rVc5HDbV94gRAIAgFnwRwkAAMyCEAkAAGZBiAQAALMgRAIAgFkQIgEAwCwIkQAAYBaESAAAMAtCJCgnHMft3LmzonMBQMlAiATl5NatW/PmzSty4AkAKh0IkaA8EELmz5//4sWLmzdvVnReACgBeAERlIe0tDQXFxej0di+ffuTJ08Wd1oFACoa1CJBedi0aZPRaEQIXbhwIS0traKzA0BxQYgEZc5gMGzYsIFf1uv1W7Zsqdj8AFB8cKMNytzFixcDAwNNH21tbRMSEkSispz6BYBSArVIULb4hpq8azIyMs6dO1dR+QGgRKAWCcpWYmKiu7u7WCzWaDQIIZlMZjAYGjZseO3aNWi0AZUf1CJB2Vq3bt2SJUtOnTrFf+zQocOjR4/kcnl0dHTFZgyA4oB5tEEZIoRMnz7dysoqPj6eXyMQCKpWrXrmzBmtVluxeQOgOCBEgjKEMba2ti64nqIouVxe/vkBoKTgRhsAAMyCEAkAAGZBiAQAALMgRAIAgFkQIgEAwCwIkQAAYBaESAAAMAtCJAAAmAUhEgAAzIK3a0B+hBC1Wn3o0KG7d++qVCp+JcY5I56UaMEkKiqKX/jvv//GjBnzjqmZCIVCX1/fr7/+2s3NDQbFAGUBRvoBr+E4bv369TNnztTpdHnXl1ZQK4vUKIrq2bPn9u3b4aVGUOogRIJcHMeNGTNm69atpjVisbgC8/NGDMOwLMvHUHd39wcPHhT6SjgAbw1CJMi1bt26iRMnIoRomu7UuXOf/n19qlThNxFC+DvZEi2YU1qpZaRnBJ88uXPH71lZWQihDh06nDhxAu64QSmCEAlyqFQqNzc3pVJJ0/Tin38aPGwIReW25lXOEMkLvRU6oE+/zIwMiqKuXbvWuHHjdywKAEygRRvkuHfvnlKpRAh9+vnng4YMzhsfK7mGAQ2nz5yBECKErF+/vqKzAz4o783PAJS1S5cu8Qtfde9OC+iKzUxJdf6iK79w4cKFis0J+MBAiAQ5UlJS+AUra6uKzclbsLBQ8Av8bN0AlBYIkQAAYBaESAAAMAtCJCgujuN+XrTk0oVLhW4NPnFy7+495ZwlAMoavIAIiosQcuniJTcPj0K3Rj6NTEhIKOcsAVDWIESC0tG3fz+GYSs6FwCUMgiRoHQIhEL8eldKjUZz68ZNQoh//frWNq+9F2g0GB+GP0xNTfGtVs3bxzvvJp1OHx4WlpmR4eziUqt2LZrO6X505/Ydnyo+lpaWL6JeZCuV/g3ql/UVAYAgRILS8tfOXYmJiQsWLYx8Gjl+9NjxEyesX7PO2sZKp9M9e/ps3sL5vfv14fe8fev25InfyeRyKyvLF89fBDRqtGzVcqlMihC6evnKtMnTHB0dpFJJbGy8lZXV9j+CHBwdEELLfl46YtTIvbt3P33ytMsXXSFEgvIBIRKUDo7jWJZFCBFCkhKTjh4+8sdfO52cnTiOO3royNzvfwhs28bJ2SkpKWnMqG+mz5rZ/evuNE0rlcp5c+bOmTV75dpVWVlZE8Z9u2L1qlaBrWia1mg0M6ZMX7dm3cLFC/lTbN28pV37dms3rpdIJBV6reAjAi3aoPSpVNnjJox3dnHGGNM03b5TB5lU+vTJE4TQvt17mzZv/nWvrwUCAcbY0tJy/qIFZ06fTklOeRzxuEFAQMvWLfmba6lU2ubTT8Pu3zcla2NjM3TEMIiPoDxBLRKUPmcXF99qvqaPUqlUrpAzDEsIuXL5SoOGDUKuXsUII4QIIgghRwfHO7dvf96+3caGG2ma5jguLS09IT7+dHCwwWAwpdOxU0fTo0kAygeESFD6aJrOOwoGxpgfqodhmNSU5H+PHb9y+TI/dA9BCCOksJDzw/kEnwg+fPCQKjvbwdHRy8vLy9s7NibGlI6l1fv3ZiR430GIBOWHpmm5XDFs5Mgvu3crOOLZ3r/2/B60Y+3G9V7eXiKRiBBy+OCRK5cK76kOQPmAZ5Gg/FAU5d+g/rWrV/OuNOgNXTt0jgiPOHrk6KAhg32r+YpEIn5T9MuXFZFNAHJBiATlqlef3ocPHfrv7H/8R0LI70E7WJatXrO6hYXFvbv3OI7jN927c/fY4SMsy5rWAFD+4EYblMxPPy5at3pNvpUDhwymizcEr18dvx/mzZ3y3aRWrVs7OTs+efz0RVTUlu3baJoePXbM0IGDEhLiq9eoHhMdm5SYOHfh/LGjRi+ct2DBooVlcCkAvBlMzAByTJ06deXKlQihXXt2f97+83xb+e9JQny8Vqsr+BjR2saapmnGyNg72BsMhqTEJDd3t7wtNnGxsTa2tjKZjN//5cvoK5cupSSnVKlapXWbQGtraz61uNi4C+cvJCcl1apdu/knzS0sLOLj4wnHuXt4JCYkWlpZ8ikUzJtarfb19MEYu7i4xMXFlVkhgY8O1CJBcWGMXd3cip5kBiEkEoncPdzzzTbj5u6eNx0vL09v74GowLw0bu5u/Qb0y5usm5sbn6yzi3M5XCMA+cCzSAAAMAtCJAAAmAUhEgAAzIIQCXJYvXp3xTTP13skMyOTX5BKpRWbE/CBgRAJcnTo0IFfOLB3n16vr9jMlAghZP/e/fxy586dKzYz4AMDIRLk8Pf3d3BwQAiFXA3ZuG6DQW944yGVAcdx5/87v3bVaoQQxnj06NEVnSPwQYF+kSDX3r17+/fvz3EcRVGftGrVu28fLy+vIrr4vHHBnNJKLTMz89iRo4f+OajX6zDGHTt2PH78eNGnBqBEIESCXISQ8ePHb968ueA7fxjnfFVKtGBOqaeGEKpXr961a9dgNElQuuBGG+TCGG/YsOGPP/6wt7d/j+piYrF4xowZ169fh/gISh3UIkEhdDpdSEjIzZs3778a9Pvd633h4eEPHz7s2rWrVCotrVqkj49Ps2bNWrRoYWNjUxblAACESFAeCCHffPNNUFBQREREtWrVKjo7ABQX3GiD8qDVanfv3s2y7Nq1ays6LwCUAIRIUB7279+vVqsRQkFBQVlZWRWdHQCKC0IkKHMcx/HDrCGE1Gr14cOHKzY/ABQfPIsEZe7hw4d+fn6mjz4+PpGRkVTxhuAFoGLB1xSULULIokWL8q558eJFREREReUHgBKBWiQoW+np6a6urqaXvvkePJ07dz5+/HjFZgyA4oBaJChb+/bta9q06f79OcNMdOzY8ejRo6Ghoenp6RWbMQCKA0IkKEOEkMDAwPPnzzdv3pxfo1AounbtGhUV9X4NJgQ+WjB3DShDGONatWoVXC+VSmFgR/BegFokAACYBSESAADMghAJAABmQYgEAACzIEQCAIBZECIBAMAsCJEAAGAWhEgAADALQiQAAJgFIRIAAMyCEAkAAGZBiAQAALMgRAIAgFkw0s9HjRCSkZERHR2t0WgwxkXvye9QogWTW7du8QuPHz8OCQl5x9SKzhtFURYWFj4+PhKJpOgDAXgjGHX8I0UIefDgwcSJEy9dusRxHD8YeBH7m3Yo0UIFpiaTyYYNG7Z06VIYdQ28CwiRHyNCyM6dO0eMGMGybOUJamWRmpubW0hIiIeHR7HLBoDXQIj8GF24cOHTTz/lK4/u7k4d2jerVcuHpukiDiEE8fesJVqokNSys1XXr0ecPXddq9VhjF1dXSMjIyUSyRsKBYDCQIj86BiNRmdnZ37qmAH9Oq9eOc7WVlHS533FXKjA1K7fiOw7YG5sbCIh5Oeff545c2bxiwgAEwiRH50rV660atWKENKkcd0zwcvlcjGqHEGt1FO7eCm8XceJDMPa2tqmpKTAzN3gLcCX5qMTHBzML4z55kuZTFSxmSlTrVv5NWzohxBKT09PTEys6OyA9xKEyI/OjRs3+AW/Or4Vm5NyUKOaM7+g0WgqNifgPQUh8uNFUR9+n0Gahm84eCfwBQIAALPg7RrwBizLhVyLOBkcev9BhFgkatHC/+segR7uthWdLwDKA9QiQVEyMtRDhi8bMvwnqVQ4YniXnl+3ffI0rmmLMRs2Hq3AvhAZmarR41ZnZmorKgPg4wG1SGCW3sCMHL2CEHI3dJtCLub70/TuFThkUIeOnad4eDp369q4Ql6C1uuZs+duGwxM+Z8afGygFgnMOnjo6r37T7ZtnmqheO3VlKZNqs2YPmjxkt8rKmMAlBsIkaBwHEe27zg+Ylg3W1tFvk0Y47Gju86c3pvjcu61b9yM7NhllkTxucK6Y7fuc0OuPebXJ6coJ0/dFPksedSY1Za2nSSKz9t1mnn7znNTUkYju2LVgRp+Q4XST32qDfjfnN80GgO/KS1NNW7COjfPXkLpp15V+835IUinMyKE1m88Mnb88uTk1NHjlo4et7zMCwJ83CBEgsJlZmoeP45p1bJOoVttbOQ9urfmu9ScPXf/yx6zevZom5JwLCH2UJfOLXr2/uH02bsIIY1Gf/jo1cnTfv20bUBC7KH4mMP16/l+3et7/jEiy3Kjxqw+dPjyXzvnarNP/3dmzZ27T0eMXsGynNHI9h2wSEDTt2/+ps0+ffzI0v/O3/552T6EUMMGvu3bNZbJpB3aNenQrkk5Fgn4GEGIBIXLUmZrtToPD6eid2MYduLkNYt/HD1ieHsLC4mFQvLNyA7zfhj2w9zftFojQig1Nf3LL5r27d1SLhPb2sjn/TBIIBTcuPkIIXTq9N2z524e/HtRQMMqAgHt7WX/x445p09fi3yWFBb+Mj4+Zcmi4U5OlgIBXcfPY8rk/mfO3kAItWheu/tXgQqFvEf3Nj26ty6HogAfMwiRoHCEkDe+HI0QunsvKjtb07tna9OeGOO+vdvGxiU9jIhBCNnZ2XTu1NS0VSYTOztZZmdrEUIHD18YOqSLvV3ujbyjg0XI5a0uzjZVq7oeOfSzTCY2bYqLT83KyirdawTgjaBFGxTOyspCKpXExSV7ehTSBZLjuNNnbn7ySf1Hj6O9vZylUmHerRaWYl9fr4TEDDs7C5FIKJHkvglOUZi/PWcYLiLiRWAr/3wpV/N15OOpWqX9LejUjRv309L1FI0ZI7RfgwoAtUhQOGsrWdWqrldDIgrdGhWV9sVXs/U6RiigGIYt2EVSr9MX/YIjxoimKaORLXTr7TtRn3WYmpmlmj514I7fpuzeOWvUiK5vdR0AvBMIkaBwNE0NHthxe9DRrKz8A0AQQnbsPNEmsLGtrcy/fo3IZzGZmeq8OyQmKl+8jPf2cig6/caNat+49Tjf+k5d5pw7/2DT5oP9eredNrlH9eouFhZSoZBWqaGjOKgAECKBWb17tvbwcJo0dZOpIw7v6rXHm7ccnDN7EMa4uq9z3TrVVq7+29QBiGW5VWv216tbtZqva9Hp9+/3+f4DZ8PCY0xrboU+e/joef16VbKVGp0+9846O1v32/ZjeY/lOMIwhddAAShF8CwSmCWXi4O2zRgzflWrthNHjfiijp+nTmc8debOrj9P/jh/dKtPaiGEKAqvXzuxe8/vU1MzevVsjTHes+/Clav3/973o1BY1EwPCCH/et4zpg38ssf/pkzq61/XMyw8ZvmqPYsXjraxkfXu/dmYcUsdHGwCGlaJiUnfvuPfDu2brVi1a9ef/w0c0FYhl8hk4jHjl9Wr67No4chyKQzwkYIQCYri4mKzb/cPJ0/d+vfEzZ27jlMUFRjY6PTJVbVruZn2qVXT/fzZNb9uPvLjkh1CgbBNYOMF84a4udoihGxs5P+b2U/2emPO+LHd69X1RghRFJ4y6auAhlWDfg/+a/e/Xl7umzdObRNYD2P8VbemFDXzr92n9x84VaNG1flzhzZtUsPT006r1SCEFArJ4b8Xnz5znaI//PHcQMWCiRk+Oh07djx16hQh5Ob13xv4e1aqqRRKPVWopq4AACAASURBVLURo37e8cdJhNDTp099fT/8IYRBqYNnkQAAYBaESAAAMAtCJAAAmAUh8qNjbW3NL6iyP/wZr1SqnO5KMEMseDvwvfnodOnShV84euzKh91Yl52tu3otHCFEUZSdnV1FZwe8lyBEfnRatmzJV6l+Czp8507UhxolGYb7cfGuhIRkhFBAQIClpWVF5wi8l6DTz0eHENKtW7djx44hhFxcHOf9MOKLrs0kEmEl6abz7qkRguLiUleu2r/zz+Mcx2GMr1692rRp0xKUEQCvQIj8GGVnZ1evXj0xMRFjTAixtbWRy6UVnalSQwhJTk4zGAwIIYzx9OnTf/755wqZYwd8ACBEfqRSU1O/+uqrkJAQjuMQQnysLGJ/0w4lWqjY1MRi8YIFC6ZPnw5tNeCtQYj8eHEcd/78+fXr14eEhLAsWw5BjeM4PloVegh/U1wqIdLFxaV79+4jR4708PB4m6IB4BUIkQBxHMfXJcuUTqfbu3fvkCFDCt2qVqtjY2Nr1KhR6Nbs7GyO46ysrIp5Lpqm4c4alAoYxgIgiqLK4VY0PDx8yZIlQ4cOpelCRgB6+fLl2bNn/fz8Cj02ISEBOu6ACgHPaEB5IISsWrXqxYsXYWFhhW79/fff7969q9UWMm4ux3GRkZGPHz8uh6ouAPlAiATlIS0t7eDBgxzHzZkzp+CznZSUlJSUFI7jTp8+XfDYxMRErVar0+mSk5PLJbMA5IIQCcrDnj17+F44Z86cSUtLy7f14MGD/MKJEyfyVRUJIY8ePeKXnzx5Ao/OQTmDEAnKHMMwixYt4pf1ev3GjRvzbjUYDCEhIfyySqV68uRJ3q0ajcYUUvnqZNnnF4BcECJBmbt8+XJSUpLp46ZNmxgmd16amzdvsmzuLDRHjhzJW1V89uyZ6SMhJF8ABaCsQYgEZYsQsnz58rxrkpKSLl++bNq6f//+vFvDwsKys7P5ZZZlIyMj826NiorKG14BKGsQIkHZSkpKCg4OFghyupeJRCKE0OzZs/m6YUJCQnp6uqkPI0VRGONTp07xHxMSEhiGMW3FGBuNxrwVUgDKGoRIULbWr18/adKkc+fO8R87duwYERGRnZ3NR7pDhw599tlns2bN4rd27dp11KhRFy5c4N/2iYiIqFu3bkBAAL+1SZMm/v7+Dx8+hEYbUG6g6zgoQ4SQ7777zsHBIS4ujl8jFotr1Khx7949lUpFCOnbt6+tra2pQcbS0rJly5bNmjXT6/VisbhNmzZCodDU10cul3t7e1epUuWNY/8AUFogRIIyhDF2cHAouJ6iKH4AR1tb24JbBQIBf2Ne6Hs4QqGw4EoAygjcaIPykJ6ezi+oVKqCW02PFwt2mcx7iFKpLJvcAWAW1CLLEP/IjBBSqYYIq5DUTI3UBoOBZdl8e2ZmZvKlpFKpOI7Ll4hOp+P7k2s0mrzdgyrnlb4vqfGDKvELRZwRQIgsE4QQ7hXyyvv7c3r31IxGI7/AcZxer8+3p9Fo5AuKYRi9Xp8vEYPBwHf0MRqNer2+kl/pe5EafoV6BQKlORAiSx/LshzHGY1GlmX5ZVNF8n38OZVKajqdjl/gOE6tVufbU6fTMQxDCDEYDGq1Ol8iWq2Wj4xarVatVlfyK638qeWNjzRN809++eUiTv3RghBZyliWNebBR0nTN/W9+zmVVmqmEMmyrEajKSJEajSaIkKkRlPIxLaV6korf2r41f01TdM0TQuFQpFIxDeCQZQsCEJkaWJZlmEYg8GQnp6ekJCgVCr5ns/v78+ptFJ79uwZv6BSqcLCwvLt+ezZM/5xZGxsbFhYWL5EjEajvb09Qig7O7vQsdQq1ZW+F6lhjKVSqY2NjZWVlUgkMv0V56uWRWTgIwQhstQQQvgHbREREfHx8QWbHd7Tn1OppGZ6hsiyrFarzbenXq/nf6VGo1Gr1RZMja/d8MdW8it9X1LTaDQZGRkymczb21uhUGCM+fjILxSRh48N/MUoNfzzx/v378fExBTa8ApApUIIUalUkZGRarVar9czDPPGKYw+QlCLLDWEkJcvX5peBXF0cHZz8xKJJPAXGSHk7OiF0GyEkG/V6s2btsm31d2lalJSKkKoSePmzZoEVkD+PjIsy6akJsbEvmAYo06ne/nyZc2aNSFEFgpCZOkghDAM8/z5c/4b5u1V1cuzGtywmEgkMn5BKBSJxfnn7JZIZWKxGCEkkUgLbgVlwcvT19rK9n7YLZZlVSpVVlaWWCw29b6Ar64J3GiXDkJIWloa3xork8k9Paryq/me4/kWzP1XcM/iLLw/qeUUVCF75tZcPowrrRSp5Sv5gqysbNxcvfhCN/Xeh1pkPlCLfHv8l4n/w8uybEZGBv/eiI21HcdxCMFcVLkYxtR1nBQc8NHIMoTjEEIsy7IsDAdZOvArCBGMMCqkYogdHZyjY54jhEytZBAi84EQ+TbIq5dnGIbhn+AwDJOdnc231TIMA/MH5GMqEIY1FiwcnVZjZBiEkF6vg6IrFRgjvomapvhe4RRG/Cs0rwVKms6JABAZzYEQWWJ8ndFgMBgMBp1OZzAYjEYjwzAZGRnZ2dkY4+zsbGV2VkVns3LJzs4ZgcJgMBQsHKUyy6DXI4TUKhUUXanACGMK0xQtEAgEQqFQKBQKhDRN873GKzp37xMIkSVDXr1HrFarVSqVUqnMzs7mQ2RcXFxKSgpCyEJhLRRCm8NrUtNS+AWNRlNwrtfU9FS9XocQylJmwkyw74gPgBhTOYFRIBCLxBKphBNJRCKRQCDgt1dsJt8jECJLhmVZvV6vVCrDw8OvXr2akJCg1Wr5cWiysrKysrIwxlFRL93d3Cs6p5WLKfDFxLw8e/Zkvq0sx1laWiGEk1OSC24FbwFTlFQic3F28fD0srCwNLIMJ+P4u2+apqHBuvggRJYA3zk8MzNz//79t27dyjuoF0KIfy6JMWYYI0xBlY+pEYavhhfcIee9NzNbwVswGgxKZeaLl1F+fvXc3T0QQhSmcM64PgQqksUEIbIEOI7TarW7d+8ODQ3l1wiFIrFIwjcaIkQhghHGCoWVTKao2KxWNlJJzrC4AoEQCqccsCyrN+gQIXq97t69UExhTw8vIS0QCkUCgQBjCuqRxQQhsrj4VpobN27cuXMHIURRVKOAT5o3CbS2tqMoGhGi1WrUGjUhSCKWiUVSwve0QKjggtlTmD/kfU8tMurR5q2bEEJVqlTr9dWoSpW3DzI1g1GflBJ35+6VjMxUlmXDw+/b2dqJxSIjYxCxIkRDLbK4IEQWFyFEr9efPXuWf/LYssVnnwZ2RRhhhBHJ7QONcv6ft8tuwQWzJ3mrhfcutaIL50O60nJIrXAiodjd1cfO1unU2b+zstJ0Wm1sXIylpRXLsBzhCCFwr11MECKLhe8ImZCQEB8fjxCysrJp0fxTwodG/ntGCCEc4RBChCMcSzhESE7jYsEF86cxe8h7nhrfM5wvpzcUznt+peWZWk7btPlgJ5PI69VpcunKCYRQUmJCzRq14f2ZkoIQWRS+f7hpFPHY2Fh+UC9XF3eMsMGgM+1JCDLo9QajgRCCEIUJ/H1+jcFg4Bc4ljPodUXvDIoFY4wRxhSFMEVRmKIRLuQ+3dHeTSAUMkajWqPmOI6YbnJA8UCILBzf8MpPlsL3Etfr9cnJyfzo2UYjk5mV+foBSKfXarVaRIhBpNcJ9QiZ/rYXXDB7WvOHvN+pZatzpvcyMsYsZValytt7mhr/qgw/s4JQIBQIhQKKxhSF8WsDLwgEAgEtZIxGRBDHwUuxJQYhshB8nVGj0ahUKpVKpdFo+LkBEhMT+blTsrKyUlKS0Gv3PUSv1+t0OoKQSCASCsXv0aP9ckgtIz2VX9DrdCkpSZUqb+9jagghjBGFKVogEApFEolEIpFKxBKhUETTOOcROSgNECLz4zjOYDCoVKrMzMyUlJS4uLjo6Gj+RcOXL1+mpqYihGLjYh4/Cc97FEHIYDQa9QaECE0LBTQU7GuSUxP5hWyV8snT8KJ3Bm+GMaawhdxSKpGJRGKpVCaXKxQKhVymEIkQTdP56pLgrcEvOT+GYTQaTWpq6oEDB3bv3v3o0aOCtydhYWGHDh1AlXjY/UqbWnj4/fDwGZUzb+9dagKBoFbNum3bdKhWtZbeoOfHuscYYyzGNIYG61IBIfI1/PgUycnJkyZNOnXqFEIwAgqovBiGCQu/+yDszmefduraqSdGiKZpgUBI0wJ+GpqKzuCHAELka/gpTKdNmxYcHIwQwhhbW9v4Vq0pEAgLP+D9eLIPqX2AqRkZw8OI+zqdFiF09twJmhZ80aWXSCSWSiRikVggEEAlslRAiMzFd348evToyZMnEUIURQ3qP2ZQ/3FSibyIQ/jeaSVagNQgtVJJTaVWbg1afuCfnQih02eO1avbQCaT6Q16hmUJxyEKJsUuBfBMNxff0Wfz5s38w8fBA8aOHDq1iPgIQMVSyC2/Gzf/iy69+I8XLp7hx+XjWIbLmZ4BvCsIka9JS0t78OABQsjKyrpXj2EwZhSo5DDGwwd/xz8IevEy0mjQsxzHkZwe4sUXGhrar18/fvwBkBeEyFyEkLS0NL4K6eLioZBbVnSOAHgzB3tXNzd3hFBqaoreaHi7uiMh5OLFix07dly3bh00UeYFITIXeQXxI+tBFRK8DzDGEokU8b0v3i246fX6GTNmbNy4sXRy9kGAEAkAQM7Ozr6+vgghjuNmz57Nv2gLEITISiszK+1W6JVbt6+kZ6bAjQ8oa+7u7ocPH/by8kIIZWdnR0REVHSOKgvo9FPpZGalrdu0KOLRPWtrewpTaelJdnZOUybOr+Jd812SDdq1Ri5X9O4+oqQHchw7ZeaQPr2GN2/yab5Np88dWrlmQd41fn7+/nWbdO7Q087WsZjpx8RGicUSB3tnczvcuX9tztxx+VZWqVK9Y/vundv3pEvjXU+OYyfNGDyg76imjdq8dSJGo+FpZHj1anXM9qKt3KytrQMDA1+8eIEQevjwYYMGDSo6R5UChMjKxWDUL/xpkpen7+b1BxVyS0KIRpv9174tk2cM+XXtfhdnz7dOWa/XCYVv+dNVa1QMYyy43mg0uLq6LV28ncI0n/mY2OfBZw99M777vO9X1/NrXJzEDxwKcnf36fnlUHM7sCwjlyvWr9otFuXMK8kRNuxh6KatS1NTk4YN+u6trik/tTr7HafNUWZnLlo6dfO6fywU1qWSpXJGCDG1aPM33QDBjXZlExP77NnzJ6OGTbNQWGGMMcYKudXIIVOrV6t94NAfFZ27QggEQhtrOxsbOxsbO0cHl0YNW/5v6tIB/UYv+mlqekZKaZ2FpmnrV2exsbGzs3UMbNlp5pQlBw7+ka2GebdLx/Hjx8PDwxFCYrHYz8+vorNTWUAtsnJJTUu2traRiF+bhpuiqH59RkVHPyeE419Ay8pKD7lx/snTcAcHp6aNA328qpva39Wa7Buhlx48CKVpQaOAFgH1WxR6K5qQFBNy/b+YmJc+Pr4tm39uY21v2sQwxrsPrt8KvSoWS5o1DaxWpXaJLoGiqG6d+505d/Ts+aO9ug/nV8bERYVc/y8xMc7bq2rzpm3t7ZwRQjqd5umzR2lpKTQtDHt4x8Pd29rKtvgnqlqllkQiychIlYhl+/7+rVf3oSlpSVeunqlSpUZA/U+MjCH0zpWbt66KxeLGjT6pUztAKBDlvcY796+F3g6RSCTNmgT65rnGuPiXcrkib4EolZnpGaneXr55jr1+89ZlmqYDGjTzr9dUKBDFxr14GfNMr9dFPLpvZWlbo3qdEhVahUtOTp43bx7f461r165yObwxkQNqkZWLq4tnfHzs1etn861vULf5V10H8iNcRTy+O3Fa/yshZ+xsHbOyMmfPHX3g0A6+SSc5JX7qrCEXLwXb2TnKZPIt21csXT2b49h8qV0OOT1hcr+X0c8c7J3CHt6eOK3/w8d3+U0arWreogm/7Vgllcooit66fUXQzjUlbS+iaUGLZp+G3glBCBFCgs/+M3XWkJjYKHs7p8dPw8ZP6nM55DRCKCUtYfX6BXfv3zx/4eTq9QsePwkr0Vl0Oo1erxOJxBzHnjz9z43QC/+bOzo9I1UmlWcpM2b9MOr3XRstLa1EIsnmbcvm/vitSq3kD1RrVD/8OH7772tkUjnG1Obflv/+5zpCcsZz2rl7/ZVrZ/Ke6O79GyvW/sB3qMlWZc1bPGHLb8tlMrlUIgvatW7uj99qdergM/9s/W1lenrapq1LtwatKNGFVDi9Xr9kyZLExESEkJWV1aJFi6DHmwnUIisXNxfvoYPHL/p5Wq2a9Rr4N6tbJ6C6r59MmjurqlqtXPzL9D49h3Xu0IemaYRQm9Yd/jd3TPMmbdzdfHYf2FqvbqMxI2ZRFEUI+eqL/sPHfBGfGO3hVsWUQnpGyur1C3/43wr/Ok0QQgiRSyGnlq/6fsPqvTKpYu/f2/QG3fIlO+RyC4SQXj987aYfY+NelPRCvL18/w3+m2EMUS+fbPltxYIf1vrVbMgP4XUj9MKSX2b6Vq3p4VZ128ZDqzfM459FluhnybLM8ZP7nJ3c7G2dWI5lGMOxE/tW/BTkYO+CEFr0yxQba7ufFmwWCsUY495fD52/+LugnWu+Hf09QmjP/s0syyz/KUgus0AI9ek5Ys3GBXHx0cU579ag5Rjhtcv/lErlCKEeXw2e9r+hwaf/GTFkyldfDJwwte/aFbver2eRhJBt27Y9evQIISQQCJYvX16jRo2KzlQlAiGycqEoqn+v0Z80/fzileA7964f+GcHwrhWzXq9ewxt4N+CoqiQG/9ZW9t2bNeTonLuAGpUq9e39wiNVsURzt7OqXmTNqZNCrmlpYVVXFxM3hB54fLJBvWb+NdpwgcsjKmWzdod+OePR4/v16rpH3z68PezlvPxESEkFksH9R935tzRkl4ITdOEcISQYyf2tW7Zno+PCCGMceOGrZs1bf3vyQMjhkwpZmpZWRnbdqwS0DnNTRzHRjy+m5KSNHf2SoFAyBpYhmHaffolf/+elpF04VLwnj/OiUQSvv4rkyrGfTNr6swhA/uMEUtkp84cmTdnDR8fEUISsXRQv3Fnzx1/YzYylWnnLwZvXL1HIpHxa+QyxTfDpyYkx5SweCqRw4cPX7hwgV8eO3bswIEDKzY/lQ2EyEoHY8rL03ewV7VB/UiWMiM2PurkqYNz5o8fPmRir+7Db9+93sC/qVAoMt38Yoz79BjJLw/oPYZhjQmJMSmpiZlZaXfv34xPiM13m3zv/q3MrPStQSsRyh1cS6nMfPjorouzB0VRXh6vtWba2Tg6O7mX9CoYlqEwRRC5fef6hHFz8tYQKYpqHNDy3+ADBY/KzErb/8/vORkm6Oseg+xsHPlrlIgkeTvT9OoxzL9uEytLG/6jSCSuWyfg1QXerFq1po21Q96UPdx8JFJZXGK0jbW9QCjw9KiSd6uDnZOTo+sbL+rx4zB7O0cnx9dKo2H9Fm88sLIiDx6E7d27ly/w9u3bz5071/T3FfAgRFYihJCExFgLC0v+9XCMsZWljbWVbZ1aAQENmv+0bFbHz3uoNdke7t7mDr97P+T3XRvsHZycHd2rV/fr3OHrO/eu5dtNq1ULBaKcNpxXk++0atG+Vg1/tVplNBr5+3cTiqKEQhEqoaioJ15eVRHCer1OJs3/7N/OzsFoNBR6IE0LXoXI3HlaLC2tB/Yfm68VKy+MsSmAarRqqUSW77adomhbGzuj0aBSZTMMW+Aa6SKu0fQ3RqNViURi6kMZZCwuLn7YiP4Mw2CMq1WrtmrVKpGoxP/QHzwIkZXL4qXT2gZ2/LpAJ8GmjQMNBkOGMs3V2SM1LSlfxfByyBk7WwcnR9dfVs6ZPWNp3dqN+JvoQjszOtg7Ozg4DRkwAeUZfzA5JVEqlRoMOoGA1uk0eZ9+GhmjRqsq0VUwrPFKyNkO7boLBSJ7e8fklHiEAvLu8Oz5Y3lho4RYW9kNGzShmIMnmuPs5JaalsQRjsa5scxg0EXHvFDILayt7SkK63TavMPcGY2GvNeYr3jVmpx2HidH12xVFsMYRCKJaWtsXFTYwzsd2/V4i6xWoKws5aAhvZOTkxBCVlZWs2fPtrGxqehMVUZQqa5EMMb16gZcuBTMsvn7MMfEPReJRNaWtk0bt75y9ZwyO8O0yWDU79y9UatTJyXHGwwGv5oNTJElNS0pPj7/YzL/eo0uXT2tN+hNa/QG3awfRj57/tDK0lYht7x9LyTv/k8iH8TGviz+VbAcu/9gkFKZ9WlgF4xxi2Zt/w3+h2Fzg7XBoD9/8WTzJrnvsZTuG5Z+tRqkpaZEPHptXK9bd68oFBZuLt7WVrYyqeLO/dcq14+e3jcVlEQiS0qOz7s19M4VfqFqlVoGg+Hug+t5t5757+jjp/dNF/JevC1qMOinTf8uLOw+QkgsFk+YMMHFxaX4hxNCjEbje3Gl7w5CZOXyVdcBCQmx639dlJgUy9cBDUZ9eMTtRT9N69a1j6WFdV2/RtWq1Vq5bm5aehIhRKNR7dqzSSqR+tVqaGvrYDQarl4/y7IMy7Exsc+3BC2ztbXPzErLG3Nbf9JBp9Nt3LxErclGCGm06qA/Vtva2tWu1VAgEPbvO/rXrcvDI25zHMtxbOTzh5u2Lq1Rw2xHYoNBH58QHRcfHRcf/SI68uKV4Hk/fnvk2J55c1ZZW9khhDp36J2SmrBrzyb+dCpV1tag5WqNut2nX/IpSKWyhxF34+OjNVp1qZShVCIfPnTiLyvmPIuK4DiW5djwR7fXrP9xQN/RMplCQAsH9P1m05al4Y/u8Nf49Fn45m3Lq1evxR9ex6/hqTNHEpJiCCEMy/x38XhGVir/V0cskgwd9O2aDT8+enKPZVmWZW6GXgw+c+iLzv0QQjQtMBqN4Q/vJCbFlcqFlBGOY1evXXno8AGEEE3TgwcP9vf3L1EKLMt6enoajYXco3x44Ea7cnFydFu19I/ffl/13bSBUqmMpgQEcXqDrnPHnr2+GoYxRdN41pSfN21bOmFKf6lUbjTqHRycZ09fJhZJHO1dRg6dtG7Tkt92rBEIBEKhcOTQKQ38m/65Z7O7m7dCYSmXyRFCYrF06eJty1bNHjuxp1AgNrJ6J0fXGZN/EgnFCKHATzqo1cqfl88SCsU0TYvF4pFDJl+6ckqc59bSRCqRZSmVE6cOMk2o4le7XoP6zaZNWmzqBG5rY7943qaVa+edPXdMJJQYWYObi+cvP26RyXLu5Tt83n3FmrkTpg6YPGFeq0/aFTyLSCi2t3MqelYXOztHKs+0qN2/GExR1Oy5Y2VSOaYohjEMHjCu4+c598JtWnVWq1U/LZsp4q9RIh41bMr5Syf5a2zdouOt0KsTpvSzVNiIJWIvzyrfjJj+x65N/LGd2vVEiCxYMkUqkSKEDQbd5AnzfLyqI4QsLay6dxuwduMiudxy28ZDJfhXL0+EHDl6eOWqXxBCGONJk6Y1a9aoovNUqb1hUsqPCsMw9+7da968OcMwtWrW+3XtAYqiK2pmEo1WFRcfbTAYLCwsXZzdhQJRvkRS05KSkuMtLa3dXDzzNiCo1MqYmCiRSOzu7s3/5jmO45sp86bPES4pKS49I83GxtbFyYN/2dGUiFanjo6JEglF7u7e/Esp73ilHMcmJMZmZqXb2zs62LmYTlem88NodernUU+FQqGnu49YLM23j0arjomJEolEHu4+edvK+V9EYnJcWlqKvb2Ds6O70WgwGPX881n+WK1O/fLlc4qmPD2qFNGI9O7lVszUho/t8uRJBCFk+S9bvDyr2Ns7WMgtBSIhhSidXnv4+B86nUYikbZr3ynq+fOx40bodDqM8dAho374YV7o7asYY4VCUa9ePblcLpFIhEJh0dlgGMbDw+Ply5cfQ/MO1CIrKbnMorqvX95fQr4d7Gwd7e2cCh6okFvWqumf95BCv+40Rbu6eLo4exSavlQir1GtNF+hoyjazdXLzdWL/1g+f5ilEnntmv7mClAmlZt7TRBj7OLk7uzoxh8rEAj59m5TIhKxrGaNuoUmW5nFREdPnTaRHwuyRYtWC+YtQvjt8280Gq9fv/7333/rdLp69eqNHDnyg4yY8CwSgI9CZlbGD3NnpaenIYTc3Nw3bdgmFovZVxiGMeZBXlcwNULI2LFjL1y4MHv27O+//z40NLRx48b8K94fGKhFAvDhMxqNx48fe/Eiiv/IsezY8SMxQgzDJCbFY4wpipJIJDRN41f4yIgxnjFjRt++ffMlqFQq69atO23aNL6ivWXLFnd395cvX/r4+JTzpZU1CJEAfOAI4S5eusjHR4FAMHjwSFdnN5qmMcIanebuvesYY4FAYG9vLxAIaJq2sbGpW7eu6fBCx9YVi8WjR482PcOhKKp169YQIgEA7xmCyL179+7du4MQwhh/N3HahAmTpGIpRVMI4ays9Dv36mGMra2t/f39ZTKZWCzO9+pRoSQSiUSS28kBY1y9evUyvIyKA88iAfhgEUTu3rt56vRJvt2vS+dugwcNNb3WiQiJT8gZ38jCwkIoFPI32hWW3UoJapEAfLCiY57/MG8S/zq8u7vHtxMm0YKcGiIhJCEhJik5ASGEMXZzc4MQWSgIkaAoeoNuzfoF7u4+/XqNyrueEGJkjEJBbgc6lmUJIQLBu36jWJbFGJvu9bYELf80sLNvCUc+/2gxnJFhDEbGaGD0mcq0KTNGJackIYREIlHTps2UWRlJAkqtVgmFgoyM1IzMNIQQxtjV1dXa2hpCZKHgRhsU5dHje5eunjlwcIcq/xQxpO/gwJS03HeZd+7esH3nqnc/445da37/a53p48OIO3lfSAdFY4wGg0Fn0GuU2RmLfvrf06ePEEI0TVerVi0tLeXR47BHj8MePb7/5Gl4ekYqQghjbG9v7+fnJxKJ7fvF/AAAIABJREFUID4WCkIkMIsj3MEju0YO+87F2f1yyJk3H1AG5s1eXbsGzFZaMhzhfgvacOHiGYQQxpSPj4+VlVW+ffiquq+vb5MmTWQymUAgKP5IkRRFLVy4MF+rTqdOnT7IeRPhRhuYlZaW9OhJ2OQJC4RC8fGT+zt+/nWJahkcx0XHRkZFRbq6evhWqZVvljFCyPMXj19GP/dw9/KtUsvcK9j5ei0zLPPkaVhSUry3t6+Xh2/BX7VKrbx567JMrqhXJyDvcGcfCaFQKBKLzv138u9//uLXDB82OkuZqlRmSSQSV1dXBwcHKysrmUxmY2Pj6uoqFotNHSGLfxaKokaNGpVvZYsW7+/QwkWBEAnMOnv+WKOGLSwtbFo0/XTLbyueRUXwzwS371y9fcc6hEiPPq0Qwn/9HjxkZFeDwYAx+mPXrxPHzenVY1hSSvzCJZNUaqWrs1dyajyFqfnfr3Fz8UYI/fjzpDp+DW7euqrMzlTIrZ5HPbKzd1y2eLtSldF3YDuOYwhB23esmzJxfo8vBy1Y/N2QgeMb+n+CEHr89P6PP02VSGQO9s4JidFisfT7Wcv5OSduhl78c+/m1i07HDm+28XJU5md8Tzq8eIFmxrUa16xZVjOpFLp4ycPN2xawXEcxrh3z4HjRk/5ddsymqZkMln16tVdXV3t7OzkcrlAIIDb6uKAEAkKZzDozp0/9u3Y7zHGVpa2jRq2OHX2EB8ihw6YMKjv2N6DAjes3uto70pR9OljD37/a73RqB85ZCpF0UbG8ONPkxs1bDGw33ihQMiyzPGTe+ct+m7Dyj1isZQQcvjo7jGjZjRt1IYQZDDqvps2cP8/QUMHTjx3Inz7H6swTQ8bMBHj12qICUkxc+aPGzl0crvPvqIpmmGMe/7eOnPOqG0bD/MzbUXHRMXEPtuy7qBIJOE4dt8/21esmbtj8wmhUFj4FX6IEhLift2ymh+mrL5/wIxp8wUCgamGTlEUTdMURVEUBfGxmOBZJChceMQdhmVr16iPEMIYd+nY8/SZozq9BiFEUbRAIORfyXi1IKQpml9PUdSDsFsGo6F/nzFCgRAhRNOCLh37WFla37x9mU+8WjW/po3aYkxhjCViWYd2Xz0ID0UICQRCiqLpV+nkzc/Rf/fU9Qto/1l3mqL5Pft+PcrZxe30uZxhxzQa9fDBk/nxwDGmunTsFRv7Mlv9oTX1aLSqg0d3FjqePEJo/cblmZkZCCFPT++VSzcrFBaml6z5h498fCzXHL/noLBAIQjhDh37q1P7HqZRwmrXbCiTya/dOF+cw+/cu25v53jn7rVrN87z/90MvSyXWYQ/zBkJvH69JnlrMRYKm6JHQOAIF3LtfId2X+X9eQsEwk+afXYjNCfs+vrWVMhzGyUUciuM8Qc2sEJGZsq0/w1bvmrujO9HPH/xqOAAE9nZSoSQTCb/Zck6J2dXhFCWMkOjUSGExGKxTCYTCoVQhSwRuNEGhUhOSbhx89Kly2e2/LYyZxVBOr326L97A1t2euPh6RnJkZGP9uz/Ld/62jVzZkfJ13Tzxl8sYzRkKTNtrO3yrff08LkccppfFhSS5gcVCAjh9v8TdO/+LYTQzVtXhn3Trb5/I2dHD4Y1xsbkzpwhlUqX/bLBr7Y/Rohw5GboZZZlEULu7u5SqVQsFsNTyBKBEAkKcfbCsYYNms2a8otpDSEkPTNl9Ldfx8ZH5Z2Vu1AKuVWrVu0mjP6+tPIjEAjlMnm2SplvfWJinFhU1Ii2HxKMqaGDvuM4bu+BIIZhGMZ4KzQE42um+2iEkIOD04xpc+vXa4QxZjnm6rX/boVeRQjRNB0QECCXy/lXsCFEFh/caIP89AbdmXNHO7f/2sLCKu9/Hu5V6vs3OX3uyBtT8KtdPyws1GDMnUGM47iflk8/cWr/22WJouiAhs3/u/Bv3ltLlmOv3TzvV6v+26X5PhIJxWNGzly/aneTxi0LbYbq9sVXOp0q9O7Vs+ePbQtadfa/43yJNWjQoHbt2nK5nL/RLveMv8egsEB+YQ9DdVpNg/r5u7nRFN2lY8/gUweNRj1CSCAQJKUkmLYKBIKU1ET+2V9Ag0+U2Vl792/jOJbfeuv2pftht5o0Cnzj2QUCYUpqIiH5nyF269I/5Pr567fO8795juNOnj4Q8SisU4ee73Ct7x+MqTq1A5Yt3r77j7OL528YPXLq+DH/c3Z25bfef3D7/MVTZ84eu3L1XEJiHEIIY+zv79+zZ08rKyupVPrGSRdAPnCjDV7DEe7Isd2tWraXSQvpd92oYUu9QX/rzpVmjdsGtu40+/sxGFP7/7woFksa1G9++NjuL3s1HTV8yhed+86bverHn6fevnfNy8M3PSPl8ZMHU75bYGfr+MYMNGzQfOHiyd16NhszanqXjr1M6328qk+b9OOqtfOr+NRwcnSLjYtKSo5fOHetva3T+zU7QqmgKNrFycPFyYMfwufMf4eTkhIK7mZra9u2bdvAwEC5XC4SieAp5FuA6b1ysSx77969Zs2aVYbpvSoqNUJIekaqQq4Qvz5rFb8DISQjM00ikcqkcoZllMoMhmHs7Zz4e7dsVZZWq1EoLKUSGcY4W5UV/vD2i5fPHBycGvg3s7Vx4JNSKjOFQpFUKjMlq9NrtVqNtZUtfwq1OlujVSvkljKZPDMrXSqVmeZfzMhMu/vgelJivI+Pr1+thgq5JcqZ1tmg0aqtLG3yXk5KaqKNjT3fjPN+/SuUNDXT9F7jxo3z9PR0cHCwsbHx9PT09vaWy+V8d8jijAIJCoJaZK6Svob1QcIY29k6FLHVxtqOLyWaovmoZ/orq5BbWiisTGssFFbNmrRt1qRtvkQsLa3z/WGWiKVikcRU+AqFpUJhye9jbWWbd2cba7u2rToXzJhIJBaJxPmSdbB3/thqAHXr1q1Tp46np6ednZ1YLDb174Ev9luDEPka+CaB95rgFb7aCN/ndwfNNbnyDlNobuI3ACohg0GPEMIYC4VCfthH6B9eWiBE5sIY29nZ8YPCJiXFabTqis4RAG+Wmp4UGxuNELK0tLSwsJBIJCKRCHr2lBYox9c4Ojr6+fkhhNIz0g4e3QkVSVDJcYTbuXsjP25F9erVHR0dFQoFhMhSBOX4Gpqmx44dy3+9gn5fv++fbRpNdhmcJ+8k7h9PFP5/e+cdHkd17v9zZmZntq92pVVvLsK23Atgx41mMAkhwTEEgyGYEsABkntDyk1+9xKaE5IbcskN5OHSAqYYsMHgAsGAjVswtpGbbFmSbVm9a/vs1PP745WGtaRVs4q9Pp/Hj5/R7Ozs+e7sfOeU97ynk+oLRTghQ3W5w5HgS/94+r3330AIMQxz4403pqSk2O12Gh8+iNCgn85IkvSDH/xg8+bNEE6RmZkzsXBat0GCCCGCCKwn168NhL750rHx38DP1j3n3tnO+KmdY2UbwrMZWwgjjPBglS0ajRw4uK+xsQ5u4euvv/7JJ5/0er1OpxPGsns4D6UfEEoX6uvrFy9e3JcOb+OAfm3Qs9GzDeLZGIa57rrrDh8+3NjYGIlEYJ01ymBBHzXdkJaWtm7dumeeeWbChAmx66lTKOcUZrO5sLDw6aef/vvf/56Tk+NwOGj9cdChDe24EEJEUSwrK6usrJQkqdsvCmaD9H1D13VFUSoqKmpqanJzc00mk8PhsFqtfr8/HA5nZ2fv2LGjuLgYYzxp0qT8/Pympqb8/PykpCSIRjp+/LjP5yOE5OTkuFwunuchwqPb8ve3bD3/Es7ybKqqSpK0ZcuWyZMnMwxjs9lgVOH48eOjRo1iGObFF18khPA8f8UVV3Ac5/P5Jk6cCMEroigeOnRI13VBEPLz83meh4xehhecU0pj0TQNVE+aNAljDKoFQTh+/HheXh7Hca+99pokSSaTaeHChWazua2tbeLEiTBNMBqNHjhwACFkNpvz8vJMJpMgCEYnI8bYbDZnZGSMHj0aZhbSQMghgoaOxwVjbLVap0yZMnnyZBQzh6TTMf26i1RVDYfDTz/99MmTJ6+//nqr1ZqWlub1eq1WK8uymqZFIpFgMIgxnjlz5vTp0z0eD2QfYFmWELJr1676+npCyMSJE+FdZrM53tLV545x6LouSVJ1dfUTTzwxb968goKC5OTktLQ0cHlCiCRJn3zyCSHEbDZfdtllycnJHo8H0tJgjAOBgMVi0TTNarVOmzbNbDZbrVZI6nWuKY0FdDU0NDzxxBOXXHLJhAkTPB5Penp6UlISqJZleceOHZFIRBCEBQsWpKenezweGGzBGAeDQZ7nEUI2m23q1KmCIBipzDoVAOhBEeVsoBbZC4P4+4PfdCgUevfdd2tra7/3ve9B40hRFIwxVIugIgAdTCzLchwHwcAMw+i6Dln1CSHGrNvzYu4tIUTX9c8///zEiRMbN2686667BEFISkoihIBe0jHjGL4HlmVNHSCE4qk+x4Vrmqbr+hdffFFeXv7BBx9kZWXxPB+NRo3riGIMLlY11CKhBo06Fpw5X1QnHrTbYvgghKiqumPHjhMnToRCoW3btgWDwUAgEIlEFEVJsCUEYtE0LRwOv/nmmwihXbt21dXVBQKBUCgkSRKMLYx0AYcEaBOA6n/961/19fWgOhqNQhpwynkBtcjhQ9O0aDS6evVquEN27tzp8/lCoVBi3zbQ/Xro0KG9e/cihAKBwJ49e0KhUDAYhGdDQlokIURRlPLy8h07diCEotHoF198Eas6gZ+ICQa1yGECqpBlZWW7du2CPfX19UePHg2Hw2CRqqompFlomibL8ttvvy3LMkKIELJ9+/ZIJBIOhyORiCzLuq4nnvCuqnfu3BmrOoGrzwkGtchhQtd1VVXffffdUChk7NmxY0c0GhVFURTFhKxZEEI0Tauvr9+8ebOxs6amprS0VBRFwyxGsIRDAahua2tbt26dsbOhoeHo0aOgOrF7GBIMapHDBCEkGAy+9957sTtLS0ubm5s1TVNVVVXVxKtPgVl88sknDQ0Nxk5VVXfv3g0vqaqaeGYB0j777LPa2trYnTt37kxg1YkKtchhghDy2WefVVZWxs6LEEVx7969ELiTkHEb0CX31ltvGYEBsLF//35Zlo11VBLPLFRVfeONNzqpLioqEkWR5pg4v6CXapjAGK9evXrq1KnLly+HPVOnTp01a9bOnTt5noc14BPPJTHGhw4dKikpueuuuzIyMhBCPM8vWbJEEIQ9e/ZA5q7EC3jGGJeXl+/fv3/FihWjRo1CCDEMc8MNNzidzl27diWq6kSFxkUOE01NTbfffvt11133+uuvr169GiHk9Xrvv//+ioqKYDAIky4SLwYYY9zW1rZz506Px7Nt2zbYc/nlly9fvry4uBgmzEHM/EiXdDDBGNfX12/fvj0rK+vqq6+GnXPnzr3tttsOHTpkt9uh3dCvrucE+2GcR1CLHCYyMjJuueUWVVWN5Y8hPHjBggVZWVmxc0USCYzx9ddfr2maz+czdrIs63a7ly1bJggCz/MwL3MECzkUXHvttbquh0Ihw9oYhnE6ncuWLbNYLNDWTrzuhYSEWuRwYNwM3dYFjJ2dhmtgUgpgvAp0fbXb0/Zl/lwPBTtLjHJ2O0kudk+sBBAYK43EEHtAbOH7O2VwiIQbl6/T19tVNUiIpxoeG4ZeFHO5jc7NAUyOHNLLnahQixxC4Fcea22aphmNSggDUhRFURRZluFIGNfGGBsvKYoCc9EgshLCJ+E8cMygWCRkfoP/z/L+6aQadUSPG7crqDCkYYyN6Eg4Er4Qk8kEb5FlGYaAYUqfpmkwZdP4JgdskYOl2ri+sdeaEAJBkYBxvWRZBtVw7QxF8BJ8FfCqqqqoYyIjfGkMw4DqAVhk7MCRIXzAki8cqEUOCYaLGTe2YZHGbaPruizLkiSJomgymcAc4cYA14CQSUEQCCFgkZIkgZnCDQPb8X7ofbdIuFti5wIP7OaJp5oQIoqicbuCalAHbgUmCLrgpWg0yjAMeEQ0GoXwSfiW4CY/+1qkoZphGJgiPTDV4HGG5FjVMCO7q2ooBlxrMD5DNUzMxxiDatTxhMAYQzSlMbl7YLVI3DH931BNa5Q9Qy1y8ImtFyiKAjdPV4uE+YgQSwwLe0JGHON+EEURlmoyboxoNApp2eD8YKnxfuL9tcjYrBmQU6NfNw8YXLeqCSGRSCTWLEA15O+JtUhFUUB1OBxGCEESI1EUwR04joM6FDxdzt4iMcaGakgp1l/VxlPNUN3pwdBJNQg36onwXoZhotEopPwB1RhjiDBHCMEPAD4rdl3ss7RII1FIbFo5SleoRQ4yRvNZFMXm5ma/3w+mBj9WTdMaGxvhyEgkUldXpyhKNBq12WwcxxFCGhoaIBlaQ0OD0+n0+/2xqzVBQjBCSFNTE8zS6eHH3ce7CGMsCILT6bRarRzH8TwPNzkMpPRRNfijLMvhcLipqSkYDEINl3T0o4XDYViCCgpvsVhUVfX5fGAKiqIEg0FomVZXV/v9fpfLZeR5UxTFYrHous5xHASWdmoXD8AiWZY1m81OpxM+BQyaENJD/s1urzW0jiORSEtLi9/vN6Ybwv/wSIODm5uba2pqVFX1+/3w3aqqGggEotGoyWSqrq6ORCI+nw8S38GrNpsNLnFX1QOzSEO1xWJRFAWuNUIoIQPOBgtqkYMJ6ehNq6urKysri0QiUGExfqkwygnbsiwHAgFo7EALixAC+W8wxqFQyOfzQU7W2ESqNpsNqifRaLTTDdCJft1FLMs6HI7s7Gw4P9Q1+n7nQO341KlTp06dirUJ42uBBQNgOxQKgU2oqgopEaF9DSbl8/mg+QnBg1BIi8UCp2praztLpbEbDMN4PJ7MzEzozUAdidf6otpoE5w+fbqioqLbpMsw9b6Tal3XQTU0I6CC7Pf7wRYhWzC83Wq1dlI9MKWdviuGYdxud1ZWFvijUa+kLtkt1CIHE6hMnT59uqSkxKhDnRfouu7z+SKRyJgxY1wuV7+yE0LFubi4uLq62rjrhr7IZwt4XHNzcyQSGT16tNHVAJ10vb4dnoUlJSWVlZXn0YUG1S0tLaIojhkzxlANfQ4jXbpzEWqRg4mu683NzSUlJdDZZLFYsrKz3W43ZjBCCBGk6VowFHr++ecRQjk5udNnzExJSfF6U2w2K8tyhBCTIGRl5yKExo8fl5mZYbPZLBZLe2/R0NiOFJVaWlrq6+qgpVxRUTFu3Dijxd2XKhUhpKKioqqqCv50uVwZmZkOh6NdNUJEJ5FIxO1219XVMQw7bdr03Lzc1NRUl8sFDW1N005VVCKETCbTnDmzrVaLzWbjeZ5l2SFSHQlHGhsbmxoboYZbVVU1ZswYaHHDSHrPqqG5UFVVVVVVBf7ocDgys7KcTuc3qgmRopLXm3rq1CmE0NRp00ePHp2WlpaU5OIFHiOsaVpNbb0kSSzLzp59qcNht9pswpCqjkSam5ob6utBdUVFxUUXXQTXui9PhQsT+r0MGlBtPH78ONSkPMnJM2bOAAsw0DQtNS0Ntu0Ohyc5OTklOcWbYrfboS8yKysrEAghRDIyMtPS06xWq8ViHuoO9eyc7Ly8vH1798K4KvQVwshDr+8lhEiSVFZWBraSm5c3cdLETvURQkgkHOF5ASHEsqwnOcWTnJLi9SYluWBOkaZpWdlZCGHOxKWlp1msFpvVCj2wQ1chzcvPq6qqOnzoMNF1v9/v9/tNJhOMMvWl1SlJUnl5Ofhjbl5u4cSJnVwG+iLbuwgwTk5OTk5JTk5J8XiSYlRnS5LEskxaerrdbrNarYIwxKrz8upq6w4UFUGfT1tbmyAIxijTeVH9H2boSNagQQgJBAIwjcRkMk2fMR2WKOmEsdg8QQR67AjpHB2N4CB4kZBOBwwAo4Tdlhxj7Pa4J06aBMe0trbGjsz2Kryurg4GJVwuV+HEQohP6lKC2POArvZdnT4lZuc3rw5YdQ/lxxjn5OTAHGpQTc4M5+wBQkhTUxOE7zidzgmFhdCV3FW0cSLSvo54t18JjtV9lqp7LjzGODMrc2zBWPiUlpaW2EClnlVfmNBa5NlCOqKjoZUNv7bU1FSTydSpFkYI0TVd03Tjb4gb1nVd13Qd6wQRrX1KCSFE1wnR2yPtNAhTOYtidn5317OlpqUKggChlxDp3cNtE6sabjOEUGZWJu5uNiGoNCyxXZOuQTwhRrhjIg3WdZ3oescsEw2hs6rXdHpv11NhjHNyc06eOIkQgbG1Xp0CbFTTtNbWVuhOycjMhJWFOh+pE03XULvTI2PmDFxwjLHWcXUxxoZoTde6LWp/hRuxQd0ekJObW1ZahhAKh8N9UX0hQy1y4Bh3izH/IRgMwsgmy3FiNAo/T4Lae5YIQbquGVEgmqbJigIRxRzHsiqHOuKEESIwn0RWFMwwqqoZ8R7fnA310mF1xgEYMzGR0hgzXd2H4zib3S5JEojqwRyNSGlCCKzpCKJYjotGo13LpuskGo3qHc8GRVFkWZEkKRqVdEIYjDVdV1UVIYwwhHyqLCvrhDCYwbgfSjttdEQBMizLGHNJOqkWeIHnTUZm315Vw5cDEUsQe8B1qO6ErhNJksDyECKqoiqKLEUlSZIIIgysGKwqHdOlVEVRJInVdcIwTDyHjKf0jO/8m2vNsizTrVeaTCZeEGRJSrAEIkMBtcgBYswnkyTJCB72+XwQ3xcMBAP+QKe3EEJ0QkLBIPwJ8XShkFkQzKqmcSyLEAqHwlFRJAhJkiSKUVXTZFk+y84pqFOwLMMwrMnEcSYTx7LQcdbptOAi8eoUpCMdLMyTMyaH+P3+YDCIEAoGgiYT3+0bI6LYEf9MoqIYDoeDQQvGGCIECSGiGMUIcaopGpVgsJhlOcwgPNCRiw7VLMeynIkzmUwcyzEs01V1bDm73WnEPxqqFUUJBAIQwRoKh4Uu1xp19NKqigp/imIkHAoHLSGGZQzV0YgoyzLLsVFJgqAflmUxg89eNQuqOQ6iyjqpPssmyQUFtciBAAFxMFMCQhThzmltbfX7/YQQn9/X1ubr+kZd1wKBDouU5FAoZDKZOI6F+wQhFAwGRFEkCEXESDgcZqPsWc0gxu3/YcywLMNxnInnzQJAIOdQH89MOoLDI5EIqAa/0DStra0tEAgQQnw+P2a6CRwhhIiiCBGCCJFQKBwMBnnepOs6z5sQxoggURQxQpyiRCIRWWYZlmXaDbL/wjHCBCGMMGY4juU4kyDwgiCYzQJMJumXaghNNa618UQE1Qghn8/HxFENXxH8GQ5HgqEQdE+bTCbMYEQQLPXFcqwYiWiqyjAshC4M0CJxx7XmWBPH8TxvNguQTqlfqimxUIvsN+CP4XC4oaHh4MGDJ06cAFskhLS2tra0tBBCamvrck6e7ObNOjp46ABsVldX7fvqK4fDYbfbTTB/BqNoJBqVogSRwwcPmXj+m1rUgH/bBGGMrVarNzU1IyPdarXKZrPVaoU+sr67JDhFKBSqrq4+cOBAZWUldN7put7Q0ABmEQgE3cmebssgy3Ig4EcIKYpS9PX+6qpKR8fMFjgk4POBre3csQOaimcZ+MJgxuFwpKenp6R6LWYLjNFbrRaMMctyffQKQ3VNTU1RUVFlZSV03um6Xl9fD7VIfyDk9iR1q1pV1ZaWZvir6Ouv62prnC6n2WzhOA7U+dv8BBGM8O5du9tVo7O61gzD2O32tPR0r9drtVpk2WKz6VA5TtTM9kMNtcj+AZWpSCTy5Zdfbty4EcwRdcxkCAQCUJ+y25sEs7m796PW1vaZEqIotrS0SLIcjUZZzsR0xNPBqIZf8iN0FndLFyoqKmw266TJk7Ozc3SdYIwZlmEYluN6CRgG95dlORgMfvzxxzt27IhEIihm8kZraytMqW5sbFDaq4qdToFkRTYmILa2tmHMyIrM82aWwQifIVxqkhAaHOH19fXl5eVut3vq9GmpXi8hOsNghmEYzBDcS98FqFYUJRQKbdmy5fPPP49EIoZkeBzCnsaGBkWRuzsFUjXVmGvU1tbGcRxM+2NZ7huBg60aIXTixImkJNeUqdPS0lJ1YlzrQUjjdAFCg376ByRQ2LZt25o1a2LTxA4mOObf4EEICYXCe/d8dfLEiUgkHIlEJEnWtD6tTKtpmiiK77zzzieffAKRLkPCEAgHL9u9c2d9XT10iiiK0jGE0gtQhVy7du3mzZvhqTAkDI3qtjbf7l27ampqI+FIRBQVWda0RFs8bnigtch+AD1TZWVlH3zwAfSsZWRmXnHVldnZWQzDEkTCoUgwGCQIuVwOp9PZPgZNkLGh6/qWTz79+KPNCKHRYwuuve47ySnJyckeSGOBEOr6ll434pe2/QBN0+tq6/Z9ta+1tVXT9YMHDrjdbp4XZFkWBB7aXz1ULqDivHv37i+//JIQgjEeN378wssuS/GmQKif3+ePiFGEUEqKx2q1dC2brqNIJPLR5k0tLS0mk+mqa67OzslO9aY4nU6TwLMMHiylsRuqolacqti/b18kIkqSvHffviuuuEIQeEie1GurE671nj17du7cCXvGjB172RWXp6alYoR0QgL+QESMYoRSUpIt1m5aDDpBUlTatm1rXV0dQujKqxfl5eemer1Op5M3CwyD0SApjd2QZbXydOX+ffvDoZCiKF/v3+9yOQWBl81mnldhegKtSPYLapH9Q1XVzZs3Q+tpQmHh3ffeA+lYgHA4EgwGEcY2m8VqtUJ3GnQ2wYau6x6PGw62WCye5OTklJTU1BS7w2ECi+zyll434hF7ZFZWVuHEwrVvr62urtZ0/VjJMU9yMgy29FqzIISEw+F//vOfcOS8BQt+uOzm2Oa5PykgRqMIIafTYRaErmXTCQmHwpzJhBCCzBHJyckp3lS3x8ULAouZQVQau5GTmzOucPw7b70d8Aci4XDFqVNOp1NVIWUZwTiuWYBSRVE2bdoEnjKHgASxAAAgAElEQVR33rybb1lm4k3GAYFAUIxGESFJLid/5hyqdtWIRKNReAlj7PZ4klNSvKneJHeSYDZDt+NgKY3dyMnNLpw44e03325raxNF8dTJky5XkqIomqYToiNEJ2L3D9rQ7gcQHF5eXo4QMlssy269xWKxQKfVmblU2zd1RHR0xgYhhOhnziQhSNcJ0Um8t/S6YfwjMf+6Ft5qtV73vetYlkEINdTVQ4IZ+NBeVZeVlbW0tCCE0tLTbrzpRpZlDJG6rhOkEwL/ui8bITpBZy5C0B5MTZA+EKWdVZ8xjeUMvN6Uy6+8Arara6oVRVY1XY+Z49SD6hMnTkDmuuSUlBt/eBNn4mJzQepnSu6mYDohOkExU5sIgbh4gnQC5e6X0jOPRPEuNELI4/Fcdc1V0LtdXV0rK7KmaVDanlVTukJrkb1jzItQVbW2tha6pXLz8pLcSUZGW/jxGYMSCqfIpm9eMjZ0TVc7OsLAXzRdU1VVkWWi66ijwRv7ll43DDDGGIKtsZFL4QzcHnd6RmZNdbWm66FQKDk5WSdwz3du35GOYEBob546dQrcYeq06QQRY+AFhi8UWVVkBSGkyIoRWRlbNl3XZfmbhRl0RHRdUxVVkRWGwYzG9ldpjGbUPgYBo8EYoS4VsYKCAsEsSFEpHAqpqkr0dtFdT0Y61saAMp88eRLmzEycNIlhGfg2oCS6riuyAqplWcG4m6oG0XVFlsk3FqlrmgZBlTLLMJghHbEEfVLaUUKMMcIIBMN/CHejJS8v32azB4PBaDQiSxK4c2/PBUo3UIvsCb1jKRVjaRFjPrLA836fP3ZuA0JEFKOhUBghBHHlXWdA6LoejbQPdxCia6oqRaVwKKzrOsuyMREffZlGETufAiGEGZaBmHCO41iu+wg7p9NRgxBCSFUVo9xdVUP8IzwAFEVpbW2FWUMcx/n9gdiPJwiFgiGxY3oJH+U7lQ1B6Hjkm/zbuqopsiKKIssykmQk7u2T0lhANcuxkEMbosQRy3RSxfMmu80uRSVFUTVNJ3Fkg2roeIUo7ra2NrjWDMP4ff7YcuiEhIKhqNQ+DM13GzCPYHZNh2pNVxQ1KopBlolKEoOZviuNPSvG2FDdfq1ZhmHYTtbK8+0RoLr+zYR3ygCgFtk9UHuCdPkAZMFpaGiAWqTfH6hvaOz0HlGSIuEIwshsFsyCuWuHOiHE7/fD4bquR6PRQDCgqiof4hmG6aH/vpdBDIxhJpyJ4wSzIAhmi1kwta80EE8h6uQU0BI0po7A7DowDkiqSAhpa2tr6KQakVAoLMkyQigiRniTqXPZUMc8E0gui5CiqqFwmCAUEUWuI0RxIMM1GENuR95kEgTBbBEEwczzpq5hj2f8eaZZQIYQmCYEAVugWlEUUI0Q8vl8na419M9Ksgzh33xHH2WnYxS1vX6NEFIUJRIOI4xEMcpyLIPxQAamOjLgchxnMnFmwWw2C4LZbOJNHMvGizmn/ng2UIvsBtIR/Oj3+30+X2trKyTQj0aj1dXVMNmupbWlurrmjF83QpIkR6UoQojnTbwgdK0hIEJ8vgDHcYQgTdOCwaAoSUE2yHIsxrhfVcfY+gbGmGFYE2/ieZPZbLbZbA673W6zma2Qa7L3EUyoZmiqGo1Gw+FwY2MjIQSWx5FlGZaLIIQ0NjZVV1WfcUMTIoqirCgIIcjb1qls8Ce0zVmW41g2HA6xHBuJRDiWxR2FG0AdEiPUvuyMwFssFpvN5nDY7TabYEZsfL/oorw9+zfIhDzhsDRQXV0dXOvmpubq6ppvJKP2+ULKmaq7nBhpqqbrGstyLMuEIxGf3x8RxfaJ0z1e7rhgjBFiOY43mXiBFwSz3d6uGlnMLMt2vdR0+PosoRbZDRAG2NbWVlJSsmbNmj179rS1tUElCxalQQiVlBz/9JNPwCMQQrBBECI6gbFFhmGg7wcjHLuhKqrL5SIEFX39dfGRI7C/Y6Yg7vYtPW8AgiCMLSiYv/CyvPw8uz0iS7Km6whji82Cca+TSQhCWNM0SZaDwWBZWdn69evLy8uh5ogQMlZePHHipNVmjZUMb4ZGtJHUslPZ4BNEUXS5XBijZ55+GqrMCOLP+6k0FpvNNnnKlLkLFqSlptkdoqooRCcYY8EsMO0dFz3KJkTT2+fPnDp16v333y8pKTHW5IJFKBFCJ06ceOftNbGSUcc613Dt4nYgEiRJUZfLhRB69pln2vuJ+yA5HnCAxWKZNHnKvAXz0zMyxKioKgoC1RYBsxy1xMGFWmRnoN4UCARee+21p59+2mgXd0KSJL/fh896LZFYzvJs5WVlW/75z6sXL15y442apmEGmziOM3GswBCW6blKBcMU4VBo/fr127dvV7tMkoGPk6Qm3DLySmMpOXZs88aNN9588xVXXkmIzrAsZzKxHGdiGNKbWxBCNFULhUIbNmzYunUr1Aq7fi50NYy40tgDykpLN2/csPTGm666djHRdYZhOBPHmTgGs90P1VEGCrXIzkCz6+WXX3788ceNZd3P/bT1Wkdeto82bfL7/Hffd6+J581ms9kimHgTRj3dNzDcKcvyhxs2fP7557ATcmkNT+EHDGQSi0Qir778cjQave766wWeN5sFs5nnOBb1WH4Yv5YV+YMPPvjkk09g53mhGqJZo9Ho66tfi4jiDT9YwvO82WwRzALLcQyNfBxUzvU7f/jRNO3w4cNPPfUUjGzOnDXr57/8xbTp09hu+5v6E53T15COgZyNVJ6ueuHvz69b+66maf/avWvchPHXXHutaBclSTZbNJZle+6U0nXtxImTxkySRddcc9/K+8eOK+A5E2YZjPA5o/SMkxQfPvLnP/7pX7t3E0LeXbNm/IRCm9UqilFZVnjBzPS4Bgz0D1RWVW/duhX2XHbFFff9ZOWEwgm8yYRZGD07J5SeeTZUcrTkL//9521btyKE3l+3dnxh4UzbDDEqypJNEHTSZXSbcjZQizwDqIo9++yzMJQ5b/78V1a/anfY4x1/7hjH5Cmu/3n2mbxReX/6w1OEkM0bNs5fuBAyd+mqhkykB7eA4ant23dCI27xt7/zyGOPuD1us8Vs4kzMuWqRCKG58+defOnFD9y78sMPPtA0bcP69ePGj5MlWVVVpOmI63H4A1R/sR1UX7342lV//L3dZjNbzCaTiTl3LRJfOufS1W+98bMHf7ru3XcRQps+/GDixImSJCuqousaQt0Mr1MGDJ1d0xlRFD/99FOEEM8Lj//+yR788VyDYZiVDz5QOHEiQqixseH0qVOqomqqRoiO4s8/QQgRQvyBoDGTZNmtt5z7jU0DnucfefxRi9WKEDp48EAkHFY1VVM1HfUSKk0QCocjp09XIoRcLtfy229jh3INtcGFM3FPPrUKJr8ePnQoGAqqqqJrGgSW0RjxQeS8+U0MD4SQ2tpaGLMeNXpU/qj8kS5R/7BYzPMWLEAIEUKam5u/mfUY/y3wkq+tDYZxp06bbo2ZdT642YaGiLT0tEmTJiGENFX1+3ykffGf3t5GiM/n0zUNIVQ4abLD6TwvxBokJSXNuvhihJCu663NLUTv9VJ3D+5gCMqYCFCLPANCiJHZoX0d5/MNc0eeSkII0vtwwxCEEILYb4SQzWbDuH31E4zw2Sa2HRZYlrXarLCtqGqH5t61qx0rt8BSru3Czw/RCCHkSnLBhizLA645UovsGWqRlHZ0XW9ra4NbhWU5treks4mBoirG2gmw9hk6fzxywBcIMuejjhF8WDf8QrjcA4BaJKWdxsbGSDiMEOI4VhB4yFPd1zkq5y2Vp09DEKgg8BxnYlmWYXDCq25saIR+FZvNBtPbz3IJuQSGWuRAOHLoyMzJ07pdwIsQcvm8hWWl5cNfqrNBkeWtn38KcaAOh0MQBJgTGesUf3/2uR/denu3by8vK7/6ikXG+rfnC5FQ6F+7d8O2y+UymTiWZRl8Rpj9W6+/+YPrl3RdJhshVFNdc/UVV/l83U8uOGeJRCIlx0pg2+v1wpJnzPkzVDXM0KCfgaDreg/rE6SmpZ8LnZgdC9u3A31zsixLUQkhJMmyJMmSJDEM4/f5Nm3Y0FBfjxBiGCYtLZXjOJZhO7U4VUWNZ4Isy6alpQ+Hqt7QdVjwul045A6TZQVUy7IkSVJUkohOGpuaNmzYEA6HEEKCwCeneKA+1Vm1qna7TDZq/67Sz4XKl06IrumapmuaqmkaIRgjDFI1ToO12iVJQoS0tbWdKC8HRRaLJTc3F/rczwUV5ybUIgcZjPHqt1afC7NxFEkOBkM2W5Bl2GhUZlmGIFRaeryoaD/GmGFQbXWVy+Uym80w/A3vcnuS7A670fLqY3szLz/vpVdfOhdUi5FIKBj2WfyEIEEQYfilrKys4tRJQkhystvr9TqdTkEQNE2DjgWEkM1mM5vN/VWdlp720qsv83w3mdCGmagoBoMhq9WPEDabozDSduTI4caGBpbl7HZrWlqa0+k0m81Gn6PJZJo8eTKsCEKrkD0w8r/pBIMQ8vHmf85fMD/J7TpdcRpjnORO+nD9h0cOHUpLz7j2O9eOnzDeODgqRj//7PMvd+9mOe6KK6+cM3eO4TKRcGTLJ1t279qFEfrWvLlXXb3IarUihJqbmte+8+499/246OuiTz/ZcsPSH4wfP65vBUMIsmwQgjqC5DVN03U9tgbBce3Nrn713/v9gd07d1+9eBHDMIcOHMwble9r861/7/262toJhYXf/u53vF6vcXBzU/PmTZuPHjmSlp6++NrFEyYWGi/V1tRu2rjpRFmZw+GYf9nCefPnwd27d89XjQ2NV11z9WdbPj144MADP33Q4XD0qWQEEYRIR7Zwo07dqeHMsIyhuo+SEULhcOSLrdsWXbNIEITiI8UZmRlRMfr+uveqKivHFhR85/rrMjIyvvmKfP6PN390oKgoOSXlmsWLJ0+dbLzU2ND48UcfHysutlgtCxYunL9wAfwMjhw6cuzYse8vuWHb51v3fPnlTx58IMnd3Wq0XSUThBDqyJGux6qG9o3D4ZgyZUpycjL1x16h387gs+rxx5uamhBCr7+2+rm/PbfitjtOlJUXXFRQU1295Prv7/hiBxzW0tyyfNmtL7/4UkZmptvtfvKxx3/177+AccaWlpablizd+OGGsQVjc/PyXnnplbtuXwGNo0AgsHnjpuf++uyj//mIxWKxdQS7dAV3DFa2Z14FTJzJZDKZTFar1W63OxwOp9OZmpqampoK72IwZth+ryba3NT01KrfQ1fmL/7t4Vdfee2nP3lQ1/VRo0d/tGnz0u8tqa+rhyMPFBV999rrvvpyT8FFBWJEvP3W2958/U14ad9X+5Zc//3K06fHXlRgtlh+/fNf/M+f/wJeVlZatmP7jodWPvD2W2vSMzJYNu6jHUalYzPOxqq22Wx2u93pdLpcrszMzJycnPbvakCq/T7fU6t+L4pRhNCj//nIKy/+4/577hVFcfTYMTu27/jet79beboSjiw9Xnrd4m9//tnnBRcVEELuufOuF55/AZ5VRw4dWfr9JUeLi8cWFDidrkf/85Enfve4pukIodOnT2/7fOuvfv7wKy+9nJqWCov/dK8aY4ZlOl1tE9e96hkzZixYsCA1NdVkMlF/7BVaixxaNm/Y+PJr/5h58UyMsa7pbrf7+ef+Pm/BPIzxX//nmbS0tD8/8zREMt5x54o7lv9o7dvv3nLbrf946ZUxBQVPP/M01GtW3H3ngjnzDh88fPGlFyOEamtqysvL16x9p+eZP4IgOBx2p8vpdidZbRaWYRFCqV5vWloaxriwsHDq1KnQ6mRZtri4uP1tkK7r7MZzP/3nP1/8x8upaakIodtX/OiHS278cP0HP77/XjEi/vZXv73vJ/cvv305y7KEkKU/vPGHS5bO+dac/FH5j/7X7x7+1S+XLF0C9+2VV1354zvvufvHdzucToTQ1s8/v/Oeu++6566em/NWi8XpdCS5XO6kJMEiMJjBGKd6vVFRJIRMnTo1Ly8vJSXFbrczDHP69OlY0Wep+qNNm/7x+qvZOdkIoTtWrLjjth+9/eZbD//6l6qq/uaX/3HzLbesfGAlwzKEkJtvWbb0ezfMnjN7ytQpT636/R133Xnn3XdijAkh3/nudbfcdPP9D6xMS09DCH21Z8/Ny5b98c//zZk4FD8g3myxOh0Ol8vl8SSZzWb42aSmpULy3alTp+bn53u9XhiIg6+Xdj72EfoMGVounTN7xqwZ8HPEDJ6/cP7pigpZln0+32dbPv23h//diPR2upwP/uyhte+sJYSkeL3Lb7/NGPOxWCxp6RmnTp2EP30+34M/fchmt3X7iQZQJ2IwwzDwPyw2315XgsUMYDQztrd+UMLFb/zhTeCPUPiLL72krLQMIXT40GFJii67dZlxl44tGPu9JUs+XP+BpmkzZs64ctGVRkkysrLa2lqNBawFQbj9jtt77e7EhmyWAdUYY9zRb8B1VKw6N6sHI8rnezd8D/wRIcQL/JxvzS4tLUMInSg/WXm64u5772HY9tstNy932fLl7697X9O0wkkTr/32tUZJvKleWZbb2trgT03T7l15H/hjj6oRgzuucfuFhnWMjBTlZ1xr6o99h9Yih5axBQWxP0e7vb3eV1VZ1djQ8Oorr5hiWk8+n//Y0WJZln+04keaqp06eaq6qrq1tXXvV1+VlR43ahA5ublZOVlnWTAjZhhqc2d5tk4UjLso9k+73R7wBxBC+/bujUajf3hyVWyy9uIjR+x2O8uyjz75mCiKx44eq62pqa+r/9fufxn+iBCaNn06zIEZAEbPI+gFE+k2judsKBh3Rqewca33791LEHpq1e9jk7WXHS+LiCLG+D/+329EUTxecrymurqhvmHPl3t8Hf6IEJo0efLZZwmA1nd7YDyln1CLHFriPa7FiMiwjMeTHLsgdVKS+6c//zeE0L6v9q16/ImMzMwxY8dMnDTp9h/96MjhYuOws+li9/naYzltNtvQRXvEO2c4HLbarG63O9YiFyycn5ObSwhZ/erqd95aM3HSpNy83MlTpsyYNeuTjz823msa6MCxkRBXEASz2fxNZM9gE++coXDYYrG43e5Yi7xk9iVpaemEkHXvrP3Hy69cNH5cfn7+pMmT7115/9aOlJ0IoQEPl8uyrKgqQohhGJ7nh051wkMtcmRITkl2OJx33LnC7XEbOyORSHVVtSIrD9y38qk//3Hh5ZehQe0zaqxvOHXyJEKI47iMjAxBEKDDXuuYqjzUZGZlpaWmPfizn8am/2pubpYluejrouf++rf3NqzPyMyAl5qamgflQw8UHRAjEYyx2+2GcB+O44bTLLKyslyupAd/9lBsxrPW1tZgMHj8eOkf//DUG2+/NWbsGOiLDASCg/KhJcdKAn4/Qshut7vdblBNa5EDgH5lI0NmZqbFYtmxfUfsznXvrH30P3/X0tLS0FD/rXlzjdu4uam5tKTkLD/R7/e/8tLL0LocM2aMx+OxWCzDbBYzL551oKjIGOdFCOm6/ptf/sfGDzcWHykePXZ0RuY3UTIHiw7ENrQHRnV19fr33oftiRMnOhwOiH8czv646TNnlJQcO1F2InbnqkefePuNNeWlZV6vd9ToUUZhjhUfbWtt6+40/aCutm7tO+9C/8mECRMgInKYr3XCQGuRA0TTtBPl5Q6HI7ZqgDHKyc3ty9stVss99/340f/8L2+q95JLLyGE7N+777n/ffZPf/mz2+Nxulxvvv7mLctvYRim8nTlH578fVZ2VmNDgyzJfS+hz9dWV1OrKqqvrbWxoXHn9u3Q3uR5ftGiRQO7bcLhcOnx0ljJCCGTydTH3syCgrHzFy58aOUDf33u2dy8nKgYfWfNO0cOH/7jn/90/PjxVY89XrS/aOr0qaqq7t2z95231lit1pqaWm9HQFJfaGxsrK2ukSWpsa7h5MmTu3bsAJ9NSUmZO3eu3W4fQPeCKIplpaUYM7GVX543MUyfbp/09LQf3Lj0vnt+/MIrL40aPUqS5E0fbti+ffv7Gz5sbW05UX5i985d35o3V9O0A0UHXnrhRVeSq662rqCgoO8lbG5qqqmpkWW5qaHx9OmKndt3hEIhjLHH45k/f76huu8npBhQixwIvMAnp6Q8tPKBTvsZBr/x9ts5ubkwCOPxeDrFsgmCkJObA7fZsltviYrRX/38FxhjWIPw4V//8lvzvoUxXvXUH/7w5KoXn/8/k8lksVh+9vN/k2Xl6T/994TCiReNuyg7O7svd/jO7dsrKypsNptRW8QYm0ympUuXFhQUQF9kv4Klk5KSWpqbV9z2o0778/LyHl/1ZE5Ou66s7GxjmL79jW43xHuyLPuHPz31+O8eu3npjTzPE0JsdvsLr7zk9rgvvuTi21es+PFdd1utVpPJ5PV6n3zq95nZWb/51X+8/tYbDocjNvi8BzZv3LDvqz02my22Qe1wOJYtW5aWlma1WkF1HyUjhBxOpyRFV9x2R6f9aenp//2XP+fk5MDZMjIzILbfwOl0pqWlIYQYhnnksd+tenzVLTfdLAgCQojn+eee/3tGZnpGZvr9D6z8+c/+3WwWOJPJ4/Y8+sRj//x4wu+feDJ/VL7NZoMz9MonH390+OABmCNkDPrbbLabbropOzt7AKopBr2suHahoarq4cOH58yZI0nS5ClTNm/52BQ/XhcNRtr9YDBYXVWFEMrLz7dYLMaRkUjkdMVphsGwn8SskNfD2RBCqx5f9de//AUhlJ+fn5uba1gkwzDp6enf//73p0yZ0mnUQpbl559//qGHHkII3bdy5e+eeHQolMaeqqmxqbGx0Wq1ZOfkwIgEvKWpqam+rt7hcGRlZ4HBGcJ7vgo3L73pi63bIN4zNTXVsEiO40aPHr106dK8vDzoezUqU4qirFmz5vbbb0cI3XzrLf/zv88MutJOR7a2tNbV1QmCkJefB08IeKmluaW+vs5isWZlZwsC38NpO33uvXfd8+H6Dwgh48aNy8jIMCySYZhRo0YtWbJk7NixnVRT+gutRY4wDodjQmH7DLzYx5XNZiucWBh7q/S3I8ntdo8aNQrGKDIyMgoLCwsLC61WKwTHjWDyK4yxN9ULgZOdntBerzclJcVwAdSHdVM7kZqaOnr0aLfb7XK5srKyJk+eDDZhqB5UKf0jOSU5OSW5q/15kj3JKcko5tvo76Xxer2xqidNmnTRRRedI6rPd6hFnkEiRdUWFhYuWbIkPz8/PT3dbrfD4DXuIPbIRFI9e/bsyy67DCaTGD0M3T4PEkn1zJkzFy9eDKptNpsR+5kwAkcQapFnkEi3DQTE8TwvCALP8z3MS0kk1RzHgV6ghwpUQqqG/2m1cRChX+UZQI1jpEtxVhiNNY7jjJjhnkVhjGN66NQhL+JgE7uslclk6mOkdOy1HvSZNsODEdDad9WU/nJ+28GggzF2OBxw5/ja2uLlUj1nIYTU1tTAtsvlslgsgiD0etswDJOVlQXHlJeVnnd+oShKfV0DQohhmOTkZLPZ3JfBeowxZPRACFWcrDjvVBNCTle0p+FITU0F1dQiBx1qkZ3JzMzMy8tDCFVVVX206aPza8T/5IlTn23ZghDieb6wsBAipXsNfoSBYKfTiRDat3dv8ZHiHg4+1yCE7Ny+s/R4CULI6XRedNFFfQwDxBhfdNFFycnJCKEDRV/v/WrvcBR38PjX7n8dPnQIIeRwOEC1kcWHMojQL7QzHMfddttt4CmP/Pb/bd/2xXlRvyCEVFVWPXj/SpiFPXHixMmTJzudTovF0peAj/z8/CuvvBIhFA6HH7hvZVlp2XnxbNB1/UDRgV/9/BcIIYzxokWLUlJSYlN+9Ux6evq1116LEJJl+WcPPFR8pPi8UE0IKT5y9GcPPAR/XnnllRkZGTC3kgb3DDo0LrIb2tra5s+fX1xcDLHWi665ZtbFs5wuZzeHEtSeQ6tfG/EY6Nmi0Wh5afkH77/f2tqKELJarc8999z8+fM9Hg8scderZELI4cOHr7jiipaWFoRQktv9ne9eN6FwwjfJdc4NpbGEQuFDRQc2btwoSxIhJDMzc/Xq1QUFBW63OzaCumdKS0sXLlxYX1+PEHI4HN++7rrJUyZbrJZzSmns2SKRyMEDBzdv3GjMGlq9enVhYaHb7YYR/L6opvQDQumCruvHjh0bO3ZsrzWRrkGLfdkY0rNZLJY//elPp06dam1tjUajHdn5e0fTtPfee8/lcp0vSmPPlpKS8s4771RVVQUCAUVR+n6tNU376KOPoLl9XiiN3XC73atXr66srPT7/bIsD+jHTukFapHdo+t6ZWXlsmXLBEHo4Yd7Tt1OLMtOnz593bp19fX1gUBAkqS++yOgadq+ffsWLlzYtb12TimNPQ/P84sXL961a1djY2MoFOqXPxrX+sCBA4sWLYIq2LmpNPYAaNxcfvnlX3zxBaim/jh00IZ2T2iadvLkyS+++OLEiROBQACdGV+C0DdzP/q1cfz48ebm5rlz5yKEdF0PBAJFRUWEEI7jxo0bBx/EMIzdbk9KSjKSocY7G0JIEITMzMxLLrlk8uTJEPwx4DlnhBBN0w4cOLBr167KyspoNNr+QxmQ0lj27dtnNpsnTZoEn1JTU1NaWooxtlqt+fn5ra2tEJyUnJwMGXaNKny3Z0MI2Wy23Nzcb33rWwUFBZBYe8D5vgghqqoWFxdv3769qqoqEonAJw5MaSzQ9eHxeDDGmqY1NDSUlJQQQiwWy6hRo3w+H+Q2drvddru91/JjjC0WS1ZW1ty5c8eNG2eopl2QQwe1yN6BBamNp0rsSwMzjptuuunEiRO7du0SBEGSpK1bt7777rsIoZycnMsvv/zUqVMwh3rWrFnJycmdMv3FuzlxB4OSXBqUxqo+S4tUFOXyyy93uVybNm0ihMiy/Oqrr3755ZcIoenTp+fl5TU3N1ssFuizlr0AAA5MSURBVLvdfskll8CQtDEQ34MNGZLxYAS0dlKNBsMin3jiCbPZ/PDDD4PqNWvWbN++nRACcwQbGhosFovNZrvkkktglKnn8APcMUl/EFVTeoZ27vbO4Ga0r6io2Lp1azgc3r1799VXX62q6tGjR+H8o0ePrq+vhwkS2dnZKSkpFotlRILdjJtwsE547NixoqIinudLS0sLCwtFUSwrK4Pz5+bmNjU1QVjfmDFjHA6HxWIZkcwLg65akqTXX3+d47hf//rXUIssLi6GNSHy8vIaGxvhWo8ePRoWNKcpy85B6CNouNm/f38wGNR1/cUXXySE+Hw+WIePZVm73R6JRBiGMZlM+fn5UJNKjGDgtWvXapomiuIrr7xCCDl9+jQEJ9lsNlVVUYf8rKwsQ/VIF3kQKC8vr6ysPHny5NatWwkhlZWVbW1t0MqG6irLsjabLTs7m7aXz1moRQ4ruq4/8sgjsL1ly5bjx4+XlpZC9IbL5QoGg3CfZGVlQc9UYvijJEl///vfYXvNmjWtra0HDx6Exmx6enpjY6ORvwv8MTEaj4SQxx57DKzwr3/9q67roBohlJaW1tzcDNc3Pz/fyE030kWmdANtaA8rJ0+ePHbsGGwHg8E33ngjNbU9J5jT6ZRlGRId5ubmns3gw7nG9u3bYdQCIVRfX7927VpjAWvQyHGc2+1OT0+HlmZiqA6FQuvXr4ftjz/+uLS09PDhwwghQggk1uU4DvLU9WUePWWkoFdlWPnNb34TO1fn1VdfPXr0KEKIEGI0tSAPrpG7bOQKOzgQQn73u9/F/vm3v/2trq4OapGG6tGjRydSFRIhtHr1asi1jhBSVfUvf/lLVVVVV9V04a1zHHphhg+/379p06bYPXV1daWlpXDbQJo/m82Wk5OTSNWKkydPwsi1QWlpaXNzM1SmIDF4SkqK1+tNJNWapq1atcr4kxCyZs0aSMwD/shxXHJycmpqaiI1FxISemGGj9dee02W5QkTJsCfOTk5ZrO5tLRUURRYsIXjuLy8PJg8lxi9kAihp59+muf53I5Vz8aNG4cxLisrk2XZ6XQaayckmFMcPHiwpiPlEhCJRKqqqiRJcjgchmpjnd6RKielV+i1GSYgHruysvLll1+GPQsXLrzpppt4nq+rq/N6vdAzlZmZmUj9cRCDXVlZ+ZOf/AT2LF26dNGiRdFotK2tLSUlheO4tLQ0j8eTSIm8YKBmypQpN954I+xZuHCh0+ksLS0NBoOpqakcx3m9Xo/HQzM8nvskwn14XsAwzIsvvgh987Cnvr5e1/WLL77YarV6PB6O4/Lz8yETQcIMbprN5meffdbr9RqKSktLPR7PzJkzjUjAMWPGJFh/nCiKK1euLCoq+u53vwt7HA7HNddcAw9CiPocM2YMDGQnjOpEhV6eYQLCkmP31NbWapoWCoW8Xi/P80lJSRkZGQk2ZNF1xKmurk7X9XA4nJGRwXFcVlZWUlJSIlUhEUIWi+Xqq6+OvYgNDQ0sy6anp2dnZ7Msm5GR4Xa7E0x1opIgt+L5iKqqiqKIopienh5brUiYKmS3KIoSiUQ0TfN6vWazOT8/P/H647q6nqqq0WhUUZT09HRBEEaPHk2rkOcL9AoNN1VVVbBBCAkEAjzPJycnw5DuhVCt0DQtGAw6nU6YVeJyuS4E1ZCsxG6322y2rKysC0R1YkAtcriBRD4IIUVRotGox+OBVDeJXYWsq6uDDVEUFUVJS0szm815eXmJV4WMxXgcQhUyLS1NEATjWieq6gSDXqThxkgMoyiKrusZGRmpqanQ6ux1kZnzFyNgXlEUlmVTU1Nzc3Mht02iPhVQzAqFiqIghKAvsi8ZfSjnDtQihxvDIgkhPM+npaWNGjUqsauQ6EzVNpstNTU1JycHxnYTuDIVq9pqtXq9XghaoEtdn0fQ6zSsdMo4mZSUlJ+f7/F4wCITtVrRSXV6enpeXl4fV2c8r4lVnZaWBqohriuBVScY1CKHm9jbJj8/f8yYMZC64gKpVjAMM3bsWJiHntjpETslPB47dmx+fr7VaqVVyPMLeqmGldjoSI7jLr300tTUVJh9mMC3Taxqm802Z84cGKRK7MpUrGqz2Tx37lxjQcoEvtaJB02GNtwYt01GRsacOXPsdrvZbE7gyhRgqJ4yZcqECRMEQej7Oq7nL4bq8ePHFxYWguqEv9YJRoL/Rs9BMjIyYGPSpElerxdWd0r4agWkxUQITZs2zeVygeoErkICmZmZsDF16tSkpKQL5FonGNQih5uUlBTYgJHNhLcJwJiZ7nA4LhzVPM/DBnQ3j2xhKAODPtBGDK/Xe4E4RSzjx4+/MFWPdBEoA4RaJIVCocSFWiSFQqHEhVokhUKhxIVaJIVCocSFWiSFQqHEhVokhUKhxIVaJIVCocSFWiSFQqHEhVokhUKhxIVaJIVCocSFWiSFQqHEhVokhUKhxIVaJIVCocSFWiSFQqHEhVokhUKhxIVaJIVCocSFWiSFQqHEhVokhUKhxIVaJIVCocSFWiSFQqHEhVokhUKhxIVaJIVCocSFWiSFQqHEhVokhUKhxIVaJIVCocSFWiSFQqHEhVokhUKhxIVaJIVCocSFWiSFQqHEhVokhUKhxIVaJIVCocSFWiSFQqHEhVokhUKhxIVaJIVCocSFWiSFQqHEhVokhUKhxIVaJIVCocSFWiSFQqHEhVokhUKhxIVaJIVCocSFG+kCXHDk5ua+8MILCKEZM2aMdFmGj6uvvhpUjxkzZqTLMnzMnj37//7v/xBCkydPHumyUAYIJoSMdBkoFArlHIU2tCkUCiUu1CIpFAolLtQiKRQKJS7UIikUCiUu1CIpFAolLjToh0IZEgghoihKkoQQMpvNFotlpEtEGQi0FjnkNDU1TZo06fTp0/EOOHbs2NSpU/1+/3CWahg4fvz47NmzVVXt+pKu6w8//PDcuXPr6uqGv2BDDSFk165dM2bMSElJSU5OTk5OTklJueyyy44cOUJj7M47qEUOOSkpKTzPQ+B0tzz33HMpKSlOp3M4SzUMSJJUVlbW1RQ0Tbv77rvfeeed9957LyMjY0TKNnRomrZixYprrrlm6dKlpaWliqIoinLkyJFZs2bNmjXrt7/9LXXJ8wxCGXo+/PDD1NRURVG6viRJktvt3rp16/CXaqg5ePCgx+ORZTl2pyRJS5cuHT9+fEtLy0gVbOjQdf2//uu/UlNTa2pqdF3v9NLRo0cFQXjllVdGqniUAUBrkcPB5ZdfHgqFiouLu7709ddfE0Jmz549/KUafgKBwOzZs0Oh0IEDBzwez0gXZ/Cpqal56qmnNmzYkJmZiTGOfQljPGHChGeffXblypWhUGikSkjpL9QihwObzXbVVVf98Y9/JGc2sgghq1atuu2228xm80iVbdhobW29+OKLR48evWHDBkEQRro4Q8LLL788derUiy++ON4Bd9xxB8/zH3300XCWinI2UIscDjDGv/nNbz788ENRFGP3B4PBzz777Cc/+clIFWzYaGhomDFjxrx5895++22OS8w4Cl3X33rrrbvvvrtT/TEWlmXvvPPO559/ntAeyfMEapHDxMyZMx0Ox7Zt22J3btmyJSMjY+zYsSNVquGhpKRk6tSpdXV1v/jFL1iWHeniDBW6rtfW1k6bNq3nw+bOnVtSUjI8RaKcPdQihwmO426//fb//d//NaoPhJBnnnnmV7/6VQK7BiHkzTffnDNnzqpVq5YvX/7tb3+7Uz06kSCESJLE83zPh5nN5kAgMDxFopw91CKHjwcffHDr1q1NTU3wZ21t7f79+2+44YaRLdWQ4vf777///n/84x8rVqx49tlnBUH44Q9/qGnaSJdrSMAYC4Igy3LPh0Wj0cQL8EpgqEUOH5mZmZMmTVq3bh38+cYbb8yePTs5OXlkSzWksCy7fv3666+/HmNsNpu3b9/+xRdfdB22SgwYhsnMzCwqKur5sHXr1o0bN254ikQZBEYs3OiC5LXXXpswYYKmaaqqjh079vPPPx/pEg0h3cZFbtu2TRCE999/f6RKNaT8+te/njVrlqZpnfYbe1RVdblcb7311rAXjTJAaC1yWPn+979fWVlZUVFRXl7e3Nw8Z86ckS7RcLNgwYI//OEPt912W2Vl5UiXZfC59957Dx8+vHXr1tidmqZNnz79yy+/JIS88MILsixfd911I1VCSn9JzPCLcxa73X7VVVf97W9/E0Vx+fLlF0I4ZCcwxg899NCBAwfmzJlTVlZmtVpHukSDSV5e3sMPP3zrrbfu37/fiB5nWfbdd9+99tpr58+f/8Ybb7z44ot2u32kS0rpMyNdjb3g2Llzp91ut1qtx48fH+myDC3dNrQBURQLCgquueYaVVWHv2BDiqqqK1assFqtjz32WGVlpaqqiqKUlpYuXrwYIeR2u0VRHOkyUvoBbWgPN5dccsmUKVNmz56d8GsBms3mCRMmdBtHbTabd+/e3djY+Oqrrw5/wYYUlmVfeumlTz/9dP369ePGjTOZTDzPT5s2LRAIHDp06M4775w7d25VVdVIF5PSV+gKiBTKkEAIEUURYoAEQTCbzRhjQsj27dtFUYRKJeXch1okhUKhxIU2tCkUCiUu1CIpFAolLtQiKRQKJS7UIikUCiUu1CIpFAolLtQiKRQKJS7UIikUCiUu1CIpFAolLtQiKRQKJS7UIikUCiUu1CIpFAolLtQiKRQKJS7UIikUCiUu1CIpFAolLtQiKRQKJS7UIikUCiUu1CIpFAolLtQiKRQKJS7UIikUCiUu1CIpFAolLtQiKRQKJS7UIikUCiUu1CIpFAolLtQiKRQKJS7UIikUCiUu1CIpFAolLtQiKRQKJS7UIikUCiUu1CIpFAolLv8fUqQpCpRqGjUAAAAASUVORK5CYII=)\n",
        "\n",
        "Multi-head attention consists of four parts:\n",
        "\n",
        "  * Linear layers.\n",
        "  * Scaled dot-product attention.\n",
        "  * Final linear layer.\n",
        "\n",
        "\n",
        "\n",
        "\n",
        "Each multi-head attention block gets three inputs; Q (query), K (key), V (value). These are put through linear (Dense) layers before the multi-head attention function.\n",
        "\n",
        "In the diagram above (K,Q,V) are passed through sepearte linear (Dense) layers for each attention head. For simplicity/efficiency the code below implements this using a single dense layer with num_heads times as many outputs. The output is rearranged to a shape of (batch, num_heads, ...) before applying the attention function.\n",
        "\n",
        "The scaled_dot_product_attention function defined above is applied in a single call, broadcasted for efficiency. An appropriate mask must be used in the attention step. The attention output for each head is then concatenated (using tf.transpose, and tf.reshape) and put through a final Dense layer.\n",
        "\n",
        "Instead of one single attention head, Q, K, and V are split into multiple heads because it allows the model to jointly attend to information from different representation subspaces at different positions. After the split each head has a reduced dimensionality, so the total computation cost is the same as a single head attention with full dimensionality."
      ],
      "metadata": {
        "id": "fdF20z_bwuYH"
      }
    },
    {
      "cell_type": "code",
      "source": [
        "class MultiHeadAttention(tf.keras.layers.Layer):\n",
        "  def __init__(self,*, d_model, num_heads):\n",
        "    super(MultiHeadAttention, self).__init__()\n",
        "    self.num_heads = num_heads\n",
        "    self.d_model = d_model\n",
        "\n",
        "    assert d_model % self.num_heads == 0\n",
        "\n",
        "    self.depth = d_model // self.num_heads\n",
        "\n",
        "    self.wq = tf.keras.layers.Dense(d_model)\n",
        "    self.wk = tf.keras.layers.Dense(d_model)\n",
        "    self.wv = tf.keras.layers.Dense(d_model)\n",
        "\n",
        "    self.dense = tf.keras.layers.Dense(d_model)\n",
        "\n",
        "  def split_heads(self, x, batch_size):\n",
        "    \"\"\"Split the last dimension into (num_heads, depth).\n",
        "    Transpose the result such that the shape is (batch_size, num_heads, seq_len, depth)\n",
        "    \"\"\"\n",
        "    x = tf.reshape(x, (batch_size, -1, self.num_heads, self.depth))\n",
        "    # perm : A permutation of the dimensions of input tensor. This should be a vector.\n",
        "    return tf.transpose(x, perm=[0, 2, 1, 3])\n",
        "\n",
        "  def call(self, v, k, q, mask):\n",
        "    batch_size = tf.shape(q)[0]\n",
        "\n",
        "    q = self.wq(q)  # (batch_size, seq_len, d_model)\n",
        "    k = self.wk(k)  # (batch_size, seq_len, d_model)\n",
        "    v = self.wv(v)  # (batch_size, seq_len, d_model)\n",
        "\n",
        "    q = self.split_heads(q, batch_size)  # (batch_size, num_heads, seq_len_q, depth)\n",
        "    k = self.split_heads(k, batch_size)  # (batch_size, num_heads, seq_len_k, depth)\n",
        "    v = self.split_heads(v, batch_size)  # (batch_size, num_heads, seq_len_v, depth)\n",
        "\n",
        "    # scaled_attention.shape == (batch_size, num_heads, seq_len_q, depth)\n",
        "    # attention_weights.shape == (batch_size, num_heads, seq_len_q, seq_len_k)\n",
        "    scaled_attention, attention_weights = scaled_dot_product_attention(\n",
        "        q, k, v, mask)\n",
        "\n",
        "    scaled_attention = tf.transpose(scaled_attention, perm=[0, 2, 1, 3])  # (batch_size, seq_len_q, num_heads, depth)\n",
        "\n",
        "    concat_attention = tf.reshape(scaled_attention,\n",
        "                                  (batch_size, -1, self.d_model))  # (batch_size, seq_len_q, d_model)\n",
        "\n",
        "    output = self.dense(concat_attention)  # (batch_size, seq_len_q, d_model)\n",
        "\n",
        "    return output, attention_weights"
      ],
      "metadata": {
        "id": "pboW3r1jFdpt"
      },
      "execution_count": 29,
      "outputs": []
    },
    {
      "cell_type": "markdown",
      "source": [
        "Create a MultiHeadAttention layer to try out. At each location in the sequence, y, the MultiHeadAttention runs all 8 attention heads across all other locations in the sequence, returning a new vector of the same length at each location."
      ],
      "metadata": {
        "id": "VLbIUACcG3C0"
      }
    },
    {
      "cell_type": "code",
      "source": [
        "temp_mha = MultiHeadAttention(d_model=512, num_heads=8)\n",
        "y = tf.random.uniform((1, 60, 512))  # (batch_size, encoder_sequence, d_model)\n",
        "out, attn = temp_mha(y, k=y, q=y, mask=None)\n",
        "out.shape, attn.shape"
      ],
      "metadata": {
        "colab": {
          "base_uri": "https://localhost:8080/"
        },
        "id": "DIbTSH9rG6r4",
        "outputId": "ec142d3e-8e6a-403d-c3d2-92f8186f7a99"
      },
      "execution_count": 30,
      "outputs": [
        {
          "output_type": "execute_result",
          "data": {
            "text/plain": [
              "(TensorShape([1, 60, 512]), TensorShape([1, 8, 60, 60]))"
            ]
          },
          "metadata": {},
          "execution_count": 30
        }
      ]
    },
    {
      "cell_type": "markdown",
      "source": [
        "### Point wise feed forward network\n",
        "\n",
        "Point wise feed forward network consists of two fully-connected layers with a ReLU activation in between."
      ],
      "metadata": {
        "id": "1wXC2BqhHDYZ"
      }
    },
    {
      "cell_type": "code",
      "source": [
        "def point_wise_feed_forward_network(d_model, dff):\n",
        "  # dff is the dimension of the output space, or \"feed forward upwards projection size\"\n",
        "  return tf.keras.Sequential([\n",
        "      tf.keras.layers.Dense(dff, activation='relu'),  # (batch_size, seq_len, dff)\n",
        "      tf.keras.layers.Dense(d_model)  # (batch_size, seq_len, d_model)\n",
        "  ])"
      ],
      "metadata": {
        "id": "md8uoaciH6TP"
      },
      "execution_count": 31,
      "outputs": []
    },
    {
      "cell_type": "code",
      "source": [
        "# An example\n",
        "sample_ffn = point_wise_feed_forward_network(512, 2048)\n",
        "sample_ffn(tf.random.uniform((64, 50, 512))).shape"
      ],
      "metadata": {
        "colab": {
          "base_uri": "https://localhost:8080/"
        },
        "id": "Ye3nhRZjH_rY",
        "outputId": "ec61a92e-5146-4a5b-b154-66375bd895b9"
      },
      "execution_count": 32,
      "outputs": [
        {
          "output_type": "execute_result",
          "data": {
            "text/plain": [
              "TensorShape([64, 50, 512])"
            ]
          },
          "metadata": {},
          "execution_count": 32
        }
      ]
    },
    {
      "cell_type": "markdown",
      "source": [
        "## Encoder and decoder\n",
        "\n",
        "![image.png](data:image/png;base64,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)\n",
        "\n",
        "A transformer model follows the same general pattern as a standard sequence to sequence with attention model.\n",
        "\n",
        "  * The input sentence is passed through N encoder layers that generates an output for each token in the sequence.\n",
        "  * The decoder attends to the encoder's output and its own input (self-attention) to predict the next word."
      ],
      "metadata": {
        "id": "z_qIO2dSIDbB"
      }
    },
    {
      "cell_type": "markdown",
      "source": [
        "### Encoder layer\n",
        "Each encoder layer consists of sublayers:\n",
        "\n",
        "Multi-head attention (with padding mask)\n",
        "Point wise feed forward networks.\n",
        "Each of these sublayers has a residual connection around it followed by a layer normalization. Residual connections help in avoiding the vanishing gradient problem in deep networks.\n",
        "\n",
        "The output of each sublayer is LayerNorm(x + Sublayer(x)). The normalization is done on the d_model (last) axis. There are N encoder layers in a transformer."
      ],
      "metadata": {
        "id": "ghxog4RmI94k"
      }
    },
    {
      "cell_type": "code",
      "source": [
        "# Here, we define what a single Encoder Layer looks like. The Final Encoder consists of multiple Encoder Layers\n",
        "class EncoderLayer(tf.keras.layers.Layer):\n",
        "  def __init__(self,*, d_model, num_heads, dff, rate=0.1):\n",
        "    super(EncoderLayer, self).__init__()\n",
        "\n",
        "    self.mha = MultiHeadAttention(d_model=d_model, num_heads=num_heads)\n",
        "    self.ffn = point_wise_feed_forward_network(d_model, dff)\n",
        "\n",
        "    # Normalize the activations of the previous layer for each given example in a batch independently,\n",
        "    # rather than across a batch like Batch Normalization. \n",
        "    # i.e. applies a transformation that maintains the mean activation within each example close to 0 \n",
        "    # and the activation standard deviation close to 1.\n",
        "    self.layernorm1 = tf.keras.layers.LayerNormalization(epsilon=1e-6)\n",
        "    self.layernorm2 = tf.keras.layers.LayerNormalization(epsilon=1e-6)\n",
        "\n",
        "    # Dropout to avoid over-fitting\n",
        "    self.dropout1 = tf.keras.layers.Dropout(rate)\n",
        "    self.dropout2 = tf.keras.layers.Dropout(rate)\n",
        "\n",
        "  def call(self, x, training, mask):\n",
        "\n",
        "    attn_output, _ = self.mha(x, x, x, mask)  # (batch_size, input_seq_len, d_model)\n",
        "    attn_output = self.dropout1(attn_output, training=training)\n",
        "    out1 = self.layernorm1(x + attn_output)  # (batch_size, input_seq_len, d_model)\n",
        "\n",
        "    ffn_output = self.ffn(out1)  # (batch_size, input_seq_len, d_model)\n",
        "    ffn_output = self.dropout2(ffn_output, training=training)\n",
        "    out2 = self.layernorm2(out1 + ffn_output)  # (batch_size, input_seq_len, d_model)\n",
        "\n",
        "    return out2"
      ],
      "metadata": {
        "id": "MUkFKTLhJMTH"
      },
      "execution_count": 33,
      "outputs": []
    },
    {
      "cell_type": "code",
      "source": [
        "# An example\n",
        "sample_encoder_layer = EncoderLayer(d_model=512, num_heads=8, dff=2048)\n",
        "\n",
        "sample_encoder_layer_output = sample_encoder_layer(\n",
        "    tf.random.uniform((64, 43, 512)), False, None)\n",
        "\n",
        "sample_encoder_layer_output.shape  # (batch_size, input_seq_len, d_model)"
      ],
      "metadata": {
        "colab": {
          "base_uri": "https://localhost:8080/"
        },
        "id": "jbefPOfjJ9UE",
        "outputId": "adf96325-a3d0-4fee-ca43-6d4e3b80c32e"
      },
      "execution_count": 34,
      "outputs": [
        {
          "output_type": "execute_result",
          "data": {
            "text/plain": [
              "TensorShape([64, 43, 512])"
            ]
          },
          "metadata": {},
          "execution_count": 34
        }
      ]
    },
    {
      "cell_type": "markdown",
      "source": [
        "### Decoder layer\n",
        "Each decoder layer consists of sublayers:\n",
        "\n",
        "1. Masked multi-head attention (with look ahead mask and padding mask)\n",
        "2. Multi-head attention (with padding mask). V (value) and K (key) receive the encoder output as inputs. Q (query) receives the output from the masked multi-head attention sublayer.\n",
        "3. Point wise feed forward networks\n",
        "\n",
        "Each of these sublayers has a residual connection around it followed by a layer normalization. The output of each sublayer is LayerNorm(x + Sublayer(x)). The normalization is done on the d_model (last) axis.\n",
        "\n",
        "There are a number of decoder layers in the model.\n",
        "\n",
        "As Q receives the output from decoder's first attention block, and K receives the encoder output, the attention weights represent the importance given to the decoder's input based on the encoder's output. In other words, the decoder predicts the next token by looking at the encoder output and self-attending to its own output. See the demonstration above in the scaled dot product attention section."
      ],
      "metadata": {
        "id": "qriOf4nXKpzF"
      }
    },
    {
      "cell_type": "code",
      "source": [
        "class DecoderLayer(tf.keras.layers.Layer):\n",
        "  def __init__(self,*, d_model, num_heads, dff, rate=0.1):\n",
        "    super(DecoderLayer, self).__init__()\n",
        "\n",
        "    self.mha1 = MultiHeadAttention(d_model=d_model, num_heads=num_heads)\n",
        "    self.mha2 = MultiHeadAttention(d_model=d_model, num_heads=num_heads)\n",
        "\n",
        "    self.ffn = point_wise_feed_forward_network(d_model, dff)\n",
        "\n",
        "    self.layernorm1 = tf.keras.layers.LayerNormalization(epsilon=1e-6)\n",
        "    self.layernorm2 = tf.keras.layers.LayerNormalization(epsilon=1e-6)\n",
        "    self.layernorm3 = tf.keras.layers.LayerNormalization(epsilon=1e-6)\n",
        "\n",
        "    self.dropout1 = tf.keras.layers.Dropout(rate)\n",
        "    self.dropout2 = tf.keras.layers.Dropout(rate)\n",
        "    self.dropout3 = tf.keras.layers.Dropout(rate)\n",
        "\n",
        "  def call(self, x, enc_output, training,\n",
        "           look_ahead_mask, padding_mask):\n",
        "    # enc_output.shape == (batch_size, input_seq_len, d_model)\n",
        "\n",
        "    attn1, attn_weights_block1 = self.mha1(x, x, x, look_ahead_mask)  # (batch_size, target_seq_len, d_model)\n",
        "    attn1 = self.dropout1(attn1, training=training)\n",
        "    out1 = self.layernorm1(attn1 + x)\n",
        "\n",
        "    attn2, attn_weights_block2 = self.mha2(\n",
        "        enc_output, enc_output, out1, padding_mask)  # (batch_size, target_seq_len, d_model)\n",
        "    attn2 = self.dropout2(attn2, training=training)\n",
        "    out2 = self.layernorm2(attn2 + out1)  # (batch_size, target_seq_len, d_model)\n",
        "\n",
        "    ffn_output = self.ffn(out2)  # (batch_size, target_seq_len, d_model)\n",
        "    ffn_output = self.dropout3(ffn_output, training=training)\n",
        "    out3 = self.layernorm3(ffn_output + out2)  # (batch_size, target_seq_len, d_model)\n",
        "\n",
        "    return out3, attn_weights_block1, attn_weights_block2"
      ],
      "metadata": {
        "id": "UdjB_MTHLKX4"
      },
      "execution_count": 35,
      "outputs": []
    },
    {
      "cell_type": "code",
      "source": [
        "# An example\n",
        "sample_decoder_layer = DecoderLayer(d_model=512, num_heads=8, dff=2048)\n",
        "\n",
        "sample_decoder_layer_output, _, _ = sample_decoder_layer(\n",
        "    tf.random.uniform((64, 50, 512)), sample_encoder_layer_output,\n",
        "    False, None, None)\n",
        "\n",
        "sample_decoder_layer_output.shape  # (batch_size, target_seq_len, d_model)"
      ],
      "metadata": {
        "colab": {
          "base_uri": "https://localhost:8080/"
        },
        "id": "L0sczbfqLfeQ",
        "outputId": "5c8538dd-6b2c-44d2-c7f8-219c0e3ec6db"
      },
      "execution_count": 36,
      "outputs": [
        {
          "output_type": "execute_result",
          "data": {
            "text/plain": [
              "TensorShape([64, 50, 512])"
            ]
          },
          "metadata": {},
          "execution_count": 36
        }
      ]
    },
    {
      "cell_type": "markdown",
      "source": [
        "### Encoder\n",
        "\n",
        "The Encoder consists of:\n",
        "\n",
        "1. Input Embedding\n",
        "2. Positional Encoding\n",
        "3. N encoder layers\n",
        "\n",
        "The input is put through an embedding which is summed with the positional encoding. The output of this summation is the input to the encoder layers. The output of the encoder is the input to the decoder."
      ],
      "metadata": {
        "id": "drzf01VBLiyL"
      }
    },
    {
      "cell_type": "code",
      "source": [
        "class Encoder(tf.keras.layers.Layer):\n",
        "  def __init__(self,*, num_layers, d_model, num_heads, dff, input_vocab_size,\n",
        "               rate=0.1):\n",
        "    super(Encoder, self).__init__()\n",
        "\n",
        "    self.d_model = d_model\n",
        "    self.num_layers = num_layers\n",
        "\n",
        "    self.embedding = tf.keras.layers.Embedding(input_vocab_size, d_model)\n",
        "    self.pos_encoding = positional_encoding(MAX_TOKENS, self.d_model)\n",
        "\n",
        "    self.enc_layers = [\n",
        "        EncoderLayer(d_model=d_model, num_heads=num_heads, dff=dff, rate=rate)\n",
        "        for _ in range(num_layers)]\n",
        "\n",
        "    self.dropout = tf.keras.layers.Dropout(rate)\n",
        "\n",
        "  def call(self, x, training, mask):\n",
        "\n",
        "    seq_len = tf.shape(x)[1]\n",
        "\n",
        "    # adding embedding and position encoding.\n",
        "    x = self.embedding(x)  # (batch_size, input_seq_len, d_model)\n",
        "    # The reason we increase the embedding values before the addition is to make the positional encoding relatively smaller.\n",
        "    # This means the original meaning in the embedding vector won’t be lost when we add them together.\n",
        "    # For example case, d_model = 512, this factor = 22.63\n",
        "    x *= tf.math.sqrt(tf.cast(self.d_model, tf.float32))\n",
        "    x += self.pos_encoding[:, :seq_len, :]\n",
        "\n",
        "    x = self.dropout(x, training=training)\n",
        "\n",
        "    # Pass the input through all the encoder layers\n",
        "    for i in range(self.num_layers):\n",
        "      x = self.enc_layers[i](x, training, mask)\n",
        "\n",
        "    return x  # (batch_size, input_seq_len, d_model)"
      ],
      "metadata": {
        "id": "5AUntQn9yeOG"
      },
      "execution_count": 40,
      "outputs": []
    },
    {
      "cell_type": "code",
      "source": [
        "# An example\n",
        "sample_encoder = Encoder(num_layers=2, d_model=512, num_heads=8,\n",
        "                         dff=2048, input_vocab_size=8500)\n",
        "temp_input = tf.random.uniform((64, 62), dtype=tf.int64, minval=0, maxval=200)\n",
        "\n",
        "sample_encoder_output = sample_encoder(temp_input, training=False, mask=None)\n",
        "\n",
        "print(sample_encoder_output.shape)  # (batch_size, input_seq_len, d_model)"
      ],
      "metadata": {
        "colab": {
          "base_uri": "https://localhost:8080/"
        },
        "id": "kPaf_ZdYzTus",
        "outputId": "58b5822e-c82b-41e0-ff0f-e97395e39752"
      },
      "execution_count": 41,
      "outputs": [
        {
          "output_type": "stream",
          "name": "stdout",
          "text": [
            "(64, 62, 512)\n"
          ]
        }
      ]
    },
    {
      "cell_type": "markdown",
      "source": [
        "### Decoder\n",
        "\n",
        "The Decoder consists of:\n",
        "\n",
        "1. Output Embedding\n",
        "2. Positional Encoding\n",
        "3. N decoder layers\n",
        "\n",
        "The target is put through an embedding which is summed with the positional encoding. The output of this summation is the input to the decoder layers. The output of the decoder is the input to the final linear layer."
      ],
      "metadata": {
        "id": "bT3EiwWpz0Cr"
      }
    },
    {
      "cell_type": "code",
      "source": [
        "class Decoder(tf.keras.layers.Layer):\n",
        "  def __init__(self,*, num_layers, d_model, num_heads, dff, target_vocab_size,\n",
        "               rate=0.1):\n",
        "    super(Decoder, self).__init__()\n",
        "\n",
        "    self.d_model = d_model\n",
        "    self.num_layers = num_layers\n",
        "\n",
        "    self.embedding = tf.keras.layers.Embedding(target_vocab_size, d_model)\n",
        "    self.pos_encoding = positional_encoding(MAX_TOKENS, d_model)\n",
        "\n",
        "    self.dec_layers = [\n",
        "        DecoderLayer(d_model=d_model, num_heads=num_heads, dff=dff, rate=rate)\n",
        "        for _ in range(num_layers)]\n",
        "    self.dropout = tf.keras.layers.Dropout(rate)\n",
        "\n",
        "  def call(self, x, enc_output, training,\n",
        "           look_ahead_mask, padding_mask):\n",
        "\n",
        "    seq_len = tf.shape(x)[1]\n",
        "    attention_weights = {}\n",
        "\n",
        "    x = self.embedding(x)  # (batch_size, target_seq_len, d_model)\n",
        "    # Same logic to scale the embeddings\n",
        "    x *= tf.math.sqrt(tf.cast(self.d_model, tf.float32))\n",
        "    x += self.pos_encoding[:, :seq_len, :]\n",
        "\n",
        "    x = self.dropout(x, training=training)\n",
        "\n",
        "    for i in range(self.num_layers):\n",
        "      x, block1, block2 = self.dec_layers[i](x, enc_output, training,\n",
        "                                             look_ahead_mask, padding_mask)\n",
        "\n",
        "      attention_weights[f'decoder_layer{i+1}_block1'] = block1\n",
        "      attention_weights[f'decoder_layer{i+1}_block2'] = block2\n",
        "\n",
        "    # x.shape == (batch_size, target_seq_len, d_model)\n",
        "    return x, attention_weights"
      ],
      "metadata": {
        "id": "VIL2DUh70Ct6"
      },
      "execution_count": 42,
      "outputs": []
    },
    {
      "cell_type": "code",
      "source": [
        "# An example\n",
        "\n",
        "sample_decoder = Decoder(num_layers=2, d_model=512, num_heads=8,\n",
        "                         dff=2048, target_vocab_size=8000)\n",
        "temp_input = tf.random.uniform((64, 26), dtype=tf.int64, minval=0, maxval=200)\n",
        "\n",
        "output, attn = sample_decoder(temp_input,\n",
        "                              enc_output=sample_encoder_output,\n",
        "                              training=False,\n",
        "                              look_ahead_mask=None,\n",
        "                              padding_mask=None)\n",
        "# decoder_layer{i}_block2 is the block2 output from ith layer\n",
        "output.shape, attn['decoder_layer2_block2'].shape"
      ],
      "metadata": {
        "colab": {
          "base_uri": "https://localhost:8080/"
        },
        "id": "lRovPk5o0V9c",
        "outputId": "94a041bf-d93f-42fd-f2bc-b3fc7b1a9989"
      },
      "execution_count": 43,
      "outputs": [
        {
          "output_type": "execute_result",
          "data": {
            "text/plain": [
              "(TensorShape([64, 26, 512]), TensorShape([64, 8, 26, 62]))"
            ]
          },
          "metadata": {},
          "execution_count": 43
        }
      ]
    },
    {
      "cell_type": "code",
      "source": [
        ""
      ],
      "metadata": {
        "id": "HHyZYxHu0Yvb"
      },
      "execution_count": null,
      "outputs": []
    }
  ]
}