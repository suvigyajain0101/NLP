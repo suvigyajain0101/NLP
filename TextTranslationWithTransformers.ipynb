{
  "nbformat": 4,
  "nbformat_minor": 0,
  "metadata": {
    "colab": {
      "name": "TextTranslationWithTransformers.ipynb",
      "provenance": [],
      "authorship_tag": "ABX9TyPw1X6g+KnuMEj0aZg9Hvb+"
    },
    "kernelspec": {
      "name": "python3",
      "display_name": "Python 3"
    },
    "language_info": {
      "name": "python"
    },
    "widgets": {
      "application/vnd.jupyter.widget-state+json": {
        "381f5ebbe6e5441da3dd27d137da2184": {
          "model_module": "@jupyter-widgets/controls",
          "model_name": "HBoxModel",
          "model_module_version": "1.5.0",
          "state": {
            "_dom_classes": [],
            "_model_module": "@jupyter-widgets/controls",
            "_model_module_version": "1.5.0",
            "_model_name": "HBoxModel",
            "_view_count": null,
            "_view_module": "@jupyter-widgets/controls",
            "_view_module_version": "1.5.0",
            "_view_name": "HBoxView",
            "box_style": "",
            "children": [
              "IPY_MODEL_1c1cf7579146421fa5c5a32c98d5d05d",
              "IPY_MODEL_061692d3686b4ed39c5819b03eefb8e0",
              "IPY_MODEL_000606e2ecb64411bb1d282be3981755"
            ],
            "layout": "IPY_MODEL_9821390c827043dfa50724eb55fa5e54"
          }
        },
        "1c1cf7579146421fa5c5a32c98d5d05d": {
          "model_module": "@jupyter-widgets/controls",
          "model_name": "HTMLModel",
          "model_module_version": "1.5.0",
          "state": {
            "_dom_classes": [],
            "_model_module": "@jupyter-widgets/controls",
            "_model_module_version": "1.5.0",
            "_model_name": "HTMLModel",
            "_view_count": null,
            "_view_module": "@jupyter-widgets/controls",
            "_view_module_version": "1.5.0",
            "_view_name": "HTMLView",
            "description": "",
            "description_tooltip": null,
            "layout": "IPY_MODEL_04b13a509dfe4778bd8bac23e9f2930b",
            "placeholder": "​",
            "style": "IPY_MODEL_880a404125fc4ec8bbb270edc21681ac",
            "value": "Dl Completed...: 100%"
          }
        },
        "061692d3686b4ed39c5819b03eefb8e0": {
          "model_module": "@jupyter-widgets/controls",
          "model_name": "FloatProgressModel",
          "model_module_version": "1.5.0",
          "state": {
            "_dom_classes": [],
            "_model_module": "@jupyter-widgets/controls",
            "_model_module_version": "1.5.0",
            "_model_name": "FloatProgressModel",
            "_view_count": null,
            "_view_module": "@jupyter-widgets/controls",
            "_view_module_version": "1.5.0",
            "_view_name": "ProgressView",
            "bar_style": "success",
            "description": "",
            "description_tooltip": null,
            "layout": "IPY_MODEL_e0559a054a45410692fbc01be727fc1b",
            "max": 1,
            "min": 0,
            "orientation": "horizontal",
            "style": "IPY_MODEL_63e322ec986141df8438a3ce2b8e9541",
            "value": 1
          }
        },
        "000606e2ecb64411bb1d282be3981755": {
          "model_module": "@jupyter-widgets/controls",
          "model_name": "HTMLModel",
          "model_module_version": "1.5.0",
          "state": {
            "_dom_classes": [],
            "_model_module": "@jupyter-widgets/controls",
            "_model_module_version": "1.5.0",
            "_model_name": "HTMLModel",
            "_view_count": null,
            "_view_module": "@jupyter-widgets/controls",
            "_view_module_version": "1.5.0",
            "_view_name": "HTMLView",
            "description": "",
            "description_tooltip": null,
            "layout": "IPY_MODEL_7a8d82e9182b42d28fb9a3185dea48be",
            "placeholder": "​",
            "style": "IPY_MODEL_a11c740bd14140df8c3f613567e285f8",
            "value": " 1/1 [00:12&lt;00:00,  3.10s/ url]"
          }
        },
        "9821390c827043dfa50724eb55fa5e54": {
          "model_module": "@jupyter-widgets/base",
          "model_name": "LayoutModel",
          "model_module_version": "1.2.0",
          "state": {
            "_model_module": "@jupyter-widgets/base",
            "_model_module_version": "1.2.0",
            "_model_name": "LayoutModel",
            "_view_count": null,
            "_view_module": "@jupyter-widgets/base",
            "_view_module_version": "1.2.0",
            "_view_name": "LayoutView",
            "align_content": null,
            "align_items": null,
            "align_self": null,
            "border": null,
            "bottom": null,
            "display": null,
            "flex": null,
            "flex_flow": null,
            "grid_area": null,
            "grid_auto_columns": null,
            "grid_auto_flow": null,
            "grid_auto_rows": null,
            "grid_column": null,
            "grid_gap": null,
            "grid_row": null,
            "grid_template_areas": null,
            "grid_template_columns": null,
            "grid_template_rows": null,
            "height": null,
            "justify_content": null,
            "justify_items": null,
            "left": null,
            "margin": null,
            "max_height": null,
            "max_width": null,
            "min_height": null,
            "min_width": null,
            "object_fit": null,
            "object_position": null,
            "order": null,
            "overflow": null,
            "overflow_x": null,
            "overflow_y": null,
            "padding": null,
            "right": null,
            "top": null,
            "visibility": null,
            "width": null
          }
        },
        "04b13a509dfe4778bd8bac23e9f2930b": {
          "model_module": "@jupyter-widgets/base",
          "model_name": "LayoutModel",
          "model_module_version": "1.2.0",
          "state": {
            "_model_module": "@jupyter-widgets/base",
            "_model_module_version": "1.2.0",
            "_model_name": "LayoutModel",
            "_view_count": null,
            "_view_module": "@jupyter-widgets/base",
            "_view_module_version": "1.2.0",
            "_view_name": "LayoutView",
            "align_content": null,
            "align_items": null,
            "align_self": null,
            "border": null,
            "bottom": null,
            "display": null,
            "flex": null,
            "flex_flow": null,
            "grid_area": null,
            "grid_auto_columns": null,
            "grid_auto_flow": null,
            "grid_auto_rows": null,
            "grid_column": null,
            "grid_gap": null,
            "grid_row": null,
            "grid_template_areas": null,
            "grid_template_columns": null,
            "grid_template_rows": null,
            "height": null,
            "justify_content": null,
            "justify_items": null,
            "left": null,
            "margin": null,
            "max_height": null,
            "max_width": null,
            "min_height": null,
            "min_width": null,
            "object_fit": null,
            "object_position": null,
            "order": null,
            "overflow": null,
            "overflow_x": null,
            "overflow_y": null,
            "padding": null,
            "right": null,
            "top": null,
            "visibility": null,
            "width": null
          }
        },
        "880a404125fc4ec8bbb270edc21681ac": {
          "model_module": "@jupyter-widgets/controls",
          "model_name": "DescriptionStyleModel",
          "model_module_version": "1.5.0",
          "state": {
            "_model_module": "@jupyter-widgets/controls",
            "_model_module_version": "1.5.0",
            "_model_name": "DescriptionStyleModel",
            "_view_count": null,
            "_view_module": "@jupyter-widgets/base",
            "_view_module_version": "1.2.0",
            "_view_name": "StyleView",
            "description_width": ""
          }
        },
        "e0559a054a45410692fbc01be727fc1b": {
          "model_module": "@jupyter-widgets/base",
          "model_name": "LayoutModel",
          "model_module_version": "1.2.0",
          "state": {
            "_model_module": "@jupyter-widgets/base",
            "_model_module_version": "1.2.0",
            "_model_name": "LayoutModel",
            "_view_count": null,
            "_view_module": "@jupyter-widgets/base",
            "_view_module_version": "1.2.0",
            "_view_name": "LayoutView",
            "align_content": null,
            "align_items": null,
            "align_self": null,
            "border": null,
            "bottom": null,
            "display": null,
            "flex": null,
            "flex_flow": null,
            "grid_area": null,
            "grid_auto_columns": null,
            "grid_auto_flow": null,
            "grid_auto_rows": null,
            "grid_column": null,
            "grid_gap": null,
            "grid_row": null,
            "grid_template_areas": null,
            "grid_template_columns": null,
            "grid_template_rows": null,
            "height": null,
            "justify_content": null,
            "justify_items": null,
            "left": null,
            "margin": null,
            "max_height": null,
            "max_width": null,
            "min_height": null,
            "min_width": null,
            "object_fit": null,
            "object_position": null,
            "order": null,
            "overflow": null,
            "overflow_x": null,
            "overflow_y": null,
            "padding": null,
            "right": null,
            "top": null,
            "visibility": null,
            "width": "20px"
          }
        },
        "63e322ec986141df8438a3ce2b8e9541": {
          "model_module": "@jupyter-widgets/controls",
          "model_name": "ProgressStyleModel",
          "model_module_version": "1.5.0",
          "state": {
            "_model_module": "@jupyter-widgets/controls",
            "_model_module_version": "1.5.0",
            "_model_name": "ProgressStyleModel",
            "_view_count": null,
            "_view_module": "@jupyter-widgets/base",
            "_view_module_version": "1.2.0",
            "_view_name": "StyleView",
            "bar_color": null,
            "description_width": ""
          }
        },
        "7a8d82e9182b42d28fb9a3185dea48be": {
          "model_module": "@jupyter-widgets/base",
          "model_name": "LayoutModel",
          "model_module_version": "1.2.0",
          "state": {
            "_model_module": "@jupyter-widgets/base",
            "_model_module_version": "1.2.0",
            "_model_name": "LayoutModel",
            "_view_count": null,
            "_view_module": "@jupyter-widgets/base",
            "_view_module_version": "1.2.0",
            "_view_name": "LayoutView",
            "align_content": null,
            "align_items": null,
            "align_self": null,
            "border": null,
            "bottom": null,
            "display": null,
            "flex": null,
            "flex_flow": null,
            "grid_area": null,
            "grid_auto_columns": null,
            "grid_auto_flow": null,
            "grid_auto_rows": null,
            "grid_column": null,
            "grid_gap": null,
            "grid_row": null,
            "grid_template_areas": null,
            "grid_template_columns": null,
            "grid_template_rows": null,
            "height": null,
            "justify_content": null,
            "justify_items": null,
            "left": null,
            "margin": null,
            "max_height": null,
            "max_width": null,
            "min_height": null,
            "min_width": null,
            "object_fit": null,
            "object_position": null,
            "order": null,
            "overflow": null,
            "overflow_x": null,
            "overflow_y": null,
            "padding": null,
            "right": null,
            "top": null,
            "visibility": null,
            "width": null
          }
        },
        "a11c740bd14140df8c3f613567e285f8": {
          "model_module": "@jupyter-widgets/controls",
          "model_name": "DescriptionStyleModel",
          "model_module_version": "1.5.0",
          "state": {
            "_model_module": "@jupyter-widgets/controls",
            "_model_module_version": "1.5.0",
            "_model_name": "DescriptionStyleModel",
            "_view_count": null,
            "_view_module": "@jupyter-widgets/base",
            "_view_module_version": "1.2.0",
            "_view_name": "StyleView",
            "description_width": ""
          }
        },
        "815652333fc94788a5b77cca7b91aa7a": {
          "model_module": "@jupyter-widgets/controls",
          "model_name": "HBoxModel",
          "model_module_version": "1.5.0",
          "state": {
            "_dom_classes": [],
            "_model_module": "@jupyter-widgets/controls",
            "_model_module_version": "1.5.0",
            "_model_name": "HBoxModel",
            "_view_count": null,
            "_view_module": "@jupyter-widgets/controls",
            "_view_module_version": "1.5.0",
            "_view_name": "HBoxView",
            "box_style": "",
            "children": [
              "IPY_MODEL_ad141dd07da24d42a9d53862008f8dbc",
              "IPY_MODEL_a4bd38c8fd334bc8b2c363e24fcdce91",
              "IPY_MODEL_29f3131fdc934a3193bac29e9ae0a236"
            ],
            "layout": "IPY_MODEL_f940fd06a80b41ec868a9e5be65e61b3"
          }
        },
        "ad141dd07da24d42a9d53862008f8dbc": {
          "model_module": "@jupyter-widgets/controls",
          "model_name": "HTMLModel",
          "model_module_version": "1.5.0",
          "state": {
            "_dom_classes": [],
            "_model_module": "@jupyter-widgets/controls",
            "_model_module_version": "1.5.0",
            "_model_name": "HTMLModel",
            "_view_count": null,
            "_view_module": "@jupyter-widgets/controls",
            "_view_module_version": "1.5.0",
            "_view_name": "HTMLView",
            "description": "",
            "description_tooltip": null,
            "layout": "IPY_MODEL_c0a6c248b64749ac8570162b5382163d",
            "placeholder": "​",
            "style": "IPY_MODEL_9a7c9bfacb1c4a85aa3bda0ef91f23d9",
            "value": "Dl Size...: 100%"
          }
        },
        "a4bd38c8fd334bc8b2c363e24fcdce91": {
          "model_module": "@jupyter-widgets/controls",
          "model_name": "FloatProgressModel",
          "model_module_version": "1.5.0",
          "state": {
            "_dom_classes": [],
            "_model_module": "@jupyter-widgets/controls",
            "_model_module_version": "1.5.0",
            "_model_name": "FloatProgressModel",
            "_view_count": null,
            "_view_module": "@jupyter-widgets/controls",
            "_view_module_version": "1.5.0",
            "_view_name": "ProgressView",
            "bar_style": "success",
            "description": "",
            "description_tooltip": null,
            "layout": "IPY_MODEL_59c6002f6afa4a8993ec1303465000b7",
            "max": 1,
            "min": 0,
            "orientation": "horizontal",
            "style": "IPY_MODEL_d45fbc9a948844a1ab5a1867c2dfba48",
            "value": 1
          }
        },
        "29f3131fdc934a3193bac29e9ae0a236": {
          "model_module": "@jupyter-widgets/controls",
          "model_name": "HTMLModel",
          "model_module_version": "1.5.0",
          "state": {
            "_dom_classes": [],
            "_model_module": "@jupyter-widgets/controls",
            "_model_module_version": "1.5.0",
            "_model_name": "HTMLModel",
            "_view_count": null,
            "_view_module": "@jupyter-widgets/controls",
            "_view_module_version": "1.5.0",
            "_view_name": "HTMLView",
            "description": "",
            "description_tooltip": null,
            "layout": "IPY_MODEL_fc3549040d634111b648e3101ded9dad",
            "placeholder": "​",
            "style": "IPY_MODEL_a9082ed2f77d4991a7b408c7226b6721",
            "value": " 124/124 [00:12&lt;00:00, 40.49 MiB/s]"
          }
        },
        "f940fd06a80b41ec868a9e5be65e61b3": {
          "model_module": "@jupyter-widgets/base",
          "model_name": "LayoutModel",
          "model_module_version": "1.2.0",
          "state": {
            "_model_module": "@jupyter-widgets/base",
            "_model_module_version": "1.2.0",
            "_model_name": "LayoutModel",
            "_view_count": null,
            "_view_module": "@jupyter-widgets/base",
            "_view_module_version": "1.2.0",
            "_view_name": "LayoutView",
            "align_content": null,
            "align_items": null,
            "align_self": null,
            "border": null,
            "bottom": null,
            "display": null,
            "flex": null,
            "flex_flow": null,
            "grid_area": null,
            "grid_auto_columns": null,
            "grid_auto_flow": null,
            "grid_auto_rows": null,
            "grid_column": null,
            "grid_gap": null,
            "grid_row": null,
            "grid_template_areas": null,
            "grid_template_columns": null,
            "grid_template_rows": null,
            "height": null,
            "justify_content": null,
            "justify_items": null,
            "left": null,
            "margin": null,
            "max_height": null,
            "max_width": null,
            "min_height": null,
            "min_width": null,
            "object_fit": null,
            "object_position": null,
            "order": null,
            "overflow": null,
            "overflow_x": null,
            "overflow_y": null,
            "padding": null,
            "right": null,
            "top": null,
            "visibility": null,
            "width": null
          }
        },
        "c0a6c248b64749ac8570162b5382163d": {
          "model_module": "@jupyter-widgets/base",
          "model_name": "LayoutModel",
          "model_module_version": "1.2.0",
          "state": {
            "_model_module": "@jupyter-widgets/base",
            "_model_module_version": "1.2.0",
            "_model_name": "LayoutModel",
            "_view_count": null,
            "_view_module": "@jupyter-widgets/base",
            "_view_module_version": "1.2.0",
            "_view_name": "LayoutView",
            "align_content": null,
            "align_items": null,
            "align_self": null,
            "border": null,
            "bottom": null,
            "display": null,
            "flex": null,
            "flex_flow": null,
            "grid_area": null,
            "grid_auto_columns": null,
            "grid_auto_flow": null,
            "grid_auto_rows": null,
            "grid_column": null,
            "grid_gap": null,
            "grid_row": null,
            "grid_template_areas": null,
            "grid_template_columns": null,
            "grid_template_rows": null,
            "height": null,
            "justify_content": null,
            "justify_items": null,
            "left": null,
            "margin": null,
            "max_height": null,
            "max_width": null,
            "min_height": null,
            "min_width": null,
            "object_fit": null,
            "object_position": null,
            "order": null,
            "overflow": null,
            "overflow_x": null,
            "overflow_y": null,
            "padding": null,
            "right": null,
            "top": null,
            "visibility": null,
            "width": null
          }
        },
        "9a7c9bfacb1c4a85aa3bda0ef91f23d9": {
          "model_module": "@jupyter-widgets/controls",
          "model_name": "DescriptionStyleModel",
          "model_module_version": "1.5.0",
          "state": {
            "_model_module": "@jupyter-widgets/controls",
            "_model_module_version": "1.5.0",
            "_model_name": "DescriptionStyleModel",
            "_view_count": null,
            "_view_module": "@jupyter-widgets/base",
            "_view_module_version": "1.2.0",
            "_view_name": "StyleView",
            "description_width": ""
          }
        },
        "59c6002f6afa4a8993ec1303465000b7": {
          "model_module": "@jupyter-widgets/base",
          "model_name": "LayoutModel",
          "model_module_version": "1.2.0",
          "state": {
            "_model_module": "@jupyter-widgets/base",
            "_model_module_version": "1.2.0",
            "_model_name": "LayoutModel",
            "_view_count": null,
            "_view_module": "@jupyter-widgets/base",
            "_view_module_version": "1.2.0",
            "_view_name": "LayoutView",
            "align_content": null,
            "align_items": null,
            "align_self": null,
            "border": null,
            "bottom": null,
            "display": null,
            "flex": null,
            "flex_flow": null,
            "grid_area": null,
            "grid_auto_columns": null,
            "grid_auto_flow": null,
            "grid_auto_rows": null,
            "grid_column": null,
            "grid_gap": null,
            "grid_row": null,
            "grid_template_areas": null,
            "grid_template_columns": null,
            "grid_template_rows": null,
            "height": null,
            "justify_content": null,
            "justify_items": null,
            "left": null,
            "margin": null,
            "max_height": null,
            "max_width": null,
            "min_height": null,
            "min_width": null,
            "object_fit": null,
            "object_position": null,
            "order": null,
            "overflow": null,
            "overflow_x": null,
            "overflow_y": null,
            "padding": null,
            "right": null,
            "top": null,
            "visibility": null,
            "width": "20px"
          }
        },
        "d45fbc9a948844a1ab5a1867c2dfba48": {
          "model_module": "@jupyter-widgets/controls",
          "model_name": "ProgressStyleModel",
          "model_module_version": "1.5.0",
          "state": {
            "_model_module": "@jupyter-widgets/controls",
            "_model_module_version": "1.5.0",
            "_model_name": "ProgressStyleModel",
            "_view_count": null,
            "_view_module": "@jupyter-widgets/base",
            "_view_module_version": "1.2.0",
            "_view_name": "StyleView",
            "bar_color": null,
            "description_width": ""
          }
        },
        "fc3549040d634111b648e3101ded9dad": {
          "model_module": "@jupyter-widgets/base",
          "model_name": "LayoutModel",
          "model_module_version": "1.2.0",
          "state": {
            "_model_module": "@jupyter-widgets/base",
            "_model_module_version": "1.2.0",
            "_model_name": "LayoutModel",
            "_view_count": null,
            "_view_module": "@jupyter-widgets/base",
            "_view_module_version": "1.2.0",
            "_view_name": "LayoutView",
            "align_content": null,
            "align_items": null,
            "align_self": null,
            "border": null,
            "bottom": null,
            "display": null,
            "flex": null,
            "flex_flow": null,
            "grid_area": null,
            "grid_auto_columns": null,
            "grid_auto_flow": null,
            "grid_auto_rows": null,
            "grid_column": null,
            "grid_gap": null,
            "grid_row": null,
            "grid_template_areas": null,
            "grid_template_columns": null,
            "grid_template_rows": null,
            "height": null,
            "justify_content": null,
            "justify_items": null,
            "left": null,
            "margin": null,
            "max_height": null,
            "max_width": null,
            "min_height": null,
            "min_width": null,
            "object_fit": null,
            "object_position": null,
            "order": null,
            "overflow": null,
            "overflow_x": null,
            "overflow_y": null,
            "padding": null,
            "right": null,
            "top": null,
            "visibility": null,
            "width": null
          }
        },
        "a9082ed2f77d4991a7b408c7226b6721": {
          "model_module": "@jupyter-widgets/controls",
          "model_name": "DescriptionStyleModel",
          "model_module_version": "1.5.0",
          "state": {
            "_model_module": "@jupyter-widgets/controls",
            "_model_module_version": "1.5.0",
            "_model_name": "DescriptionStyleModel",
            "_view_count": null,
            "_view_module": "@jupyter-widgets/base",
            "_view_module_version": "1.2.0",
            "_view_name": "StyleView",
            "description_width": ""
          }
        },
        "970085f208994d34a104cb0778f22bd7": {
          "model_module": "@jupyter-widgets/controls",
          "model_name": "HBoxModel",
          "model_module_version": "1.5.0",
          "state": {
            "_dom_classes": [],
            "_model_module": "@jupyter-widgets/controls",
            "_model_module_version": "1.5.0",
            "_model_name": "HBoxModel",
            "_view_count": null,
            "_view_module": "@jupyter-widgets/controls",
            "_view_module_version": "1.5.0",
            "_view_name": "HBoxView",
            "box_style": "",
            "children": [
              "IPY_MODEL_d4874a6f817b45a4ace255100cece376",
              "IPY_MODEL_3c299f3f1eb24916abcbd57cb17c3d7a",
              "IPY_MODEL_cc596fa06bfb4540ac5dccdf6b45e2e5"
            ],
            "layout": "IPY_MODEL_d819d09b6436401393f2184f3deb55e5"
          }
        },
        "d4874a6f817b45a4ace255100cece376": {
          "model_module": "@jupyter-widgets/controls",
          "model_name": "HTMLModel",
          "model_module_version": "1.5.0",
          "state": {
            "_dom_classes": [],
            "_model_module": "@jupyter-widgets/controls",
            "_model_module_version": "1.5.0",
            "_model_name": "HTMLModel",
            "_view_count": null,
            "_view_module": "@jupyter-widgets/controls",
            "_view_module_version": "1.5.0",
            "_view_name": "HTMLView",
            "description": "",
            "description_tooltip": null,
            "layout": "IPY_MODEL_c91f46a923f340a1b904e0256198453a",
            "placeholder": "​",
            "style": "IPY_MODEL_0d3e4430d2b84db093c27539538763ba",
            "value": "Extraction completed...: 100%"
          }
        },
        "3c299f3f1eb24916abcbd57cb17c3d7a": {
          "model_module": "@jupyter-widgets/controls",
          "model_name": "FloatProgressModel",
          "model_module_version": "1.5.0",
          "state": {
            "_dom_classes": [],
            "_model_module": "@jupyter-widgets/controls",
            "_model_module_version": "1.5.0",
            "_model_name": "FloatProgressModel",
            "_view_count": null,
            "_view_module": "@jupyter-widgets/controls",
            "_view_module_version": "1.5.0",
            "_view_name": "ProgressView",
            "bar_style": "success",
            "description": "",
            "description_tooltip": null,
            "layout": "IPY_MODEL_7246b7fca85e4833af6c4421fe26ee5d",
            "max": 1,
            "min": 0,
            "orientation": "horizontal",
            "style": "IPY_MODEL_1a4f3ae66e554a488ab656d25cc7421b",
            "value": 1
          }
        },
        "cc596fa06bfb4540ac5dccdf6b45e2e5": {
          "model_module": "@jupyter-widgets/controls",
          "model_name": "HTMLModel",
          "model_module_version": "1.5.0",
          "state": {
            "_dom_classes": [],
            "_model_module": "@jupyter-widgets/controls",
            "_model_module_version": "1.5.0",
            "_model_name": "HTMLModel",
            "_view_count": null,
            "_view_module": "@jupyter-widgets/controls",
            "_view_module_version": "1.5.0",
            "_view_name": "HTMLView",
            "description": "",
            "description_tooltip": null,
            "layout": "IPY_MODEL_4cc44ea91e1e413e82e1e7ca1c8b42ad",
            "placeholder": "​",
            "style": "IPY_MODEL_2d2021ae350f43deb919e4b80e65670e",
            "value": " 1/1 [00:12&lt;00:00, 12.22s/ file]"
          }
        },
        "d819d09b6436401393f2184f3deb55e5": {
          "model_module": "@jupyter-widgets/base",
          "model_name": "LayoutModel",
          "model_module_version": "1.2.0",
          "state": {
            "_model_module": "@jupyter-widgets/base",
            "_model_module_version": "1.2.0",
            "_model_name": "LayoutModel",
            "_view_count": null,
            "_view_module": "@jupyter-widgets/base",
            "_view_module_version": "1.2.0",
            "_view_name": "LayoutView",
            "align_content": null,
            "align_items": null,
            "align_self": null,
            "border": null,
            "bottom": null,
            "display": null,
            "flex": null,
            "flex_flow": null,
            "grid_area": null,
            "grid_auto_columns": null,
            "grid_auto_flow": null,
            "grid_auto_rows": null,
            "grid_column": null,
            "grid_gap": null,
            "grid_row": null,
            "grid_template_areas": null,
            "grid_template_columns": null,
            "grid_template_rows": null,
            "height": null,
            "justify_content": null,
            "justify_items": null,
            "left": null,
            "margin": null,
            "max_height": null,
            "max_width": null,
            "min_height": null,
            "min_width": null,
            "object_fit": null,
            "object_position": null,
            "order": null,
            "overflow": null,
            "overflow_x": null,
            "overflow_y": null,
            "padding": null,
            "right": null,
            "top": null,
            "visibility": null,
            "width": null
          }
        },
        "c91f46a923f340a1b904e0256198453a": {
          "model_module": "@jupyter-widgets/base",
          "model_name": "LayoutModel",
          "model_module_version": "1.2.0",
          "state": {
            "_model_module": "@jupyter-widgets/base",
            "_model_module_version": "1.2.0",
            "_model_name": "LayoutModel",
            "_view_count": null,
            "_view_module": "@jupyter-widgets/base",
            "_view_module_version": "1.2.0",
            "_view_name": "LayoutView",
            "align_content": null,
            "align_items": null,
            "align_self": null,
            "border": null,
            "bottom": null,
            "display": null,
            "flex": null,
            "flex_flow": null,
            "grid_area": null,
            "grid_auto_columns": null,
            "grid_auto_flow": null,
            "grid_auto_rows": null,
            "grid_column": null,
            "grid_gap": null,
            "grid_row": null,
            "grid_template_areas": null,
            "grid_template_columns": null,
            "grid_template_rows": null,
            "height": null,
            "justify_content": null,
            "justify_items": null,
            "left": null,
            "margin": null,
            "max_height": null,
            "max_width": null,
            "min_height": null,
            "min_width": null,
            "object_fit": null,
            "object_position": null,
            "order": null,
            "overflow": null,
            "overflow_x": null,
            "overflow_y": null,
            "padding": null,
            "right": null,
            "top": null,
            "visibility": null,
            "width": null
          }
        },
        "0d3e4430d2b84db093c27539538763ba": {
          "model_module": "@jupyter-widgets/controls",
          "model_name": "DescriptionStyleModel",
          "model_module_version": "1.5.0",
          "state": {
            "_model_module": "@jupyter-widgets/controls",
            "_model_module_version": "1.5.0",
            "_model_name": "DescriptionStyleModel",
            "_view_count": null,
            "_view_module": "@jupyter-widgets/base",
            "_view_module_version": "1.2.0",
            "_view_name": "StyleView",
            "description_width": ""
          }
        },
        "7246b7fca85e4833af6c4421fe26ee5d": {
          "model_module": "@jupyter-widgets/base",
          "model_name": "LayoutModel",
          "model_module_version": "1.2.0",
          "state": {
            "_model_module": "@jupyter-widgets/base",
            "_model_module_version": "1.2.0",
            "_model_name": "LayoutModel",
            "_view_count": null,
            "_view_module": "@jupyter-widgets/base",
            "_view_module_version": "1.2.0",
            "_view_name": "LayoutView",
            "align_content": null,
            "align_items": null,
            "align_self": null,
            "border": null,
            "bottom": null,
            "display": null,
            "flex": null,
            "flex_flow": null,
            "grid_area": null,
            "grid_auto_columns": null,
            "grid_auto_flow": null,
            "grid_auto_rows": null,
            "grid_column": null,
            "grid_gap": null,
            "grid_row": null,
            "grid_template_areas": null,
            "grid_template_columns": null,
            "grid_template_rows": null,
            "height": null,
            "justify_content": null,
            "justify_items": null,
            "left": null,
            "margin": null,
            "max_height": null,
            "max_width": null,
            "min_height": null,
            "min_width": null,
            "object_fit": null,
            "object_position": null,
            "order": null,
            "overflow": null,
            "overflow_x": null,
            "overflow_y": null,
            "padding": null,
            "right": null,
            "top": null,
            "visibility": null,
            "width": "20px"
          }
        },
        "1a4f3ae66e554a488ab656d25cc7421b": {
          "model_module": "@jupyter-widgets/controls",
          "model_name": "ProgressStyleModel",
          "model_module_version": "1.5.0",
          "state": {
            "_model_module": "@jupyter-widgets/controls",
            "_model_module_version": "1.5.0",
            "_model_name": "ProgressStyleModel",
            "_view_count": null,
            "_view_module": "@jupyter-widgets/base",
            "_view_module_version": "1.2.0",
            "_view_name": "StyleView",
            "bar_color": null,
            "description_width": ""
          }
        },
        "4cc44ea91e1e413e82e1e7ca1c8b42ad": {
          "model_module": "@jupyter-widgets/base",
          "model_name": "LayoutModel",
          "model_module_version": "1.2.0",
          "state": {
            "_model_module": "@jupyter-widgets/base",
            "_model_module_version": "1.2.0",
            "_model_name": "LayoutModel",
            "_view_count": null,
            "_view_module": "@jupyter-widgets/base",
            "_view_module_version": "1.2.0",
            "_view_name": "LayoutView",
            "align_content": null,
            "align_items": null,
            "align_self": null,
            "border": null,
            "bottom": null,
            "display": null,
            "flex": null,
            "flex_flow": null,
            "grid_area": null,
            "grid_auto_columns": null,
            "grid_auto_flow": null,
            "grid_auto_rows": null,
            "grid_column": null,
            "grid_gap": null,
            "grid_row": null,
            "grid_template_areas": null,
            "grid_template_columns": null,
            "grid_template_rows": null,
            "height": null,
            "justify_content": null,
            "justify_items": null,
            "left": null,
            "margin": null,
            "max_height": null,
            "max_width": null,
            "min_height": null,
            "min_width": null,
            "object_fit": null,
            "object_position": null,
            "order": null,
            "overflow": null,
            "overflow_x": null,
            "overflow_y": null,
            "padding": null,
            "right": null,
            "top": null,
            "visibility": null,
            "width": null
          }
        },
        "2d2021ae350f43deb919e4b80e65670e": {
          "model_module": "@jupyter-widgets/controls",
          "model_name": "DescriptionStyleModel",
          "model_module_version": "1.5.0",
          "state": {
            "_model_module": "@jupyter-widgets/controls",
            "_model_module_version": "1.5.0",
            "_model_name": "DescriptionStyleModel",
            "_view_count": null,
            "_view_module": "@jupyter-widgets/base",
            "_view_module_version": "1.2.0",
            "_view_name": "StyleView",
            "description_width": ""
          }
        },
        "86b6d04e5b0c457bab8976abd9dda7c7": {
          "model_module": "@jupyter-widgets/controls",
          "model_name": "HBoxModel",
          "model_module_version": "1.5.0",
          "state": {
            "_dom_classes": [],
            "_model_module": "@jupyter-widgets/controls",
            "_model_module_version": "1.5.0",
            "_model_name": "HBoxModel",
            "_view_count": null,
            "_view_module": "@jupyter-widgets/controls",
            "_view_module_version": "1.5.0",
            "_view_name": "HBoxView",
            "box_style": "",
            "children": [
              "IPY_MODEL_256fb8b8b6a44d99997c9a6f093b8b78",
              "IPY_MODEL_8d9b1e4ed0e448339bb6fc6d3a1f2951",
              "IPY_MODEL_0bc62159f58f418a9e547e72b15f2003"
            ],
            "layout": "IPY_MODEL_8ef4ad842fe64f03946e375c83858e54"
          }
        },
        "256fb8b8b6a44d99997c9a6f093b8b78": {
          "model_module": "@jupyter-widgets/controls",
          "model_name": "HTMLModel",
          "model_module_version": "1.5.0",
          "state": {
            "_dom_classes": [],
            "_model_module": "@jupyter-widgets/controls",
            "_model_module_version": "1.5.0",
            "_model_name": "HTMLModel",
            "_view_count": null,
            "_view_module": "@jupyter-widgets/controls",
            "_view_module_version": "1.5.0",
            "_view_name": "HTMLView",
            "description": "",
            "description_tooltip": null,
            "layout": "IPY_MODEL_e14a6ceb4d80452b9a7e659897b6fd00",
            "placeholder": "​",
            "style": "IPY_MODEL_463384bfc64641efb63e6cdf3442ae76",
            "value": ""
          }
        },
        "8d9b1e4ed0e448339bb6fc6d3a1f2951": {
          "model_module": "@jupyter-widgets/controls",
          "model_name": "FloatProgressModel",
          "model_module_version": "1.5.0",
          "state": {
            "_dom_classes": [],
            "_model_module": "@jupyter-widgets/controls",
            "_model_module_version": "1.5.0",
            "_model_name": "FloatProgressModel",
            "_view_count": null,
            "_view_module": "@jupyter-widgets/controls",
            "_view_module_version": "1.5.0",
            "_view_name": "ProgressView",
            "bar_style": "info",
            "description": "",
            "description_tooltip": null,
            "layout": "IPY_MODEL_33b5c7462e704f96876ce9da66b89508",
            "max": 1,
            "min": 0,
            "orientation": "horizontal",
            "style": "IPY_MODEL_a19af784e7104b059d8defba01d2a0e0",
            "value": 1
          }
        },
        "0bc62159f58f418a9e547e72b15f2003": {
          "model_module": "@jupyter-widgets/controls",
          "model_name": "HTMLModel",
          "model_module_version": "1.5.0",
          "state": {
            "_dom_classes": [],
            "_model_module": "@jupyter-widgets/controls",
            "_model_module_version": "1.5.0",
            "_model_name": "HTMLModel",
            "_view_count": null,
            "_view_module": "@jupyter-widgets/controls",
            "_view_module_version": "1.5.0",
            "_view_name": "HTMLView",
            "description": "",
            "description_tooltip": null,
            "layout": "IPY_MODEL_4bac547827164a2caebda5a7798ef3a5",
            "placeholder": "​",
            "style": "IPY_MODEL_676688142da84d29887ba15d1cafe449",
            "value": " 51643/0 [00:24&lt;00:00, 2741.46 examples/s]"
          }
        },
        "8ef4ad842fe64f03946e375c83858e54": {
          "model_module": "@jupyter-widgets/base",
          "model_name": "LayoutModel",
          "model_module_version": "1.2.0",
          "state": {
            "_model_module": "@jupyter-widgets/base",
            "_model_module_version": "1.2.0",
            "_model_name": "LayoutModel",
            "_view_count": null,
            "_view_module": "@jupyter-widgets/base",
            "_view_module_version": "1.2.0",
            "_view_name": "LayoutView",
            "align_content": null,
            "align_items": null,
            "align_self": null,
            "border": null,
            "bottom": null,
            "display": null,
            "flex": null,
            "flex_flow": null,
            "grid_area": null,
            "grid_auto_columns": null,
            "grid_auto_flow": null,
            "grid_auto_rows": null,
            "grid_column": null,
            "grid_gap": null,
            "grid_row": null,
            "grid_template_areas": null,
            "grid_template_columns": null,
            "grid_template_rows": null,
            "height": null,
            "justify_content": null,
            "justify_items": null,
            "left": null,
            "margin": null,
            "max_height": null,
            "max_width": null,
            "min_height": null,
            "min_width": null,
            "object_fit": null,
            "object_position": null,
            "order": null,
            "overflow": null,
            "overflow_x": null,
            "overflow_y": null,
            "padding": null,
            "right": null,
            "top": null,
            "visibility": null,
            "width": null
          }
        },
        "e14a6ceb4d80452b9a7e659897b6fd00": {
          "model_module": "@jupyter-widgets/base",
          "model_name": "LayoutModel",
          "model_module_version": "1.2.0",
          "state": {
            "_model_module": "@jupyter-widgets/base",
            "_model_module_version": "1.2.0",
            "_model_name": "LayoutModel",
            "_view_count": null,
            "_view_module": "@jupyter-widgets/base",
            "_view_module_version": "1.2.0",
            "_view_name": "LayoutView",
            "align_content": null,
            "align_items": null,
            "align_self": null,
            "border": null,
            "bottom": null,
            "display": null,
            "flex": null,
            "flex_flow": null,
            "grid_area": null,
            "grid_auto_columns": null,
            "grid_auto_flow": null,
            "grid_auto_rows": null,
            "grid_column": null,
            "grid_gap": null,
            "grid_row": null,
            "grid_template_areas": null,
            "grid_template_columns": null,
            "grid_template_rows": null,
            "height": null,
            "justify_content": null,
            "justify_items": null,
            "left": null,
            "margin": null,
            "max_height": null,
            "max_width": null,
            "min_height": null,
            "min_width": null,
            "object_fit": null,
            "object_position": null,
            "order": null,
            "overflow": null,
            "overflow_x": null,
            "overflow_y": null,
            "padding": null,
            "right": null,
            "top": null,
            "visibility": null,
            "width": null
          }
        },
        "463384bfc64641efb63e6cdf3442ae76": {
          "model_module": "@jupyter-widgets/controls",
          "model_name": "DescriptionStyleModel",
          "model_module_version": "1.5.0",
          "state": {
            "_model_module": "@jupyter-widgets/controls",
            "_model_module_version": "1.5.0",
            "_model_name": "DescriptionStyleModel",
            "_view_count": null,
            "_view_module": "@jupyter-widgets/base",
            "_view_module_version": "1.2.0",
            "_view_name": "StyleView",
            "description_width": ""
          }
        },
        "33b5c7462e704f96876ce9da66b89508": {
          "model_module": "@jupyter-widgets/base",
          "model_name": "LayoutModel",
          "model_module_version": "1.2.0",
          "state": {
            "_model_module": "@jupyter-widgets/base",
            "_model_module_version": "1.2.0",
            "_model_name": "LayoutModel",
            "_view_count": null,
            "_view_module": "@jupyter-widgets/base",
            "_view_module_version": "1.2.0",
            "_view_name": "LayoutView",
            "align_content": null,
            "align_items": null,
            "align_self": null,
            "border": null,
            "bottom": null,
            "display": null,
            "flex": null,
            "flex_flow": null,
            "grid_area": null,
            "grid_auto_columns": null,
            "grid_auto_flow": null,
            "grid_auto_rows": null,
            "grid_column": null,
            "grid_gap": null,
            "grid_row": null,
            "grid_template_areas": null,
            "grid_template_columns": null,
            "grid_template_rows": null,
            "height": null,
            "justify_content": null,
            "justify_items": null,
            "left": null,
            "margin": null,
            "max_height": null,
            "max_width": null,
            "min_height": null,
            "min_width": null,
            "object_fit": null,
            "object_position": null,
            "order": null,
            "overflow": null,
            "overflow_x": null,
            "overflow_y": null,
            "padding": null,
            "right": null,
            "top": null,
            "visibility": null,
            "width": "20px"
          }
        },
        "a19af784e7104b059d8defba01d2a0e0": {
          "model_module": "@jupyter-widgets/controls",
          "model_name": "ProgressStyleModel",
          "model_module_version": "1.5.0",
          "state": {
            "_model_module": "@jupyter-widgets/controls",
            "_model_module_version": "1.5.0",
            "_model_name": "ProgressStyleModel",
            "_view_count": null,
            "_view_module": "@jupyter-widgets/base",
            "_view_module_version": "1.2.0",
            "_view_name": "StyleView",
            "bar_color": null,
            "description_width": ""
          }
        },
        "4bac547827164a2caebda5a7798ef3a5": {
          "model_module": "@jupyter-widgets/base",
          "model_name": "LayoutModel",
          "model_module_version": "1.2.0",
          "state": {
            "_model_module": "@jupyter-widgets/base",
            "_model_module_version": "1.2.0",
            "_model_name": "LayoutModel",
            "_view_count": null,
            "_view_module": "@jupyter-widgets/base",
            "_view_module_version": "1.2.0",
            "_view_name": "LayoutView",
            "align_content": null,
            "align_items": null,
            "align_self": null,
            "border": null,
            "bottom": null,
            "display": null,
            "flex": null,
            "flex_flow": null,
            "grid_area": null,
            "grid_auto_columns": null,
            "grid_auto_flow": null,
            "grid_auto_rows": null,
            "grid_column": null,
            "grid_gap": null,
            "grid_row": null,
            "grid_template_areas": null,
            "grid_template_columns": null,
            "grid_template_rows": null,
            "height": null,
            "justify_content": null,
            "justify_items": null,
            "left": null,
            "margin": null,
            "max_height": null,
            "max_width": null,
            "min_height": null,
            "min_width": null,
            "object_fit": null,
            "object_position": null,
            "order": null,
            "overflow": null,
            "overflow_x": null,
            "overflow_y": null,
            "padding": null,
            "right": null,
            "top": null,
            "visibility": null,
            "width": null
          }
        },
        "676688142da84d29887ba15d1cafe449": {
          "model_module": "@jupyter-widgets/controls",
          "model_name": "DescriptionStyleModel",
          "model_module_version": "1.5.0",
          "state": {
            "_model_module": "@jupyter-widgets/controls",
            "_model_module_version": "1.5.0",
            "_model_name": "DescriptionStyleModel",
            "_view_count": null,
            "_view_module": "@jupyter-widgets/base",
            "_view_module_version": "1.2.0",
            "_view_name": "StyleView",
            "description_width": ""
          }
        },
        "bad6208fabed4ffcb925d70fd939922a": {
          "model_module": "@jupyter-widgets/controls",
          "model_name": "HBoxModel",
          "model_module_version": "1.5.0",
          "state": {
            "_dom_classes": [],
            "_model_module": "@jupyter-widgets/controls",
            "_model_module_version": "1.5.0",
            "_model_name": "HBoxModel",
            "_view_count": null,
            "_view_module": "@jupyter-widgets/controls",
            "_view_module_version": "1.5.0",
            "_view_name": "HBoxView",
            "box_style": "",
            "children": [
              "IPY_MODEL_fe73d40fe07e408385196e33058c73f4",
              "IPY_MODEL_939c102608114233b824d1fc51f77eee",
              "IPY_MODEL_cfdde148a0b043889191cf18be2b3b00"
            ],
            "layout": "IPY_MODEL_31208adff3774b128b3ede1acd6445e0"
          }
        },
        "fe73d40fe07e408385196e33058c73f4": {
          "model_module": "@jupyter-widgets/controls",
          "model_name": "HTMLModel",
          "model_module_version": "1.5.0",
          "state": {
            "_dom_classes": [],
            "_model_module": "@jupyter-widgets/controls",
            "_model_module_version": "1.5.0",
            "_model_name": "HTMLModel",
            "_view_count": null,
            "_view_module": "@jupyter-widgets/controls",
            "_view_module_version": "1.5.0",
            "_view_name": "HTMLView",
            "description": "",
            "description_tooltip": null,
            "layout": "IPY_MODEL_852046d55bf44e5e89d60d8a635c33a7",
            "placeholder": "​",
            "style": "IPY_MODEL_6307ce85330b4a1881aadf9950423e2b",
            "value": "100%"
          }
        },
        "939c102608114233b824d1fc51f77eee": {
          "model_module": "@jupyter-widgets/controls",
          "model_name": "FloatProgressModel",
          "model_module_version": "1.5.0",
          "state": {
            "_dom_classes": [],
            "_model_module": "@jupyter-widgets/controls",
            "_model_module_version": "1.5.0",
            "_model_name": "FloatProgressModel",
            "_view_count": null,
            "_view_module": "@jupyter-widgets/controls",
            "_view_module_version": "1.5.0",
            "_view_name": "ProgressView",
            "bar_style": "danger",
            "description": "",
            "description_tooltip": null,
            "layout": "IPY_MODEL_07b4e7344b4b4f1f8225d53c5c0382ec",
            "max": 51785,
            "min": 0,
            "orientation": "horizontal",
            "style": "IPY_MODEL_e7d9cf3658294405abb075b4edf24534",
            "value": 51784
          }
        },
        "cfdde148a0b043889191cf18be2b3b00": {
          "model_module": "@jupyter-widgets/controls",
          "model_name": "HTMLModel",
          "model_module_version": "1.5.0",
          "state": {
            "_dom_classes": [],
            "_model_module": "@jupyter-widgets/controls",
            "_model_module_version": "1.5.0",
            "_model_name": "HTMLModel",
            "_view_count": null,
            "_view_module": "@jupyter-widgets/controls",
            "_view_module_version": "1.5.0",
            "_view_name": "HTMLView",
            "description": "",
            "description_tooltip": null,
            "layout": "IPY_MODEL_e36d629491d04daf84eb84f67615f624",
            "placeholder": "​",
            "style": "IPY_MODEL_e7e80df30bac4eabaf97067f3c2604b6",
            "value": " 51784/51785 [00:00&lt;00:00, 137022.94 examples/s]"
          }
        },
        "31208adff3774b128b3ede1acd6445e0": {
          "model_module": "@jupyter-widgets/base",
          "model_name": "LayoutModel",
          "model_module_version": "1.2.0",
          "state": {
            "_model_module": "@jupyter-widgets/base",
            "_model_module_version": "1.2.0",
            "_model_name": "LayoutModel",
            "_view_count": null,
            "_view_module": "@jupyter-widgets/base",
            "_view_module_version": "1.2.0",
            "_view_name": "LayoutView",
            "align_content": null,
            "align_items": null,
            "align_self": null,
            "border": null,
            "bottom": null,
            "display": null,
            "flex": null,
            "flex_flow": null,
            "grid_area": null,
            "grid_auto_columns": null,
            "grid_auto_flow": null,
            "grid_auto_rows": null,
            "grid_column": null,
            "grid_gap": null,
            "grid_row": null,
            "grid_template_areas": null,
            "grid_template_columns": null,
            "grid_template_rows": null,
            "height": null,
            "justify_content": null,
            "justify_items": null,
            "left": null,
            "margin": null,
            "max_height": null,
            "max_width": null,
            "min_height": null,
            "min_width": null,
            "object_fit": null,
            "object_position": null,
            "order": null,
            "overflow": null,
            "overflow_x": null,
            "overflow_y": null,
            "padding": null,
            "right": null,
            "top": null,
            "visibility": null,
            "width": null
          }
        },
        "852046d55bf44e5e89d60d8a635c33a7": {
          "model_module": "@jupyter-widgets/base",
          "model_name": "LayoutModel",
          "model_module_version": "1.2.0",
          "state": {
            "_model_module": "@jupyter-widgets/base",
            "_model_module_version": "1.2.0",
            "_model_name": "LayoutModel",
            "_view_count": null,
            "_view_module": "@jupyter-widgets/base",
            "_view_module_version": "1.2.0",
            "_view_name": "LayoutView",
            "align_content": null,
            "align_items": null,
            "align_self": null,
            "border": null,
            "bottom": null,
            "display": null,
            "flex": null,
            "flex_flow": null,
            "grid_area": null,
            "grid_auto_columns": null,
            "grid_auto_flow": null,
            "grid_auto_rows": null,
            "grid_column": null,
            "grid_gap": null,
            "grid_row": null,
            "grid_template_areas": null,
            "grid_template_columns": null,
            "grid_template_rows": null,
            "height": null,
            "justify_content": null,
            "justify_items": null,
            "left": null,
            "margin": null,
            "max_height": null,
            "max_width": null,
            "min_height": null,
            "min_width": null,
            "object_fit": null,
            "object_position": null,
            "order": null,
            "overflow": null,
            "overflow_x": null,
            "overflow_y": null,
            "padding": null,
            "right": null,
            "top": null,
            "visibility": null,
            "width": null
          }
        },
        "6307ce85330b4a1881aadf9950423e2b": {
          "model_module": "@jupyter-widgets/controls",
          "model_name": "DescriptionStyleModel",
          "model_module_version": "1.5.0",
          "state": {
            "_model_module": "@jupyter-widgets/controls",
            "_model_module_version": "1.5.0",
            "_model_name": "DescriptionStyleModel",
            "_view_count": null,
            "_view_module": "@jupyter-widgets/base",
            "_view_module_version": "1.2.0",
            "_view_name": "StyleView",
            "description_width": ""
          }
        },
        "07b4e7344b4b4f1f8225d53c5c0382ec": {
          "model_module": "@jupyter-widgets/base",
          "model_name": "LayoutModel",
          "model_module_version": "1.2.0",
          "state": {
            "_model_module": "@jupyter-widgets/base",
            "_model_module_version": "1.2.0",
            "_model_name": "LayoutModel",
            "_view_count": null,
            "_view_module": "@jupyter-widgets/base",
            "_view_module_version": "1.2.0",
            "_view_name": "LayoutView",
            "align_content": null,
            "align_items": null,
            "align_self": null,
            "border": null,
            "bottom": null,
            "display": null,
            "flex": null,
            "flex_flow": null,
            "grid_area": null,
            "grid_auto_columns": null,
            "grid_auto_flow": null,
            "grid_auto_rows": null,
            "grid_column": null,
            "grid_gap": null,
            "grid_row": null,
            "grid_template_areas": null,
            "grid_template_columns": null,
            "grid_template_rows": null,
            "height": null,
            "justify_content": null,
            "justify_items": null,
            "left": null,
            "margin": null,
            "max_height": null,
            "max_width": null,
            "min_height": null,
            "min_width": null,
            "object_fit": null,
            "object_position": null,
            "order": null,
            "overflow": null,
            "overflow_x": null,
            "overflow_y": null,
            "padding": null,
            "right": null,
            "top": null,
            "visibility": null,
            "width": null
          }
        },
        "e7d9cf3658294405abb075b4edf24534": {
          "model_module": "@jupyter-widgets/controls",
          "model_name": "ProgressStyleModel",
          "model_module_version": "1.5.0",
          "state": {
            "_model_module": "@jupyter-widgets/controls",
            "_model_module_version": "1.5.0",
            "_model_name": "ProgressStyleModel",
            "_view_count": null,
            "_view_module": "@jupyter-widgets/base",
            "_view_module_version": "1.2.0",
            "_view_name": "StyleView",
            "bar_color": null,
            "description_width": ""
          }
        },
        "e36d629491d04daf84eb84f67615f624": {
          "model_module": "@jupyter-widgets/base",
          "model_name": "LayoutModel",
          "model_module_version": "1.2.0",
          "state": {
            "_model_module": "@jupyter-widgets/base",
            "_model_module_version": "1.2.0",
            "_model_name": "LayoutModel",
            "_view_count": null,
            "_view_module": "@jupyter-widgets/base",
            "_view_module_version": "1.2.0",
            "_view_name": "LayoutView",
            "align_content": null,
            "align_items": null,
            "align_self": null,
            "border": null,
            "bottom": null,
            "display": null,
            "flex": null,
            "flex_flow": null,
            "grid_area": null,
            "grid_auto_columns": null,
            "grid_auto_flow": null,
            "grid_auto_rows": null,
            "grid_column": null,
            "grid_gap": null,
            "grid_row": null,
            "grid_template_areas": null,
            "grid_template_columns": null,
            "grid_template_rows": null,
            "height": null,
            "justify_content": null,
            "justify_items": null,
            "left": null,
            "margin": null,
            "max_height": null,
            "max_width": null,
            "min_height": null,
            "min_width": null,
            "object_fit": null,
            "object_position": null,
            "order": null,
            "overflow": null,
            "overflow_x": null,
            "overflow_y": null,
            "padding": null,
            "right": null,
            "top": null,
            "visibility": null,
            "width": null
          }
        },
        "e7e80df30bac4eabaf97067f3c2604b6": {
          "model_module": "@jupyter-widgets/controls",
          "model_name": "DescriptionStyleModel",
          "model_module_version": "1.5.0",
          "state": {
            "_model_module": "@jupyter-widgets/controls",
            "_model_module_version": "1.5.0",
            "_model_name": "DescriptionStyleModel",
            "_view_count": null,
            "_view_module": "@jupyter-widgets/base",
            "_view_module_version": "1.2.0",
            "_view_name": "StyleView",
            "description_width": ""
          }
        },
        "ddb07d487ccc4bc28a7897c19d7e2024": {
          "model_module": "@jupyter-widgets/controls",
          "model_name": "HBoxModel",
          "model_module_version": "1.5.0",
          "state": {
            "_dom_classes": [],
            "_model_module": "@jupyter-widgets/controls",
            "_model_module_version": "1.5.0",
            "_model_name": "HBoxModel",
            "_view_count": null,
            "_view_module": "@jupyter-widgets/controls",
            "_view_module_version": "1.5.0",
            "_view_name": "HBoxView",
            "box_style": "",
            "children": [
              "IPY_MODEL_eeef172572784a21b8347e555f648530",
              "IPY_MODEL_f3d861b5a1044a9090b72841dd887977",
              "IPY_MODEL_0c01f84fe7b0405e8a04c5af0d6902b1"
            ],
            "layout": "IPY_MODEL_f03f016e7a224a11928b0dca4dc861b2"
          }
        },
        "eeef172572784a21b8347e555f648530": {
          "model_module": "@jupyter-widgets/controls",
          "model_name": "HTMLModel",
          "model_module_version": "1.5.0",
          "state": {
            "_dom_classes": [],
            "_model_module": "@jupyter-widgets/controls",
            "_model_module_version": "1.5.0",
            "_model_name": "HTMLModel",
            "_view_count": null,
            "_view_module": "@jupyter-widgets/controls",
            "_view_module_version": "1.5.0",
            "_view_name": "HTMLView",
            "description": "",
            "description_tooltip": null,
            "layout": "IPY_MODEL_5c65535dc81c4afbb12b18860cc63338",
            "placeholder": "​",
            "style": "IPY_MODEL_13a87fd976fa4cf7aa28d0c9cf25868a",
            "value": ""
          }
        },
        "f3d861b5a1044a9090b72841dd887977": {
          "model_module": "@jupyter-widgets/controls",
          "model_name": "FloatProgressModel",
          "model_module_version": "1.5.0",
          "state": {
            "_dom_classes": [],
            "_model_module": "@jupyter-widgets/controls",
            "_model_module_version": "1.5.0",
            "_model_name": "FloatProgressModel",
            "_view_count": null,
            "_view_module": "@jupyter-widgets/controls",
            "_view_module_version": "1.5.0",
            "_view_name": "ProgressView",
            "bar_style": "info",
            "description": "",
            "description_tooltip": null,
            "layout": "IPY_MODEL_fde9b12781e948db9117b7acc6805023",
            "max": 1,
            "min": 0,
            "orientation": "horizontal",
            "style": "IPY_MODEL_5560934bc9e64d028495dfc28eae1b24",
            "value": 1
          }
        },
        "0c01f84fe7b0405e8a04c5af0d6902b1": {
          "model_module": "@jupyter-widgets/controls",
          "model_name": "HTMLModel",
          "model_module_version": "1.5.0",
          "state": {
            "_dom_classes": [],
            "_model_module": "@jupyter-widgets/controls",
            "_model_module_version": "1.5.0",
            "_model_name": "HTMLModel",
            "_view_count": null,
            "_view_module": "@jupyter-widgets/controls",
            "_view_module_version": "1.5.0",
            "_view_name": "HTMLView",
            "description": "",
            "description_tooltip": null,
            "layout": "IPY_MODEL_59e3df37bae94e95940189e5f783a7eb",
            "placeholder": "​",
            "style": "IPY_MODEL_4e3a36e25e644d0cb5181af16e42f963",
            "value": " 662/0 [00:00&lt;00:00, 3739.71 examples/s]"
          }
        },
        "f03f016e7a224a11928b0dca4dc861b2": {
          "model_module": "@jupyter-widgets/base",
          "model_name": "LayoutModel",
          "model_module_version": "1.2.0",
          "state": {
            "_model_module": "@jupyter-widgets/base",
            "_model_module_version": "1.2.0",
            "_model_name": "LayoutModel",
            "_view_count": null,
            "_view_module": "@jupyter-widgets/base",
            "_view_module_version": "1.2.0",
            "_view_name": "LayoutView",
            "align_content": null,
            "align_items": null,
            "align_self": null,
            "border": null,
            "bottom": null,
            "display": null,
            "flex": null,
            "flex_flow": null,
            "grid_area": null,
            "grid_auto_columns": null,
            "grid_auto_flow": null,
            "grid_auto_rows": null,
            "grid_column": null,
            "grid_gap": null,
            "grid_row": null,
            "grid_template_areas": null,
            "grid_template_columns": null,
            "grid_template_rows": null,
            "height": null,
            "justify_content": null,
            "justify_items": null,
            "left": null,
            "margin": null,
            "max_height": null,
            "max_width": null,
            "min_height": null,
            "min_width": null,
            "object_fit": null,
            "object_position": null,
            "order": null,
            "overflow": null,
            "overflow_x": null,
            "overflow_y": null,
            "padding": null,
            "right": null,
            "top": null,
            "visibility": null,
            "width": null
          }
        },
        "5c65535dc81c4afbb12b18860cc63338": {
          "model_module": "@jupyter-widgets/base",
          "model_name": "LayoutModel",
          "model_module_version": "1.2.0",
          "state": {
            "_model_module": "@jupyter-widgets/base",
            "_model_module_version": "1.2.0",
            "_model_name": "LayoutModel",
            "_view_count": null,
            "_view_module": "@jupyter-widgets/base",
            "_view_module_version": "1.2.0",
            "_view_name": "LayoutView",
            "align_content": null,
            "align_items": null,
            "align_self": null,
            "border": null,
            "bottom": null,
            "display": null,
            "flex": null,
            "flex_flow": null,
            "grid_area": null,
            "grid_auto_columns": null,
            "grid_auto_flow": null,
            "grid_auto_rows": null,
            "grid_column": null,
            "grid_gap": null,
            "grid_row": null,
            "grid_template_areas": null,
            "grid_template_columns": null,
            "grid_template_rows": null,
            "height": null,
            "justify_content": null,
            "justify_items": null,
            "left": null,
            "margin": null,
            "max_height": null,
            "max_width": null,
            "min_height": null,
            "min_width": null,
            "object_fit": null,
            "object_position": null,
            "order": null,
            "overflow": null,
            "overflow_x": null,
            "overflow_y": null,
            "padding": null,
            "right": null,
            "top": null,
            "visibility": null,
            "width": null
          }
        },
        "13a87fd976fa4cf7aa28d0c9cf25868a": {
          "model_module": "@jupyter-widgets/controls",
          "model_name": "DescriptionStyleModel",
          "model_module_version": "1.5.0",
          "state": {
            "_model_module": "@jupyter-widgets/controls",
            "_model_module_version": "1.5.0",
            "_model_name": "DescriptionStyleModel",
            "_view_count": null,
            "_view_module": "@jupyter-widgets/base",
            "_view_module_version": "1.2.0",
            "_view_name": "StyleView",
            "description_width": ""
          }
        },
        "fde9b12781e948db9117b7acc6805023": {
          "model_module": "@jupyter-widgets/base",
          "model_name": "LayoutModel",
          "model_module_version": "1.2.0",
          "state": {
            "_model_module": "@jupyter-widgets/base",
            "_model_module_version": "1.2.0",
            "_model_name": "LayoutModel",
            "_view_count": null,
            "_view_module": "@jupyter-widgets/base",
            "_view_module_version": "1.2.0",
            "_view_name": "LayoutView",
            "align_content": null,
            "align_items": null,
            "align_self": null,
            "border": null,
            "bottom": null,
            "display": null,
            "flex": null,
            "flex_flow": null,
            "grid_area": null,
            "grid_auto_columns": null,
            "grid_auto_flow": null,
            "grid_auto_rows": null,
            "grid_column": null,
            "grid_gap": null,
            "grid_row": null,
            "grid_template_areas": null,
            "grid_template_columns": null,
            "grid_template_rows": null,
            "height": null,
            "justify_content": null,
            "justify_items": null,
            "left": null,
            "margin": null,
            "max_height": null,
            "max_width": null,
            "min_height": null,
            "min_width": null,
            "object_fit": null,
            "object_position": null,
            "order": null,
            "overflow": null,
            "overflow_x": null,
            "overflow_y": null,
            "padding": null,
            "right": null,
            "top": null,
            "visibility": null,
            "width": "20px"
          }
        },
        "5560934bc9e64d028495dfc28eae1b24": {
          "model_module": "@jupyter-widgets/controls",
          "model_name": "ProgressStyleModel",
          "model_module_version": "1.5.0",
          "state": {
            "_model_module": "@jupyter-widgets/controls",
            "_model_module_version": "1.5.0",
            "_model_name": "ProgressStyleModel",
            "_view_count": null,
            "_view_module": "@jupyter-widgets/base",
            "_view_module_version": "1.2.0",
            "_view_name": "StyleView",
            "bar_color": null,
            "description_width": ""
          }
        },
        "59e3df37bae94e95940189e5f783a7eb": {
          "model_module": "@jupyter-widgets/base",
          "model_name": "LayoutModel",
          "model_module_version": "1.2.0",
          "state": {
            "_model_module": "@jupyter-widgets/base",
            "_model_module_version": "1.2.0",
            "_model_name": "LayoutModel",
            "_view_count": null,
            "_view_module": "@jupyter-widgets/base",
            "_view_module_version": "1.2.0",
            "_view_name": "LayoutView",
            "align_content": null,
            "align_items": null,
            "align_self": null,
            "border": null,
            "bottom": null,
            "display": null,
            "flex": null,
            "flex_flow": null,
            "grid_area": null,
            "grid_auto_columns": null,
            "grid_auto_flow": null,
            "grid_auto_rows": null,
            "grid_column": null,
            "grid_gap": null,
            "grid_row": null,
            "grid_template_areas": null,
            "grid_template_columns": null,
            "grid_template_rows": null,
            "height": null,
            "justify_content": null,
            "justify_items": null,
            "left": null,
            "margin": null,
            "max_height": null,
            "max_width": null,
            "min_height": null,
            "min_width": null,
            "object_fit": null,
            "object_position": null,
            "order": null,
            "overflow": null,
            "overflow_x": null,
            "overflow_y": null,
            "padding": null,
            "right": null,
            "top": null,
            "visibility": null,
            "width": null
          }
        },
        "4e3a36e25e644d0cb5181af16e42f963": {
          "model_module": "@jupyter-widgets/controls",
          "model_name": "DescriptionStyleModel",
          "model_module_version": "1.5.0",
          "state": {
            "_model_module": "@jupyter-widgets/controls",
            "_model_module_version": "1.5.0",
            "_model_name": "DescriptionStyleModel",
            "_view_count": null,
            "_view_module": "@jupyter-widgets/base",
            "_view_module_version": "1.2.0",
            "_view_name": "StyleView",
            "description_width": ""
          }
        },
        "7751e9cb097d4b9cbad19152c9828093": {
          "model_module": "@jupyter-widgets/controls",
          "model_name": "HBoxModel",
          "model_module_version": "1.5.0",
          "state": {
            "_dom_classes": [],
            "_model_module": "@jupyter-widgets/controls",
            "_model_module_version": "1.5.0",
            "_model_name": "HBoxModel",
            "_view_count": null,
            "_view_module": "@jupyter-widgets/controls",
            "_view_module_version": "1.5.0",
            "_view_name": "HBoxView",
            "box_style": "",
            "children": [
              "IPY_MODEL_8343c67110a3425185aff474df488c70",
              "IPY_MODEL_50a2b2e02a6e4fe1a608aca2122f358a",
              "IPY_MODEL_0096a678c7d64228bdbee412bb11d6ad"
            ],
            "layout": "IPY_MODEL_9d5ad12545ce4e5687ee66ab919efcbc"
          }
        },
        "8343c67110a3425185aff474df488c70": {
          "model_module": "@jupyter-widgets/controls",
          "model_name": "HTMLModel",
          "model_module_version": "1.5.0",
          "state": {
            "_dom_classes": [],
            "_model_module": "@jupyter-widgets/controls",
            "_model_module_version": "1.5.0",
            "_model_name": "HTMLModel",
            "_view_count": null,
            "_view_module": "@jupyter-widgets/controls",
            "_view_module_version": "1.5.0",
            "_view_name": "HTMLView",
            "description": "",
            "description_tooltip": null,
            "layout": "IPY_MODEL_d2d064a0544346eeb37b47d79a9349e6",
            "placeholder": "​",
            "style": "IPY_MODEL_7d6928954f43466ba40f906689cf9926",
            "value": "100%"
          }
        },
        "50a2b2e02a6e4fe1a608aca2122f358a": {
          "model_module": "@jupyter-widgets/controls",
          "model_name": "FloatProgressModel",
          "model_module_version": "1.5.0",
          "state": {
            "_dom_classes": [],
            "_model_module": "@jupyter-widgets/controls",
            "_model_module_version": "1.5.0",
            "_model_name": "FloatProgressModel",
            "_view_count": null,
            "_view_module": "@jupyter-widgets/controls",
            "_view_module_version": "1.5.0",
            "_view_name": "ProgressView",
            "bar_style": "danger",
            "description": "",
            "description_tooltip": null,
            "layout": "IPY_MODEL_9b55b0c8635b439fa781d5b137f5c9ea",
            "max": 1193,
            "min": 0,
            "orientation": "horizontal",
            "style": "IPY_MODEL_08b5995260e249fa832efa6446e9e7fc",
            "value": 1192
          }
        },
        "0096a678c7d64228bdbee412bb11d6ad": {
          "model_module": "@jupyter-widgets/controls",
          "model_name": "HTMLModel",
          "model_module_version": "1.5.0",
          "state": {
            "_dom_classes": [],
            "_model_module": "@jupyter-widgets/controls",
            "_model_module_version": "1.5.0",
            "_model_name": "HTMLModel",
            "_view_count": null,
            "_view_module": "@jupyter-widgets/controls",
            "_view_module_version": "1.5.0",
            "_view_name": "HTMLView",
            "description": "",
            "description_tooltip": null,
            "layout": "IPY_MODEL_86d859dc63364a9e97e2245c98e2fb97",
            "placeholder": "​",
            "style": "IPY_MODEL_88f4f8e9760744499439416adc73fd0d",
            "value": " 1192/1193 [00:00&lt;00:00, 21700.64 examples/s]"
          }
        },
        "9d5ad12545ce4e5687ee66ab919efcbc": {
          "model_module": "@jupyter-widgets/base",
          "model_name": "LayoutModel",
          "model_module_version": "1.2.0",
          "state": {
            "_model_module": "@jupyter-widgets/base",
            "_model_module_version": "1.2.0",
            "_model_name": "LayoutModel",
            "_view_count": null,
            "_view_module": "@jupyter-widgets/base",
            "_view_module_version": "1.2.0",
            "_view_name": "LayoutView",
            "align_content": null,
            "align_items": null,
            "align_self": null,
            "border": null,
            "bottom": null,
            "display": null,
            "flex": null,
            "flex_flow": null,
            "grid_area": null,
            "grid_auto_columns": null,
            "grid_auto_flow": null,
            "grid_auto_rows": null,
            "grid_column": null,
            "grid_gap": null,
            "grid_row": null,
            "grid_template_areas": null,
            "grid_template_columns": null,
            "grid_template_rows": null,
            "height": null,
            "justify_content": null,
            "justify_items": null,
            "left": null,
            "margin": null,
            "max_height": null,
            "max_width": null,
            "min_height": null,
            "min_width": null,
            "object_fit": null,
            "object_position": null,
            "order": null,
            "overflow": null,
            "overflow_x": null,
            "overflow_y": null,
            "padding": null,
            "right": null,
            "top": null,
            "visibility": null,
            "width": null
          }
        },
        "d2d064a0544346eeb37b47d79a9349e6": {
          "model_module": "@jupyter-widgets/base",
          "model_name": "LayoutModel",
          "model_module_version": "1.2.0",
          "state": {
            "_model_module": "@jupyter-widgets/base",
            "_model_module_version": "1.2.0",
            "_model_name": "LayoutModel",
            "_view_count": null,
            "_view_module": "@jupyter-widgets/base",
            "_view_module_version": "1.2.0",
            "_view_name": "LayoutView",
            "align_content": null,
            "align_items": null,
            "align_self": null,
            "border": null,
            "bottom": null,
            "display": null,
            "flex": null,
            "flex_flow": null,
            "grid_area": null,
            "grid_auto_columns": null,
            "grid_auto_flow": null,
            "grid_auto_rows": null,
            "grid_column": null,
            "grid_gap": null,
            "grid_row": null,
            "grid_template_areas": null,
            "grid_template_columns": null,
            "grid_template_rows": null,
            "height": null,
            "justify_content": null,
            "justify_items": null,
            "left": null,
            "margin": null,
            "max_height": null,
            "max_width": null,
            "min_height": null,
            "min_width": null,
            "object_fit": null,
            "object_position": null,
            "order": null,
            "overflow": null,
            "overflow_x": null,
            "overflow_y": null,
            "padding": null,
            "right": null,
            "top": null,
            "visibility": null,
            "width": null
          }
        },
        "7d6928954f43466ba40f906689cf9926": {
          "model_module": "@jupyter-widgets/controls",
          "model_name": "DescriptionStyleModel",
          "model_module_version": "1.5.0",
          "state": {
            "_model_module": "@jupyter-widgets/controls",
            "_model_module_version": "1.5.0",
            "_model_name": "DescriptionStyleModel",
            "_view_count": null,
            "_view_module": "@jupyter-widgets/base",
            "_view_module_version": "1.2.0",
            "_view_name": "StyleView",
            "description_width": ""
          }
        },
        "9b55b0c8635b439fa781d5b137f5c9ea": {
          "model_module": "@jupyter-widgets/base",
          "model_name": "LayoutModel",
          "model_module_version": "1.2.0",
          "state": {
            "_model_module": "@jupyter-widgets/base",
            "_model_module_version": "1.2.0",
            "_model_name": "LayoutModel",
            "_view_count": null,
            "_view_module": "@jupyter-widgets/base",
            "_view_module_version": "1.2.0",
            "_view_name": "LayoutView",
            "align_content": null,
            "align_items": null,
            "align_self": null,
            "border": null,
            "bottom": null,
            "display": null,
            "flex": null,
            "flex_flow": null,
            "grid_area": null,
            "grid_auto_columns": null,
            "grid_auto_flow": null,
            "grid_auto_rows": null,
            "grid_column": null,
            "grid_gap": null,
            "grid_row": null,
            "grid_template_areas": null,
            "grid_template_columns": null,
            "grid_template_rows": null,
            "height": null,
            "justify_content": null,
            "justify_items": null,
            "left": null,
            "margin": null,
            "max_height": null,
            "max_width": null,
            "min_height": null,
            "min_width": null,
            "object_fit": null,
            "object_position": null,
            "order": null,
            "overflow": null,
            "overflow_x": null,
            "overflow_y": null,
            "padding": null,
            "right": null,
            "top": null,
            "visibility": null,
            "width": null
          }
        },
        "08b5995260e249fa832efa6446e9e7fc": {
          "model_module": "@jupyter-widgets/controls",
          "model_name": "ProgressStyleModel",
          "model_module_version": "1.5.0",
          "state": {
            "_model_module": "@jupyter-widgets/controls",
            "_model_module_version": "1.5.0",
            "_model_name": "ProgressStyleModel",
            "_view_count": null,
            "_view_module": "@jupyter-widgets/base",
            "_view_module_version": "1.2.0",
            "_view_name": "StyleView",
            "bar_color": null,
            "description_width": ""
          }
        },
        "86d859dc63364a9e97e2245c98e2fb97": {
          "model_module": "@jupyter-widgets/base",
          "model_name": "LayoutModel",
          "model_module_version": "1.2.0",
          "state": {
            "_model_module": "@jupyter-widgets/base",
            "_model_module_version": "1.2.0",
            "_model_name": "LayoutModel",
            "_view_count": null,
            "_view_module": "@jupyter-widgets/base",
            "_view_module_version": "1.2.0",
            "_view_name": "LayoutView",
            "align_content": null,
            "align_items": null,
            "align_self": null,
            "border": null,
            "bottom": null,
            "display": null,
            "flex": null,
            "flex_flow": null,
            "grid_area": null,
            "grid_auto_columns": null,
            "grid_auto_flow": null,
            "grid_auto_rows": null,
            "grid_column": null,
            "grid_gap": null,
            "grid_row": null,
            "grid_template_areas": null,
            "grid_template_columns": null,
            "grid_template_rows": null,
            "height": null,
            "justify_content": null,
            "justify_items": null,
            "left": null,
            "margin": null,
            "max_height": null,
            "max_width": null,
            "min_height": null,
            "min_width": null,
            "object_fit": null,
            "object_position": null,
            "order": null,
            "overflow": null,
            "overflow_x": null,
            "overflow_y": null,
            "padding": null,
            "right": null,
            "top": null,
            "visibility": null,
            "width": null
          }
        },
        "88f4f8e9760744499439416adc73fd0d": {
          "model_module": "@jupyter-widgets/controls",
          "model_name": "DescriptionStyleModel",
          "model_module_version": "1.5.0",
          "state": {
            "_model_module": "@jupyter-widgets/controls",
            "_model_module_version": "1.5.0",
            "_model_name": "DescriptionStyleModel",
            "_view_count": null,
            "_view_module": "@jupyter-widgets/base",
            "_view_module_version": "1.2.0",
            "_view_name": "StyleView",
            "description_width": ""
          }
        },
        "6a3c52bd9a8e4b6baaba271308c24acf": {
          "model_module": "@jupyter-widgets/controls",
          "model_name": "HBoxModel",
          "model_module_version": "1.5.0",
          "state": {
            "_dom_classes": [],
            "_model_module": "@jupyter-widgets/controls",
            "_model_module_version": "1.5.0",
            "_model_name": "HBoxModel",
            "_view_count": null,
            "_view_module": "@jupyter-widgets/controls",
            "_view_module_version": "1.5.0",
            "_view_name": "HBoxView",
            "box_style": "",
            "children": [
              "IPY_MODEL_4801c43d36d34a5b9b1de3bb823406b7",
              "IPY_MODEL_40aebc51828944ad9131353ef774d66e",
              "IPY_MODEL_c7c478340604441796c8c1be62ef456d"
            ],
            "layout": "IPY_MODEL_03a51da6fa424436b72b9e92f8ec629b"
          }
        },
        "4801c43d36d34a5b9b1de3bb823406b7": {
          "model_module": "@jupyter-widgets/controls",
          "model_name": "HTMLModel",
          "model_module_version": "1.5.0",
          "state": {
            "_dom_classes": [],
            "_model_module": "@jupyter-widgets/controls",
            "_model_module_version": "1.5.0",
            "_model_name": "HTMLModel",
            "_view_count": null,
            "_view_module": "@jupyter-widgets/controls",
            "_view_module_version": "1.5.0",
            "_view_name": "HTMLView",
            "description": "",
            "description_tooltip": null,
            "layout": "IPY_MODEL_17761b35995c435ebd43400bab8bbe25",
            "placeholder": "​",
            "style": "IPY_MODEL_8c14762b60114b5cacd835c9bf3be4da",
            "value": ""
          }
        },
        "40aebc51828944ad9131353ef774d66e": {
          "model_module": "@jupyter-widgets/controls",
          "model_name": "FloatProgressModel",
          "model_module_version": "1.5.0",
          "state": {
            "_dom_classes": [],
            "_model_module": "@jupyter-widgets/controls",
            "_model_module_version": "1.5.0",
            "_model_name": "FloatProgressModel",
            "_view_count": null,
            "_view_module": "@jupyter-widgets/controls",
            "_view_module_version": "1.5.0",
            "_view_name": "ProgressView",
            "bar_style": "info",
            "description": "",
            "description_tooltip": null,
            "layout": "IPY_MODEL_45cd77538b1f411ca848e8cf6caa86db",
            "max": 1,
            "min": 0,
            "orientation": "horizontal",
            "style": "IPY_MODEL_46855da8d7f44881b2036f9478bcc167",
            "value": 1
          }
        },
        "c7c478340604441796c8c1be62ef456d": {
          "model_module": "@jupyter-widgets/controls",
          "model_name": "HTMLModel",
          "model_module_version": "1.5.0",
          "state": {
            "_dom_classes": [],
            "_model_module": "@jupyter-widgets/controls",
            "_model_module_version": "1.5.0",
            "_model_name": "HTMLModel",
            "_view_count": null,
            "_view_module": "@jupyter-widgets/controls",
            "_view_module_version": "1.5.0",
            "_view_name": "HTMLView",
            "description": "",
            "description_tooltip": null,
            "layout": "IPY_MODEL_61e67def917a401d8341ab9d3ccfb511",
            "placeholder": "​",
            "style": "IPY_MODEL_4a132d397c6f42238b4cd24c6f0a7361",
            "value": " 1777/0 [00:00&lt;00:00, 5107.57 examples/s]"
          }
        },
        "03a51da6fa424436b72b9e92f8ec629b": {
          "model_module": "@jupyter-widgets/base",
          "model_name": "LayoutModel",
          "model_module_version": "1.2.0",
          "state": {
            "_model_module": "@jupyter-widgets/base",
            "_model_module_version": "1.2.0",
            "_model_name": "LayoutModel",
            "_view_count": null,
            "_view_module": "@jupyter-widgets/base",
            "_view_module_version": "1.2.0",
            "_view_name": "LayoutView",
            "align_content": null,
            "align_items": null,
            "align_self": null,
            "border": null,
            "bottom": null,
            "display": null,
            "flex": null,
            "flex_flow": null,
            "grid_area": null,
            "grid_auto_columns": null,
            "grid_auto_flow": null,
            "grid_auto_rows": null,
            "grid_column": null,
            "grid_gap": null,
            "grid_row": null,
            "grid_template_areas": null,
            "grid_template_columns": null,
            "grid_template_rows": null,
            "height": null,
            "justify_content": null,
            "justify_items": null,
            "left": null,
            "margin": null,
            "max_height": null,
            "max_width": null,
            "min_height": null,
            "min_width": null,
            "object_fit": null,
            "object_position": null,
            "order": null,
            "overflow": null,
            "overflow_x": null,
            "overflow_y": null,
            "padding": null,
            "right": null,
            "top": null,
            "visibility": null,
            "width": null
          }
        },
        "17761b35995c435ebd43400bab8bbe25": {
          "model_module": "@jupyter-widgets/base",
          "model_name": "LayoutModel",
          "model_module_version": "1.2.0",
          "state": {
            "_model_module": "@jupyter-widgets/base",
            "_model_module_version": "1.2.0",
            "_model_name": "LayoutModel",
            "_view_count": null,
            "_view_module": "@jupyter-widgets/base",
            "_view_module_version": "1.2.0",
            "_view_name": "LayoutView",
            "align_content": null,
            "align_items": null,
            "align_self": null,
            "border": null,
            "bottom": null,
            "display": null,
            "flex": null,
            "flex_flow": null,
            "grid_area": null,
            "grid_auto_columns": null,
            "grid_auto_flow": null,
            "grid_auto_rows": null,
            "grid_column": null,
            "grid_gap": null,
            "grid_row": null,
            "grid_template_areas": null,
            "grid_template_columns": null,
            "grid_template_rows": null,
            "height": null,
            "justify_content": null,
            "justify_items": null,
            "left": null,
            "margin": null,
            "max_height": null,
            "max_width": null,
            "min_height": null,
            "min_width": null,
            "object_fit": null,
            "object_position": null,
            "order": null,
            "overflow": null,
            "overflow_x": null,
            "overflow_y": null,
            "padding": null,
            "right": null,
            "top": null,
            "visibility": null,
            "width": null
          }
        },
        "8c14762b60114b5cacd835c9bf3be4da": {
          "model_module": "@jupyter-widgets/controls",
          "model_name": "DescriptionStyleModel",
          "model_module_version": "1.5.0",
          "state": {
            "_model_module": "@jupyter-widgets/controls",
            "_model_module_version": "1.5.0",
            "_model_name": "DescriptionStyleModel",
            "_view_count": null,
            "_view_module": "@jupyter-widgets/base",
            "_view_module_version": "1.2.0",
            "_view_name": "StyleView",
            "description_width": ""
          }
        },
        "45cd77538b1f411ca848e8cf6caa86db": {
          "model_module": "@jupyter-widgets/base",
          "model_name": "LayoutModel",
          "model_module_version": "1.2.0",
          "state": {
            "_model_module": "@jupyter-widgets/base",
            "_model_module_version": "1.2.0",
            "_model_name": "LayoutModel",
            "_view_count": null,
            "_view_module": "@jupyter-widgets/base",
            "_view_module_version": "1.2.0",
            "_view_name": "LayoutView",
            "align_content": null,
            "align_items": null,
            "align_self": null,
            "border": null,
            "bottom": null,
            "display": null,
            "flex": null,
            "flex_flow": null,
            "grid_area": null,
            "grid_auto_columns": null,
            "grid_auto_flow": null,
            "grid_auto_rows": null,
            "grid_column": null,
            "grid_gap": null,
            "grid_row": null,
            "grid_template_areas": null,
            "grid_template_columns": null,
            "grid_template_rows": null,
            "height": null,
            "justify_content": null,
            "justify_items": null,
            "left": null,
            "margin": null,
            "max_height": null,
            "max_width": null,
            "min_height": null,
            "min_width": null,
            "object_fit": null,
            "object_position": null,
            "order": null,
            "overflow": null,
            "overflow_x": null,
            "overflow_y": null,
            "padding": null,
            "right": null,
            "top": null,
            "visibility": null,
            "width": "20px"
          }
        },
        "46855da8d7f44881b2036f9478bcc167": {
          "model_module": "@jupyter-widgets/controls",
          "model_name": "ProgressStyleModel",
          "model_module_version": "1.5.0",
          "state": {
            "_model_module": "@jupyter-widgets/controls",
            "_model_module_version": "1.5.0",
            "_model_name": "ProgressStyleModel",
            "_view_count": null,
            "_view_module": "@jupyter-widgets/base",
            "_view_module_version": "1.2.0",
            "_view_name": "StyleView",
            "bar_color": null,
            "description_width": ""
          }
        },
        "61e67def917a401d8341ab9d3ccfb511": {
          "model_module": "@jupyter-widgets/base",
          "model_name": "LayoutModel",
          "model_module_version": "1.2.0",
          "state": {
            "_model_module": "@jupyter-widgets/base",
            "_model_module_version": "1.2.0",
            "_model_name": "LayoutModel",
            "_view_count": null,
            "_view_module": "@jupyter-widgets/base",
            "_view_module_version": "1.2.0",
            "_view_name": "LayoutView",
            "align_content": null,
            "align_items": null,
            "align_self": null,
            "border": null,
            "bottom": null,
            "display": null,
            "flex": null,
            "flex_flow": null,
            "grid_area": null,
            "grid_auto_columns": null,
            "grid_auto_flow": null,
            "grid_auto_rows": null,
            "grid_column": null,
            "grid_gap": null,
            "grid_row": null,
            "grid_template_areas": null,
            "grid_template_columns": null,
            "grid_template_rows": null,
            "height": null,
            "justify_content": null,
            "justify_items": null,
            "left": null,
            "margin": null,
            "max_height": null,
            "max_width": null,
            "min_height": null,
            "min_width": null,
            "object_fit": null,
            "object_position": null,
            "order": null,
            "overflow": null,
            "overflow_x": null,
            "overflow_y": null,
            "padding": null,
            "right": null,
            "top": null,
            "visibility": null,
            "width": null
          }
        },
        "4a132d397c6f42238b4cd24c6f0a7361": {
          "model_module": "@jupyter-widgets/controls",
          "model_name": "DescriptionStyleModel",
          "model_module_version": "1.5.0",
          "state": {
            "_model_module": "@jupyter-widgets/controls",
            "_model_module_version": "1.5.0",
            "_model_name": "DescriptionStyleModel",
            "_view_count": null,
            "_view_module": "@jupyter-widgets/base",
            "_view_module_version": "1.2.0",
            "_view_name": "StyleView",
            "description_width": ""
          }
        },
        "c8cfb49232604a27a217ff28e3d0f101": {
          "model_module": "@jupyter-widgets/controls",
          "model_name": "HBoxModel",
          "model_module_version": "1.5.0",
          "state": {
            "_dom_classes": [],
            "_model_module": "@jupyter-widgets/controls",
            "_model_module_version": "1.5.0",
            "_model_name": "HBoxModel",
            "_view_count": null,
            "_view_module": "@jupyter-widgets/controls",
            "_view_module_version": "1.5.0",
            "_view_name": "HBoxView",
            "box_style": "",
            "children": [
              "IPY_MODEL_a4f5fce2215a44a8b23ef774f602431d",
              "IPY_MODEL_020a6bb950c04ae892a265a5f5785f6b",
              "IPY_MODEL_7dcdbdc1693c460bbcdb71f003a9f1a4"
            ],
            "layout": "IPY_MODEL_3a423656946945eba6021418b47fc330"
          }
        },
        "a4f5fce2215a44a8b23ef774f602431d": {
          "model_module": "@jupyter-widgets/controls",
          "model_name": "HTMLModel",
          "model_module_version": "1.5.0",
          "state": {
            "_dom_classes": [],
            "_model_module": "@jupyter-widgets/controls",
            "_model_module_version": "1.5.0",
            "_model_name": "HTMLModel",
            "_view_count": null,
            "_view_module": "@jupyter-widgets/controls",
            "_view_module_version": "1.5.0",
            "_view_name": "HTMLView",
            "description": "",
            "description_tooltip": null,
            "layout": "IPY_MODEL_4136a85e5945445c9b659804259620c7",
            "placeholder": "​",
            "style": "IPY_MODEL_d5fdf154a7f740f39356ef64007abd5f",
            "value": "100%"
          }
        },
        "020a6bb950c04ae892a265a5f5785f6b": {
          "model_module": "@jupyter-widgets/controls",
          "model_name": "FloatProgressModel",
          "model_module_version": "1.5.0",
          "state": {
            "_dom_classes": [],
            "_model_module": "@jupyter-widgets/controls",
            "_model_module_version": "1.5.0",
            "_model_name": "FloatProgressModel",
            "_view_count": null,
            "_view_module": "@jupyter-widgets/controls",
            "_view_module_version": "1.5.0",
            "_view_name": "ProgressView",
            "bar_style": "danger",
            "description": "",
            "description_tooltip": null,
            "layout": "IPY_MODEL_a4c2b7743c4946a99ce024920a8d092e",
            "max": 1803,
            "min": 0,
            "orientation": "horizontal",
            "style": "IPY_MODEL_c5f30927ac8d4b70a2d477188c23a380",
            "value": 1802
          }
        },
        "7dcdbdc1693c460bbcdb71f003a9f1a4": {
          "model_module": "@jupyter-widgets/controls",
          "model_name": "HTMLModel",
          "model_module_version": "1.5.0",
          "state": {
            "_dom_classes": [],
            "_model_module": "@jupyter-widgets/controls",
            "_model_module_version": "1.5.0",
            "_model_name": "HTMLModel",
            "_view_count": null,
            "_view_module": "@jupyter-widgets/controls",
            "_view_module_version": "1.5.0",
            "_view_name": "HTMLView",
            "description": "",
            "description_tooltip": null,
            "layout": "IPY_MODEL_2b6a1b56ac2f4cddb687ddaaa0b80548",
            "placeholder": "​",
            "style": "IPY_MODEL_1584202b51cc49818663d28baadc1723",
            "value": " 1802/1803 [00:00&lt;00:00, 36319.56 examples/s]"
          }
        },
        "3a423656946945eba6021418b47fc330": {
          "model_module": "@jupyter-widgets/base",
          "model_name": "LayoutModel",
          "model_module_version": "1.2.0",
          "state": {
            "_model_module": "@jupyter-widgets/base",
            "_model_module_version": "1.2.0",
            "_model_name": "LayoutModel",
            "_view_count": null,
            "_view_module": "@jupyter-widgets/base",
            "_view_module_version": "1.2.0",
            "_view_name": "LayoutView",
            "align_content": null,
            "align_items": null,
            "align_self": null,
            "border": null,
            "bottom": null,
            "display": null,
            "flex": null,
            "flex_flow": null,
            "grid_area": null,
            "grid_auto_columns": null,
            "grid_auto_flow": null,
            "grid_auto_rows": null,
            "grid_column": null,
            "grid_gap": null,
            "grid_row": null,
            "grid_template_areas": null,
            "grid_template_columns": null,
            "grid_template_rows": null,
            "height": null,
            "justify_content": null,
            "justify_items": null,
            "left": null,
            "margin": null,
            "max_height": null,
            "max_width": null,
            "min_height": null,
            "min_width": null,
            "object_fit": null,
            "object_position": null,
            "order": null,
            "overflow": null,
            "overflow_x": null,
            "overflow_y": null,
            "padding": null,
            "right": null,
            "top": null,
            "visibility": null,
            "width": null
          }
        },
        "4136a85e5945445c9b659804259620c7": {
          "model_module": "@jupyter-widgets/base",
          "model_name": "LayoutModel",
          "model_module_version": "1.2.0",
          "state": {
            "_model_module": "@jupyter-widgets/base",
            "_model_module_version": "1.2.0",
            "_model_name": "LayoutModel",
            "_view_count": null,
            "_view_module": "@jupyter-widgets/base",
            "_view_module_version": "1.2.0",
            "_view_name": "LayoutView",
            "align_content": null,
            "align_items": null,
            "align_self": null,
            "border": null,
            "bottom": null,
            "display": null,
            "flex": null,
            "flex_flow": null,
            "grid_area": null,
            "grid_auto_columns": null,
            "grid_auto_flow": null,
            "grid_auto_rows": null,
            "grid_column": null,
            "grid_gap": null,
            "grid_row": null,
            "grid_template_areas": null,
            "grid_template_columns": null,
            "grid_template_rows": null,
            "height": null,
            "justify_content": null,
            "justify_items": null,
            "left": null,
            "margin": null,
            "max_height": null,
            "max_width": null,
            "min_height": null,
            "min_width": null,
            "object_fit": null,
            "object_position": null,
            "order": null,
            "overflow": null,
            "overflow_x": null,
            "overflow_y": null,
            "padding": null,
            "right": null,
            "top": null,
            "visibility": null,
            "width": null
          }
        },
        "d5fdf154a7f740f39356ef64007abd5f": {
          "model_module": "@jupyter-widgets/controls",
          "model_name": "DescriptionStyleModel",
          "model_module_version": "1.5.0",
          "state": {
            "_model_module": "@jupyter-widgets/controls",
            "_model_module_version": "1.5.0",
            "_model_name": "DescriptionStyleModel",
            "_view_count": null,
            "_view_module": "@jupyter-widgets/base",
            "_view_module_version": "1.2.0",
            "_view_name": "StyleView",
            "description_width": ""
          }
        },
        "a4c2b7743c4946a99ce024920a8d092e": {
          "model_module": "@jupyter-widgets/base",
          "model_name": "LayoutModel",
          "model_module_version": "1.2.0",
          "state": {
            "_model_module": "@jupyter-widgets/base",
            "_model_module_version": "1.2.0",
            "_model_name": "LayoutModel",
            "_view_count": null,
            "_view_module": "@jupyter-widgets/base",
            "_view_module_version": "1.2.0",
            "_view_name": "LayoutView",
            "align_content": null,
            "align_items": null,
            "align_self": null,
            "border": null,
            "bottom": null,
            "display": null,
            "flex": null,
            "flex_flow": null,
            "grid_area": null,
            "grid_auto_columns": null,
            "grid_auto_flow": null,
            "grid_auto_rows": null,
            "grid_column": null,
            "grid_gap": null,
            "grid_row": null,
            "grid_template_areas": null,
            "grid_template_columns": null,
            "grid_template_rows": null,
            "height": null,
            "justify_content": null,
            "justify_items": null,
            "left": null,
            "margin": null,
            "max_height": null,
            "max_width": null,
            "min_height": null,
            "min_width": null,
            "object_fit": null,
            "object_position": null,
            "order": null,
            "overflow": null,
            "overflow_x": null,
            "overflow_y": null,
            "padding": null,
            "right": null,
            "top": null,
            "visibility": null,
            "width": null
          }
        },
        "c5f30927ac8d4b70a2d477188c23a380": {
          "model_module": "@jupyter-widgets/controls",
          "model_name": "ProgressStyleModel",
          "model_module_version": "1.5.0",
          "state": {
            "_model_module": "@jupyter-widgets/controls",
            "_model_module_version": "1.5.0",
            "_model_name": "ProgressStyleModel",
            "_view_count": null,
            "_view_module": "@jupyter-widgets/base",
            "_view_module_version": "1.2.0",
            "_view_name": "StyleView",
            "bar_color": null,
            "description_width": ""
          }
        },
        "2b6a1b56ac2f4cddb687ddaaa0b80548": {
          "model_module": "@jupyter-widgets/base",
          "model_name": "LayoutModel",
          "model_module_version": "1.2.0",
          "state": {
            "_model_module": "@jupyter-widgets/base",
            "_model_module_version": "1.2.0",
            "_model_name": "LayoutModel",
            "_view_count": null,
            "_view_module": "@jupyter-widgets/base",
            "_view_module_version": "1.2.0",
            "_view_name": "LayoutView",
            "align_content": null,
            "align_items": null,
            "align_self": null,
            "border": null,
            "bottom": null,
            "display": null,
            "flex": null,
            "flex_flow": null,
            "grid_area": null,
            "grid_auto_columns": null,
            "grid_auto_flow": null,
            "grid_auto_rows": null,
            "grid_column": null,
            "grid_gap": null,
            "grid_row": null,
            "grid_template_areas": null,
            "grid_template_columns": null,
            "grid_template_rows": null,
            "height": null,
            "justify_content": null,
            "justify_items": null,
            "left": null,
            "margin": null,
            "max_height": null,
            "max_width": null,
            "min_height": null,
            "min_width": null,
            "object_fit": null,
            "object_position": null,
            "order": null,
            "overflow": null,
            "overflow_x": null,
            "overflow_y": null,
            "padding": null,
            "right": null,
            "top": null,
            "visibility": null,
            "width": null
          }
        },
        "1584202b51cc49818663d28baadc1723": {
          "model_module": "@jupyter-widgets/controls",
          "model_name": "DescriptionStyleModel",
          "model_module_version": "1.5.0",
          "state": {
            "_model_module": "@jupyter-widgets/controls",
            "_model_module_version": "1.5.0",
            "_model_name": "DescriptionStyleModel",
            "_view_count": null,
            "_view_module": "@jupyter-widgets/base",
            "_view_module_version": "1.2.0",
            "_view_name": "StyleView",
            "description_width": ""
          }
        }
      }
    }
  },
  "cells": [
    {
      "cell_type": "markdown",
      "source": [
        "# Transformer model for language understanding\n",
        "\n",
        "This tutorial trains a transformer model to translate a Portuguese to English dataset.\n",
        "\n",
        "This tutorial demonstrates how to build a transformer model and most of its components from scratch using low-level TensorFlow and Keras functionalities. Some of this could be minimized if you took advantage of built-in APIs like tf.keras.layers.MultiHeadAttention.\n",
        "\n",
        "The core idea behind a transformer model is self-attention—the ability to attend to different positions of the input sequence to compute a representation of that sequence. Transformer creates stacks of self-attention layers and is explained below in the sections Scaled dot product attention and Multi-head attention.\n",
        "\n",
        "A transformer model handles variable-sized input using stacks of self-attention layers instead of RNNs or CNNs. This general architecture has a number of advantages:\n",
        "\n",
        "* It makes no assumptions about the temporal/spatial relationships across the data. This is ideal for processing a set of objects (for example, StarCraft units).\n",
        "* Layer outputs can be calculated in parallel, instead of a series like an RNN.\n",
        "* Distant items can affect each other's output without passing through many RNN-steps, or convolution layers (see Scene Memory Transformer for example).\n",
        "* It can learn long-range dependencies. This is a challenge in many sequence tasks.\n",
        "\n",
        "\n",
        "The downsides of this architecture are:\n",
        "\n",
        "* For a time-series, the output for a time-step is calculated from the entire history instead of only the inputs and current hidden-state. This may be less efficient.\n",
        "* If the input does have a temporal/spatial relationship, like text, some positional encoding must be added or the model will effectively see a bag of words."
      ],
      "metadata": {
        "id": "FI1mtfgBInls"
      }
    },
    {
      "cell_type": "code",
      "source": [
        "! pip install tensorflow_datasets\n",
        "! pip install -U 'tensorflow-text==2.8.*'"
      ],
      "metadata": {
        "id": "RRYRdI7fJs7d"
      },
      "execution_count": null,
      "outputs": []
    },
    {
      "cell_type": "code",
      "source": [
        "import logging\n",
        "import time\n",
        "\n",
        "import numpy as np\n",
        "import matplotlib.pyplot as plt\n",
        "\n",
        "import tensorflow_datasets as tfds\n",
        "import tensorflow as tf\n",
        "\n",
        "# Import tf_text to load the ops used by the tokenizer saved model\n",
        "import tensorflow_text  # pylint: disable=unused-import"
      ],
      "metadata": {
        "id": "6x_OtBQPJt_8"
      },
      "execution_count": 2,
      "outputs": []
    },
    {
      "cell_type": "code",
      "source": [
        "logging.getLogger('tensorflow').setLevel(logging.ERROR)  # suppress warnings"
      ],
      "metadata": {
        "id": "4bOd7GxhJzPA"
      },
      "execution_count": 3,
      "outputs": []
    },
    {
      "cell_type": "markdown",
      "source": [
        "## Data Preparation\n",
        "\n",
        "Use TensorFlow datasets to load the Portuguese-English translation dataset from the TED Talks Open Translation Project.\n",
        "\n",
        "This dataset contains approximately 50000 training examples, 1100 validation examples, and 2000 test examples."
      ],
      "metadata": {
        "id": "nig4rSi2J1p7"
      }
    },
    {
      "cell_type": "code",
      "source": [
        "examples, metadata = tfds.load('ted_hrlr_translate/pt_to_en', with_info=True,\n",
        "                               as_supervised=True)\n",
        "train_examples, val_examples = examples['train'], examples['validation']\n",
        "\n",
        "for pt_examples, en_examples in train_examples.batch(3).take(1):\n",
        "  for pt in pt_examples.numpy():\n",
        "    print(pt.decode('utf-8'))\n",
        "\n",
        "  print()\n",
        "\n",
        "  for en in en_examples.numpy():\n",
        "    print(en.decode('utf-8'))"
      ],
      "metadata": {
        "colab": {
          "base_uri": "https://localhost:8080/",
          "height": 489,
          "referenced_widgets": [
            "381f5ebbe6e5441da3dd27d137da2184",
            "1c1cf7579146421fa5c5a32c98d5d05d",
            "061692d3686b4ed39c5819b03eefb8e0",
            "000606e2ecb64411bb1d282be3981755",
            "9821390c827043dfa50724eb55fa5e54",
            "04b13a509dfe4778bd8bac23e9f2930b",
            "880a404125fc4ec8bbb270edc21681ac",
            "e0559a054a45410692fbc01be727fc1b",
            "63e322ec986141df8438a3ce2b8e9541",
            "7a8d82e9182b42d28fb9a3185dea48be",
            "a11c740bd14140df8c3f613567e285f8",
            "815652333fc94788a5b77cca7b91aa7a",
            "ad141dd07da24d42a9d53862008f8dbc",
            "a4bd38c8fd334bc8b2c363e24fcdce91",
            "29f3131fdc934a3193bac29e9ae0a236",
            "f940fd06a80b41ec868a9e5be65e61b3",
            "c0a6c248b64749ac8570162b5382163d",
            "9a7c9bfacb1c4a85aa3bda0ef91f23d9",
            "59c6002f6afa4a8993ec1303465000b7",
            "d45fbc9a948844a1ab5a1867c2dfba48",
            "fc3549040d634111b648e3101ded9dad",
            "a9082ed2f77d4991a7b408c7226b6721",
            "970085f208994d34a104cb0778f22bd7",
            "d4874a6f817b45a4ace255100cece376",
            "3c299f3f1eb24916abcbd57cb17c3d7a",
            "cc596fa06bfb4540ac5dccdf6b45e2e5",
            "d819d09b6436401393f2184f3deb55e5",
            "c91f46a923f340a1b904e0256198453a",
            "0d3e4430d2b84db093c27539538763ba",
            "7246b7fca85e4833af6c4421fe26ee5d",
            "1a4f3ae66e554a488ab656d25cc7421b",
            "4cc44ea91e1e413e82e1e7ca1c8b42ad",
            "2d2021ae350f43deb919e4b80e65670e",
            "86b6d04e5b0c457bab8976abd9dda7c7",
            "256fb8b8b6a44d99997c9a6f093b8b78",
            "8d9b1e4ed0e448339bb6fc6d3a1f2951",
            "0bc62159f58f418a9e547e72b15f2003",
            "8ef4ad842fe64f03946e375c83858e54",
            "e14a6ceb4d80452b9a7e659897b6fd00",
            "463384bfc64641efb63e6cdf3442ae76",
            "33b5c7462e704f96876ce9da66b89508",
            "a19af784e7104b059d8defba01d2a0e0",
            "4bac547827164a2caebda5a7798ef3a5",
            "676688142da84d29887ba15d1cafe449",
            "bad6208fabed4ffcb925d70fd939922a",
            "fe73d40fe07e408385196e33058c73f4",
            "939c102608114233b824d1fc51f77eee",
            "cfdde148a0b043889191cf18be2b3b00",
            "31208adff3774b128b3ede1acd6445e0",
            "852046d55bf44e5e89d60d8a635c33a7",
            "6307ce85330b4a1881aadf9950423e2b",
            "07b4e7344b4b4f1f8225d53c5c0382ec",
            "e7d9cf3658294405abb075b4edf24534",
            "e36d629491d04daf84eb84f67615f624",
            "e7e80df30bac4eabaf97067f3c2604b6",
            "ddb07d487ccc4bc28a7897c19d7e2024",
            "eeef172572784a21b8347e555f648530",
            "f3d861b5a1044a9090b72841dd887977",
            "0c01f84fe7b0405e8a04c5af0d6902b1",
            "f03f016e7a224a11928b0dca4dc861b2",
            "5c65535dc81c4afbb12b18860cc63338",
            "13a87fd976fa4cf7aa28d0c9cf25868a",
            "fde9b12781e948db9117b7acc6805023",
            "5560934bc9e64d028495dfc28eae1b24",
            "59e3df37bae94e95940189e5f783a7eb",
            "4e3a36e25e644d0cb5181af16e42f963",
            "7751e9cb097d4b9cbad19152c9828093",
            "8343c67110a3425185aff474df488c70",
            "50a2b2e02a6e4fe1a608aca2122f358a",
            "0096a678c7d64228bdbee412bb11d6ad",
            "9d5ad12545ce4e5687ee66ab919efcbc",
            "d2d064a0544346eeb37b47d79a9349e6",
            "7d6928954f43466ba40f906689cf9926",
            "9b55b0c8635b439fa781d5b137f5c9ea",
            "08b5995260e249fa832efa6446e9e7fc",
            "86d859dc63364a9e97e2245c98e2fb97",
            "88f4f8e9760744499439416adc73fd0d",
            "6a3c52bd9a8e4b6baaba271308c24acf",
            "4801c43d36d34a5b9b1de3bb823406b7",
            "40aebc51828944ad9131353ef774d66e",
            "c7c478340604441796c8c1be62ef456d",
            "03a51da6fa424436b72b9e92f8ec629b",
            "17761b35995c435ebd43400bab8bbe25",
            "8c14762b60114b5cacd835c9bf3be4da",
            "45cd77538b1f411ca848e8cf6caa86db",
            "46855da8d7f44881b2036f9478bcc167",
            "61e67def917a401d8341ab9d3ccfb511",
            "4a132d397c6f42238b4cd24c6f0a7361",
            "c8cfb49232604a27a217ff28e3d0f101",
            "a4f5fce2215a44a8b23ef774f602431d",
            "020a6bb950c04ae892a265a5f5785f6b",
            "7dcdbdc1693c460bbcdb71f003a9f1a4",
            "3a423656946945eba6021418b47fc330",
            "4136a85e5945445c9b659804259620c7",
            "d5fdf154a7f740f39356ef64007abd5f",
            "a4c2b7743c4946a99ce024920a8d092e",
            "c5f30927ac8d4b70a2d477188c23a380",
            "2b6a1b56ac2f4cddb687ddaaa0b80548",
            "1584202b51cc49818663d28baadc1723"
          ]
        },
        "id": "BKIVIEXrJ6BN",
        "outputId": "e34cbc34-922b-4abc-d893-14255b6a73b8"
      },
      "execution_count": 4,
      "outputs": [
        {
          "output_type": "stream",
          "name": "stdout",
          "text": [
            "\u001b[1mDownloading and preparing dataset ted_hrlr_translate/pt_to_en/1.0.0 (download: 124.94 MiB, generated: Unknown size, total: 124.94 MiB) to /root/tensorflow_datasets/ted_hrlr_translate/pt_to_en/1.0.0...\u001b[0m\n"
          ]
        },
        {
          "output_type": "display_data",
          "data": {
            "text/plain": [
              "Dl Completed...: 0 url [00:00, ? url/s]"
            ],
            "application/vnd.jupyter.widget-view+json": {
              "version_major": 2,
              "version_minor": 0,
              "model_id": "381f5ebbe6e5441da3dd27d137da2184"
            }
          },
          "metadata": {}
        },
        {
          "output_type": "display_data",
          "data": {
            "text/plain": [
              "Dl Size...: 0 MiB [00:00, ? MiB/s]"
            ],
            "application/vnd.jupyter.widget-view+json": {
              "version_major": 2,
              "version_minor": 0,
              "model_id": "815652333fc94788a5b77cca7b91aa7a"
            }
          },
          "metadata": {}
        },
        {
          "output_type": "display_data",
          "data": {
            "text/plain": [
              "Extraction completed...: 0 file [00:00, ? file/s]"
            ],
            "application/vnd.jupyter.widget-view+json": {
              "version_major": 2,
              "version_minor": 0,
              "model_id": "970085f208994d34a104cb0778f22bd7"
            }
          },
          "metadata": {}
        },
        {
          "output_type": "stream",
          "name": "stdout",
          "text": [
            "\n",
            "\n",
            "\n"
          ]
        },
        {
          "output_type": "display_data",
          "data": {
            "text/plain": [
              "0 examples [00:00, ? examples/s]"
            ],
            "application/vnd.jupyter.widget-view+json": {
              "version_major": 2,
              "version_minor": 0,
              "model_id": "86b6d04e5b0c457bab8976abd9dda7c7"
            }
          },
          "metadata": {}
        },
        {
          "output_type": "stream",
          "name": "stdout",
          "text": [
            "Shuffling and writing examples to /root/tensorflow_datasets/ted_hrlr_translate/pt_to_en/1.0.0.incompleteYIQJNQ/ted_hrlr_translate-train.tfrecord\n"
          ]
        },
        {
          "output_type": "display_data",
          "data": {
            "text/plain": [
              "  0%|          | 0/51785 [00:00<?, ? examples/s]"
            ],
            "application/vnd.jupyter.widget-view+json": {
              "version_major": 2,
              "version_minor": 0,
              "model_id": "bad6208fabed4ffcb925d70fd939922a"
            }
          },
          "metadata": {}
        },
        {
          "output_type": "display_data",
          "data": {
            "text/plain": [
              "0 examples [00:00, ? examples/s]"
            ],
            "application/vnd.jupyter.widget-view+json": {
              "version_major": 2,
              "version_minor": 0,
              "model_id": "ddb07d487ccc4bc28a7897c19d7e2024"
            }
          },
          "metadata": {}
        },
        {
          "output_type": "stream",
          "name": "stdout",
          "text": [
            "Shuffling and writing examples to /root/tensorflow_datasets/ted_hrlr_translate/pt_to_en/1.0.0.incompleteYIQJNQ/ted_hrlr_translate-validation.tfrecord\n"
          ]
        },
        {
          "output_type": "display_data",
          "data": {
            "text/plain": [
              "  0%|          | 0/1193 [00:00<?, ? examples/s]"
            ],
            "application/vnd.jupyter.widget-view+json": {
              "version_major": 2,
              "version_minor": 0,
              "model_id": "7751e9cb097d4b9cbad19152c9828093"
            }
          },
          "metadata": {}
        },
        {
          "output_type": "display_data",
          "data": {
            "text/plain": [
              "0 examples [00:00, ? examples/s]"
            ],
            "application/vnd.jupyter.widget-view+json": {
              "version_major": 2,
              "version_minor": 0,
              "model_id": "6a3c52bd9a8e4b6baaba271308c24acf"
            }
          },
          "metadata": {}
        },
        {
          "output_type": "stream",
          "name": "stdout",
          "text": [
            "Shuffling and writing examples to /root/tensorflow_datasets/ted_hrlr_translate/pt_to_en/1.0.0.incompleteYIQJNQ/ted_hrlr_translate-test.tfrecord\n"
          ]
        },
        {
          "output_type": "display_data",
          "data": {
            "text/plain": [
              "  0%|          | 0/1803 [00:00<?, ? examples/s]"
            ],
            "application/vnd.jupyter.widget-view+json": {
              "version_major": 2,
              "version_minor": 0,
              "model_id": "c8cfb49232604a27a217ff28e3d0f101"
            }
          },
          "metadata": {}
        },
        {
          "output_type": "stream",
          "name": "stdout",
          "text": [
            "\u001b[1mDataset ted_hrlr_translate downloaded and prepared to /root/tensorflow_datasets/ted_hrlr_translate/pt_to_en/1.0.0. Subsequent calls will reuse this data.\u001b[0m\n",
            "e quando melhoramos a procura , tiramos a única vantagem da impressão , que é a serendipidade .\n",
            "mas e se estes fatores fossem ativos ?\n",
            "mas eles não tinham a curiosidade de me testar .\n",
            "\n",
            "and when you improve searchability , you actually take away the one advantage of print , which is serendipity .\n",
            "but what if it were active ?\n",
            "but they did n't test for curiosity .\n"
          ]
        }
      ]
    },
    {
      "cell_type": "markdown",
      "source": [
        "### Text tokenization & detokenization\n",
        "\n",
        "You can't train a model directly on text. The text needs to be converted to some numeric representation first. Typically, you convert the text to sequences of token IDs, which are used as indices into an embedding.\n",
        "\n",
        "One popular implementation is demonstrated in the Subword tokenizer tutorial builds subword tokenizers (text.BertTokenizer) optimized for this dataset and exports them in a saved_model.\n",
        "\n",
        "Download and unzip and import the saved_model:"
      ],
      "metadata": {
        "id": "aSOMlYKrKExU"
      }
    },
    {
      "cell_type": "code",
      "source": [
        "model_name = 'ted_hrlr_translate_pt_en_converter'\n",
        "tf.keras.utils.get_file(\n",
        "    f'{model_name}.zip',\n",
        "    f'https://storage.googleapis.com/download.tensorflow.org/models/{model_name}.zip',\n",
        "    cache_dir='.', cache_subdir='', extract=True\n",
        ")"
      ],
      "metadata": {
        "colab": {
          "base_uri": "https://localhost:8080/",
          "height": 87
        },
        "id": "rKaSNOVKKIQK",
        "outputId": "5bc89250-ba4e-4265-f5db-fd339b7ce952"
      },
      "execution_count": 5,
      "outputs": [
        {
          "output_type": "stream",
          "name": "stdout",
          "text": [
            "Downloading data from https://storage.googleapis.com/download.tensorflow.org/models/ted_hrlr_translate_pt_en_converter.zip\n",
            "188416/184801 [==============================] - 0s 0us/step\n",
            "196608/184801 [===============================] - 0s 0us/step\n"
          ]
        },
        {
          "output_type": "execute_result",
          "data": {
            "text/plain": [
              "'./ted_hrlr_translate_pt_en_converter.zip'"
            ],
            "application/vnd.google.colaboratory.intrinsic+json": {
              "type": "string"
            }
          },
          "metadata": {},
          "execution_count": 5
        }
      ]
    },
    {
      "cell_type": "code",
      "source": [
        "tokenizers = tf.saved_model.load(model_name)\n",
        "\n",
        "# The tf.saved_model contains two text tokenizers, one for English and one for Portuguese. Both have the same methods:\n",
        "[item for item in dir(tokenizers.en) if not item.startswith('_')]"
      ],
      "metadata": {
        "colab": {
          "base_uri": "https://localhost:8080/"
        },
        "id": "HgXxbk27KK1a",
        "outputId": "61461b79-772c-4a20-e32f-a5f315fa4af5"
      },
      "execution_count": 6,
      "outputs": [
        {
          "output_type": "execute_result",
          "data": {
            "text/plain": [
              "['detokenize',\n",
              " 'get_reserved_tokens',\n",
              " 'get_vocab_path',\n",
              " 'get_vocab_size',\n",
              " 'lookup',\n",
              " 'tokenize',\n",
              " 'tokenizer',\n",
              " 'vocab']"
            ]
          },
          "metadata": {},
          "execution_count": 6
        }
      ]
    },
    {
      "cell_type": "markdown",
      "source": [
        "The tokenize method converts a batch of strings to a padded-batch of token IDs. This method splits punctuation, lowercases and unicode-normalizes the input before tokenizing. That standardization is not visible here because the input data is already standardized."
      ],
      "metadata": {
        "id": "YGvopqskKRVV"
      }
    },
    {
      "cell_type": "code",
      "source": [
        "for en in en_examples.numpy():\n",
        "  print(en.decode('utf-8'))"
      ],
      "metadata": {
        "colab": {
          "base_uri": "https://localhost:8080/"
        },
        "id": "SZ7eYsV4KXG0",
        "outputId": "47458a77-f015-4a12-c885-50ff0cfce501"
      },
      "execution_count": 7,
      "outputs": [
        {
          "output_type": "stream",
          "name": "stdout",
          "text": [
            "and when you improve searchability , you actually take away the one advantage of print , which is serendipity .\n",
            "but what if it were active ?\n",
            "but they did n't test for curiosity .\n"
          ]
        }
      ]
    },
    {
      "cell_type": "markdown",
      "source": [
        "Using Tokenizer on few samples - "
      ],
      "metadata": {
        "id": "STB0g62yKdXn"
      }
    },
    {
      "cell_type": "code",
      "source": [
        "encoded = tokenizers.en.tokenize(en_examples)\n",
        "\n",
        "for row in encoded.to_list():\n",
        "  print(row)"
      ],
      "metadata": {
        "colab": {
          "base_uri": "https://localhost:8080/"
        },
        "id": "wF0xd0qDKZ_Y",
        "outputId": "8d2d900e-246d-4d8c-c4ad-f4814db05063"
      },
      "execution_count": 8,
      "outputs": [
        {
          "output_type": "stream",
          "name": "stdout",
          "text": [
            "[2, 72, 117, 79, 1259, 1491, 2362, 13, 79, 150, 184, 311, 71, 103, 2308, 74, 2679, 13, 148, 80, 55, 4840, 1434, 2423, 540, 15, 3]\n",
            "[2, 87, 90, 107, 76, 129, 1852, 30, 3]\n",
            "[2, 87, 83, 149, 50, 9, 56, 664, 85, 2512, 15, 3]\n"
          ]
        }
      ]
    },
    {
      "cell_type": "markdown",
      "source": [
        "The detokenize method attempts to convert these token IDs back to human readable text:"
      ],
      "metadata": {
        "id": "y-ajuA7nKj8D"
      }
    },
    {
      "cell_type": "code",
      "source": [
        "round_trip = tokenizers.en.detokenize(encoded)\n",
        "for line in round_trip.numpy():\n",
        "  print(line.decode('utf-8'))"
      ],
      "metadata": {
        "colab": {
          "base_uri": "https://localhost:8080/"
        },
        "id": "WqRBtUrPKf5B",
        "outputId": "f61db50e-405a-432e-d3d1-2f92bf0dbd17"
      },
      "execution_count": 9,
      "outputs": [
        {
          "output_type": "stream",
          "name": "stdout",
          "text": [
            "and when you improve searchability , you actually take away the one advantage of print , which is serendipity .\n",
            "but what if it were active ?\n",
            "but they did n ' t test for curiosity .\n"
          ]
        }
      ]
    },
    {
      "cell_type": "markdown",
      "source": [
        "The lower level lookup method converts from token-IDs to token text:"
      ],
      "metadata": {
        "id": "jAljwlLHKjce"
      }
    },
    {
      "cell_type": "code",
      "source": [
        "tokens = tokenizers.en.lookup(encoded)\n",
        "tokens # Notice tokens like ##ere, ##nd, ##ip"
      ],
      "metadata": {
        "colab": {
          "base_uri": "https://localhost:8080/"
        },
        "id": "jZX6IXmHKjNz",
        "outputId": "763e3c3d-4297-4203-d403-94e6b2b38256"
      },
      "execution_count": 10,
      "outputs": [
        {
          "output_type": "execute_result",
          "data": {
            "text/plain": [
              "<tf.RaggedTensor [[b'[START]', b'and', b'when', b'you', b'improve', b'search', b'##ability',\n",
              "  b',', b'you', b'actually', b'take', b'away', b'the', b'one', b'advantage',\n",
              "  b'of', b'print', b',', b'which', b'is', b's', b'##ere', b'##nd', b'##ip',\n",
              "  b'##ity', b'.', b'[END]']                                                 ,\n",
              " [b'[START]', b'but', b'what', b'if', b'it', b'were', b'active', b'?',\n",
              "  b'[END]']                                                           ,\n",
              " [b'[START]', b'but', b'they', b'did', b'n', b\"'\", b't', b'test', b'for',\n",
              "  b'curiosity', b'.', b'[END]']                                          ]>"
            ]
          },
          "metadata": {},
          "execution_count": 10
        }
      ]
    },
    {
      "cell_type": "markdown",
      "source": [
        "Here you can see the \"subword\" aspect of the tokenizers. The word \"searchability\" is decomposed into \"search ##ability\" and the word \"serendipity\" into \"s ##ere ##nd ##ip ##ity\"\n",
        "\n",
        "Now take a minute to investigate the distribution of tokens per example in the dataset:"
      ],
      "metadata": {
        "id": "mSknv4YdKyYV"
      }
    },
    {
      "cell_type": "code",
      "source": [
        "lengths = []\n",
        "\n",
        "for pt_examples, en_examples in train_examples.batch(1024):\n",
        "  pt_tokens = tokenizers.en.tokenize(pt_examples)\n",
        "  lengths.append(pt_tokens.row_lengths())\n",
        "\n",
        "  en_tokens = tokenizers.en.tokenize(en_examples)\n",
        "  lengths.append(en_tokens.row_lengths())\n",
        "  print('.', end='', flush=True)"
      ],
      "metadata": {
        "colab": {
          "base_uri": "https://localhost:8080/"
        },
        "id": "mBV5Ff4TK31R",
        "outputId": "7fbe56fd-f256-49c5-a262-6310e804d8f5"
      },
      "execution_count": 11,
      "outputs": [
        {
          "output_type": "stream",
          "name": "stdout",
          "text": [
            "..................................................."
          ]
        }
      ]
    },
    {
      "cell_type": "code",
      "source": [
        "all_lengths = np.concatenate(lengths)\n",
        "\n",
        "plt.hist(all_lengths, np.linspace(0, 500, 101))\n",
        "plt.ylim(plt.ylim())\n",
        "max_length = max(all_lengths)\n",
        "plt.plot([max_length, max_length], plt.ylim())\n",
        "plt.title(f'Max tokens per example: {max_length}');"
      ],
      "metadata": {
        "colab": {
          "base_uri": "https://localhost:8080/",
          "height": 281
        },
        "id": "iVqzBL9tLGso",
        "outputId": "82e9faed-ac0d-4c62-fad0-59ee3941c225"
      },
      "execution_count": 12,
      "outputs": [
        {
          "output_type": "display_data",
          "data": {
            "text/plain": [
              "<Figure size 432x288 with 1 Axes>"
            ],
            "image/png": "[encoded data removed]"
          },
          "metadata": {
            "needs_background": "light"
          }
        }
      ]
    },
    {
      "cell_type": "code",
      "source": [
        "# Maximum number of tokens in any example in the dataset is 394. But, majority of the examples have num_tokens < 100.\n",
        "# In order to have efficient, low-bias model we can model with lesser number of tokens\n",
        "\n",
        "MAX_TOKENS = 128"
      ],
      "metadata": {
        "id": "C6H1eK0OLt_W"
      },
      "execution_count": 13,
      "outputs": []
    },
    {
      "cell_type": "markdown",
      "source": [
        "### Setup input pipeline\n",
        "\n",
        "To build an input pipeline suitable for training define some functions to transform the dataset.\n",
        "\n",
        "Define a function to drop the examples longer than MAX_TOKENS:"
      ],
      "metadata": {
        "id": "tjnS2IR2MIb1"
      }
    },
    {
      "cell_type": "code",
      "source": [
        "def filter_max_tokens(pt, en):\n",
        "  num_tokens = tf.maximum(tf.shape(pt)[1],tf.shape(en)[1])\n",
        "  return num_tokens < MAX_TOKENS"
      ],
      "metadata": {
        "id": "1K4RkvqFMPqL"
      },
      "execution_count": 14,
      "outputs": []
    },
    {
      "cell_type": "code",
      "source": [
        "def tokenize_pairs(pt, en):\n",
        "    pt = tokenizers.pt.tokenize(pt)\n",
        "    # Convert from ragged to dense, padding with zeros.\n",
        "    pt = pt.to_tensor()\n",
        "\n",
        "    en = tokenizers.en.tokenize(en)\n",
        "    # Convert from ragged to dense, padding with zeros.\n",
        "    en = en.to_tensor()\n",
        "    return pt, en"
      ],
      "metadata": {
        "id": "6J2m3-iyMnsu"
      },
      "execution_count": 15,
      "outputs": []
    },
    {
      "cell_type": "markdown",
      "source": [
        "Here's a simple input pipeline that processes, shuffles and batches the data:"
      ],
      "metadata": {
        "id": "t3tp_Ks6NfXX"
      }
    },
    {
      "cell_type": "code",
      "source": [
        "BUFFER_SIZE = 20000\n",
        "BATCH_SIZE = 64"
      ],
      "metadata": {
        "id": "K8RHKe0gNijV"
      },
      "execution_count": 16,
      "outputs": []
    },
    {
      "cell_type": "code",
      "source": [
        "def make_batches(ds):\n",
        "  return (\n",
        "      ds\n",
        "      .cache()\n",
        "      .shuffle(BUFFER_SIZE)\n",
        "      .batch(BATCH_SIZE)\n",
        "      .map(tokenize_pairs, num_parallel_calls=tf.data.AUTOTUNE)\n",
        "      .filter(filter_max_tokens)\n",
        "      .prefetch(tf.data.AUTOTUNE))\n",
        "\n",
        "\n",
        "train_batches = make_batches(train_examples)\n",
        "val_batches = make_batches(val_examples)"
      ],
      "metadata": {
        "id": "x7VIC4K7Nkj8"
      },
      "execution_count": 17,
      "outputs": []
    },
    {
      "cell_type": "markdown",
      "source": [
        "## Positional encoding\n",
        "\n",
        "Attention layers see their input as a set of vectors, with no sequential order. This model also doesn't contain any recurrent or convolutional layers. Because of this a \"positional encoding\" is added to give the model some information about the relative position of the tokens in the sentence.\n",
        "\n",
        "The positional encoding vector is added to the embedding vector. Embeddings represent a token in a d-dimensional space where tokens with similar meaning will be closer to each other. But the embeddings do not encode the relative position of tokens in a sentence. So after adding the positional encoding, tokens will be closer to each other based on the similarity of their meaning and their position in the sentence, in the d-dimensional space.\n",
        "\n",
        "The formula for calculating the positional encoding is as follows:\n",
        "\n",
        "\n",
        "![image.png](data:image/png;base64,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)"
      ],
      "metadata": {
        "id": "fHircl0HN9HC"
      }
    },
    {
      "cell_type": "code",
      "source": [
        "def get_angles(pos, i, d_model):\n",
        "  angle_rates = 1 / np.power(10000, (2 * (i//2)) / np.float32(d_model))\n",
        "  return pos * angle_rates"
      ],
      "metadata": {
        "id": "dcsZXql8Ohvw"
      },
      "execution_count": 18,
      "outputs": []
    },
    {
      "cell_type": "code",
      "source": [
        "def positional_encoding(position, d_model):\n",
        "  angle_rads = get_angles(np.arange(position)[:, np.newaxis],\n",
        "                          np.arange(d_model)[np.newaxis, :],\n",
        "                          d_model)\n",
        "\n",
        "  # apply sin to even indices in the array; 2i\n",
        "  angle_rads[:, 0::2] = np.sin(angle_rads[:, 0::2])\n",
        "\n",
        "  # apply cos to odd indices in the array; 2i+1\n",
        "  angle_rads[:, 1::2] = np.cos(angle_rads[:, 1::2])\n",
        "\n",
        "  pos_encoding = angle_rads[np.newaxis, ...]\n",
        "\n",
        "  return tf.cast(pos_encoding, dtype=tf.float32)"
      ],
      "metadata": {
        "id": "TVBDOGMXPDiz"
      },
      "execution_count": 19,
      "outputs": []
    },
    {
      "cell_type": "markdown",
      "source": [
        "Plotting the Positional Encoding for an example"
      ],
      "metadata": {
        "id": "iJQWyH6BRMns"
      }
    },
    {
      "cell_type": "code",
      "source": [
        "n, d = 2048, 512\n",
        "pos_encoding = positional_encoding(n, d)\n",
        "print(pos_encoding.shape)\n",
        "pos_encoding = pos_encoding[0]\n",
        "\n",
        "# Juggle the dimensions for the plot\n",
        "pos_encoding = tf.reshape(pos_encoding, (n, d//2, 2))\n",
        "pos_encoding = tf.transpose(pos_encoding, (2, 1, 0))\n",
        "pos_encoding = tf.reshape(pos_encoding, (d, n))\n",
        "\n",
        "plt.pcolormesh(pos_encoding, cmap='RdBu')\n",
        "plt.ylabel('Depth')\n",
        "plt.xlabel('Position')\n",
        "plt.colorbar()\n",
        "plt.show()"
      ],
      "metadata": {
        "colab": {
          "base_uri": "https://localhost:8080/",
          "height": 300
        },
        "id": "LHjy905UPq24",
        "outputId": "d2c4ed6a-d28c-489b-8b6e-7c0a752aa7e7"
      },
      "execution_count": 20,
      "outputs": [
        {
          "output_type": "stream",
          "name": "stdout",
          "text": [
            "(1, 2048, 512)\n"
          ]
        },
        {
          "output_type": "display_data",
          "data": {
            "text/plain": [
              "<Figure size 432x288 with 2 Axes>"
            ],
            "image/png": "[encoded data removed]"
          },
          "metadata": {
            "needs_background": "light"
          }
        }
      ]
    },
    {
      "cell_type": "markdown",
      "source": [
        "#### A quick note on reading Color-Mesh"
      ],
      "metadata": {
        "id": "EyvFP-6JSGOj"
      }
    },
    {
      "cell_type": "code",
      "source": [
        "np.random.seed(19680801)\n",
        "Z = np.random.rand(6, 10)\n",
        "x = np.arange(-0.5, 10, 1)  # len = 11\n",
        "y = np.arange(4.5, 11, 1)  # len = 7\n",
        "\n",
        "fig, ax = plt.subplots()\n",
        "im = ax.pcolormesh(x, y, Z, cmap='RdBu')\n",
        "fig.colorbar(im, ax=ax)"
      ],
      "metadata": {
        "colab": {
          "base_uri": "https://localhost:8080/",
          "height": 282
        },
        "id": "8Nc8L5ZERYvS",
        "outputId": "27956dd8-f1b6-4187-c843-607fc6bc9a68"
      },
      "execution_count": 21,
      "outputs": [
        {
          "output_type": "execute_result",
          "data": {
            "text/plain": [
              "<matplotlib.colorbar.Colorbar at 0x7f00158bd550>"
            ]
          },
          "metadata": {},
          "execution_count": 21
        },
        {
          "output_type": "display_data",
          "data": {
            "text/plain": [
              "<Figure size 432x288 with 2 Axes>"
            ],
            "image/png": "[encoded data removed]"
          },
          "metadata": {
            "needs_background": "light"
          }
        }
      ]
    },
    {
      "cell_type": "code",
      "source": [
        "# See the values for the top row on the Color-Mesh\n",
        "Z[-1]"
      ],
      "metadata": {
        "colab": {
          "base_uri": "https://localhost:8080/"
        },
        "id": "E2ZE7SARSHrM",
        "outputId": "82eeaa4b-7266-431b-cd1f-b50bf6fde2b0"
      },
      "execution_count": 22,
      "outputs": [
        {
          "output_type": "execute_result",
          "data": {
            "text/plain": [
              "array([0.75060714, 0.11378445, 0.84536125, 0.92393213, 0.22083679,\n",
              "       0.93305388, 0.48899874, 0.47471864, 0.08916747, 0.22994818])"
            ]
          },
          "metadata": {},
          "execution_count": 22
        }
      ]
    },
    {
      "cell_type": "markdown",
      "source": [
        "### Masking\n",
        "\n",
        "Mask all the pad tokens in the batch of sequence. It ensures that the model does not treat padding as the input. The mask indicates where pad value 0 is present: it outputs a 1 at those locations, and a 0 otherwise."
      ],
      "metadata": {
        "id": "DNMKDI_oU5rH"
      }
    },
    {
      "cell_type": "code",
      "source": [
        "def create_padding_mask(seq):\n",
        "  seq = tf.cast(tf.math.equal(seq, 0), tf.float32)\n",
        "\n",
        "  # add extra dimensions to add the padding\n",
        "  # to the attention logits.\n",
        "  return seq[:, tf.newaxis, tf.newaxis, :]  # (batch_size, 1, 1, seq_len)"
      ],
      "metadata": {
        "id": "XLriuc6DVB6q"
      },
      "execution_count": 23,
      "outputs": []
    },
    {
      "cell_type": "code",
      "source": [
        "x = tf.constant([[7, 6, 0, 0, 1], [1, 2, 3, 0, 0], [0, 0, 0, 4, 5]])\n",
        "create_padding_mask(x)"
      ],
      "metadata": {
        "colab": {
          "base_uri": "https://localhost:8080/"
        },
        "id": "t9gryY-PVFKD",
        "outputId": "60500d4c-34cf-4c9a-825d-ac348c110146"
      },
      "execution_count": 24,
      "outputs": [
        {
          "output_type": "execute_result",
          "data": {
            "text/plain": [
              "<tf.Tensor: shape=(3, 1, 1, 5), dtype=float32, numpy=\n",
              "array([[[[0., 0., 1., 1., 0.]]],\n",
              "\n",
              "\n",
              "       [[[0., 0., 0., 1., 1.]]],\n",
              "\n",
              "\n",
              "       [[[1., 1., 1., 0., 0.]]]], dtype=float32)>"
            ]
          },
          "metadata": {},
          "execution_count": 24
        }
      ]
    },
    {
      "cell_type": "markdown",
      "source": [
        "The look-ahead mask is used to mask the future tokens in a sequence. In other words, the mask indicates which entries should not be used.\n",
        "\n",
        "This means that to predict the third token, only the first and second token will be used. Similarly to predict the fourth token, only the first, second and the third tokens will be used and so on.\n",
        "\n",
        "For reference, see `upper-triangular matrix of -inf, with zeros on diag` in Language Modelling with PyTorch. The difference would be here, we use 0s instead of -inf"
      ],
      "metadata": {
        "id": "dklaWS_LVLaW"
      }
    },
    {
      "cell_type": "code",
      "source": [
        "def create_look_ahead_mask(size):\n",
        "  mask = 1 - tf.linalg.band_part(tf.ones((size, size)), -1, 0)\n",
        "  return mask  # (seq_len, seq_len)"
      ],
      "metadata": {
        "id": "rBt3_JGCVRJr"
      },
      "execution_count": 25,
      "outputs": []
    },
    {
      "cell_type": "code",
      "source": [
        "x = tf.random.uniform((1, 3))\n",
        "temp = create_look_ahead_mask(x.shape[1])\n",
        "temp"
      ],
      "metadata": {
        "colab": {
          "base_uri": "https://localhost:8080/"
        },
        "id": "GdNoWWS6Vo33",
        "outputId": "1aabe892-e010-4d9f-ede4-34be23efafd2"
      },
      "execution_count": 26,
      "outputs": [
        {
          "output_type": "execute_result",
          "data": {
            "text/plain": [
              "<tf.Tensor: shape=(3, 3), dtype=float32, numpy=\n",
              "array([[0., 1., 1.],\n",
              "       [0., 0., 1.],\n",
              "       [0., 0., 0.]], dtype=float32)>"
            ]
          },
          "metadata": {},
          "execution_count": 26
        }
      ]
    },
    {
      "cell_type": "markdown",
      "source": [
        "### Scaled dot product attention\n",
        "\n",
        "![image.png](data:image/png;base64,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)\n",
        "\n",
        "The attention function used by a transformer takes three inputs: Q (query), K (key), V (value). The equation used to calculate the attention weights is:\n",
        "\n",
        "![image.png](data:image/png;base64,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)\n",
        "\n",
        "\n",
        "\n",
        "The dot-product attention is scaled by a factor of square root of the depth. This is done because for large values of depth, the dot product grows large in magnitude pushing the softmax function where it has small gradients resulting in a very hard softmax.\n",
        "\n",
        "For example, consider that Q and K have a mean of 0 and variance of 1. Their matrix multiplication will have a mean of 0 and variance of dk. So the square root of dk is used for scaling, so you get a consistent variance regardless of the value of dk. If the variance is too low the output may be too flat to optimize effectively. If the variance is too high the softmax may saturate at initialization making it difficult to learn.\n",
        "\n",
        "The mask is multiplied with -1e9 (close to negative infinity). This is done because the mask is summed with the scaled matrix multiplication of Q and K and is applied immediately before a softmax. The goal is to zero out these cells, and large negative inputs to softmax are near zero in the output.\n"
      ],
      "metadata": {
        "id": "AnxLYvoUVrgQ"
      }
    },
    {
      "cell_type": "code",
      "source": [
        "def scaled_dot_product_attention(q, k, v, mask):\n",
        "  \"\"\"Calculate the attention weights.\n",
        "  q, k, v must have matching leading dimensions.\n",
        "  k, v must have matching penultimate dimension, i.e.: seq_len_k = seq_len_v.\n",
        "  The mask has different shapes depending on its type(padding or look ahead)\n",
        "  but it must be broadcastable for addition.\n",
        "\n",
        "  Args:\n",
        "    q: query shape == (..., seq_len_q, depth)\n",
        "    k: key shape == (..., seq_len_k, depth)\n",
        "    v: value shape == (..., seq_len_v, depth_v)\n",
        "    mask: Float tensor with shape broadcastable\n",
        "          to (..., seq_len_q, seq_len_k). Defaults to None.\n",
        "\n",
        "  Returns:\n",
        "    output, attention_weights\n",
        "  \"\"\"\n",
        "  # Matrix multiplication, hence dimensions become important\n",
        "  matmul_qk = tf.matmul(q, k, transpose_b=True)  # (..., seq_len_q, seq_len_k)\n",
        "\n",
        "  # scale matmul_qk\n",
        "  dk = tf.cast(tf.shape(k)[-1], tf.float32)\n",
        "  # Explanation of sqrt(dk) given above\n",
        "  scaled_attention_logits = matmul_qk / tf.math.sqrt(dk)\n",
        "\n",
        "  # add the mask to the scaled tensor.\n",
        "  if mask is not None:\n",
        "    scaled_attention_logits += (mask * -1e9)\n",
        "\n",
        "  # softmax is normalized on the last axis (seq_len_k) so that the scores\n",
        "  # add up to 1.\n",
        "  attention_weights = tf.nn.softmax(scaled_attention_logits, axis=-1)  # (..., seq_len_q, seq_len_k)\n",
        "\n",
        "  # Multiply the normalized output, or attention weights to the value vector\n",
        "  output = tf.matmul(attention_weights, v)  # (..., seq_len_q, depth_v)\n",
        "\n",
        "  return output, attention_weights"
      ],
      "metadata": {
        "id": "KeYjzv84WugT"
      },
      "execution_count": 27,
      "outputs": []
    },
    {
      "cell_type": "markdown",
      "source": [
        "As the softmax normalization is done along the dimension for keys, the attention values decide the amount of importance given to the keys for each query.\n",
        "\n",
        "The output represents the multiplication of the attention weights and the V (value) vector. This ensures that the tokens you want to focus on are kept as-is and the irrelevant tokens are flushed out."
      ],
      "metadata": {
        "id": "oGOF5vlaXznY"
      }
    },
    {
      "cell_type": "markdown",
      "source": [
        "Test this out for samples"
      ],
      "metadata": {
        "id": "jqTlRfZzYbk4"
      }
    },
    {
      "cell_type": "code",
      "source": [
        "def print_out(q, k, v):\n",
        "  temp_out, temp_attn = scaled_dot_product_attention(\n",
        "      q, k, v, None)\n",
        "  print('Attention weights are:')\n",
        "  print(temp_attn)\n",
        "  print('Output is:')\n",
        "  print(temp_out)\n",
        "\n",
        "np.set_printoptions(suppress=True)\n",
        "\n",
        "temp_k = tf.constant([[10, 0, 0],\n",
        "                      [0, 10, 0],\n",
        "                      [0, 0, 10],\n",
        "                      [0, 0, 10]], dtype=tf.float32)  # (4, 3)\n",
        "\n",
        "temp_v = tf.constant([[1, 0],\n",
        "                      [10, 0],\n",
        "                      [100, 5],\n",
        "                      [1000, 6]], dtype=tf.float32)  # (4, 2)\n",
        "\n",
        "# This `query` aligns with the second `key`,\n",
        "# so the second `value` is returned.\n",
        "temp_q = tf.constant([[0, 10, 0]], dtype=tf.float32)  # (1, 3)\n",
        "print(\"This `query` aligns with the second `key` : \\n\")\n",
        "print_out(temp_q, temp_k, temp_v)\n",
        "print('*' * 50)\n",
        "print('\\n')\n",
        "\n",
        "# This query aligns with a repeated key (third and fourth),\n",
        "# so all associated values get averaged.\n",
        "temp_q = tf.constant([[0, 0, 10]], dtype=tf.float32)  # (1, 3)\n",
        "print(\"This query aligns with a repeated key (third and fourth) : \\n\")\n",
        "print_out(temp_q, temp_k, temp_v)\n",
        "print('*' * 50)\n",
        "print('\\n')\n",
        "\n",
        "# This query aligns equally with the first and second key,\n",
        "# so their values get averaged.\n",
        "temp_q = tf.constant([[10, 10, 0]], dtype=tf.float32)  # (1, 3)\n",
        "print(\"This query aligns equally with the first and second key : \\n\")\n",
        "print_out(temp_q, temp_k, temp_v)\n",
        "print('*' * 50)\n",
        "print('\\n')\n",
        "\n",
        "# Pass all the queries together\n",
        "temp_q = tf.constant([[0, 0, 10],\n",
        "                      [0, 10, 0],\n",
        "                      [10, 10, 0]], dtype=tf.float32)  # (3, 3)\n",
        "print(\"All the queries together : \\n\")\n",
        "print_out(temp_q, temp_k, temp_v)"
      ],
      "metadata": {
        "colab": {
          "base_uri": "https://localhost:8080/"
        },
        "id": "coViX2RZYYP8",
        "outputId": "fa849399-6943-420a-9762-5e20f80db1b8"
      },
      "execution_count": 28,
      "outputs": [
        {
          "output_type": "stream",
          "name": "stdout",
          "text": [
            "This `query` aligns with the second `key` : \n",
            "\n",
            "Attention weights are:\n",
            "tf.Tensor([[0. 1. 0. 0.]], shape=(1, 4), dtype=float32)\n",
            "Output is:\n",
            "tf.Tensor([[10.  0.]], shape=(1, 2), dtype=float32)\n",
            "**************************************************\n",
            "\n",
            "\n",
            "This query aligns with a repeated key (third and fourth) : \n",
            "\n",
            "Attention weights are:\n",
            "tf.Tensor([[0.  0.  0.5 0.5]], shape=(1, 4), dtype=float32)\n",
            "Output is:\n",
            "tf.Tensor([[550.    5.5]], shape=(1, 2), dtype=float32)\n",
            "**************************************************\n",
            "\n",
            "\n",
            "This query aligns equally with the first and second key : \n",
            "\n",
            "Attention weights are:\n",
            "tf.Tensor([[0.5 0.5 0.  0. ]], shape=(1, 4), dtype=float32)\n",
            "Output is:\n",
            "tf.Tensor([[5.5 0. ]], shape=(1, 2), dtype=float32)\n",
            "**************************************************\n",
            "\n",
            "\n",
            "All the queries together : \n",
            "\n",
            "Attention weights are:\n",
            "tf.Tensor(\n",
            "[[0.  0.  0.5 0.5]\n",
            " [0.  1.  0.  0. ]\n",
            " [0.5 0.5 0.  0. ]], shape=(3, 4), dtype=float32)\n",
            "Output is:\n",
            "tf.Tensor(\n",
            "[[550.    5.5]\n",
            " [ 10.    0. ]\n",
            " [  5.5   0. ]], shape=(3, 2), dtype=float32)\n"
          ]
        }
      ]
    },
    {
      "cell_type": "markdown",
      "source": [
        "**PAUSE HERE. TAKE A MOMENT AT THE OUTPUT. UNDERSTAND ALL THE DIFFERENT SCENARIOS. WHY THE OUTPUT IS [550, 5.5] IN THE SECOND BLOCK AND SO ON**"
      ],
      "metadata": {
        "id": "nY4ReerEaYah"
      }
    },
    {
      "cell_type": "markdown",
      "source": [
        "### Multi-head attention\n",
        "\n",
        "\n",
        "![image.png](data:image/png;base64,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)\n",
        "\n",
        "Multi-head attention consists of four parts:\n",
        "\n",
        "  * Linear layers.\n",
        "  * Scaled dot-product attention.\n",
        "  * Final linear layer.\n",
        "\n",
        "\n",
        "\n",
        "\n",
        "Each multi-head attention block gets three inputs; Q (query), K (key), V (value). These are put through linear (Dense) layers before the multi-head attention function.\n",
        "\n",
        "In the diagram above (K,Q,V) are passed through sepearte linear (Dense) layers for each attention head. For simplicity/efficiency the code below implements this using a single dense layer with num_heads times as many outputs. The output is rearranged to a shape of (batch, num_heads, ...) before applying the attention function.\n",
        "\n",
        "The scaled_dot_product_attention function defined above is applied in a single call, broadcasted for efficiency. An appropriate mask must be used in the attention step. The attention output for each head is then concatenated (using tf.transpose, and tf.reshape) and put through a final Dense layer.\n",
        "\n",
        "Instead of one single attention head, Q, K, and V are split into multiple heads because it allows the model to jointly attend to information from different representation subspaces at different positions. After the split each head has a reduced dimensionality, so the total computation cost is the same as a single head attention with full dimensionality."
      ],
      "metadata": {
        "id": "fdF20z_bwuYH"
      }
    },
    {
      "cell_type": "code",
      "source": [
        "class MultiHeadAttention(tf.keras.layers.Layer):\n",
        "  def __init__(self,*, d_model, num_heads):\n",
        "    super(MultiHeadAttention, self).__init__()\n",
        "    self.num_heads = num_heads\n",
        "    self.d_model = d_model\n",
        "\n",
        "    assert d_model % self.num_heads == 0\n",
        "\n",
        "    self.depth = d_model // self.num_heads\n",
        "\n",
        "    self.wq = tf.keras.layers.Dense(d_model)\n",
        "    self.wk = tf.keras.layers.Dense(d_model)\n",
        "    self.wv = tf.keras.layers.Dense(d_model)\n",
        "\n",
        "    self.dense = tf.keras.layers.Dense(d_model)\n",
        "\n",
        "  def split_heads(self, x, batch_size):\n",
        "    \"\"\"Split the last dimension into (num_heads, depth).\n",
        "    Transpose the result such that the shape is (batch_size, num_heads, seq_len, depth)\n",
        "    \"\"\"\n",
        "    x = tf.reshape(x, (batch_size, -1, self.num_heads, self.depth))\n",
        "    # perm : A permutation of the dimensions of input tensor. This should be a vector.\n",
        "    return tf.transpose(x, perm=[0, 2, 1, 3])\n",
        "\n",
        "  def call(self, v, k, q, mask):\n",
        "    batch_size = tf.shape(q)[0]\n",
        "\n",
        "    q = self.wq(q)  # (batch_size, seq_len, d_model)\n",
        "    k = self.wk(k)  # (batch_size, seq_len, d_model)\n",
        "    v = self.wv(v)  # (batch_size, seq_len, d_model)\n",
        "\n",
        "    q = self.split_heads(q, batch_size)  # (batch_size, num_heads, seq_len_q, depth)\n",
        "    k = self.split_heads(k, batch_size)  # (batch_size, num_heads, seq_len_k, depth)\n",
        "    v = self.split_heads(v, batch_size)  # (batch_size, num_heads, seq_len_v, depth)\n",
        "\n",
        "    # scaled_attention.shape == (batch_size, num_heads, seq_len_q, depth)\n",
        "    # attention_weights.shape == (batch_size, num_heads, seq_len_q, seq_len_k)\n",
        "    scaled_attention, attention_weights = scaled_dot_product_attention(\n",
        "        q, k, v, mask)\n",
        "\n",
        "    scaled_attention = tf.transpose(scaled_attention, perm=[0, 2, 1, 3])  # (batch_size, seq_len_q, num_heads, depth)\n",
        "\n",
        "    concat_attention = tf.reshape(scaled_attention,\n",
        "                                  (batch_size, -1, self.d_model))  # (batch_size, seq_len_q, d_model)\n",
        "\n",
        "    output = self.dense(concat_attention)  # (batch_size, seq_len_q, d_model)\n",
        "\n",
        "    return output, attention_weights"
      ],
      "metadata": {
        "id": "pboW3r1jFdpt"
      },
      "execution_count": 35,
      "outputs": []
    },
    {
      "cell_type": "markdown",
      "source": [
        "Create a MultiHeadAttention layer to try out. At each location in the sequence, y, the MultiHeadAttention runs all 8 attention heads across all other locations in the sequence, returning a new vector of the same length at each location."
      ],
      "metadata": {
        "id": "VLbIUACcG3C0"
      }
    },
    {
      "cell_type": "code",
      "source": [
        "temp_mha = MultiHeadAttention(d_model=512, num_heads=8)\n",
        "y = tf.random.uniform((1, 60, 512))  # (batch_size, encoder_sequence, d_model)\n",
        "out, attn = temp_mha(y, k=y, q=y, mask=None)\n",
        "out.shape, attn.shape"
      ],
      "metadata": {
        "colab": {
          "base_uri": "https://localhost:8080/"
        },
        "id": "DIbTSH9rG6r4",
        "outputId": "eac0f733-399c-4a3e-aeed-bd686e38dd5a"
      },
      "execution_count": 36,
      "outputs": [
        {
          "output_type": "execute_result",
          "data": {
            "text/plain": [
              "(TensorShape([1, 60, 512]), TensorShape([1, 8, 60, 60]))"
            ]
          },
          "metadata": {},
          "execution_count": 36
        }
      ]
    },
    {
      "cell_type": "markdown",
      "source": [
        "### Point wise feed forward network\n",
        "\n",
        "Point wise feed forward network consists of two fully-connected layers with a ReLU activation in between."
      ],
      "metadata": {
        "id": "1wXC2BqhHDYZ"
      }
    },
    {
      "cell_type": "code",
      "source": [
        "def point_wise_feed_forward_network(d_model, dff):\n",
        "  return tf.keras.Sequential([\n",
        "      tf.keras.layers.Dense(dff, activation='relu'),  # (batch_size, seq_len, dff)\n",
        "      tf.keras.layers.Dense(d_model)  # (batch_size, seq_len, d_model)\n",
        "  ])"
      ],
      "metadata": {
        "id": "md8uoaciH6TP"
      },
      "execution_count": 41,
      "outputs": []
    },
    {
      "cell_type": "code",
      "source": [
        "# An example\n",
        "sample_ffn = point_wise_feed_forward_network(512, 2048)\n",
        "sample_ffn(tf.random.uniform((64, 50, 512))).shape"
      ],
      "metadata": {
        "colab": {
          "base_uri": "https://localhost:8080/"
        },
        "id": "Ye3nhRZjH_rY",
        "outputId": "e6d6c7f4-a7a3-4022-a15b-2003a655ea72"
      },
      "execution_count": 42,
      "outputs": [
        {
          "output_type": "execute_result",
          "data": {
            "text/plain": [
              "TensorShape([64, 50, 512])"
            ]
          },
          "metadata": {},
          "execution_count": 42
        }
      ]
    },
    {
      "cell_type": "code",
      "source": [
        ""
      ],
      "metadata": {
        "id": "z_qIO2dSIDbB"
      },
      "execution_count": null,
      "outputs": []
    }
  ]
}