{
  "nbformat": 4,
  "nbformat_minor": 0,
  "metadata": {
    "colab": {
      "name": "Intro_to_NLP_in_TensorFlow.ipynb",
      "provenance": [],
      "collapsed_sections": [],
      "authorship_tag": "ABX9TyORxUXUFwv9ss4T7f/nI+/y"
    },
    "kernelspec": {
      "display_name": "Python 3",
      "name": "python3"
    },
    "language_info": {
      "name": "python"
    }
  },
  "cells": [
    {
      "cell_type": "markdown",
      "metadata": {
        "id": "46QLXRNPdk5f"
      },
      "source": [
        "# But, what is NLP?\n",
        "\n",
        "NLP is a branch of AI, that deals with the interaction between computers and humans using the natural language. Most NLP techniques rely on Machine Learning to make sense of natural language. \n",
        "The ultimate objective of NLP is to read, decipher, understand and make sense of human languages\n",
        "\n",
        "Typical NLP use cases - \n",
        "* Voice assistants, Ok Google, Siri, Cortana\n",
        "* Language Translation, Google translate, Bing\n",
        "* Gmail's spam detection filter\n",
        "* MS Word's grammatical mistake feature\n",
        "\n",
        "There are 2 broad approaches of handling NLP problems - Syntactic and Semantic Analysis\n",
        "\n",
        "1. Syntax - Syntax in a code means the rules that need to followed for that particular programming language. Syntax in a language means the grammatical rules that need to be followed.\n",
        "      Like POS tagging, lemmatization, stemming etc\n",
        "\n",
        "2. Semantic - Semantic analytics dive deeper into the language to understand meaning that is conveyed by the text and sentence structure.\n",
        "      Like NERs, NLU etc\n",
        "\n",
        "\n",
        "Above is a short summary of this [Article](https://becominghuman.ai/a-simple-introduction-to-natural-language-processing-ea66a1747b32)\n",
        "\n",
        "From machine learning perspective, NLP is about being as creative as we can get with converting our text to numbers. Why is that? Because ML models don't take text as input. In this notebook, we will use the following approach to break an NLP problem and derive insights from it - \n",
        "1. Get the text\n",
        "2. Convert it into numbers\n",
        "3. Modelling\n",
        "4. Predictions\n",
        "\n",
        "\n",
        "We will start with a baseline TF-IDF model and build on it using DNN, LSTM, GRU, Conv and Transfer learning."
      ]
    },
    {
      "cell_type": "code",
      "metadata": {
        "id": "VbiyDMHrn91b"
      },
      "source": [
        "# Import libraries\n",
        "import pandas as pd\n",
        "import tensorflow as tf\n",
        "from sklearn.model_selection import train_test_split\n",
        "import random\n",
        "from tensorflow.keras import layers\n",
        "import datetime\n",
        "import numpy as np\n",
        "\n",
        "# Let's define Universal Random State\n",
        "random_state = 42\n",
        "\n",
        "# For TensorBoard, let's define log storage directory\n",
        "SAVE_DIR = 'model_logs'"
      ],
      "execution_count": 1,
      "outputs": []
    },
    {
      "cell_type": "markdown",
      "metadata": {
        "id": "xfJ4nlQDnNbS"
      },
      "source": [
        "#### The below code block can be used to download data from kaggle directly into Colab"
      ]
    },
    {
      "cell_type": "code",
      "metadata": {
        "id": "2lC1oC9WkSpS"
      },
      "source": [
        "## Data - We will use Kaggle's disaster tweets dataset\n",
        "\n",
        "# Natural Language Processing with Disaster Tweets"
      ],
      "execution_count": 2,
      "outputs": []
    },
    {
      "cell_type": "code",
      "metadata": {
        "colab": {
          "base_uri": "https://localhost:8080/"
        },
        "id": "tQyYirAqlOsE",
        "outputId": "d6a8adb3-92cd-4f70-aabf-a1c9b25d70dc"
      },
      "source": [
        "!pip install --upgrade --force-reinstall --no-deps kaggle"
      ],
      "execution_count": 3,
      "outputs": [
        {
          "output_type": "stream",
          "text": [
            "Collecting kaggle\n",
            "  Downloading kaggle-1.5.12.tar.gz (58 kB)\n",
            "\u001b[?25l\r\u001b[K     |█████▋                          | 10 kB 28.8 MB/s eta 0:00:01\r\u001b[K     |███████████▏                    | 20 kB 36.1 MB/s eta 0:00:01\r\u001b[K     |████████████████▊               | 30 kB 35.0 MB/s eta 0:00:01\r\u001b[K     |██████████████████████▎         | 40 kB 38.0 MB/s eta 0:00:01\r\u001b[K     |███████████████████████████▉    | 51 kB 39.6 MB/s eta 0:00:01\r\u001b[K     |████████████████████████████████| 58 kB 6.1 MB/s \n",
            "\u001b[?25hBuilding wheels for collected packages: kaggle\n",
            "  Building wheel for kaggle (setup.py) ... \u001b[?25l\u001b[?25hdone\n",
            "  Created wheel for kaggle: filename=kaggle-1.5.12-py3-none-any.whl size=73052 sha256=672f2f461ad59f0e8e2e1a3fa367b2159742f54f02d48178145d7009672dca95\n",
            "  Stored in directory: /root/.cache/pip/wheels/62/d6/58/5853130f941e75b2177d281eb7e44b4a98ed46dd155f556dc5\n",
            "Successfully built kaggle\n",
            "Installing collected packages: kaggle\n",
            "  Attempting uninstall: kaggle\n",
            "    Found existing installation: kaggle 1.5.12\n",
            "    Uninstalling kaggle-1.5.12:\n",
            "      Successfully uninstalled kaggle-1.5.12\n",
            "Successfully installed kaggle-1.5.12\n"
          ],
          "name": "stdout"
        }
      ]
    },
    {
      "cell_type": "code",
      "metadata": {
        "id": "DVChbXkKlqgf"
      },
      "source": [
        "from google.colab import files\n",
        "files.upload()"
      ],
      "execution_count": null,
      "outputs": []
    },
    {
      "cell_type": "code",
      "metadata": {
        "id": "cg-uesRWmLhz"
      },
      "source": [
        "! mkdir ~/.kaggle"
      ],
      "execution_count": 5,
      "outputs": []
    },
    {
      "cell_type": "code",
      "metadata": {
        "id": "g6zDaCmdmMAZ"
      },
      "source": [
        "! cp kaggle.json ~/.kaggle/"
      ],
      "execution_count": 6,
      "outputs": []
    },
    {
      "cell_type": "code",
      "metadata": {
        "id": "ExGeZ-lLmMHC"
      },
      "source": [
        "! chmod 600 ~/.kaggle/kaggle.json"
      ],
      "execution_count": 7,
      "outputs": []
    },
    {
      "cell_type": "code",
      "metadata": {
        "colab": {
          "base_uri": "https://localhost:8080/"
        },
        "id": "lL_JCyCimMMs",
        "outputId": "97b6552a-a98c-496c-c279-7e60969300f4"
      },
      "source": [
        "! kaggle competitions download -c 'nlp-getting-started'"
      ],
      "execution_count": 8,
      "outputs": [
        {
          "output_type": "stream",
          "text": [
            "Downloading nlp-getting-started.zip to /content\n",
            "\r  0% 0.00/593k [00:00<?, ?B/s]\n",
            "\r100% 593k/593k [00:00<00:00, 111MB/s]\n"
          ],
          "name": "stdout"
        }
      ]
    },
    {
      "cell_type": "code",
      "metadata": {
        "id": "KTIO6NuimMRz"
      },
      "source": [
        "! mkdir input_data"
      ],
      "execution_count": 9,
      "outputs": []
    },
    {
      "cell_type": "code",
      "metadata": {
        "colab": {
          "base_uri": "https://localhost:8080/"
        },
        "id": "9OMwU_AZmMWa",
        "outputId": "8d6fe11d-8042-45e8-f18b-479d26744555"
      },
      "source": [
        "! unzip nlp-getting-started.zip -d input_data"
      ],
      "execution_count": 10,
      "outputs": [
        {
          "output_type": "stream",
          "text": [
            "Archive:  nlp-getting-started.zip\n",
            "  inflating: input_data/sample_submission.csv  \n",
            "  inflating: input_data/test.csv     \n",
            "  inflating: input_data/train.csv    \n"
          ],
          "name": "stdout"
        }
      ]
    },
    {
      "cell_type": "markdown",
      "metadata": {
        "id": "iUOhT97ynZh6"
      },
      "source": [
        "### Let's deep dive in the data\n",
        "\n",
        "Kaggle created 3 files for us - train, test and sample-submission\n",
        "We will read the files, do some EDA and then move forward"
      ]
    },
    {
      "cell_type": "code",
      "metadata": {
        "colab": {
          "base_uri": "https://localhost:8080/"
        },
        "id": "fd0V2ICTn0gz",
        "outputId": "862fd80d-3a6c-4a9c-e25e-58473f37c787"
      },
      "source": [
        "train_df = pd.read_csv('input_data/train.csv')\n",
        "test_df = pd.read_csv('input_data/test.csv')\n",
        "\n",
        "print(\"Train Data Size : \", len(train_df))\n",
        "print(\"Test Data Size : \", len(test_df))"
      ],
      "execution_count": 11,
      "outputs": [
        {
          "output_type": "stream",
          "text": [
            "Train Data Size :  7613\n",
            "Test Data Size :  3263\n"
          ],
          "name": "stdout"
        }
      ]
    },
    {
      "cell_type": "code",
      "metadata": {
        "colab": {
          "base_uri": "https://localhost:8080/",
          "height": 206
        },
        "id": "IrVwgNxtojDI",
        "outputId": "d5e58763-5a72-4e01-aa7a-e744dc99491c"
      },
      "source": [
        "train_df.head()"
      ],
      "execution_count": 12,
      "outputs": [
        {
          "output_type": "execute_result",
          "data": {
            "text/html": [
              "<div>\n",
              "<style scoped>\n",
              "    .dataframe tbody tr th:only-of-type {\n",
              "        vertical-align: middle;\n",
              "    }\n",
              "\n",
              "    .dataframe tbody tr th {\n",
              "        vertical-align: top;\n",
              "    }\n",
              "\n",
              "    .dataframe thead th {\n",
              "        text-align: right;\n",
              "    }\n",
              "</style>\n",
              "<table border=\"1\" class=\"dataframe\">\n",
              "  <thead>\n",
              "    <tr style=\"text-align: right;\">\n",
              "      <th></th>\n",
              "      <th>id</th>\n",
              "      <th>keyword</th>\n",
              "      <th>location</th>\n",
              "      <th>text</th>\n",
              "      <th>target</th>\n",
              "    </tr>\n",
              "  </thead>\n",
              "  <tbody>\n",
              "    <tr>\n",
              "      <th>0</th>\n",
              "      <td>1</td>\n",
              "      <td>NaN</td>\n",
              "      <td>NaN</td>\n",
              "      <td>Our Deeds are the Reason of this #earthquake M...</td>\n",
              "      <td>1</td>\n",
              "    </tr>\n",
              "    <tr>\n",
              "      <th>1</th>\n",
              "      <td>4</td>\n",
              "      <td>NaN</td>\n",
              "      <td>NaN</td>\n",
              "      <td>Forest fire near La Ronge Sask. Canada</td>\n",
              "      <td>1</td>\n",
              "    </tr>\n",
              "    <tr>\n",
              "      <th>2</th>\n",
              "      <td>5</td>\n",
              "      <td>NaN</td>\n",
              "      <td>NaN</td>\n",
              "      <td>All residents asked to 'shelter in place' are ...</td>\n",
              "      <td>1</td>\n",
              "    </tr>\n",
              "    <tr>\n",
              "      <th>3</th>\n",
              "      <td>6</td>\n",
              "      <td>NaN</td>\n",
              "      <td>NaN</td>\n",
              "      <td>13,000 people receive #wildfires evacuation or...</td>\n",
              "      <td>1</td>\n",
              "    </tr>\n",
              "    <tr>\n",
              "      <th>4</th>\n",
              "      <td>7</td>\n",
              "      <td>NaN</td>\n",
              "      <td>NaN</td>\n",
              "      <td>Just got sent this photo from Ruby #Alaska as ...</td>\n",
              "      <td>1</td>\n",
              "    </tr>\n",
              "  </tbody>\n",
              "</table>\n",
              "</div>"
            ],
            "text/plain": [
              "   id keyword  ...                                               text target\n",
              "0   1     NaN  ...  Our Deeds are the Reason of this #earthquake M...      1\n",
              "1   4     NaN  ...             Forest fire near La Ronge Sask. Canada      1\n",
              "2   5     NaN  ...  All residents asked to 'shelter in place' are ...      1\n",
              "3   6     NaN  ...  13,000 people receive #wildfires evacuation or...      1\n",
              "4   7     NaN  ...  Just got sent this photo from Ruby #Alaska as ...      1\n",
              "\n",
              "[5 rows x 5 columns]"
            ]
          },
          "metadata": {
            "tags": []
          },
          "execution_count": 12
        }
      ]
    },
    {
      "cell_type": "code",
      "metadata": {
        "colab": {
          "base_uri": "https://localhost:8080/",
          "height": 206
        },
        "id": "qPct8kRepG0h",
        "outputId": "e58288e3-4c9f-4bf4-91b0-c82ca55dd4b2"
      },
      "source": [
        "test_df.head()"
      ],
      "execution_count": 13,
      "outputs": [
        {
          "output_type": "execute_result",
          "data": {
            "text/html": [
              "<div>\n",
              "<style scoped>\n",
              "    .dataframe tbody tr th:only-of-type {\n",
              "        vertical-align: middle;\n",
              "    }\n",
              "\n",
              "    .dataframe tbody tr th {\n",
              "        vertical-align: top;\n",
              "    }\n",
              "\n",
              "    .dataframe thead th {\n",
              "        text-align: right;\n",
              "    }\n",
              "</style>\n",
              "<table border=\"1\" class=\"dataframe\">\n",
              "  <thead>\n",
              "    <tr style=\"text-align: right;\">\n",
              "      <th></th>\n",
              "      <th>id</th>\n",
              "      <th>keyword</th>\n",
              "      <th>location</th>\n",
              "      <th>text</th>\n",
              "    </tr>\n",
              "  </thead>\n",
              "  <tbody>\n",
              "    <tr>\n",
              "      <th>0</th>\n",
              "      <td>0</td>\n",
              "      <td>NaN</td>\n",
              "      <td>NaN</td>\n",
              "      <td>Just happened a terrible car crash</td>\n",
              "    </tr>\n",
              "    <tr>\n",
              "      <th>1</th>\n",
              "      <td>2</td>\n",
              "      <td>NaN</td>\n",
              "      <td>NaN</td>\n",
              "      <td>Heard about #earthquake is different cities, s...</td>\n",
              "    </tr>\n",
              "    <tr>\n",
              "      <th>2</th>\n",
              "      <td>3</td>\n",
              "      <td>NaN</td>\n",
              "      <td>NaN</td>\n",
              "      <td>there is a forest fire at spot pond, geese are...</td>\n",
              "    </tr>\n",
              "    <tr>\n",
              "      <th>3</th>\n",
              "      <td>9</td>\n",
              "      <td>NaN</td>\n",
              "      <td>NaN</td>\n",
              "      <td>Apocalypse lighting. #Spokane #wildfires</td>\n",
              "    </tr>\n",
              "    <tr>\n",
              "      <th>4</th>\n",
              "      <td>11</td>\n",
              "      <td>NaN</td>\n",
              "      <td>NaN</td>\n",
              "      <td>Typhoon Soudelor kills 28 in China and Taiwan</td>\n",
              "    </tr>\n",
              "  </tbody>\n",
              "</table>\n",
              "</div>"
            ],
            "text/plain": [
              "   id keyword location                                               text\n",
              "0   0     NaN      NaN                 Just happened a terrible car crash\n",
              "1   2     NaN      NaN  Heard about #earthquake is different cities, s...\n",
              "2   3     NaN      NaN  there is a forest fire at spot pond, geese are...\n",
              "3   9     NaN      NaN           Apocalypse lighting. #Spokane #wildfires\n",
              "4  11     NaN      NaN      Typhoon Soudelor kills 28 in China and Taiwan"
            ]
          },
          "metadata": {
            "tags": []
          },
          "execution_count": 13
        }
      ]
    },
    {
      "cell_type": "code",
      "metadata": {
        "id": "YjbBKJispQFh"
      },
      "source": [
        "# Data desc on Kaggle mentions that the location has this distribution - \n",
        "                  # USA -> 1%\n",
        "                  # RoW -> 65%\n",
        "                  # Null-> 33%"
      ],
      "execution_count": 14,
      "outputs": []
    },
    {
      "cell_type": "code",
      "metadata": {
        "colab": {
          "base_uri": "https://localhost:8080/",
          "height": 206
        },
        "id": "ze_se3oeqToS",
        "outputId": "46e99bed-4627-4d93-f9e8-e214bd29025b"
      },
      "source": [
        "# What about keywords?\n",
        "train_df[train_df['keyword'].notnull()].head()"
      ],
      "execution_count": 15,
      "outputs": [
        {
          "output_type": "execute_result",
          "data": {
            "text/html": [
              "<div>\n",
              "<style scoped>\n",
              "    .dataframe tbody tr th:only-of-type {\n",
              "        vertical-align: middle;\n",
              "    }\n",
              "\n",
              "    .dataframe tbody tr th {\n",
              "        vertical-align: top;\n",
              "    }\n",
              "\n",
              "    .dataframe thead th {\n",
              "        text-align: right;\n",
              "    }\n",
              "</style>\n",
              "<table border=\"1\" class=\"dataframe\">\n",
              "  <thead>\n",
              "    <tr style=\"text-align: right;\">\n",
              "      <th></th>\n",
              "      <th>id</th>\n",
              "      <th>keyword</th>\n",
              "      <th>location</th>\n",
              "      <th>text</th>\n",
              "      <th>target</th>\n",
              "    </tr>\n",
              "  </thead>\n",
              "  <tbody>\n",
              "    <tr>\n",
              "      <th>31</th>\n",
              "      <td>48</td>\n",
              "      <td>ablaze</td>\n",
              "      <td>Birmingham</td>\n",
              "      <td>@bbcmtd Wholesale Markets ablaze http://t.co/l...</td>\n",
              "      <td>1</td>\n",
              "    </tr>\n",
              "    <tr>\n",
              "      <th>32</th>\n",
              "      <td>49</td>\n",
              "      <td>ablaze</td>\n",
              "      <td>Est. September 2012 - Bristol</td>\n",
              "      <td>We always try to bring the heavy. #metal #RT h...</td>\n",
              "      <td>0</td>\n",
              "    </tr>\n",
              "    <tr>\n",
              "      <th>33</th>\n",
              "      <td>50</td>\n",
              "      <td>ablaze</td>\n",
              "      <td>AFRICA</td>\n",
              "      <td>#AFRICANBAZE: Breaking news:Nigeria flag set a...</td>\n",
              "      <td>1</td>\n",
              "    </tr>\n",
              "    <tr>\n",
              "      <th>34</th>\n",
              "      <td>52</td>\n",
              "      <td>ablaze</td>\n",
              "      <td>Philadelphia, PA</td>\n",
              "      <td>Crying out for more! Set me ablaze</td>\n",
              "      <td>0</td>\n",
              "    </tr>\n",
              "    <tr>\n",
              "      <th>35</th>\n",
              "      <td>53</td>\n",
              "      <td>ablaze</td>\n",
              "      <td>London, UK</td>\n",
              "      <td>On plus side LOOK AT THE SKY LAST NIGHT IT WAS...</td>\n",
              "      <td>0</td>\n",
              "    </tr>\n",
              "  </tbody>\n",
              "</table>\n",
              "</div>"
            ],
            "text/plain": [
              "    id keyword  ...                                               text target\n",
              "31  48  ablaze  ...  @bbcmtd Wholesale Markets ablaze http://t.co/l...      1\n",
              "32  49  ablaze  ...  We always try to bring the heavy. #metal #RT h...      0\n",
              "33  50  ablaze  ...  #AFRICANBAZE: Breaking news:Nigeria flag set a...      1\n",
              "34  52  ablaze  ...                 Crying out for more! Set me ablaze      0\n",
              "35  53  ablaze  ...  On plus side LOOK AT THE SKY LAST NIGHT IT WAS...      0\n",
              "\n",
              "[5 rows x 5 columns]"
            ]
          },
          "metadata": {
            "tags": []
          },
          "execution_count": 15
        }
      ]
    },
    {
      "cell_type": "code",
      "metadata": {
        "colab": {
          "base_uri": "https://localhost:8080/"
        },
        "id": "cB3RqRCMq0wy",
        "outputId": "e3a2b3d5-3984-4bf9-b949-3cd79b4ad96e"
      },
      "source": [
        "# Are key words always part of the text? If so, then can we just ignore those?\n",
        "train_df[train_df['keyword'].notnull()].apply(lambda x: x.keyword in x.text, axis=1)"
      ],
      "execution_count": 16,
      "outputs": [
        {
          "output_type": "execute_result",
          "data": {
            "text/plain": [
              "31       True\n",
              "32      False\n",
              "33       True\n",
              "34       True\n",
              "35      False\n",
              "        ...  \n",
              "7578     True\n",
              "7579     True\n",
              "7580     True\n",
              "7581     True\n",
              "7582     True\n",
              "Length: 7552, dtype: bool"
            ]
          },
          "metadata": {
            "tags": []
          },
          "execution_count": 16
        }
      ]
    },
    {
      "cell_type": "code",
      "metadata": {
        "id": "s7DOGJyNsGNl"
      },
      "source": [
        "# Not always true!! Let's see in the later stages if we can somehow use this added information"
      ],
      "execution_count": 17,
      "outputs": []
    },
    {
      "cell_type": "code",
      "metadata": {
        "colab": {
          "base_uri": "https://localhost:8080/"
        },
        "id": "vPWzc21MzTog",
        "outputId": "78c47529-f0d8-48a5-deb2-58c0646abaf8"
      },
      "source": [
        "train_df['target'].value_counts()"
      ],
      "execution_count": 18,
      "outputs": [
        {
          "output_type": "execute_result",
          "data": {
            "text/plain": [
              "0    4342\n",
              "1    3271\n",
              "Name: target, dtype: int64"
            ]
          },
          "metadata": {
            "tags": []
          },
          "execution_count": 18
        }
      ]
    },
    {
      "cell_type": "markdown",
      "metadata": {
        "id": "VNJp_-fEzYfC"
      },
      "source": [
        "Another Binary Classification Problem. Fairly balanced target (60-40)\n",
        "\n",
        "  1 - Disaster Related Tweet\n",
        "  \n",
        "  2 - Not related to Disaster"
      ]
    },
    {
      "cell_type": "code",
      "metadata": {
        "colab": {
          "base_uri": "https://localhost:8080/"
        },
        "id": "kYR13Mz0ze0t",
        "outputId": "d2e56dab-0158-4091-af76-4fe82343ef89"
      },
      "source": [
        "# Let's print out few 1s and 0s\n",
        "\n",
        "positive_tweet_sample = train_df[train_df['target'] == 1]['text'].head().tolist()\n",
        "negative_tweet_sample = train_df[train_df['target'] == 0]['text'].head().tolist()\n",
        "\n",
        "\n",
        "print(\"Disaster Related Tweets : \", '\\n')\n",
        "for i in range(5):\n",
        "  print('\\t', positive_tweet_sample[i])\n",
        "  print('\\t', '-'*20)\n",
        "print('\\n')\n",
        "print(\"Non-Disaster Related Tweets : \", '\\n')\n",
        "for i in range(5):\n",
        "  print('\\t', negative_tweet_sample[i])\n",
        "  print('\\t', '-'*20)"
      ],
      "execution_count": 19,
      "outputs": [
        {
          "output_type": "stream",
          "text": [
            "Disaster Related Tweets :  \n",
            "\n",
            "\t Our Deeds are the Reason of this #earthquake May ALLAH Forgive us all\n",
            "\t --------------------\n",
            "\t Forest fire near La Ronge Sask. Canada\n",
            "\t --------------------\n",
            "\t All residents asked to 'shelter in place' are being notified by officers. No other evacuation or shelter in place orders are expected\n",
            "\t --------------------\n",
            "\t 13,000 people receive #wildfires evacuation orders in California \n",
            "\t --------------------\n",
            "\t Just got sent this photo from Ruby #Alaska as smoke from #wildfires pours into a school \n",
            "\t --------------------\n",
            "\n",
            "\n",
            "Non-Disaster Related Tweets :  \n",
            "\n",
            "\t What's up man?\n",
            "\t --------------------\n",
            "\t I love fruits\n",
            "\t --------------------\n",
            "\t Summer is lovely\n",
            "\t --------------------\n",
            "\t My car is so fast\n",
            "\t --------------------\n",
            "\t What a goooooooaaaaaal!!!!!!\n",
            "\t --------------------\n"
          ],
          "name": "stdout"
        }
      ]
    },
    {
      "cell_type": "markdown",
      "metadata": {
        "id": "MYamrAGT2VEp"
      },
      "source": [
        "Train-Test Split (Or Train Validation Split)\n",
        "\n",
        "Since the testing data doesn't have any labels, we will have to split our training data into train and validation (or test). How about 90-10 for starters"
      ]
    },
    {
      "cell_type": "code",
      "metadata": {
        "id": "HY82QZTT3EZS"
      },
      "source": [
        "# Define test_size\n",
        "test_size = 0.1\n",
        "\n",
        "train_sentences, val_sentences, train_labels, val_labels = train_test_split(train_df['text'].to_numpy(), train_df['target'].to_numpy(),\n",
        "                                                                            test_size = test_size,\n",
        "                                                                            random_state = random_state)"
      ],
      "execution_count": 20,
      "outputs": []
    },
    {
      "cell_type": "code",
      "metadata": {
        "colab": {
          "base_uri": "https://localhost:8080/"
        },
        "id": "w3682n5U3tiK",
        "outputId": "a53d7c0b-86de-4c4f-f1a5-57383bc01593"
      },
      "source": [
        "# Size of training and validation sets\n",
        "len(train_sentences), len(train_labels), len(val_sentences), len(val_labels)"
      ],
      "execution_count": 21,
      "outputs": [
        {
          "output_type": "execute_result",
          "data": {
            "text/plain": [
              "(6851, 6851, 762, 762)"
            ]
          },
          "metadata": {
            "tags": []
          },
          "execution_count": 21
        }
      ]
    },
    {
      "cell_type": "markdown",
      "metadata": {
        "id": "6sGHCGBk4rqA"
      },
      "source": [
        "## Convert text data into numbers\n",
        "\n",
        "The next step would be to convert string data into numbers. Our labels are alreay numerical, so no need for LabelEncoder, but for tweet text, we surely need to convert.\n",
        "\n",
        "There are 2 major approaches of converting text into numbers - \n",
        "\n",
        "* **Tokenization** - A mapping, or a lookup, for a word/sub-word/character. We can do following types of tokenization - \n",
        "\n",
        "      1. Word-Level Tokenization : Assign every word in the sequence it's own token. For example, in the sentence, 'I Love Pizza', we can assign I:0, Love:2, Pizza:3\n",
        "      2. Character-Level Tokenization : Assign token to every character in the corpus. \n",
        "      3. Sub-word-Level Tokenization : This involves breaking words into parts and assigning tokens to each part. \n",
        "                    For example, 'I love Pineapple', can be broken\n",
        "                    into 'I Lo ve pine app le' and then assign \n",
        "                    tokens to these sub-words. In case of sub-word\n",
        "                    tokenization, a word might have multiple tokens\n",
        "\n",
        "* **Embeddings** - Embedding is a representation of natural language which can be learned. This representation comes in the form of a Feature vector. For example, the word 'Football' can be represented by a 5-d feature vector : [-0.3456, 0.2352, 0.3454, 0.2576, 0.9865]. Importantly, the size of the feature vector is tune-able. We can use embeddings in 2 ways : \n",
        "\n",
        "      1. Create your own embedding : Once your text has been converted to\n",
        "                      numbers (required for Embedding), you can pass this\n",
        "                      to Keras Embedding Layer and an embedding\n",
        "                      representation will be learned during model training\n",
        "      2. Use a pre-learned embedding : `Transfer Learning`. \n",
        "                      The power of Deep Learning. You can use pre-created\n",
        "                      embedding layers and fine-tune them on your\n",
        "                      own purpose. The benefit here is, for example BERT\n",
        "                      is trained on entire wikipedia. It is not possible\n",
        "                      that every time we perform a sentiment analysis we\n",
        "                      train it for months on such a huge corpus. We rather\n",
        "                      use the results from the previous training and\n",
        "                      adapt it to our purpose.\n",
        "\n",
        "\n",
        "To tokenize our words, we'll use the helpful preprocessing layer `tf.keras.layers.experimental.preprocessing.TextVectorization`.\n",
        "\n",
        "The TextVectorization layer takes the following parameters:\n",
        "\n",
        "* max_tokens - The maximum number of words in your vocabulary (e.g. 20000 or the number of unique words in your text), includes a value for OOV (out of vocabulary) tokens.\n",
        "* standardize - Method for standardizing text. Default is \"lower_and_strip_punctuation\" which lowers text and removes all punctuation marks.\n",
        "* split - How to split text, default is \"whitespace\" which splits on spaces.\n",
        "* ngrams - How many words to contain per token split, for example, ngrams=2 splits tokens into continuous sequences of 2.\n",
        "* output_mode - How to output tokens, can be \"int\" (integer mapping), \"binary\" (one-hot encoding), \"count\" or \"tf-idf\". See documentation for more.\n",
        "* output_sequence_length - Length of tokenized sequence to output. For example, if output_sequence_length=150, all tokenized sequences will be 150 tokens long.\n",
        "* pad_to_max_tokens - If True (default), the output feature axis will be padded to max_tokens even if the number of unique tokens in the vocabulary is less than max_tokens.\n",
        "\n"
      ]
    },
    {
      "cell_type": "code",
      "metadata": {
        "colab": {
          "base_uri": "https://localhost:8080/"
        },
        "id": "80J0jfKvHIfD",
        "outputId": "22a611de-0dea-46ce-e4c7-156237b20d0f"
      },
      "source": [
        "# What's the number of distinct words in the corpus?\n",
        "from collections import Counter\n",
        "# Instantiate Counter\n",
        "results = Counter()\n",
        "# Convert text to lower case, split on whitespace, and create dict\n",
        "train_df['text'].str.lower().str.split().apply(results.update)\n",
        "# Shape of Dictionary\n",
        "print(len(results.keys()))"
      ],
      "execution_count": 22,
      "outputs": [
        {
          "output_type": "stream",
          "text": [
            "27983\n"
          ],
          "name": "stdout"
        }
      ]
    },
    {
      "cell_type": "code",
      "metadata": {
        "id": "JKCGo_R9H7jz"
      },
      "source": [
        "# Close to 30K if we include test data as well. We'll choose 10K as the vocab_size (or max_tokens)"
      ],
      "execution_count": 23,
      "outputs": []
    },
    {
      "cell_type": "code",
      "metadata": {
        "colab": {
          "base_uri": "https://localhost:8080/"
        },
        "id": "lhU7RlUIIK3u",
        "outputId": "ce43388b-d45c-405d-bc11-c12246bfd240"
      },
      "source": [
        "# Average tweet length?\n",
        "round(sum([len(i.split()) for i in train_sentences])/len(train_sentences))"
      ],
      "execution_count": 24,
      "outputs": [
        {
          "output_type": "execute_result",
          "data": {
            "text/plain": [
              "15"
            ]
          },
          "metadata": {
            "tags": []
          },
          "execution_count": 24
        }
      ]
    },
    {
      "cell_type": "code",
      "metadata": {
        "id": "0OZiZsRiIR49"
      },
      "source": [
        "# We will choose output_sequence_length as 15, since Average Tweet Length is 15"
      ],
      "execution_count": 25,
      "outputs": []
    },
    {
      "cell_type": "code",
      "metadata": {
        "id": "oUoVB-hI96oV"
      },
      "source": [
        "# Initialize Text Vectorizer\n",
        "from tensorflow.keras.layers.experimental.preprocessing import TextVectorization\n",
        "\n",
        "vocab_size = 10000\n",
        "output_len = 15\n",
        "\n",
        "text_vectorizer = TextVectorization(max_tokens=vocab_size,\n",
        "                                    output_sequence_length = output_len,\n",
        "                                    output_mode = 'int')\n",
        "\n",
        "# Adapt the vectorizer created above to our training data (Adapt is like fit-transform)\n",
        "text_vectorizer.adapt(train_sentences)"
      ],
      "execution_count": 26,
      "outputs": []
    },
    {
      "cell_type": "code",
      "metadata": {
        "colab": {
          "base_uri": "https://localhost:8080/"
        },
        "id": "yYzbuixXJbLr",
        "outputId": "fb180c1e-ba66-4559-981c-f6d420fe1146"
      },
      "source": [
        "# Let's see how this vectorizer is working on few sample text\n",
        "\n",
        "sample_corpus = [['I love Pizza'],\n",
        "                 ['I love Football'],\n",
        "                 ['The dog loves cricket']]\n",
        "text_vectorizer(sample_corpus)"
      ],
      "execution_count": 27,
      "outputs": [
        {
          "output_type": "execute_result",
          "data": {
            "text/plain": [
              "<tf.Tensor: shape=(3, 15), dtype=int64, numpy=\n",
              "array([[   8,  107, 3526,    0,    0,    0,    0,    0,    0,    0,    0,\n",
              "           0,    0,    0,    0],\n",
              "       [   8,  107, 1528,    0,    0,    0,    0,    0,    0,    0,    0,\n",
              "           0,    0,    0,    0],\n",
              "       [   2, 1014, 2401, 3964,    0,    0,    0,    0,    0,    0,    0,\n",
              "           0,    0,    0,    0]])>"
            ]
          },
          "metadata": {
            "tags": []
          },
          "execution_count": 27
        }
      ]
    },
    {
      "cell_type": "code",
      "metadata": {
        "id": "EL0N2pFrIY3q"
      },
      "source": [
        "# So, every output is of length 15. Same word gets same token\n",
        "# Also, notice that love and loves get different tokens. Ideally we should convert the word into it's stem and assign tokens to the stem"
      ],
      "execution_count": 28,
      "outputs": []
    },
    {
      "cell_type": "code",
      "metadata": {
        "colab": {
          "base_uri": "https://localhost:8080/"
        },
        "id": "s2KUJdO9LJ8k",
        "outputId": "4791ba75-48aa-4b7d-bb37-3c26361b5654"
      },
      "source": [
        "# Explore the vectorizer a bit more\n",
        "\n",
        "# All words in the vocab\n",
        "words_in_vocab = text_vectorizer.get_vocabulary()\n",
        "# First 5 words in the vocab\n",
        "first5_words = words_in_vocab[:5]\n",
        "# Last 5 words in the vocab\n",
        "last5_words = words_in_vocab[-5:]\n",
        "\n",
        "print(\"Total numbers of words in the vocab : \", len(words_in_vocab))\n",
        "print(\"Top 5 most popular words in the vocab : \", first5_words)\n",
        "print(\"Top 5 least popular words in the vocab : \", last5_words)"
      ],
      "execution_count": 29,
      "outputs": [
        {
          "output_type": "stream",
          "text": [
            "Total numbers of words in the vocab :  10000\n",
            "Top 5 most popular words in the vocab :  ['', '[UNK]', 'the', 'a', 'in']\n",
            "Top 5 least popular words in the vocab :  ['pakthey', 'pakistan\\x89Ûªs', 'pakistans', 'pajamas', 'paints']\n"
          ],
          "name": "stdout"
        }
      ]
    },
    {
      "cell_type": "markdown",
      "metadata": {
        "id": "dt6tdyohL6gF"
      },
      "source": [
        "### Create an embedding using Keras Embedding Layer\n",
        "\n",
        "Next, we convert the tokens to an embedding. One major advantage is that an embedding layer can be train-able, so we can update the tokens if we've obtained from text vectorizer\n",
        "\n",
        "Main parameters we are looking for - \n",
        "1. input_dim = Size of the vocabulary, i.e. maximum integer index + 1.\n",
        "2. input_length = Length of input sequences being passed to the embedding (15 here)\n",
        "3. output_dim = Output array size (Map input to this dim. If 100, we get output of size (m, input_len, 100) where m is the number of training examples)\n",
        "\n",
        "Please have a look at the official doc for better understanding - [EmbeddingLayer](https://keras.io/api/layers/core_layers/embedding/)"
      ]
    },
    {
      "cell_type": "code",
      "metadata": {
        "id": "bq9a5ooONmrO"
      },
      "source": [
        "from tensorflow.keras import layers\n",
        "\n",
        "embedding_output = 128\n",
        "\n",
        "embedding = layers.Embedding(input_dim = vocab_size,\n",
        "                             output_dim = embedding_output,\n",
        "                             input_length = output_len)"
      ],
      "execution_count": 30,
      "outputs": []
    },
    {
      "cell_type": "code",
      "metadata": {
        "colab": {
          "base_uri": "https://localhost:8080/"
        },
        "id": "M_Os_DGuOFl-",
        "outputId": "b0fdee50-1f8c-44f0-86b7-ba0ec221ea85"
      },
      "source": [
        "# Let's see what exactly this 'thing' is doing\n",
        "random_sentence = random.choice(train_sentences)\n",
        "print(\"Original Text : \", random_sentence)\n",
        "\n",
        "# Let's embed this random sentence\n",
        "print(\"\\n\\nEmbedded version\")\n",
        "embed_random_sentence = embedding(text_vectorizer([random_sentence]))\n",
        "embed_random_sentence"
      ],
      "execution_count": 31,
      "outputs": [
        {
          "output_type": "stream",
          "text": [
            "Original Text :  Zouma has just absolutely flattened that guy ??\n",
            "\n",
            "\n",
            "Embedded version\n"
          ],
          "name": "stdout"
        },
        {
          "output_type": "execute_result",
          "data": {
            "text/plain": [
              "<tf.Tensor: shape=(1, 15, 128), dtype=float32, numpy=\n",
              "array([[[-0.00274988,  0.02107574,  0.04382792, ..., -0.00950354,\n",
              "         -0.03907083,  0.02399908],\n",
              "        [-0.01528521,  0.02033484,  0.0409759 , ...,  0.01596195,\n",
              "         -0.01545292,  0.04755545],\n",
              "        [-0.04997013, -0.0128377 ,  0.00185167, ..., -0.02501137,\n",
              "         -0.04683727,  0.01078478],\n",
              "        ...,\n",
              "        [ 0.01991537, -0.04686571, -0.0173362 , ...,  0.03945679,\n",
              "         -0.02940768, -0.0462914 ],\n",
              "        [ 0.01991537, -0.04686571, -0.0173362 , ...,  0.03945679,\n",
              "         -0.02940768, -0.0462914 ],\n",
              "        [ 0.01991537, -0.04686571, -0.0173362 , ...,  0.03945679,\n",
              "         -0.02940768, -0.0462914 ]]], dtype=float32)>"
            ]
          },
          "metadata": {
            "tags": []
          },
          "execution_count": 31
        }
      ]
    },
    {
      "cell_type": "code",
      "metadata": {
        "colab": {
          "base_uri": "https://localhost:8080/"
        },
        "id": "kCVsz3RTQfmx",
        "outputId": "8a9cf20c-6b13-446a-e0c7-4018bbb3d9d4"
      },
      "source": [
        "# Take closer look at tensor shape - <tf.Tensor: shape=(1, 15, 128), dtype=float32\n",
        "# 1 input example. 15 words in every tweet. Or 15 max/min tokens per tweet. 128 dimensional embedding. So, every token gets converted to 128 dims\n",
        "\n",
        "\n",
        "# Check out a single token's embedding\n",
        "embed_random_sentence[0][0], len(embed_random_sentence[0][0])"
      ],
      "execution_count": 32,
      "outputs": [
        {
          "output_type": "execute_result",
          "data": {
            "text/plain": [
              "(<tf.Tensor: shape=(128,), dtype=float32, numpy=\n",
              " array([-0.00274988,  0.02107574,  0.04382792,  0.04646391, -0.03321173,\n",
              "        -0.02048935, -0.01263696,  0.01007573,  0.01729831, -0.00256107,\n",
              "        -0.00378267, -0.00450552, -0.04219989,  0.0218769 , -0.01188074,\n",
              "         0.00928771,  0.04947703,  0.01785209,  0.013002  , -0.00349969,\n",
              "        -0.00717063,  0.0412236 , -0.03982846,  0.04234454,  0.04068017,\n",
              "         0.02210693, -0.04309304,  0.04687073,  0.04674614, -0.0183751 ,\n",
              "        -0.0361227 ,  0.02336823,  0.02560247, -0.0445343 , -0.03590717,\n",
              "         0.03536388, -0.00129291,  0.04760811, -0.00058375, -0.04822625,\n",
              "         0.03230366,  0.0351712 ,  0.0105313 , -0.03527353,  0.03819317,\n",
              "        -0.00794309, -0.03070226, -0.01783469,  0.00570527,  0.01713128,\n",
              "        -0.01179362,  0.006131  ,  0.02196932, -0.01588956, -0.04539796,\n",
              "        -0.04628457,  0.00811573, -0.00176873, -0.04640929, -0.02768323,\n",
              "        -0.04560175, -0.04924288,  0.04518558, -0.02419056,  0.00512816,\n",
              "        -0.03756684,  0.0478534 ,  0.01961314, -0.03196664, -0.03085092,\n",
              "        -0.01579601,  0.01200073,  0.01795281, -0.01211394, -0.0081782 ,\n",
              "         0.00976884,  0.01837336, -0.02206427,  0.04018835, -0.03114382,\n",
              "         0.02790991, -0.02862242,  0.04110385, -0.02299802, -0.00450361,\n",
              "        -0.04432898,  0.04066535, -0.00844672,  0.04602534,  0.0274521 ,\n",
              "         0.0477925 , -0.03691936,  0.04483536,  0.04885912,  0.04594186,\n",
              "         0.01909787, -0.02195765,  0.04084815, -0.02814994,  0.02099289,\n",
              "        -0.00636695,  0.03119418, -0.04556791, -0.02530869,  0.00511322,\n",
              "        -0.03081613,  0.01104166,  0.0197277 , -0.0014982 ,  0.00107415,\n",
              "        -0.01576702, -0.02915802, -0.04835191, -0.00382125, -0.02346814,\n",
              "        -0.04126918,  0.03710179,  0.02070783,  0.01727313, -0.04375767,\n",
              "         0.00018419, -0.01622487, -0.02192696, -0.03961896, -0.01253966,\n",
              "        -0.00950354, -0.03907083,  0.02399908], dtype=float32)>, 128)"
            ]
          },
          "metadata": {
            "tags": []
          },
          "execution_count": 32
        }
      ]
    },
    {
      "cell_type": "code",
      "metadata": {
        "id": "jn2Gb9T7RU3O"
      },
      "source": [
        "# So, every token (or a word if we use word-level tokenization) gets mapped into a 128 dimensional space\n",
        "\n",
        "# What a beautiful matrix. LOL!!"
      ],
      "execution_count": 33,
      "outputs": []
    },
    {
      "cell_type": "markdown",
      "metadata": {
        "id": "hnW1EhTHRhdg"
      },
      "source": [
        "## Modelling\n",
        "\n",
        "We'll be building the following:\n",
        "\n",
        "* Model 0: Naive Bayes (baseline)\n",
        "* Model 1: Feed-forward neural network (dense model)\n",
        "* Model 2: LSTM model\n",
        "* Model 3: GRU model\n",
        "* Model 4: Bidirectional-LSTM model\n",
        "* Model 5: 1D Convolutional Neural Network\n",
        "* Model 6: TensorFlow Hub Pretrained Feature Extractor\n",
        "* Model 7: Same as model 6 with 10% of training data"
      ]
    },
    {
      "cell_type": "code",
      "metadata": {
        "id": "nLEG3Y-eS98G"
      },
      "source": [
        "# Since we will doing a lot of experimentation, it's a good idea we create some base functions\n",
        "# Following function evaluates: accuracy, precision, recall, f1-score\n",
        "from sklearn.metrics import accuracy_score, precision_recall_fscore_support\n",
        "\n",
        "def calculate_results(y_true, y_pred):\n",
        "  \"\"\"\n",
        "  Calculates model accuracy, precision, recall and f1 score of a binary classification model.\n",
        "\n",
        "  Args:\n",
        "  -----\n",
        "  y_true = true labels in the form of a 1D array\n",
        "  y_pred = predicted labels in the form of a 1D array\n",
        "\n",
        "  Returns a dictionary of accuracy, precision, recall, f1-score.\n",
        "  \"\"\"\n",
        "  # Calculate model accuracy\n",
        "  model_accuracy = accuracy_score(y_true, y_pred) * 100\n",
        "  # Calculate model precision, recall and f1 score using \"weighted\" average\n",
        "  model_precision, model_recall, model_f1, _ = precision_recall_fscore_support(y_true, y_pred, average=\"weighted\")\n",
        "  model_results = {\"accuracy\": model_accuracy,\n",
        "                  \"precision\": model_precision,\n",
        "                  \"recall\": model_recall,\n",
        "                  \"f1\": model_f1}\n",
        "  return model_results\n",
        "\n",
        "def create_tensorboard_callback(dir_name, experiment_name):\n",
        "  \"\"\"\n",
        "  Creates a TensorBoard callback instand to store log files.\n",
        "  Stores log files with the filepath:\n",
        "    \"dir_name/experiment_name/current_datetime/\"\n",
        "  Args:\n",
        "    dir_name: target directory to store TensorBoard log files\n",
        "    experiment_name: name of experiment directory (e.g. efficientnet_model_1)\n",
        "  \"\"\"\n",
        "  log_dir = dir_name + \"/\" + experiment_name + \"/\" + datetime.datetime.now().strftime(\"%Y%m%d-%H%M%S\")\n",
        "  tensorboard_callback = tf.keras.callbacks.TensorBoard(\n",
        "      log_dir=log_dir\n",
        "  )\n",
        "  print(f\"Saving TensorBoard log files to: {log_dir}\")\n",
        "  return tensorboard_callback\n",
        "\n",
        "def compare_baseline_to_new_results(baseline_results, new_model_results):\n",
        "  \"\"\"\n",
        "  Function to compare results between baseline model and any other model\n",
        "  Both baseline and new model's results are dictionaries of Accuracy, F1, Precision, Recall\n",
        "  \"\"\"\n",
        "  for key, value in baseline_results.items():\n",
        "    print(f\"Baseline {key}: {value:.2f}, New {key}: {new_model_results[key]:.2f}, Difference: {new_model_results[key]-value:.2f}\")"
      ],
      "execution_count": 34,
      "outputs": []
    },
    {
      "cell_type": "markdown",
      "metadata": {
        "id": "kKuckuveR5uo"
      },
      "source": [
        "### Model 0 - Baseline NB Model\n",
        "\n",
        "Just like TF, Scikit Learn models also don't take strings as inputs (DUHH!!)\n",
        "\n",
        "So, we will use [TF-IDF](https://en.wikipedia.org/wiki/Tf%E2%80%93idf) score for each word to convert text to number\n",
        "\n",
        "Also, we will create Sklearn pipeline to get the results\n",
        "\n",
        "But before that, a bit about TF-IDF. TF-IDF evaluated how relevant a word is in a collection of documents. It has 2 terms - \n",
        "\n",
        "1. Term Frequency (TF) - This measures the frequency of a word in a doc. We normalise the effect of the words by the total number of words in the doc.\n",
        "\n",
        "> TF = Freq of word W in Doc D / Total number of words in D\n",
        "\n",
        "2. Inverse Document Frequency (IDF) - This measures the importance of a document in the corpus. We are only interested in the number of docs the word W is present and NOT IN THE FREQUENCY.\n",
        "\n",
        "> IDF Definition = Inverse of (Number of docs in which word W occurs / Total number of Docs in Corpus). However, if number of docs in which W occurs is zero, then we might get DivisionByZeroError\n",
        "    \n",
        "So, IDF is defined as - \n",
        "\n",
        "> IDF = log(N / (df + 1)), where df is the number of docs in which W occurs\n",
        "\n",
        "So, putting it all together, TF-IDF score for a word W is -\n",
        "  \n",
        "    TFIDF = tf(w, d) * log(N / (df + 1)\n",
        "            where w : word for which TFIDF is being calculated\n",
        "                  d : current document\n",
        "                 df : number of docs in which w occurs\n",
        "                  N : Total number of docs\n",
        "\n",
        "\n",
        "Notice that TF-IDF normalizes the score for words like in, the, as, so (Stopwords). TF score will be high, but since these words will be present in most of the docs, IDF score will be very low. Still, it's a good practice to perform Data Cleaning\n"
      ]
    },
    {
      "cell_type": "code",
      "metadata": {
        "colab": {
          "base_uri": "https://localhost:8080/"
        },
        "id": "uJVYk8ZsS3jg",
        "outputId": "13436b4b-a2ca-4a8c-cef0-2bf22ada88b5"
      },
      "source": [
        "from sklearn.feature_extraction.text import TfidfVectorizer\n",
        "from sklearn.naive_bayes import MultinomialNB\n",
        "from sklearn.pipeline import Pipeline\n",
        "\n",
        "# Create tokenization and MNB pipeline\n",
        "model_0 = Pipeline([\n",
        "                    ('tfidf', TfidfVectorizer()),\n",
        "                    ('clf', MultinomialNB())\n",
        "])\n",
        "\n",
        "# Fit the pipeline to the training data\n",
        "model_0.fit(train_sentences, train_labels)\n",
        "\n",
        "# Make predictions\n",
        "baseline_preds = model_0.predict(val_sentences)\n",
        "print(\"Few predictions : \", baseline_preds[:10])\n",
        "\n",
        "# Evaluate the model on Testing data\n",
        "baseline_score = model_0.score(val_sentences, val_labels)\n",
        "print(f\"Our baseline model achieves an accuracy of: {baseline_score*100:.2f}%\")\n",
        "\n",
        "# Evaluation metrics\n",
        "baseline_results = calculate_results(y_true=val_labels,\n",
        "                                     y_pred=baseline_preds)\n",
        "baseline_results"
      ],
      "execution_count": 35,
      "outputs": [
        {
          "output_type": "stream",
          "text": [
            "Few predictions :  [0 0 0 0 0 0 0 0 0 1]\n",
            "Our baseline model achieves an accuracy of: 77.82%\n"
          ],
          "name": "stdout"
        },
        {
          "output_type": "execute_result",
          "data": {
            "text/plain": [
              "{'accuracy': 77.82152230971128,\n",
              " 'f1': 0.7703527809038113,\n",
              " 'precision': 0.792992256322435,\n",
              " 'recall': 0.7782152230971129}"
            ]
          },
          "metadata": {
            "tags": []
          },
          "execution_count": 35
        }
      ]
    },
    {
      "cell_type": "markdown",
      "metadata": {
        "id": "O0nb2n6GUWfM"
      },
      "source": [
        "### Model 1 - A simple Dense Model\n",
        "\n",
        "Too simple I'd say. Basically we are taking text and labels as input, do the tokenization, create embedding, convert embedding into lower dimension (like avg) and then pass it to 1 fully connected layer"
      ]
    },
    {
      "cell_type": "code",
      "metadata": {
        "colab": {
          "base_uri": "https://localhost:8080/"
        },
        "id": "UgHEguh963gF",
        "outputId": "127114f6-0eb2-4a4c-f9ed-c0b84055e29f"
      },
      "source": [
        "# We have 1-d input. Tweet as a string. \n",
        "inputs = layers.Input(shape=(1,), dtype = 'string')\n",
        "# Tokenize the text\n",
        "x = text_vectorizer(inputs)\n",
        "# Create embeddings using embedding layer created above\n",
        "x = embedding(x)\n",
        "# Convert to lower dimesnion, using Average\n",
        "x = layers.GlobalAveragePooling1D()(x)\n",
        "\n",
        "# Create outputs - since the output is Binary, we'll use Sigmoid\n",
        "outputs = layers.Dense(1, activation = 'sigmoid')(x)\n",
        "\n",
        "# Create the model\n",
        "model_1 = tf.keras.Model(inputs, outputs, name = 'model_1_dense')\n",
        "\n",
        "# Compile the model\n",
        "model_1.compile(loss = 'binary_crossentropy',\n",
        "                optimizer = tf.keras.optimizers.Adam(),\n",
        "                metrics = ['accuracy'])\n",
        "\n",
        "# Get a short summary of the model\n",
        "model_1.summary()\n",
        "\n",
        "# Fit the model\n",
        "model_1_history = model_1.fit(train_sentences,\n",
        "                              train_labels,\n",
        "                              epochs = 5,\n",
        "                              validation_data = (val_sentences, val_labels),\n",
        "                              callbacks = [create_tensorboard_callback(dir_name = SAVE_DIR,\n",
        "                                                                       experiment_name = 'Simple_Dense_Model')])\n",
        "\n",
        "# Evaluate the model\n",
        "model_1.evaluate(val_sentences, val_labels)"
      ],
      "execution_count": 36,
      "outputs": [
        {
          "output_type": "stream",
          "text": [
            "Model: \"model_1_dense\"\n",
            "_________________________________________________________________\n",
            "Layer (type)                 Output Shape              Param #   \n",
            "=================================================================\n",
            "input_1 (InputLayer)         [(None, 1)]               0         \n",
            "_________________________________________________________________\n",
            "text_vectorization (TextVect (None, 15)                0         \n",
            "_________________________________________________________________\n",
            "embedding (Embedding)        (None, 15, 128)           1280000   \n",
            "_________________________________________________________________\n",
            "global_average_pooling1d (Gl (None, 128)               0         \n",
            "_________________________________________________________________\n",
            "dense (Dense)                (None, 1)                 129       \n",
            "=================================================================\n",
            "Total params: 1,280,129\n",
            "Trainable params: 1,280,129\n",
            "Non-trainable params: 0\n",
            "_________________________________________________________________\n",
            "Saving TensorBoard log files to: model_logs/Simple_Dense_Model/20210724-070412\n",
            "Epoch 1/5\n",
            "215/215 [==============================] - 4s 16ms/step - loss: 0.6116 - accuracy: 0.6879 - val_loss: 0.5426 - val_accuracy: 0.7664\n",
            "Epoch 2/5\n",
            "215/215 [==============================] - 3s 14ms/step - loss: 0.4424 - accuracy: 0.8183 - val_loss: 0.4835 - val_accuracy: 0.7900\n",
            "Epoch 3/5\n",
            "215/215 [==============================] - 3s 14ms/step - loss: 0.3465 - accuracy: 0.8625 - val_loss: 0.4795 - val_accuracy: 0.7913\n",
            "Epoch 4/5\n",
            "215/215 [==============================] - 3s 14ms/step - loss: 0.2834 - accuracy: 0.8902 - val_loss: 0.4823 - val_accuracy: 0.7808\n",
            "Epoch 5/5\n",
            "215/215 [==============================] - 3s 14ms/step - loss: 0.2370 - accuracy: 0.9120 - val_loss: 0.4995 - val_accuracy: 0.7848\n",
            "24/24 [==============================] - 0s 2ms/step - loss: 0.4995 - accuracy: 0.7848\n"
          ],
          "name": "stdout"
        },
        {
          "output_type": "execute_result",
          "data": {
            "text/plain": [
              "[0.4994889199733734, 0.7847769260406494]"
            ]
          },
          "metadata": {
            "tags": []
          },
          "execution_count": 36
        }
      ]
    },
    {
      "cell_type": "code",
      "metadata": {
        "colab": {
          "base_uri": "https://localhost:8080/"
        },
        "id": "cVueV9WJjIu9",
        "outputId": "553c2087-db9e-407c-9378-2d4edfdbf0b2"
      },
      "source": [
        "# Check the results\n",
        "model_1.evaluate(val_sentences, val_labels)"
      ],
      "execution_count": 37,
      "outputs": [
        {
          "output_type": "stream",
          "text": [
            "24/24 [==============================] - 0s 2ms/step - loss: 0.4995 - accuracy: 0.7848\n"
          ],
          "name": "stdout"
        },
        {
          "output_type": "execute_result",
          "data": {
            "text/plain": [
              "[0.4994889199733734, 0.7847769260406494]"
            ]
          },
          "metadata": {
            "tags": []
          },
          "execution_count": 37
        }
      ]
    },
    {
      "cell_type": "code",
      "metadata": {
        "colab": {
          "base_uri": "https://localhost:8080/"
        },
        "id": "yotrZ9vujLsk",
        "outputId": "082dde90-b8f3-4121-ba2a-0648de708d53"
      },
      "source": [
        "# Make predictions (these come back in the form of probabilities)\n",
        "model_1_pred_probs = model_1.predict(val_sentences)\n",
        "model_1_pred_probs[:10] # only print out the first 10 prediction probabilities"
      ],
      "execution_count": 38,
      "outputs": [
        {
          "output_type": "execute_result",
          "data": {
            "text/plain": [
              "array([[0.03370094],\n",
              "       [0.15840867],\n",
              "       [0.39773268],\n",
              "       [0.02160904],\n",
              "       [0.58505815],\n",
              "       [0.16424638],\n",
              "       [0.02105337],\n",
              "       [0.27672717],\n",
              "       [0.11914557],\n",
              "       [0.9040068 ]], dtype=float32)"
            ]
          },
          "metadata": {
            "tags": []
          },
          "execution_count": 38
        }
      ]
    },
    {
      "cell_type": "markdown",
      "metadata": {
        "id": "3MywOJlWfPLd"
      },
      "source": [
        "Sigmoid function returns probabilities and these probabilities need to be converted to 1,0.\n",
        "\n",
        "We will use a simple round function to convert probabilities to binary. This means we use 0.5 as a cut-off. However, for experimentation, we can ROC curve to determine threshold"
      ]
    },
    {
      "cell_type": "code",
      "metadata": {
        "colab": {
          "base_uri": "https://localhost:8080/"
        },
        "id": "nkdAQJXWe_Nl",
        "outputId": "db06ec70-4e67-4176-e64d-436f2a230081"
      },
      "source": [
        "# Turn prediction probabilities into single-dimension tensor of floats\n",
        "model_1_preds = tf.squeeze(tf.round(model_1_pred_probs)) # squeeze removes single dimensions\n",
        "model_1_preds[:10]"
      ],
      "execution_count": 39,
      "outputs": [
        {
          "output_type": "execute_result",
          "data": {
            "text/plain": [
              "<tf.Tensor: shape=(10,), dtype=float32, numpy=array([0., 0., 0., 0., 1., 0., 0., 0., 0., 1.], dtype=float32)>"
            ]
          },
          "metadata": {
            "tags": []
          },
          "execution_count": 39
        }
      ]
    },
    {
      "cell_type": "code",
      "metadata": {
        "colab": {
          "base_uri": "https://localhost:8080/"
        },
        "id": "fAWEGd1rfJIi",
        "outputId": "e53a54aa-e7c8-412a-a55c-b7357fc3e3c6"
      },
      "source": [
        "# Calculate model_1 metrics\n",
        "model_1_results = calculate_results(y_true=val_labels, \n",
        "                                    y_pred=model_1_preds)\n",
        "model_1_results"
      ],
      "execution_count": 40,
      "outputs": [
        {
          "output_type": "execute_result",
          "data": {
            "text/plain": [
              "{'accuracy': 78.4776902887139,\n",
              " 'f1': 0.7826583757567217,\n",
              " 'precision': 0.7854715275975119,\n",
              " 'recall': 0.7847769028871391}"
            ]
          },
          "metadata": {
            "tags": []
          },
          "execution_count": 40
        }
      ]
    },
    {
      "cell_type": "code",
      "metadata": {
        "colab": {
          "base_uri": "https://localhost:8080/"
        },
        "id": "nUzNGailgfck",
        "outputId": "24c41b17-77f7-4284-bf57-37b6f224e8f4"
      },
      "source": [
        "# Is our simple Keras model better than our baseline model?\n",
        "\n",
        "np.array(list(model_1_results.values())) > np.array(list(baseline_results.values()))"
      ],
      "execution_count": 41,
      "outputs": [
        {
          "output_type": "execute_result",
          "data": {
            "text/plain": [
              "array([ True, False,  True,  True])"
            ]
          },
          "metadata": {
            "tags": []
          },
          "execution_count": 41
        }
      ]
    },
    {
      "cell_type": "code",
      "metadata": {
        "colab": {
          "base_uri": "https://localhost:8080/"
        },
        "id": "0TF2t5mahPqm",
        "outputId": "9af1d4bc-46d2-4860-8e5c-0fa0cfe399a9"
      },
      "source": [
        "# Compare Model's results to Baseline model\n",
        "\n",
        "compare_baseline_to_new_results(baseline_results=baseline_results, \n",
        "                                new_model_results=model_1_results)"
      ],
      "execution_count": 42,
      "outputs": [
        {
          "output_type": "stream",
          "text": [
            "Baseline accuracy: 77.82, New accuracy: 78.48, Difference: 0.66\n",
            "Baseline precision: 0.79, New precision: 0.79, Difference: -0.01\n",
            "Baseline recall: 0.78, New recall: 0.78, Difference: 0.01\n",
            "Baseline f1: 0.77, New f1: 0.78, Difference: 0.01\n"
          ],
          "name": "stdout"
        }
      ]
    },
    {
      "cell_type": "markdown",
      "metadata": {
        "id": "PZglOVw0h13B"
      },
      "source": [
        "### RNN\n",
        "\n",
        "Next, we look at another type of ANN architecture - Recurrent Neural Networks. These are based on simple premise of using the information from previous state and define next steps using inputs from the previous state. This is specially useful in problems like Text, Audio etc (basically Sequences). \n",
        "\n",
        "Recurrent neural networks can be used for a number of sequence-based problems:\n",
        "\n",
        "1. **One to one**: one input, one output, such as image classification.\n",
        "2. **One to many**: one input, many outputs, such as image captioning (image input, a sequence of text as caption output).\n",
        "3. **Many to one**: many inputs, one outputs, such as text classification (classifying a Tweet as real diaster or not real diaster).\n",
        "4. **Many to many**: many inputs, many outputs, such as machine translation (translating English to Spanish) or speech to text (audio wave as input, text as output).\n",
        "\n",
        "RNNs can be broadly seen under following variants - \n",
        "\n",
        "1. Long Short Term Memory (LSTM) Units\n",
        "2. Gated Recurrent Units (GRU)\n",
        "3. Bi-Directional RNNs\n",
        "\n"
      ]
    },
    {
      "cell_type": "markdown",
      "metadata": {
        "id": "UdwdAIzGhErq"
      },
      "source": [
        "### Model 2 - LSTM\n",
        "\n",
        "LSTM is a type of RNN based on the paradigm of using information from previous state. Long Short Term Memory networks allow the information to persist, unlike traditional neural nets, and can be thought of as multiple copies of the same network. Same can be applied to RNNs. However, as the length of the state grows, i.e., the distance in the past we have to go, RNN become slow. This problem is overcome by LSTMs. LSTMs are explicitly designed to avoid the long-term dependency problem. Remembering information for long periods of time is practically their default behavior, not something they struggle to learn!\n",
        "\n",
        "\n",
        "The model structure remains pretty same as Model 1, just that we will add an LSTM layer between embedding and output - \n",
        "\n",
        "`Input (text) -> Tokenize -> Embedding -> Layers -> Output (label probability)`\n"
      ]
    },
    {
      "cell_type": "code",
      "metadata": {
        "id": "LiASx6GcjPGe"
      },
      "source": [
        "from tensorflow.keras import layers\n",
        "\n",
        "# Define the input layer\n",
        "inputs = layers.Input(shape=(1,) , dtype = \"string\")\n",
        "\n",
        "# Vectorize the inputs\n",
        "x = text_vectorizer(inputs)\n",
        "\n",
        "# Convert to embeddings\n",
        "x = embedding(x)\n",
        "\n",
        "# Add LSTM layer\n",
        "x = layers.LSTM(64)(x)\n",
        "\n",
        "# Define output\n",
        "outputs = layers.Dense(1, activation='sigmoid')(x)\n",
        "\n",
        "# Create the model\n",
        "model_2 = tf.keras.Model(inputs, outputs, name = 'Model_2_LSTM')"
      ],
      "execution_count": 43,
      "outputs": []
    },
    {
      "cell_type": "code",
      "metadata": {
        "id": "2LC8yuoZjU9a"
      },
      "source": [
        "# Compile the model\n",
        "model_2.compile(loss = 'binary_crossentropy',\n",
        "                optimizer = 'adam',\n",
        "                metrics = ['accuracy'])"
      ],
      "execution_count": 44,
      "outputs": []
    },
    {
      "cell_type": "code",
      "metadata": {
        "colab": {
          "base_uri": "https://localhost:8080/"
        },
        "id": "BdUfFwsckxP6",
        "outputId": "cc522670-c067-4e77-ab40-e35daa0e70ad"
      },
      "source": [
        "# Model Summary\n",
        "model_2.summary()"
      ],
      "execution_count": 45,
      "outputs": [
        {
          "output_type": "stream",
          "text": [
            "Model: \"Model_2_LSTM\"\n",
            "_________________________________________________________________\n",
            "Layer (type)                 Output Shape              Param #   \n",
            "=================================================================\n",
            "input_2 (InputLayer)         [(None, 1)]               0         \n",
            "_________________________________________________________________\n",
            "text_vectorization (TextVect (None, 15)                0         \n",
            "_________________________________________________________________\n",
            "embedding (Embedding)        (None, 15, 128)           1280000   \n",
            "_________________________________________________________________\n",
            "lstm (LSTM)                  (None, 64)                49408     \n",
            "_________________________________________________________________\n",
            "dense_1 (Dense)              (None, 1)                 65        \n",
            "=================================================================\n",
            "Total params: 1,329,473\n",
            "Trainable params: 1,329,473\n",
            "Non-trainable params: 0\n",
            "_________________________________________________________________\n"
          ],
          "name": "stdout"
        }
      ]
    },
    {
      "cell_type": "code",
      "metadata": {
        "colab": {
          "base_uri": "https://localhost:8080/"
        },
        "id": "9cBQmzdPk4ds",
        "outputId": "921b1d8f-54ef-4484-91a0-ff4ebedf231d"
      },
      "source": [
        "# Fit the model\n",
        "\n",
        "model_2.fit(train_sentences,\n",
        "            train_labels,\n",
        "            epochs = 5,\n",
        "            validation_data = (val_sentences, val_labels),\n",
        "            callbacks=[create_tensorboard_callback(SAVE_DIR, \n",
        "                                                    \"LSTM\")])"
      ],
      "execution_count": 46,
      "outputs": [
        {
          "output_type": "stream",
          "text": [
            "Saving TensorBoard log files to: model_logs/LSTM/20210724-070434\n",
            "Epoch 1/5\n",
            "215/215 [==============================] - 8s 28ms/step - loss: 0.2275 - accuracy: 0.9123 - val_loss: 0.5467 - val_accuracy: 0.7585\n",
            "Epoch 2/5\n",
            "215/215 [==============================] - 5s 25ms/step - loss: 0.1566 - accuracy: 0.9410 - val_loss: 0.7313 - val_accuracy: 0.7677\n",
            "Epoch 3/5\n",
            "215/215 [==============================] - 5s 25ms/step - loss: 0.1282 - accuracy: 0.9514 - val_loss: 0.6359 - val_accuracy: 0.7625\n",
            "Epoch 4/5\n",
            "215/215 [==============================] - 5s 25ms/step - loss: 0.1067 - accuracy: 0.9591 - val_loss: 0.7386 - val_accuracy: 0.7664\n",
            "Epoch 5/5\n",
            "215/215 [==============================] - 5s 25ms/step - loss: 0.0867 - accuracy: 0.9653 - val_loss: 0.8209 - val_accuracy: 0.7651\n"
          ],
          "name": "stdout"
        },
        {
          "output_type": "execute_result",
          "data": {
            "text/plain": [
              "<tensorflow.python.keras.callbacks.History at 0x7f217be43e10>"
            ]
          },
          "metadata": {
            "tags": []
          },
          "execution_count": 46
        }
      ]
    },
    {
      "cell_type": "code",
      "metadata": {
        "colab": {
          "base_uri": "https://localhost:8080/"
        },
        "id": "tjdzB7CclS04",
        "outputId": "142a5de9-4c0d-43f0-a060-6d281eaf0f18"
      },
      "source": [
        "# Make predictions on the validation dataset\n",
        "model_2_pred_probs = model_2.predict(val_sentences)\n",
        "model_2_pred_probs.shape, model_2_pred_probs[:10] # view the first 10"
      ],
      "execution_count": 47,
      "outputs": [
        {
          "output_type": "execute_result",
          "data": {
            "text/plain": [
              "((762, 1), array([[0.00330544],\n",
              "        [0.04036021],\n",
              "        [0.00636348],\n",
              "        [0.00115278],\n",
              "        [0.53156686],\n",
              "        [0.03145063],\n",
              "        [0.0011037 ],\n",
              "        [0.04730874],\n",
              "        [0.02203816],\n",
              "        [0.99867433]], dtype=float32))"
            ]
          },
          "metadata": {
            "tags": []
          },
          "execution_count": 47
        }
      ]
    },
    {
      "cell_type": "code",
      "metadata": {
        "colab": {
          "base_uri": "https://localhost:8080/"
        },
        "id": "BMYdhW7dl19U",
        "outputId": "8939d1c3-7423-46f2-fd69-1ac6d09a3153"
      },
      "source": [
        "# Round out predictions and reduce to 1-dimensional array\n",
        "model_2_preds = tf.squeeze(tf.round(model_2_pred_probs))\n",
        "model_2_preds[:10]"
      ],
      "execution_count": 48,
      "outputs": [
        {
          "output_type": "execute_result",
          "data": {
            "text/plain": [
              "<tf.Tensor: shape=(10,), dtype=float32, numpy=array([0., 0., 0., 0., 1., 0., 0., 0., 0., 1.], dtype=float32)>"
            ]
          },
          "metadata": {
            "tags": []
          },
          "execution_count": 48
        }
      ]
    },
    {
      "cell_type": "code",
      "metadata": {
        "colab": {
          "base_uri": "https://localhost:8080/"
        },
        "id": "w9-XnqRsl4Hn",
        "outputId": "453d98d2-ec25-4b56-a40e-8f1622024029"
      },
      "source": [
        "# Calculate LSTM model results\n",
        "model_2_results = calculate_results(y_true=val_labels,\n",
        "                                    y_pred=model_2_preds)\n",
        "model_2_results"
      ],
      "execution_count": 49,
      "outputs": [
        {
          "output_type": "execute_result",
          "data": {
            "text/plain": [
              "{'accuracy': 76.50918635170603,\n",
              " 'f1': 0.7615709832938355,\n",
              " 'precision': 0.7670119425815111,\n",
              " 'recall': 0.7650918635170604}"
            ]
          },
          "metadata": {
            "tags": []
          },
          "execution_count": 49
        }
      ]
    },
    {
      "cell_type": "code",
      "metadata": {
        "colab": {
          "base_uri": "https://localhost:8080/"
        },
        "id": "ecLmARAEl5uW",
        "outputId": "0f43f695-5929-458a-8450-36e571b30c5b"
      },
      "source": [
        "# Compare model 2 to baseline\n",
        "compare_baseline_to_new_results(baseline_results, model_2_results)"
      ],
      "execution_count": 50,
      "outputs": [
        {
          "output_type": "stream",
          "text": [
            "Baseline accuracy: 77.82, New accuracy: 76.51, Difference: -1.31\n",
            "Baseline precision: 0.79, New precision: 0.77, Difference: -0.03\n",
            "Baseline recall: 0.78, New recall: 0.77, Difference: -0.01\n",
            "Baseline f1: 0.77, New f1: 0.76, Difference: -0.01\n"
          ],
          "name": "stdout"
        }
      ]
    },
    {
      "cell_type": "markdown",
      "metadata": {
        "id": "7m3KS_2vl7Tu"
      },
      "source": [
        "### Model 3 - GRU\n",
        "\n",
        "Gated Recurrent Units are similar to LSTM, just have lesser parameters. We will use the same process as LSTMs, where instead of LSTM layer, we will use GRU layer - \n",
        "\n",
        "`Input (text) -> Tokenize -> Embedding -> Layers -> Output (label probability)`"
      ]
    },
    {
      "cell_type": "code",
      "metadata": {
        "id": "FbMGdpdMm_7l"
      },
      "source": [
        "# Build an RNN using the GRU cell\n",
        "from tensorflow.keras import layers\n",
        "\n",
        "# Define the input layer\n",
        "inputs = layers.Input(shape=(1,) , dtype = \"string\")\n",
        "\n",
        "# Vectorize the inputs\n",
        "x = text_vectorizer(inputs)\n",
        "\n",
        "# Convert to embeddings\n",
        "x = embedding(x)\n",
        "\n",
        "# Add LSTM layer\n",
        "x = layers.GRU(64)(x)\n",
        "\n",
        "# Define output\n",
        "outputs = layers.Dense(1, activation='sigmoid')(x)\n",
        "\n",
        "# Create the model\n",
        "model_3 = tf.keras.Model(inputs, outputs, name=\"model_3_GRU\")"
      ],
      "execution_count": 51,
      "outputs": []
    },
    {
      "cell_type": "code",
      "metadata": {
        "id": "vrGyeU79nEGx"
      },
      "source": [
        "# Compile GRU model\n",
        "model_3.compile(loss=\"binary_crossentropy\",\n",
        "                optimizer=tf.keras.optimizers.Adam(),\n",
        "                metrics=[\"accuracy\"])"
      ],
      "execution_count": 52,
      "outputs": []
    },
    {
      "cell_type": "code",
      "metadata": {
        "colab": {
          "base_uri": "https://localhost:8080/"
        },
        "id": "Etu5uP3XnHwo",
        "outputId": "695dbd45-bdc5-49d2-8641-852f7d669ba2"
      },
      "source": [
        "# Get a summary of the GRU model\n",
        "model_3.summary()"
      ],
      "execution_count": 53,
      "outputs": [
        {
          "output_type": "stream",
          "text": [
            "Model: \"model_3_GRU\"\n",
            "_________________________________________________________________\n",
            "Layer (type)                 Output Shape              Param #   \n",
            "=================================================================\n",
            "input_3 (InputLayer)         [(None, 1)]               0         \n",
            "_________________________________________________________________\n",
            "text_vectorization (TextVect (None, 15)                0         \n",
            "_________________________________________________________________\n",
            "embedding (Embedding)        (None, 15, 128)           1280000   \n",
            "_________________________________________________________________\n",
            "gru (GRU)                    (None, 64)                37248     \n",
            "_________________________________________________________________\n",
            "dense_2 (Dense)              (None, 1)                 65        \n",
            "=================================================================\n",
            "Total params: 1,317,313\n",
            "Trainable params: 1,317,313\n",
            "Non-trainable params: 0\n",
            "_________________________________________________________________\n"
          ],
          "name": "stdout"
        }
      ]
    },
    {
      "cell_type": "code",
      "metadata": {
        "colab": {
          "base_uri": "https://localhost:8080/"
        },
        "id": "IcviKCd_nKNZ",
        "outputId": "65d58c41-7f8d-43ad-8ead-ffe6ea82daf3"
      },
      "source": [
        "# Fit model\n",
        "model_3_history = model_3.fit(train_sentences,\n",
        "                              train_labels,\n",
        "                              epochs=5,\n",
        "                              validation_data=(val_sentences, val_labels),\n",
        "                              callbacks=[create_tensorboard_callback(SAVE_DIR, \"GRU\")])"
      ],
      "execution_count": 54,
      "outputs": [
        {
          "output_type": "stream",
          "text": [
            "Saving TensorBoard log files to: model_logs/GRU/20210724-070518\n",
            "Epoch 1/5\n",
            "215/215 [==============================] - 8s 28ms/step - loss: 0.1536 - accuracy: 0.9402 - val_loss: 0.8326 - val_accuracy: 0.7349\n",
            "Epoch 2/5\n",
            "215/215 [==============================] - 5s 25ms/step - loss: 0.0837 - accuracy: 0.9710 - val_loss: 0.9260 - val_accuracy: 0.7559\n",
            "Epoch 3/5\n",
            "215/215 [==============================] - 5s 25ms/step - loss: 0.0716 - accuracy: 0.9739 - val_loss: 0.8237 - val_accuracy: 0.7467\n",
            "Epoch 4/5\n",
            "215/215 [==============================] - 5s 25ms/step - loss: 0.0632 - accuracy: 0.9761 - val_loss: 1.1618 - val_accuracy: 0.7493\n",
            "Epoch 5/5\n",
            "215/215 [==============================] - 5s 25ms/step - loss: 0.0594 - accuracy: 0.9746 - val_loss: 0.9870 - val_accuracy: 0.7585\n"
          ],
          "name": "stdout"
        }
      ]
    },
    {
      "cell_type": "code",
      "metadata": {
        "colab": {
          "base_uri": "https://localhost:8080/"
        },
        "id": "_ismArVmnOrg",
        "outputId": "96c13410-903c-4bbb-eda9-3f933da47c4c"
      },
      "source": [
        "# Make predictions on the validation data\n",
        "model_3_pred_probs = model_3.predict(val_sentences)\n",
        "model_3_pred_probs.shape, model_3_pred_probs[:10]"
      ],
      "execution_count": 55,
      "outputs": [
        {
          "output_type": "execute_result",
          "data": {
            "text/plain": [
              "((762, 1), array([[5.2599609e-03],\n",
              "        [2.1683514e-02],\n",
              "        [4.1362643e-03],\n",
              "        [3.1420588e-04],\n",
              "        [9.3161309e-01],\n",
              "        [5.6369007e-02],\n",
              "        [2.6491284e-04],\n",
              "        [2.3854643e-02],\n",
              "        [1.9202173e-02],\n",
              "        [9.9948800e-01]], dtype=float32))"
            ]
          },
          "metadata": {
            "tags": []
          },
          "execution_count": 55
        }
      ]
    },
    {
      "cell_type": "code",
      "metadata": {
        "colab": {
          "base_uri": "https://localhost:8080/"
        },
        "id": "gsMy_8e5nQoj",
        "outputId": "bf6d468e-1d57-44a1-8d89-c7824e638756"
      },
      "source": [
        "# Convert prediction probabilities to prediction classes\n",
        "model_3_preds = tf.squeeze(tf.round(model_3_pred_probs))\n",
        "model_3_preds[:10]"
      ],
      "execution_count": 56,
      "outputs": [
        {
          "output_type": "execute_result",
          "data": {
            "text/plain": [
              "<tf.Tensor: shape=(10,), dtype=float32, numpy=array([0., 0., 0., 0., 1., 0., 0., 0., 0., 1.], dtype=float32)>"
            ]
          },
          "metadata": {
            "tags": []
          },
          "execution_count": 56
        }
      ]
    },
    {
      "cell_type": "code",
      "metadata": {
        "colab": {
          "base_uri": "https://localhost:8080/"
        },
        "id": "F_d4gynOnSBP",
        "outputId": "800bcde8-28f9-4696-decd-19c60abfd862"
      },
      "source": [
        "# Calcuate model_3 results\n",
        "model_3_results = calculate_results(y_true=val_labels, \n",
        "                                    y_pred=model_3_preds)\n",
        "model_3_results"
      ],
      "execution_count": 57,
      "outputs": [
        {
          "output_type": "execute_result",
          "data": {
            "text/plain": [
              "{'accuracy': 75.8530183727034,\n",
              " 'f1': 0.7561532996294926,\n",
              " 'precision': 0.7585277801813235,\n",
              " 'recall': 0.7585301837270341}"
            ]
          },
          "metadata": {
            "tags": []
          },
          "execution_count": 57
        }
      ]
    },
    {
      "cell_type": "code",
      "metadata": {
        "colab": {
          "base_uri": "https://localhost:8080/"
        },
        "id": "K0qSpC2PnTc_",
        "outputId": "1f89329b-6f27-4bd1-a263-5fe9c5ce5569"
      },
      "source": [
        "# Compare to baseline\n",
        "compare_baseline_to_new_results(baseline_results, model_3_results)"
      ],
      "execution_count": 58,
      "outputs": [
        {
          "output_type": "stream",
          "text": [
            "Baseline accuracy: 77.82, New accuracy: 75.85, Difference: -1.97\n",
            "Baseline precision: 0.79, New precision: 0.76, Difference: -0.03\n",
            "Baseline recall: 0.78, New recall: 0.76, Difference: -0.02\n",
            "Baseline f1: 0.77, New f1: 0.76, Difference: -0.01\n"
          ],
          "name": "stdout"
        }
      ]
    },
    {
      "cell_type": "markdown",
      "metadata": {
        "id": "PvXPXHZ7nUwD"
      },
      "source": [
        "### Model 4 - Bi-Directional RNNs\n",
        "\n",
        "We have already trained 2 variants of RNNs - LSTM and GRU. Next, we look at another type of RNN - Bi-Directional RNN. \n",
        "\n",
        "A standard RNN will process the data from left to right. Bi-Directional RNN will process the sequence from left-right and then also from right-left. Intuitively, someone reads a sentence from left to right and if it doesn't make much sense, go over the sentence again from right to left. \n",
        "\n",
        "More often than often, Bi-Directional RNNs provide improved performance compared to vanilla RNNs. However, this comes at the cost of longer training times and increased model parameters, since left-right and right-left.\n",
        "\n",
        "Here again, we will follow the same structure as in model 3 and 4 - \n",
        "\n",
        "`Input (text) -> Tokenize -> Embedding -> Layers -> Output (label probability)`"
      ]
    },
    {
      "cell_type": "code",
      "metadata": {
        "id": "w4b7xygHpS3F"
      },
      "source": [
        "# Build an RNN using the GRU cell\n",
        "from tensorflow.keras import layers\n",
        "\n",
        "# Define the input layer\n",
        "inputs = layers.Input(shape=(1,) , dtype = \"string\")\n",
        "\n",
        "# Vectorize the inputs\n",
        "x = text_vectorizer(inputs)\n",
        "\n",
        "# Convert to embeddings\n",
        "x = embedding(x)\n",
        "\n",
        "# Add Bi-Directional layer - Notice how we wrapped LSTM layer inside TF Bidirectional. This can be done with any RNN layer\n",
        "x = layers.Bidirectional(layers.LSTM(64))(x)\n",
        "\n",
        "# Define output\n",
        "outputs = layers.Dense(1, activation='sigmoid')(x)\n",
        "\n",
        "# Create the model\n",
        "model_4 = tf.keras.Model(inputs, outputs, name=\"model_4_Bidirectional\")"
      ],
      "execution_count": 59,
      "outputs": []
    },
    {
      "cell_type": "code",
      "metadata": {
        "id": "y3LPnctgp-rd"
      },
      "source": [
        "# Compile the model\n",
        "\n",
        "model_4.compile(loss = 'binary_crossentropy',\n",
        "                optimizer = 'adam',\n",
        "                metrics = ['accuracy'])"
      ],
      "execution_count": 60,
      "outputs": []
    },
    {
      "cell_type": "code",
      "metadata": {
        "colab": {
          "base_uri": "https://localhost:8080/"
        },
        "id": "neStRnkEqMz5",
        "outputId": "cc6f0070-8d30-4f64-fb9b-61ada457bcf5"
      },
      "source": [
        "# Get a summary of our bidirectional model\n",
        "model_4.summary()"
      ],
      "execution_count": 61,
      "outputs": [
        {
          "output_type": "stream",
          "text": [
            "Model: \"model_4_Bidirectional\"\n",
            "_________________________________________________________________\n",
            "Layer (type)                 Output Shape              Param #   \n",
            "=================================================================\n",
            "input_4 (InputLayer)         [(None, 1)]               0         \n",
            "_________________________________________________________________\n",
            "text_vectorization (TextVect (None, 15)                0         \n",
            "_________________________________________________________________\n",
            "embedding (Embedding)        (None, 15, 128)           1280000   \n",
            "_________________________________________________________________\n",
            "bidirectional (Bidirectional (None, 128)               98816     \n",
            "_________________________________________________________________\n",
            "dense_3 (Dense)              (None, 1)                 129       \n",
            "=================================================================\n",
            "Total params: 1,378,945\n",
            "Trainable params: 1,378,945\n",
            "Non-trainable params: 0\n",
            "_________________________________________________________________\n"
          ],
          "name": "stdout"
        }
      ]
    },
    {
      "cell_type": "markdown",
      "metadata": {
        "id": "dnXQw8_PqTDe"
      },
      "source": [
        "A lot more parameters!!"
      ]
    },
    {
      "cell_type": "code",
      "metadata": {
        "colab": {
          "base_uri": "https://localhost:8080/"
        },
        "id": "7HredtX8qOQz",
        "outputId": "f8a6ab8d-e228-4bbc-ea46-7ad502d75077"
      },
      "source": [
        "# Fit the model (takes longer because of the bidirectional layers)\n",
        "model_4_history = model_4.fit(train_sentences,\n",
        "                              train_labels,\n",
        "                              epochs=5,\n",
        "                              validation_data=(val_sentences, val_labels),\n",
        "                              callbacks=[create_tensorboard_callback(SAVE_DIR, \"bidirectional_RNN\")])"
      ],
      "execution_count": 62,
      "outputs": [
        {
          "output_type": "stream",
          "text": [
            "Saving TensorBoard log files to: model_logs/bidirectional_RNN/20210724-070548\n",
            "Epoch 1/5\n",
            "215/215 [==============================] - 11s 38ms/step - loss: 0.1062 - accuracy: 0.9677 - val_loss: 0.9372 - val_accuracy: 0.7480\n",
            "Epoch 2/5\n",
            "215/215 [==============================] - 7s 33ms/step - loss: 0.0554 - accuracy: 0.9777 - val_loss: 1.1426 - val_accuracy: 0.7467\n",
            "Epoch 3/5\n",
            "215/215 [==============================] - 7s 34ms/step - loss: 0.0469 - accuracy: 0.9781 - val_loss: 1.3664 - val_accuracy: 0.7467\n",
            "Epoch 4/5\n",
            "215/215 [==============================] - 7s 34ms/step - loss: 0.0452 - accuracy: 0.9781 - val_loss: 1.3134 - val_accuracy: 0.7533\n",
            "Epoch 5/5\n",
            "215/215 [==============================] - 7s 34ms/step - loss: 0.0408 - accuracy: 0.9801 - val_loss: 1.5743 - val_accuracy: 0.7402\n"
          ],
          "name": "stdout"
        }
      ]
    },
    {
      "cell_type": "code",
      "metadata": {
        "colab": {
          "base_uri": "https://localhost:8080/"
        },
        "id": "vRcLVbPxqWTP",
        "outputId": "aa2b8ef7-ed9f-4121-8e73-dec8105f22aa"
      },
      "source": [
        "# Make predictions with bidirectional RNN on the validation data\n",
        "model_4_pred_probs = model_4.predict(val_sentences)\n",
        "model_4_pred_probs[:10]"
      ],
      "execution_count": 63,
      "outputs": [
        {
          "output_type": "execute_result",
          "data": {
            "text/plain": [
              "array([[1.9919872e-04],\n",
              "       [1.3370216e-03],\n",
              "       [1.5705824e-04],\n",
              "       [4.7935242e-05],\n",
              "       [9.9259597e-01],\n",
              "       [1.1962119e-01],\n",
              "       [1.8731938e-05],\n",
              "       [6.4137757e-02],\n",
              "       [2.3186803e-03],\n",
              "       [9.9997473e-01]], dtype=float32)"
            ]
          },
          "metadata": {
            "tags": []
          },
          "execution_count": 63
        }
      ]
    },
    {
      "cell_type": "code",
      "metadata": {
        "colab": {
          "base_uri": "https://localhost:8080/"
        },
        "id": "qah_eX1iqX3c",
        "outputId": "c563c14e-093f-4303-9b20-8d81b17e9a3f"
      },
      "source": [
        "# Convert prediction probabilities to labels\n",
        "model_4_preds = tf.squeeze(tf.round(model_4_pred_probs))\n",
        "model_4_preds[:10]"
      ],
      "execution_count": 64,
      "outputs": [
        {
          "output_type": "execute_result",
          "data": {
            "text/plain": [
              "<tf.Tensor: shape=(10,), dtype=float32, numpy=array([0., 0., 0., 0., 1., 0., 0., 0., 0., 1.], dtype=float32)>"
            ]
          },
          "metadata": {
            "tags": []
          },
          "execution_count": 64
        }
      ]
    },
    {
      "cell_type": "code",
      "metadata": {
        "colab": {
          "base_uri": "https://localhost:8080/"
        },
        "id": "fca84BAKqZIr",
        "outputId": "7a7b7a60-f745-4a61-d45d-ac9e147024de"
      },
      "source": [
        "# Calculate bidirectional RNN model results\n",
        "model_4_results = calculate_results(val_labels, model_4_preds)\n",
        "model_4_results"
      ],
      "execution_count": 65,
      "outputs": [
        {
          "output_type": "execute_result",
          "data": {
            "text/plain": [
              "{'accuracy': 74.01574803149606,\n",
              " 'f1': 0.7397021307105048,\n",
              " 'precision': 0.7395037867691541,\n",
              " 'recall': 0.7401574803149606}"
            ]
          },
          "metadata": {
            "tags": []
          },
          "execution_count": 65
        }
      ]
    },
    {
      "cell_type": "code",
      "metadata": {
        "colab": {
          "base_uri": "https://localhost:8080/"
        },
        "id": "GgM3-G4oqaYu",
        "outputId": "bea09ce4-f17a-4c57-e8bd-db89471349d0"
      },
      "source": [
        "# Check to see how the bidirectional model performs against the baseline\n",
        "compare_baseline_to_new_results(baseline_results, model_4_results)"
      ],
      "execution_count": 66,
      "outputs": [
        {
          "output_type": "stream",
          "text": [
            "Baseline accuracy: 77.82, New accuracy: 74.02, Difference: -3.81\n",
            "Baseline precision: 0.79, New precision: 0.74, Difference: -0.05\n",
            "Baseline recall: 0.78, New recall: 0.74, Difference: -0.04\n",
            "Baseline f1: 0.77, New f1: 0.74, Difference: -0.03\n"
          ],
          "name": "stdout"
        }
      ]
    },
    {
      "cell_type": "markdown",
      "metadata": {
        "id": "98RFxwSOR_xN"
      },
      "source": [
        "### Model 5 - CNN\n",
        "\n",
        "CNN for text? Are you really sure? Well yes, CNNs do actually work pretty good on a lot of text related tasks and sequences.\n",
        "\n",
        "Main difference between using CNNs for Images and Text is the shape of the data. Images mostly are 2D, or 3D whereas text generally is 1D. So to use CNNs for sequences, we use 1D Convolution operation instead of 2D convolution.\n",
        "\n",
        "Just like other models, we will follow the similar structure - \n",
        "\n",
        "`Inputs (text) -> Tokenization -> Embedding -> Layers -> Outputs (class probabilities)`\n",
        "\n",
        "  where we will use Conv layer in place of RNN, GRU or LSTM layers used earlier"
      ]
    },
    {
      "cell_type": "code",
      "metadata": {
        "id": "Ri19nHrtVjka"
      },
      "source": [
        "# Build an RNN using the GRU cell\n",
        "from tensorflow.keras import layers\n",
        "\n",
        "# Define the input layer\n",
        "inputs = layers.Input(shape=(1,) , dtype = \"string\")\n",
        "\n",
        "# Vectorize the inputs\n",
        "x = text_vectorizer(inputs)\n",
        "\n",
        "# Convert to embeddings\n",
        "x = embedding(x)\n",
        "\n",
        "# Add Convolutional layer\n",
        "x = layers.Conv1D(filters=32, kernel_size=5, activation=\"relu\")(x)\n",
        "# Add Max pooling layer\n",
        "x = layers.GlobalMaxPool1D()(x)\n",
        "\n",
        "# Define output\n",
        "outputs = layers.Dense(1, activation='sigmoid')(x)\n",
        "\n",
        "# Create the model\n",
        "model_5 = tf.keras.Model(inputs, outputs, name=\"model_5_Conv1D\")"
      ],
      "execution_count": 67,
      "outputs": []
    },
    {
      "cell_type": "code",
      "metadata": {
        "id": "V-yeMR5xV7zM"
      },
      "source": [
        "# Compile Conv1D model\n",
        "model_5.compile(loss=\"binary_crossentropy\",\n",
        "                optimizer=tf.keras.optimizers.Adam(),\n",
        "                metrics=[\"accuracy\"])"
      ],
      "execution_count": 68,
      "outputs": []
    },
    {
      "cell_type": "code",
      "metadata": {
        "colab": {
          "base_uri": "https://localhost:8080/"
        },
        "id": "e9stpjvTV-bC",
        "outputId": "39f77f91-c094-412b-da91-168c3715f78d"
      },
      "source": [
        "# Get a summary of our 1D convolution model\n",
        "model_5.summary()"
      ],
      "execution_count": 69,
      "outputs": [
        {
          "output_type": "stream",
          "text": [
            "Model: \"model_5_Conv1D\"\n",
            "_________________________________________________________________\n",
            "Layer (type)                 Output Shape              Param #   \n",
            "=================================================================\n",
            "input_5 (InputLayer)         [(None, 1)]               0         \n",
            "_________________________________________________________________\n",
            "text_vectorization (TextVect (None, 15)                0         \n",
            "_________________________________________________________________\n",
            "embedding (Embedding)        (None, 15, 128)           1280000   \n",
            "_________________________________________________________________\n",
            "conv1d (Conv1D)              (None, 11, 32)            20512     \n",
            "_________________________________________________________________\n",
            "global_max_pooling1d (Global (None, 32)                0         \n",
            "_________________________________________________________________\n",
            "dense_4 (Dense)              (None, 1)                 33        \n",
            "=================================================================\n",
            "Total params: 1,300,545\n",
            "Trainable params: 1,300,545\n",
            "Non-trainable params: 0\n",
            "_________________________________________________________________\n"
          ],
          "name": "stdout"
        }
      ]
    },
    {
      "cell_type": "code",
      "metadata": {
        "colab": {
          "base_uri": "https://localhost:8080/"
        },
        "id": "TyfODQRTV_8v",
        "outputId": "06cb1573-7e12-452a-fcdc-d87a315a2abd"
      },
      "source": [
        "# Fit the model\n",
        "model_5_history = model_5.fit(train_sentences,\n",
        "                              train_labels,\n",
        "                              epochs=5,\n",
        "                              validation_data=(val_sentences, val_labels),\n",
        "                              callbacks=[create_tensorboard_callback(SAVE_DIR, \n",
        "                                                                     \"Conv1D\")])"
      ],
      "execution_count": 70,
      "outputs": [
        {
          "output_type": "stream",
          "text": [
            "Saving TensorBoard log files to: model_logs/Conv1D/20210724-070633\n",
            "Epoch 1/5\n",
            "215/215 [==============================] - 5s 18ms/step - loss: 0.1223 - accuracy: 0.9638 - val_loss: 1.0370 - val_accuracy: 0.7362\n",
            "Epoch 2/5\n",
            "215/215 [==============================] - 4s 17ms/step - loss: 0.0707 - accuracy: 0.9726 - val_loss: 1.2108 - val_accuracy: 0.7270\n",
            "Epoch 3/5\n",
            "215/215 [==============================] - 4s 16ms/step - loss: 0.0597 - accuracy: 0.9753 - val_loss: 1.3204 - val_accuracy: 0.7375\n",
            "Epoch 4/5\n",
            "215/215 [==============================] - 4s 16ms/step - loss: 0.0519 - accuracy: 0.9787 - val_loss: 1.3503 - val_accuracy: 0.7336\n",
            "Epoch 5/5\n",
            "215/215 [==============================] - 4s 17ms/step - loss: 0.0496 - accuracy: 0.9784 - val_loss: 1.4117 - val_accuracy: 0.7362\n"
          ],
          "name": "stdout"
        }
      ]
    },
    {
      "cell_type": "code",
      "metadata": {
        "colab": {
          "base_uri": "https://localhost:8080/"
        },
        "id": "3MjKwLv8WFpJ",
        "outputId": "d414766f-ddf5-48fb-db0a-226ea9ec9d49"
      },
      "source": [
        "# Make predictions with model_5\n",
        "model_5_pred_probs = model_5.predict(val_sentences)\n",
        "model_5_pred_probs[:10]"
      ],
      "execution_count": 71,
      "outputs": [
        {
          "output_type": "execute_result",
          "data": {
            "text/plain": [
              "array([[1.3613105e-03],\n",
              "       [1.1492330e-01],\n",
              "       [2.5122401e-06],\n",
              "       [2.2962689e-04],\n",
              "       [1.0084823e-01],\n",
              "       [6.2544000e-01],\n",
              "       [4.4272176e-07],\n",
              "       [5.8962703e-03],\n",
              "       [2.1587908e-03],\n",
              "       [9.9998790e-01]], dtype=float32)"
            ]
          },
          "metadata": {
            "tags": []
          },
          "execution_count": 71
        }
      ]
    },
    {
      "cell_type": "code",
      "metadata": {
        "colab": {
          "base_uri": "https://localhost:8080/"
        },
        "id": "eYgNHOfCWKW3",
        "outputId": "7c030f44-918d-4a15-b7c0-3ccf31b5a025"
      },
      "source": [
        "# Convert model_5 prediction probabilities to labels\n",
        "model_5_preds = tf.squeeze(tf.round(model_5_pred_probs))\n",
        "model_5_preds[:10]"
      ],
      "execution_count": 72,
      "outputs": [
        {
          "output_type": "execute_result",
          "data": {
            "text/plain": [
              "<tf.Tensor: shape=(10,), dtype=float32, numpy=array([0., 0., 0., 0., 0., 1., 0., 0., 0., 1.], dtype=float32)>"
            ]
          },
          "metadata": {
            "tags": []
          },
          "execution_count": 72
        }
      ]
    },
    {
      "cell_type": "code",
      "metadata": {
        "colab": {
          "base_uri": "https://localhost:8080/"
        },
        "id": "aZ-EHew9WL18",
        "outputId": "ba6ca159-195a-43ab-b246-24eb5ad29a3f"
      },
      "source": [
        "# Calculate model_5 evaluation metrics \n",
        "model_5_results = calculate_results(y_true=val_labels, \n",
        "                                    y_pred=model_5_preds)\n",
        "model_5_results"
      ],
      "execution_count": 73,
      "outputs": [
        {
          "output_type": "execute_result",
          "data": {
            "text/plain": [
              "{'accuracy': 73.62204724409449,\n",
              " 'f1': 0.7360012787549572,\n",
              " 'precision': 0.7358458439027336,\n",
              " 'recall': 0.7362204724409449}"
            ]
          },
          "metadata": {
            "tags": []
          },
          "execution_count": 73
        }
      ]
    },
    {
      "cell_type": "code",
      "metadata": {
        "colab": {
          "base_uri": "https://localhost:8080/"
        },
        "id": "Y885E7MfWNCz",
        "outputId": "8dbbf6cb-eecd-44fb-f509-87f2a8b33cf2"
      },
      "source": [
        "# Compare model_5 results to baseline \n",
        "compare_baseline_to_new_results(baseline_results, model_5_results)"
      ],
      "execution_count": 74,
      "outputs": [
        {
          "output_type": "stream",
          "text": [
            "Baseline accuracy: 77.82, New accuracy: 73.62, Difference: -4.20\n",
            "Baseline precision: 0.79, New precision: 0.74, Difference: -0.06\n",
            "Baseline recall: 0.78, New recall: 0.74, Difference: -0.04\n",
            "Baseline f1: 0.77, New f1: 0.74, Difference: -0.03\n"
          ],
          "name": "stdout"
        }
      ]
    },
    {
      "cell_type": "markdown",
      "metadata": {
        "id": "Qwe9ZXfHWOjX"
      },
      "source": [
        "#### Surprisingly, all the models trained till now are not able to surpass Sklearn base model. Although with proper hyperparameter tuning, this might be changed, but something to keep in mind."
      ]
    },
    {
      "cell_type": "markdown",
      "metadata": {
        "id": "I48qEr_oWkZQ"
      },
      "source": [
        "### Transfer Learning\n",
        "\n",
        "For all the models trained till now, we have created the embeddings from scratch each time. Also, we created the embeddings using whatever limited data we had.\n",
        "\n",
        "Now, comes in the picture **Transfer Learning**. The paradigm behind Transfer Learning is we use a pre-trained model and adapt it to our task. Generally, these models are trained on huge datasets so they capture a lot of real-world information, and we avoid complex, expensive, and time consuming training everytime. We simply use the information already available with the model, fine-tune on our task and get the results. These models can be readily used out of the box or we can also do training on our custom dataset. The flexibilty this architecture provides is unmatched.\n",
        "\n",
        "It is a common practice to use pre-learned embeddings through transfer learning and adapt to our use-case. This is one of the biggest advantages of Deep Learning. We will replace the embedding layer created in previous models, and replace it with a pre-trained embedding\n",
        "\n",
        "There are a lot of pre-trained models available online. Best would be to test out and chose whatever works best for the problem at hand. We will use **Universal Sentence Encoder** from [TensorFlow Hub](https://tfhub.dev/google/universal-sentence-encoder/4) . Of course, instead of token-level encoding, it performs sentence level encoding. \n",
        "\n",
        "We created a 128 dimension embedding for each token in all earlier models. Now, we will create 512 dimension embedding for each sentence\n",
        "\n",
        "> An encoder is the name for a model which converts raw data such as text into a numerical representation (feature vector), a decoder converts the numerical representation to a desired output.\n",
        "\n",
        "\n",
        "Before we use this architecture on our data, let's create a model on sample data to understand what this thing is actually doing!"
      ]
    },
    {
      "cell_type": "code",
      "metadata": {
        "id": "_AhEZpqpWMVN"
      },
      "source": [
        "# Import TF Hub - hub for all pre-trained TF models\n",
        "import tensorflow_hub as tfhub\n",
        "\n",
        "# Load the model of interest\n",
        "embed = tfhub.load(\"https://tfhub.dev/google/universal-sentence-encoder/4\") # load Universal Sentence Encoder"
      ],
      "execution_count": 79,
      "outputs": []
    },
    {
      "cell_type": "code",
      "metadata": {
        "id": "_s923eKmWQTN"
      },
      "source": [
        "# Let's see the encodings on few test sentences\n",
        "embed_samples = embed([\"When you call the universal sentence encoder on a sentence, it turns it into numbers.\",\n",
        "                       \"Are Messi and Ronaldo equal in this parallel universe?\"])"
      ],
      "execution_count": 80,
      "outputs": []
    },
    {
      "cell_type": "code",
      "metadata": {
        "colab": {
          "base_uri": "https://localhost:8080/"
        },
        "id": "TUat2Gz9W6RS",
        "outputId": "7608423c-039b-4d84-f0d6-fa590c3dd9e6"
      },
      "source": [
        "# It returns the embeddings for all the sentences present in the corpus\n",
        "len(embed_samples)"
      ],
      "execution_count": 82,
      "outputs": [
        {
          "output_type": "execute_result",
          "data": {
            "text/plain": [
              "2"
            ]
          },
          "metadata": {
            "tags": []
          },
          "execution_count": 82
        }
      ]
    },
    {
      "cell_type": "code",
      "metadata": {
        "colab": {
          "base_uri": "https://localhost:8080/"
        },
        "id": "cGkU3IjUW86G",
        "outputId": "9b3e9a4a-d62c-46a5-9060-32c9250c207f"
      },
      "source": [
        "# What is the output shape of every sentence?\n",
        "for sample in embed_samples:\n",
        "  print(len(sample))"
      ],
      "execution_count": 83,
      "outputs": [
        {
          "output_type": "stream",
          "text": [
            "512\n",
            "512\n"
          ],
          "name": "stdout"
        }
      ]
    },
    {
      "cell_type": "code",
      "metadata": {
        "colab": {
          "base_uri": "https://localhost:8080/"
        },
        "id": "kigkprINXOt3",
        "outputId": "18c09bf6-eb57-4705-9c2e-e740e743bdea"
      },
      "source": [
        "# Let's see the output for second sentence - First 50 out of all 512\n",
        "embed_samples[1][:50]"
      ],
      "execution_count": 85,
      "outputs": [
        {
          "output_type": "execute_result",
          "data": {
            "text/plain": [
              "<tf.Tensor: shape=(50,), dtype=float32, numpy=\n",
              "array([-0.03319652, -0.06250314, -0.05775177,  0.04554421,  0.0664003 ,\n",
              "        0.04929043, -0.00702602,  0.04694632, -0.07327016,  0.05128047,\n",
              "       -0.0767508 , -0.02136312,  0.0101046 ,  0.02967457,  0.02525571,\n",
              "       -0.06242148, -0.02897203,  0.04542281,  0.01799867, -0.03566683,\n",
              "        0.01611911,  0.01546892,  0.0413161 ,  0.07280979,  0.06046129,\n",
              "        0.01227951,  0.00667628,  0.0305739 ,  0.05944862, -0.06454698,\n",
              "        0.03109399, -0.03526135, -0.04836899,  0.06477877, -0.00129074,\n",
              "       -0.03034437, -0.02017293,  0.01775777,  0.06892993,  0.04102188,\n",
              "       -0.07397444, -0.02912454,  0.02973827, -0.00180943, -0.01394865,\n",
              "        0.04235648, -0.00471703,  0.06528436,  0.06631621, -0.022871  ],\n",
              "      dtype=float32)>"
            ]
          },
          "metadata": {
            "tags": []
          },
          "execution_count": 85
        }
      ]
    },
    {
      "cell_type": "markdown",
      "metadata": {
        "id": "mjRu4VCVYg6d"
      },
      "source": [
        "#### Great! Now let's try this embedding layer on our data.\n",
        "\n",
        "We will create a layer of embedding directly using the Universal Sentence Encoder (USE) and replace the embedding layer we used in previous models. We can directly provide the URL to tf.keras. Yeah, that's cool, right!!"
      ]
    },
    {
      "cell_type": "code",
      "metadata": {
        "id": "h_jVHNv6Yhm-"
      },
      "source": [
        "# We can use this encoding layer in place of our text_vectorizer and embedding layer\n",
        "sentence_encoder_layer = tfhub.KerasLayer(\"https://tfhub.dev/google/universal-sentence-encoder/4\",\n",
        "                                        input_shape=[], # shape of inputs coming to our model \n",
        "                                        dtype=tf.string, # data type of inputs coming to the USE layer\n",
        "                                        trainable=False, # keep the pretrained weights (we'll create a feature extractor)\n",
        "                                        name=\"USE\")"
      ],
      "execution_count": 88,
      "outputs": []
    },
    {
      "cell_type": "code",
      "metadata": {
        "id": "obV_epZRZOTC"
      },
      "source": [
        "# Create model using the Sequential API\n",
        "model_6 = tf.keras.Sequential([\n",
        "                               sentence_encoder_layer, # take in sentences and then encode them into an embedding\n",
        "                                layers.Dense(64, activation=\"relu\"),\n",
        "                                layers.Dense(1, activation=\"sigmoid\")],\n",
        "                               name=\"model_6_USE\")"
      ],
      "execution_count": 89,
      "outputs": []
    },
    {
      "cell_type": "code",
      "metadata": {
        "id": "wVepvDJxZcWk"
      },
      "source": [
        "# Compile the model\n",
        "\n",
        "model_6.compile(loss = 'binary_crossentropy',\n",
        "                optimizer = 'adam',\n",
        "                metrics = ['accuracy'])"
      ],
      "execution_count": 90,
      "outputs": []
    },
    {
      "cell_type": "code",
      "metadata": {
        "colab": {
          "base_uri": "https://localhost:8080/"
        },
        "id": "FIgazFfVZslM",
        "outputId": "e98d9632-4206-424a-81ab-87c0bb37ce19"
      },
      "source": [
        "# Get the summary\n",
        "model_6.summary()"
      ],
      "execution_count": 91,
      "outputs": [
        {
          "output_type": "stream",
          "text": [
            "Model: \"model_6_USE\"\n",
            "_________________________________________________________________\n",
            "Layer (type)                 Output Shape              Param #   \n",
            "=================================================================\n",
            "USE (KerasLayer)             (None, 512)               256797824 \n",
            "_________________________________________________________________\n",
            "dense_5 (Dense)              (None, 64)                32832     \n",
            "_________________________________________________________________\n",
            "dense_6 (Dense)              (None, 1)                 65        \n",
            "=================================================================\n",
            "Total params: 256,830,721\n",
            "Trainable params: 32,897\n",
            "Non-trainable params: 256,797,824\n",
            "_________________________________________________________________\n"
          ],
          "name": "stdout"
        }
      ]
    },
    {
      "cell_type": "markdown",
      "metadata": {
        "id": "Yyi0xS9AZwiu"
      },
      "source": [
        "#### Notice!! A lot less trainable params...... non-trainable parameters coming from the embedding layer\n",
        "\n",
        "These are pre-trained weights the USE has learned when it was trained on WikiPedia, web news and other data sources. The trainable parameters are only coming from dense layers. We have kept pre-trained parameters frozen and using it a feature-extractor. We can also fine-tune these weights if we paas trainable=True in keras layers instance"
      ]
    },
    {
      "cell_type": "code",
      "metadata": {
        "colab": {
          "base_uri": "https://localhost:8080/"
        },
        "id": "1zt2SBbEZ4tp",
        "outputId": "5eb84419-1cbe-4573-cc79-caaaa64d2402"
      },
      "source": [
        "# Train a classifier on pre-trained embeddings\n",
        "\n",
        "model_6.fit(train_sentences,\n",
        "            train_labels,\n",
        "            epochs = 5,\n",
        "            validation_data = (val_sentences, val_labels),\n",
        "            callbacks=[create_tensorboard_callback(SAVE_DIR, \n",
        "                                                          \"tf_hub_sentence_encoder\")])"
      ],
      "execution_count": 94,
      "outputs": [
        {
          "output_type": "stream",
          "text": [
            "Saving TensorBoard log files to: model_logs/tf_hub_sentence_encoder/20210724-073118\n",
            "Epoch 1/5\n",
            "215/215 [==============================] - 10s 34ms/step - loss: 0.5038 - accuracy: 0.7872 - val_loss: 0.4238 - val_accuracy: 0.8058\n",
            "Epoch 2/5\n",
            "215/215 [==============================] - 2s 11ms/step - loss: 0.4172 - accuracy: 0.8143 - val_loss: 0.4073 - val_accuracy: 0.8215\n",
            "Epoch 3/5\n",
            "215/215 [==============================] - 2s 11ms/step - loss: 0.4035 - accuracy: 0.8228 - val_loss: 0.4024 - val_accuracy: 0.8202\n",
            "Epoch 4/5\n",
            "215/215 [==============================] - 2s 11ms/step - loss: 0.3948 - accuracy: 0.8282 - val_loss: 0.4013 - val_accuracy: 0.8320\n",
            "Epoch 5/5\n",
            "215/215 [==============================] - 2s 10ms/step - loss: 0.3886 - accuracy: 0.8279 - val_loss: 0.3970 - val_accuracy: 0.8255\n"
          ],
          "name": "stdout"
        },
        {
          "output_type": "execute_result",
          "data": {
            "text/plain": [
              "<tensorflow.python.keras.callbacks.History at 0x7f2168945990>"
            ]
          },
          "metadata": {
            "tags": []
          },
          "execution_count": 94
        }
      ]
    },
    {
      "cell_type": "code",
      "metadata": {
        "colab": {
          "base_uri": "https://localhost:8080/"
        },
        "id": "tgfrZDfvbLQy",
        "outputId": "f4cd81f0-fe29-4e83-8955-d1013260e9e1"
      },
      "source": [
        "# Make predictions with USE TF Hub model\n",
        "model_6_pred_probs = model_6.predict(val_sentences)\n",
        "model_6_pred_probs[:10]"
      ],
      "execution_count": 95,
      "outputs": [
        {
          "output_type": "execute_result",
          "data": {
            "text/plain": [
              "array([[0.09412295],\n",
              "       [0.08030161],\n",
              "       [0.3610992 ],\n",
              "       [0.17669725],\n",
              "       [0.22204804],\n",
              "       [0.10356861],\n",
              "       [0.11993402],\n",
              "       [0.07558867],\n",
              "       [0.36455292],\n",
              "       [0.7373039 ]], dtype=float32)"
            ]
          },
          "metadata": {
            "tags": []
          },
          "execution_count": 95
        }
      ]
    },
    {
      "cell_type": "code",
      "metadata": {
        "colab": {
          "base_uri": "https://localhost:8080/"
        },
        "id": "RET4meeKbfRS",
        "outputId": "708ddd3c-1b91-45f2-c3be-c696daefa68e"
      },
      "source": [
        "# Convert prediction probabilities to labels\n",
        "model_6_preds = tf.squeeze(tf.round(model_6_pred_probs))\n",
        "model_6_preds[:10]"
      ],
      "execution_count": 97,
      "outputs": [
        {
          "output_type": "execute_result",
          "data": {
            "text/plain": [
              "<tf.Tensor: shape=(10,), dtype=float32, numpy=array([0., 0., 0., 0., 0., 0., 0., 0., 0., 1.], dtype=float32)>"
            ]
          },
          "metadata": {
            "tags": []
          },
          "execution_count": 97
        }
      ]
    },
    {
      "cell_type": "code",
      "metadata": {
        "colab": {
          "base_uri": "https://localhost:8080/"
        },
        "id": "cCoAnSkNbhP1",
        "outputId": "717669d2-84e9-4c91-e962-223b67e3f976"
      },
      "source": [
        "# Calculate model 6 performance metrics\n",
        "model_6_results = calculate_results(val_labels, model_6_preds)\n",
        "model_6_results"
      ],
      "execution_count": 98,
      "outputs": [
        {
          "output_type": "execute_result",
          "data": {
            "text/plain": [
              "{'accuracy': 82.54593175853019,\n",
              " 'f1': 0.824006448012896,\n",
              " 'precision': 0.826578552829881,\n",
              " 'recall': 0.8254593175853019}"
            ]
          },
          "metadata": {
            "tags": []
          },
          "execution_count": 98
        }
      ]
    },
    {
      "cell_type": "code",
      "metadata": {
        "colab": {
          "base_uri": "https://localhost:8080/"
        },
        "id": "0Z-pthn_bjwJ",
        "outputId": "c627bdb4-9467-4735-9c29-2d668a332999"
      },
      "source": [
        "# Compare TF Hub model to baseline\n",
        "compare_baseline_to_new_results(baseline_results, model_6_results)"
      ],
      "execution_count": 99,
      "outputs": [
        {
          "output_type": "stream",
          "text": [
            "Baseline accuracy: 77.82, New accuracy: 82.55, Difference: 4.72\n",
            "Baseline precision: 0.79, New precision: 0.83, Difference: 0.03\n",
            "Baseline recall: 0.78, New recall: 0.83, Difference: 0.05\n",
            "Baseline f1: 0.77, New f1: 0.82, Difference: 0.05\n"
          ],
          "name": "stdout"
        }
      ]
    },
    {
      "cell_type": "code",
      "metadata": {
        "id": "OHnpABxzblLT"
      },
      "source": [
        "# Better performance out of the box than every other model!! Transfer Learning, man!!"
      ],
      "execution_count": 100,
      "outputs": []
    },
    {
      "cell_type": "markdown",
      "metadata": {
        "id": "U9aJGAQ3by7H"
      },
      "source": [
        "### Model 7 - USE on 10% Data\n",
        "\n",
        "One of the benefits of using transfer learning methods, such as, the pretrained embeddings within the USE is the ability to get great results on a small amount of data (the USE paper even mentions this in the abstract).\n",
        "\n",
        "Let's test this!"
      ]
    },
    {
      "cell_type": "code",
      "metadata": {
        "id": "aOzsrBuddAJm"
      },
      "source": [
        "# To subset only 10% data, we can always use Train Test Split - \n",
        "\n",
        "train_sentences_90_percent, train_sentences_10_percent, train_labels_90_percent, train_labels_10_percent = train_test_split(np.array(train_sentences),\n",
        "                                                                                                                            train_labels,\n",
        "                                                                                                                            test_size=0.1,\n",
        "                                                                                                                            random_state=random_state)"
      ],
      "execution_count": 102,
      "outputs": []
    },
    {
      "cell_type": "code",
      "metadata": {
        "colab": {
          "base_uri": "https://localhost:8080/"
        },
        "id": "0sH0KD16dPsX",
        "outputId": "53c53531-8a43-41fb-8052-482dd30623af"
      },
      "source": [
        "print(\"Total Training Examples : \", len(train_sentences))\n",
        "print(\"Total Training Examples in the 10% subset : \", len(train_sentences_10_percent))"
      ],
      "execution_count": 104,
      "outputs": [
        {
          "output_type": "stream",
          "text": [
            "Total Training Examples :  6851\n",
            "Total Training Examples in the 10% subset :  686\n"
          ],
          "name": "stdout"
        }
      ]
    },
    {
      "cell_type": "code",
      "metadata": {
        "colab": {
          "base_uri": "https://localhost:8080/"
        },
        "id": "yaDCWIbZdZFu",
        "outputId": "aecdc90e-d3b9-4f4a-9d26-33552902625d"
      },
      "source": [
        "# We need to also ensure that class distribution remains more or less similar\n",
        "\n",
        "print('Class distribution in original data : \\n', pd.Series(train_labels).value_counts())\n",
        "print('\\nClass distribution in subset data : \\n', pd.Series(train_labels_10_percent).value_counts())"
      ],
      "execution_count": 108,
      "outputs": [
        {
          "output_type": "stream",
          "text": [
            "Class distribution in original data : \n",
            " 0    3916\n",
            "1    2935\n",
            "dtype: int64\n",
            "\n",
            "Class distribution in subset data : \n",
            " 0    391\n",
            "1    295\n",
            "dtype: int64\n"
          ],
          "name": "stdout"
        }
      ]
    },
    {
      "cell_type": "code",
      "metadata": {
        "id": "Fvx91ocTduiK"
      },
      "source": [
        "# This works!"
      ],
      "execution_count": 109,
      "outputs": []
    },
    {
      "cell_type": "code",
      "metadata": {
        "colab": {
          "base_uri": "https://localhost:8080/"
        },
        "id": "5psZJNAYd_uk",
        "outputId": "b4282dd5-acd0-4337-a3ee-c6fc0da54d74"
      },
      "source": [
        "# Let's clone model_6 using keras.clone_model() . This will clone the model architecture, but reset the learned weights\n",
        "model_7 = tf.keras.models.clone_model(model_6)\n",
        "\n",
        "# Compile model\n",
        "model_7.compile(loss=\"binary_crossentropy\",\n",
        "                optimizer=tf.keras.optimizers.Adam(),\n",
        "                metrics=[\"accuracy\"])\n",
        "\n",
        "# Get a summary (will be same as model_6)\n",
        "model_7.summary()"
      ],
      "execution_count": 110,
      "outputs": [
        {
          "output_type": "stream",
          "text": [
            "Model: \"model_6_USE\"\n",
            "_________________________________________________________________\n",
            "Layer (type)                 Output Shape              Param #   \n",
            "=================================================================\n",
            "USE (KerasLayer)             (None, 512)               256797824 \n",
            "_________________________________________________________________\n",
            "dense_5 (Dense)              (None, 64)                32832     \n",
            "_________________________________________________________________\n",
            "dense_6 (Dense)              (None, 1)                 65        \n",
            "=================================================================\n",
            "Total params: 256,830,721\n",
            "Trainable params: 32,897\n",
            "Non-trainable params: 256,797,824\n",
            "_________________________________________________________________\n"
          ],
          "name": "stdout"
        }
      ]
    },
    {
      "cell_type": "code",
      "metadata": {
        "id": "MOObIswOeQXF"
      },
      "source": [
        "# Yeah, everything same!"
      ],
      "execution_count": 111,
      "outputs": []
    },
    {
      "cell_type": "code",
      "metadata": {
        "colab": {
          "base_uri": "https://localhost:8080/"
        },
        "id": "X5PgrFBpeVH2",
        "outputId": "a6ccb96e-6841-445d-b3de-6af6d1b3ef6c"
      },
      "source": [
        "# Fit the model to 10% of the training data\n",
        "model_7_history = model_7.fit(x=train_sentences_10_percent,\n",
        "                              y=train_labels_10_percent,\n",
        "                              epochs=5,\n",
        "                              validation_data=(val_sentences, val_labels),\n",
        "                              callbacks=[create_tensorboard_callback(SAVE_DIR, \"10_percent_tf_hub_sentence_encoder\")])"
      ],
      "execution_count": 112,
      "outputs": [
        {
          "output_type": "stream",
          "text": [
            "Saving TensorBoard log files to: model_logs/10_percent_tf_hub_sentence_encoder/20210724-074455\n",
            "Epoch 1/5\n",
            "22/22 [==============================] - 5s 108ms/step - loss: 0.6750 - accuracy: 0.6676 - val_loss: 0.6505 - val_accuracy: 0.7651\n",
            "Epoch 2/5\n",
            "22/22 [==============================] - 0s 20ms/step - loss: 0.6129 - accuracy: 0.7988 - val_loss: 0.5926 - val_accuracy: 0.7848\n",
            "Epoch 3/5\n",
            "22/22 [==============================] - 0s 22ms/step - loss: 0.5428 - accuracy: 0.8105 - val_loss: 0.5361 - val_accuracy: 0.7690\n",
            "Epoch 4/5\n",
            "22/22 [==============================] - 0s 19ms/step - loss: 0.4836 - accuracy: 0.8222 - val_loss: 0.4973 - val_accuracy: 0.7756\n",
            "Epoch 5/5\n",
            "22/22 [==============================] - 0s 20ms/step - loss: 0.4429 - accuracy: 0.8236 - val_loss: 0.4745 - val_accuracy: 0.7848\n"
          ],
          "name": "stdout"
        }
      ]
    },
    {
      "cell_type": "code",
      "metadata": {
        "colab": {
          "base_uri": "https://localhost:8080/"
        },
        "id": "Fw6SKnvXeWdB",
        "outputId": "fcc1284f-d9d3-4c14-eff6-ec22aaf3b251"
      },
      "source": [
        "# Make predictions with the model trained on 10% of the data\n",
        "model_7_pred_probs = model_7.predict(val_sentences)\n",
        "model_7_pred_probs[:10]"
      ],
      "execution_count": 113,
      "outputs": [
        {
          "output_type": "execute_result",
          "data": {
            "text/plain": [
              "array([[0.3351642 ],\n",
              "       [0.19764724],\n",
              "       [0.59034574],\n",
              "       [0.14418533],\n",
              "       [0.55956185],\n",
              "       [0.17059395],\n",
              "       [0.27652115],\n",
              "       [0.26920205],\n",
              "       [0.16069672],\n",
              "       [0.66778183]], dtype=float32)"
            ]
          },
          "metadata": {
            "tags": []
          },
          "execution_count": 113
        }
      ]
    },
    {
      "cell_type": "code",
      "metadata": {
        "colab": {
          "base_uri": "https://localhost:8080/"
        },
        "id": "XgZCLcqweYrH",
        "outputId": "9addc0c1-0677-43b8-e4c1-27079ee82b18"
      },
      "source": [
        "# Convert prediction probabilities to labels\n",
        "model_7_preds = tf.squeeze(tf.round(model_7_pred_probs))\n",
        "model_7_preds[:10]"
      ],
      "execution_count": 114,
      "outputs": [
        {
          "output_type": "execute_result",
          "data": {
            "text/plain": [
              "<tf.Tensor: shape=(10,), dtype=float32, numpy=array([0., 0., 1., 0., 1., 0., 0., 0., 0., 1.], dtype=float32)>"
            ]
          },
          "metadata": {
            "tags": []
          },
          "execution_count": 114
        }
      ]
    },
    {
      "cell_type": "code",
      "metadata": {
        "colab": {
          "base_uri": "https://localhost:8080/"
        },
        "id": "NJi_aVnyeZ_s",
        "outputId": "36af319e-3be4-407f-8e6c-2773cce166c9"
      },
      "source": [
        "# Calculate model results\n",
        "model_7_results = calculate_results(val_labels, model_7_preds)\n",
        "model_7_results"
      ],
      "execution_count": 115,
      "outputs": [
        {
          "output_type": "execute_result",
          "data": {
            "text/plain": [
              "{'accuracy': 78.4776902887139,\n",
              " 'f1': 0.7842269740851211,\n",
              " 'precision': 0.7842138433288723,\n",
              " 'recall': 0.7847769028871391}"
            ]
          },
          "metadata": {
            "tags": []
          },
          "execution_count": 115
        }
      ]
    },
    {
      "cell_type": "code",
      "metadata": {
        "colab": {
          "base_uri": "https://localhost:8080/"
        },
        "id": "GD9bZeR9ebZ_",
        "outputId": "3aca1e8e-f83c-492c-ad45-7de32b42ec36"
      },
      "source": [
        "# Compare to baseline\n",
        "compare_baseline_to_new_results(baseline_results, model_7_results)"
      ],
      "execution_count": 116,
      "outputs": [
        {
          "output_type": "stream",
          "text": [
            "Baseline accuracy: 77.82, New accuracy: 78.48, Difference: 0.66\n",
            "Baseline precision: 0.79, New precision: 0.78, Difference: -0.01\n",
            "Baseline recall: 0.78, New recall: 0.78, Difference: 0.01\n",
            "Baseline f1: 0.77, New f1: 0.78, Difference: 0.01\n"
          ],
          "name": "stdout"
        }
      ]
    },
    {
      "cell_type": "code",
      "metadata": {
        "id": "NTUgD3XUec1_"
      },
      "source": [
        "# Again, better performance straight outta box than a lot of other architectures. "
      ],
      "execution_count": 117,
      "outputs": []
    },
    {
      "cell_type": "code",
      "metadata": {
        "id": "awTBy-l7eoTg"
      },
      "source": [
        ""
      ],
      "execution_count": null,
      "outputs": []
    }
  ]
}