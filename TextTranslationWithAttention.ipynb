{
  "nbformat": 4,
  "nbformat_minor": 0,
  "metadata": {
    "colab": {
      "name": "TextTranslationWithAttention.ipynb",
      "provenance": [],
      "authorship_tag": "ABX9TyNfW28sr0G86Ot0FkRTPBID"
    },
    "kernelspec": {
      "name": "python3",
      "display_name": "Python 3"
    },
    "language_info": {
      "name": "python"
    }
  },
  "cells": [
    {
      "cell_type": "markdown",
      "source": [
        "# Attention is all you need!\n",
        "\n",
        "This notebook trains a sequence to sequence (seq2seq) model for Spanish to English translation.\n",
        "\n",
        "While this architecture is somewhat outdated it is still a very useful project to work through to get a deeper understanding of attention mechanisms (before going on to Transformers).\n",
        "\n",
        "After training the model in this notebook, you will be able to input a Spanish sentence, such as \"¿todavia estan en casa?\", and return the English translation: \"are you still at home?\"\n",
        "\n",
        "The translation quality is reasonable for a toy example, but the generated attention plot is perhaps more interesting. This shows which parts of the input sentence has the model's attention while translating:\n",
        "\n",
        "![image.png](data:image/png;base64,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)"
      ],
      "metadata": {
        "id": "b7Cg0sDV_fY3"
      }
    },
    {
      "cell_type": "code",
      "source": [
        "! pip install tensorflow_text"
      ],
      "metadata": {
        "colab": {
          "base_uri": "https://localhost:8080/"
        },
        "id": "HbsFpvHnAkrg",
        "outputId": "d95db445-74ef-4709-ffeb-ee2ccbf50cad"
      },
      "execution_count": 1,
      "outputs": [
        {
          "output_type": "stream",
          "name": "stdout",
          "text": [
            "Looking in indexes: https://pypi.org/simple, https://us-python.pkg.dev/colab-wheels/public/simple/\n",
            "Collecting tensorflow_text\n",
            "  Downloading tensorflow_text-2.9.0-cp37-cp37m-manylinux_2_17_x86_64.manylinux2014_x86_64.whl (4.6 MB)\n",
            "\u001b[K     |████████████████████████████████| 4.6 MB 5.4 MB/s \n",
            "\u001b[?25hRequirement already satisfied: tensorflow-hub>=0.8.0 in /usr/local/lib/python3.7/dist-packages (from tensorflow_text) (0.12.0)\n",
            "Collecting tensorflow<2.10,>=2.9.0\n",
            "  Downloading tensorflow-2.9.1-cp37-cp37m-manylinux_2_17_x86_64.manylinux2014_x86_64.whl (511.7 MB)\n",
            "\u001b[K     |████████████████████████████████| 511.7 MB 6.6 kB/s \n",
            "\u001b[?25hRequirement already satisfied: libclang>=13.0.0 in /usr/local/lib/python3.7/dist-packages (from tensorflow<2.10,>=2.9.0->tensorflow_text) (14.0.1)\n",
            "Collecting tensorflow-estimator<2.10.0,>=2.9.0rc0\n",
            "  Downloading tensorflow_estimator-2.9.0-py2.py3-none-any.whl (438 kB)\n",
            "\u001b[K     |████████████████████████████████| 438 kB 39.9 MB/s \n",
            "\u001b[?25hRequirement already satisfied: wrapt>=1.11.0 in /usr/local/lib/python3.7/dist-packages (from tensorflow<2.10,>=2.9.0->tensorflow_text) (1.14.1)\n",
            "Collecting tensorboard<2.10,>=2.9\n",
            "  Downloading tensorboard-2.9.1-py3-none-any.whl (5.8 MB)\n",
            "\u001b[K     |████████████████████████████████| 5.8 MB 50.9 MB/s \n",
            "\u001b[?25hRequirement already satisfied: typing-extensions>=3.6.6 in /usr/local/lib/python3.7/dist-packages (from tensorflow<2.10,>=2.9.0->tensorflow_text) (4.2.0)\n",
            "Requirement already satisfied: numpy>=1.20 in /usr/local/lib/python3.7/dist-packages (from tensorflow<2.10,>=2.9.0->tensorflow_text) (1.21.6)\n",
            "Requirement already satisfied: grpcio<2.0,>=1.24.3 in /usr/local/lib/python3.7/dist-packages (from tensorflow<2.10,>=2.9.0->tensorflow_text) (1.46.3)\n",
            "Collecting gast<=0.4.0,>=0.2.1\n",
            "  Downloading gast-0.4.0-py3-none-any.whl (9.8 kB)\n",
            "Requirement already satisfied: setuptools in /usr/local/lib/python3.7/dist-packages (from tensorflow<2.10,>=2.9.0->tensorflow_text) (57.4.0)\n",
            "Requirement already satisfied: keras-preprocessing>=1.1.1 in /usr/local/lib/python3.7/dist-packages (from tensorflow<2.10,>=2.9.0->tensorflow_text) (1.1.2)\n",
            "Requirement already satisfied: astunparse>=1.6.0 in /usr/local/lib/python3.7/dist-packages (from tensorflow<2.10,>=2.9.0->tensorflow_text) (1.6.3)\n",
            "Requirement already satisfied: absl-py>=1.0.0 in /usr/local/lib/python3.7/dist-packages (from tensorflow<2.10,>=2.9.0->tensorflow_text) (1.1.0)\n",
            "Requirement already satisfied: tensorflow-io-gcs-filesystem>=0.23.1 in /usr/local/lib/python3.7/dist-packages (from tensorflow<2.10,>=2.9.0->tensorflow_text) (0.26.0)\n",
            "Requirement already satisfied: h5py>=2.9.0 in /usr/local/lib/python3.7/dist-packages (from tensorflow<2.10,>=2.9.0->tensorflow_text) (3.1.0)\n",
            "Requirement already satisfied: opt-einsum>=2.3.2 in /usr/local/lib/python3.7/dist-packages (from tensorflow<2.10,>=2.9.0->tensorflow_text) (3.3.0)\n",
            "Collecting keras<2.10.0,>=2.9.0rc0\n",
            "  Downloading keras-2.9.0-py2.py3-none-any.whl (1.6 MB)\n",
            "\u001b[K     |████████████████████████████████| 1.6 MB 36.9 MB/s \n",
            "\u001b[?25hCollecting flatbuffers<2,>=1.12\n",
            "  Downloading flatbuffers-1.12-py2.py3-none-any.whl (15 kB)\n",
            "Requirement already satisfied: packaging in /usr/local/lib/python3.7/dist-packages (from tensorflow<2.10,>=2.9.0->tensorflow_text) (21.3)\n",
            "Requirement already satisfied: google-pasta>=0.1.1 in /usr/local/lib/python3.7/dist-packages (from tensorflow<2.10,>=2.9.0->tensorflow_text) (0.2.0)\n",
            "Requirement already satisfied: six>=1.12.0 in /usr/local/lib/python3.7/dist-packages (from tensorflow<2.10,>=2.9.0->tensorflow_text) (1.15.0)\n",
            "Requirement already satisfied: protobuf<3.20,>=3.9.2 in /usr/local/lib/python3.7/dist-packages (from tensorflow<2.10,>=2.9.0->tensorflow_text) (3.17.3)\n",
            "Requirement already satisfied: termcolor>=1.1.0 in /usr/local/lib/python3.7/dist-packages (from tensorflow<2.10,>=2.9.0->tensorflow_text) (1.1.0)\n",
            "Requirement already satisfied: wheel<1.0,>=0.23.0 in /usr/local/lib/python3.7/dist-packages (from astunparse>=1.6.0->tensorflow<2.10,>=2.9.0->tensorflow_text) (0.37.1)\n",
            "Requirement already satisfied: cached-property in /usr/local/lib/python3.7/dist-packages (from h5py>=2.9.0->tensorflow<2.10,>=2.9.0->tensorflow_text) (1.5.2)\n",
            "Requirement already satisfied: requests<3,>=2.21.0 in /usr/local/lib/python3.7/dist-packages (from tensorboard<2.10,>=2.9->tensorflow<2.10,>=2.9.0->tensorflow_text) (2.23.0)\n",
            "Requirement already satisfied: tensorboard-data-server<0.7.0,>=0.6.0 in /usr/local/lib/python3.7/dist-packages (from tensorboard<2.10,>=2.9->tensorflow<2.10,>=2.9.0->tensorflow_text) (0.6.1)\n",
            "Requirement already satisfied: google-auth<3,>=1.6.3 in /usr/local/lib/python3.7/dist-packages (from tensorboard<2.10,>=2.9->tensorflow<2.10,>=2.9.0->tensorflow_text) (1.35.0)\n",
            "Requirement already satisfied: werkzeug>=1.0.1 in /usr/local/lib/python3.7/dist-packages (from tensorboard<2.10,>=2.9->tensorflow<2.10,>=2.9.0->tensorflow_text) (1.0.1)\n",
            "Requirement already satisfied: tensorboard-plugin-wit>=1.6.0 in /usr/local/lib/python3.7/dist-packages (from tensorboard<2.10,>=2.9->tensorflow<2.10,>=2.9.0->tensorflow_text) (1.8.1)\n",
            "Requirement already satisfied: markdown>=2.6.8 in /usr/local/lib/python3.7/dist-packages (from tensorboard<2.10,>=2.9->tensorflow<2.10,>=2.9.0->tensorflow_text) (3.3.7)\n",
            "Requirement already satisfied: google-auth-oauthlib<0.5,>=0.4.1 in /usr/local/lib/python3.7/dist-packages (from tensorboard<2.10,>=2.9->tensorflow<2.10,>=2.9.0->tensorflow_text) (0.4.6)\n",
            "Requirement already satisfied: cachetools<5.0,>=2.0.0 in /usr/local/lib/python3.7/dist-packages (from google-auth<3,>=1.6.3->tensorboard<2.10,>=2.9->tensorflow<2.10,>=2.9.0->tensorflow_text) (4.2.4)\n",
            "Requirement already satisfied: pyasn1-modules>=0.2.1 in /usr/local/lib/python3.7/dist-packages (from google-auth<3,>=1.6.3->tensorboard<2.10,>=2.9->tensorflow<2.10,>=2.9.0->tensorflow_text) (0.2.8)\n",
            "Requirement already satisfied: rsa<5,>=3.1.4 in /usr/local/lib/python3.7/dist-packages (from google-auth<3,>=1.6.3->tensorboard<2.10,>=2.9->tensorflow<2.10,>=2.9.0->tensorflow_text) (4.8)\n",
            "Requirement already satisfied: requests-oauthlib>=0.7.0 in /usr/local/lib/python3.7/dist-packages (from google-auth-oauthlib<0.5,>=0.4.1->tensorboard<2.10,>=2.9->tensorflow<2.10,>=2.9.0->tensorflow_text) (1.3.1)\n",
            "Requirement already satisfied: importlib-metadata>=4.4 in /usr/local/lib/python3.7/dist-packages (from markdown>=2.6.8->tensorboard<2.10,>=2.9->tensorflow<2.10,>=2.9.0->tensorflow_text) (4.11.4)\n",
            "Requirement already satisfied: zipp>=0.5 in /usr/local/lib/python3.7/dist-packages (from importlib-metadata>=4.4->markdown>=2.6.8->tensorboard<2.10,>=2.9->tensorflow<2.10,>=2.9.0->tensorflow_text) (3.8.0)\n",
            "Requirement already satisfied: pyasn1<0.5.0,>=0.4.6 in /usr/local/lib/python3.7/dist-packages (from pyasn1-modules>=0.2.1->google-auth<3,>=1.6.3->tensorboard<2.10,>=2.9->tensorflow<2.10,>=2.9.0->tensorflow_text) (0.4.8)\n",
            "Requirement already satisfied: certifi>=2017.4.17 in /usr/local/lib/python3.7/dist-packages (from requests<3,>=2.21.0->tensorboard<2.10,>=2.9->tensorflow<2.10,>=2.9.0->tensorflow_text) (2022.5.18.1)\n",
            "Requirement already satisfied: chardet<4,>=3.0.2 in /usr/local/lib/python3.7/dist-packages (from requests<3,>=2.21.0->tensorboard<2.10,>=2.9->tensorflow<2.10,>=2.9.0->tensorflow_text) (3.0.4)\n",
            "Requirement already satisfied: idna<3,>=2.5 in /usr/local/lib/python3.7/dist-packages (from requests<3,>=2.21.0->tensorboard<2.10,>=2.9->tensorflow<2.10,>=2.9.0->tensorflow_text) (2.10)\n",
            "Requirement already satisfied: urllib3!=1.25.0,!=1.25.1,<1.26,>=1.21.1 in /usr/local/lib/python3.7/dist-packages (from requests<3,>=2.21.0->tensorboard<2.10,>=2.9->tensorflow<2.10,>=2.9.0->tensorflow_text) (1.24.3)\n",
            "Requirement already satisfied: oauthlib>=3.0.0 in /usr/local/lib/python3.7/dist-packages (from requests-oauthlib>=0.7.0->google-auth-oauthlib<0.5,>=0.4.1->tensorboard<2.10,>=2.9->tensorflow<2.10,>=2.9.0->tensorflow_text) (3.2.0)\n",
            "Requirement already satisfied: pyparsing!=3.0.5,>=2.0.2 in /usr/local/lib/python3.7/dist-packages (from packaging->tensorflow<2.10,>=2.9.0->tensorflow_text) (3.0.9)\n",
            "Installing collected packages: tensorflow-estimator, tensorboard, keras, gast, flatbuffers, tensorflow, tensorflow-text\n",
            "  Attempting uninstall: tensorflow-estimator\n",
            "    Found existing installation: tensorflow-estimator 2.8.0\n",
            "    Uninstalling tensorflow-estimator-2.8.0:\n",
            "      Successfully uninstalled tensorflow-estimator-2.8.0\n",
            "  Attempting uninstall: tensorboard\n",
            "    Found existing installation: tensorboard 2.8.0\n",
            "    Uninstalling tensorboard-2.8.0:\n",
            "      Successfully uninstalled tensorboard-2.8.0\n",
            "  Attempting uninstall: keras\n",
            "    Found existing installation: keras 2.8.0\n",
            "    Uninstalling keras-2.8.0:\n",
            "      Successfully uninstalled keras-2.8.0\n",
            "  Attempting uninstall: gast\n",
            "    Found existing installation: gast 0.5.3\n",
            "    Uninstalling gast-0.5.3:\n",
            "      Successfully uninstalled gast-0.5.3\n",
            "  Attempting uninstall: flatbuffers\n",
            "    Found existing installation: flatbuffers 2.0\n",
            "    Uninstalling flatbuffers-2.0:\n",
            "      Successfully uninstalled flatbuffers-2.0\n",
            "  Attempting uninstall: tensorflow\n",
            "    Found existing installation: tensorflow 2.8.2+zzzcolab20220527125636\n",
            "    Uninstalling tensorflow-2.8.2+zzzcolab20220527125636:\n",
            "      Successfully uninstalled tensorflow-2.8.2+zzzcolab20220527125636\n",
            "Successfully installed flatbuffers-1.12 gast-0.4.0 keras-2.9.0 tensorboard-2.9.1 tensorflow-2.9.1 tensorflow-estimator-2.9.0 tensorflow-text-2.9.0\n"
          ]
        }
      ]
    },
    {
      "cell_type": "code",
      "source": [
        "import numpy as np\n",
        "\n",
        "import typing\n",
        "from typing import Any, Tuple\n",
        "\n",
        "import tensorflow as tf\n",
        "\n",
        "import tensorflow_text as tf_text\n",
        "\n",
        "import matplotlib.pyplot as plt\n",
        "import matplotlib.ticker as ticker"
      ],
      "metadata": {
        "id": "uqII_oanAco4"
      },
      "execution_count": 2,
      "outputs": []
    },
    {
      "cell_type": "markdown",
      "source": [
        "#### Shape Checker\n",
        "\n",
        "In low-level API Codes, it's easy to get shapes wrong. Following class implements the check to ensure tensors are in proper shape as expected by the model"
      ],
      "metadata": {
        "id": "CH8bXaFLGgxj"
      }
    },
    {
      "cell_type": "code",
      "source": [
        "class ShapeChecker():\n",
        "  def __init__(self):\n",
        "    # Keep a cache of every axis-name seen\n",
        "    self.shapes = {}\n",
        "\n",
        "  def __call__(self, tensor, names, broadcast=False):\n",
        "    if not tf.executing_eagerly():\n",
        "      return\n",
        "\n",
        "    if isinstance(names, str):\n",
        "      names = (names,)\n",
        "\n",
        "    shape = tf.shape(tensor)\n",
        "    rank = tf.rank(tensor)\n",
        "\n",
        "    if rank != len(names):\n",
        "      raise ValueError(f'Rank mismatch:\\n'\n",
        "                       f'    found {rank}: {shape.numpy()}\\n'\n",
        "                       f'    expected {len(names)}: {names}\\n')\n",
        "\n",
        "    for i, name in enumerate(names):\n",
        "      if isinstance(name, int):\n",
        "        old_dim = name\n",
        "      else:\n",
        "        old_dim = self.shapes.get(name, None)\n",
        "      new_dim = shape[i]\n",
        "\n",
        "      if (broadcast and new_dim == 1):\n",
        "        continue\n",
        "\n",
        "      if old_dim is None:\n",
        "        # If the axis name is new, add its length to the cache.\n",
        "        self.shapes[name] = new_dim\n",
        "        continue\n",
        "\n",
        "      if new_dim != old_dim:\n",
        "        raise ValueError(f\"Shape mismatch for dimension: '{name}'\\n\"\n",
        "                         f\"    found: {new_dim}\\n\"\n",
        "                         f\"    expected: {old_dim}\\n\")"
      ],
      "metadata": {
        "id": "Tr9HuOlkHERk"
      },
      "execution_count": 3,
      "outputs": []
    },
    {
      "cell_type": "markdown",
      "source": [
        "## EDA and Data Preparation\n",
        "\n",
        "We'll use a language dataset provided by http://www.manythings.org/anki/ This dataset contains language translation pairs in the format:\n",
        "\n",
        "> May I borrow this book? ¿Puedo tomar prestado este libro?\n",
        "\n"
      ],
      "metadata": {
        "id": "iNcrpphsH0Sv"
      }
    },
    {
      "cell_type": "markdown",
      "source": [
        "### Download the dataset"
      ],
      "metadata": {
        "id": "oh0W2pPNJHnw"
      }
    },
    {
      "cell_type": "code",
      "source": [
        "# Download the file\n",
        "import pathlib\n",
        "\n",
        "path_to_zip = tf.keras.utils.get_file(\n",
        "    'spa-eng.zip', origin='http://storage.googleapis.com/download.tensorflow.org/data/spa-eng.zip',\n",
        "    extract=True)\n",
        "\n",
        "path_to_file = pathlib.Path(path_to_zip).parent/'spa-eng/spa.txt'"
      ],
      "metadata": {
        "colab": {
          "base_uri": "https://localhost:8080/"
        },
        "id": "xFkziOWEH7Ii",
        "outputId": "c2083514-a23a-46e9-81d9-684cb1289897"
      },
      "execution_count": 4,
      "outputs": [
        {
          "output_type": "stream",
          "name": "stdout",
          "text": [
            "Downloading data from http://storage.googleapis.com/download.tensorflow.org/data/spa-eng.zip\n",
            "2638744/2638744 [==============================] - 0s 0us/step\n"
          ]
        }
      ]
    },
    {
      "cell_type": "markdown",
      "source": [
        "After downloading the dataset, here are the steps we'll take to prepare the data:\n",
        "\n",
        "* Add a start and end token to each sentence.\n",
        "* Clean the sentences by removing special characters.\n",
        "* Create a word index and reverse word index (dictionaries mapping from word → id and id → word).\n",
        "* Pad each sentence to a maximum length."
      ],
      "metadata": {
        "id": "BI-rL1j4JOv0"
      }
    },
    {
      "cell_type": "code",
      "source": [
        "def load_data(path):\n",
        "  text = path.read_text(encoding='utf-8')\n",
        "\n",
        "  lines = text.splitlines()\n",
        "  pairs = [line.split('\\t') for line in lines]\n",
        "\n",
        "  inp = [inp for targ, inp in pairs]\n",
        "  targ = [targ for targ, inp in pairs]\n",
        "\n",
        "  return targ, inp\n",
        "\n",
        "targ, inp = load_data(path_to_file)\n",
        "print(\"Example Input Sequence : \", inp[-1])\n",
        "print(\"Example Target Sequence : \", targ[-1])"
      ],
      "metadata": {
        "colab": {
          "base_uri": "https://localhost:8080/"
        },
        "id": "mkEmoLo8JRyR",
        "outputId": "10e4efd4-579c-4f64-b25f-89295d8803e9"
      },
      "execution_count": 6,
      "outputs": [
        {
          "output_type": "stream",
          "name": "stdout",
          "text": [
            "Example Input Sequence :  Si quieres sonar como un hablante nativo, debes estar dispuesto a practicar diciendo la misma frase una y otra vez de la misma manera en que un músico de banjo practica el mismo fraseo una y otra vez hasta que lo puedan tocar correctamente y en el tiempo esperado.\n",
            "Example Target Sequence :  If you want to sound like a native speaker, you must be willing to practice saying the same sentence over and over in the same way that banjo players practice the same phrase over and over until they can play it correctly and at the desired tempo.\n"
          ]
        }
      ]
    },
    {
      "cell_type": "code",
      "source": [
        ""
      ],
      "metadata": {
        "id": "pYVMCMKUJygu"
      },
      "execution_count": 5,
      "outputs": []
    }
  ]
}